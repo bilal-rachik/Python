{
  "nbformat": 4,
  "nbformat_minor": 0,
  "metadata": {
    "colab": {
      "name": "4_properties.ipynb",
      "provenance": []
    },
    "kernelspec": {
      "name": "python3",
      "display_name": "Python 3"
    },
    "language_info": {
      "name": "python"
    }
  },
  "cells": [
    {
      "cell_type": "markdown",
      "metadata": {
        "id": "cD9h8znRjR1u"
      },
      "source": [
        "## Ajouter des comportements aux données de classe avec des propriétés \n",
        "\n",
        "Tout au long de ces guide, nous nous sommes concentrés sur la séparation du comportement et des données. C'est très important dans la programmation orientée objet, mais nous sommes sur le point de voir qu'en Python, la distinction est étrangement floue. Python est très bon pour brouiller les distinctions ; cela ne nous aide pas vraiment à sortir des sentiers battus. Au contraire, cela nous apprend à arrêter de penser à la boîte. Avant d'entrer dans les détails, discutons de quelques mauvais principes de conception orientés objet. \n",
        "\n",
        "De nombreux développeurs orientés objet nous apprennent à ne jamais accéder directement aux attributs. Ils insistent pour que nous écrivions l'accès aux attributs comme ceci :"
      ]
    },
    {
      "cell_type": "code",
      "metadata": {
        "id": "068uwo9DjtZq"
      },
      "source": [
        "class Color:    \n",
        "  def __init__(self, rgb_value: int, name: str) -> None:        \n",
        "    self._rgb_value = rgb_value        \n",
        "    self._name = name    \n",
        "    \n",
        "  def set_name(self, name: str) -> None:        \n",
        "    self._name = name    \n",
        "    \n",
        "  def get_name(self) -> str:        \n",
        "    return self._name    \n",
        "    \n",
        "  def set_rgb_value(self, rgb_value: int) -> None:        \n",
        "    self._rgb_value = rgb_value    \n",
        "  \n",
        "  def get_rgb_value(self) -> int:        \n",
        "    return self._rgb_value"
      ],
      "execution_count": null,
      "outputs": []
    },
    {
      "cell_type": "markdown",
      "metadata": {
        "id": "wZfC9woej_F4"
      },
      "source": [
        "\n",
        "Les variables d'instance sont précédées d'un trait de soulignement pour suggérer qu'elles sont privées (d'autres langages les forceraient en fait à être privées). Ensuite, les méthodes get et set donnent accès à chaque variable. Cette classe serait utilisée en pratique comme suit :"
      ]
    },
    {
      "cell_type": "code",
      "metadata": {
        "colab": {
          "base_uri": "https://localhost:8080/",
          "height": 53
        },
        "id": "La8sahpzkHZn",
        "outputId": "f0187fd6-189a-4621-eb36-26bd34e46b8b"
      },
      "source": [
        "c = Color(0xff0000, \"bright red\")\n",
        "\n",
        "print(c.get_name())\n",
        "\n",
        "c.set_name(\"red\")\n",
        "c.get_name()"
      ],
      "execution_count": null,
      "outputs": [
        {
          "output_type": "stream",
          "name": "stdout",
          "text": [
            "bright red\n"
          ]
        },
        {
          "output_type": "execute_result",
          "data": {
            "application/vnd.google.colaboratory.intrinsic+json": {
              "type": "string"
            },
            "text/plain": [
              "'red'"
            ]
          },
          "metadata": {},
          "execution_count": 2
        }
      ]
    },
    {
      "cell_type": "markdown",
      "metadata": {
        "id": "Qh-6bZpKkX6W"
      },
      "source": [
        "L'exemple ci-dessus n'est pas aussi lisible que la version à accès direct que Python privilégie"
      ]
    },
    {
      "cell_type": "code",
      "metadata": {
        "id": "XjdLezM-kfx4"
      },
      "source": [
        "class Color_Py:    \n",
        "  def __init__(self, rgb_value: int, name: str) -> None:        \n",
        "    self.rgb_value = rgb_value        \n",
        "    self.name = name"
      ],
      "execution_count": null,
      "outputs": []
    },
    {
      "cell_type": "markdown",
      "metadata": {
        "id": "klN01Gq5kpxw"
      },
      "source": [
        "Voici comment fonctionne cette classe. c'est un peu plus simple."
      ]
    },
    {
      "cell_type": "code",
      "metadata": {
        "colab": {
          "base_uri": "https://localhost:8080/"
        },
        "id": "lCxJUxMwlIE1",
        "outputId": "a386fa08-0bf8-468c-84f6-8e57e9fe52c8"
      },
      "source": [
        "c = Color_Py(0xff0000, \"bright red\")\n",
        "print(c.name)\n",
        "c.name = \"red\"\n",
        "\n",
        "print(c.name)"
      ],
      "execution_count": null,
      "outputs": [
        {
          "output_type": "stream",
          "name": "stdout",
          "text": [
            "bright red\n",
            "red\n"
          ]
        }
      ]
    },
    {
      "cell_type": "markdown",
      "metadata": {
        "id": "rCUTk_NblhII"
      },
      "source": [
        "Alors, pourquoi insisterait-on sur la syntaxe basée sur la méthode ? L'idée de setters et getters semble utile pour encapsuler les définitions de classe.\n",
        "\n",
        " Certains outils basés sur Java peuvent générer automatiquement tous les getters et setters, les rendant presque invisibles. L'automatisation de leur création n'en fait pas une bonne idée. La raison historique la plus importante pour avoir des getters et des setters était de faire en sorte que la compilation séparée des binaires fonctionne de manière ordonnée. Sans avoir besoin de lier des binaires compilés séparément, cette technique ne s'applique pas toujours à Python. \n",
        " \n",
        " Une justification en cours pour les getters et les setters est que, un jour, nous pourrions vouloir ajouter du code supplémentaire lorsqu'une valeur est définie ou récupérée. Par exemple, nous pourrions décider de mettre en cache une valeur pour éviter des calculs complexes, ou nous pourrions vouloir valider qu'une valeur donnée est une entrée appropriée\n",
        "\n",
        " Par exemple, nous pourrions décider de changer la méthode set_name() comme suit"
      ]
    },
    {
      "cell_type": "code",
      "metadata": {
        "id": "Cv7A7mizl8lj"
      },
      "source": [
        "class Color_V:    \n",
        "  def __init__(self, rgb_value: int, name: str) -> None:        \n",
        "    self._rgb_value = rgb_value        \n",
        "    if not name:            \n",
        "      raise ValueError(f\"Invalid name {name!r}\")        \n",
        "      self._name = name    \n",
        "    \n",
        "  def set_name(self, name: str) -> None:        \n",
        "    if not name:            \n",
        "      raise ValueError(f\"Invalid name {name!r}\")        \n",
        "    self._name = name"
      ],
      "execution_count": null,
      "outputs": []
    },
    {
      "cell_type": "markdown",
      "metadata": {
        "id": "TMp50gTSmKYI"
      },
      "source": [
        "Si nous avions écrit notre code d'origine pour l'accès direct aux attributs, puis que nous l'avions changé plus tard en une méthode comme la précédente, nous aurions un problème : toute personne ayant écrit du code accédant directement à l'attribut devrait maintenant changer son code en accéder à une méthode. S'ils ne changeaient pas le style d'accès d'un accès aux attributs à un appel de fonction, leur code serait cassé. \n",
        "\n",
        "Le mantra selon lequel nous devrions rendre tous les attributs privés, accessibles via des méthodes, n'a pas beaucoup de sens en Python. Le langage Python manque de toute notion réelle de membres privés ! Nous pouvons voir la source; nous disons souvent \"Nous sommes tous des adultes ici.\" Que pouvons-nous faire? Nous pouvons rendre la distinction syntaxique entre attribut et méthode moins visible. \n",
        "\n",
        "Python nous donne la fonction de propriété pour créer des méthodes qui ressemblent à des attributs. Nous pouvons donc écrire notre code pour utiliser l'accès direct aux membres, et si nous devons de manière inattendue modifier l'implémentation pour effectuer un calcul lors de l'obtention ou de la définition de la valeur de cet attribut, nous pouvons le faire sans changer l'interface. Voyons à quoi cela ressemble :"
      ]
    },
    {
      "cell_type": "code",
      "metadata": {
        "id": "vRWbNvaFmnCC"
      },
      "source": [
        "class Color_VP:    \n",
        "  \n",
        "  def __init__(self, rgb_value: int, name: str) -> None:        \n",
        "    self._rgb_value = rgb_value        \n",
        "    if not name:            \n",
        "      raise ValueError(f\"Invalid name {name!r}\")        \n",
        "    self._name = name    \n",
        "    \n",
        "  def _set_name(self, name: str) -> None:        \n",
        "    if not name:            \n",
        "      raise ValueError(f\"Invalid name {name!r}\")\n",
        "    self._name = name    \n",
        "  \n",
        "  def _get_name(self) -> str:        \n",
        "    return self._name    \n",
        "  \n",
        "  name = property(_get_name, _set_name)"
      ],
      "execution_count": null,
      "outputs": []
    },
    {
      "cell_type": "markdown",
      "metadata": {
        "id": "9_t6_Sidm-qm"
      },
      "source": [
        "Par rapport à la classe précédente, nous changeons d'abord l'attribut name en un attribut _name (semi-)privé. Ensuite, nous ajoutons deux autres méthodes (semi-)privées pour obtenir et définir cette variable, en effectuant notre validation lorsque nous la définissons. \n",
        "\n",
        "Enfin, nous avons la construction de la propriété en bas. C'est la magie Python. Il crée un nouvel attribut sur la classe Color appelé name. Il définit cet attribut comme une propriété. Sous le capot, un attribut de propriété délègue le vrai travail aux deux méthodes que nous venons de créer. \n",
        "\n",
        "Lorsqu'elle est utilisée dans un contexte d'accès (à droite du = ou :=), la première fonction obtient la valeur. Lorsqu'elle est utilisée dans un contexte de mise à jour (sur le côté gauche de = ou :=), la deuxième fonction définit la valeur. Cette nouvelle version de la classe Color peut être utilisée exactement de la même manière que la version précédente, mais elle effectue maintenant une validation lorsque nous définissons l'attribut name"
      ]
    },
    {
      "cell_type": "code",
      "metadata": {
        "colab": {
          "base_uri": "https://localhost:8080/",
          "height": 363
        },
        "id": "G652gabQnUA0",
        "outputId": "17d56280-1c11-43b5-b72f-3e738ce08514"
      },
      "source": [
        "c = Color_VP(0xff0000, \"bright red\")\n",
        "\n",
        "print(c.name) \n",
        "c.name = \"red\"\n",
        "\n",
        "print(c.name)\n",
        "\n",
        "c.name = \"\""
      ],
      "execution_count": null,
      "outputs": [
        {
          "output_type": "stream",
          "name": "stdout",
          "text": [
            "bright red\n",
            "red\n"
          ]
        },
        {
          "output_type": "error",
          "ename": "ValueError",
          "evalue": "ignored",
          "traceback": [
            "\u001b[0;31m---------------------------------------------------------------------------\u001b[0m",
            "\u001b[0;31mValueError\u001b[0m                                Traceback (most recent call last)",
            "\u001b[0;32m<ipython-input-15-976cdae0ef66>\u001b[0m in \u001b[0;36m<module>\u001b[0;34m()\u001b[0m\n\u001b[1;32m      6\u001b[0m \u001b[0mprint\u001b[0m\u001b[0;34m(\u001b[0m\u001b[0mc\u001b[0m\u001b[0;34m.\u001b[0m\u001b[0mname\u001b[0m\u001b[0;34m)\u001b[0m\u001b[0;34m\u001b[0m\u001b[0;34m\u001b[0m\u001b[0m\n\u001b[1;32m      7\u001b[0m \u001b[0;34m\u001b[0m\u001b[0m\n\u001b[0;32m----> 8\u001b[0;31m \u001b[0mc\u001b[0m\u001b[0;34m.\u001b[0m\u001b[0mname\u001b[0m \u001b[0;34m=\u001b[0m \u001b[0;34m\"\"\u001b[0m\u001b[0;34m\u001b[0m\u001b[0;34m\u001b[0m\u001b[0m\n\u001b[0m",
            "\u001b[0;32m<ipython-input-14-e040f3eda56f>\u001b[0m in \u001b[0;36m_set_name\u001b[0;34m(self, name)\u001b[0m\n\u001b[1;32m      9\u001b[0m   \u001b[0;32mdef\u001b[0m \u001b[0m_set_name\u001b[0m\u001b[0;34m(\u001b[0m\u001b[0mself\u001b[0m\u001b[0;34m,\u001b[0m \u001b[0mname\u001b[0m\u001b[0;34m:\u001b[0m \u001b[0mstr\u001b[0m\u001b[0;34m)\u001b[0m \u001b[0;34m->\u001b[0m \u001b[0;32mNone\u001b[0m\u001b[0;34m:\u001b[0m\u001b[0;34m\u001b[0m\u001b[0;34m\u001b[0m\u001b[0m\n\u001b[1;32m     10\u001b[0m     \u001b[0;32mif\u001b[0m \u001b[0;32mnot\u001b[0m \u001b[0mname\u001b[0m\u001b[0;34m:\u001b[0m\u001b[0;34m\u001b[0m\u001b[0;34m\u001b[0m\u001b[0m\n\u001b[0;32m---> 11\u001b[0;31m       \u001b[0;32mraise\u001b[0m \u001b[0mValueError\u001b[0m\u001b[0;34m(\u001b[0m\u001b[0;34mf\"Invalid name {name!r}\"\u001b[0m\u001b[0;34m)\u001b[0m\u001b[0;34m\u001b[0m\u001b[0;34m\u001b[0m\u001b[0m\n\u001b[0m\u001b[1;32m     12\u001b[0m     \u001b[0mself\u001b[0m\u001b[0;34m.\u001b[0m\u001b[0m_name\u001b[0m \u001b[0;34m=\u001b[0m \u001b[0mname\u001b[0m\u001b[0;34m\u001b[0m\u001b[0;34m\u001b[0m\u001b[0m\n\u001b[1;32m     13\u001b[0m \u001b[0;34m\u001b[0m\u001b[0m\n",
            "\u001b[0;31mValueError\u001b[0m: Invalid name ''"
          ]
        }
      ]
    },
    {
      "cell_type": "markdown",
      "metadata": {
        "id": "jjY4Qe8_nxAG"
      },
      "source": [
        "Ainsi, si nous avions précédemment écrit du code pour accéder à l'attribut name, puis l'avions modifié pour utiliser notre objet basé sur la propriété, le code précédent fonctionnerait toujours. \n",
        "\n",
        "S'il tente de définir une valeur de propriété vide, c'est un comportement que nous voulions interdire. Succès ! Gardez à l'esprit que, même avec la propriété name, le code précédent n'est pas sûr à 100 %. Les utilisateurs peuvent toujours accéder directement à l'attribut _name et le définir sur une chaîne vide s'ils le souhaitent. Mais s'ils accèdent à une variable que nous avons explicitement marquée d'un trait de soulignement pour suggérer qu'elle est privée, ce sont eux qui doivent faire face aux conséquences, pas nous. Nous avons établi un contrat formel, et s'ils choisissent de rompre le contrat, ils en assument les conséquences"
      ]
    },
    {
      "cell_type": "markdown",
      "metadata": {
        "id": "iescYRnGtUTX"
      },
      "source": [
        "## Propriétés en détail\n",
        "\n",
        "Pensez à la fonction de propriété comme renvoyant un objet qui représente toutes les demandes d'obtention ou de définition de la valeur de l'attribut via les noms de méthode que nous avons spécifiés. \n",
        "\n",
        "La propriété intégrée est comme un constructeur pour un tel objet, et cet objet est défini comme membre public pour l'attribut donné. Ce constructeur de propriété peut en fait accepter deux arguments supplémentaires, une fonction de suppression et une chaîne de documentation pour la propriété. \n",
        "\n",
        "La fonction de suppression est rarement fournie en pratique, mais elle peut être utile pour enregistrer le fait qu'une valeur a été supprimée, ou éventuellement pour opposer son veto à la suppression si nous avons des raisons de le faire. \n",
        "\n",
        "La docstring est juste une chaîne décrivant ce que fait la propriété, pas différente des docstrings dont nous avons parlé au chapitre 2, Les objets en Python. Si nous ne fournissons pas ce paramètre, la docstring sera à la place copiée de la docstring pour le premier argument : la méthode getter"
      ]
    },
    {
      "cell_type": "code",
      "metadata": {
        "id": "J-Jio9e4tqH1"
      },
      "source": [
        "class NorwegianBlue:    \n",
        "  def __init__(self, name: str) -> None:        \n",
        "    self._name = name        \n",
        "    self._state: str    \n",
        "    \n",
        "  def _get_state(self) -> str:        \n",
        "    print(f\"Getting {self._name}'s State\")        \n",
        "    return self._state    \n",
        "    \n",
        "  def _set_state(self, state: str) -> None:        \n",
        "    print(f\"Setting {self._name}'s State to {state!r}\")        \n",
        "    self._state = state    \n",
        "  \n",
        "  def _del_state(self) -> None:        \n",
        "    print(f\"{self._name} is pushing up daisies!\")        \n",
        "    del self._state    \n",
        "    \n",
        "  silly = property(        \n",
        "      _get_state, \n",
        "      _set_state, \n",
        "      _del_state,         \n",
        "      \"This is a silly property\")"
      ],
      "execution_count": null,
      "outputs": []
    },
    {
      "cell_type": "markdown",
      "metadata": {
        "id": "4mws0_U4t_N_"
      },
      "source": [
        "Notez que l'attribut state a un type hint, str, mais pas de valeur initiale. Il peut être supprimé et n'existe que pendant une partie de la vie d'un NorwegianBlue. \n",
        "\n",
        "Nous devons fournir un indice pour aider mypy à comprendre ce que le type devrait être. Mais nous n'attribuons pas de valeur par défaut car c'est le travail de la méthode setter\n",
        "\n",
        "Si nous utilisons réellement une instance de cette classe, elle affiche en effet les chaînes correctes lorsque nous lui demandons "
      ]
    },
    {
      "cell_type": "code",
      "metadata": {
        "colab": {
          "base_uri": "https://localhost:8080/"
        },
        "id": "O-FWHVwEuPny",
        "outputId": "2460ce48-8a55-4d1e-f5cf-1e54a9a9e8ec"
      },
      "source": [
        "p = NorwegianBlue(\"Polly\")\n",
        "\n",
        "p.silly = \"Pining for the fjords\""
      ],
      "execution_count": null,
      "outputs": [
        {
          "output_type": "stream",
          "name": "stdout",
          "text": [
            "Setting Polly's State to 'Pining for the fjords'\n"
          ]
        }
      ]
    },
    {
      "cell_type": "code",
      "metadata": {
        "colab": {
          "base_uri": "https://localhost:8080/",
          "height": 53
        },
        "id": "kSOFhKcsuenE",
        "outputId": "68a3950f-fb0a-428e-e210-21b9d34ab216"
      },
      "source": [
        "p.silly"
      ],
      "execution_count": null,
      "outputs": [
        {
          "output_type": "stream",
          "name": "stdout",
          "text": [
            "Getting Polly's State\n"
          ]
        },
        {
          "output_type": "execute_result",
          "data": {
            "application/vnd.google.colaboratory.intrinsic+json": {
              "type": "string"
            },
            "text/plain": [
              "'Pining for the fjords'"
            ]
          },
          "metadata": {},
          "execution_count": 18
        }
      ]
    },
    {
      "cell_type": "code",
      "metadata": {
        "colab": {
          "base_uri": "https://localhost:8080/"
        },
        "id": "D5URa4Mculyk",
        "outputId": "c9623818-bbd0-4951-e01b-cf0415634bf0"
      },
      "source": [
        "del p.silly"
      ],
      "execution_count": null,
      "outputs": [
        {
          "output_type": "stream",
          "name": "stdout",
          "text": [
            "Polly is pushing up daisies!\n"
          ]
        }
      ]
    },
    {
      "cell_type": "markdown",
      "metadata": {
        "id": "bgRFF5bousRm"
      },
      "source": [
        "## Décorateurs – une autre façon de créer des propriétés\n",
        "\n",
        "Nous pouvons créer des propriétés à l'aide de décorateurs. Cela rend les définitions plus faciles à lire. Les décorateurs sont une caractéristique omniprésente de la syntaxe Python, avec une variété d'objectifs. Pour la plupart, les décorateurs modifient la définition de fonction qu'ils précèdent. Nous examinerons le modèle de conception du décorateur plus largement au guide 11, Modèles de conception communs. La fonction de propriété peut être utilisée avec la syntaxe du décorateur pour transformer une méthode get en un attribut de propriété, comme suit"
      ]
    },
    {
      "cell_type": "code",
      "metadata": {
        "id": "fKtE5VA2u9V9"
      },
      "source": [
        "class NorwegianBlue_P:    \n",
        "  def __init__(self, name: str) -> None:        \n",
        "    self._name = name        \n",
        "    self._state: str\n",
        "\n",
        "  @property    \n",
        "  def silly(self) -> str:        \n",
        "    print(f\"Getting {self._name}'s State\")        \n",
        "    return self._state"
      ],
      "execution_count": null,
      "outputs": []
    },
    {
      "cell_type": "markdown",
      "metadata": {
        "id": "Rxsj7Y0mwOkw"
      },
      "source": [
        "Cela applique la fonction de propriété en tant que décorateur à la fonction qui suit. \n",
        "\n",
        "Elle est équivalente à la syntaxe précédente silly = property(_get_state). La principale différence, du point de vue de la lisibilité, est que nous pouvons marquer la méthode stilly comme une propriété en haut de la méthode, au lieu d'après sa définition, où elle peut être facilement ignorée. \n",
        "\n",
        "Cela signifie également que nous n'avons pas à créer de méthodes privées avec des préfixes de soulignement juste pour définir une propriété. Pour aller plus loin, nous pouvons spécifier une fonction de définition pour la nouvelle propriété comme suit"
      ]
    },
    {
      "cell_type": "code",
      "metadata": {
        "id": "WSLMOO10wdpO"
      },
      "source": [
        "class NorwegianBlue_P:    \n",
        "  def __init__(self, name: str) -> None:        \n",
        "    self._name = name        \n",
        "    self._state: str\n",
        "\n",
        "  @property    \n",
        "  def silly(self) -> str:        \n",
        "    print(f\"Getting {self._name}'s State\")        \n",
        "    return self._state\n",
        "    \n",
        "  @silly.setter    \n",
        "  def silly(self, state: str) -> None:\n",
        "    print(f\"Setting {self._name}'s State to {state!r}\")        \n",
        "    self._state = state"
      ],
      "execution_count": null,
      "outputs": []
    },
    {
      "cell_type": "markdown",
      "metadata": {
        "id": "aQN8pJoHwuUD"
      },
      "source": [
        "Cette syntaxe, @silly.setter, semble étrange par rapport à @property, bien que l'intention doive être claire. Tout d'abord, nous décorons la méthode silly comme un getter. Ensuite, nous décorons une deuxième méthode avec exactement le même nom en appliquant l'attribut setter de la méthode silly décorée à l'origine ! \n",
        "\n",
        "\n",
        "Cela fonctionne car la fonction de propriété renvoie un objet ; cet objet a également son propre attribut setter, qui peut ensuite être appliqué comme décorateur à d'autres méthodes. L'utilisation du même nom pour les méthodes get et set permet de regrouper les multiples méthodes qui accèdent à un attribut commun. Nous pouvons également spécifier une fonction de suppression avec @silly.deleter. Voici à quoi cela ressemble\n"
      ]
    },
    {
      "cell_type": "code",
      "metadata": {
        "id": "AjAAuY6NxAel"
      },
      "source": [
        "class NorwegianBlue_P:    \n",
        "  def __init__(self, name: str) -> None:        \n",
        "    self._name = name        \n",
        "    self._state: str\n",
        "\n",
        "  @property    \n",
        "  def silly(self) -> str:        \n",
        "    print(f\"Getting {self._name}'s State\")        \n",
        "    return self._state\n",
        "      \n",
        "  @silly.setter    \n",
        "  def silly(self, state: str) -> None:\n",
        "    print(f\"Setting {self._name}'s State to {state!r}\")        \n",
        "    self._state = state\n",
        "\n",
        "  @silly.deleter\n",
        "  def silly(self) -> None:    \n",
        "    print(f\"{self._name} is pushing up daisies!\")    \n",
        "    del self._state"
      ],
      "execution_count": null,
      "outputs": []
    }
  ]
}