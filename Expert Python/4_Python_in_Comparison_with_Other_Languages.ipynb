{
  "nbformat": 4,
  "nbformat_minor": 0,
  "metadata": {
    "colab": {
      "name": "4-Python in Comparison with Other Languages.ipynb",
      "provenance": []
    },
    "kernelspec": {
      "name": "python3",
      "display_name": "Python 3"
    },
    "language_info": {
      "name": "python"
    }
  },
  "cells": [
    {
      "cell_type": "markdown",
      "source": [
        "# Python en comparaison avec d'autres langages \n",
        "\n",
        "De nombreux programmeurs viennent à Python avec une expérience préalable d'autres langages de programmation. Il arrive souvent qu'ils connaissent déjà les idiomes de programmation de ces langages et essaient de les reproduire en Python. Comme chaque langage de programmation est unique, l'apport de tels idiomes étrangers conduit souvent à un code trop verbeux ou sous-optimal.\n",
        "\n",
        " L'exemple classique d'un idiome étranger souvent utilisé par des programmeurs inexpérimentés est l'itération sur des listes. Une personne familiarisée avec les tableaux en langage C pourrait écrire du code Python similaire à l'exemple suivant :"
      ],
      "metadata": {
        "id": "8RnwG7RJGntI"
      }
    },
    {
      "cell_type": "code",
      "source": [
        "for index in range(len(some_list)):    \n",
        "  print(some_list[index])"
      ],
      "metadata": {
        "id": "Y6oIrDMFG8RY"
      },
      "execution_count": null,
      "outputs": []
    },
    {
      "cell_type": "markdown",
      "source": [
        "Un programmeur Pythonic expérimenté écrirait probablement :"
      ],
      "metadata": {
        "id": "Yi0gLcn8HC2y"
      }
    },
    {
      "cell_type": "code",
      "source": [
        "for item in some_list:    \n",
        "  print(item)"
      ],
      "metadata": {
        "id": "WPUTGM13HHIA"
      },
      "execution_count": null,
      "outputs": []
    },
    {
      "cell_type": "markdown",
      "source": [
        "Les langages de programmation sont souvent classés par paradigmes qui peuvent être compris comme des ensembles cohérents de fonctionnalités prenant en charge certains « styles de programmation ». Python est un langage multiparadigme et grâce à cela, il partage de nombreuses similitudes avec une grande quantité d'autres langages de programmation. Par conséquent, vous pouvez écrire et structurer votre code Python presque de la même manière que vous le feriez en Java, C++ ou tout autre langage de programmation courant.\n",
        "\n",
        "\n",
        "Malheureusement, cela ne sera souvent pas aussi efficace que d'utiliser des modèles Python bien connus. Connaître les idiomes natifs vous permet d'écrire du code plus lisible et efficace. Ce chapitre est destiné aux programmeurs expérimentés avec d'autres langages de programmation. Nous passerons en revue certaines des fonctionnalités importantes de Python ainsi que des moyens idiomatiques de résoudre des problèmes courants. Nous verrons également comment ceux-ci se comparent à d'autres langages de programmation et quels pièges courants se cachent pour les programmeurs chevronnés qui commencent tout juste leur voyage Python. \n",
        "\n",
        "En cours de route, nous aborderons les sujets suivants :\n",
        "\n",
        "* Modèle de classe et programmation orientée objet\n",
        "* Polymorphisme dynamique\n",
        "* Classes de données\n",
        "* Programmation fonctionnelle\n",
        "* Énumérations"
      ],
      "metadata": {
        "id": "DKUSsbi_HL5v"
      }
    },
    {
      "cell_type": "markdown",
      "source": [
        "## Modèle de classe et programmation orientée objet \n",
        "\n",
        "Le paradigme le plus répandu de Python est la programmation orientée objet (également connue sous le nom de POO). Il est centré sur des objets qui encapsulent des données (sous la forme d'attributs d'objets) et des comportements (sous la forme de méthodes). La POO est probablement l'un des paradigmes les plus divers. Il a de nombreux styles, saveurs et implémentations qui ont été développés au cours de nombreuses années d'histoire de la programmation. Python s'inspire de nombreux autres langages. \n",
        "\n",
        "Dans cette section, nous examinerons donc l'implémentation de la POO en Python à travers le prisme de différents langages. Pour faciliter la réutilisation, l'extensibilité et la modularité du code, les langages POO fournissent généralement un moyen pour soit composition de classe ou héritage. Python n'est pas différent et, comme de nombreux autres langages orientés objet, prend en charge la sous-classification des types.\n",
        "\n",
        "Python n'a peut-être pas autant de fonctionnalités orientées objet que les autres langages POO, mais il possède un modèle de données et de classes assez flexible qui vous permet d'implémenter la plupart des modèles POO avec une extrême élégance. De plus, tout en Python est un objet, y compris les fonctions et les définitions de classes et les valeurs de base comme les entiers, les nombres flottants, les booléens et les chaînes. \n",
        "\n",
        "Si nous souhaitons trouver un autre langage de programmation populaire qui a des fonctionnalités de syntaxe orientée objet similaires et un modèle de données similaire, l'une des correspondances les plus proches serait probablement Kotlin, qui est un langage qui s'exécute (principalement) sur Java Virtual Machine (JVM). Voici les similitudes entre Kotlin et Python :\n",
        "\n",
        "* Un moyen pratique d'appeler des méthodes de super-classes : Kotlin fournit le mot-clé super et Python fournit la fonction super() pour référencer explicitement les méthodes ou les attributs des super-classes.\n",
        "\n",
        "* Une expression pour auto-référence d'objet : Kotlin fournit l'expression this, qui fait toujours référence à l'objet actuel de la classe. En Python, le premier argument de la méthode est toujours une référence d'instance. Par convention, il s'appelle self.\n",
        "\n",
        "* Prise en charge de la création de classes de données : comme Python, Kotlin fournit des classes de données en tant que \"sucre syntaxique\" par rapport aux définitions de classes classiques pour simplifier la création de structures de données basées sur des classes qui ne sont pas censées transmettre une beaucoup de comportement.\n",
        "\n",
        "* Le concept de propriétés : Kotlin vous permet de définir les setters et les getters de propriétés de classe comme des fonctions. Python fournit le décorateur property() avec un objectif similaire, ainsi que le concept de descripteurs, ce qui vous permet de personnaliser entièrement l'accès aux attributs d'un objet\n",
        "\n",
        "Ce qui distingue vraiment Python en termes d'implémentation de la POO, c'est l'approche de l'héritage. Python, contrairement à Kotlin et à de nombreux autres langages, autorise librement l'héritage multiple (bien que ce ne soit souvent pas une bonne idée). D'autres langages ne le permettent souvent pas ou fournissent certaines contraintes. Un autre différenciateur Python important est le manque de mots-clés privés/publics qui contrôleraient l'accès aux attributs d'objet internes en dehors de la définition de classe. Examinons de plus près une fonctionnalité que Python partage avec Kotlin et d'autres langages de programmation basés sur JVM, qui est l'accès aux super-classes via l'appel super()"
      ],
      "metadata": {
        "id": "1QtNQ_zDNh2w"
      }
    },
    {
      "cell_type": "markdown",
      "source": [
        "## Accéder aux super-classes \n",
        "\n",
        "Il existe plusieurs façons d'encapsuler le comportement d'un objet dans les langages POO, mais l'une des plus courantes est l'utilisation de classes. L'implémentation POO de Python est basée précisément sur le concept de classes et de sous-classement. \n",
        "\n",
        "Le sous-classement est un moyen pratique de réutiliser des classes existantes en améliorant ou en spécialisant leur comportement. Les sous-classes s'appuient souvent sur le comportement de leurs classes de base mais les étendent avec des méthodes supplémentaires ou fournissent des implémentations complètement nouvelles pour les méthodes existantes en remplaçant leurs définitions.\n",
        "\n",
        "C'est pourquoi Python propose la fonction super(), qui renvoie un objet proxy aux implémentations de méthode dans toutes les classes de base. Pour mieux comprendre le potentiel de la fonction super(), imaginons que nous voulions sous-classer un type de dictionnaire Python pour permettre l'accès aux clés stockées via une recherche de clé insensible à la casse. \n",
        "\n",
        "Vous pouvez l'utiliser, par exemple, pour stocker les valeurs d'en-tête du protocole HTTP, car la spécification du protocole HTTP stipule que les noms d'en-tête ne sont pas sensibles à la casse. \n",
        "\n",
        "Voici un exemple simple d'implémentation d'une telle structure en Python par sous-classement :"
      ],
      "metadata": {
        "id": "DiFlgK3Jh_t9"
      }
    },
    {
      "cell_type": "code",
      "source": [
        "from collections import UserDict\n",
        "from typing import Any\n",
        "\n",
        "class CaseInsensitiveDict(UserDict):    \n",
        "  def __setitem__(self, key: str, value: Any):        \n",
        "    return super().__setitem__(key.lower(), value)     \n",
        "    \n",
        "  def __getitem__(self, key: str) -> Any:        \n",
        "    return super().__getitem__(key.lower())    \n",
        "  \n",
        "  def __delitem__(self, key: str) -> None:        \n",
        "    return super().__delitem__(key.lower())"
      ],
      "metadata": {
        "id": "13oZtJq7k93w"
      },
      "execution_count": 3,
      "outputs": []
    },
    {
      "cell_type": "markdown",
      "source": [
        "Notre implémentation de CaseInsensibleDict repose sur collections.UserDict au lieu du type dict intégré. Bien qu'il soit possible d'hériter du type dict, nous rencontrerions rapidement des incohérences car le type dict intégré n'appelle pas toujours __setitem__() pour mettre à jour son état. Plus important encore, il ne sera pas utilisé lors de l'initialisation de l'objet et des appels de la méthode update(). Des problèmes similaires peuvent survenir lors de la sous-classe du type de liste. C'est pourquoi les bonnes pratiques dictent d'utiliser les classes collections.UserDict pour sous-classer le type dict et collections.UserList pour sous-classer le type liste.\n",
        "\n",
        "\n",
        "Le cœur du comportement modifié du dictionnaire se produit dans __getitem__(self, item : str) et __setitem__(self, key : str, value : Any). Ce sont des méthodes responsables respectivement de l'accès aux éléments du dictionnaire à l'aide de dictionnaire[clé] et de la définition des valeurs du dictionnaire à l'aide de la syntaxe dictionnaire[clé] = valeur. Les annotations de typage nous aident à indiquer que les clés doivent être des chaînes, mais que les valeurs peuvent être de n'importe quel type Python.\n",
        "\n",
        " __setitem__() est responsable du stockage et de la modification des valeurs du dictionnaire. Cela n'aurait aucun sens de sous-classer le type de dictionnaire de base et de ne pas tirer parti de son stockage interne de clé-valeur. C'est pourquoi nous utilisons super().__setitem__() pour invoquer l'implémentation originale de set-item. Mais avant d'autoriser le stockage de la valeur, nous transformons la clé en minuscules à l'aide de la méthode str.lower(). De cette façon, nous nous assurons que toutes les clés stockées dans le dictionnaire seront toujours en minuscules. \n",
        " \n",
        " La méthode __getitem__() est analogue à l'implémentation __setitem__(). Nous savons que chaque clé est transformée en minuscule avant d'être stockée dans un dictionnaire. Grâce à cela, lorsque la recherche de clé se produit, nous pouvons également la transformer en minuscules. Si la super implémentation de la méthode __getitem__() ne renvoie pas le résultat, nous pouvons être sûrs qu'il n'y a pas de correspondance insensible à la casse dans le dictionnaire. \n",
        " \n",
        "Enfin et surtout, la méthode __delitem__() supprime les clés de dictionnaire existantes. Il utilise la même technique pour transformer une clé en minuscules et invoquer une implémentation de super-classe. Grâce à cela, nous pourrons supprimer les clés du dictionnaire à l'aide de l'instruction del dictionary[key]. \n",
        "\n",
        "La transcription suivante montre une recherche de clé insensible à la casse de notre classe en action :"
      ],
      "metadata": {
        "id": "pAN0wQfolQ2m"
      }
    },
    {
      "cell_type": "code",
      "source": [
        "headers = CaseInsensitiveDict({\n",
        "    \"Content-Length\": 30,\n",
        "    \"Content-Type\": \"application/json\"\n",
        "    })\n",
        "\n",
        "print(headers[\"CONTENT-LENGTH\"])\n",
        "print(headers[\"content-type\"])"
      ],
      "metadata": {
        "colab": {
          "base_uri": "https://localhost:8080/"
        },
        "id": "9FnakxyQ8Zjn",
        "outputId": "b22ae813-1214-4740-d9ef-9bcf2a5a5d6e"
      },
      "execution_count": 4,
      "outputs": [
        {
          "output_type": "stream",
          "name": "stdout",
          "text": [
            "30\n",
            "application/json\n"
          ]
        }
      ]
    },
    {
      "cell_type": "markdown",
      "source": [
        "Le cas d'utilisation ci-dessus pour la fonction super() devrait être simple à suivre et à comprendre, mais les choses deviennent un peu plus complexes lorsque plusieurs héritages sont impliqués. Python vous permet d'utiliser l'héritage multiple en introduisant le Method Resolution Order (MRO). Nous y reviendrons plus en détail dans la section suivante"
      ],
      "metadata": {
        "id": "aSE3daGO8ubC"
      }
    },
    {
      "cell_type": "markdown",
      "source": [
        "## Héritage multiple et résolution de méthode Order\n",
        "\n",
        "Python MRO est basé sur la linéarisation C3, l'algorithme MRO déterministe créé à l'origine pour le langage de programmation Dylan. L'algorithme C3 construit la linéarisation d'une classe, aussi appelée précédence, qui est une liste ordonnée des ancêtres. Cette liste permet de rechercher un attribut dans un arbre d'héritage de classe.\n",
        "\n",
        "Python n'avait pas l'algorithme de linéarisation C3 comme MRO depuis le début. Il a été introduit dans Python 2.3 avec un type de base commun pour tous les objets (c'est-à-dire le type d'objet). Avant le passage à la méthode de linéarisation C3, si une classe avait deux ancêtres (voir Figure 4.1), l'ordre dans lequel les méthodes étaient résolues n'était facile à calculer et à suivre que pour les cas simples qui n'utilisaient pas de modèle d'héritage multiple dans un manière en cascade.\n",
        "\n",
        "Voici un exemple de modèle d'héritage multiple simple qui ne nécessiterait aucun MRO spécial :"
      ],
      "metadata": {
        "id": "48MW4pNt86Vd"
      }
    },
    {
      "cell_type": "code",
      "source": [
        "class Base1:     \n",
        "  pass       \n",
        "\n",
        "\n",
        "class Base2:    \n",
        "  def method(self):        \n",
        "    print(\"Base2.method() called\")\n",
        "\n",
        "\n",
        "class MyClass(Base1, Base2):    \n",
        "  pass"
      ],
      "metadata": {
        "id": "8ZagwaIP9YIm"
      },
      "execution_count": 5,
      "outputs": []
    },
    {
      "cell_type": "markdown",
      "source": [
        "Avant Python 2.3, il s'agissait d'une simple recherche en profondeur d'abord sur un arbre hiérarchique de classes. En d'autres termes, lorsque MyClass().method() est appelée, l'interpréteur recherche la méthode dans MyClass, puis Base1, puis la trouve finalement dans Base2\n",
        "\n",
        "![image.png](data:image/png;base64,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)\n",
        "\n",
        "\n",
        "Lorsque nous introduisons une classe CommonBase au sommet de notre hiérarchie de classes (reportez-vous à la figure 4.2), les choses deviennent plus compliquées :"
      ],
      "metadata": {
        "id": "ueIRXrpd9kKI"
      }
    },
    {
      "cell_type": "code",
      "source": [
        "class CommonBase:    \n",
        "  pass\n",
        "\n",
        "\n",
        "class Base1(CommonBase):     \n",
        "  pass       \n",
        "\n",
        "class Base2(CommonBase):    \n",
        "  def method(self):        \n",
        "    print(\"Base2.method() called\")\n",
        "  \n",
        "class MyClass(Base1, Base2):     \n",
        "  pass"
      ],
      "metadata": {
        "id": "vYj0Nf-696vf"
      },
      "execution_count": null,
      "outputs": []
    },
    {
      "cell_type": "markdown",
      "source": [
        "Par conséquent, l'ordre de résolution simple qui se comporte selon la règle de profondeur de gauche à droite revient en premier à travers la classe Base1 avant d'examiner la classe Base2. Cet algorithme produit une sortie contre-intuitive. Sans la linéarisation C3, la méthode exécutée ne serait pas celle qui est la plus proche dans l'arbre d'héritage\n",
        "\n",
        "![image.png](data:image/png;base64,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)"
      ],
      "metadata": {
        "id": "m97uVGW1-F7W"
      }
    },
    {
      "cell_type": "markdown",
      "source": [
        "Un tel scénario d'héritage (connu sous le nom de hiérarchie de classe diamant) est plutôt rare pour les classes personnalisées. La bibliothèque standard ne structure généralement pas les hiérarchies d'héritage de cette manière, et de nombreux développeurs pensent que c'est une mauvaise pratique. C'est possible avec Python de toute façon et nécessite donc une stratégie de manipulation bien définie et claire.\n",
        "\n",
        "De plus, à partir de Python 2.3, l'objet est au sommet de la hiérarchie des types pour les classes. Essentiellement, chaque classe fait partie d'une grande hiérarchie d'héritage de classe diamant. C'est devenu quelque chose qui doit également être résolu du côté C du langage. C'est pourquoi Python a maintenant la linéarisation C3 comme algorithme MRO."
      ],
      "metadata": {
        "id": "9Z9qqNjf-XRO"
      }
    },
    {
      "cell_type": "markdown",
      "source": [
        "## Initialisation d'instance de classe \n",
        "\n",
        "Un objet en POO est une entité qui encapsule des données avec un comportement. En Python, les données sont contenues sous forme d'attributs d'objet, qui sont simplement des variables d'objet. Le comportement, quant à lui, est représenté par des méthodes. C'est commun à presque tous les langages POO, mais la nomenclature exacte est parfois différente. Par exemple, en C++ et Java, les données d'objet sont dites stockées dans des champs. Dans Kotlin, les données d'objet sont stockées derrière des propriétés (bien qu'elles soient un peu plus que de simples variables d'objet).\n",
        "\n",
        "Ce qui différencie Python des langages POO à typage statique est son approche de la déclaration et de l'initialisation des attributs d'objet. En bref, les classes Python ne nécessitent pas que vous définissiez des attributs dans le corps de la classe. Une variable existe au moment où elle est initialisée. C'est pourquoi la manière canonique de déclarer les attributs d'objet consiste à attribuer leurs valeurs lors de l'initialisation de l'objet dans la méthode __init__() :"
      ],
      "metadata": {
        "id": "s7pLDoiV_Mn0"
      }
    },
    {
      "cell_type": "code",
      "source": [
        "class Point:   \n",
        "  def __init__(self, x, y):      \n",
        "    self.x = x      \n",
        "    self.y = y"
      ],
      "metadata": {
        "id": "iZQNvOcV_rcC"
      },
      "execution_count": null,
      "outputs": []
    },
    {
      "cell_type": "markdown",
      "source": [
        "Cela peut être déroutant pour ceux qui viennent à Python avec une connaissance préalable des langages de programmation à typage statique. Dans ces langages, la déclaration des champs d'objet est généralement statique et vit en dehors de la fonction d'initialisation de l'objet. C'est pourquoi les programmeurs ayant une formation en C++ ou Java ont souvent tendance à reproduire ce modèle en affectant des valeurs par défaut en tant qu'attributs de classe dans le corps de la classe principale :"
      ],
      "metadata": {
        "id": "yRZIM4JJ_0D4"
      }
    },
    {
      "cell_type": "code",
      "source": [
        "class Point:  \n",
        "  x = 0\n",
        "  y = 0 \n",
        "  def __init__(self, x, y):      \n",
        "    self.x = x      \n",
        "    self.y = y"
      ],
      "metadata": {
        "id": "9n2He8sY_-wd"
      },
      "execution_count": null,
      "outputs": []
    },
    {
      "cell_type": "markdown",
      "source": [
        "Le code ci-dessus est un exemple classique d'idiome de langue étrangère répliqué en Python. Surtout, il est redondant : les valeurs des attributs de classe seront toujours masquées par les attributs d'objet lors de l'initialisation. Mais c'est aussi une odeur de code dangereuse : cela peut conduire à des erreurs problématiques si l'on décide d'assigner comme attribut de classe un type mutable comme list ou dict\n",
        "\n",
        "    Une odeur de code est une caractéristique du code qui peut être le signe\n",
        "    d'un problème plus profond. Un morceau de code spécifique peut être\n",
        "    fonctionnellement correct et exempt d'erreurs, mais peut être un tampon\n",
        "    pour de futurs problèmes. Les odeurs de code sont généralement de petites\n",
        "    lacunes architecturales ou des constructions dangereuses qui attirent les\n",
        "    bogues\n",
        "\n",
        "Le problème vient du fait que les attributs de classe (attributs affectés en dehors du corps de la méthode) sont affectés à des objets de type et non à des instances de type. Lors de l'accès à un attribut avec self.attribute, Python recherchera d'abord la valeur de l'attribut name dans l'espace de noms de l'instance de classe. Si cette recherche échoue, elle effectuera une recherche dans l'espace de noms du type de classe. Lors de l'attribution de valeurs via self.attribute depuis la méthode de classe, le comportement est complètement différent : de nouvelles valeurs sont toujours attribuées dans l'espace de noms de l'instance de classe. Ceci est particulièrement gênant avec les types mutables car cela peut provoquer une fuite accidentelle de l'état de l'objet entre les instances de classe\n",
        "\n",
        "Étant donné que l'utilisation de types mutables comme attributs de classe au lieu d'attributs d'instance est plutôt une mauvaise pratique, il est difficile de trouver des exemples de code qui seraient pratiques. Mais cela ne signifie pas que nous ne pouvons pas examiner rapidement comment cela fonctionne réellement. Considérez la classe suivante, qui est censée agréger les valeurs sous forme de liste et suivre la dernière valeur agrégée :"
      ],
      "metadata": {
        "id": "6t4KaSkpAFtL"
      }
    },
    {
      "cell_type": "code",
      "source": [
        "class Aggregator:    \n",
        "  all_aggregated = []    \n",
        "  last_aggregated = None    \n",
        "\n",
        "  def aggregate(self, value):        \n",
        "    self.last_aggregated = value        \n",
        "    self.all_aggregated.append(value)"
      ],
      "metadata": {
        "id": "A3DaV81mBApQ"
      },
      "execution_count": 8,
      "outputs": []
    },
    {
      "cell_type": "markdown",
      "source": [
        "Pour voir où se situe le problème, commençons une session interactive, créons deux agrégateurs distincts et commençons à agréger les éléments :"
      ],
      "metadata": {
        "id": "wvUVOFMjBJWX"
      }
    },
    {
      "cell_type": "code",
      "source": [
        "a1 = Aggregator()\n",
        "a2 = Aggregator()\n",
        "\n",
        "a1.aggregate(\"a1-1\")\n",
        "a1.aggregate(\"a1-2\")\n",
        "a2.aggregate(\"a2-1\")"
      ],
      "metadata": {
        "id": "NnVMqo40BPAm"
      },
      "execution_count": 9,
      "outputs": []
    },
    {
      "cell_type": "markdown",
      "source": [
        "Si nous examinons maintenant les listes d'agrégation des deux instances, nous verrons une sortie très inquiétante :"
      ],
      "metadata": {
        "id": "Aa1wiRyXBhm2"
      }
    },
    {
      "cell_type": "code",
      "source": [
        "a1.all_aggregated"
      ],
      "metadata": {
        "colab": {
          "base_uri": "https://localhost:8080/"
        },
        "id": "HIWlj6VtBlvP",
        "outputId": "a75c843f-3539-4e7f-f0c8-cbbbe6a73767"
      },
      "execution_count": 10,
      "outputs": [
        {
          "output_type": "execute_result",
          "data": {
            "text/plain": [
              "['a1-1', 'a1-2', 'a2-1']"
            ]
          },
          "metadata": {},
          "execution_count": 10
        }
      ]
    },
    {
      "cell_type": "code",
      "source": [
        "a2.all_aggregated"
      ],
      "metadata": {
        "colab": {
          "base_uri": "https://localhost:8080/"
        },
        "id": "CwGn4EovBpsf",
        "outputId": "9274753c-f107-4898-ea59-1b5cb4932989"
      },
      "execution_count": 11,
      "outputs": [
        {
          "output_type": "execute_result",
          "data": {
            "text/plain": [
              "['a1-1', 'a1-2', 'a2-1']"
            ]
          },
          "metadata": {},
          "execution_count": 11
        }
      ]
    },
    {
      "cell_type": "markdown",
      "source": [
        "Quelqu'un qui lit le code pourrait penser que toutes les instances Aggregator sont censées suivre l'historique de leurs propres agrégations. Mais nous voyons qu'à la place, toutes les instances d'agrégateur partagent l'état de l'attribut all_aggregated. D'autre part, lorsque l'on regarde les dernières valeurs agrégées, on voit des valeurs correctes pour les deux agrégateurs :"
      ],
      "metadata": {
        "id": "bP28G8sgBz_R"
      }
    },
    {
      "cell_type": "code",
      "source": [
        "a1.last_aggregated"
      ],
      "metadata": {
        "colab": {
          "base_uri": "https://localhost:8080/",
          "height": 36
        },
        "id": "7FuENO5WCDRW",
        "outputId": "43d0ab11-4137-4e84-fce3-0d89e28ed16c"
      },
      "execution_count": 13,
      "outputs": [
        {
          "output_type": "execute_result",
          "data": {
            "text/plain": [
              "'a1-2'"
            ],
            "application/vnd.google.colaboratory.intrinsic+json": {
              "type": "string"
            }
          },
          "metadata": {},
          "execution_count": 13
        }
      ]
    },
    {
      "cell_type": "code",
      "source": [
        "\n",
        "a2.last_aggregated"
      ],
      "metadata": {
        "colab": {
          "base_uri": "https://localhost:8080/",
          "height": 36
        },
        "id": "8B1GEzn_CGU_",
        "outputId": "3a2a5c99-9a53-419d-b6ca-26fbe0c6c3f3"
      },
      "execution_count": 14,
      "outputs": [
        {
          "output_type": "execute_result",
          "data": {
            "text/plain": [
              "'a2-1'"
            ],
            "application/vnd.google.colaboratory.intrinsic+json": {
              "type": "string"
            }
          },
          "metadata": {},
          "execution_count": 14
        }
      ]
    },
    {
      "cell_type": "markdown",
      "source": [
        "Dans de telles situations, il est facile de résoudre le mystère en inspectant les valeurs d'attribut de classe non liées :"
      ],
      "metadata": {
        "id": "YTh91g9wCNEx"
      }
    },
    {
      "cell_type": "code",
      "source": [
        "Aggregator.all_aggregated"
      ],
      "metadata": {
        "colab": {
          "base_uri": "https://localhost:8080/"
        },
        "id": "c8DxRysxCR6O",
        "outputId": "1e76b737-233f-4a06-b349-6099d6b77498"
      },
      "execution_count": 15,
      "outputs": [
        {
          "output_type": "execute_result",
          "data": {
            "text/plain": [
              "['a1-1', 'a1-2', 'a2-1']"
            ]
          },
          "metadata": {},
          "execution_count": 15
        }
      ]
    },
    {
      "cell_type": "code",
      "source": [
        "Aggregator.last_aggregated"
      ],
      "metadata": {
        "id": "0IWyhZd6CVgW"
      },
      "execution_count": 16,
      "outputs": []
    },
    {
      "cell_type": "markdown",
      "source": [
        "Comme nous le voyons dans la transcription ci-dessus, toutes les instances Aggregator ont partagé leur état via l'attribut modifiable Aggregator.all_aggregated. Quelque chose comme cela pourrait être le comportement prévu, mais très souvent, il ne s'agit que d'un exemple d'erreur parfois difficile à détecter. De ce fait, toutes les valeurs d'attribut censées être uniques pour chaque instance de classe doivent absolument être initialisées dans la méthode __init__() uniquement.\n",
        "\n",
        "La version fixe de la classe Aggregator serait la suivante"
      ],
      "metadata": {
        "id": "pJLrCbulCkvr"
      }
    },
    {
      "cell_type": "code",
      "source": [
        "class Aggregator:    \n",
        "  def __init__(self):        \n",
        "    self.all_aggregated = []        \n",
        "    self.last_aggregated = None   \n",
        "  \n",
        "  def aggregate(self, value):        \n",
        "    self.last_aggregated = value        \n",
        "    self.all_aggregated.append(value)"
      ],
      "metadata": {
        "id": "vGOQqKlpC6u-"
      },
      "execution_count": null,
      "outputs": []
    },
    {
      "cell_type": "markdown",
      "source": [
        "Nous avons simplement déplacé l'initialisation des attributs all_aggregated et last_aggregated vers la méthode __init__(). Répétons maintenant les mêmes appels d'initialisation et d'agrégation que dans la session précédente :"
      ],
      "metadata": {
        "id": "4r8mX_C1DF3Y"
      }
    },
    {
      "cell_type": "code",
      "source": [
        "a1 = Aggregator()\n",
        "a2 = Aggregator()\n",
        "\n",
        "a1.aggregate(\"a1-1\")\n",
        "a1.aggregate(\"a1-2\")\n",
        "a2.aggregate(\"a2-1\")"
      ],
      "metadata": {
        "id": "tEE_icakDM3e"
      },
      "execution_count": 17,
      "outputs": []
    },
    {
      "cell_type": "markdown",
      "source": [
        "Si nous inspectons maintenant l'état des instances Aggregator, nous verrons qu'elles suivent indépendamment l'historique de leurs agrégations :"
      ],
      "metadata": {
        "id": "eNXm8RM6DRPd"
      }
    },
    {
      "cell_type": "code",
      "source": [
        "a1.all_aggregated"
      ],
      "metadata": {
        "colab": {
          "base_uri": "https://localhost:8080/"
        },
        "id": "pkToGb_hDV62",
        "outputId": "33e8c4e1-e3dd-43e0-fc1a-c5d1f03a6042"
      },
      "execution_count": 18,
      "outputs": [
        {
          "output_type": "execute_result",
          "data": {
            "text/plain": [
              "['a1-1', 'a1-2', 'a2-1', 'a1-1', 'a1-2', 'a2-1']"
            ]
          },
          "metadata": {},
          "execution_count": 18
        }
      ]
    },
    {
      "cell_type": "code",
      "source": [
        "a2.all_aggregated"
      ],
      "metadata": {
        "colab": {
          "base_uri": "https://localhost:8080/"
        },
        "id": "g4Q1V0RJDW84",
        "outputId": "770fd6e4-df1e-43db-aeba-6f0697ecdbda"
      },
      "execution_count": 19,
      "outputs": [
        {
          "output_type": "execute_result",
          "data": {
            "text/plain": [
              "['a1-1', 'a1-2', 'a2-1', 'a1-1', 'a1-2', 'a2-1']"
            ]
          },
          "metadata": {},
          "execution_count": 19
        }
      ]
    },
    {
      "cell_type": "markdown",
      "source": [
        "Si vous ressentez vraiment le besoin d'avoir une sorte de déclaration de tous les attributs en haut de la définition de classe, vous pouvez utiliser des annotations de type comme dans l'exemple suivant :"
      ],
      "metadata": {
        "id": "A9nf3ySWDb8n"
      }
    },
    {
      "cell_type": "code",
      "source": [
        "from typing import Any, List\n",
        "class Aggregator:    \n",
        "  all_aggregated: List[Any]    \n",
        "  last_aggregated: Any\n",
        "      \n",
        "  def __init__(self):        \n",
        "    self.all_aggregated = []        \n",
        "    self.last_aggregated = None   \n",
        "  \n",
        "  def aggregate(self, value):        \n",
        "    self.last_aggregated = value        \n",
        "    self.all_aggregated.append(value)"
      ],
      "metadata": {
        "id": "A_u0zAvPDlme"
      },
      "execution_count": 20,
      "outputs": []
    },
    {
      "cell_type": "markdown",
      "source": [
        "Avoir des annotations d'attribut de classe n'est en fait pas une mauvaise pratique. Ils peuvent être utilisés par des vérificateurs de type statiques ou des IDE pour augmenter la qualité du code et mieux communiquer l'utilisation prévue de votre classe et les éventuelles contraintes de type. De telles annotations d'attribut de classe sont également utilisées pour simplifier l'initialisation des classes de données, dont nous parlerons dans la section Classes de données"
      ],
      "metadata": {
        "id": "7knm0AHjD42g"
      }
    },
    {
      "cell_type": "markdown",
      "source": [
        "## Modèles d'accès aux attributs \n",
        "\n",
        "Une autre chose qui distingue Python des autres langages orientés objet à typage statique est l'absence de la notion de membres de classe publics, privés et protégés. Dans d'autres langages, ceux-ci sont souvent utilisés pour restreindre ou ouvrir l'accès aux attributs d'objet pour le code en dehors de la classe. La fonctionnalité Python la plus proche de ce concept est la manipulation de noms. Chaque fois qu'un attribut est préfixé par __ (deux traits de soulignement) dans un corps de classe, il est renommé par l'interpréteur sur le fly :"
      ],
      "metadata": {
        "id": "Z7ZrQJ4REGc4"
      }
    },
    {
      "cell_type": "code",
      "source": [
        "class MyClass:     \n",
        "  def __init__(self):        \n",
        "    self.__secret_value = 1"
      ],
      "metadata": {
        "id": "UQCzDx0nEXiN"
      },
      "execution_count": null,
      "outputs": []
    },
    {
      "cell_type": "markdown",
      "source": [
        "    Notez que le motif de double trait de soulignement est appelé \"dunder\".\n",
        "    Reportez-vous à la section Méthodes Dunder (protocoles de langage) pour\n",
        "    plus d'informations\n",
        "\n",
        "Accéder à l'attribut __secret_value par son nom initial en dehors de la classe lèvera une exception AttributeError\n",
        "\n",
        "\n",
        "On pourrait penser que cela est synonyme de champs et de méthodes privés/protégés que l'on trouve couramment dans d'autres langages POO. Cela rend en effet plus difficile l'accès à ces attributs en dehors de la classe mais ne rend pas un tel accès impossible. Les champs et méthodes privés et protégés dans de nombreux autres langages POO sont un moyen de fournir une encapsulation de classe. Ils sont utilisés pour restreindre l'accès à des symboles spécifiques à toute personne extérieure à une classe spécifique (privée) ou à toute personne extérieure à l'arbre d'héritage (protégé). \n",
        "\n",
        "En Python, la manipulation des noms ne restreint en aucune façon l'accès aux attributs. Cela ne fait que le rendre moins pratique. Le but de la manipulation de noms est un moyen implicite d'éviter les collisions de noms. Par exemple, il peut arriver qu'un identificateur spécifique soit un ajustement parfait pour un nouvel attribut interne dans une sous-classe. Si ce nom est déjà pris quelque part dans l'arbre d'héritage, le conflit de noms peut entraîner un comportement inattendu\n",
        "\n",
        "Dans de telles situations, le programmeur peut décider d'utiliser un nom différent ou d'utiliser la manipulation de noms pour résoudre le conflit. \n",
        "\n",
        "La manipulation de noms peut également aider à éviter les conflits de noms dans les sous-classes. Néanmoins, il n'est pas recommandé d'utiliser la manipulation de noms dans les classes de base par défaut, juste pour éviter toute collision à l'avance. Tout se résume à la façon de faire de Python. \n",
        "\n",
        "Les langages typés statiquement avec des mots-clés privés/protégés appliquent la restriction d'accès aux attributs. Cela signifie qu'il n'y a généralement aucun moyen d'accéder à ces attributs privés/protégés en dehors de la classe. En Python, il est plus courant de communiquer clairement l'utilisation prévue de chaque attribut au lieu d'empêcher les utilisateurs de faire ce qu'ils veulent. Avec ou sans nom mutilé, les programmeurs trouveront quand même un moyen d'accéder à l'attribut. Alors, quel est l'intérêt de rendre cela moins pratique pour eux ? Lorsqu'un attribut n'est pas public, la convention à utiliser est un _préfixe. Cela n'implique a ucun algorithme de manipulation de noms, mais documente simplement l'attribut comme un élément interne de la classe qui n'est pas destiné à être utilisé en dehors du contexte de la classe.\n",
        "\n",
        " De nombreux IDE et vérificateurs de style sont déjà conscients de cette convention et sont capables de mettre en évidence les endroits où ces membres internes sont accessibles en dehors de leur classe. Python dispose également d'autres mécanismes pour séparer la partie publique de la classe de son code privé. Deux de ces mécanismes sont les descripteurs et les propriétés"
      ],
      "metadata": {
        "id": "_H5WXro_EcMF"
      }
    },
    {
      "cell_type": "markdown",
      "source": [
        "## Descripteurs\n",
        "\n",
        "Un descripteur vous permet de personnaliser ce qui doit être fait lorsque vous faites référence à un attribut d'un objet. Les descripteurs sont la base de l'accès aux attributs complexes en Python. Ils sont utilisés en interne pour implémenter des propriétés, des méthodes, des méthodes de classe, des méthodes statiques et super. Ce sont des objets qui définissent comment accéder aux attributs d'une autre classe. En d'autres termes, une classe peut déléguer la gestion d'un attribut à une autre classe. \n",
        "\n",
        "Les classes de descripteurs sont basées sur trois méthodes spéciales qui forment le protocole de descripteur :\n",
        "\n",
        "*  \\_\\_set_\\_ (self, obj, value) : il est appelé chaque fois que l'attribut est défini . Dans les exemples suivants, nous nous y référerons en tant que setter.\n",
        "\n",
        "* \\_\\_get__(self, obj, owner=None) : Ceci est appelé chaque fois que l'attribut est lu (appelé getter).\n",
        "\n",
        "* \\_\\_delete__(self, obj) : Ceci est appelé lorsque del est invoqué sur l'attribut.\n",
        "\n",
        "descripteur qui implémente \\_\\_get__() et \\_\\_set__() est appelé un descripteur de données. S'il implémente simplement \\_\\_get_\\_(), alors il est appelé un descripteur non-données. \n",
        "\n",
        "Les méthodes du protocole de descripteur sont, en fait, appelées par la méthode spéciale \\_\\_getattribute_\\_() de l'objet à chaque recherche d'attribut (ne la confondez pas avec \\_\\_getattr__() , qui a un but différent). Chaque fois qu'une telle recherche est effectuée, soit en utilisant une notation pointée sous la forme instance.attribute, soit en utilisant l'appel de fonction getattr(instance, 'attribute'), la méthode \\_\\_getattribute__() est invoquée implicitement et elle recherche un attribut dans l'ordre suivant : \n",
        "\n",
        "* 1. Il vérifie si l'attribut est un descripteur de données sur l'objet de classe de l'instance\n",
        "* 2. Si ce n'est pas le cas, il regarde si l'attribut peut être trouvé dans la recherche \\_\\_dict__ de l'instance object\n",
        "\n",
        "* 3. Enfin, il regarde pour voir si l'attribut est un descripteur non-données sur l'objet de classe de l'instance\n",
        "\n",
        "En d'autres termes, les descripteurs de données ont priorité sur la recherche \\_\\_dict__, et la recherche \\_\\_dict__ a priorité sur les descripteurs non-données. code réel :"
      ],
      "metadata": {
        "id": "CiaHSsSYGROH"
      }
    },
    {
      "cell_type": "code",
      "source": [
        "class RevealAccess(object):     \n",
        "  \"\"\"A data descriptor that sets and returns values        \n",
        "  normally and prints a message logging their access.     \n",
        "  \"\"\"      \n",
        "  \n",
        "  def __init__(self, initval=None, name='var'):         \n",
        "    self.val = initval         \n",
        "    self.name = name      \n",
        "    \n",
        "  def __get__(self, obj, objtype):         \n",
        "    print('Retrieving', self.name)         \n",
        "    return self.val      \n",
        "  \n",
        "  def __set__(self, obj, val):         \n",
        "    print('Updating', self.name)         \n",
        "    self.val = val      \n",
        "  \n",
        "  def __delete__(self, obj):         \n",
        "    print('Deleting', self.name)"
      ],
      "metadata": {
        "id": "GnfWpzUdIRYN"
      },
      "execution_count": 21,
      "outputs": []
    },
    {
      "cell_type": "code",
      "source": [
        "class MyClass(object):     \n",
        "  x = RevealAccess(10, 'var \"x\"')     \n",
        "  y = 5"
      ],
      "metadata": {
        "id": "7dz5Xb9zIlZ0"
      },
      "execution_count": 22,
      "outputs": []
    },
    {
      "cell_type": "markdown",
      "source": [
        "Notez que x = RevealAccess() est défini comme un attribut de classe au lieu de l'assigner dans la méthode \\_\\_init__(). Les descripteurs, pour fonctionner, doivent être définis comme des attributs de classe. En outre, ils sont plus proches des méthodes que des attributs de variables normaux. Voici un exemple d'utilisation du descripteur RevealAccess dans la session interactive :"
      ],
      "metadata": {
        "id": "LWnzQ4mMI1aD"
      }
    },
    {
      "cell_type": "code",
      "source": [
        "m = MyClass()\n",
        "m.x"
      ],
      "metadata": {
        "colab": {
          "base_uri": "https://localhost:8080/"
        },
        "id": "f1GhMy2hOQ0a",
        "outputId": "4b893130-d014-40e5-b91e-cafea3ec0b99"
      },
      "execution_count": 24,
      "outputs": [
        {
          "output_type": "stream",
          "name": "stdout",
          "text": [
            "Retrieving var \"x\"\n"
          ]
        },
        {
          "output_type": "execute_result",
          "data": {
            "text/plain": [
              "10"
            ]
          },
          "metadata": {},
          "execution_count": 24
        }
      ]
    },
    {
      "cell_type": "code",
      "source": [
        "m.x = 20"
      ],
      "metadata": {
        "colab": {
          "base_uri": "https://localhost:8080/"
        },
        "id": "cYlYrJMaOZJ6",
        "outputId": "2f3756c9-a3b7-4802-8aa0-e20a189147f2"
      },
      "execution_count": 25,
      "outputs": [
        {
          "output_type": "stream",
          "name": "stdout",
          "text": [
            "Updating var \"x\"\n"
          ]
        }
      ]
    },
    {
      "cell_type": "code",
      "source": [
        "m.x"
      ],
      "metadata": {
        "colab": {
          "base_uri": "https://localhost:8080/"
        },
        "id": "_NEIM8lMOeea",
        "outputId": "cc85420f-438a-4872-8373-cd8f4cadf49d"
      },
      "execution_count": 26,
      "outputs": [
        {
          "output_type": "stream",
          "name": "stdout",
          "text": [
            "Retrieving var \"x\"\n"
          ]
        },
        {
          "output_type": "execute_result",
          "data": {
            "text/plain": [
              "20"
            ]
          },
          "metadata": {},
          "execution_count": 26
        }
      ]
    },
    {
      "cell_type": "code",
      "source": [
        "m.y"
      ],
      "metadata": {
        "colab": {
          "base_uri": "https://localhost:8080/"
        },
        "id": "K-y_ImkWOfjD",
        "outputId": "8310fdc6-7dab-4b31-865b-8c911b0b5edf"
      },
      "execution_count": 27,
      "outputs": [
        {
          "output_type": "execute_result",
          "data": {
            "text/plain": [
              "5"
            ]
          },
          "metadata": {},
          "execution_count": 27
        }
      ]
    },
    {
      "cell_type": "code",
      "source": [
        "del m.x"
      ],
      "metadata": {
        "colab": {
          "base_uri": "https://localhost:8080/"
        },
        "id": "d8tKcAn1Oiob",
        "outputId": "03be50d3-db4f-45de-90f4-de6a2ea86631"
      },
      "execution_count": 28,
      "outputs": [
        {
          "output_type": "stream",
          "name": "stdout",
          "text": [
            "Deleting var \"x\"\n"
          ]
        }
      ]
    },
    {
      "cell_type": "markdown",
      "source": [
        "L'exemple précédent montre clairement que, si une classe a le descripteur de données pour l'attribut donné, alors la méthode \\_\\_get__() du descripteur est appelée pour renvoyer la valeur chaque fois que l'attribut d'instance est récupéré, et \\_\\_set__() est appelée chaque fois qu'une valeur est récupérée. attribué à un tel attribut. \n",
        "\n",
        "La méthode \\_\\_del__ d'un descripteur est appelée chaque fois qu'un attribut d'instance est supprimé avec l'instruction del instance.attribute ou l'appel delattr(instance, 'attribute'). début de la rubrique. \n",
        "\n",
        "Python utilise déjà le protocole de descripteur pour lier des fonctions de classe à des instances en tant que méthodes.\n",
        "\n",
        "Les descripteurs alimentent également le mécanisme derrière les décorateurs classmethod et staticmethod. C'est parce que, en fait, les objets de fonction sont aussi des descripteurs non-données :"
      ],
      "metadata": {
        "id": "2sdhqjerOpvL"
      }
    },
    {
      "cell_type": "code",
      "source": [
        "def function():\n",
        "   pass\n",
        "   \n",
        "print(hasattr(function, '__get__'))\n",
        "print(hasattr(function, '__set__'))"
      ],
      "metadata": {
        "colab": {
          "base_uri": "https://localhost:8080/"
        },
        "id": "gRLkagmKPMoT",
        "outputId": "a8fe9526-cf39-483c-838b-e632388ab46a"
      },
      "execution_count": 29,
      "outputs": [
        {
          "output_type": "stream",
          "name": "stdout",
          "text": [
            "True\n",
            "False\n"
          ]
        }
      ]
    },
    {
      "cell_type": "markdown",
      "source": [
        "Ceci est également vrai pour les fonctions créées avec des expressions lambda :"
      ],
      "metadata": {
        "id": "ZkkfoskUPYjq"
      }
    },
    {
      "cell_type": "code",
      "source": [
        "print(hasattr(lambda: None, '__get__'))\n",
        "\n",
        "print(hasattr(lambda: None, '__set__'))"
      ],
      "metadata": {
        "colab": {
          "base_uri": "https://localhost:8080/"
        },
        "id": "KAIwD32gPcCq",
        "outputId": "1618d11c-86e2-495e-de85-d261b3908194"
      },
      "execution_count": 30,
      "outputs": [
        {
          "output_type": "stream",
          "name": "stdout",
          "text": [
            "True\n",
            "False\n"
          ]
        }
      ]
    },
    {
      "cell_type": "markdown",
      "source": [
        "Ainsi, sans que \\_\\_dict__ ne prenne le pas sur les descripteurs non-données, nous ne serions pas en mesure de remplacer dynamiquement des méthodes spécifiques sur des instances déjà construites au moment de l'exécution. Heureusement, grâce au fonctionnement des descripteurs en Python, c'est possible ; ainsi, les développeurs peuvent utiliser une technique populaire appelée patching de singe pour changer la façon dont les instances fonctionnent ad hoc sans avoir besoin de sous-classer."
      ],
      "metadata": {
        "id": "AKpdaZ1yPmnT"
      }
    },
    {
      "cell_type": "markdown",
      "source": [
        "## Exemple réel - attributs évalués paresseusement\n",
        "\n",
        "Un exemple d'utilisation des descripteurs peut consister à retarder l'initialisation de l'attribut de classe au moment où il est accessible à partir de l'instance. Cela peut être utile si l'initialisation de tels attributs dépend d'un contexte qui n'est pas encore disponible au moment où la classe est importée. L'autre cas est l'économie de ressources alors qu'une telle initialisation est simplement coûteuse en termes de ressources de calcul mais on ne sait pas si l'attribut sera quand même utilisé au moment de l'importation de la classe. Un tel descripteur pourrait être implémenté comme suit :"
      ],
      "metadata": {
        "id": "nbnGIUlqQrXU"
      }
    },
    {
      "cell_type": "code",
      "source": [
        "class InitOnAccess:     \n",
        "  def __init__(self, init_func, *args, **kwargs):         \n",
        "    self.klass = init_func         \n",
        "    self.args = args         \n",
        "    self.kwargs = kwargs         \n",
        "    self._initialized = None\n",
        "\n",
        "  def __get__(self, instance, owner):         \n",
        "    if self._initialized is None:             \n",
        "      print('initialized!')             \n",
        "      self._initialized = self.klass(*self.args,               \n",
        "                                     **self.kwargs)         \n",
        "    else:             \n",
        "      print('cached!')         \n",
        "    return self._initialized"
      ],
      "metadata": {
        "id": "OZGtVaqTR4dT"
      },
      "execution_count": 31,
      "outputs": []
    },
    {
      "cell_type": "markdown",
      "source": [
        "La classe de descripteur InitOnAccess inclut des appels print() qui nous permettent de voir si les valeurs ont été initialisées à l'accès ou accédées depuis le cache. Imaginons que nous voulons avoir une classe où toutes les instances ont accès à une liste partagée de valeurs aléatoires triées. \n",
        "\n",
        "La longueur de la liste peut être arbitrairement longue, il est donc logique de la réutiliser pour toutes les instances. D'un autre côté, trier des entrées très longues peut prendre du temps. C'est pourquoi la classe InitOnAccess s'assurera qu'une telle liste ne sera initialisée qu'au premier accès. Notre définition de classe pourrait être la suivante :"
      ],
      "metadata": {
        "id": "dK7qPQi7SMtT"
      }
    },
    {
      "cell_type": "code",
      "source": [
        "import random\n",
        "\n",
        "class WithSortedRandoms:    \n",
        "  lazily_initialized = InitOnAccess(        \n",
        "      sorted,        \n",
        "      [random.random() for _ in range(5)])"
      ],
      "metadata": {
        "id": "jtzTvDVQSkXy"
      },
      "execution_count": 32,
      "outputs": []
    },
    {
      "cell_type": "markdown",
      "source": [
        "Notez que nous avons utilisé une entrée assez petite dans la fonction range() pour rendre la sortie lisible. Voici un exemple d'utilisation de la classe WithSortedRandoms dans une session interactive :"
      ],
      "metadata": {
        "id": "AdgKX-T0TFK6"
      }
    },
    {
      "cell_type": "code",
      "source": [
        "m = WithSortedRandoms()\n",
        "m.lazily_initialized"
      ],
      "metadata": {
        "colab": {
          "base_uri": "https://localhost:8080/"
        },
        "id": "-c7FMQPQTLdz",
        "outputId": "c7aca491-7cb5-4797-aae1-ca536a83c599"
      },
      "execution_count": 33,
      "outputs": [
        {
          "output_type": "stream",
          "name": "stdout",
          "text": [
            "initialized!\n"
          ]
        },
        {
          "output_type": "execute_result",
          "data": {
            "text/plain": [
              "[0.010184295229492046,\n",
              " 0.4178345411529196,\n",
              " 0.6915538042627275,\n",
              " 0.777055808673999,\n",
              " 0.8220087496546435]"
            ]
          },
          "metadata": {},
          "execution_count": 33
        }
      ]
    },
    {
      "cell_type": "code",
      "source": [
        "m.lazily_initialized"
      ],
      "metadata": {
        "colab": {
          "base_uri": "https://localhost:8080/"
        },
        "id": "nuIja4pRTPab",
        "outputId": "f9ff30b7-acf1-4ea7-9c3d-5ac7ab38d012"
      },
      "execution_count": 34,
      "outputs": [
        {
          "output_type": "stream",
          "name": "stdout",
          "text": [
            "cached!\n"
          ]
        },
        {
          "output_type": "execute_result",
          "data": {
            "text/plain": [
              "[0.010184295229492046,\n",
              " 0.4178345411529196,\n",
              " 0.6915538042627275,\n",
              " 0.777055808673999,\n",
              " 0.8220087496546435]"
            ]
          },
          "metadata": {},
          "execution_count": 34
        }
      ]
    },
    {
      "cell_type": "markdown",
      "source": [
        "La bibliothèque officielle OpenGL Python disponible sur PyPI sous le nom PyOpenGL utilise une technique similaire pour implémenter un objet lazy_property qui est à la fois un décorateur et un descripteur de données :"
      ],
      "metadata": {
        "id": "bZoki5sUTUjq"
      }
    },
    {
      "cell_type": "code",
      "source": [
        "class lazy_property(object):     \n",
        "  def __init__(self, function):         \n",
        "    self.fget = function      \n",
        "    \n",
        "  def __get__(self, obj, cls):         \n",
        "    value = self.fget(obj)         \n",
        "    setattr(obj, self.fget.__name__, value)         \n",
        "    return value"
      ],
      "metadata": {
        "id": "BUVzM9pNTbeC"
      },
      "execution_count": 36,
      "outputs": []
    },
    {
      "cell_type": "markdown",
      "source": [
        "La fonction setattr() vous permet de définir l'attribut de l'instance d'objet en utilisant l'attribut de l'argument positionnel fourni. Ici, c'est self.fget.\\_\\_name__. Il est construit comme ça car le descripteur lazy_property est censé être utilisé comme décorateur de la méthode agissant comme fournisseur de la valeur initialisée comme dans l'exemple suivant :"
      ],
      "metadata": {
        "id": "0LzPUyxATmm7"
      }
    },
    {
      "cell_type": "code",
      "source": [
        "class WithSortedRandoms:    \n",
        "  @lazy_property    \n",
        "  def lazily_initialized(self):        \n",
        "    return sorted([[random.random() for _ in range(5)]])"
      ],
      "metadata": {
        "id": "2UmJBkMETz24"
      },
      "execution_count": 37,
      "outputs": []
    },
    {
      "cell_type": "markdown",
      "source": [
        "Une telle implémentation est similaire à l'utilisation du décorateur de propriété décrit dans la section suivante. La fonction qui l'accompagne n'est exécutée qu'une seule fois, puis l'attribut d'instance est remplacé par une valeur renvoyée par cette propriété de fonction. Cet attribut d'instance a priorité sur le descripteur (l'attribut de classe) donc plus aucune initialisation ne sera effectuée sur l'instance de classe donnée. Cette technique est souvent utile lorsqu'\n",
        "\n",
        "* Une instance d'objet doit être stockée en tant qu'attribut de classe partagé entre ses instances (pour économiser les ressources)\n",
        "\n",
        "* Cet objet ne peut pas être initialisé au moment de l'importation car son processus de création dépend d'un état/contexte global de l'application\n",
        "\n",
        "Dans le cas d'applications écrites en OpenGL, vous pouvez très souvent rencontrer ce genre de situation. Par exemple, la création de shaders en OpenGL est coûteuse car elle nécessite une compilation de code écrit en OpenGL Shading Language (GLSL). Il est raisonnable de ne les créer qu'une seule fois, et, en même temps, d'inclure leur définition à proximité des classes qui en ont besoin. D'un autre côté, les compilations de shaders ne peuvent pas être effectuées sans initialisation du contexte OpenGL, il est donc difficile de les définir et de les compiler de manière fiable dans un espace de noms de module global au moment de l'importation. \n",
        "\n",
        "L'exemple suivant montre l'utilisation possible du modified version du décorateur lazy_property de PyOpenGL (ici, lazy_class_attribute) dans une application imaginaire basée sur OpenGL. La modification en surbrillance du décorateur original lazy_property était nécessaire pour permettre le partage de l'attribut entre différentes instances de classe :"
      ],
      "metadata": {
        "id": "pow6NSPXT7M7"
      }
    },
    {
      "cell_type": "code",
      "source": [
        "import OpenGL.GL as gl \n",
        "from OpenGL.GL import shaders   \n",
        "\n",
        "\n",
        "class lazy_class_attribute(object):     \n",
        "  def __init__(self, function):         \n",
        "    self.fget = function      \n",
        "  \n",
        "  def __get__(self, obj, cls):        \n",
        "    value = self.fget(cls)        \n",
        "    # note: storing in class object not its instance        \n",
        "    #       no matter if its a class-level or        \n",
        "    #       instance-level access        \n",
        "    \n",
        "    setattr(cls, self.fget.__name__, value)        \n",
        "    return value   \n",
        "    \n",
        "\n",
        "class ObjectUsingShaderProgram(object):     \n",
        "  # trivial pass-through vertex shader implementation   \n",
        "\n",
        "  VERTEX_CODE = \"\"\"         \n",
        "  #version 330 core         \n",
        "  layout(location = 0) in vec4 vertexPosition;         \n",
        "  void main(){\n",
        "    gl_Position =  vertexPosition;         \n",
        "    }     \n",
        "    \"\"\"     \n",
        "    # trivial fragment shader that results in everything     \n",
        "    # drawn with white color     \n",
        "  FRAGMENT_CODE = \"\"\"         \n",
        "  #version 330 core         \n",
        "  out lowp vec4 out_color;         \n",
        "  void main(){             \n",
        "      out_color = vec4(1, 1, 1, 1);         \n",
        "      }     \n",
        "      \"\"\"      \n",
        "  @lazy_class_attribute     \n",
        "  def shader_program(self):         \n",
        "    print(\"compiling!\")         \n",
        "    return shaders.compileProgram(             \n",
        "        shaders.compileShader(                 \n",
        "            self.VERTEX_CODE, gl.GL_VERTEX_SHADER             \n",
        "            ),             \n",
        "            shaders.compileShader(                 \n",
        "                self.FRAGMENT_CODE, gl.GL_FRAGMENT_SHADER             \n",
        "                )         \n",
        "            )"
      ],
      "metadata": {
        "id": "P5-0_1rYUqh-"
      },
      "execution_count": null,
      "outputs": []
    },
    {
      "cell_type": "markdown",
      "source": [
        "Comme toutes les fonctionnalités avancées de la syntaxe Python, celle-ci doit également être utilisée avec prudence et bien documentée dans le code. Les descripteurs affectent la partie la plus basique du comportement des classes. Pour les développeurs inexpérimentés, le comportement modifié de la classe peut être très déroutant et inattendu. Pour cette raison, il est très important de s'assurer que tous les membres de votre équipe connaissent les descripteurs et comprennent bien ce concept s'il joue un rôle important dans la base de code de votre projet."
      ],
      "metadata": {
        "id": "heEKzFgvVpC7"
      }
    },
    {
      "cell_type": "markdown",
      "source": [
        "## Propriétés\n",
        "\n",
        "Quiconque a programmé en C++ ou Java pendant un certain temps devrait probablement être familier avec le terme encapsulation. C'est un moyen de protéger l'accès direct aux champs de classe provenant de l'hypothèse que toutes les données internes détenues par une classe doivent être considérées comme privées. Dans une classe entièrement encapsulée, le moins de méthodes possible doivent être exposées en public. Tout accès en écriture ou en lecture à l'état d'un objet doit être exposé via des méthodes setter et getter capables de protéger une utilisation correcte. En Java, par exemple, ce modèle peut ressembler à ceci :"
      ],
      "metadata": {
        "id": "zE8DoVZ8VuAT"
      }
    },
    {
      "cell_type": "code",
      "source": [
        "public class UserAccount {  \n",
        "    private String username;  \n",
        "    public String getUsername() {    \n",
        "        return username;  \n",
        "        }  \n",
        "public void setUsername(String newUsername) {    \n",
        "    this.username = newUsername;  \n",
        "    }}"
      ],
      "metadata": {
        "id": "I2W02DoaV8py"
      },
      "execution_count": null,
      "outputs": []
    },
    {
      "cell_type": "markdown",
      "source": [
        "La méthode getUsername() est un getter de nom d'utilisateur et la méthode setUsername() est un setter de nom d'utilisateur. La prémisse est assez bonne. \n",
        "\n",
        "En masquant l'accès aux membres de la classe derrière les getters et les setters (également appelés accesseurs et mutateurs), vous pouvez protéger le bon accès aux valeurs de classe internes (disons, effectuer une validation sur les setters). \n",
        "\n",
        "Vous créez également un point d'extension dans l'API publique de classe qui peut être potentiellement enrichi avec un comportement supplémentaire chaque fois qu'il y a un tel besoin sans rompre la compatibilité descendante de l'API de classe. Imaginons que vous ayez une classe pour un compte utilisateur qui, entre autres, stocke le mot de passe de l'utilisateur. Si vous souhaitez émettre des journaux d'audit chaque fois qu'un mot de passe est accédé, vous pouvez soit vous assurer que chaque endroit de votre code qui accède aux mots de passe utilisateur ait des appels de journal d'audit appropriés, soit proxy tous les accès à l'entrée de mot de passe via un ensemble de méthodes setter et getter qui avoir l'appel de journalisation ajouté par défaut. \n",
        "\n",
        "Le problème est que vous ne pouvez jamais être sûr de ce qui nécessitera une extension supplémentaire à l'avenir. Ce simple fait conduit souvent à une sur-encapsulation et à une litanie sans fin de méthodes setter et getter pour chaque champ possible qui pourrait autrement être public. \n",
        "\n",
        "Ils sont tout simplement fastidieux à écrire et n'offrent trop souvent que peu ou pas d'avantages et ne font que réduire le rapport signal sur bruit. Heureusement, Python a une approche complètement différente du modèle d'accès et de mutation via le mécanisme des propriétés. Les propriétés vous permettent d'exposer librement les membres publics des classes et de les convertir simplement en méthodes getter et setter chaque fois que vous en avez besoin. Et vous pouvez le faire complètement sans casser la rétrocompatibilité de votre API de classe. Prenons l'exemple d'une classe UserAccount encapsulée qui n'utilise pas la fonctionnalité des propriétés :"
      ],
      "metadata": {
        "id": "0pthl_kIWIHJ"
      }
    },
    {
      "cell_type": "code",
      "source": [
        "class UserAccount:    \n",
        "  def __init__(self, username, password):        \n",
        "    self._username = username        \n",
        "    self._password = password\n",
        "\n",
        "  def get_username(self):        \n",
        "    return self._username    \n",
        "  \n",
        "  def set_username(self, username):        \n",
        "    self._username = username    \n",
        "  \n",
        "  def get_password(self):        \n",
        "    return self._password    \n",
        "    \n",
        "  def set_username(self, password):        \n",
        "    self._password = password"
      ],
      "metadata": {
        "id": "FolIHt8DWzSw"
      },
      "execution_count": 38,
      "outputs": []
    },
    {
      "cell_type": "markdown",
      "source": [
        "Chaque fois que vous voyez un code comme celui-ci, qui peut être reconnu par l'abondance des méthodes get_ et set_, vous pouvez être presque sûr à 100 % que vous avez affaire à un idiome de langue étrangère. C'est quelque chose qu'un programmeur C++ ou Java pourrait écrire. Un programmeur Python chevronné écrirait plutôt ce qui suit :"
      ],
      "metadata": {
        "id": "XXaN_ln_Xdzj"
      }
    },
    {
      "cell_type": "code",
      "source": [
        "class UserAccount:    \n",
        "  def __init__(self, username, password):        \n",
        "    self.username = username        \n",
        "    self.password = password"
      ],
      "metadata": {
        "id": "3bbVjcKKZFVT"
      },
      "execution_count": null,
      "outputs": []
    },
    {
      "cell_type": "markdown",
      "source": [
        "Et seulement lorsqu'il y a un réel besoin de cacher un champ spécifique derrière une propriété, pas plus tôt, un programmeur expérimenté apportera la modification suivante :"
      ],
      "metadata": {
        "id": "MbUX5q6wZM3d"
      }
    },
    {
      "cell_type": "code",
      "source": [
        "class UserAccount:    \n",
        "  def __init__(self, username, password):        \n",
        "    self.username = username        \n",
        "    self._password = password        \n",
        "  \n",
        "  @property    \n",
        "  def password(self):        \n",
        "    return self._password    \n",
        "  \n",
        "  @password.setter    \n",
        "  def password(self, value):        \n",
        "    self._password = value"
      ],
      "metadata": {
        "id": "cyUxwH66ZTVP"
      },
      "execution_count": null,
      "outputs": []
    },
    {
      "cell_type": "markdown",
      "source": [
        "Les propriétés fournissent un type de descripteur intégré qui sait comment lier un attribut à un ensemble de méthodes. La fonction property() prend quatre arguments optionnels : fget, fset, fdel et doc. Le dernier peut être fourni pour définir une fonction docstring qui est liée à l'attribut comme s'il s'agissait d'une méthode. Voici un exemple de classe Rectangle qui peut être contrôlée soit par un accès direct aux attributs qui stockent deux points d'angle, soit en utilisant les propriétés width et height :"
      ],
      "metadata": {
        "id": "tz5R2BIzZhDl"
      }
    },
    {
      "cell_type": "code",
      "source": [
        "class Rectangle:     \n",
        "  def __init__(self, x1, y1, x2, y2):         \n",
        "    self.x1, self.y1 = x1, y1         \n",
        "    self.x2, self.y2 = x2, y2      \n",
        "  \n",
        "  def _width_get(self):         \n",
        "    return self.x2 - self.x1      \n",
        "  \n",
        "  def _width_set(self, value):         \n",
        "    self.x2 = self.x1 + value      \n",
        "  \n",
        "  def _height_get(self):         \n",
        "    return self.y2 - self.y1      \n",
        "  \n",
        "  def _height_set(self, value):         \n",
        "    self.y2 = self.y1 + value      \n",
        "    \n",
        "  width = property(         \n",
        "      _width_get, _width_set,         \n",
        "      doc=\"rectangle width measured from left\"     \n",
        "      )     \n",
        "  \n",
        "  height = property(         \n",
        "      _height_get, _height_set,         \n",
        "      doc=\"rectangle height measured from top\"    \n",
        "      )      \n",
        "  \n",
        "  def __repr__(self):         \n",
        "    return \"{}({}, {}, {}, {})\".format(             \n",
        "        self.__class__.__name__,             \n",
        "        self.x1, self.y1, self.x2, self.y2         \n",
        "        )"
      ],
      "metadata": {
        "id": "_Th5I9RiZyA1"
      },
      "execution_count": 39,
      "outputs": []
    },
    {
      "cell_type": "markdown",
      "source": [
        "Voici un exemple de telles propriétés définies dans une session interactive :"
      ],
      "metadata": {
        "id": "29GwqtSNcTlX"
      }
    },
    {
      "cell_type": "code",
      "source": [
        "rectangle = Rectangle(10, 10, 25, 34)\n",
        "rectangle.width, rectangle.height"
      ],
      "metadata": {
        "colab": {
          "base_uri": "https://localhost:8080/"
        },
        "id": "1Wovf69ecXPb",
        "outputId": "161fd8f5-fb4c-4f61-a84b-84234fe470a4"
      },
      "execution_count": 40,
      "outputs": [
        {
          "output_type": "execute_result",
          "data": {
            "text/plain": [
              "(15, 24)"
            ]
          },
          "metadata": {},
          "execution_count": 40
        }
      ]
    },
    {
      "cell_type": "code",
      "source": [
        "rectangle.width = 100\n",
        "rectangle"
      ],
      "metadata": {
        "colab": {
          "base_uri": "https://localhost:8080/"
        },
        "id": "oSr47FEYcbM_",
        "outputId": "96a72797-783c-4923-f676-3c399f5a66e9"
      },
      "execution_count": 41,
      "outputs": [
        {
          "output_type": "execute_result",
          "data": {
            "text/plain": [
              "Rectangle(10, 10, 110, 34)"
            ]
          },
          "metadata": {},
          "execution_count": 41
        }
      ]
    },
    {
      "cell_type": "code",
      "source": [
        "rectangle.height = 100\n",
        "rectangle"
      ],
      "metadata": {
        "colab": {
          "base_uri": "https://localhost:8080/"
        },
        "id": "eeM_MRwhce2T",
        "outputId": "f5b38d92-9435-45dc-c6d3-dcd22649db43"
      },
      "execution_count": 42,
      "outputs": [
        {
          "output_type": "execute_result",
          "data": {
            "text/plain": [
              "Rectangle(10, 10, 110, 110)"
            ]
          },
          "metadata": {},
          "execution_count": 42
        }
      ]
    },
    {
      "cell_type": "code",
      "source": [
        "help(Rectangle)"
      ],
      "metadata": {
        "colab": {
          "base_uri": "https://localhost:8080/"
        },
        "id": "iSs8DwToci33",
        "outputId": "baca8d55-9c5c-4397-9e17-1c9516824f84"
      },
      "execution_count": 43,
      "outputs": [
        {
          "output_type": "stream",
          "name": "stdout",
          "text": [
            "Help on class Rectangle in module __main__:\n",
            "\n",
            "class Rectangle(builtins.object)\n",
            " |  Rectangle(x1, y1, x2, y2)\n",
            " |  \n",
            " |  Methods defined here:\n",
            " |  \n",
            " |  __init__(self, x1, y1, x2, y2)\n",
            " |      Initialize self.  See help(type(self)) for accurate signature.\n",
            " |  \n",
            " |  __repr__(self)\n",
            " |      Return repr(self).\n",
            " |  \n",
            " |  ----------------------------------------------------------------------\n",
            " |  Data descriptors defined here:\n",
            " |  \n",
            " |  __dict__\n",
            " |      dictionary for instance variables (if defined)\n",
            " |  \n",
            " |  __weakref__\n",
            " |      list of weak references to the object (if defined)\n",
            " |  \n",
            " |  height\n",
            " |      rectangle height measured from top\n",
            " |  \n",
            " |  width\n",
            " |      rectangle width measured from left\n",
            "\n"
          ]
        }
      ]
    },
    {
      "cell_type": "markdown",
      "source": [
        "Les propriétés facilitent l'écriture des descripteurs mais doivent être manipulées avec précaution lors de l'utilisation de l'héritage sur les classes. \n",
        "\n",
        "L'attribut créé est créé sur le fly en utilisant les méthodes de la classe actuelle et n'utilisera pas les méthodes qui sont surchargées dans les classes dérivées. \n",
        "\n",
        "Par exemple, l'exemple suivant ne parviendra pas à remplacer l'implémentation de la méthode fget de la largeur de la classe parent biens:"
      ],
      "metadata": {
        "id": "0glgoSq7cr2H"
      }
    },
    {
      "cell_type": "code",
      "source": [
        "class MetricRectangle(Rectangle):\n",
        "  def _width_get(self):\n",
        "    return \"{} meters\".format(self.x2 - self.x1)\n",
        "\n",
        "Rectangle(0, 0, 100, 100).width"
      ],
      "metadata": {
        "colab": {
          "base_uri": "https://localhost:8080/"
        },
        "id": "1ps2XoT5c-FQ",
        "outputId": "b377dad9-1a35-40b8-f7b1-3ee2f9bc67d5"
      },
      "execution_count": 44,
      "outputs": [
        {
          "output_type": "execute_result",
          "data": {
            "text/plain": [
              "100"
            ]
          },
          "metadata": {},
          "execution_count": 44
        }
      ]
    },
    {
      "cell_type": "markdown",
      "source": [
        "Pour résoudre ce problème, la propriété entière doit simplement être écrasée dans la classe dérivée :"
      ],
      "metadata": {
        "id": "-_e8M2vAdJ9M"
      }
    },
    {
      "cell_type": "code",
      "source": [
        "class MetricRectangle(Rectangle):\n",
        "  def _width_get(self):\n",
        "    return \"{} meters\".format(self.x2 - self.x1)\n",
        "\n",
        "  width = property(_width_get, Rectangle.width.fset)\n",
        "  \n",
        "MetricRectangle(0, 0, 100, 100).width"
      ],
      "metadata": {
        "colab": {
          "base_uri": "https://localhost:8080/",
          "height": 36
        },
        "id": "3BN6XdZidOzI",
        "outputId": "5e30ab77-b289-477a-8a76-beef259ca436"
      },
      "execution_count": 45,
      "outputs": [
        {
          "output_type": "execute_result",
          "data": {
            "text/plain": [
              "'100 meters'"
            ],
            "application/vnd.google.colaboratory.intrinsic+json": {
              "type": "string"
            }
          },
          "metadata": {},
          "execution_count": 45
        }
      ]
    },
    {
      "cell_type": "markdown",
      "source": [
        "Malheureusement, le code précédent a quelques problèmes de maintenabilité. Cela peut être une source de confusion si le développeur décide de changer la classe parent mais oublie de mettre à jour l'appel de propriété. C'est pourquoi il n'est pas conseillé de remplacer uniquement certaines parties du comportement de la propriété. Au lieu de s'appuyer sur l'implémentation de la classe parente, il est recommandé de réécrire toutes les méthodes de propriété dans les classes dérivées si vous devez modifier leur fonctionnement. \n",
        "\n",
        "Dans la plupart des cas, il s'agit de la seule option, car généralement, la modification du comportement du setter de propriété implique également une modification du comportement de getter. Pour cette raison, la meilleure syntaxe pour créer des propriétés consiste à utiliser la propriété comme décorateur. Cela réduira le nombre de signatures de méthode à l'intérieur de la classe et rendra le code plus lisible et maintenable :"
      ],
      "metadata": {
        "id": "x4n5x-todaSz"
      }
    },
    {
      "cell_type": "code",
      "source": [
        "class Rectangle:    \n",
        "  def __init__(self, x1, y1, x2, y2):        \n",
        "    self.x1, self.y1 = x1, y1        \n",
        "    self.x2, self.y2 = x2, y2    \n",
        "    \n",
        "  @property    \n",
        "  def width(self):        \n",
        "    \"\"\"rectangle width measured from left\"\"\"        \n",
        "    return self.x2 - self.x1    \n",
        "    \n",
        "  @width.setter    \n",
        "  def width(self, value):\n",
        "    self.x2 = self.x1 + value    \n",
        "    \n",
        "  @property    \n",
        "  def height(self):        \n",
        "    \"\"\"rectangle height measured from top\"\"\"        \n",
        "    return self.y2 - self.y1    \n",
        "    \n",
        "  @height.setter    \n",
        "  def height(self, value):        \n",
        "    self.y2 = self.y1 + value"
      ],
      "metadata": {
        "id": "MOaelMs6dttC"
      },
      "execution_count": 46,
      "outputs": []
    },
    {
      "cell_type": "markdown",
      "source": [
        "La meilleure chose à propos du mécanisme de propriétés Python est qu'il peut être introduit progressivement dans une classe. Vous pouvez commencer par exposer les attributs publics de l'instance de classe et les convertir en propriétés uniquement en cas de besoin. \n",
        "\n",
        "Les autres parties de votre code ne remarqueront aucun changement dans l'API de classe car les propriétés sont accessibles comme s'il s'agissait d'attributs d'instance ordinaires. Nous avons jusqu'à présent discuté du modèle de données orienté objet de Python par rapport à différents langages de programmation. Mais le modèle de données n'est qu'une partie du paysage POO. \n",
        "\n",
        "L'autre facteur important de chaque langage orienté objet est l'approche du polymorphisme. Python fournit quelques implémentations du polymorphisme et ce sera le sujet de la section suivante."
      ],
      "metadata": {
        "id": "q4TUl-O9eEOl"
      }
    },
    {
      "cell_type": "markdown",
      "source": [
        "## Polymorphisme dynamique\n",
        "\n",
        "Le polymorphisme est un mécanisme couramment utilisé dans les langages POO. Le polymorphisme fait abstraction de l'interface d'un objet de son type. Différents langages de programmation réalisent le polymorphisme par différents moyens. \n",
        "\n",
        "Pour les langages à typage statique, cela se fait généralement par : \n",
        "\n",
        "* Sous-typage : les sous-types de type A peuvent être utilisés dans chaque interface qui attend le type A. Les interfaces sont définies explicitement et les sous-types/sous-classes héritent des interfaces de leurs parents. Il s'agit d'un mécanisme de polymorphisme trouvé en C++.\n",
        "\n",
        "* Interfaces implicites : chaque type peut être utilisé dans l'interface qui attend une interface de type A tant qu'il implémente les mêmes méthodes (a la même interface) que le type A. Les déclarations d'interfaces sont toujours définis explicitement mais les sous-classes/sous-types n'ont pas à hériter explicitement des classes/types de base qui définissent une telle interface. Il s'agit d'un mécanisme de polymorphisme trouvé dans Go\n",
        "\n",
        "Python est un langage à typage dynamique, il utilise donc un mécanisme de polymorphisme plutôt laxiste souvent appelé typage canard. Le principe de frappe du canard dit ce qui suit :\n",
        "\n",
        "    S'il marche comme un canard et cancane comme un canard, alors ce doit être un canard.\n",
        "\n",
        "L'application de ce principe en Python signifie que n'importe quel objet peut être utilisé dans un contexte donné tant que l'objet fonctionne et se comporte comme le contexte l'attend. Cette philosophie de typage est très proche des interfaces implicites connues en Go, bien qu'elle ne nécessite aucune déclaration des interfaces attendues des arguments de la fonction. Étant donné que Python n'impose pas de types ou d'interfaces d'arguments de fonction, peu importe les types d'objets fournis à la fonction. Ce qui importe à la place, c'est quelles méthodes de ces objets sont réellement utilisées dans le corps de la fonction. Pour mieux comprendre le concept, considérons l'exemple suivant d'une fonction censée lire un fichier, imprimer son contenu et fermer le fichier par la suite :"
      ],
      "metadata": {
        "id": "NbDOzJ5jebMS"
      }
    },
    {
      "cell_type": "code",
      "source": [
        "def printfile(file):    \n",
        "  try:        \n",
        "    contents = file.read()        \n",
        "    print(file)    \n",
        "  finally:        \n",
        "    file.close()"
      ],
      "metadata": {
        "id": "MvY7cqjMwPzi"
      },
      "execution_count": null,
      "outputs": []
    },
    {
      "cell_type": "markdown",
      "source": [
        "D'après la signature de la fonction printfile(), on peut déjà deviner qu'elle attend un fichier ou un objet semblable à un fichier (comme StringIO du module io). Mais la vérité est que cette fonction consommera n'importe quel objet sans déclencher une exception inattendue si nous sommes en mesure de garantir pour l'argument d'entrée que :\n",
        "\n",
        "* L'argument file a une méthode read()\n",
        "* Le résultat de file.read() est un argument valide à la fonction print()\n",
        "* L'argument file a la méthode close()\n",
        "\n",
        "Les trois points ci-dessus indiquent également les trois endroits où le polymorphisme se produit dans l'exemple ci-dessus. Selon le type réel de l'argument file, la fonction printfile() utilisera différentes implémentations des méthodes read() et close(). Le type de la variable de contenu peut également être différent selon l'implémentation de file.read(), auquel cas la fonction print() utilisera une implémentation différente de la représentation de chaîne d'objet.\n",
        "\n",
        "Cette approche du polymorphisme et du typage est vraiment puissante et flexible, bien qu'elle ait quelques inconvénients. En raison du manque d'application du type et de l'interface, il est plus difficile de vérifier l'exactitude du code avant l'exécution. C'est pourquoi les applications de haute qualité doivent s'appuyer sur des tests de code approfondis avec une couverture rigoureuse de chaque chemin que l'exécution du code peut emprunter. \n",
        "\n",
        "Python vous permet de surmonter partiellement ce problème grâce à des annotations d'indication de type qui peuvent être vérifiées avec des outils supplémentaires avant l'exécution. Le système de type dynamique de Python, associé au principe de typage de canard, crée une forme implicite et omniprésente de polymorphisme dynamique qui rend Python très similaire à JavaScript, qui manque également d'application de type statique. \n",
        "\n",
        "Mais il existe d'autres formes de polymorphisme disponibles pour les développeurs Python qui sont de nature plus \"classique\" et explicite. L'une de ces formes est la surcharge d'opérateur."
      ],
      "metadata": {
        "id": "9WAvrZYIwXqh"
      }
    },
    {
      "cell_type": "markdown",
      "source": [
        "## Surcharge d'opérateurs\n",
        "\n",
        "La surcharge d'opérateurs est un type spécifique de polymorphisme qui permet au langage d'avoir différentes implémentations d'opérateurs spécifiques selon les types d'opérandes. Les opérateurs de nombreux langages de programmation sont déjà polymorphes. Considérez les expressions suivantes qui seraient des constructions valides en Python :"
      ],
      "metadata": {
        "id": "cVmkvLYrxM0w"
      }
    },
    {
      "cell_type": "code",
      "source": [
        "7 * 6\n",
        "3.14 * 2\n",
        "[\"a\", \"b\"] * 3\n",
        "\"abba\" * 2"
      ],
      "metadata": {
        "id": "ZSgztlsKyP5d"
      },
      "execution_count": null,
      "outputs": []
    },
    {
      "cell_type": "markdown",
      "source": [
        "Ces expressions en Python auraient quatre implémentations différentes :\n",
        "* 7 * 6 est une multiplication entière résultant en une valeur entière de 42\n",
        "* 3,14 * 2 est une multiplication flottante résultant en une valeur flottante de 6,28\n",
        "\n",
        "* [\"a\", \"b\"] * 3 est une multiplication de liste résultant en une valeur de liste de ['a', 'b', 'a', 'b', 'a', 'b']\n",
        "* \"abba\" * 2 est une multiplication de chaîne résultant en une valeur de chaîne de 'abbaabba'\n",
        "\n",
        "La sémantique et l'implémentation de tous les opérateurs Python sont déjà différentes selon les types d'opérandes. Python fournit plusieurs types intégrés ainsi que diverses implémentations de leurs opérateurs, mais cela ne signifie pas que chaque opérateur peut être utilisé avec n'importe quel type.\n",
        "\n",
        "Par exemple, l'opérateur + est utilisé pour la sommation ou la concaténation d'opérandes. Il est logique de concaténer des types numériques comme des nombres entiers ou à virgule flottante, ainsi que de concaténer des chaînes et des listes. \n",
        "\n",
        "Mais cet opérateur ne peut pas être utilisé avec des ensembles ou des dictionnaires car une telle opération n'aurait pas de sens mathématique (les ensembles pourraient être intersectés ou joints) et le résultat attendu serait ambigu (quelles valeurs de deux dictionnaires devraient être utilisées en cas de La surcharge d'opérateurs n'est que l'extension du polymorphisme intégré des opérateurs déjà inclus dans le langage de programmation. \n",
        "\n",
        "De nombreux langages de programmation, y compris Python, vous permettent de définir une nouvelle implémentation pour les types d'opérandes qui n'ont pas d'implémentation d'opérateur valide ou de masquer une implémentation existante via le sous-classement."
      ],
      "metadata": {
        "id": "l4sCwydUyY5x"
      }
    },
    {
      "cell_type": "markdown",
      "source": [
        "## Méthodes Dunder (protocoles de langage) \n",
        "\n",
        "Le modèle de données Python spécifie de nombreuses méthodes spécialement nommées qui peuvent être remplacées dans vos classes personnalisées pour leur fournir des capacités de syntaxe supplémentaires. Vous pouvez reconnaître ces méthodes par leurs conventions de nommage spécifiques qui enveloppent le nom de la méthode de doubles traits de soulignement. \n",
        "\n",
        "Pour cette raison, elles sont parfois appelées méthodes dunder. C'est simplement un raccourci pour les doubles traits de soulignement. L'exemple le plus courant et le plus évident de telles méthodes dunder est \\_\\_init__(), qui est utilisé pour l'initialisation d'instance de classe :\n",
        "\n"
      ],
      "metadata": {
        "id": "uouHp4pnzJ5a"
      }
    },
    {
      "cell_type": "code",
      "source": [
        "class CustomUserClass:    \n",
        "  def __init__(self, initiatization_argument):         \n",
        "    ..."
      ],
      "metadata": {
        "id": "DCiVoK3Tzbhk"
      },
      "execution_count": null,
      "outputs": []
    },
    {
      "cell_type": "markdown",
      "source": [
        "Ces méthodes, seules ou définies dans une combinaison spécifique, constituent les protocoles dits de langage. Si nous disons qu'un objet implémente un protocole de langage spécifique, cela signifie qu'il est compatible avec une partie spécifique de la syntaxe du langage Python. Voici un tableau des protocoles les plus courants dans le langage Python.\n",
        "\n",
        "![image.png](data:image/png;base64,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)\n",
        "\n",
        "![image.png](data:image/png;base64,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)"
      ],
      "metadata": {
        "id": "BxhqBEhKzhHJ"
      }
    },
    {
      "cell_type": "markdown",
      "source": [
        "Chaque opérateur disponible en Python a son propre protocole et la surcharge de l'opérateur se produit en implémentant les méthodes dunder de ce protocole. Python fournit plus de 50 opérateurs surchargeables qui peuvent être divisés en cinq groupes principaux :\n",
        "\n",
        "* Opérateurs arithmétiques \n",
        "* Opérateurs d'affectation sur place\n",
        "* Opérateurs de comparaison\n",
        "* Opérateurs d'identité\n",
        "* Opérateurs au niveau du bit\n",
        "\n",
        "Cela fait beaucoup de protocoles, nous ne les aborderons donc pas tous ici. Nous allons plutôt nous intéresser à un exemple pratique qui vous permettra de mieux comprendre comment implémenter la surcharge d'opérateurs par vous-même.\n",
        "\n",
        "Supposons que nous ayons affaire à un problème mathématique qui peut être résolu par des équations matricielles. Une matrice est un élément mathématique d'algèbre linéaire avec des opérations bien définies. Dans sa forme la plus simple, il s'agit d'un tableau de nombres à deux dimensions. Python n'a pas de support natif pour les tableaux multidimensionnels autres que les listes imbriquées dans les listes. Pour cette raison, ce serait une bonne idée de fournir une classe personnalisée qui encapsule les matrices et les opérations entre elles. Commençons par initialiser notre classe"
      ],
      "metadata": {
        "id": "euQNvV1Jz5t4"
      }
    },
    {
      "cell_type": "code",
      "source": [
        "class Matrix:    \n",
        "  def __init__(self, rows):        \n",
        "    if len(set(len(row) for row in rows)) > 1:            \n",
        "      raise ValueError(\"All matrix rows must be the same length\")        \n",
        "    self.rows = rows"
      ],
      "metadata": {
        "id": "lVHAS9mp0lMZ"
      },
      "execution_count": null,
      "outputs": []
    },
    {
      "cell_type": "markdown",
      "source": [
        "La première méthode dunder de la classe Matrix est \\_\\_init__(), qui nous permet d'initialiser la matrice en toute sécurité. Il accepte une liste variable de lignes de matrice comme arguments d'entrée via le déballage des arguments. Comme chaque ligne doit avoir le même nombre de colonnes, nous les parcourons et vérifions qu'elles ont toutes la même longueur. Ajoutons maintenant le premier opérateur de surcharge :"
      ],
      "metadata": {
        "id": "TNqYjJ-yzyyH"
      }
    },
    {
      "cell_type": "code",
      "source": [
        "def __add__(self, other):    \n",
        "  if (        \n",
        "      len(self.rows) != len(other.rows) or        \n",
        "      len(self.rows[0]) != len(other.rows[0])    \n",
        "      ):        \n",
        "      raise ValueError(\"Matrix dimensions don't match\")    \n",
        "    return Matrix([        \n",
        "                     [a + b for a, b in zip(a_row, b_row)]        \n",
        "                     for a_row, b_row in zip(self.rows, other.rows)    \n",
        "                     ])"
      ],
      "metadata": {
        "id": "uyomRQPA065s"
      },
      "execution_count": null,
      "outputs": []
    },
    {
      "cell_type": "markdown",
      "source": [
        "La méthode \\_\\_add__() est responsable de la surcharge de l'opérateur + (signe plus) et nous permet ici d'additionner deux matrices ensemble. Seules des matrices de mêmes dimensions peuvent être additionnées. Il s'agit d'une opération assez simple qui consiste à ajouter tous les éléments de la matrice un par un pour former une nouvelle matrice. La méthode \\_\\_sub__() est responsable de la surcharge de l'opérateur – (signe moins) qui sera responsable de la soustraction de la matrice. Pour soustraire deux matrices, nous utilisons une technique similaire à celle de l'opérateur - :"
      ],
      "metadata": {
        "id": "aYdQ4zwy1G1a"
      }
    },
    {
      "cell_type": "code",
      "source": [
        "def __sub__(self, other):    \n",
        "  if (       \n",
        "       len(self.rows) != len(other.rows) or        \n",
        "      len(self.rows[0]) != len(other.rows[0])    \n",
        "      ):        \n",
        "      raise ValueError(\"Matrix dimensions don't match\")    \n",
        "    \n",
        "    return Matrix([    \n",
        "                   [a - b for a, b in zip(a_row, b_row)]\n",
        "                   for a_row, b_row in zip(self.rows, other.rows)    \n",
        "                   ])"
      ],
      "metadata": {
        "id": "qRbNv-SD1WrG"
      },
      "execution_count": null,
      "outputs": []
    },
    {
      "cell_type": "markdown",
      "source": [
        "Et voici la dernière méthode que nous ajoutons à notre classe :"
      ],
      "metadata": {
        "id": "iCkMFGme1meJ"
      }
    },
    {
      "cell_type": "code",
      "source": [
        "def __mul__(self, other):    \n",
        "  if not isinstance(other, Matrix):       \n",
        "     raise TypeError(            \n",
        "         f\"Don't know how to multiply {type(other)} with Matrix\"        \n",
        "         )    \n",
        "     \n",
        "  if len(self.rows[0]) != len(other.rows):       \n",
        "     raise ValueError(            \n",
        "         \"Matrix dimensions don't match\"        \n",
        "         )    \n",
        "     \n",
        "  rows = [[0 for _ in other.rows[0]] for _ in self.rows]    \n",
        "  for i in range(len(self.rows)):        \n",
        "    for j in range(len(other.rows[0])):            \n",
        "      for k in range(len(other.rows)):                \n",
        "        rows[i][j] += self.rows[i][k] * other.rows[k][j]    \n",
        "        \n",
        "  return Matrix(rows)"
      ],
      "metadata": {
        "id": "vC_oPTjd1qPh"
      },
      "execution_count": null,
      "outputs": []
    },
    {
      "cell_type": "markdown",
      "source": [
        "Le dernier opérateur surchargé est le plus complexe. Il s'agit de l'opérateur *, qui est implémenté via la méthode \\_\\_mul__(). \n",
        "\n",
        "En algèbre linéaire, les matrices n'ont pas la même opération de multiplication que les nombres réels. Deux matrices peuvent être multipliées si la première matrice a un nombre de colonnes égal au nombre de lignes de la deuxième matrice. \n",
        "\n",
        "Le résultat de cette opération est une nouvelle matrice où chaque élément est un produit scalaire de la ligne correspondante de la première matrice et de la colonne correspondante de la seconde matrice. Ici, nous avons construit notre propre implémentation de la matrice pour présenter l'idée de surcharge des opérateurs. Bien que Python n'ait pas de type intégré pour les matrices, vous n'avez pas besoin de les construire à partir de zéro. Le package NumPy est l'un des meilleurs packages mathématiques Python et fournit, entre autres, un support natif pour l'algèbre matricielle. Vous pouvez facilement obtenir le package NumPy auprès de PyPI."
      ],
      "metadata": {
        "id": "LYbVn0ci17is"
      }
    },
    {
      "cell_type": "markdown",
      "source": [
        "## La comparaison avec C++ \n",
        "\n",
        "Un langage de programmation où la surcharge d'opérateurs est particulièrement courante est C++. C'est un langage OOP à typage statique qui n'a rien à voir avec Python. Python a des éléments OOP et certains mécanismes qui, par essence, sont similaires à ceux de C++. Il s'agit principalement de l'existence de classes et de l'héritage de classes ainsi que de la possibilité de surcharger les opérateurs. Mais la façon dont ces mécanismes sont implémentés dans le langage est complètement différente. Et c'est pourquoi la comparaison de ces deux langages est si fascinante. \n",
        "\n",
        "Le C++, contrairement à Python, possède plusieurs mécanismes de polymorphisme coexistants. Le mécanisme principal est le sous-typage, qui est également disponible en Python. Le deuxième type majeur de polymorphisme en C++ est le polymorphisme ad hoc par surcharge de fonctions. Python n'a pas d'équivalent direct de cette fonctionnalité. La surcharge de fonctions en C++ vous permet d'avoir plusieurs implémentations de la même fonction en fonction des arguments d'entrée. Cela signifie que vous pouvez avoir deux fonctions ou méthodes partageant le même nom mais ayant un nombre et/ou des types d'arguments différents. Comme C++ est un langage typé statiquement, les types d'arguments sont toujours connus à l'avance et le choix de l'implémentation exacte se fait au moment de la compilation. Pour le rendre encore plus flexible, la surcharge de fonction peut être utilisée avec la surcharge d'opérateur. \n",
        "\n",
        "Le cas d'utilisation d'une telle coexistence de surcharge peut être mieux compris si nous ramenons le cas d'utilisation de la multiplication matricielle. Nous savons que deux matrices peuvent être multipliées ensemble et nous avons appris à le faire dans la section précédente. Mais l'algèbre linéaire permet aussi de multiplier une matrice avec un type scalaire comme un nombre réel. \n",
        "\n",
        "Cette opération donne une nouvelle matrice où chaque élément a été multiplié par le scalaire. Dans le code, cela signifierait essentiellement une autre implémentation de l'opérateur de multiplication. En C++, vous pouvez simplement fournir plusieurs fonctions de surcharge d'opérateur * coexistantes. \n",
        "\n",
        "Voici un exemple de signatures de fonction C++ pour les opérateurs surchargés qui pourraient permettre diverses implémentations de multiplication matricielle et scalaire :\n",
        "\n",
        "\n",
        "    Matrix operator+(const Matrix& lhs, const Matrix& rhs)\n",
        "    Matrix operator+(const Matrix& lhs, const int& rhs)\n",
        "    Matrix operator+(const Matrix& lhs, const float& rhs)\n",
        "    Matrix operator+(const int& lhs, const Matrix& rhs)\n",
        "    Matrix operator+(const float& lhs, const Matrix& rhs)\n",
        "\n",
        "Python est un langage à typage dynamique, et c'est la principale raison pour laquelle il n'a pas de surcharge de fonctions comme en C++. Si nous voulons implémenter la surcharge de l'opérateur * sur la classe Matrix qui prend en charge à la fois la multiplication matricielle et la multiplication scalaire, nous devons vérifier le type d'entrée de l'opérateur au moment de l'exécution. Cela peut être fait avec la fonction intégrée isinstance() comme dans l'exemple suivant :"
      ],
      "metadata": {
        "id": "xtvtm3XB2bKA"
      }
    },
    {
      "cell_type": "code",
      "source": [
        "def __mul__(self, other):    \n",
        "  if isinstance(other, Matrix):        \n",
        "    ...    \n",
        "  elif isinstance(other, Number):        \n",
        "    return Matrix([            \n",
        "                   [item * other for item in row]            \n",
        "                   for row in self.rows        \n",
        "                   ])    \n",
        "  else:        \n",
        "    raise TypeError(f\"Can't subtract {type(other)} from Matrix\")"
      ],
      "metadata": {
        "id": "u4J9bGdc45uP"
      },
      "execution_count": null,
      "outputs": []
    },
    {
      "cell_type": "markdown",
      "source": [
        "Une autre différence majeure est que la surcharge de l'opérateur C++ est effectuée via des fonctions libres au lieu de méthodes de classe, tandis qu'en Python, l'opérateur est toujours résolu à partir de la méthode dunder d'un opérande. Cette différence peut à nouveau être affichée à l'aide d'un exemple d'implémentation scalaire. L'exemple précédent nous permettait de multiplier une matrice par un nombre entier sous la forme suivante :\n",
        "\n",
        "    Matrix([[1, 1], [2, 2]]) * 3\n",
        "\n",
        "Cela fonctionnera car l'implémentation de l'opérateur surchargé sera résolue à partir de l'opérande de gauche. D'autre part, l'expression suivante entraînera TypeError :\n",
        "\n",
        "    3 * Matrix([1, 1], [2, 2]])\n",
        "\n",
        "En C++, vous pouvez fournir plusieurs versions de surcharge d'opérateur qui couvrent toutes les combinaisons de types d'opérandes pour l'opérateur *. En Python, la solution de contournement à ce problème consiste à fournir la méthode \\_\\_rmul__(). Cette méthode est résolue à partir de l'opérande de droite si l'opérateur \\_\\_mul__() de gauche lève TypeError. La plupart des opérateurs inx ont leurs alternatives d'implémentation du côté droit. Voici un exemple de la méthode \\_\\_rmul__() pour la classe Matrix qui vous permet d'effectuer une multiplication scalaire avec un argument numérique à droite :"
      ],
      "metadata": {
        "id": "VmJcoRtF5GS8"
      }
    },
    {
      "cell_type": "code",
      "source": [
        "def __rmul__(self, other):        \n",
        "  if isinstance(other, Number):            \n",
        "    return self * other"
      ],
      "metadata": {
        "id": "2ZUFqzUR5z_K"
      },
      "execution_count": null,
      "outputs": []
    },
    {
      "cell_type": "markdown",
      "source": [
        "Comme vous le voyez, cela nécessite toujours l'utilisation de l'évaluation de type via la fonction isinstance(), donc la surcharge d'opérateur doit être utilisée avec beaucoup de prudence, surtout si les opérateurs surchargés reçoivent une signification complètement nouvelle qui n'est pas conforme à leur objectif initial. les implémentations alternatives surchargées de l'opérateur en fonction du type d'opérande unique sont généralement un signe que l'opérateur a perdu sa signification claire. \n",
        "\n",
        "Par exemple, la multiplication matricielle et la multiplication scalaire sont mathématiquement deux opérations distinctes. Ils ont des propriétés différentes. Par exemple, la multiplication scalaire est cumulative alors que la multiplication matricielle ne l'est pas. Fournir un opérateur surchargé pour une classe personnalisée qui a plusieurs implémentations internes peut rapidement prêter à confusion, en particulier dans le code qui traite des problèmes mathématiques. 't avoir le type de matrice intégré. C'était juste pour mieux montrer le danger et les complexités de l'utilisation excessive de la surcharge des opérateurs. \n",
        "\n",
        "\n",
        "L'opérateur dédié à la multiplication matricielle est @ et en fait, la confusion potentielle entre la multiplication scalaire et matricielle était l'une des principales raisons pour lesquelles cet opérateur a été introduit.\n",
        "\n",
        " Dans de nombreux langages de programmation, la surcharge d'opérateurs peut être considérée comme un cas particulier de surcharge de fonctions et de méthodes et ces viennent généralement par paire. Étonnamment, Python a une surcharge d'opérateurs mais n'offre pas de véritable surcharge de fonctions et de méthodes. Il propose différents modèles pour combler cette lacune. Nous les aborderons dans la section suivante"
      ],
      "metadata": {
        "id": "FeYuZHeg57z1"
      }
    },
    {
      "cell_type": "markdown",
      "source": [
        "## Surcharge de fonctions et de méthodes\n",
        "\n",
        "Une caractéristique commune à de nombreux langages de programmation est la surcharge de fonctions et de méthodes. C'est un autre type de mécanisme de polymorphisme. La surcharge vous permet d'avoir plusieurs implémentations d'une seule fonction en utilisant différentes signatures d'appel. Un compilateur de langage ou un interpréteur est capable de sélectionner une implémentation correspondante en fonction de l'ensemble d'arguments d'appel de fonction fourni. La surcharge de fonction est généralement résolue en fonction de :\n",
        "\n",
        "* L'arité de la fonction (nombre de paramètres) : deux définitions de fonction peuvent partager un nom de fonction si leurs signatures attendent un nombre différent de paramètres.\n",
        "\n",
        "* Types de paramètres : deux définitions de fonction peuvent partager un nom de la fonction si leurs signatures attendent différents types de paramètres\n",
        "\n",
        "Comme déjà indiqué dans la section Surcharge d'opérateur, Python ne dispose pas d'un mécanisme de surcharge pour les fonctions et les méthodes autres que la surcharge d'opérateur. Si vous définissez plusieurs fonctions dans un seul module qui partagent le même nom, cette dernière définition masquera toujours toutes les définitions précédentes\n",
        "\n",
        "\n",
        "S'il est nécessaire de fournir plusieurs implémentations de fonctions qui se comportent différemment selon le type ou le nombre d'arguments fournis, Python propose plusieurs alternatives :\n",
        "\n",
        "* Utiliser des méthodes et/ou des sous-classes : au lieu de compter sur une fonction pour distinguer le type de paramètre, vous pouvez liez-le à un type spécifique en le définissant comme une méthode de ce type.\n",
        "\n",
        "* Utilisation du déballage d'arguments et d'arguments par mot-clé : Python permet une certaine flexibilité concernant les signatures de fonction pour prendre en charge un nombre variable d'arguments via *args et ** modèles kwargs (également connus sous le nom de fonctions variadiques).\n",
        "\n",
        "* Utilisation de la vérification de type : la fonction isinstance() nous permet de tester les arguments d'entrée par rapport à des types et des classes de base spécifiques pour décider comment les gérer\n",
        "\n",
        "Bien sûr, chacune des options ci-dessus a certaines limites. Pousser l'implémentation de la fonction directement vers les définitions de classe en tant que méthodes n'aura aucun sens si ladite méthode ne constitue pas un comportement d'objet unique. Le déballage d'arguments et d'arguments de mots-clés peut rendre les signatures de fonction vagues et difficiles à maintenir. Très souvent, le substitut le plus fiable et le plus lisible à la surcharge de fonctions en Python est simplement la vérification de type. Nous avons déjà vu cette technique en action lors de la discussion sur la surcharge des opérateurs. Rappelons la méthode \\_\\_mul__() qui était capable de faire la distinction entre multiplication matricielle et scalaire.\n",
        "\n",
        "Comme vous pouvez le voir, quelque chose qui, dans un langage typé statiquement, devrait être fait par surcharge de fonction, en Python peut être résolu avec un simple appel isinstance(). Cela peut être compris comme un avantage plutôt qu'un inconvénient de Python. Pourtant, cette technique n'est pratique que pour un petit nombre de signatures d'appel. Lorsque le nombre de types pris en charge augmente, il est souvent préférable d'utiliser des modèles plus modulaires. De tels modèles reposent sur des fonctions de répartition unique\n",
        "\n"
      ],
      "metadata": {
        "id": "OOcO3V7d6hjl"
      }
    },
    {
      "cell_type": "markdown",
      "source": [
        "## Fonctions à répartition unique \n",
        "\n",
        "Dans les situations où une alternative à la surcharge de fonctions est requise et où le nombre d'implémentations de fonctions alternatives est très important, l'utilisation de plusieurs clauses if isinstance(...) peut rapidement devenir incontrôlable. Une bonne pratique de conception dicte l'écriture de petites fonctions à usage unique. \n",
        "\n",
        "Une grande fonction qui se branche sur plusieurs types pour gérer différemment les arguments d'entrée est rarement une bonne conception. \n",
        "\n",
        "La bibliothèque standard Python fournit une alternative pratique. Le décorateur functools.singledispatch() vous permet d'enregistrer plusieurs implémentations d'une fonction. Ces implémentations peuvent prendre n'importe quel nombre d'arguments mais les implémentations seront distribuées en fonction du type du premier argument. \n",
        "\n",
        "L'envoi unique commence par une définition d'une fonction qui sera utilisée par défaut pour tout type non enregistré. Supposons que nous ayons besoin d'une fonction capable de générer diverses variables dans un format lisible par l'homme dans le but d'afficher un rapport plus volumineux dans la sortie de la console. Par défaut, nous pourrions utiliser la chaîne f pour désigner une valeur brute au format chaîne :"
      ],
      "metadata": {
        "id": "RIBYgqt38FGT"
      }
    },
    {
      "cell_type": "code",
      "source": [
        "from functools import singledispatch\n",
        "\n",
        "@singledispatch\n",
        "def report(value):    \n",
        "  return f\"raw: {value}\""
      ],
      "metadata": {
        "id": "NYXgOcr28igS"
      },
      "execution_count": 1,
      "outputs": []
    },
    {
      "cell_type": "markdown",
      "source": [
        "À partir de là, nous pouvons commencer à enregistrer différentes implémentations pour différents types à l'aide du décorateur report.register(). Ce décorateur est capable de lire les annotations de type d'argument de fonction pour enregistrer des gestionnaires de type spécifiques. Supposons que nous souhaitions que les objets datetime soient signalés au format ISO :"
      ],
      "metadata": {
        "id": "N027TYcZ8ygi"
      }
    },
    {
      "cell_type": "code",
      "source": [
        "from datetime import datetime\n",
        "\n",
        "@report.register\n",
        "def _(value: datetime):    \n",
        "  return f\"dt: {value.isoformat()}\""
      ],
      "metadata": {
        "id": "eKBU8DTU88tq"
      },
      "execution_count": 2,
      "outputs": []
    },
    {
      "cell_type": "markdown",
      "source": [
        "Notez que nous avons utilisé le jeton _ comme nom de fonction réel. Cela sert deux objectifs. Premièrement, c'est une convention pour les noms d'objets qui ne sont pas censés être utilisés explicitement. Deuxièmement, si nous utilisions le nom du rapport à la place, nous masquerions la fonction d'origine, perdant ainsi la possibilité d'y accéder et d'enregistrer de nouveaux types.\n",
        "\n",
        "Définissons quelques gestionnaires de type supplémentaires :"
      ],
      "metadata": {
        "id": "OyofeqDr9Eg-"
      }
    },
    {
      "cell_type": "code",
      "source": [
        "from numbers import Real\n",
        "\n",
        "@report.register\n",
        "def _(value: complex):    \n",
        "  return f\"complex: {value.real}{value.imag:+}j\"\n",
        "\n",
        "@report.register\n",
        "def _(value: Real):    \n",
        "  return f\"real: {value:f}\""
      ],
      "metadata": {
        "id": "SzCWCbxx9U0D"
      },
      "execution_count": 3,
      "outputs": []
    },
    {
      "cell_type": "markdown",
      "source": [
        "Notez que les annotations de saisie ne sont pas nécessaires mais nous les avons utilisées comme élément de bonne pratique. Si vous ne souhaitez pas utiliser d'annotations de frappe, vous pouvez spécifier le type enregistré comme argument de la méthode register() comme dans l'exemple suivant :"
      ],
      "metadata": {
        "id": "qtA84eit9g_M"
      }
    },
    {
      "cell_type": "code",
      "source": [
        "from numbers import Real\n",
        "\n",
        "@report.register(complex)\n",
        "def _(value):    \n",
        "  return f\"complex: {value.real}{value.imag:+}j\"\n",
        "\n",
        "@report.register(Real)\n",
        "def _(value):    \n",
        "  return f\"real: {value:f}\""
      ],
      "metadata": {
        "id": "DUg3aDLV9rs8"
      },
      "execution_count": 4,
      "outputs": []
    },
    {
      "cell_type": "markdown",
      "source": [
        "Si nous essayions de vérifier le comportement de notre collection d'implémentations à répartition unique dans une session interactive, nous obtiendrions une sortie comme celle-ci :"
      ],
      "metadata": {
        "id": "zBJ_OCQ196ur"
      }
    },
    {
      "cell_type": "code",
      "source": [
        "report(datetime.now())"
      ],
      "metadata": {
        "colab": {
          "base_uri": "https://localhost:8080/",
          "height": 36
        },
        "id": "bWpzNinF-AJF",
        "outputId": "8d50d7de-349c-466f-ea15-e23609b22df1"
      },
      "execution_count": 5,
      "outputs": [
        {
          "output_type": "execute_result",
          "data": {
            "text/plain": [
              "'dt: 2022-05-11T16:33:49.720836'"
            ],
            "application/vnd.google.colaboratory.intrinsic+json": {
              "type": "string"
            }
          },
          "metadata": {},
          "execution_count": 5
        }
      ]
    },
    {
      "cell_type": "code",
      "source": [
        "report(100-30j)"
      ],
      "metadata": {
        "colab": {
          "base_uri": "https://localhost:8080/",
          "height": 36
        },
        "id": "ai-Xgvou-GKn",
        "outputId": "d0108c3a-7bb4-48e7-86a5-a6eb893a3c47"
      },
      "execution_count": 6,
      "outputs": [
        {
          "output_type": "execute_result",
          "data": {
            "text/plain": [
              "'complex: 100.0-30.0j'"
            ],
            "application/vnd.google.colaboratory.intrinsic+json": {
              "type": "string"
            }
          },
          "metadata": {},
          "execution_count": 6
        }
      ]
    },
    {
      "cell_type": "code",
      "source": [
        "report(9001)"
      ],
      "metadata": {
        "colab": {
          "base_uri": "https://localhost:8080/",
          "height": 36
        },
        "id": "Ev8GLCou-I9s",
        "outputId": "077458bc-e4be-4354-d56f-689abff39b33"
      },
      "execution_count": 7,
      "outputs": [
        {
          "output_type": "execute_result",
          "data": {
            "text/plain": [
              "'real: 9001.000000'"
            ],
            "application/vnd.google.colaboratory.intrinsic+json": {
              "type": "string"
            }
          },
          "metadata": {},
          "execution_count": 7
        }
      ]
    },
    {
      "cell_type": "markdown",
      "source": [
        "Comme nous le voyons, la fonction report() est maintenant un point d'entrée vers une collection de fonctions enregistrées. Chaque fois qu'il est appelé avec un argument, il regarde dans le mappage de registre stocké dans report.registry. Il y a toujours au moins une clé qui mappe le type d'objet à l'implémentation par défaut de la fonction. De plus, il existe une variante du mécanisme de répartition unique dédié aux méthodes de classe. \n",
        "\n",
        "Les méthodes reçoivent toujours l'instance courante de l'objet comme premier argument. Cela signifie que le décorateur functools.singledispatch() ne serait pas efficace car le premier argument des méthodes est toujours du même type. Les outils de fonction. Le décorateur singledispatchmethod() garde cette convention d'appel à l'esprit et vous permet également d'enregistrer plusieurs implémentations spécifiques au type sur les méthodes. Cela fonctionne en résolvant le premier argument non-self, non-cls :"
      ],
      "metadata": {
        "id": "RN9GM6t9-Roc"
      }
    },
    {
      "cell_type": "code",
      "source": [
        "from functools import singledispatchmethod\n",
        "\n",
        "class Example:    \n",
        "  @singledispatchmethod    \n",
        "  def method(self, argument):        \n",
        "    pass    \n",
        "    \n",
        "  @method.register    \n",
        "  def _(self, argument: float):        \n",
        "    pass"
      ],
      "metadata": {
        "id": "qL_ATbNc-naC"
      },
      "execution_count": null,
      "outputs": []
    },
    {
      "cell_type": "markdown",
      "source": [
        "N'oubliez pas que si le mécanisme de répartition unique est une forme de polymorphisme qui ressemble à la surcharge de fonctions, ce n'est pas exactement la même chose. Vous ne pouvez pas l'utiliser pour fournir plusieurs implémentations d'une fonction sur plusieurs types d'arguments et la bibliothèque standard Python manque actuellement d'un tel utilitaire de distribution multiple"
      ],
      "metadata": {
        "id": "pTATxkei-09N"
      }
    },
    {
      "cell_type": "markdown",
      "source": [
        "## Data class\n",
        "\n",
        "Comme nous l'avons appris dans la section Initialisation d'instance de classe, la manière canonique de déclarer des attributs d'instance de classe consiste à les affecter dans la méthode \\_\\_init__() comme dans l'exemple suivant :"
      ],
      "metadata": {
        "id": "KiILDHSSHD6m"
      }
    },
    {
      "cell_type": "code",
      "source": [
        "class Vector:    \n",
        "  def __init__(self, x, y):        \n",
        "    self.x = x        \n",
        "    self.y = y"
      ],
      "metadata": {
        "id": "ro6S2hpaHr9l"
      },
      "execution_count": null,
      "outputs": []
    },
    {
      "cell_type": "markdown",
      "source": [
        "Supposons que nous construisons un programme qui effectue des calculs géométriques et que Vector est une classe qui nous permet de conserver des informations sur les vecteurs bidimensionnels. Nous afficherons les données des vecteurs à l'écran et effectuerons des opérations mathématiques courantes, telles que l'addition, la soustraction et la comparaison d'égalité. Nous savons déjà que nous pouvons utiliser des méthodes spéciales et une surcharge d'opérateurs pour atteindre cet objectif de manière pratique. Nous pouvons implémenter notre classe Vector comme suit"
      ],
      "metadata": {
        "id": "Qklgc1xqHyvW"
      }
    },
    {
      "cell_type": "code",
      "source": [
        "class Vector:    \n",
        "  def __init__(self, x, y):        \n",
        "    self.x = x        \n",
        "    self.y = y    \n",
        "  \n",
        "  def __add__(self, other):        \n",
        "    \"\"\"Add two vectors using + operator\"\"\"        \n",
        "    return Vector(            \n",
        "        self.x + other.x,            \n",
        "        self.y + other.y,        \n",
        "        )    \n",
        "  \n",
        "  def __sub__(self, other):        \n",
        "    \"\"\"Subtract two vectors using - operator\"\"\"        \n",
        "    return Vector(            \n",
        "        self.x - other.x,            \n",
        "        self.y - other.y,        \n",
        "        )    \n",
        "  \n",
        "  def __repr__(self):       \n",
        "     \"\"\"Return textual representation of vector\"\"\"       \n",
        "     return f\"<Vector: x={self.x}, y={self.y}>\"    \n",
        "      \n",
        "  def __eq__(self, other):        \n",
        "    \"\"\"Compare two vectors for equality\"\"\"        \n",
        "    return self.x == other.x and self.y == other.y"
      ],
      "metadata": {
        "id": "Re0nuvVCH_kf"
      },
      "execution_count": 2,
      "outputs": []
    },
    {
      "cell_type": "markdown",
      "source": [
        "Voici l'exemple de session interactive qui montre comment il se comporte lorsqu'il est utilisé avec des opérateurs courants :"
      ],
      "metadata": {
        "id": "VpXFUOPgIa5q"
      }
    },
    {
      "cell_type": "code",
      "source": [
        "Vector(2, 3)"
      ],
      "metadata": {
        "colab": {
          "base_uri": "https://localhost:8080/"
        },
        "id": "jBhNegWyIiMC",
        "outputId": "13555347-2fff-4874-aebf-9054053d71f5"
      },
      "execution_count": 3,
      "outputs": [
        {
          "output_type": "execute_result",
          "data": {
            "text/plain": [
              "<Vector: x=2, y=3>"
            ]
          },
          "metadata": {},
          "execution_count": 3
        }
      ]
    },
    {
      "cell_type": "code",
      "source": [
        "Vector(5, 3) + Vector(1, 2)"
      ],
      "metadata": {
        "colab": {
          "base_uri": "https://localhost:8080/"
        },
        "id": "L2ciqUsHIlP6",
        "outputId": "fa30dceb-ab8a-4c90-b425-8d9ec985a72b"
      },
      "execution_count": 4,
      "outputs": [
        {
          "output_type": "execute_result",
          "data": {
            "text/plain": [
              "<Vector: x=6, y=5>"
            ]
          },
          "metadata": {},
          "execution_count": 4
        }
      ]
    },
    {
      "cell_type": "code",
      "source": [
        "Vector(5, 3) - Vector(1, 2)"
      ],
      "metadata": {
        "colab": {
          "base_uri": "https://localhost:8080/"
        },
        "id": "b3pUp0UrIn6j",
        "outputId": "5f816bfa-655e-46a7-d957-5d80e5541a84"
      },
      "execution_count": 5,
      "outputs": [
        {
          "output_type": "execute_result",
          "data": {
            "text/plain": [
              "<Vector: x=4, y=1>"
            ]
          },
          "metadata": {},
          "execution_count": 5
        }
      ]
    },
    {
      "cell_type": "code",
      "source": [
        "Vector(1, 1) == Vector(2, 2)"
      ],
      "metadata": {
        "colab": {
          "base_uri": "https://localhost:8080/"
        },
        "id": "zXjCwnQ2IrpQ",
        "outputId": "cc87112d-43e4-40f0-b724-9c8115f289f3"
      },
      "execution_count": 6,
      "outputs": [
        {
          "output_type": "execute_result",
          "data": {
            "text/plain": [
              "False"
            ]
          },
          "metadata": {},
          "execution_count": 6
        }
      ]
    },
    {
      "cell_type": "markdown",
      "source": [
        "L'implémentation vectorielle précédente est assez simple, mais elle implique beaucoup de code qui pourrait être évité. Notre classe Vector est axée sur les données. \n",
        "\n",
        "La plupart du comportement qu'il fournit est centré sur la création de nouvelles instances de Vector via des opérations mathématiques. Il ne fournit pas d'initialisation complexe ni de modèles d'accès aux attributs personnalisés. \n",
        "\n",
        "Des éléments tels que la comparaison d'égalité, la représentation de chaînes et l'initialisation d'attributs seront très similaires et répétitifs pour diverses classes axées sur les données. Si votre programme utilise de nombreuses classes simples similaires axées sur des données qui ne nécessitent pas d'initialisation complexe, vous finirez par écrire beaucoup de code passe-partout uniquement pour les méthodes \\_\\_init__(), \\_\\_repr__() et \\_\\_eq__().Avec le module dataclasses , nous pouvons rendre notre code de classe Vector beaucoup plus court :"
      ],
      "metadata": {
        "id": "NSEp6Qu4Iw4G"
      }
    },
    {
      "cell_type": "code",
      "source": [
        "from dataclasses import dataclass\n",
        "\n",
        "@dataclass\n",
        "class Vector:          \n",
        "  \n",
        "  x: int        \n",
        "  y: int    \n",
        "  \n",
        "  def __add__(self, other):        \n",
        "    \"\"\"Add two vectors using + operator\"\"\"        \n",
        "    return Vector(            \n",
        "        self.x + other.x,            \n",
        "        self.y + other.y,        \n",
        "        )    \n",
        "  \n",
        "  def __sub__(self, other):        \n",
        "    \"\"\"Subtract two vectors using - operator\"\"\"        \n",
        "    return Vector(            \n",
        "        self.x - other.x,            \n",
        "        self.y - other.y,        \n",
        "        )    "
      ],
      "metadata": {
        "id": "ppe1JCHGJJpY"
      },
      "execution_count": 7,
      "outputs": []
    },
    {
      "cell_type": "markdown",
      "source": [
        "Le décorateur de classe dataclass lit les annotations d'attribut de la classe Vector et crée automatiquement les méthodes \\_\\_init__(), \\_\\_repr__() et \\_\\_eq__(). La comparaison d'égalité par défaut suppose que les deux instances sont égales si tous leurs attributs respectifs sont égaux l'un à l'autre.\n",
        "\n",
        "Mais ce n'est pas tout. Les classes de données offrent de nombreuses fonctionnalités utiles. Ils peuvent également être facilement rendus compatibles avec d'autres protocoles Python. Supposons que nous voulions que nos instances de classe Vector soient immuables. Grâce à cela, ils pourraient être utilisés comme clés de dictionnaire et comme valeurs de contenu dans des ensembles. Vous pouvez le faire en ajoutant simplement un argument frozen=True au décorateur dataclass, comme dans l'exemple suivant :"
      ],
      "metadata": {
        "id": "HjihDrWbJe02"
      }
    },
    {
      "cell_type": "code",
      "source": [
        "from dataclasses import dataclass\n",
        "\n",
        "@dataclass(frozen=True)\n",
        "class FrozenVector:    \n",
        "  x: int    \n",
        "  y: int"
      ],
      "metadata": {
        "id": "dSarNkPkJ8F7"
      },
      "execution_count": 8,
      "outputs": []
    },
    {
      "cell_type": "markdown",
      "source": [
        "Python en comparaison avec d'autres langages[ 154 ]Mais ce n'est pas tout. Les classes de données offrent de nombreuses fonctionnalités utiles. Ils peuvent également être facilement rendus compatibles avec d'autres protocoles Python. Supposons que nous voulions que nos instances de classe Vector soient immuables. Grâce à cela, ils pourraient être utilisés comme clés de dictionnaire et comme valeurs de contenu dans des ensembles. \n",
        "\n",
        "Vous pouvez le faire en ajoutant simplement un argument frozen=True au décorateur de dataclass, comme dans l'exemple suivant :from dataclasses import dataclass@dataclass(frozen=True)class immuable, vous ne pourrez donc modifier aucun de ses attributs. Vous pouvez toujours ajouter et soustraire deux instances de Vector comme dans notre exemple ; ces opérations créent simplement de nouveaux objets Vector. Nous avons déjà appris les dangers d'assigner des valeurs par défaut aux attributs de classe dans le corps de la classe principale au lieu de la fonction \\_\\_init__(). \n",
        "\n",
        "Le module dataclass offre une alternative utile via le constructeur field(). Ce constructeur vous permet de spécifier des valeurs par défaut modifiables et immuables pour les attributs de classe de données de manière saine et sécurisée sans risquer de divulguer l'état entre les instances de classe. Les valeurs par défaut statiques et immuables sont fournies à l'aide de l'appel field(default=value). Les valeurs modifiables doivent toujours être transmises en fournissant un constructeur de type à l'aide de l'appel field(default_factory=constructor). Voici un exemple de classe de données avec deux attributs dont les valeurs par défaut sont affectées via le constructeur field() :"
      ],
      "metadata": {
        "id": "CcQC2NmOKGiN"
      }
    },
    {
      "cell_type": "code",
      "source": [
        "from dataclasses import dataclass, field\n",
        "\n",
        "\n",
        "@dataclass\n",
        "class DataClassWithDefaults:    \n",
        "  immutable: str = field(default=\"this is static default value\")    \n",
        "  mutable: list = field(default_factory=list)"
      ],
      "metadata": {
        "id": "5Gmv0EkkK6j0"
      },
      "execution_count": 9,
      "outputs": []
    },
    {
      "cell_type": "markdown",
      "source": [
        "Une fois qu'un attribut de classe de données a sa valeur par défaut affectée, l'argument d'initialisation correspondant pour ce champ devient facultatif. La transcription suivante présente différentes manières d'initialiser les instances de classe DataClassWithDefaults :"
      ],
      "metadata": {
        "id": "hBdG-11YLLKO"
      }
    },
    {
      "cell_type": "code",
      "source": [
        "DataClassWithDefaults()"
      ],
      "metadata": {
        "colab": {
          "base_uri": "https://localhost:8080/"
        },
        "id": "nTRMsVOjLTZN",
        "outputId": "650e412d-3b67-4fdc-9ff7-d35b3e188a2c"
      },
      "execution_count": 10,
      "outputs": [
        {
          "output_type": "execute_result",
          "data": {
            "text/plain": [
              "DataClassWithDefaults(immutable='this is static default value', mutable=[])"
            ]
          },
          "metadata": {},
          "execution_count": 10
        }
      ]
    },
    {
      "cell_type": "code",
      "source": [
        "DataClassWithDefaults(\"This is immutable\")"
      ],
      "metadata": {
        "colab": {
          "base_uri": "https://localhost:8080/"
        },
        "id": "2cyyhRaGLYd3",
        "outputId": "51715dc9-1d21-45c7-be8e-40d3c09b8c06"
      },
      "execution_count": 11,
      "outputs": [
        {
          "output_type": "execute_result",
          "data": {
            "text/plain": [
              "DataClassWithDefaults(immutable='This is immutable', mutable=[])"
            ]
          },
          "metadata": {},
          "execution_count": 11
        }
      ]
    },
    {
      "cell_type": "code",
      "source": [
        "DataClassWithDefaults(None, [\"this\", \"is\", \"list\"])"
      ],
      "metadata": {
        "colab": {
          "base_uri": "https://localhost:8080/"
        },
        "id": "qYmvVmiiLcxq",
        "outputId": "adb0749c-9c6d-45bc-9b62-65f8c838f5a9"
      },
      "execution_count": 12,
      "outputs": [
        {
          "output_type": "execute_result",
          "data": {
            "text/plain": [
              "DataClassWithDefaults(immutable=None, mutable=['this', 'is', 'list'])"
            ]
          },
          "metadata": {},
          "execution_count": 12
        }
      ]
    },
    {
      "cell_type": "markdown",
      "source": [
        "Les classes de données sont de nature similaire aux structures en C ou Go. Leur objectif principal est de contenir des données et de fournir des raccourcis pour l'initialisation autrement fastidieuse des attributs d'instance. Mais ils ne doivent pas être utilisés comme base pour toutes les classes personnalisées possibles. Si votre classe n'est pas destinée à représenter les données et/ou nécessite une initialisation d'état personnalisée ou complexe, vous devriez plutôt utiliser la méthode d'initialisation par défaut : via la méthode \\_\\_init__(). Python ne concerne pas uniquement la POO. Il prend également en charge d'autres paradigmes de programmation. \n",
        "\n",
        "L'un de ces paradigmes est la programmation fonctionnelle, qui se concentre sur l'évaluation des fonctions. Les langages de programmation fonctionnels purs sont généralement radicalement différents de leurs homologues POO. Mais les langages de programmation multiparadigmes essaient de tirer le meilleur parti de nombreux styles de programmation. C'est également vrai pour Python. Dans la section suivante, nous passerons en revue quelques éléments de Python qui prennent en charge la programmation fonctionnelle. Vous remarquerez bientôt que ce paradigme en Python est en fait construit sur les fondations posées par la POO."
      ],
      "metadata": {
        "id": "H8KDEPWrLl8E"
      }
    },
    {
      "cell_type": "markdown",
      "source": [
        "## Programmation fonctionnelle\n",
        "\n",
        "L'un des grands avantages de la programmation en Python est que vous n'êtes jamais contraint à une seule façon de penser vos programmes. Il existe toujours différentes façons de résoudre un problème donné, et parfois la meilleure nécessite une approche légèrement différente de celle qui serait la plus évidente. Parfois, cette approche nécessite l'utilisation de la programmation déclarative. Heureusement, Python, avec sa syntaxe riche et sa grande bibliothèque standard, offre des fonctionnalités de programmation fonctionnelle, et la programmation fonctionnelle est l'un des principaux paradigmes de la programmation déclarative. \n",
        "\n",
        "La programmation fonctionnelle est un paradigme où le déroulement du programme est réalisé principalement par l'évaluation de ( mathématiques) plutôt que par une série d'étapes qui modifient l'état du programme. Les programmes purement fonctionnels évitent le changement d'état (effets secondaires) et l'utilisation de structures de données mutables.\n",
        "\n",
        "L'un des meilleurs moyens de mieux comprendre le concept général de la programmation fonctionnelle est de se familiariser avec les termes de base de la programmation fonctionnelle : \n",
        "\n",
        "* Effets de bord : une fonction est dite avoir un effet de bord si elle modifie l'état en dehors de son état local. environnement. En d'autres termes, un effet secondaire est tout changement observable en dehors de la portée de la fonction qui se produit à la suite d'un appel de fonction. Un exemple de tels effets secondaires pourrait être la modification d'une variable globale, la modification d'un attribut d'un objet qui est disponible en dehors de la portée de la fonction, ou la sauvegarde de données vers un service externe. Les effets secondaires sont au cœur du concept de POO, où les instances de classe sont des objets utilisés pour encapsuler l'état d'une application, et les méthodes sont des fonctions liées aux objets censés manipuler l'état de ces objets. La programmation procédurale s'appuie également fortement sur les effets secondaires. \n",
        "\n",
        "* Transparence référentielle : lorsqu'une fonction ou une expression est transparente du point de vue référentiel, elle peut être remplacée par la valeur qui correspond à sa sortie sans modifier le comportement du programme. Ainsi, l'absence d'effets secondaires est une exigence pour la transparence référentielle, mais toutes les fonctions dépourvues d'effets secondaires ne sont pas des fonctions transparentes référentiellement. Par exemple, la fonction intégrée pow(x, y) de Python est référentiellement transparente, car elle manque d'effets secondaires, et pour chaque argument x et y, elle peut être remplacée par la valeur de xy. D'autre part, la méthode constructeur datetime.now() du type datetime ne semble pas avoir d'effets secondaires observables mais renverra une valeur différente à chaque appel. Elle est donc référentiellement opaque. \n",
        "\n",
        "* Fonctions pures : Une fonction pure est une fonction qui n'a pas d'effets secondaires et qui renvoie toujours la même valeur pour le même ensemble d'arguments d'entrée. En d'autres termes, c'est une fonction référentiellement transparente. Toute fonction mathématique est, par définition, une fonction pure. De même, une fonction qui laisse une trace de son exécution pour le monde extérieur (par exemple, en modifiant des objets reçus) n'est pas une fonction pure. le langage peut être traité comme n'importe quelle autre valeur ou entité. Les fonctions de première classe peuvent être transmises en tant qu'arguments à d'autres fonctions, renvoyées en tant que valeurs de retour de fonction et affectées à des variables. En d'autres termes, une langue qui a des fonctions de première classe est une langue qui traite les fonctions comme des citoyens de première classe. Les fonctions en Python sont des fonctions de première classe.\n",
        "\n",
        "En utilisant ces concepts, nous pourrions décrire un langage purement fonctionnel comme un langage qui :\n",
        "\n",
        "* Possède des fonctions de premier ordre\n",
        "* Ne s'intéresse qu'aux fonctions pures\n",
        "* Évite toute modification d'état et effets secondaires\n",
        "\n",
        "Python, bien sûr, n'est pas un langage de programmation purement fonctionnel, et il serait vraiment difficile d'imaginer un programme Python utile qui n'utilise que des fonctions pures sans aucun effet secondaire. D'autre part, Python offre une grande variété de fonctionnalités qui, pendant des années, n'étaient accessibles que dans des langages purement fonctionnels, comme :\n",
        "\n",
        "* Les fonctions Lambda et les fonctions de première classe\n",
        "* Les fonctions map(), filter() et reduce() \n",
        "* Objets et fonctions partiels \n",
        "* Générateurs et expressions de générateur\n",
        "\n",
        "Ces fonctionnalités permettent d'écrire des quantités substantielles de code Python de manière fonctionnelle, même si Python n'est pas purement fonctionnel."
      ],
      "metadata": {
        "id": "FsD6kaKSMGoM"
      }
    },
    {
      "cell_type": "markdown",
      "source": [
        "## Fonctions Lambda\n",
        "\n",
        "Les fonctions Lambda sont un concept de programmation très populaire qui est particulièrement profond dans la programmation fonctionnelle. Dans d'autres langages de programmation, les fonctions lambda sont parfois appelées fonctions anonymes, expressions lambda ou littéraux de fonction. Les fonctions lambda sont des fonctions anonymes qui n'ont pas besoin d'être liées à un identificateur (variable)\n",
        "\n",
        "Les fonctions Lambda en Python ne peuvent être définies qu'à l'aide d'expressions. La syntaxe des fonctions lambda est la suivante :\n",
        "\n",
        "\n",
        "    lambda <arguments>: <expression>\n",
        "\n",
        "La meilleure façon de présenter la syntaxe des fonctions lambda est de comparer une définition de fonction \"normale\" avec son homologue anonyme. Voici une fonction simple qui renvoie l'aire d'un cercle d'un rayon donné :"
      ],
      "metadata": {
        "id": "C1fulFIVOuqg"
      }
    },
    {
      "cell_type": "code",
      "source": [
        "import math\n",
        "\n",
        "def circle_area(radius):    \n",
        "  return math.pi * radius ** 2"
      ],
      "metadata": {
        "id": "Z_OEwUR3PK5g"
      },
      "execution_count": null,
      "outputs": []
    },
    {
      "cell_type": "markdown",
      "source": [
        "La même fonction exprimée en fonction lambda prendrait la forme suivante :"
      ],
      "metadata": {
        "id": "Z3_hCsuOPTuw"
      }
    },
    {
      "cell_type": "code",
      "source": [
        "lambda radius: math.pi * radius ** 2"
      ],
      "metadata": {
        "id": "G8RAw-ySPYQQ"
      },
      "execution_count": null,
      "outputs": []
    },
    {
      "cell_type": "markdown",
      "source": [
        "Les fonctions Lambda sont anonymes, mais cela ne signifie pas qu'elles ne peuvent pas être référencées à l'aide d'un identificateur. Les fonctions en Python sont des objets de première classe, donc chaque fois que vous utilisez un nom de fonction, vous utilisez en fait une variable qui est une référence à l'objet fonction. Comme pour toute autre fonction, les fonctions lambda sont des citoyens de première classe, elles peuvent donc également être affectées à une nouvelle variable. Une fois affectées à une variable, elles sont apparemment impossibles à distinguer des autres fonctions, à l'exception de certains attributs de métadonnées. Les transcriptions suivantes des sessions d'interprétation interactives illustrent cela :"
      ],
      "metadata": {
        "id": "5paJdl72PdRy"
      }
    },
    {
      "cell_type": "code",
      "source": [
        "import math\n",
        "\n",
        "def circle_area(radius):\n",
        "  return math.pi * radius ** 2\n",
        "  \n",
        "\n",
        "circle_area(42)"
      ],
      "metadata": {
        "colab": {
          "base_uri": "https://localhost:8080/"
        },
        "id": "fsAtcy6ZPvJf",
        "outputId": "9f058a2d-86ce-493f-b0dc-5bb8a9958a5b"
      },
      "execution_count": 13,
      "outputs": [
        {
          "output_type": "execute_result",
          "data": {
            "text/plain": [
              "5541.769440932395"
            ]
          },
          "metadata": {},
          "execution_count": 13
        }
      ]
    },
    {
      "cell_type": "code",
      "source": [
        "circle_area"
      ],
      "metadata": {
        "colab": {
          "base_uri": "https://localhost:8080/"
        },
        "id": "ZqBg29f_P2a1",
        "outputId": "65af7bdd-84f8-4167-fd40-7cabee7034ba"
      },
      "execution_count": 14,
      "outputs": [
        {
          "output_type": "execute_result",
          "data": {
            "text/plain": [
              "<function __main__.circle_area>"
            ]
          },
          "metadata": {},
          "execution_count": 14
        }
      ]
    },
    {
      "cell_type": "code",
      "source": [
        "circle_area.__class__"
      ],
      "metadata": {
        "colab": {
          "base_uri": "https://localhost:8080/"
        },
        "id": "8u0OSCIUP61U",
        "outputId": "f1bd3b01-9584-4ccf-8022-5914222e4fc7"
      },
      "execution_count": 15,
      "outputs": [
        {
          "output_type": "execute_result",
          "data": {
            "text/plain": [
              "function"
            ]
          },
          "metadata": {},
          "execution_count": 15
        }
      ]
    },
    {
      "cell_type": "code",
      "source": [
        "circle_area.__name__"
      ],
      "metadata": {
        "colab": {
          "base_uri": "https://localhost:8080/",
          "height": 36
        },
        "id": "8TtpfdjiP9zw",
        "outputId": "0cff4ca7-971d-4a90-9d3c-43b4bb43a911"
      },
      "execution_count": 16,
      "outputs": [
        {
          "output_type": "execute_result",
          "data": {
            "text/plain": [
              "'circle_area'"
            ],
            "application/vnd.google.colaboratory.intrinsic+json": {
              "type": "string"
            }
          },
          "metadata": {},
          "execution_count": 16
        }
      ]
    },
    {
      "cell_type": "code",
      "source": [
        "circle_area = lambda radius: math.pi * radius ** 2\n",
        "circle_area(42)"
      ],
      "metadata": {
        "colab": {
          "base_uri": "https://localhost:8080/"
        },
        "id": "XR3Jy9jCQCbb",
        "outputId": "874c3f78-7acc-41a8-d3eb-86eea808ab75"
      },
      "execution_count": 17,
      "outputs": [
        {
          "output_type": "execute_result",
          "data": {
            "text/plain": [
              "5541.769440932395"
            ]
          },
          "metadata": {},
          "execution_count": 17
        }
      ]
    },
    {
      "cell_type": "code",
      "source": [
        "circle_area"
      ],
      "metadata": {
        "colab": {
          "base_uri": "https://localhost:8080/"
        },
        "id": "q0Hp_XKmQJNx",
        "outputId": "2a702582-9043-4760-8de5-3cb871929aff"
      },
      "execution_count": 18,
      "outputs": [
        {
          "output_type": "execute_result",
          "data": {
            "text/plain": [
              "<function __main__.<lambda>>"
            ]
          },
          "metadata": {},
          "execution_count": 18
        }
      ]
    },
    {
      "cell_type": "code",
      "source": [
        "circle_area.__class__"
      ],
      "metadata": {
        "colab": {
          "base_uri": "https://localhost:8080/"
        },
        "id": "QkaL9hTwQLvO",
        "outputId": "5d400fcc-825e-4151-9d25-cec206ea5583"
      },
      "execution_count": 19,
      "outputs": [
        {
          "output_type": "execute_result",
          "data": {
            "text/plain": [
              "function"
            ]
          },
          "metadata": {},
          "execution_count": 19
        }
      ]
    },
    {
      "cell_type": "code",
      "source": [
        "circle_area.__name__"
      ],
      "metadata": {
        "colab": {
          "base_uri": "https://localhost:8080/",
          "height": 36
        },
        "id": "Zhl7bppcQPEb",
        "outputId": "428566da-5f4d-4a84-9fb6-a3bfd3d86f65"
      },
      "execution_count": 20,
      "outputs": [
        {
          "output_type": "execute_result",
          "data": {
            "text/plain": [
              "'<lambda>'"
            ],
            "application/vnd.google.colaboratory.intrinsic+json": {
              "type": "string"
            }
          },
          "metadata": {},
          "execution_count": 20
        }
      ]
    },
    {
      "cell_type": "markdown",
      "source": [
        "L'utilisation principale des expressions lambda est de définir des fonctions ponctuelles contextuelles qui n'auront pas à être réutilisées ailleurs. Pour mieux comprendre leur potentiel, imaginons que nous ayons une application qui stocke des informations sur les personnes. Pour représenter un enregistrement des données d'une personne, nous pourrions utiliser la classe de données suivante :"
      ],
      "metadata": {
        "id": "U8b1AdapQU_u"
      }
    },
    {
      "cell_type": "code",
      "source": [
        "from dataclasses import dataclass\n",
        "\n",
        "@dataclass\n",
        "class Person:    \n",
        "  age: int    \n",
        "  weight: int    \n",
        "  name: str"
      ],
      "metadata": {
        "id": "woWi3T54Qdw-"
      },
      "execution_count": null,
      "outputs": []
    },
    {
      "cell_type": "markdown",
      "source": [
        "Imaginons maintenant que nous disposions d'un ensemble d'enregistrements de ce type et que nous souhaitions les trier par différents champs. Python fournit une fonction sorted() qui est capable de trier n'importe quelle liste tant que les éléments peuvent être comparés avec au moins une comparaison \"inférieur à\" (l'opérateur <). Nous pourrions définir une surcharge d'opérateurs personnalisés sur la classe Person, mais nous devrions savoir à l'avance sur quel champ nos enregistrements seront triés. Heureusement, la fonction sorted() accepte l'argument mot-clé clé, qui vous permet de fonction qui transformera chaque élément de l'entrée en une valeur pouvant être naturellement triée par la fonction. Les expressions lambda vous permettent de définir de telles clés de tri à la demande. Par exemple, le tri des personnes par âge peut être effectué à l'aide de l'appel suivant :"
      ],
      "metadata": {
        "id": "A6fXe0QOQnOd"
      }
    },
    {
      "cell_type": "code",
      "source": [
        "sorted(people, key=lambda person: person.age)"
      ],
      "metadata": {
        "id": "aFlFnyp4RAWn"
      },
      "execution_count": null,
      "outputs": []
    },
    {
      "cell_type": "markdown",
      "source": [
        "Le comportement ci-dessus de la fonction sorted() présente un modèle commun permettant au code d'accepter un argument appelable qui résout certains comportements injectés. Les expressions lambda sont souvent un moyen pratique de définir de tels comportements."
      ],
      "metadata": {
        "id": "00O11yGbRIUw"
      }
    },
    {
      "cell_type": "markdown",
      "source": [
        "## Les fonctions map(), filter() et reduce()\n",
        "\n",
        "Les fonctions map(), filter() et reduce() sont trois fonctions intégrées qui sont le plus souvent utilisées conjointement avec les fonctions lambda. Ils sont couramment utilisés dans la programmation Python de style fonctionnel car ils nous permettent de déclarer des transformations de toute complexité, tout en évitant simultanément les effets secondaires.\n",
        "\n",
        "Dans Python 2, les trois fonctions étaient disponibles en tant que fonctions intégrées par défaut qui ne nécessitaient pas d'importations supplémentaires. En Python 3, la fonction reduce() a été déplacée vers le module functools, elle nécessite donc une importation supplémentaire. map(func, iterable, ...) applique l'argument de la fonction func à chaque élément de iterable. Vous pouvez passer plus d'itérables à la fonction map(). Si vous le faites, map() consommera simultanément des éléments de chaque itérable. La fonction func recevra autant d'arguments qu'il y a d'itérables à chaque étape de la carte. Si les itérables sont de tailles différentes, map() s'arrêtera lorsque le plus court sera épuisé. Il convient de rappeler que map() n'évalue pas le résultat entier en une fois, mais renvoie un itérateur afin que chaque élément de résultat ne puisse être évalué que lorsque cela est nécessaire.Ce qui suit est un exemple de map() utilisé pour calculer les carrés des 10 premiers entiers en partant de 0 :"
      ],
      "metadata": {
        "id": "_ttvD0CARR-q"
      }
    },
    {
      "cell_type": "code",
      "source": [
        "map(lambda x: x**2, range(10))\n",
        "list(map(lambda x: x**2, range(10)))"
      ],
      "metadata": {
        "colab": {
          "base_uri": "https://localhost:8080/"
        },
        "id": "LTesrboZSyJB",
        "outputId": "eba1875b-ce3e-4687-df76-3e1d73af1233"
      },
      "execution_count": 22,
      "outputs": [
        {
          "output_type": "execute_result",
          "data": {
            "text/plain": [
              "[0, 1, 4, 9, 16, 25, 36, 49, 64, 81]"
            ]
          },
          "metadata": {},
          "execution_count": 22
        }
      ]
    },
    {
      "cell_type": "markdown",
      "source": [
        "Voici un exemple de la fonction map() utilisée sur plusieurs itérables de différentes tailles :"
      ],
      "metadata": {
        "id": "SW5dQaA4S5UY"
      }
    },
    {
      "cell_type": "code",
      "source": [
        "mapped = list(map(print, range(5), range(4), range(5)))"
      ],
      "metadata": {
        "colab": {
          "base_uri": "https://localhost:8080/"
        },
        "id": "6LFGKcwxS-nc",
        "outputId": "34a15846-a433-4e8f-aa88-9dccf5e45e1e"
      },
      "execution_count": 23,
      "outputs": [
        {
          "output_type": "stream",
          "name": "stdout",
          "text": [
            "0 0 0\n",
            "1 1 1\n",
            "2 2 2\n",
            "3 3 3\n"
          ]
        }
      ]
    },
    {
      "cell_type": "code",
      "source": [
        "mapped"
      ],
      "metadata": {
        "colab": {
          "base_uri": "https://localhost:8080/"
        },
        "id": "4a06z9SvTAy1",
        "outputId": "2ba75f91-5cae-4ec9-9643-f5280944c25a"
      },
      "execution_count": 24,
      "outputs": [
        {
          "output_type": "execute_result",
          "data": {
            "text/plain": [
              "[None, None, None, None]"
            ]
          },
          "metadata": {},
          "execution_count": 24
        }
      ]
    },
    {
      "cell_type": "markdown",
      "source": [
        "filter(func, iterable) fonctionne de la même manière que map() en évaluant les éléments d'entrée un par un. Contrairement à map(), la fonction filter() ne transforme pas les éléments d'entrée en nouvelles valeurs, mais nous permet de filtrer les valeurs d'entrée qui ne répondent pas au prédicat défini par l'argument func. Voici des exemples d'utilisation de la fonction filter() :"
      ],
      "metadata": {
        "id": "ESlnRVYPTN8l"
      }
    },
    {
      "cell_type": "code",
      "source": [
        "evens = filter(lambda number: number % 2 == 0, range(10))\n",
        "odds = filter(lambda number: number % 2 == 1, range(10))\n",
        "\n",
        "print(f\"Even numbers in range from 0 to 9 are: {list(evens)}\")\n",
        "print(f\"Odd numbers in range from 0 to 9 are: {list(odds)}\")"
      ],
      "metadata": {
        "colab": {
          "base_uri": "https://localhost:8080/"
        },
        "id": "W8YxW4frTW2x",
        "outputId": "78e7ea8c-ac98-4623-f905-e2f5d0a3461f"
      },
      "execution_count": 25,
      "outputs": [
        {
          "output_type": "stream",
          "name": "stdout",
          "text": [
            "Even numbers in range from 0 to 9 are: [0, 2, 4, 6, 8]\n",
            "Odd numbers in range from 0 to 9 are: [1, 3, 5, 7, 9]\n"
          ]
        }
      ]
    },
    {
      "cell_type": "code",
      "source": [
        "animals = [\"giraffe\", \"snake\", \"lion\", \"squirrel\"]\n",
        "\n",
        "animals_s = filter(lambda animal: animal.startswith('s'), animals)\n",
        "print(f\"Animals that start with letter 's' are: {list(animals_s)}\")"
      ],
      "metadata": {
        "colab": {
          "base_uri": "https://localhost:8080/"
        },
        "id": "1dX6uC89Toxk",
        "outputId": "8adc6b1a-8f38-4f09-e604-d4560018394b"
      },
      "execution_count": 26,
      "outputs": [
        {
          "output_type": "stream",
          "name": "stdout",
          "text": [
            "Animals that start with letter 's' are: ['snake', 'squirrel']\n"
          ]
        }
      ]
    },
    {
      "cell_type": "markdown",
      "source": [
        "La fonction reduce(func, iterable) fonctionne complètement à l'opposé de map(). Comme son nom l'indique, cette fonction peut être utilisée pour réduire un itérable à une seule valeur. Au lieu de prendre des éléments de iterable et de les mapper aux valeurs de retour de func un par un, il exécute de manière cumulative l'opération spécifiée par func sur tous les éléments itérables. Ainsi, pour les entrées suivantes de reduce() :\n",
        "\n",
        "\n",
        "    reduce(func, [a, b, c, d])\n",
        "\n",
        "La valeur de retour serait égale à :\n",
        "\n",
        "\n",
        "    func(func(func(a, b), c), d)"
      ],
      "metadata": {
        "id": "pP_MtTqfTyd_"
      }
    },
    {
      "cell_type": "markdown",
      "source": [
        "Considérons l'exemple suivant d'appels reduce() utilisés pour additionner les valeurs d'éléments contenus dans divers objets itérables :"
      ],
      "metadata": {
        "id": "bU2cbd0hUPR8"
      }
    },
    {
      "cell_type": "code",
      "source": [
        "from functools import reduce\n",
        "\n",
        "reduce(lambda a, b: a + b, [2, 2])"
      ],
      "metadata": {
        "colab": {
          "base_uri": "https://localhost:8080/"
        },
        "id": "R0s8ivXYUTYe",
        "outputId": "f1e9aa2c-701d-42b7-ec09-d2854bcf53f2"
      },
      "execution_count": 28,
      "outputs": [
        {
          "output_type": "execute_result",
          "data": {
            "text/plain": [
              "4"
            ]
          },
          "metadata": {},
          "execution_count": 28
        }
      ]
    },
    {
      "cell_type": "code",
      "source": [
        "reduce(lambda a, b: a + b, [2, 2, 2])"
      ],
      "metadata": {
        "colab": {
          "base_uri": "https://localhost:8080/"
        },
        "id": "RO5MwoCYUbv1",
        "outputId": "3828f77b-d8d6-494c-c6c9-ffdb464cc919"
      },
      "execution_count": 29,
      "outputs": [
        {
          "output_type": "execute_result",
          "data": {
            "text/plain": [
              "6"
            ]
          },
          "metadata": {},
          "execution_count": 29
        }
      ]
    },
    {
      "cell_type": "code",
      "source": [
        "reduce(lambda a, b: a + b, range(100))"
      ],
      "metadata": {
        "colab": {
          "base_uri": "https://localhost:8080/"
        },
        "id": "wsT3GRwAUe_P",
        "outputId": "e4111c5c-1ec3-40e1-b7bd-374b2080b30d"
      },
      "execution_count": 30,
      "outputs": [
        {
          "output_type": "execute_result",
          "data": {
            "text/plain": [
              "4950"
            ]
          },
          "metadata": {},
          "execution_count": 30
        }
      ]
    },
    {
      "cell_type": "markdown",
      "source": [
        "Un aspect intéressant de map() et filter() est qu'ils peuvent fonctionner sur des séquences infinies. Bien sûr, évaluer une séquence infinie en un type de liste ou essayer de boucler normalement sur une telle séquence résultera en un programme qui ne se termine jamais. La fonction count() de itertools est un exemple de fonction qui renvoie des itérables infinis. Il compte simplement de 0 à l'infini. Si vous essayez de boucler dessus comme dans l'exemple suivant, votre programme ne s'arrêtera jamais\n",
        "\n",
        "Cependant, les valeurs de retour de map() et filter() sont des itérateurs. Au lieu d'utiliser une boucle for, vous pouvez consommer des éléments consécutifs de l'itérateur à l'aide de la fonction next(). Reprenons notre appel précédent à map() qui générait des carrés entiers consécutifs à partir de 0 :\n",
        "\n",
        "\n",
        "    map(lambda x: x**2, range(n))\n",
        "\n",
        "La fonction range() renvoie un itérable borné de n éléments. Si nous ne savons pas combien d'éléments nous voulons générer, nous pouvons simplement le remplacer par count() :\n",
        "\n",
        "\n",
        "    map(lambda x: x**2, count())\n",
        "\n",
        "A partir de maintenant, nous pouvons commencer à consommer des carrés consécutifs. Nous ne pouvons pas utiliser une boucle for car cela ne finirait jamais. Mais nous pouvons utiliser next() plusieurs fois et consommer les éléments un à la fois :"
      ],
      "metadata": {
        "id": "r_epiQiCUj4U"
      }
    },
    {
      "cell_type": "code",
      "source": [
        "from itertools import count\n",
        "\n",
        "sequence = map(lambda x: x**2, count())\n",
        "next(sequence)\n",
        "next(sequence)\n",
        "next(sequence)"
      ],
      "metadata": {
        "colab": {
          "base_uri": "https://localhost:8080/"
        },
        "id": "FbY95_qbVRga",
        "outputId": "91f00b8a-ece1-4ada-9c17-97df66aa2990"
      },
      "execution_count": 32,
      "outputs": [
        {
          "output_type": "execute_result",
          "data": {
            "text/plain": [
              "4"
            ]
          },
          "metadata": {},
          "execution_count": 32
        }
      ]
    },
    {
      "cell_type": "markdown",
      "source": [
        "Contrairement aux fonctions map() et filter(), la fonction reduce() doit évaluer tous les éléments d'entrée afin de renvoyer sa valeur, car elle ne produit pas de résultats intermédiaires. Cela signifie qu'il ne peut pas être utilisé sur des séquences infinies."
      ],
      "metadata": {
        "id": "nXP3T1CkVdXT"
      }
    },
    {
      "cell_type": "markdown",
      "source": [
        "## Objets partiels et fonctions partielles\n",
        "\n",
        "Les objets partiels sont vaguement liés au concept de fonctions partielles en mathématiques. Une fonction partielle est une généralisation d'une fonction mathématique d'une manière qui n'est pas obligée de mapper chaque plage de valeurs d'entrée possible (domaine) à ses résultats. \n",
        "\n",
        "En Python, les objets partiels peuvent être utilisés pour découper la plage d'entrée possible d'une fonction donnée en définissant certains de ses arguments sur une valeur fixe. Dans les sections précédentes, nous avons utilisé l'expression x ** 2 pour obtenir la valeur carrée de x . Python fournit une fonction intégrée appelée pow(x, y) qui peut calculer n'importe quelle puissance de n'importe quel nombre. Ainsi, notre expression lambda x: x ** 2 est une fonction partielle de la fonction pow(x, y), car nous avons limité les valeurs de domaine pour y à une seule valeur, 2. La fonction partial() du module functools fournit une autre manière de définir facilement de telles fonctions partielles sans avoir besoin d'expressions lambda, qui peuvent parfois devenir lourdes.\n",
        "\n",
        "Disons que nous voulons maintenant créer une fonction partielle légèrement différente à partir de pow(). La dernière fois, nous avons généré des carrés de nombres consécutifs. Maintenant, restreignons le domaine des autres arguments d'entrée et disons que nous voulons générer des puissances consécutives du nombre deux, donc 1, 2, 4, 8, 16, etc. La signature d'un constructeur d'objet partiel est partial(func , *args, **mots clés). \n",
        "\n",
        "L'objet partiel se comportera exactement comme func, mais ses arguments d'entrée seront pré-remplis avec *args (en commençant par le plus à gauche) et **keywords. La fonction pow(x, y) ne prend pas en charge les arguments de mot-clé, nous devons donc pré-remplir l'argument x le plus à gauche comme suit :"
      ],
      "metadata": {
        "id": "fpMstVD-Wd3J"
      }
    },
    {
      "cell_type": "code",
      "source": [
        "from functools import partial\n",
        "\n",
        "powers_of_2 = partial(pow, 2)\n",
        "\n",
        "powers_of_2(2)"
      ],
      "metadata": {
        "colab": {
          "base_uri": "https://localhost:8080/"
        },
        "id": "Mk6q2P6FXGbO",
        "outputId": "4157ced1-6fe2-4328-8b6c-5fc337391a06"
      },
      "execution_count": 33,
      "outputs": [
        {
          "output_type": "execute_result",
          "data": {
            "text/plain": [
              "4"
            ]
          },
          "metadata": {},
          "execution_count": 33
        }
      ]
    },
    {
      "cell_type": "markdown",
      "source": [
        "Notez que vous n'avez pas besoin d'assigner votre objet partiel à un identificateur si vous ne voulez pas le réutiliser. Vous pouvez l'utiliser avec succès pour définir des fonctions uniques de la même manière que vous utiliseriez des expressions lambda."
      ],
      "metadata": {
        "id": "o_ufu29fXNL9"
      }
    },
    {
      "cell_type": "markdown",
      "source": [
        "## Les générateurs\n",
        "\n",
        "Les générateurs offrent un moyen élégant d'écrire du code simple et efficace pour les fonctions qui renvoient une séquence d'éléments. Basés sur l'instruction yield, ils vous permettent de suspendre une fonction et de renvoyer un résultat intermédiaire. La fonction enregistre son contexte d'exécution et peut être reprise ultérieurement si nécessaire.\n",
        "\n",
        "Par exemple, la fonction qui renvoie des nombres consécutifs de la séquence de Fibonacci peut être écrite à l'aide d'une syntaxe de générateur. Le code suivant est un exemple tiré du document PEP 255 (Simple Generators) :"
      ],
      "metadata": {
        "id": "k0oCheSsXWvT"
      }
    },
    {
      "cell_type": "code",
      "source": [
        "def fibonacci():    \n",
        "  a, b = 0, 1    \n",
        "  while True:        \n",
        "    yield b        \n",
        "    a, b = b, a + b"
      ],
      "metadata": {
        "id": "M01BkxVcXqP2"
      },
      "execution_count": 34,
      "outputs": []
    },
    {
      "cell_type": "markdown",
      "source": [
        "Vous pouvez récupérer de nouvelles valeurs à partir de générateurs comme s'il s'agissait d'itérateurs, donc en utilisant la fonction next() ou des boucles for :"
      ],
      "metadata": {
        "id": "EKgoE9C_XxRM"
      }
    },
    {
      "cell_type": "code",
      "source": [
        "fib = fibonacci()\n",
        "next(fib)"
      ],
      "metadata": {
        "colab": {
          "base_uri": "https://localhost:8080/"
        },
        "id": "ayj68ywnX1bn",
        "outputId": "4cdd35a7-8851-42d1-d2d5-39524ad47e3c"
      },
      "execution_count": 35,
      "outputs": [
        {
          "output_type": "execute_result",
          "data": {
            "text/plain": [
              "1"
            ]
          },
          "metadata": {},
          "execution_count": 35
        }
      ]
    },
    {
      "cell_type": "markdown",
      "source": [
        "Notre fonction fibonacci() retourne un objet générateur, un itérateur spécial qui sait sauvegarder le contexte d'exécution. Il peut être appelé indéfiniment, donnant à chaque fois l'élément suivant de la séquence. La syntaxe est concise, et le caractère infini de l'algorithme ne perturbe pas la lisibilité du code. Il n'est pas nécessaire qu'il fournisse un moyen de rendre la fonction arrêtable. En fait, cela ressemble à la façon dont la fonction de génération de séquence serait conçue en pseudo-code.\n",
        "\n",
        "Dans de nombreux cas, les ressources nécessaires pour traiter un élément sont inférieures aux ressources nécessaires pour stocker des séquences entières. Par conséquent, ils peuvent être maintenus bas, ce qui rend le programme plus efficace. Par exemple, la suite de Fibonacci est infinie, et pourtant le générateur qui la génère ne nécessite pas une quantité infinie de mémoire pour fournir les valeurs une par une et, théoriquement, pourrait fonctionner à l'infini. \n",
        "\n",
        "Un cas d'utilisation courant consiste à diffuser des tampons de données avec des générateurs (par exemple, à partir de fichiers). Ils peuvent être mis en pause, repris et arrêtés chaque fois que nécessaire à n'importe quelle étape du pipeline de traitement des données sans qu'il soit nécessaire de charger des ensembles de données entiers dans la mémoire du programme. Dans la programmation fonctionnelle, les générateurs peuvent être utilisés pour fournir une fonction avec état qui, autrement, nécessiterait une sauvegarde intermédiaire résultats comme effets secondaires comme s'il s'agissait d'une fonction sans état"
      ],
      "metadata": {
        "id": "c0YdJQThX7ud"
      }
    },
    {
      "cell_type": "markdown",
      "source": [
        "## Expressions génératrices\n",
        "\n",
        "Les expressions génératrices sont un autre élément de syntaxe qui vous permet d'écrire du code de manière plus fonctionnelle. Sa syntaxe est similaire aux compréhensions utilisées avec les littéraux de dictionnaire, d'ensemble et de liste. Une expression de générateur est indiquée par des parenthèses, comme dans l'exemple suivant :\n",
        "\n",
        "    (item for item in iterable_expression)\n",
        "\n",
        "\n",
        "Les expressions de générateur peuvent être utilisées comme arguments d'entrée dans n'importe quelle fonction qui accepte les itérables. Ils permettent également aux clauses if de filtrer des éléments spécifiques de la même manière que les compréhensions de listes, de dictionnaires et d'ensembles. Cela signifie que vous pouvez souvent remplacer les constructions complexes map() et filter() par des expressions génératrices plus lisibles et plus compactes. \n",
        "\n",
        "D'un point de vue syntaxique, les expressions génératrices ne sont pas différentes des autres expressions de compréhension. Leur principal avantage est qu'ils n'évaluent qu'un seul élément à la fois. Donc, si vous traitez une expression itérable arbitrairement longue, une expression génératrice peut convenir car elle n'a pas besoin de mettre toute la collection de résultats intermédiaires dans la mémoire du programme. \n",
        "\n",
        "Les lambdas, map, reduce, filter, les fonctions partielles et les générateurs se concentrent sur la présentation de la logique du programme comme une évaluation des expressions d'appel de fonction. Un autre élément important de la programmation fonctionnelle est d'avoir des fonctions de première classe. En Python, toutes les fonctions sont des objets et comme tout autre objet, elles peuvent être inspectées et modifiées au moment de l'exécution. Il permet une fonctionnalité de syntaxe utile appelée décorateurs de fonctions."
      ],
      "metadata": {
        "id": "JGyCqjp2Ykdh"
      }
    },
    {
      "cell_type": "markdown",
      "source": [
        "## Décorateurs\n",
        "\n",
        "Le décorateur est généralement une expression appelable qui accepte un seul argument lorsqu'elle est appelée (il s'agira de la fonction décorée) et renvoie un autre objet appelable.\n",
        "\n",
        "Bien que les décorateurs soient souvent abordés dans le cadre des méthodes et des fonctions, ils ne s'y limitent pas. En fait, tout ce qui est appelable (tout objet qui implémente la méthode \\_\\_call__ est considéré comme appelable) peut être utilisé comme décorateur, et souvent, les objets renvoyés par eux ne sont pas de simples fonctions mais sont des instances de classes plus complexes qui implémentent leur propre \\_\\_call__ méthode. La syntaxe du décorateur est simplement du sucre syntaxique. Considérez l'utilisation de décorateur suivante"
      ],
      "metadata": {
        "id": "__36wyDBZQpT"
      }
    },
    {
      "cell_type": "code",
      "source": [
        "@some_decorator \n",
        "def decorated_function():     \n",
        "  pass"
      ],
      "metadata": {
        "id": "WShcyaSLZniM"
      },
      "execution_count": null,
      "outputs": []
    },
    {
      "cell_type": "markdown",
      "source": [
        "il peut toujours être remplacé par un appel de décorateur explicite et une réaffectation de fonction :\n",
        "\n",
        "    def decorated_function():     \n",
        "      pass \n",
        "    \n",
        "    decorated_function = some_decorator(decorated_function)\n",
        "\n",
        "\n",
        "Cependant, ce dernier est moins lisible et aussi très difficile à comprendre si plusieurs décorateurs sont utilisés sur une même fonction.\n",
        "\n",
        "\n",
        "    Un décorateur n'a même pas besoin de renvoyer un callable ! En fait,\n",
        "    n'importe quelle fonction peut être utilisée comme décorateur, car Python\n",
        "    n'impose pas le type de retour des décorateurs. Ainsi, utiliser une\n",
        "    fonction comme décorateur qui accepte un seul argument mais ne renvoie pas\n",
        "    d'objet appelable, disons str, est tout à fait valide en termes de syntaxe.\n",
        "    Cela finira par échouer si vous essayez d'appeler un objet qui a été décoré\n",
        "    de cette façon. Cette partie de la syntaxe du décorateur crée un champ\n",
        "    pour des expérimentations intéressantes.\n",
        "\n",
        "\n",
        "Les décorateurs sont des éléments du langage de programmation inspirés de la programmation orientée aspect et du modèle de conception des décorateurs. Le cas d'utilisation principal consiste à améliorer de manière pratique une implémentation de fonction existante avec un comportement supplémentaire provenant d'autres aspects de votre application. Considérez l'exemple suivant, tiré de la documentation du framework Flask :"
      ],
      "metadata": {
        "id": "ZeJPOTjoZtLt"
      }
    },
    {
      "cell_type": "code",
      "source": [
        "@app.route('/secret_page')\n",
        "@login_required\n",
        "def secret_page():    \n",
        "  pass"
      ],
      "metadata": {
        "id": "D2p_qXeoaoy-"
      },
      "execution_count": null,
      "outputs": []
    },
    {
      "cell_type": "markdown",
      "source": [
        "secret_page() est une fonction d'affichage censée renvoyer une page secrète. Il est orné de deux décorateurs. app.route() attribue une route URI à la fonction d'affichage et login_required() applique l'authentification de l'utilisateur.\n",
        "\n",
        " Selon le principe de la responsabilité unique, les fonctions doivent être plutôt petites et à usage unique. Dans notre application Flask, la fonction de vue secret_page() serait responsable de la préparation de la réponse HTTP qui peut être rendue ultérieurement dans un navigateur Web. Il ne devrait probablement pas traiter de choses comme l'analyse des requêtes HTTP, la vérification des informations d'identification de l'utilisateur, etc. \n",
        " \n",
        " Comme son nom l'indique, la fonction secret_page() renvoie quelque chose de secret et ne doit être visible par personne. La vérification des informations d'identification de l'utilisateur ne fait pas partie de la responsabilité de la fonction d'affichage, mais elle fait partie de l'idée générale d'une \"page secrète\". \n",
        " \n",
        " Le décorateur @login_required permet de rapprocher l'aspect de l'authentification des utilisateurs de la fonction de visualisation. Cela rend l'application plus concise et l'intention du programmeur plus lisible. Regardons plus en détail l'exemple réel du décorateur @login_required de la documentation du framework Flask :"
      ],
      "metadata": {
        "id": "bMzV9LXtayne"
      }
    },
    {
      "cell_type": "code",
      "source": [
        "from functools import wraps\n",
        "from flask import g, request, redirect, url_for\n",
        "\n",
        "def login_required(f):    \n",
        "  @wraps(f)    \n",
        "  def decorated_function(*args, **kwargs):        \n",
        "    if g.user is None:            \n",
        "      return redirect(url_for('login', next=request.url))        \n",
        "    return f(*args, **kwargs)    \n",
        "  return decorated_function"
      ],
      "metadata": {
        "id": "oeX5g7iTbMXX"
      },
      "execution_count": null,
      "outputs": []
    },
    {
      "cell_type": "markdown",
      "source": [
        "Comme nous pouvons le voir, ce décorateur renvoie une nouvelle fonction décorée_fonction() qui vérifie d'abord si l'objet g global a un utilisateur valide assigné. C'est un moyen courant de tester si l'utilisateur a été authentifié dans Flask. Si le test réussit, la fonction décorée appelle la fonction d'origine en retournant f(*args, **kwargs). Si le test de connexion échoue, la fonction décorée redirigera le navigateur vers la page de connexion. Comme nous pouvons le voir, le décorateur login_required() transmet un peu plus qu'un simple comportement de vérification ou d'échec. Cela fait des décorateurs un excellent mécanisme de réutilisation du code.\n",
        "\n",
        "L'exigence de connexion peut être un aspect courant des applications, mais la mise en œuvre de cet aspect peut changer au fil du temps. Les décorateurs offrent un moyen pratique de regrouper ces aspects dans des comportements portables qui peuvent être facilement ajoutés aux fonctions existantes. Nous utiliserons et expliquerons les décorateurs plus en détail au chapitre 8, Éléments de métaprogrammation, où nous discuterons des décorateurs en tant que technique de métaprogrammation."
      ],
      "metadata": {
        "id": "U-QZ_TaLbeeC"
      }
    },
    {
      "cell_type": "markdown",
      "source": [
        "## Énumérations\n",
        "\n",
        "Il existe des fonctionnalités de programmation communes que l'on trouve dans de nombreux langages de programmation, quel que soit le paradigme de programmation dominant. \n",
        "\n",
        "L'une de ces fonctionnalités est les types énumérés qui ont un nombre fini de valeurs nommées. Ils sont particulièrement utiles pour coder un ensemble fermé de valeurs pour des variables ou des arguments de fonction. \n",
        "\n",
        "L'un des types pratiques spéciaux trouvés dans la bibliothèque standard Python est la classe Enum du module enum. Il s'agit d'une classe de base qui vous permet de définir des énumérations symboliques, similaires dans leur concept aux types énumérés trouvés dans de nombreux autres langages de programmation (C, C++, C#, Java et bien d'autres) qui sont souvent désignés par le mot-clé enum. Afin de définir votre propre énumération en Python, vous devrez sous-classer la classe Enum et définir tous les membres de l'énumération en tant qu'attributs de classe. Voici un exemple d'énumération Python simple :"
      ],
      "metadata": {
        "id": "2PRF03EKoeFh"
      }
    },
    {
      "cell_type": "code",
      "source": [
        "from enum import Enum\n",
        "\n",
        "class Weekday(Enum):    \n",
        "  MONDAY = 0    \n",
        "  TUESDAY = 1    \n",
        "  WEDNESDAY = 2\n",
        "  THURSDAY = 3    \n",
        "  FRIDAY = 4    \n",
        "  SATURDAY = 5    \n",
        "  SUNDAY = 6"
      ],
      "metadata": {
        "id": "8F06EwyfovW-"
      },
      "execution_count": null,
      "outputs": []
    },
    {
      "cell_type": "markdown",
      "source": [
        "La documentation Python définit la nomenclature suivante pour enum :\n",
        "\n",
        "* énumération ou enum : il s'agit de la sous-classe de la classe de base Enum. Ici, ce serait Jour de la semaine. \n",
        "\n",
        "* membre : C'est l'attribut que vous définissez dans la sous-classe Enum. Ici, ce serait Weekday.MONDAY, Weekday.TUESDAY, etc.\n",
        "\n",
        "* name : il s'agit du nom de l'attribut de sous-classe Enum qui définit le membre. Ici, ce serait MONDAY pour Weekday.MONDAY, TUESDAY pour Weekday.TUESDAY, et ainsi de suite\n",
        "\n",
        "* valeur : il s'agit de la valeur attribuée à l'attribut de sous-classe Enum qui définit le membre. Ici, pour Weekday.MONDAY ce serait un, pour Weekday.TUESDAY ce serait deux, et ainsi de suite.\n",
        "\n",
        "Vous pouvez utiliser n'importe quel type comme valeur de membre enum. Si la valeur du membre n'est pas importante dans votre code, vous pouvez même utiliser le type auto(), qui sera remplacé par des valeurs générées automatiquement. Voici un exemple similaire écrit avec l'utilisation de auto :"
      ],
      "metadata": {
        "id": "OqzVloRfo8CG"
      }
    },
    {
      "cell_type": "code",
      "source": [
        "from enum import Enum, auto\n",
        "\n",
        "class Weekday(Enum):    \n",
        "  MONDAY = auto()    \n",
        "  TUESDAY = auto()    \n",
        "  WEDNESDAY = auto()    \n",
        "  THURSDAY = auto()    \n",
        "  FRIDAY = auto()    \n",
        "  SATURDAY = auto()    \n",
        "  SUNDAY = auto()"
      ],
      "metadata": {
        "id": "lesGEsbTpl1x"
      },
      "execution_count": null,
      "outputs": []
    },
    {
      "cell_type": "markdown",
      "source": [
        "Les énumérations en Python sont vraiment utiles partout où une variable ne peut prendre qu'un nombre fini de valeurs/choix. Ils peuvent par exemple être utilisés pour définir l'état des objets, comme le montre l'exemple suivant :"
      ],
      "metadata": {
        "id": "iDg78JFPpwln"
      }
    },
    {
      "cell_type": "code",
      "source": [
        "from enum import Enum, auto\n",
        "\n",
        "class OrderStatus(Enum):    \n",
        "  PENDING = auto()    \n",
        "  PROCESSING = auto()\n",
        "  PROCESSED = auto()\n",
        "\n",
        "class Order:    \n",
        "  def __init__(self):        \n",
        "    self.status = OrderStatus.PENDING    \n",
        "  \n",
        "  def process(self):        \n",
        "    if self.status == OrderStatus.PROCESSED:            \n",
        "      raise ValueError(                \n",
        "          \"Can't process order that \"\n",
        "          \"has been already processed\"          \n",
        "          )        \n",
        "    self.status = OrderStatus.PROCESSING        \n",
        "    ...        \n",
        "    self.status = OrderStatus.PROCESSED"
      ],
      "metadata": {
        "id": "cxkTX_Dqp30v"
      },
      "execution_count": null,
      "outputs": []
    },
    {
      "cell_type": "markdown",
      "source": [
        "Un autre cas d'utilisation des énumérations consiste à stocker des sélections de choix non exclusifs. C'est quelque chose qui est souvent implémenté à l'aide de drapeaux de bits et de masques de bits dans des langages où la manipulation de bits des nombres est très courante, comme C. En Python, cela peut être fait de manière plus expressive et pratique en utilisant la classe d'énumération de base Flag :"
      ],
      "metadata": {
        "id": "GsbkeVwosJNt"
      }
    },
    {
      "cell_type": "code",
      "source": [
        "from enum import Flag, auto\n",
        "\n",
        "\n",
        "class Side(Flag):    \n",
        "  GUACAMOLE = auto()    \n",
        "  TORTILLA = auto()    \n",
        "  FRIES = auto()    \n",
        "  BEER = auto()    \n",
        "  POTATO_SALAD = auto()"
      ],
      "metadata": {
        "id": "as_WoaMKsRX0"
      },
      "execution_count": 36,
      "outputs": []
    },
    {
      "cell_type": "markdown",
      "source": [
        "Vous pouvez combiner ces flags à l'aide d'opérateurs au niveau du bit (les opérateurs | et &) et tester l'appartenance des flags avec le mot-clé in. Voici quelques exemples d'une énumération Side :"
      ],
      "metadata": {
        "id": "bkt6KghKsZre"
      }
    },
    {
      "cell_type": "code",
      "source": [
        "mexican_sides = Side.GUACAMOLE | Side.BEER | Side.TORTILLA\n",
        "bavarian_sides = Side.BEER | Side.POTATO_SALAD\n",
        "common_sides = mexican_sides & bavarian_sides\n",
        "Side.GUACAMOLE in mexican_sides"
      ],
      "metadata": {
        "colab": {
          "base_uri": "https://localhost:8080/"
        },
        "id": "ZMbHZDDTshTM",
        "outputId": "5c5dc498-963f-4dbe-ed94-a28425526067"
      },
      "execution_count": 37,
      "outputs": [
        {
          "output_type": "execute_result",
          "data": {
            "text/plain": [
              "True"
            ]
          },
          "metadata": {},
          "execution_count": 37
        }
      ]
    },
    {
      "cell_type": "code",
      "source": [
        "Side.TORTILLA in bavarian_sides"
      ],
      "metadata": {
        "colab": {
          "base_uri": "https://localhost:8080/"
        },
        "id": "iO07TNBDstXY",
        "outputId": "ffa9c458-be5f-41af-a31d-9a65b21e957f"
      },
      "execution_count": 38,
      "outputs": [
        {
          "output_type": "execute_result",
          "data": {
            "text/plain": [
              "False"
            ]
          },
          "metadata": {},
          "execution_count": 38
        }
      ]
    },
    {
      "cell_type": "markdown",
      "source": [
        "Les énumérations symboliques partagent une certaine similitude avec les dictionnaires et les tuples nommés car ils mappent tous les noms/clés aux valeurs. La principale différence est que la définition Enum est immuable et globale. Il doit être utilisé chaque fois qu'il existe un ensemble fermé de valeurs possibles qui ne peuvent pas changer dynamiquement pendant l'exécution du programme, et en particulier si cet ensemble ne doit être défini qu'une seule fois et globalement. Les dictionnaires et les tuples nommés sont des conteneurs de données. Vous pouvez en créer autant d'instances que vous le souhaitez."
      ],
      "metadata": {
        "id": "BekkuTsIsyMU"
      }
    }
  ]
}