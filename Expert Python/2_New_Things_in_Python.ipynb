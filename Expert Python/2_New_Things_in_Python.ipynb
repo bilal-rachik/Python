{
  "nbformat": 4,
  "nbformat_minor": 0,
  "metadata": {
    "colab": {
      "name": "2_New_Things_in_Python.ipynb",
      "provenance": []
    },
    "kernelspec": {
      "name": "python3",
      "display_name": "Python 3"
    },
    "language_info": {
      "name": "python"
    }
  },
  "cells": [
    {
      "cell_type": "markdown",
      "metadata": {
        "id": "DIbVdfbyHy-l"
      },
      "source": [
        "## De nouvelles choses en Python\n",
        "\n",
        "L'une des étapes les plus importantes de l'histoire de Python a probablement été la sortie de Python 3.0. Les changements les plus notables qui se sont produits dans cette version ont été :\n",
        "\n",
        "* Résolution de plusieurs problèmes concernant le texte, les données et la gestion Unicode\n",
        "\n",
        "* Suppression des classes de style ancien\n",
        "\n",
        "* Commencer les réorganisations de bibliothèques standard\n",
        "\n",
        "*  Introduction des annotations de fonction\n",
        "\n",
        "* Introduction d'une nouvelle syntaxe pour la gestion des exceptions\n",
        "\n",
        "Comme nous le savons, État actuel de Python, Python 3 n'est pas rétrocompatible avec Python 2. C'est la principale raison pour laquelle il a fallu tant d'années à la communauté Python pour l'adopter pleinement. C'était une leçon difficile, quoique nécessaire, pour les développeurs Python et la communauté Python.\n",
        "\n",
        "Heureusement, les problèmes liés à l'adoption de Python 3 n'ont pas arrêté le processus d'évolution du langage. Depuis le 3 décembre 2008 (la version ofcielle de Python 3.0), nous avons constaté un afflux stable de nouvelles mises à jour majeures de Python. Chaque nouvelle version apportait de nouvelles améliorations au langage, à sa bibliothèque standard et à son interpréteur. De plus, à partir de la version 3.9, Python a adopté un cycle de publication annuel. Cela signifie que nous aurons accès à de nouvelles fonctionnalités et améliorations chaque année.\n",
        "\n",
        "Dans ce guide, nous examinerons de plus près l'évolution récente de Python. Nous passerons en revue un certain nombre d'ajouts importants dans les dernières versions. Nous jetterons également un regard spéculatif sur l'avenir et présenterons quelques fonctionnalités qui ont été acceptées dans le processus PEP et deviendront une partie officielle du langage de programmation Python dans un avenir très proche. En cours de route, nous aborderons les sujets suivants :\n",
        "\n",
        "* Ajouts de langues récents\n",
        "* Pas si nouveau, mais toujours brillant\n",
        "* Qu'est-ce qui peut arriver dans le futur ?"
      ]
    },
    {
      "cell_type": "markdown",
      "metadata": {
        "id": "_Xy9gkV4JN5a"
      },
      "source": [
        "## Ajouts de langues récents\n",
        "\n",
        "Chaque version de Python s'accompagne de nombreux changements de différents types. Presque chaque version de Python apporte de nouveaux éléments de syntaxe. Cependant, la majorité des modifications sont liées à la bibliothèque standard de Python, à l'interpréteur CPython, à l'API Python et à l'API C de CPython. En raison de l'espace limité, il est impossible de couvrir tous ces éléments dans ce guide. C'est pourquoi nous nous concentrerons uniquement sur les nouvelles fonctionnalités de syntaxe et les nouveaux ajouts à la bibliothèque standard. En termes de deux dernières versions de Python, nous pouvons distinguer quatre principales mises à jour de syntaxe : \n",
        "\n",
        "*  Opérateurs de mise à jour de dictionnaire et de fusion (ajoutés dans Python 3.9) \n",
        "\n",
        "* Expressions d'affectation (ajoutées dans Python 3.8)\n",
        "\n",
        "* Génériques d'indication de type (ajoutés dans Python 3.9)\n",
        "*  Arguments positionnels uniquement (ajoutés dans Python 3.8)\n",
        "\n",
        "Ces quatre fonctionnalités seraient mieux décrites comme des améliorations de la qualité de vie. Ils n'introduisent aucun nouveau paradigme de programmation, ni ne changent radicalement la façon dont votre code peut être écrit. Ils permettent simplement de meilleurs modèles de codage ou permettent une définition d'API plus stricte\n",
        "\n",
        "ces dernières années, les développeurs principaux de Python se sont principalement concentrés sur la suppression des modules morts ou redondants de la bibliothèque standard plutôt que sur l'ajout de nouveautés. Pourtant, de temps en temps, nous voyons des ajouts de bibliothèque standard. Dans les deux dernières versions, nous avons été les bénéficiaires de deux modules entièrement nouveaux :\n",
        "\n",
        "*  Le module zoneinfo pour prendre en charge la base de données de fuseaux horaires IANA (Internet Assigned Numbers Authority) (ajouté dans Python 3.9)\n",
        "\n",
        "* Le module graphlib pour fonctionner avec graph -structures similaires (ajoutées dans Python 3.8)\n",
        "\n",
        "Les deux modules sont assez petits en ce qui concerne la taille de leur API. Plus tard, nous discuterons de quelques exemples de domaines où vous pourriez les appliquer. Mais d'abord, zoomons sur les mises à jour de syntaxe incorporées dans Python 3.8 et Python 3.9"
      ]
    },
    {
      "cell_type": "markdown",
      "metadata": {
        "id": "0uf7Mrt4KoEW"
      },
      "source": [
        "## Opérateurs de fusion et de mise à jour de dictionnaire\n",
        "\n",
        "Python permet l'utilisation d'un certain nombre d'opérateurs arithmétiques sélectionnés pour manipuler les types de conteneurs intégrés, y compris les listes, les tuples, les ensembles et les dictionnaires.\n",
        "\n",
        "\n",
        "Pour les listes et les tuples, vous pouvez utiliser l'opérateur + (addition) pour concaténer deux variables tant qu'elles sont du même type. Il existe également l'opérateur +=, qui permet de modifier sur place des variables existantes. La transcription suivante présente des exemples de concaténation de listes et de tuples dans une session interactive"
      ]
    },
    {
      "cell_type": "code",
      "metadata": {
        "colab": {
          "base_uri": "https://localhost:8080/"
        },
        "id": "IqXndzaGK87f",
        "outputId": "18cabb7d-0a78-480c-d3f5-36ac60e2935a"
      },
      "source": [
        "[1, 2, 3] + [4, 5, 6]"
      ],
      "execution_count": 1,
      "outputs": [
        {
          "output_type": "execute_result",
          "data": {
            "text/plain": [
              "[1, 2, 3, 4, 5, 6]"
            ]
          },
          "metadata": {},
          "execution_count": 1
        }
      ]
    },
    {
      "cell_type": "code",
      "metadata": {
        "colab": {
          "base_uri": "https://localhost:8080/"
        },
        "id": "IMHTwdmEK_KC",
        "outputId": "e5f1c9e2-7701-4305-9183-5fbbc5407bfa"
      },
      "source": [
        "(1, 2, 3) + (4, 5, 6)"
      ],
      "execution_count": 3,
      "outputs": [
        {
          "output_type": "execute_result",
          "data": {
            "text/plain": [
              "(1, 2, 3, 4, 5, 6)"
            ]
          },
          "metadata": {},
          "execution_count": 3
        }
      ]
    },
    {
      "cell_type": "code",
      "metadata": {
        "colab": {
          "base_uri": "https://localhost:8080/"
        },
        "id": "8s6Jk2NjLDLw",
        "outputId": "04b54da4-0d34-4446-bcb3-811c38f1fa65"
      },
      "source": [
        "value = [1, 2, 3]\n",
        "value += [4, 5, 6]\n",
        "value"
      ],
      "execution_count": 5,
      "outputs": [
        {
          "output_type": "execute_result",
          "data": {
            "text/plain": [
              "[1, 2, 3, 4, 5, 6]"
            ]
          },
          "metadata": {},
          "execution_count": 5
        }
      ]
    },
    {
      "cell_type": "code",
      "metadata": {
        "colab": {
          "base_uri": "https://localhost:8080/"
        },
        "id": "ZzmalL8jLKM3",
        "outputId": "34d810c9-49de-436c-ef6c-3a1c6a2388fe"
      },
      "source": [
        "value = (1, 2, 3)\n",
        "value += (4, 5, 6)\n",
        "value"
      ],
      "execution_count": 6,
      "outputs": [
        {
          "output_type": "execute_result",
          "data": {
            "text/plain": [
              "(1, 2, 3, 4, 5, 6)"
            ]
          },
          "metadata": {},
          "execution_count": 6
        }
      ]
    },
    {
      "cell_type": "markdown",
      "metadata": {
        "id": "BO4ZTM0hLQ9p"
      },
      "source": [
        "Lorsqu'il s'agit d'ensembles, il existe exactement quatre opérateurs binaires (ayant deux opérandes) qui produisent un nouvel ensemble :\n",
        "\n",
        "*  Opérateur d'intersection : Représenté par &. Cela produit un ensemble avec des éléments communs aux deux ensembles.\n",
        "\n",
        "* Opérateur d'union : Représenté par | . Cela produit un ensemble de tous les éléments dans les deux ensembles. \n",
        "\n",
        "*  Opérateur de différence : Représenté par - (soustraction). Cela produit un ensemble avec des éléments dans l'ensemble de gauche qui ne sont pas dans l'ensemble de droite. \n",
        "\n",
        "* Différence symétrique : Représentée par ^ (XOR a). Cela produit un ensemble avec des éléments des deux ensembles qui sont dans l'un des ensembles mais pas les deux.\n",
        "\n",
        " La transcription suivante présente des exemples d'opérations d'intersection et d'union sur les ensembles dans une session interactive"
      ]
    },
    {
      "cell_type": "code",
      "metadata": {
        "colab": {
          "base_uri": "https://localhost:8080/"
        },
        "id": "sUJEVB8mL9e3",
        "outputId": "4df6f960-dc64-474b-a9e3-16f17420dd9a"
      },
      "source": [
        "{1, 2, 3} & {1, 4}"
      ],
      "execution_count": 7,
      "outputs": [
        {
          "output_type": "execute_result",
          "data": {
            "text/plain": [
              "{1}"
            ]
          },
          "metadata": {},
          "execution_count": 7
        }
      ]
    },
    {
      "cell_type": "code",
      "metadata": {
        "colab": {
          "base_uri": "https://localhost:8080/"
        },
        "id": "SgMH_7kzL_rw",
        "outputId": "c8844646-9d7a-4a37-89fa-47ac7b9427da"
      },
      "source": [
        "{1, 2, 3} | {1, 4}"
      ],
      "execution_count": 8,
      "outputs": [
        {
          "output_type": "execute_result",
          "data": {
            "text/plain": [
              "{1, 2, 3, 4}"
            ]
          },
          "metadata": {},
          "execution_count": 8
        }
      ]
    },
    {
      "cell_type": "code",
      "metadata": {
        "colab": {
          "base_uri": "https://localhost:8080/"
        },
        "id": "CLhWckykMB3l",
        "outputId": "15bc497b-35a3-4d24-8ddc-667e28f99fa1"
      },
      "source": [
        "{1, 2, 3} - {1, 4}"
      ],
      "execution_count": 9,
      "outputs": [
        {
          "output_type": "execute_result",
          "data": {
            "text/plain": [
              "{2, 3}"
            ]
          },
          "metadata": {},
          "execution_count": 9
        }
      ]
    },
    {
      "cell_type": "code",
      "metadata": {
        "colab": {
          "base_uri": "https://localhost:8080/"
        },
        "id": "sTfxn5cnMEDV",
        "outputId": "b01d8730-700c-430d-8937-0227ac0eb90f"
      },
      "source": [
        "{1, 2, 3} ^ {1, 4}"
      ],
      "execution_count": 10,
      "outputs": [
        {
          "output_type": "execute_result",
          "data": {
            "text/plain": [
              "{2, 3, 4}"
            ]
          },
          "metadata": {},
          "execution_count": 10
        }
      ]
    },
    {
      "cell_type": "markdown",
      "metadata": {
        "id": "Qa0M2T4DOO3H"
      },
      "source": [
        "Pendant très longtemps, Python n'a pas eu d'opérateur binaire dédié qui permettrait de produire un nouveau dictionnaire à partir de deux dictionnaires existants. À partir de Python 3.9, nous pouvons utiliser le | (OR au niveau du bit) et |= (OR au niveau du bit sur place) pour effectuer des opérations de fusion et de mise à jour de dictionnaires sur des dictionnaires. Cela devrait être la manière idiomatique de produire une union de deux dictionnaires. Le raisonnement derrière l'ajout de nouveaux opérateurs a été décrit dans le document PEP 584 - Add Union Operators To Dict\n",
        "\n",
        "\n",
        "Pour fusionner deux dictionnaires dans un nouveau dictionnaire, utilisez l'expression suivante\n",
        "\n",
        "    dictionary_1 | dictionary_2\n",
        "\n",
        "Le dictionnaire résultant sera un tout nouvel objet qui aura toutes les clés des deux dictionnaires sources. Si les deux dictionnaires ont des clés qui se chevauchent, l'objet résultant recevra les valeurs de l'objet le plus à droite\n",
        "\n",
        "Voici un exemple d'utilisation de cette syntaxe sur deux littéraux de dictionnaire, où le dictionnaire de gauche est mis à jour avec les valeurs du dictionnaire de droite\n",
        "\n",
        "    >>> {'a': 1} | {'a': 3, 'b': 2}\n",
        "    {'a': 3, 'b': 2}\n",
        "\n",
        "Si vous préférez mettre à jour la variable du dictionnaire avec les clés provenant d'un dictionnaire différent, vous pouvez utiliser l'opérateur sur place suivant.\n",
        "\n",
        "    existing_dictionary |= other_dictionary\n",
        "\n",
        "Ce qui suit est un exemple d'utilisation avec une variable réelle\n",
        "\n",
        "\n",
        "    >>> mydict = {'a': 1}\n",
        "    >>> mydict |= {'a': 3, 'b': 2}\n",
        "    >>> mydict\n",
        "    {'a': 3, 'b': 2}\n",
        "\n",
        "\n",
        "Dans les anciennes versions de Python, le moyen le plus simple de mettre à jour un dictionnaire existant avec le contenu d'un autre dictionnaire consistait à utiliser la méthode update(), comme dans l'exemple suivant :\n",
        "\n",
        "    existing_dictionary.update(other_dictionary)\n",
        "\n",
        "Cette méthode modifie existant_dictionnaire en place et ne renvoie aucune valeur. Cela signifie qu'il ne permet pas la production directe d'un dictionnaire fusionné en tant qu'expression et qu'il est toujours utilisé comme une déclaration.\n"
      ]
    },
    {
      "cell_type": "markdown",
      "metadata": {
        "id": "NemvhhHcNiOp"
      },
      "source": [
        "## Alternative – Déballage du dictionnaire\n",
        "\n",
        "C'est un fait peu connu que Python prenait déjà en charge un moyen assez concis de fusionner deux dictionnaires avant la version 3.9 via une fonctionnalité connue sous le nom de déballage de dictionnaire. La prise en charge du déballage du dictionnaire dans les littéraux dict a été introduite dans Python 3.5 avec PEP 448 Généralisations supplémentaires du déballage. La syntaxe pour décompresser deux (ou plus) dictionnaires dans un nouvel objet est la suivante :\n",
        "\n",
        "    {**dictionary_1, **dictionary_2}\n",
        "\n",
        "L'exemple impliquant de vrais littéraux est le suivant :"
      ]
    },
    {
      "cell_type": "code",
      "metadata": {
        "colab": {
          "base_uri": "https://localhost:8080/"
        },
        "id": "Pu94yFORN_D3",
        "outputId": "0c625c68-8afa-4611-fd12-915165827304"
      },
      "source": [
        "a = {'a': 1}\n",
        "b = {'a':3, 'b': 2}\n",
        "{**a, **b}"
      ],
      "execution_count": 1,
      "outputs": [
        {
          "output_type": "execute_result",
          "data": {
            "text/plain": [
              "{'a': 3, 'b': 2}"
            ]
          },
          "metadata": {},
          "execution_count": 1
        }
      ]
    },
    {
      "cell_type": "markdown",
      "metadata": {
        "id": "_DohFaNyOLfk"
      },
      "source": [
        "Cette fonctionnalité, ainsi que le déballage de liste (avec la syntaxe *valeur), peuvent être familières à ceux qui ont de l'expérience dans l'écriture de fonctions pouvant accepter un ensemble non défini d'arguments et d'arguments de mots-clés, également appelés fonctions variadiques. Ceci est particulièrement utile lorsque vous écrivez des décorateurs.\n",
        "\n",
        "Vous devez vous rappeler que le décompactage de dictionnaires, bien qu'extrêmement populaire dans les définitions de fonctions, est une méthode particulièrement rare de fusion de dictionnaires. Cela peut dérouter les programmeurs moins expérimentés qui lisent votre code. C'est pourquoi vous devriez préférer le nouvel opérateur de fusion au décompactage du dictionnaire dans le code qui s'exécute dans Python 3.9 et les versions plus récentes. Pour les anciennes versions de Python, il est parfois préférable d'utiliser un dictionnaire temporaire et une simple méthode update()"
      ]
    },
    {
      "cell_type": "markdown",
      "metadata": {
        "id": "LV_iET_4Oua1"
      },
      "source": [
        "## Alternative – ChainMap du module collections\n",
        "\n",
        "Une autre façon de créer un objet qui est, d'un point de vue fonctionnel, une fusion de deux dictionnaires consiste à utiliser la classe ChainMap du module collections. Il s'agit d'une classe wrapper qui prend plusieurs objets de mappage (des dictionnaires dans ce cas) et agit comme s'il s'agissait d'un seul objet de mappage.\n",
        "\n",
        "La syntaxe pour fusionner deux dictionnaires avec ChainMap est la suivante :\n",
        "\n",
        "    new_map = ChainMap(dictionary_2, dictionary_1)\n",
        "\n",
        "\n",
        "Notez que l'ordre des dictionnaires est inversé par rapport au | opérateur. Cela signifie que si vous essayez d'accéder à une clé spécifique de l'objet new_map, il effectuera des recherches sur les objets enveloppés dans un ordre de gauche à droite. Considérez la transcription suivante, qui illustre des exemples d'opérations utilisant la classe ChainMap"
      ]
    },
    {
      "cell_type": "code",
      "metadata": {
        "colab": {
          "base_uri": "https://localhost:8080/",
          "height": 35
        },
        "id": "dNTy545CPWc1",
        "outputId": "6b3c4491-1ec1-482a-db6b-ba27be23b24d"
      },
      "source": [
        "from collections import ChainMap\n",
        "\n",
        "user_account = {\"iban\": \"GB71BARC20031885581746\", \"type\": \"account\"}\n",
        "user_profile = {\"display_name\": \"John Doe\", \"type\": \"profile\"}\n",
        "user = ChainMap(user_account, user_profile)\n",
        "user[\"iban\"]"
      ],
      "execution_count": 2,
      "outputs": [
        {
          "output_type": "execute_result",
          "data": {
            "application/vnd.google.colaboratory.intrinsic+json": {
              "type": "string"
            },
            "text/plain": [
              "'GB71BARC20031885581746'"
            ]
          },
          "metadata": {},
          "execution_count": 2
        }
      ]
    },
    {
      "cell_type": "code",
      "metadata": {
        "colab": {
          "base_uri": "https://localhost:8080/",
          "height": 35
        },
        "id": "gAHXospwPho6",
        "outputId": "eedff676-5739-4968-e4ef-fc8f60304180"
      },
      "source": [
        "user[\"type\"]"
      ],
      "execution_count": 4,
      "outputs": [
        {
          "output_type": "execute_result",
          "data": {
            "application/vnd.google.colaboratory.intrinsic+json": {
              "type": "string"
            },
            "text/plain": [
              "'account'"
            ]
          },
          "metadata": {},
          "execution_count": 4
        }
      ]
    },
    {
      "cell_type": "markdown",
      "metadata": {
        "id": "JnGqmQiaPs2P"
      },
      "source": [
        "Dans l'exemple précédent, nous pouvons clairement voir que l'objet utilisateur résultant du type ChainMap contient des clés des dictionnaires user_account et user_profile. Si l'une des clés se chevauche, l'instance ChainMap renverra la valeur du mappage le plus à gauche qui a la clé spécifique. C'est tout le contraire de l'opérateur de fusion de dictionnaire.\n",
        "\n",
        "ChainMap est un objet wrapper. Cela signifie qu'il ne copie pas le contenu des mappages source fournis, mais les stocke en tant que référence. Cela signifie que si les objets sous-jacents changent, ChainMap pourra renvoyer des données modifiées. Considérez la suite suivante de la session interactive précédente :"
      ]
    },
    {
      "cell_type": "code",
      "metadata": {
        "colab": {
          "base_uri": "https://localhost:8080/",
          "height": 35
        },
        "id": "zcKXIHzCP_5I",
        "outputId": "ef7b9719-ea32-450e-a9ca-fd43d6d73928"
      },
      "source": [
        "user_profile[\"display_name\"] = \"Abraham Lincoln\"\n",
        "user[\"display_name\"]"
      ],
      "execution_count": 5,
      "outputs": [
        {
          "output_type": "execute_result",
          "data": {
            "application/vnd.google.colaboratory.intrinsic+json": {
              "type": "string"
            },
            "text/plain": [
              "'Abraham Lincoln'"
            ]
          },
          "metadata": {},
          "execution_count": 5
        }
      ]
    },
    {
      "cell_type": "markdown",
      "metadata": {
        "id": "TTxiCrKgQQbP"
      },
      "source": [
        "De plus, ChainMap est accessible en écriture et remplit les modifications apportées au mappage sous-jacent. Ce que vous devez retenir, c'est que les écritures, les mises à jour et les suppressions n'affectent que le mappage le plus à gauche. S'il est utilisé sans soins appropriés, cela peut conduire à des situations confuses, comme dans la suite suivante de la session précédente :"
      ]
    },
    {
      "cell_type": "code",
      "metadata": {
        "colab": {
          "base_uri": "https://localhost:8080/"
        },
        "id": "CxCdm0pXQaqE",
        "outputId": "8521b0b4-36e8-4535-eed2-38b476ac8f42"
      },
      "source": [
        "user[\"display_name\"] = \"John Doe\"\n",
        "user[\"age\"] = 33\n",
        "user[\"type\"] = \"extension\"\n",
        "user_profile"
      ],
      "execution_count": 7,
      "outputs": [
        {
          "output_type": "execute_result",
          "data": {
            "text/plain": [
              "{'display_name': 'Abraham Lincoln', 'type': 'profile'}"
            ]
          },
          "metadata": {},
          "execution_count": 7
        }
      ]
    },
    {
      "cell_type": "code",
      "metadata": {
        "colab": {
          "base_uri": "https://localhost:8080/"
        },
        "id": "zvnSC4QSQpFP",
        "outputId": "33a70158-64eb-405b-f24a-9789686a8965"
      },
      "source": [
        "user_account"
      ],
      "execution_count": 8,
      "outputs": [
        {
          "output_type": "execute_result",
          "data": {
            "text/plain": [
              "{'age': 33,\n",
              " 'display_name': 'John Doe',\n",
              " 'iban': 'GB71BARC20031885581746',\n",
              " 'type': 'extension'}"
            ]
          },
          "metadata": {},
          "execution_count": 8
        }
      ]
    },
    {
      "cell_type": "markdown",
      "metadata": {
        "id": "xCW3JOsEQ9g_"
      },
      "source": [
        "Dans l'exemple précédent, nous pouvons voir que la clé 'display_name' a été renseignée dans le dictionnaire user_account, où user_profile était le dictionnaire source initial contenant une telle clé. Dans de nombreux contextes, un tel comportement de rétropropagation de ChainMap est indésirable. C'est pourquoi l'idiome courant pour l'utiliser dans le but de fusionner deux dictionnaires implique en fait une conversion explicite en un nouveau dictionnaire. Ce qui suit est un exemple qui utilise des dictionnaires d'entrée définis précédemment"
      ]
    },
    {
      "cell_type": "code",
      "metadata": {
        "colab": {
          "base_uri": "https://localhost:8080/"
        },
        "id": "FDXt0vuyRLkZ",
        "outputId": "dc04d27d-18a6-4a39-bc30-6696c9248c0f"
      },
      "source": [
        "dict(ChainMap(user_account, user_profile))"
      ],
      "execution_count": 9,
      "outputs": [
        {
          "output_type": "execute_result",
          "data": {
            "text/plain": [
              "{'age': 33,\n",
              " 'display_name': 'John Doe',\n",
              " 'iban': 'GB71BARC20031885581746',\n",
              " 'type': 'extension'}"
            ]
          },
          "metadata": {},
          "execution_count": 9
        }
      ]
    },
    {
      "cell_type": "markdown",
      "metadata": {
        "id": "f7xQpOkuRTg9"
      },
      "source": [
        "Si vous souhaitez simplement fusionner deux dictionnaires, vous devriez préférer un nouvel opérateur de fusion à ChainMap. Cependant, cela ne signifie pas que ChainMap est complètement inutile. Si la propagation aller-retour des changements est votre comportement souhaité, ChainMap sera la classe à utiliser. De plus, ChainMap fonctionne avec n'importe quel type de mappage. Ainsi, si vous devez fournir un accès unifié à plusieurs objets qui agissent comme s'il s'agissait de dictionnaires, ChainMap permettra de fournir une seule unité de type fusion pour le faire.\n",
        "\n",
        "    Si vous avez une classe de type dict personnalisée, vous pouvez toujours\n",
        "    l'étendre avec la méthode spéciale __or__() pour assurer la compatibilité\n",
        "    avec le | opérateur au lieu d'utiliser ChainMap. Le remplacement de\n",
        "    méthodes spéciales, Python en comparaison avec d'autres langages. Quoi\n",
        "    qu'il en soit, utiliser ChainMap est généralement plus facile que d'écrire\n",
        "    une méthode __ou__() personnalisée et vous permettra de travailler avec des\n",
        "    instances d'objets préexistantes de classes que vous ne pouvez pas modifier\n",
        "\n",
        "\n",
        "Habituellement, la raison la plus importante pour utiliser ChainMap sur le déballage du dictionnaire ou l'opérateur union est la compatibilité descendante. Sur les versions Python antérieures à la 3.9, vous ne pourrez pas utiliser la nouvelle syntaxe de l'opérateur de fusion de dictionnaire. Donc, si vous devez écrire du code pour les anciennes versions de Python, utilisez ChainMap. Si vous ne le faites pas, il est préférable d'utiliser l'opérateur de fusion. Un autre changement de syntaxe qui a un impact important sur la compatibilité descendante concerne les expressions d'affectation."
      ]
    },
    {
      "cell_type": "markdown",
      "metadata": {
        "id": "f7UVjAzgSOg2"
      },
      "source": [
        "## Expressions d'affectation\n",
        "\n",
        "Les expressions d'affectation sont une fonctionnalité assez intéressante car leur introduction a affecté la partie fondamentale de la syntaxe Python : la distinction entre expressions et instructions. Les expressions et les déclarations sont les éléments constitutifs clés de presque tous les langages de programmation. La différence entre eux est très simple : les expressions ont une valeur, tandis que les instructions n'en ont pas.\n",
        "\n",
        "\n",
        "\n",
        "Considérez les instructions comme des actions ou des instructions consécutives que votre programme exécute. Ainsi, les affectations de valeur, les clauses if, ainsi que les boucles for et while, sont toutes des instructions. Les définitions de fonction et de classe sont également des instructions.\n",
        "\n",
        "\n",
        "imaginez les expressions comme tout ce qui peut être mis dans une clause if. Des exemples typiques d'expressions sont les littéraux, les valeurs renvoyées par les opérateurs (à l'exception des opérateurs sur place) et les compréhensions, telles que les compréhensions de liste, de dictionnaire et d'ensemble. Les appels de fonction et les appels de méthode sont aussi des expressions.\n",
        "\n",
        "Certains éléments des nombreux langages de programmation sont souvent liés de manière inséparable à des instructions. Ce sont souvent :\n",
        "\n",
        "*  Fonctions et définitions de classe\n",
        "* Boucles\n",
        "* Clauses if...else\n",
        "* Affectations de variables\n",
        "\n",
        "\n",
        "Python a réussi à briser cette barrière en fournissant des fonctionnalités de syntaxe qui étaient des équivalents d'expression de ces éléments de langage, à savoir.\n",
        "\n",
        " * Expressions lambda pour les fonctions anonymes comme contrepartie pour les définitions de fonction : \n",
        "\n",
        "\n",
        "    lambda x : x**2\n",
        "      \n",
        "* Instanciation d'objet de type comme contrepartie pour la définition de classe : \n",
        "\n",
        "\n",
        "    type(\"MaClasse\", (), {})\n",
        "    \n",
        "\n",
        "• Diverses compréhensions comme contrepartie pour les boucles :\n",
        "\n",
        "  \n",
        "    squares_of_2 = [x**2 pour x in range(10)]\n",
        "\n",
        "\n",
        "* Expressions composées comme contrepartie pour if … else instructions :\n",
        "\n",
        "\n",
        "    \"odd\" if nombre % 2 else \"even\"\n",
        "\n",
        "Pendant de nombreuses années, cependant, nous n'avons pas eu accès à une syntaxe qui transmettrait la sémantique de l'attribution d'une valeur à une variable sous la forme d'une expression, et c'était sans aucun doute un choix de conception conscient de la part des créateurs de Python. Dans des langages tels que C, où l'affectation de variable peut être utilisée à la fois comme expression et comme instruction, cela conduit souvent à des situations où l'opérateur d'affectation est confus par la comparaison d'égalité. Quiconque a programmé en C peut attester du fait qu'il s'agit d'une source d'erreurs vraiment ennuyeuse. Considérez l'exemple suivant de code C\n",
        "\n",
        "    int err = 0;\n",
        "    if (err = 1) {\n",
        "              printf(\"Error occured\");\n",
        "    }\n",
        "\n",
        "Et comparez avec ce qui suit\n",
        "\n",
        "    int err = 0;\n",
        "    if (err == 1) {\n",
        "              printf(\"Error occured\");\n",
        "    }\n",
        "\n",
        "\n",
        "Les deux sont syntaxiquement valides en C car err = 1 est une expression en C qui sera évaluée à la valeur 1. Comparez cela avec Python, où le code suivant entraînera une erreur de syntaxe :\n",
        "\n",
        "    err = 0\n",
        "    if err = 1:     \n",
        "      printf(\"Error occured\")\n",
        "\n",
        "\n",
        "En de rares occasions, cependant, il peut être très pratique d'avoir une opération d'affectation de variable qui évaluerait une valeur. Heureusement, Python 3.8 a introduit l'opérateur dédié :=, qui attribue une valeur à la variable mais agit comme une expression au lieu d'une instruction. En raison de son apparence visuelle, il fut rapidement surnommé l'opérateur morse.\n",
        "\n",
        "Les cas d'utilisation de cet opérateur sont, très franchement, limités. Ils aident à rendre le code plus concis. Et souvent, un code plus concis est plus facile à comprendre car il améliore le rapport signal/bruit. Le scénario le plus courant pour l'opérateur morse est lorsqu'une valeur complexe doit être évaluée puis immédiatement utilisée dans les déclarations qui suivent.\n",
        "\n",
        "Un exemple couramment référencé travaille avec des expressions régulières. Imaginons une application simple qui lit le code source écrit en Python et le scanne avec des expressions régulières à la recherche de modules importés.\n",
        "\n",
        "Sans l'utilisation d'expressions d'affectation, le code pourrait apparaître comme suit :\n",
        "\n",
        "\n",
        "    import os\n",
        "    import re\n",
        "    import sys\n",
        "\n",
        "    import_re = re.compile(r\"^\\s*import\\s+\\.{0,2}((\\w+\\.)*(\\w+))\\s*$\")\n",
        "    import_from_re = re.compile(\n",
        "        r\"^\\s*from\\s+\\.{0,2}((\\w+\\.)*(\\w+))\\s+import\\s+(\\w+|\\*)+\\s*$\"\n",
        "    )\n",
        "\n",
        "\n",
        "    if __name__ == \"__main__\":\n",
        "        if len(sys.argv) != 2:\n",
        "            print(f\"usage: {os.path.basename(__file__)} file-name\")\n",
        "            sys.exit(1)\n",
        "\n",
        "        with open(sys.argv[1]) as file:\n",
        "            for line in file:\n",
        "                match = import_re.match(line)\n",
        "                if match:\n",
        "                    print(match.groups()[0])\n",
        "\n",
        "                match = import_from_re.match(line)\n",
        "                if match:\n",
        "                    print(match.groups()[0])\n",
        "\n",
        "Comme vous pouvez le constater, nous avons dû répéter deux fois le modèle qui évalue la correspondance des expressions complexes, puis récupère les jetons groupés. Ce bloc de code pourrait être réécrit avec des expressions d'affectation de la manière suivante\n",
        "\n",
        "    if match := import_re.match(line):\n",
        "        print(match.groups()[0])\n",
        "        \n",
        "    if match := import_from_re.match(line):\n",
        "        print(match.groups()[0])\n",
        "\n",
        "\n",
        "Comme vous pouvez le voir, il y a une petite amélioration en termes de lisibilité, mais ce n'est pas dramatique. Ce type de changement brille vraiment dans les situations où vous devez répéter le même schéma plusieurs fois. L'affectation continue de résultats temporaires à la même variable peut donner l'impression que le code est inutilement gonflé.\n",
        "\n",
        "Un autre cas d'utilisation pourrait être la réutilisation des mêmes données à plusieurs endroits dans des expressions plus grandes. Prenons l'exemple d'un littéral de dictionnaire qui représente des données prédéfinies d'un utilisateur imaginaire.\n",
        "\n",
        "    first_name = \"John\"\n",
        "    last_name = \"Doe\"\n",
        "    height = 168\n",
        "    weight = 70\n",
        "\n",
        "    user = {\n",
        "        \"first_name\": first_name,\n",
        "        \"last_name\": last_name,\n",
        "        \"display_name\": f\"{first_name} {last_name}\",\n",
        "        \"height\": height,\n",
        "        \"weight\": weight,\n",
        "        \"bmi\": weight / (height / 100) ** 2,\n",
        "    }\n",
        "\n",
        "\n",
        "Supposons que dans notre situation, il est important de garder tous les éléments cohérents. Par conséquent, le nom d'affichage doit toujours être composé d'un prénom et d'un nom de famille, et l'BMI doit être calculé sur la base du poids et de la taille. Afin de nous éviter de faire une erreur lors de l'édition de composants de données spécifiques, nous avons dû les définir comme des variables distinctes. Ceux-ci ne sont plus nécessaires une fois qu'un dictionnaire a été créé. Les expressions d'affectation permettent d'écrire le dictionnaire précédent de manière plus concise\n",
        "\n",
        "    user = {\n",
        "      \"first_name\": (first_name := \"John\"),\n",
        "      \"last_name\": (last_name := \"Doe\"),\n",
        "      \"display_name\": f\"{first_name} {last_name}\",\n",
        "      \"height\": (height := 168),\n",
        "      \"weight\": (weight := 70),\n",
        "      \"bmi\": weight / (height / 100) ** 2,\n",
        "}\n",
        "\n",
        "Comme vous pouvez le voir, nous avons dû envelopper les expressions d'affectation avec des parenthèses. Malheureusement, la syntaxe := entre en conflit avec le caractère : utilisé comme opérateur d'association dans les littéraux du dictionnaire et les parenthèses sont un moyen de contourner cela.\n",
        "\n",
        "Les expressions d'affectation sont un outil pour peaufiner votre code et rien de plus. Assurez-vous toujours qu'une fois appliqués, ils améliorent réellement la lisibilité, au lieu de la rendre plus obscure."
      ]
    },
    {
      "cell_type": "markdown",
      "metadata": {
        "id": "-MpO8dRLuz5y"
      },
      "source": [
        "## Génériques de typage\n",
        "\n",
        "Les annotations de type indicateur, bien que totalement facultatives, sont une fonctionnalité de plus en plus populaire de Python. Ils vous permettent d'annoter les types de retour de variable, d'argument et de fonction avec des définitions de type. Ces annotations de type servent à des fins de documentation, mais peuvent également être utilisées pour valider votre code à l'aide d'outils externes. De nombreux IDE de programmation sont capables de comprendre les annotations de frappe et de mettre en évidence visuellement les problèmes de frappe potentiels. Il existe également des vérificateurs de type statiques, tels que mypy ou pyright, qui peuvent être utilisés pour parcourir l'ensemble de la base de code et signaler toutes les erreurs de frappe des unités de code qui utilisent des annotations.\n",
        "\n",
        "Dans sa forme la plus simple, l'indication de type peut être utilisée avec une conjonction de types intégrés ou personnalisés pour spécifier les types souhaités, les arguments d'entrée de fonction et les valeurs de retour, ainsi que les variables locales. Considérez la fonction suivante, qui permet l'exécution de la recherche de clés insensible à la casse dans un dictionnaire à clé de chaîne\n",
        "\n",
        "    from typing import Any\n",
        "    \n",
        "    def get_ci(d: dict, key: str) -> Any:\n",
        "        for k, v in d.items():\n",
        "          if key.lower() == k.lower():            \n",
        "            return v\n",
        "\n",
        "La première instruction importe du module de typage le type Any, qui dénit que la variable ou l'argument peut être de n'importe quel type. La signature de notre fonction spécifie que le premier argument, d, doit être un dictionnaire, tandis que le deuxième argument, key, doit être une chaîne. La signature se termine par la spécification d'une valeur de retour, qui peut être de n'importe quel type.\n",
        "\n",
        "Si vous utilisez des outils de vérification de type, les annotations précédentes suffiront à détecter de nombreuses erreurs. Si, par exemple, un appelant change l'ordre des arguments positionnels, vous pourrez détecter l'erreur rapidement, car les arguments key et d sont annotés avec des types différents. Cependant, ces outils ne se plaindront pas dans une situation où un utilisateur passe un dictionnaire qui utilise différents types de clés.\n",
        "\n",
        "Pour cette raison même, les types génériques tels que tuple, list, dict, set, freezeset et bien d'autres peuvent être annotés davantage avec les types de leur contenu. Pour un dictionnaire, l'annotation a la forme suivante:\n",
        "\n",
        "    dict[KeyType, ValueType]\n",
        "\n",
        "La signature de la fonction get_ci(), avec des annotations de type plus restrictives, serait la suivante :\n",
        "\n",
        "    def get_ci(d: dict[str, Any], key: str) -> Any: ...\n",
        "\n",
        "dans les anciennes versions de Python, les types de collection intégrés ne pouvaient pas être annotés aussi facilement avec les types de leur contenu. Le module de saisie fournit des types spéciaux qui peuvent être utilisés à cette fin. Ces types incluent :\n",
        "\n",
        "\n",
        "    * typing.Dict for dictionaries\n",
        "    * typing.List for lists\n",
        "    *  typing.Tuple for tuples\n",
        "    *  typing.Set for sets\n",
        "    * typing.FrozenSet for frozen sets\n",
        "\n",
        "Ces types sont toujours utiles si vous devez fournir des fonctionnalités pour un large éventail de versions de Python, mais si vous écrivez du code pour Python 3.9 et les versions plus récentes uniquement, vous devez utiliser les génériques intégrés à la place. L'importation de ces types à partir de modules de saisie est obsolète et ils seront supprimés de Python à l'avenir"
      ]
    },
    {
      "cell_type": "markdown",
      "metadata": {
        "id": "buoFau3ExSqD"
      },
      "source": [
        "## Paramètres de position uniquement\n",
        "\n",
        "Python est assez flexible lorsqu'il s'agit de passer des arguments aux fonctions. Il y a deux façons dont les arguments de fonction peuvent être fournis aux fonctions.\n",
        "\n",
        "* En tant qu'argument positionnel\n",
        "\n",
        " * En tant qu'argument mot-clé\n",
        " \n",
        "Pour de nombreuses fonctions, c'est le choix de l'appelant en termes de mode de transmission des arguments. C'est une bonne chose car l'utilisateur de la fonction peut décider qu'un usage spécifique est plus lisible ou pratique dans une situation donnée. Considérez l'exemple suivant d'une fonction qui concatène les chaînes à l'aide d'un délimiteur\n",
        "\n",
        "    def concatenate(first: str, second: str, delim: str):\n",
        "        return delim.join([first, second])\n",
        "\n",
        "Il existe plusieurs manières d'appeler cette fonction :\n",
        "\n",
        "*  Avec des arguments de position :\n",
        "    \n",
        "    \n",
        "       concatenate(\"John\", \"Doe\", \" \")\n",
        "* Avec des arguments de mot-clé : \n",
        "\n",
        "\n",
        "    concatenate(first=\"John\", second=\"Doe\" , delim=\" \")\n",
        "\n",
        "* Avec un mélange d'arguments positionnels et de mots-clés : \n",
        "\n",
        "    \n",
        "    concatenate(\"John\", \"Doe\", delim=\" \")\n",
        "\n",
        "Si vous écrivez une bibliothèque réutilisable, vous savez peut-être déjà comment votre bibliothèque est destinée à être utilisée. Parfois, vous savez peut-être par expérience que des modèles d'utilisation spécifiques rendront le code résultant plus lisible, ou bien au contraire. Vous n'êtes peut-être pas encore certain de votre conception et souhaitez vous assurer que l'API de votre bibliothèque peut être modifiée dans un délai raisonnable sans affecter vos utilisateurs. Dans les deux cas, c'est une bonne pratique de créer des signatures de fonction d'une manière qui prend en charge l'utilisation prévue et permet également une extension future.\n",
        "\n",
        "\n",
        "Une fois que vous publiez votre bibliothèque, la signature de fonction forme un contrat d'utilisation avec votre bibliothèque. Toute modification des noms d'arguments et de leur ordre peut casser les applications du programmeur utilisant cette bibliothèque.\n",
        "\n",
        "Si vous deviez réaliser à un moment donné que les noms des arguments premier et second n'expliquent pas correctement leur objectif, vous ne pouvez pas les modifier sans rompre la compatibilité descendante. C'est parce qu'il y a peut-être un programmeur qui a utilisé l'appel suivant:\n",
        "\n",
        "\n",
        "    concatenate(first=\"John\", second=\"Doe\", delim=\" \")\n",
        "\n",
        "\n",
        "Si vous souhaitez convertir la fonction sous une forme qui accepte un nombre quelconque de chaînes, vous ne pouvez pas le faire sans rompre la compatibilité descendante car il se peut qu'un programmeur ait utilisé l'appel suivant:\n",
        "\n",
        "    concatenate(\"John\", \"Doe\", \" \")\n",
        "\n",
        "Heureusement, Python 3.8 a ajouté la possibilité de définir des arguments spécifiques comme étant uniquement positionnels. De cette façon, vous pouvez indiquer quels arguments ne peuvent pas être passés en tant qu'arguments de mot-clé afin d'éviter des problèmes de compatibilité descendante à l'avenir. Vous pouvez également désigner des arguments spécifiques comme étant uniquement des mots-clés. Considérez attentivement quels arguments doivent être transmis en tant que position uniquement et lesquels en tant que mot-clé uniquement servent à rendre la définition des fonctions plus susceptible de modifications futures. Notre fonction concaténer(), définie avec l'utilisation d'arguments de position uniquement et de mot-clé uniquement, pourrait ressembler à ceci\n",
        "\n",
        "    def concatenate(first: str, second: str, /, *, delim: str):    \n",
        "        return delim.join([first, second])\n",
        "\n",
        "La façon dont vous lisez cette définition est la suivante :\n",
        "\n",
        "*  Tous les arguments précédant la marque / sont des arguments de position uniquement\n",
        "\n",
        "*  Tous les arguments suivant la marque * sont des arguments de mot-clé uniquement\n",
        "\n",
        "La définition précédente garantit que le seul appel valide à la fonction concaténer() serait sous la forme suivante :\n",
        "\n",
        "    concatenate(\"John\", \"Doe\", delim=\" \")\n",
        "\n",
        "Et si vous essayiez de l'appeler différemment, vous recevriez une erreur TypeError\n",
        "\n",
        "Supposons que nous ayons publié notre fonction dans une bibliothèque dans le dernier format et que nous voulions maintenant lui faire accepter un nombre illimité d'arguments positionnels. Comme il n'y a qu'une seule manière d'utiliser cette fonction, nous pouvons maintenant utiliser la décompression d'arguments pour implémenter le changement suivant :\n",
        "\n",
        "    def concatenate(*items, delim: str):    \n",
        "      return delim.join(items)\n",
        "\n",
        "L'argument *items capturera tous les arguments positionnels dans le tuple items. Grâce à ces changements, les utilisateurs pourront utiliser la fonction avec un nombre variable d'éléments positionnels, comme dans les exemples suivants"
      ]
    },
    {
      "cell_type": "code",
      "metadata": {
        "colab": {
          "base_uri": "https://localhost:8080/"
        },
        "id": "OhuR62s70tyw",
        "outputId": "954ee219-997e-4600-fd2d-868cc71f74ad"
      },
      "source": [
        "def concatenate(*items, delim: str):    \n",
        "  return delim.join(items)\n",
        "\n",
        "print(concatenate(\"John\", \"Doe\", delim=\" \"))\n",
        "print(concatenate(\"Ronald\", \"Reuel\", \"Tolkien\", delim=\" \"))\n",
        "print(concatenate(\"Jay\", delim=\" \"))\n",
        "print(concatenate(delim=\" \"))"
      ],
      "execution_count": 13,
      "outputs": [
        {
          "output_type": "stream",
          "name": "stdout",
          "text": [
            "John Doe\n",
            "Ronald Reuel Tolkien\n",
            "Jay\n",
            "\n"
          ]
        }
      ]
    },
    {
      "cell_type": "markdown",
      "metadata": {
        "id": "9nWGsYuOe6AE"
      },
      "source": [
        "Les arguments de position uniquement et de mots-clés uniquement sont un excellent outil pour les créateurs de bibliothèques, car ils créent de l'espace pour les futures modifications de conception qui n'affecteront pas leurs utilisateurs. Mais ils sont aussi un excellent outil pour écrire des applications, surtout si vous travaillez avec d'autres programmeurs. Vous pouvez utiliser des arguments de position uniquement et de mot-clé uniquement pour vous assurer que les fonctions seront appelées comme prévu. Cela peut aider dans la future refactorisation du code"
      ]
    },
    {
      "cell_type": "markdown",
      "metadata": {
        "id": "gMej5jLXfIpy"
      },
      "source": [
        "## zoneinfo module\n",
        "\n",
        "La gestion de l'heure et des fuseaux horaires est l'un des aspects les plus difficiles de la programmation. Les principales raisons sont les nombreuses idées fausses que les programmeurs ont sur l'heure et les fuseaux horaires. Une autre raison est le flux sans fin de mises à jour des définitions de fuseau horaire réelles. Et ces changements se produisent chaque année, souvent pour des raisons politiques.\n",
        "\n",
        "Python, à partir de la version 3.9, rend l'accès aux informations concernant les fuseaux horaires actuels et historiques plus facile que jamais. La bibliothèque standard Python fournit un module zoneinfo qui est une interface avec la base de données de fuseaux horaires fournie par votre système d'exploitation ou obtenue en tant que package tzdata de première partie de PyPI.\n",
        "Ouvrir dans Google Traduction.\n",
        "\n",
        "L'utilisation réelle implique la création d'objets ZoneInfo à l'aide de l'appel de constructeur suivant.\n",
        "\n",
        "    ZoneInfo(timezone_key)\n",
        "    \n",
        "Ici, timezone_key est un nom de fichier de la base de données des fuseaux horaires de l'IANA. Ces noms de fichiers ressemblent à la manière dont les fuseaux horaires sont souvent présentés dans diverses applications. Les exemples comprennent.\n",
        "\n",
        "* Europe/Warsaw\n",
        "*  Asia/Tel_Aviv\n",
        "*  America/Fort_Nelson\n",
        "*  GMT-0\n",
        "\n",
        "\n",
        "Les instances de la classe ZoneInfo peuvent être utilisées comme paramètre tzinfo du constructeur d'objet datetime, comme dans l'exemple suivant\n",
        "\n",
        "    from datetime import datetime\n",
        "    from zoneinfo import ZoneInfo\n",
        "\n",
        "    dt = datetime(2020, 11, 28, tzinfo=ZoneInfo(\"Europe/Warsaw\"))\n",
        "\n",
        "\n",
        "Cela vous permet de créer ce que l'on appelle des objets datetime tenant compte du fuseau horaire. Les objets datetime sensibles au fuseau horaire sont essentiels pour calculer correctement les différences de temps dans des fuseaux horaires spécifiques, car ils sont capables de prendre en compte des éléments tels que les changements entre l'heure standard et l'heure d'été, ainsi que tout changement historique apporté au fuseau horaire de l'IANA. base de données\n",
        "\n",
        "Vous pouvez obtenir une liste complète de tous les fuseaux horaires disponibles dans votre système en utilisant la fonction zoneinfo.available_timezones().\n"
      ]
    },
    {
      "cell_type": "markdown",
      "metadata": {
        "id": "f1pvMOGIinqz"
      },
      "source": [
        "## module graphlib\n",
        "\n",
        "Un autre ajout intéressant à la bibliothèque standard Python est le module graphlib, ajouté dans Python 3.9. Il s'agit d'un module qui fournit des utilitaires pour travailler avec des structures de données de type graphique. Un graphique est une structure de données constituée de nœuds connectés par des arêtes. Les graphes sont un concept du domaine des mathématiques connu sous le nom de théorie des graphes. Selon le type d'arête, nous pouvons distinguer deux principaux types de graphes :\n",
        "\n",
        "\n",
        "*  Un graphe non orienté est un graphe où chaque arête n'est pas orientée. Si un graphique était un système de villes reliées par des routes, les arêtes d'un graphique non orienté seraient des routes à double sens pouvant être traversées de chaque côté. Ainsi, si deux nœuds, A et B, sont connectés à l'arête E dans un graphe non orienté, vous pouvez traverser de A à B et de B à A en utilisant la même arête, E\n",
        "\n",
        "\n",
        "* Un graphe orienté est un graphe où chaque arête est orientée. Encore une fois, si un graphique était un système de villes reliées par des routes, les arêtes d'un graphique orienté seraient une route à sens unique qui ne peut être parcourue qu'à partir d'un seul point d'origine. Si deux nœuds, A et B, sont connectés à une seule arête, E, qui part du nœud A, vous pouvez traverser de A à B en utilisant cette arête, mais vous ne pouvez pas traverser de B à A. De plus, les graphiques peuvent être soit cyclique ou acyclique. Un graphe cyclique est un graphe qui a au moins un cycle, un chemin fermé qui commence et se termine au même nœud. Un graphe acyclique est un graphe qui n'a pas de cycles.\n",
        "\n",
        "La théorie des graphes traite de nombreux problèmes mathématiques qui peuvent être modélisés à l'aide de structures de graphes. En programmation, les graphes sont utilisés pour résoudre de nombreux problèmes algorithmiques. En informatique, les graphiques peuvent être utilisés pour représenter le flux de données ou les relations entre les objets. Cela a de nombreuses applications pratiques, y compris :\n",
        "\n",
        "* Modélisation d'arbres de dépendance\n",
        "* Représentation des connaissances dans un format lisible par machine\n",
        "* Visualisation d'informations\n",
        "* Modélisation des systèmes de transport\n",
        "\n",
        "\n",
        "Le module graphlib est censé aider les programmeurs Python lorsqu'ils travaillent avec des graphiques. Il s'agit d'un nouveau module, il n'inclut donc actuellement qu'une seule classe utilitaire nommée TopologicalSorter. Comme son nom l'indique, cette classe est capable d'effectuer un tri topologique de graphes acycliques orientés\n",
        "\n",
        "\n",
        "le tri topologique est l'opération d'ordonner les nœuds d'un graphe acyclique dirigé (DAG) d'une manière spécique. Le résultat du tri topologique est une liste de tous les nœuds où chaque nœud apparaît avant tous les nœuds vers lesquels vous pouvez traverser à partir de ce nœud, en d'autres termes :\n",
        "\n",
        "* Le premier nœud sera le nœud qui ne peut être traversé à partir d'aucun autre nœud\n",
        "\n",
        "* Chaque nœud suivant sera un nœud à partir duquel vous ne pourrez pas passer aux nœuds précédents\n",
        "\n",
        "*  Le dernier nœud sera un nœud à partir duquel vous ne pourrez pas traverser vers aucun nœud \n",
        "\n",
        "Certains graphiques peuvent avoir plusieurs ordres qui satisfont aux exigences du tri topologique. \n",
        "\n",
        "Pour mieux comprendre l'utilisation du tri topologique, considérons le problème suivant. Nous avons une opération complexe à exécuter qui consiste en plusieurs tâches dépendantes. Ce travail peut être, par exemple, la migration de plusieurs tables de base de données entre deux systèmes de base de données différents. C'est un problème bien connu, et il existe déjà plusieurs outils qui peuvent migrer des données entre différents systèmes de gestion de bases de données. Mais à titre d'illustration, supposons que nous n'avons pas un tel système et que nous devons construire quelque chose à partir de zéro.\n",
        "\n",
        "Dans les systèmes de bases de données relationnelles, les lignes des tables sont souvent référencées et l'intégrité de ces références est protégée par des contraintes de clé étrangère. Si nous voulons nous assurer qu'à un moment donné, la base de données cible est référentiellement intégrale, nous devrions migrer toutes nos tables dans un ordre spécique. Supposons que nous ayons les tables de base de données suivantes:\n",
        "\n",
        "* Une table des clients, qui contient des informations personnelles relatives aux clients.\n",
        "\n",
        "* Une table des comptes, qui contient des informations sur les comptes d'utilisateurs, y compris leurs soldes. Un même utilisateur peut avoir plusieurs comptes (par exemple, des comptes personnels et professionnels), et le même compte ne peut pas être consulté par plusieurs utilisateurs.\n",
        "\n",
        "* Un tableau des produits, qui contient des informations sur les produits disponibles à la vente dans notre système.\n",
        "\n",
        "* Un tableau des commandes , qui contient les commandes individuelles de plusieurs produits au sein d'un seul compte effectuées par un seul utilisateur.\n",
        "\n",
        "* Une table order_products, qui contient des informations concernant les quantités de produits individuels au sein d'une seule commande\n",
        "\n",
        "Python n'a pas de type de données spécial dédié à la représentation des graphes. Mais il a un type de dictionnaire qui est excellent pour mapper les relations entre les clés et les valeurs. Définissons les références entre nos tables imaginaires\n",
        "\n",
        "\n",
        "    table_references = {\n",
        "          \"customers\": set(),    \n",
        "          \"accounts\": {\"customers\"},    \n",
        "          \"products\": set(),    \n",
        "          \"orders\": {\"accounts\", \"customers\"},    \n",
        "          \"order_products\": {\"orders\", \"products\"}\n",
        "}\n",
        "\n",
        "Si notre graphe de référence n'a pas de cycles, nous pouvons le trier topologiquement. Le résultat de ce tri serait un ordre de migration de table possible. Le constructeur de la classe graphlib.TopologicalSorter accepte en entrée un dictionnaire unique dans lequel les clés sont des nœuds d'origine et les valeurs sont des ensembles de nœuds de destination. Cela signifie que nous pouvons passer notre variable table_references directement au constructeur TopologicalSorter(). Pour effectuer un tri topologique, nous pouvons utiliser l'appel static_order(), comme dans la transcription suivante d'une session interactive\n",
        "\n",
        "\n",
        "    from graphlib import TopologicalSorter\n",
        "    \n",
        "    table_references = {     \n",
        "      \"customers\": set(),     \n",
        "      \"accounts\": {\"customers\"},     \n",
        "      \"products\": set(),     \n",
        "      \"orders\": {\"accounts\", \"customers\"},     \n",
        "      \"order_products\": {\"orders\", \"products\"},\n",
        "       }\n",
        "       \n",
        "    sorter = TopologicalSorter(table_references)\n",
        "    \n",
        "    list(sorter.static_order())\n",
        "    \n",
        "Le tri topologique ne peut être effectué que sur les DAG. TopologicalSorter ne vérifie pas l'existence de cycles lors de l'initialisation, bien qu'il détecte les cycles lors du tri. Si un cycle est trouvé, la méthode static_order() lèvera une exception graphlib.CycleError.\n",
        "\n",
        "\n",
        "Les fonctionnalités que nous avons examinées jusqu'à présent sont assez nouvelles, il faudra donc un certain temps avant qu'elles ne deviennent les éléments principaux de Python. C'est parce qu'ils ne sont pas rétrocompatibles et que les anciennes versions de Python sont toujours prises en charge par de nombreux mainteneurs de bibliothèque. Dans la section suivante, nous passerons en revue un certain nombre d'éléments Python importants introduits dans Python 3.6 et Python 3.7, nous aurons donc certainement couverture plus large de la version Python. Cependant, tous ces nouveaux éléments ne sont pas populaires, alors j'espère que vous apprendrez toujours quelque chose\n"
      ]
    },
    {
      "cell_type": "markdown",
      "metadata": {
        "id": "RWJ5Sm6HoAcr"
      },
      "source": [
        "## Pas si nouveau, mais toujours brillant\n",
        "\n",
        "Chaque version de Python apporte quelque chose de nouveau. Certains changements sont de véritables révélations ; ils améliorent grandement la façon dont nous pouvons programmer et sont adoptés presque instantanément par la communauté.\n",
        "\n",
        " Les avantages d'autres changements, cependant, peuvent ne pas être évidents au début et ils peuvent nécessiter un peu plus de temps pour vraiment décoller. Libération. Il a fallu des années pour créer un écosystème d'outils qui les exploiteraient. Maintenant, les annotations semblent presque omniprésentes dans les applications Python modernes. \n",
        " \n",
        " \n",
        " Les principaux développeurs Python sont très prudents quant à l'ajout de nouveaux modules à la bibliothèque standard et nous voyons rarement de nouveaux ajouts. Pourtant, il est probable que vous oublierez bientôt d'utiliser les modules graphlib ou zoneinfo si vous n'avez pas l'opportunité de travailler avec des problèmes qui nécessitent la manipulation de structures de données de type graphique ou la gestion prudente des fuseaux horaires. Vous avez peut-être déjà oublié d'autres ajouts intéressants à Python qui se sont produits au cours des dernières années. C'est pourquoi nous allons passer brièvement en revue quelques changements importants survenus dans les versions antérieures à Python 3.7. Ce seront soit des ajouts petits mais intéressants qui pourraient facilement être manqués, soit des choses qui prennent simplement du temps pour s'y habituer"
      ]
    },
    {
      "cell_type": "markdown",
      "metadata": {
        "id": "VuNSWfESoq44"
      },
      "source": [
        "## breakpoint() function\n",
        "\n",
        "Nous avons abordé le sujet des débogueurs, Environnements de développement Python modernes. La fonction breakpoint() y était déjà mentionnée comme un moyen idiomatique d'invoquer le débogueur Python.\n",
        "\n",
        "Il a été ajouté dans Python 3.7, il est donc déjà disponible depuis un certain temps. Pourtant, c'est l'un de ces changements qui demande simplement un certain effort pour s'y habituer. On nous a dit et enseigné pendant de nombreuses années que le moyen le plus simple d'appeler le débogueur à partir du code Python est via l'extrait suivant:\n",
        "\n",
        "    import pdb; pdb.set_trace()\n",
        "\n",
        "Cela n'a pas l'air joli, ni simple, mais si vous faites cela tous les jours depuis des années, comme l'ont fait de nombreux programmeurs, vous l'auriez dans votre mémoire musculaire. Problème? Accédez au code, saisissez quelques touches pour appeler pdb, puis redémarrez le programme. Vous êtes maintenant dans le shell de l'interpréteur au même endroit que votre erreur se produit. Terminé? Revenez au code, supprimez import pdb ; pdb.set_trace(), puis commencez à travailler .Alors pourquoi devriez-vous vous embêter ? N'est-ce pas une préférence personnelle ? Les points d'arrêt sont-ils quelque chose qui atteignent le code de production ?\n",
        "\n",
        "La vérité est que le débogage est souvent une tâche solitaire et profondément personnelle. Nous passons souvent de nombreuses heures à lutter contre les bogues, à chercher des indices et à lire du code encore et encore dans une tentative désespérée de localiser cette petite erreur qui perturbe notre application. Lorsque vous êtes profondément concentré sur la recherche de la cause d'un problème, vous devez absolument utiliser quelque chose que vous trouvez le plus pratique. Certains programmeurs préfèrent les débogueurs intégrés aux IDE. Certains programmeurs n'utilisent même pas de débogueurs, préférant à la place des appels print() élaborés répartis dans tout le code. Choisissez toujours ce que vous trouvez le plus pratique\n",
        "\n",
        "Mais si vous êtes habitué à un simple débogueur basé sur un shell, le point d'arrêt () peut vous faciliter le travail. Le principal avantage de cette fonction est qu'elle n'est pas liée à un seul débogueur. Par défaut, il appelle une session pdb, mais ce comportement peut être modifié avec une variable d'environnement PYTHONBREAKPOINT. Si vous préférez utiliser un débogueur alternatif (tel que ipdb), vous pouvez définir cette variable d'environnement sur une valeur qui indiquera à Python quelle fonction appeler\n",
        "\n",
        "La pratique standard consiste à définir votre débogueur préféré dans un script de profil shell afin que vous n'ayez pas à modifier cette variable à chaque session shell. Par exemple, si vous êtes un utilisateur de Bash et que vous souhaitez toujours utiliser ipdb au lieu de pdb, vous pouvez insérer la déclaration suivante dans votre fichier .bash_profile\n",
        "\n",
        "    PYTHONBREAKPOINT=ipdb.set_trace()\n",
        "\n",
        "\n",
        "Cette approche fonctionne également bien lorsque vous travaillez ensemble. Par exemple, si quelqu'un vous demande de l'aide pour le débogage, vous pouvez lui demander d'insérer des instructions de point d'arrêt dans des endroits suspects. De cette façon, lorsque vous exécuterez le code sur votre propre ordinateur, vous utiliserez le débogueur de votre choix"
      ]
    },
    {
      "cell_type": "markdown",
      "metadata": {
        "id": "Bpez7_pjrCQN"
      },
      "source": [
        "## Module-level __getattr__() and __dir__() functions\n",
        "\n",
        "Chaque classe Python peut définir les méthodes personnalisées __getattr__() et __dir__() pour personnaliser l'accès dynamique aux attributs des objets. La fonction __getattr__() est invoquée lorsqu'un nom d'attribut donné n'est pas trouvé pour capturer une recherche d'attribut manquante et éventuellement générer une valeur . La méthode __dir__() est appelée lorsqu'un objet est passé à la fonction dir() et elle doit renvoyer une liste de noms d'attributs d'objet.\n",
        "\n",
        "A partir de Python 3.7, les fonctions __getattr__() et __dir__() peuvent être définies au niveau du module. La sémantique est similaire aux méthodes objet. La fonction de niveau module __getattr__(), si elle est définie, sera appelée lors d'une recherche de membre de module ayant échoué. La fonction __dir__() sera appelée lorsqu'un objet module est passé à la fonction dir().\n",
        "\n",
        "Cette fonctionnalité peut être utile pour les responsables de la bibliothèque lors de la dépréciation des fonctions ou des classes de module. Imaginons que nous ayons exposé notre fonction get_ci() à partir de la section génériques d'indication de type dans une bibliothèque open source appelée dict_helpers.py. Si nous souhaitons renommer la fonction en lookup_ci() et être toujours autorisé à l'importer sous l'ancien nom, nous pourrions utiliser le modèle de dépréciation suivant :"
      ]
    },
    {
      "cell_type": "code",
      "metadata": {
        "id": "ngFYoj5msqvB"
      },
      "source": [
        "from typing import Any\n",
        "from warnings import warn\n",
        "\n",
        "\n",
        "def ci_lookup(d: dict[str, Any], key: str) -> Any:\n",
        "    ...\n",
        "\n",
        "\n",
        "def __getattr__(name: str):\n",
        "    if name == \"get_ci\":\n",
        "        warn(f\"{name} is deprecated\", DeprecationWarning)\n",
        "        return ci_lookup\n",
        "\n",
        "    raise AttributeError(f\"module {__name__} has no attribute {name}\")"
      ],
      "execution_count": 24,
      "outputs": []
    },
    {
      "cell_type": "markdown",
      "metadata": {
        "id": "m2XRXPeTtNV6"
      },
      "source": [
        "Le modèle précédent émettra un DeprecationWarning, que la fonction get_ci() soit importée directement depuis un module (comme via de dict_helpers import get_ci) ou accédée en tant qu'attribut dict_helpers.get_ci"
      ]
    },
    {
      "cell_type": "markdown",
      "metadata": {
        "id": "7-2OHsSBtozp"
      },
      "source": [
        "## Formater des chaînes avec des chaînes f\n",
        "\n",
        "Les chaînes F, également connues sous le nom de littéraux de chaîne formatés, sont l'une des fonctionnalités Python les plus appréciées fournies avec Python 3.6. Introduits avec PEP 498, ils ont ajouté une nouvelle façon de formater les chaînes. Avant Python 3.6, nous avions déjà deux méthodes de formatage de chaîne différentes. Ainsi, à l'heure actuelle, il existe trois manières différentes de formater une seule chaîne : \n",
        "\n",
        "*  Utilisation du formatage % : c'est la méthode la plus ancienne et utilise un modèle de substitution qui ressemble à la syntaxe de la fonction printf() de la bibliothèque standard C"
      ]
    },
    {
      "cell_type": "code",
      "metadata": {
        "colab": {
          "base_uri": "https://localhost:8080/",
          "height": 35
        },
        "id": "kAcw3Q8lt8uB",
        "outputId": "8e3aeff0-e7cd-44e7-b264-294d0c96c366"
      },
      "source": [
        "import math\n",
        "\n",
        "\"approximate value of π: %f\" % math.pi"
      ],
      "execution_count": 26,
      "outputs": [
        {
          "output_type": "execute_result",
          "data": {
            "application/vnd.google.colaboratory.intrinsic+json": {
              "type": "string"
            },
            "text/plain": [
              "'approximate value of π: 3.141593'"
            ]
          },
          "metadata": {},
          "execution_count": 26
        }
      ]
    },
    {
      "cell_type": "markdown",
      "metadata": {
        "id": "eyqLNEx2uK6q"
      },
      "source": [
        "Utilisation de la méthode str.format() : Cette méthode est plus pratique et moins sujette aux erreurs que le formatage %, bien qu'elle soit plus détaillée. Il permet l'utilisation de jetons de substitution nommés ainsi que la réutilisation de la même valeur plusieurs fois"
      ]
    },
    {
      "cell_type": "code",
      "metadata": {
        "colab": {
          "base_uri": "https://localhost:8080/",
          "height": 35
        },
        "id": "IPPSVIvTuSX8",
        "outputId": "1b1c7262-7f0c-42df-cfa2-6c2b89244323"
      },
      "source": [
        "import math\n",
        "\n",
        "\" approximate value of π: {:f}\".format(math.pi)"
      ],
      "execution_count": 33,
      "outputs": [
        {
          "output_type": "execute_result",
          "data": {
            "application/vnd.google.colaboratory.intrinsic+json": {
              "type": "string"
            },
            "text/plain": [
              "' approximate value of π: 3.141593'"
            ]
          },
          "metadata": {},
          "execution_count": 33
        }
      ]
    },
    {
      "cell_type": "markdown",
      "metadata": {
        "id": "WPP1Gz82uqqC"
      },
      "source": [
        "Utilisation de littéraux de chaîne formatés (appelés chaînes f). C'est l'option la plus concise, la plus flexible et la plus pratique pour le formatage des chaînes. Il remplace automatiquement les valeurs dans les littéraux à l'aide de variables et d'expressions d'espaces de noms locaux"
      ]
    },
    {
      "cell_type": "code",
      "metadata": {
        "colab": {
          "base_uri": "https://localhost:8080/",
          "height": 35
        },
        "id": "Mw6Zqb0uuwAa",
        "outputId": "522613df-8b8c-44d2-eb9c-f56a86c33316"
      },
      "source": [
        "import math\n",
        "f\"approximate value of π: {math.pi:f}\""
      ],
      "execution_count": 34,
      "outputs": [
        {
          "output_type": "execute_result",
          "data": {
            "application/vnd.google.colaboratory.intrinsic+json": {
              "type": "string"
            },
            "text/plain": [
              "'approximate value of π: 3.141593'"
            ]
          },
          "metadata": {},
          "execution_count": 34
        }
      ]
    },
    {
      "cell_type": "markdown",
      "metadata": {
        "id": "15GkOjg-u4i_"
      },
      "source": [
        "Les littéraux de chaîne formatés sont désignés par le préfixe f et leur syntaxe est la plus proche de la méthode str.format(), car ils utilisent un balisage similaire pour désigner les champs de remplacement dans le texte formaté. Dans la méthode str.format(), les substitutions de texte font référence aux arguments de position et de mot-clé. Ce qui rend les f-strings spéciales, c'est que les champs de remplacement peuvent être n'importe quelle expression Python, et ils seront évalués au moment de l'exécution. À l'intérieur des chaînes, vous avez accès à toute variable disponible dans le même espace de noms que le littéral formaté. La possibilité d'utiliser des expressions comme champs de remplacement rend le code de formatage plus simple et plus court. Vous pouvez également utiliser les mêmes spécificateurs de formatage des champs de remplacement (pour le remplissage, l'alignement, les signes, etc.) que la méthode str.format(), et la syntaxe est la suivante\n",
        "\n",
        "\n",
        "    f\"{replacement_field_expression:format_specifier}\"\n",
        "\n",
        "Ce qui suit est un exemple simple de code exécuté dans une session interactive qui imprime les dix premières puissances du nombre 10 à l'aide de chaînes f et aligne les résultats à l'aide d'un formatage de chaîne avec remplissage"
      ]
    },
    {
      "cell_type": "code",
      "metadata": {
        "colab": {
          "base_uri": "https://localhost:8080/"
        },
        "id": "omqA9AynvS1M",
        "outputId": "83e58a28-4d2a-4a47-e66a-b4fe3ec47919"
      },
      "source": [
        "for x in range(10):\n",
        "  print(f\"10^{x} == {10**x:10d}\")"
      ],
      "execution_count": 35,
      "outputs": [
        {
          "output_type": "stream",
          "name": "stdout",
          "text": [
            "10^0 ==          1\n",
            "10^1 ==         10\n",
            "10^2 ==        100\n",
            "10^3 ==       1000\n",
            "10^4 ==      10000\n",
            "10^5 ==     100000\n",
            "10^6 ==    1000000\n",
            "10^7 ==   10000000\n",
            "10^8 ==  100000000\n",
            "10^9 == 1000000000\n"
          ]
        }
      ]
    },
    {
      "cell_type": "markdown",
      "metadata": {
        "id": "W2oUQqYOvvjV"
      },
      "source": [
        "## Underscores dans les littéraux numériques\n",
        "\n",
        "Les Underscores dans les littéraux numériques sont probablement l'une de ces fonctionnalités qui sont les plus faciles à adopter, mais toujours pas aussi populaires qu'elles pourraient l'être. À partir de Python 3.6, vous pouvez utiliser le caractère _ (Underscores) pour séparer les chiffres dans les littéraux numériques. Cela facilite la lisibilité accrue des grands nombres. Considérez l'attribution de valeur suivante\n",
        "\n",
        "    account_balance = 100000000\n",
        "\n",
        "Avec autant de zéros, il est difficile de dire immédiatement s'il s'agit de millions ou de milliards. Vous pouvez à la place utiliser un trait pour séparer des milliers, des millions, des milliards, etc.\n",
        "\n",
        "    account_balance = 100_000_000\n",
        "\n",
        "\n",
        "Maintenant, il est plus facile de dire immédiatement que account_balance est égal à cent millions sans compter soigneusement les zéros.\n"
      ]
    },
    {
      "cell_type": "markdown",
      "metadata": {
        "id": "Ppw00pi0wxTE"
      },
      "source": [
        "## Types d'union avec le | opérateur\n",
        "\n",
        "Python 3.10 apportera encore une autre simplification de syntaxe dans le but d'indiquer le type. Grâce à cette nouvelle syntaxe, il sera plus facile de construire des annotations de type union\n",
        "\n",
        "Python est typé dynamiquement et manque de polymorphisme. En conséquence, les fonctions peuvent facilement accepter le même argument, qui peut être d'un type différent selon l'appel, et le traiter correctement si ces types ont la même interface. Pour mieux comprendre cela, ramenons la signature d'une fonction qui permettait un bouclage insensible à la casse des valeurs de dictionnaire à clé de chaîne\n",
        "\n",
        "    def get_ci(d: dict[str, Any], key: str) -> Any: ...\n",
        "\n",
        "En interne, nous avons utilisé la méthode upper() des clés obtenues à partir du dictionnaire. C'est la raison principale pour laquelle nous avons défini le type de l'argument d comme dict[str, Any], et le type d'argument clé comme str\n",
        "\n",
        "Cependant, le type str n'est pas le seul type intégré à avoir la méthode upper(). L'autre type qui a la même méthode est bytes. Si nous souhaitons permettre à notre fonction get_ci() d'accepter à la fois des dictionnaires à clé de chaîne et à clé d'octets, nous devons spécifier l'union de type possible.\n",
        "\n",
        "Actuellement, le seul moyen de spécifier des unions de type est via l'indicateur typing.Union. Cette astuce permet de spécifier l'union des types bytes et str comme typing.Union[bytes, str]. La signature complète de la fonction get_ci() serait la suivante\n",
        "\n",
        "    def get_ci(d: dict[str | bytes, Any], key: str | bytes) -> Any: ...\n",
        "\n",
        "Contrairement aux génériques d'indication de type, l'introduction d'un opérateur d'union de type ne désapprouve pas l'indication typing.Union. Cela signifie que nous pourrons utiliser ces deux conventions de manière interchangeable"
      ]
    }
  ]
}