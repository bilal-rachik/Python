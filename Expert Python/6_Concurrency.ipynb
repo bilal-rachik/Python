{
  "nbformat": 4,
  "nbformat_minor": 0,
  "metadata": {
    "colab": {
      "name": "6_Concurrency.ipynb",
      "provenance": []
    },
    "kernelspec": {
      "name": "python3",
      "display_name": "Python 3"
    },
    "language_info": {
      "name": "python"
    }
  },
  "cells": [
    {
      "cell_type": "markdown",
      "metadata": {
        "id": "QS-ytPiqaQzC"
      },
      "source": [
        "# Concurrency\n",
        "\n",
        "La concurrence et l'une de ses manifestations, le traitement parallèle, sont parmi les sujets les plus larges dans le domaine du génie logiciel. La concurrence est un sujet tellement vaste que des dizaines de livres pourraient être écrits et nous ne serions toujours pas en mesure de discuter de tous ses aspects et modèles importants. \n",
        "\n",
        "Le but de ce guide est de vous montrer pourquoi la concurrence peut être requise dans votre application, quand l'utiliser et quels sont les modèles de concurrence les plus importants de Python. Nous discuterons de certaines des fonctionnalités du langage, des modules intégrés et des packages tiers qui vous permettent d'implémenter ces modèles dans votre code. \n",
        "\n",
        "Mais nous ne les couvrirons pas en détail. Considérez le contenu de ce guide comme un point d'entrée pour vos propres recherches et lectures. Nous essaierons de vous guider à travers les idées de base et de vous aider à décider si vous avez vraiment besoin de la simultanéité. Nous espérons qu'après avoir lu ce guide, vous serez en mesure de déterminer quelle approche convient le mieux à vos besoins. Dans ce guide, nous aborderons les sujets suivants :\n",
        "\n",
        "*  Qu'est-ce que la concurrence ?\n",
        "* Multithreading\n",
        "* Multiprocessing\n",
        "* Programmation asynchroneAvant \n",
        "\n",
        "d'aborder les concepts de base de la concurrence , commençons par examiner les exigences techniques."
      ]
    },
    {
      "cell_type": "markdown",
      "metadata": {
        "id": "_6Wt8uo6a-pH"
      },
      "source": [
        "## Qu'est-ce que la concurrence ? \n",
        "\n",
        "La concurrence est souvent confondue avec les méthodes réelles de mise en œuvre. Certains programmeurs pensent également qu'il s'agit d'un synonyme de traitement parallèle. C'est la raison pour laquelle nous devons commencer par bien dénir la concomitance. \n",
        "\n",
        "Ce n'est qu'alors que nous pourrons bien comprendre les différents modèles de concurrence et leurs principales différences. \n",
        "\n",
        "Tout d'abord, la concurrence n'est pas la même chose que le parallélisme. La concurrence n'est pas non plus une question de mise en œuvre de l'application. La simultanéité est une propriété d'un programme, d'un algorithme ou d'un problème, alors que le parallélisme n'est qu'une des approches possibles des problèmes simultanés. \n",
        "\n",
        "Dans l'article de 1976 de Leslie Lamport, Time, Clocks, and the Ordering of Events in Distributed Systems, il définit le concept de simultanéité comme suit: \n",
        "\n",
        "« Deux événements sont concurrents si aucun ne peut affecter l'autre de manière causale. » \n",
        "\n",
        "En extrapolant les événements aux programmes, les algorithmes , ou des problèmes, nous pouvons dire que quelque chose est concurrent s'il peut être entièrement ou partiellement décomposé en composants (unités) qui sont indépendants de l'ordre. Ces unités peuvent être traitées indépendamment les unes des autres et l'ordre de traitement n'affecte pas le résultat final. Cela signifie qu'ils peuvent également être traités simultanément ou en parallèle. Si nous traitons l'information de cette manière (c'est-à-dire en parallèle), alors nous avons bien affaire à un traitement parallèle. Mais ce n'est toujours pas obligatoire.\n",
        "\n",
        "\n",
        "\n",
        "Travailler de manière distribuée, en utilisant de préférence les capacités des processeurs multicœurs ou des clusters de calcul, est une conséquence naturelle des problèmes simultanés. \n",
        "\n",
        "Quoi qu'il en soit, cela ne signifie pas que c'est la seule façon de traiter efficacement la concurrence. Il existe de nombreux cas d'utilisation où les problèmes concurrents peuvent être abordés autrement que de manière synchrone, mais sans avoir besoin d'une exécution parallèle. \n",
        "\n",
        "En d'autres termes, lorsqu'un problème est concurrent, cela vous donne la possibilité de le traiter d'une manière spéciale, de préférence plus efcace. \n",
        "\n",
        "On s'habitue souvent à résoudre les problèmes de manière classique : en effectuant une séquence d'étapes. C'est ainsi que la plupart d'entre nous pensons et traitons l'information, à l'aide d'algorithmes synchrones qui font une chose à la fois, étape par étape. Mais ce mode de traitement de l'information n'est pas bien adapté à la résolution de problèmes à grande échelle ou lorsque vous devez satisfaire les demandes de plusieurs utilisateurs ou agents logiciels simultanément : \n",
        "\n",
        "* Lorsque le temps de traitement du travail est limité par les performances de l'unité de traitement unique (une seule machine, un cœur de processeur, etc.)\n",
        "\n",
        "* Lorsque vous n'êtes pas en mesure d'accepter et de traiter de nouvelles entrées tant que votre programme n'a pas fini de traiter la précédente\n",
        "\n",
        "Ces problèmes créent trois scénarios d'application courants où le traitement simultané est une approche viable pour satisfaire l'utilisateur besoins :\n",
        "\n",
        "* Distribution du traitement : l'ampleur du problème est si importante que la seule façon de le traiter dans un délai acceptable (avec des ressources limitées) est de répartir l'exécution sur plusieurs unités de traitement pouvant gérer le travail en parallèle.\n",
        "\n",
        "* Réactivité de l'application : votre application doit conserver sa réactivité (accepter les nouvelles entrées), même si elle n'a pas terminé le traitement des entrées précédentes.\n",
        "\n",
        "*  Traitement en arrière-plan : toutes les tâches ne sont pas doit être exécuté de manière synchrone. S'il n'est pas nécessaire d'accéder immédiatement aux résultats d'une action spécifique, il peut être raisonnable de différer l'exécution dans le temps. \n",
        "\n",
        "\n",
        "Le scénario de répartition du traitement correspond directement au traitement parallèle. C'est pourquoi il est généralement résolu avec des modèles de multithreading et de multiprocessing. Le scénario de réactivité des applications ne nécessite souvent pas de traitement parallèle, de sorte que la solution réelle dépend vraiment des détails du problème. Le problème de la réactivité de l'application couvre également le cas où l'application doit servir plusieurs clients (utilisateurs ou agents logiciels) de manière indépendante, sans avoir besoin d'attendre que les autres soient servis avec succès.\n",
        "\n",
        "\n",
        "C'est une observation intéressante que ces groupes de problèmes ne sont pas exclusifs. Souvent, vous devrez maintenir la réactivité de l'application et en même temps, vous ne pourrez pas gérer toutes les entrées sur une seule unité de traitement. C'est la raison pour laquelle des approches différentes et apparemment alternatives ou contradictoires de la concurrence peuvent souvent être utilisées en même temps. Ceci est particulièrement courant dans le développement de serveurs Web, où il peut être nécessaire d'utiliser des boucles d'événements asynchrones, ou des threads en conjonction avec plusieurs processus, afin d'utiliser toutes les ressources disponibles tout en maintenant de faibles latences sous la charge élevée. \n",
        "\n",
        "Python fournit plusieurs façons de gérer la simultanéité. Il s'agit principalement de :\n",
        "\n",
        "* **Multithreading** : il se caractérise par l'exécution de plusieurs threads d'exécution qui partagent le contexte mémoire du processus parent. C'est l'un des modèles de concurrence les plus populaires (et les plus anciens) et il fonctionne mieux dans les applications qui effectuent de nombreuses opérations d'E/S (entrée/sortie) ou qui doivent maintenir la réactivité de l'interface utilisateur. Il est assez léger mais comporte de nombreuses mises en garde et risques pour la sécurité de la mémoire. \n",
        "\n",
        "* **Multitraitement** : il se caractérise par l'exécution de plusieurs processus indépendants pour effectuer un travail de manière distribuée. Il est similaire aux threads en fonctionnement, bien qu'il ne repose pas sur un contexte de mémoire partagée. En raison de la nature de Python, il est mieux adapté aux applications gourmandes en CPU. Il est plus lourd que le multithreading et nécessite la mise en œuvre de modèles de communication interprocessus pour orchestrer le travail entre les processus.\n",
        "\n",
        "* **Programmation asynchrone** : elle se caractérise par l'exécution de plusieurs tâches coopératives au sein d'un seul processus d'application. Les tâches coopératives fonctionnent comme des threads, bien que le basculement entre eux soit facilité par l'application elle-même au lieu du noyau du système d'exploitation. Il est bien adapté aux applications liées aux E/S, en particulier pour les programmes qui doivent gérer plusieurs connexions réseau simultanées. L'inconvénient de la programmation asynchrone est la nécessité d'utiliser des bibliothèques asynchrones dédiées. Le premier modèle dont nous parlerons en détail est le multithreading.\n",
        "\n"
      ]
    },
    {
      "cell_type": "markdown",
      "metadata": {
        "id": "iDT775j3efaN"
      },
      "source": [
        "## Multithreading \n",
        "\n",
        "Les développeurs considèrent souvent le multithreading comme un sujet très complexe. Bien que cette déclaration soit totalement vraie, Python fournit des classes et des fonctions de haut niveau qui aident grandement à utiliser les threads. CPython a des détails d'implémentation peu pratiques qui rendent les threads moins efficaces que dans d'autres langages de programmation comme C ou Java. Mais cela ne signifie pas qu'ils sont complètement inutiles en Python.\n",
        "\n",
        "Il existe encore un large éventail de problèmes qui peuvent être résolus efficacement et facilement avec les threads Python.\n",
        "\n",
        " Dans cette section, nous discuterons des limitations du multithreading dans CPython, ainsi que des problèmes concurrents courants pour lesquels les threads Python sont toujours une solution viable. ."
      ]
    },
    {
      "cell_type": "markdown",
      "metadata": {
        "id": "t3_cESZKe2_X"
      },
      "source": [
        "## Qu'est-ce que le multithreading ?\n",
        "\n",
        "Thread est l'abréviation d'un thread d'exécution. Un programmeur peut diviser son travail en threads qui s'exécutent simultanément. Les threads sont toujours liés au processus parent et peuvent facilement communiquer car ils partagent le même contexte de mémoire. L'exécution des threads est coordonnée par le noyau du système d'exploitation. Le multithreading bénéficiera d'une machine multiprocesseur ou multicœur, où chaque thread peut être exécuté sur un cœur de processeur distinct, ce qui accélère l'exécution du programme. C'est une règle générale qui devrait s'appliquer à la plupart des langages de programmation. En Python, les avantages en termes de performances du multithreading sur les processeurs multicœurs ont certaines limites, dont nous parlerons plus tard. Par souci de simplicité, supposons pour l'instant que cette déclaration est également vraie pour Python. La façon la plus simple de démarrer un nouveau thread d'exécution à l'aide de Python est d'utiliser la classe threading.Thread() comme dans l'exemple suivant :"
      ]
    },
    {
      "cell_type": "code",
      "metadata": {
        "colab": {
          "base_uri": "https://localhost:8080/"
        },
        "id": "gpIwchD1fmVs",
        "outputId": "3654eb8c-3646-48a2-c618-f89efdc4d600"
      },
      "source": [
        "from threading import Thread\n",
        "\n",
        "def my_function():    \n",
        "  print(\"printing from thread\")\n",
        "\n",
        "if __name__ == \"__main__\":    \n",
        "  thread = Thread(target=my_function)    \n",
        "  thread.start()    \n",
        "  thread.join()"
      ],
      "execution_count": null,
      "outputs": [
        {
          "output_type": "stream",
          "name": "stdout",
          "text": [
            "printing from thread\n"
          ]
        }
      ]
    },
    {
      "cell_type": "markdown",
      "metadata": {
        "id": "xEovIojBf75U"
      },
      "source": [
        "La fonction my_function() est la fonction que nous voulons exécuter dans le nouveau thread. Nous le transmettons au constructeur de la classe Thread en tant qu'argument de mot-clé cible. \n",
        "\n",
        "Les instances de cette classe sont utilisées pour encapsuler et contrôler les threads d'application. La création d'une nouvelle instance de classe Thread n'est pas suffisante pour démarrer un nouveau thread. Pour ce faire, vous devez appeler la méthode start(). Une fois le nouveau thread démarré, il s'exécutera à côté du thread principal jusqu'à ce que la fonction cible se termine. Dans l'exemple ci-dessus, nous attendons explicitement que le thread supplémentaire se termine en utilisant la méthode join()\n",
        "\n",
        "    On dit que la méthode join() est une opération bloquante. \n",
        "    Cela signifie que le thread ne fait rien de particulier (il ne consomme pas de temps CPU)\n",
        "    et attend simplement qu'un événement spécifique se produise\n",
        "\n",
        "Les méthodes start() et join() vous permettent de créer et de démarrer plusieurs threads à la fois. Ce qui suit est une simple modification de l'exemple précédent qui démarre et joint plusieurs threads en bloc :"
      ]
    },
    {
      "cell_type": "code",
      "metadata": {
        "colab": {
          "base_uri": "https://localhost:8080/"
        },
        "id": "8RjbBVETghic",
        "outputId": "59f05395-7d8c-4f2a-bc09-d12110d0b9d3"
      },
      "source": [
        "from threading import Thread\n",
        "\n",
        "def my_function():    \n",
        "  print(\"printing from thread\")\n",
        "  \n",
        "if __name__ == \"__main__\":    \n",
        "  \n",
        "  threads = [Thread(target=my_function) for _ in range(10)]    \n",
        "  \n",
        "  for thread in threads:        \n",
        "    thread.start()\n",
        "\n",
        "  for thread in threads:        \n",
        "    thread.join()"
      ],
      "execution_count": null,
      "outputs": [
        {
          "output_type": "stream",
          "name": "stdout",
          "text": [
            "printing from thread\n",
            "printing from thread\n",
            "printing from thread\n",
            "printing from thread\n",
            "printing from thread\n",
            "printing from thread\n",
            "printing from thread\n",
            "printing from thread\n",
            "printing from thread\n",
            "printing from thread\n"
          ]
        }
      ]
    },
    {
      "cell_type": "markdown",
      "metadata": {
        "id": "ATdoZC6Ig0IP"
      },
      "source": [
        "Tous les threads partagent le même contexte mémoire. Cela signifie que vous devez être extrêmement prudent quant à la façon dont vos threads accèdent aux mêmes structures de données. Si deux threads parallèles mettent à jour la même variable sans aucune protection, il peut arriver qu'une subtile variation temporelle dans l'exécution du thread puisse altérer le résultat final de manière inattendue. Pour mieux comprendre ce problème, considérons un petit programme qui exécute plusieurs threads en lisant et en mettant à jour la même valeur :"
      ]
    },
    {
      "cell_type": "code",
      "metadata": {
        "colab": {
          "base_uri": "https://localhost:8080/"
        },
        "id": "iLDy-guchBJm",
        "outputId": "b4fa4cca-f33e-4746-8f8c-e73354e62310"
      },
      "source": [
        "from threading import Thread\n",
        "\n",
        "thread_visits = 0\n",
        "\n",
        "def visit_counter():    \n",
        "  global thread_visits    \n",
        "  for i in range(100_000):        \n",
        "    value = thread_visits        \n",
        "    thread_visits = value + 1\n",
        "\n",
        "if __name__ == \"__main__\":    \n",
        "  thread_count = 100    \n",
        "  threads = [        \n",
        "             Thread(target=visit_counter)        \n",
        "             for _ in range(thread_count)    \n",
        "             ]    \n",
        "  for thread in threads:        \n",
        "    thread.start()    \n",
        "  \n",
        "  for thread in threads:        \n",
        "    thread.join()    \n",
        "  \n",
        "  print(\"thread_count={}, thread_visits{}\".format(thread_count,thread_visits))"
      ],
      "execution_count": null,
      "outputs": [
        {
          "output_type": "stream",
          "name": "stdout",
          "text": [
            "thread_count=100, thread_visits7299544\n"
          ]
        }
      ]
    },
    {
      "cell_type": "markdown",
      "metadata": {
        "id": "baiAH6QqiEkn"
      },
      "source": [
        "Le programme ci-dessus démarre 100 threads et chacun essaie de lire et d'incrémenter la variable thread_visits 100 000 fois. Si nous devions exécuter les tâches de manière séquentielle, la valeur finale de la variable thread_visits devrait être de 10 000 000. Mais les fils peuvent s'entremêler et conduire à des résultats inattendus. Enregistrons l'exemple de code ci-dessus dans le fichier threaded_visits.py et exécutons-le plusieurs fois pour voir les résultats réels\n",
        "\n",
        "\n",
        "À chaque exécution, nous avons obtenu un nombre complètement différent, et c'était toujours très loin des 10 000 000 de visites de threads attendues. Mais cela ne signifie pas que le nombre réel de visites de threads était si petit. Avec un si grand nombre de fils de discussion, ils ont commencé à s'entremêler et à affecter nos résultats. Une telle situation s'appelle un risque de course ou une condition de course. \n",
        "\n",
        "C'est l'un des coupables les plus détestés des bogues logiciels pour les applications multithread. De toute évidence, il y a une tranche de temps entre les opérations de lecture et d'écriture sur la variable thread_visits où un autre thread peut intervenir et manipuler le résultat.\n",
        "\n",
        "On pourrait penser que le problème pourrait être résolu en utilisant l'opérateur +=, qui ressemble à une seule opération atomique :"
      ]
    },
    {
      "cell_type": "code",
      "metadata": {
        "id": "NDahEjzYk8n7"
      },
      "source": [
        "def visit_counter():    \n",
        "  global thread_visits    \n",
        "  for i in range(100_000):        \n",
        "    thread_visits += 1"
      ],
      "execution_count": null,
      "outputs": []
    },
    {
      "cell_type": "markdown",
      "metadata": {
        "id": "ZYuclMyhlInu"
      },
      "source": [
        "Mais cela ne nous aidera pas non plus ! L'opérateur += n'est qu'un raccourci pour incrémenter une variable, mais il faudra en fait quelques opérations dans l'interpréteur Python. Entre ces opérations, les threads ont encore le temps de s'entremêler. La bonne façon de contourner les conditions de concurrence est d'utiliser des primitives de verrouillage de thread. Python a quelques classes de verrouillage dans le module de threading. Ici, nous pouvons utiliser le plus simple : threading.Lock. Voici un exemple de fonction visit_counter() thread-safe :"
      ]
    },
    {
      "cell_type": "code",
      "metadata": {
        "colab": {
          "base_uri": "https://localhost:8080/"
        },
        "id": "xHP1PbiolU82",
        "outputId": "03e78e85-8e5e-4e4b-f4b3-1bae5eec2d17"
      },
      "source": [
        "from threading import Lock\n",
        "\n",
        "thread_visits = 0\n",
        "thread_visits_lock = Lock()\n",
        "\n",
        "def visit_counter():    \n",
        "  global thread_visits    \n",
        "  for i in range(100_000):        \n",
        "    with thread_visits_lock:            \n",
        "      thread_visits += 1\n",
        "\n",
        "if __name__ == \"__main__\":    \n",
        "  thread_count = 100    \n",
        "  threads = [        \n",
        "             Thread(target=visit_counter)        \n",
        "             for _ in range(thread_count)    \n",
        "             ]    \n",
        "  for thread in threads:        \n",
        "    thread.start()    \n",
        "  \n",
        "  for thread in threads:        \n",
        "    thread.join()    \n",
        "  \n",
        "  print(\"thread_count={}, thread_visits{}\".format(thread_count,thread_visits))"
      ],
      "execution_count": null,
      "outputs": [
        {
          "output_type": "stream",
          "name": "stdout",
          "text": [
            "thread_count=100, thread_visits10000000\n"
          ]
        }
      ]
    },
    {
      "cell_type": "markdown",
      "metadata": {
        "id": "b65pUyIVlmI3"
      },
      "source": [
        "Si vous exécutez la version modifiée du code, vous remarquerez que les visites de threads avec des verrous sont comptées correctement. Mais cela se fera au détriment des performances. Le threading Lock() s'assurera qu'un seul thread à la fois peut traiter un seul bloc de code. Cela signifie que le bloc protégé ne peut pas fonctionner en parallèle. De plus, l'acquisition et la libération du verrou sont des opérations qui nécessitent un effort supplémentaire. Avec de nombreux threads essayant d'accéder au verrou, une baisse des performances sera perceptible. Nous verrons d'autres exemples d'utilisation de verrous pour sécuriser l'accès parallèle aux données plus loin dans le guide. Le multithreading est généralement pris en charge au niveau du noyau du système d'exploitation. Lorsqu'une machine a un seul processeur avec un seul cœur, le système utilise un mécanisme de découpage temporel pour permettre aux threads de s'exécuter apparemment en parallèle. Avec le découpage temporel, le processeur passe d'un thread à un autre si rapidement qu'il y a l'illusion de threads s'exécutant simultanément.\n",
        "\n",
        "\n",
        "    Les processeurs monocœur sont assez rares de nos jours sur les ordinateurs\n",
        "    de bureau, mais peuvent toujours être une préoccupation dans d'autres domaines.\n",
        "    Les petites instances bon marché dans de nombreuses plates-formes de calcul cloud, \n",
        "    ainsi que les systèmes embarqués à faible coût, n'ont souvent que des\n",
        "    processeurs monocœur ou des processeurs virtuels.\n",
        "\n",
        "Le parallélisme sans plusieurs unités de traitement est évidemment virtuel, et le gain de performances applicatives sur un tel matériel est plus difficile à évaluer. \n",
        "\n",
        "Quoi qu'il en soit, parfois, il est toujours utile d'implémenter du code avec des threads, quitte à devoir s'exécuter sur un seul cœur. Nous passerons en revue ces cas d'utilisation plus tard. \n",
        "\n",
        "Tout change lorsque votre environnement d'exécution comporte plusieurs processeurs ou plusieurs cœurs de processeur. \n",
        "\n",
        "Dans de tels cas, les threads peuvent être répartis entre les processeurs ou leurs cœurs par le noyau du système d'exploitation. Cela offre donc la possibilité d'exécuter votre programme beaucoup plus rapidement. Cela est vrai pour de nombreux langages de programmation mais pas nécessairement pour Python. Pour comprendre pourquoi il en est ainsi, examinons de plus près comment Python traite les threads."
      ]
    },
    {
      "cell_type": "markdown",
      "metadata": {
        "id": "xF0_KLdpdWR5"
      },
      "source": [
        "## Quand devons-nous utiliser le multithreading ?\n",
        "\n",
        "Malgré la limitation GIL, les threads peuvent être vraiment utiles dans certains des cas suivants :\n",
        "\n",
        "* Réactivité des applications : les applications peuvent accepter de nouvelles entrées et répondre dans un délai donné (être réactives) même si elles ne l'ont pas fait de traitement des entrées précédentes.\n",
        "\n",
        "* Applications multi-utilisateurs et communication réseau : les applications censées accepter les entrées de plusieurs utilisateurs simultanément communiquent souvent avec les utilisateurs sur le réseau. Cela signifie qu'ils peuvent réduire considérablement l'impact du verrouillage en tirant parti des parties de CPython où le GIL est publié.\n",
        "\n",
        "* Délégation du travail et traitement en arrière-plan : applications où une grande partie du travail est effectuée par des applications ou des services externes et votre code agit comme un passerelle vers ces ressources.Commençons par les applications réactives, car ce sont celles qui ont tendance à préférer le multithreading aux autres modèles de concurrence."
      ]
    },
    {
      "cell_type": "markdown",
      "metadata": {
        "id": "uBScYssWfJGS"
      },
      "source": [
        "## Un exemple d'application multithread\n",
        "\n",
        "Pour voir comment fonctionne le threading Python en pratique, construisons un exemple d'application qui pourrait bénéficier de l'utilisation de threads. Nous allons considérer un problème simple qui a déjà été souligné dans la section précédente comme un cas d'utilisation courant pour le multithreading : faire des requêtes HTTP parallèles à un service distant. \n",
        "\n",
        "Disons que nous devons récupérer des informations à partir d'un service Web en utilisant plusieurs requêtes qui ne peuvent pas être regroupées une seule requête HTTP en masse. À titre d'exemple réaliste, nous utiliserons le point de terminaison des taux de change de référence d'une API gratuite, disponible sur https://www.vatcomply.com. Les raisons de ce choix sont les suivantes :\n",
        "\n",
        "* Ce service est ouvert et ne nécessite aucune clé d'authentification.\n",
        "* L'interface du service est très simple et peut être facilement interrogée à l'aide de la bibliothèque de requêtes populaire.\n",
        "*  Cette API utilise un format de données monétaires commun à de nombreuses API similaires. Si ce service tombe en panne (ou cesse d'être gratuit), vous pourrez facilement basculer l'URL de base de l'API vers l'URL d'un autre service\n",
        "\n",
        "    \n",
        "    Les services API gratuits vont et viennent. Il est possible qu'après un\n",
        "    certain temps, les URL de ce guide ne fonctionnent plus ou que l'API\n",
        "    nécessite un abonnement payant. Dans de tels cas, exécuter votre propre\n",
        "    service peut être une bonne option. Sur https://github.com/exchangeratesapi/exchangeratesapi, \n",
        "    vous pouvez trouver le code d'un service d'API de change qui utilise le\n",
        "    même format de données que l'API utilisée dans ce guide\n",
        "\n",
        "Dans nos exemples, nous essaierons d'obtenir des taux de change pour des devises sélectionnées en utilisant plusieurs devises comme points de référence. Nous présenterons ensuite les résultats sous la forme d'une matrice de taux de change, similaire à la suivante\n",
        "\n",
        "![image.png](data:image/png;base64,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)"
      ]
    },
    {
      "cell_type": "markdown",
      "metadata": {
        "id": "hQ9SuLL4gedF"
      },
      "source": [
        "L'API que nous avons choisie offre plusieurs façons d'interroger plusieurs points de données dans des requêtes uniques, mais malheureusement, elle ne vous permet pas d'interroger des données en utilisant plusieurs devises de base à la fois. Obtenir le taux pour une seule base est aussi simple que de faire ce qui suit"
      ]
    },
    {
      "cell_type": "code",
      "metadata": {
        "colab": {
          "base_uri": "https://localhost:8080/"
        },
        "id": "BEEVeZYcgqpn",
        "outputId": "9eb21915-61a4-4e95-ec2d-6beca8cb09a8"
      },
      "source": [
        "import requests\n",
        "response = requests.get(\"https://api.vatcomply.com/rates?base=USD\")\n",
        "response.json()"
      ],
      "execution_count": null,
      "outputs": [
        {
          "output_type": "execute_result",
          "data": {
            "text/plain": [
              "{'base': 'USD',\n",
              " 'date': '2021-10-22',\n",
              " 'rates': {'AUD': 1.3336199484092863,\n",
              "  'BGN': 1.6816852966466036,\n",
              "  'BRL': 5.701117798796217,\n",
              "  'CAD': 1.233104041272571,\n",
              "  'CHF': 0.9172828890799656,\n",
              "  'CNY': 6.391831470335339,\n",
              "  'CZK': 22.05932932072227,\n",
              "  'DKK': 6.397678417884781,\n",
              "  'EUR': 0.8598452278589853,\n",
              "  'GBP': 0.7254514187446259,\n",
              "  'HKD': 7.774032674118659,\n",
              "  'HRK': 6.471625107480653,\n",
              "  'HUF': 312.57093723129833,\n",
              "  'IDR': 14187.815993121238,\n",
              "  'ILS': 3.207566638005159,\n",
              "  'INR': 74.87016337059329,\n",
              "  'ISK': 129.14875322441958,\n",
              "  'JPY': 113.86930352536544,\n",
              "  'KRW': 1176.603611349957,\n",
              "  'MXN': 20.240928632846085,\n",
              "  'MYR': 4.150042992261393,\n",
              "  'NOK': 8.3469475494411,\n",
              "  'NZD': 1.3978503869303525,\n",
              "  'PHP': 50.80309544282029,\n",
              "  'PLN': 3.9531384350816854,\n",
              "  'RON': 4.252278589853827,\n",
              "  'RUB': 70.38572656921754,\n",
              "  'SEK': 8.576784178847808,\n",
              "  'SGD': 1.3472914875322441,\n",
              "  'THB': 33.33018056749785,\n",
              "  'TRY': 9.615649183147033,\n",
              "  'USD': 1.0,\n",
              "  'ZAR': 14.671195184866724}}"
            ]
          },
          "metadata": {},
          "execution_count": 2
        }
      ]
    },
    {
      "cell_type": "markdown",
      "metadata": {
        "id": "emj-U4Rlg9g-"
      },
      "source": [
        "\n",
        "Puisque notre objectif est de montrer comment une solution multithread de problèmes concurrents se compare à une solution synchrone classique, nous allons commencer par une implémentation qui n'utilise pas du tout de threads. Voici le code d'un programme qui parcourt la liste des devises de base, interroge l'API des taux de change et affiche les résultats sur la sortie standard sous forme de tableau au format texte."
      ]
    },
    {
      "cell_type": "code",
      "metadata": {
        "colab": {
          "base_uri": "https://localhost:8080/"
        },
        "id": "t82DNxD_iCye",
        "outputId": "6d9ce149-116d-43b2-a44c-084046ef43bf"
      },
      "source": [
        "import time\n",
        "\n",
        "import requests\n",
        "\n",
        "SYMBOLS = (\"USD\", \"EUR\", \"PLN\", \"NOK\", \"CZK\")\n",
        "BASES = (\"USD\", \"EUR\", \"PLN\", \"NOK\", \"CZK\")\n",
        "\n",
        "\n",
        "def fetch_rates(base):\n",
        "    response = requests.get(f\"https://api.vatcomply.com/rates?base={base}\")\n",
        "    response.raise_for_status()\n",
        "    rates = response.json()[\"rates\"]\n",
        "\n",
        "    # note: same currency exchanges to itself 1:1\n",
        "    rates[base] = 1.0\n",
        "\n",
        "    rates_line = \", \".join([f\"{rates[symbol]:7.03} {symbol}\" for symbol in SYMBOLS])\n",
        "    print(f\"1 {base} = {rates_line}\")\n",
        "\n",
        "\n",
        "def main():\n",
        "    for base in BASES:\n",
        "        fetch_rates(base)\n",
        "\n",
        "\n",
        "if __name__ == \"__main__\":\n",
        "    started = time.time()\n",
        "    main()\n",
        "    elapsed = time.time() - started\n",
        "\n",
        "    print()\n",
        "    print(\"time elapsed: {:.2f}s\".format(elapsed))"
      ],
      "execution_count": null,
      "outputs": [
        {
          "output_type": "stream",
          "name": "stdout",
          "text": [
            "1 USD =     1.0 USD,    0.86 EUR,    3.95 PLN,    8.35 NOK,    22.1 CZK\n",
            "1 EUR =    1.16 USD,     1.0 EUR,     4.6 PLN,    9.71 NOK,    25.7 CZK\n",
            "1 PLN =   0.253 USD,   0.218 EUR,     1.0 PLN,    2.11 NOK,    5.58 CZK\n",
            "1 NOK =    0.12 USD,   0.103 EUR,   0.474 PLN,     1.0 NOK,    2.64 CZK\n",
            "1 CZK =  0.0453 USD,   0.039 EUR,   0.179 PLN,   0.378 NOK,     1.0 CZK\n",
            "\n",
            "time elapsed: 1.92s\n"
          ]
        }
      ]
    },
    {
      "cell_type": "markdown",
      "metadata": {
        "id": "EswXDr07iebG"
      },
      "source": [
        "La fonction main() parcourt une liste de devises de base et appelle la fonction fetch_rates() pour obtenir le taux de change des devises de base. Dans fetch_rates(), nous effectuons une seule requête HTTP en utilisant la fonction request.get(). La réponse.raise_for_status() lève une exception sur le serveur renvoyer une réponse avec un code d'état signalé une erreur serveur ou client. Pour l'instant, nous ne nous attendons à aucune exception et supposons simplement qu'après avoir reçu la demande, nous pouvons lire avec succès la charge utile de la réponse à l'aide de la méthode response.json(). Nous verrons comment gérer correctement les exceptions levées dans les threads dans la section Traiter les erreurs dans les threads.\n",
        "\n",
        "\n",
        "Nous avons ajouté quelques instructions autour de l'exécution de la fonction main() qui sont destinées à mesurer le temps qu'il a fallu pour terminer le travail. Enregistrons ce code dans un fichier nommé synchronous.py et exécutons-le pour voir comment cela fonctionne.\n",
        "\n",
        "\n",
        "Chaque exécution de notre script prendra toujours un temps différent. En effet, le temps de traitement dépend principalement d'un service distant accessible via une connexion réseau. De nombreux facteurs non déterministes affectent le résultat final. Si nous voulions être vraiment méthodiques, nous ferions des tests plus longs, les répéterions plusieurs fois et calculerions une moyenne à partir des mesures. Mais par souci de simplicité, nous ne le ferons pas. Vous verrez plus tard que cette approche simpliée est juste suffisante à des fins d'illustration. Nous avons une implémentation de base. \n",
        "\n",
        "Il est maintenant temps d'introduire les thread. Dans la section suivante, nous essaierons d'introduire un thread par appel de la fonction fetch_rates()"
      ]
    },
    {
      "cell_type": "markdown",
      "metadata": {
        "id": "4pifS1zWlYoo"
      },
      "source": [
        "## Utiliser un threas par article\n",
        "\n",
        "Maintenant, il est temps d'améliorer. Nous ne faisons pas beaucoup de traitement en Python, et les longs temps d'exécution sont causés par la communication avec le service externe. Nous envoyons une requête HTTP au serveur distant, il calcule la réponse, puis nous attendons que la réponse soit retransférée.\n",
        "\n",
        "Il y a beaucoup d'E/S impliquées, donc le multithreading semble être une option viable. Nous pouvons démarrer toutes les requêtes à la fois dans des threads séparés, puis attendre de recevoir des données de chacune d'entre elles. Si le service avec lequel nous communiquons est capable de traiter nos demandes simultanément, nous devrions certainement constater une amélioration des performances.\n",
        "\n",
        "Commençons donc par l'approche la plus simple. Python fournit une abstraction propre et facile à utiliser sur les threads système avec le module de threading. Le cœur de cette bibliothèque standard est la classe Thread, qui représente une instance de thread unique. Voici une version modifiée de la fonction main() qui crée et démarre un nouveau thread pour chaque devise de base à traiter, puis attend que tous les threads se terminent :"
      ]
    },
    {
      "cell_type": "code",
      "metadata": {
        "colab": {
          "base_uri": "https://localhost:8080/"
        },
        "id": "XkglXJTHmQCQ",
        "outputId": "8007dd6d-7f69-4279-d866-98c2617a9029"
      },
      "source": [
        "\"\"\"\n",
        "\"An example of a threaded application\" section example\n",
        "showing how to use `threading` module in simplest\n",
        "one-thread-per-item fashion.\n",
        "\"\"\"\n",
        "import time\n",
        "from threading import Thread\n",
        "\n",
        "import requests\n",
        "\n",
        "SYMBOLS = (\"USD\", \"EUR\", \"PLN\", \"NOK\", \"CZK\")\n",
        "BASES = (\"USD\", \"EUR\", \"PLN\", \"NOK\", \"CZK\")\n",
        "\n",
        "\n",
        "def fetch_rates(base):\n",
        "    response = requests.get(f\"https://api.vatcomply.com/rates?base={base}\")\n",
        "\n",
        "    response.raise_for_status()\n",
        "    rates = response.json()[\"rates\"]\n",
        "    # note: same currency exchanges to itself 1:1\n",
        "    rates[base] = 1.0\n",
        "\n",
        "    rates_line = \", \".join([f\"{rates[symbol]:7.03} {symbol}\" for symbol in SYMBOLS])\n",
        "    print(f\"1 {base} = {rates_line}\")\n",
        "\n",
        "\n",
        "def main():\n",
        "    threads = []\n",
        "    for base in BASES:\n",
        "        thread = Thread(target=fetch_rates, args=[base])\n",
        "        thread.start()\n",
        "        threads.append(thread)\n",
        "\n",
        "    while threads:\n",
        "        threads.pop().join()\n",
        "\n",
        "\n",
        "if __name__ == \"__main__\":\n",
        "    started = time.time()\n",
        "    main()\n",
        "    elapsed = time.time() - started\n",
        "\n",
        "    print()\n",
        "    print(\"time elapsed: {:.2f}s\".format(elapsed))"
      ],
      "execution_count": null,
      "outputs": [
        {
          "output_type": "stream",
          "name": "stdout",
          "text": [
            "1 EUR =    1.16 USD,     1.0 EUR,     4.6 PLN,    9.71 NOK,    25.7 CZK\n",
            "1 PLN =   0.253 USD,   0.218 EUR,     1.0 PLN,    2.11 NOK,    5.58 CZK\n",
            "1 USD =     1.0 USD,    0.86 EUR,    3.95 PLN,    8.35 NOK,    22.1 CZK\n",
            "1 NOK =    0.12 USD,   0.103 EUR,   0.474 PLN,     1.0 NOK,    2.64 CZK\n",
            "1 CZK =  0.0453 USD,   0.039 EUR,   0.179 PLN,   0.378 NOK,     1.0 CZK\n",
            "\n",
            "time elapsed: 0.40s\n"
          ]
        }
      ]
    },
    {
      "cell_type": "markdown",
      "metadata": {
        "id": "IAjgjVV4msRu"
      },
      "source": [
        "C'est une solution rapide et sale qui aborde le problème de manière un peu frivole. Il y a de sérieux problèmes que nous devrons aborder plus tard. Mais bon, ça marche.\n",
        "\n",
        "    \n",
        "    En raison de l'utilisation de print() à l'intérieur d'un thread, la sortie\n",
        "    que vous verrez peut être légèrement malformée. C'est l'un des problèmes de\n",
        "    multithreading dont nous nous occuperons plus tard dans cette section.\n",
        "\n",
        "\n",
        "Une fois que nous savons que les threads ont un effet bénéfique sur notre application, il est temps de les utiliser de manière plus logique. Tout d'abord, nous devons identifier les problèmes suivants dans le code précédent :\n",
        "\n",
        "* Nous démarrons un nouveau thread pour chaque paramètre. L'initialisation des threads prend également un certain temps, mais cette surcharge mineure n'est pas le seul problème. Les threads consomment également d'autres ressources, comme la mémoire ou les descripteurs de fichiers. Notre exemple d'entrée a un nombre d'éléments strictement défini, mais que se passe-t-il s'il n'y a pas de limite ? Vous ne voulez certainement pas exécuter un nombre illimité de threads qui dépendent de la taille arbitraire des données saisies.\n",
        "\n",
        "* La fonction fetch_rates() qui est exécutée dans les threads appelle la fonction print() intégrée, et en pratique c'est très peu probable que vous vouliez faire cela en dehors du thread principal de l'application. Cela est principalement dû à la façon dont la sortie standard est mise en mémoire tampon en Python. Vous pouvez rencontrer une sortie mal formée lorsque plusieurs appels à cette fonction s'entrelacent entre les threads. De plus, la fonction print() est considérée comme lente. S'il est utilisé de manière imprudente dans plusieurs threads, il peut conduire à une sérialisation qui gâchera tous vos avantages du multithreading. \n",
        "\n",
        "* Enfin et surtout, en déléguant chaque appel de fonction à un thread séparé, nous rendons extrêmement difficile le contrôle du taux notre entrée est traitée. Oui, nous voulons faire le travail le plus rapidement possible, mais très souvent, les services externes imposent des limites strictes sur le taux de demandes d'un seul client qu'ils peuvent traiter. Parfois, il est raisonnable de concevoir un programme d'une manière qui vous permette de limiter le taux de traitement, afin que votre application ne soit pas mise sur liste noire par des API externes pour avoir abusé de leurs limites d'utilisation. Dans la section suivante, nous verrons comment utiliser un pool de threads pour résoudre le problème d'un nombre illimité de threads"
      ]
    },
    {
      "cell_type": "markdown",
      "metadata": {
        "id": "LAt6_fA2oZ0I"
      },
      "source": [
        "## Utiliser un pool de threads\n",
        "\n",
        "Le premier problème que nous allons essayer de résoudre est le nombre illimité de threads exécutés par notre programme. Une bonne solution serait de créer un pool de threads de travail avec une taille strictement définie qui gérera tout le travail parallèle et communiquera avec le thread principal via une structure de données thread-safe. En utilisant cette approche de pool de threads, nous faciliterons également la résolution de deux autres problèmes que nous avons mentionnés dans la section précédente.\n",
        "\n",
        "L'idée générale est de démarrer un nombre prédéfini de threads qui consommeront les éléments de travail d'une file d'attente jusqu'à ce qu'elle devienne vide. Lorsqu'il n'y a pas d'autre travail à faire, les threads se fermeront et nous pourrons quitter le programme. Un bon candidat pour notre structure de données de communication est la classe Queue du module de file d'attente intégré. Il s'agit d'une implémentation de file d'attente First-In First-Out (FIFO) qui est très similaire à la collection deque du module collections et a été spécialement conçue pour gérer la communication inter-thread. Voici une version modifiée de la fonction main() qui ne démarre qu'un nombre limité de threads de travail avec une nouvelle fonction worker() comme cible et communique avec eux en utilisant une file d'attente thread-safe"
      ]
    },
    {
      "cell_type": "code",
      "metadata": {
        "colab": {
          "base_uri": "https://localhost:8080/"
        },
        "id": "l-deyCpdqIXb",
        "outputId": "89bd230f-d4e3-42a6-d91f-15f8da7b855e"
      },
      "source": [
        "import time\n",
        "from queue import Queue, Empty\n",
        "from threading import Thread\n",
        "\n",
        "import requests\n",
        "\n",
        "THREAD_POOL_SIZE = 4\n",
        "\n",
        "\n",
        "SYMBOLS = (\"USD\", \"EUR\", \"PLN\", \"NOK\", \"CZK\")\n",
        "BASES = (\"USD\", \"EUR\", \"PLN\", \"NOK\", \"CZK\")\n",
        "\n",
        "\n",
        "def fetch_rates(base):\n",
        "    response = requests.get(f\"https://api.vatcomply.com/rates?base={base}\")\n",
        "\n",
        "    response.raise_for_status()\n",
        "    rates = response.json()[\"rates\"]\n",
        "    # note: same currency exchanges to itself 1:1\n",
        "    rates[base] = 1.0\n",
        "\n",
        "    rates_line = \", \".join([f\"{rates[symbol]:7.03} {symbol}\" for symbol in SYMBOLS])\n",
        "    print(f\"1 {base} = {rates_line}\")\n",
        "\n",
        "\n",
        "def worker(work_queue):\n",
        "    while not work_queue.empty():\n",
        "        try:\n",
        "            item = work_queue.get_nowait()\n",
        "        except Empty:\n",
        "            break\n",
        "        else:\n",
        "            fetch_rates(item)\n",
        "            work_queue.task_done()\n",
        "\n",
        "\n",
        "def main():\n",
        "    work_queue = Queue()\n",
        "\n",
        "    for base in BASES:\n",
        "        work_queue.put(base)\n",
        "\n",
        "    threads = [\n",
        "        Thread(target=worker, args=(work_queue,)) for _ in range(THREAD_POOL_SIZE)\n",
        "    ]\n",
        "\n",
        "    for thread in threads:\n",
        "        thread.start()\n",
        "\n",
        "    work_queue.join()\n",
        "\n",
        "    while threads:\n",
        "        threads.pop().join()\n",
        "\n",
        "\n",
        "if __name__ == \"__main__\":\n",
        "    started = time.time()\n",
        "    main()\n",
        "    elapsed = time.time() - started\n",
        "\n",
        "    print()\n",
        "    print(\"time elapsed: {:.2f}s\".format(elapsed))"
      ],
      "execution_count": null,
      "outputs": [
        {
          "output_type": "stream",
          "name": "stdout",
          "text": [
            "1 CZK =  0.0453 USD,   0.039 EUR,   0.179 PLN,   0.378 NOK,     1.0 CZK\n",
            "1 USD =     1.0 USD,    0.86 EUR,    3.95 PLN,    8.35 NOK,    22.1 CZK\n",
            "1 EUR =    1.16 USD,     1.0 EUR,     4.6 PLN,    9.71 NOK,    25.7 CZK\n",
            "1 NOK =    0.12 USD,   0.103 EUR,   0.474 PLN,     1.0 NOK,    2.64 CZK\n",
            "1 PLN =   0.253 USD,   0.218 EUR,     1.0 PLN,    2.11 NOK,    5.58 CZK\n",
            "\n",
            "time elapsed: 0.44s\n"
          ]
        }
      ]
    },
    {
      "cell_type": "markdown",
      "metadata": {
        "id": "8jew_h1LrRFz"
      },
      "source": [
        "La fonction principale initialise l'instance Queue en tant que variable worker_queue et place toutes les devises de base dans la file d'attente en tant qu'éléments de travail à traiter par les threads de travail. Il initialise ensuite le nombre de threads THREAD_POOL_SIZE avec la fonction worker() comme cible de thread et work_queue comme argument d'entrée. Il attend ensuite que tous les éléments aient été traités à l'aide de work_queue.join(), puis attend que tous les threads se terminent en appelant la méthode join de chaque instance de Thread.\n",
        "\n",
        "\n",
        "La fonction worker() s'exécute dans une boucle while jusqu'à ce que work_queue.empty() renvoie True. À chaque itération, il essaie d'obtenir un nouvel élément de manière non bloquante en utilisant la méthode work_queue.get_nowait(). Si la file d'attente est déjà vide, elle lèvera une exception Empty, et notre fonction interrompra la boucle et terminera. S'il y a un élément à choisir dans la file d'attente, la fonction worker() le transmettra à fetch_rates(item) et marquera l'élément comme traité à l'aide de work_queue.task_done(). Lorsque tous les éléments de la file d'attente ont été marqués comme terminés, la fonction work_queue.join() du thread principal retournera\n",
        "\n",
        "\n",
        "Le temps d'exécution global peut être plus lent que lors de l'utilisation d'un thread par argument, mais au moins maintenant, il n'est pas possible d'épuiser toutes les ressources de calcul avec une entrée arbitrairement longue. En outre, nous pouvons modifier le paramètre THREAD_POOL_SIZE pour un meilleur équilibre ressources/temps. Dans cette tentative, nous avons utilisé une version non modifiée de la fonction fetch_rates() qui affiche le résultat de l'API sur la sortie standard directement à partir du thread. Dans certains cas, cela peut entraîner une sortie mal formée lorsque deux threads tentent d'imprimer les résultats en même temps. Dans la section suivante, nous essaierons de l'améliorer en introduisant des files d'attente à double sens"
      ]
    },
    {
      "cell_type": "markdown",
      "metadata": {
        "id": "jOuhIUgBs4P4"
      },
      "source": [
        "## Utilisation de wo-way queues\n",
        "\n",
        "Le problème que nous sommes maintenant en mesure de résoudre est l'impression potentiellement problématique de la sortie dans les threads. Il serait bien mieux de laisser une telle responsabilité au thread principal qui a démarré les threads de travail. Nous pouvons gérer cela en fournissant une autre file d'attente qui sera chargée de collecter les résultats de nos travailleurs. Voici le code complet qui rassemble le tout, avec les principaux changements mis en évidence :\n",
        "\n",
        "\n"
      ]
    },
    {
      "cell_type": "code",
      "metadata": {
        "colab": {
          "base_uri": "https://localhost:8080/"
        },
        "id": "hysNXSoNsjtm",
        "outputId": "dccafb1b-b16a-43bb-a874-abfe989eecc2"
      },
      "source": [
        "import time\n",
        "from queue import Queue, Empty\n",
        "from threading import Thread\n",
        "\n",
        "import requests\n",
        "\n",
        "\n",
        "SYMBOLS = (\"USD\", \"EUR\", \"PLN\", \"NOK\", \"CZK\")\n",
        "BASES = (\"USD\", \"EUR\", \"PLN\", \"NOK\", \"CZK\")\n",
        "\n",
        "THREAD_POOL_SIZE = 4\n",
        "\n",
        "\n",
        "def fetch_rates(base):\n",
        "    response = requests.get(f\"https://api.vatcomply.com/rates?base={base}\")\n",
        "\n",
        "    response.raise_for_status()\n",
        "    rates = response.json()[\"rates\"]\n",
        "    # note: same currency exchanges to itself 1:1\n",
        "    rates[base] = 1.0\n",
        "    return base, rates\n",
        "\n",
        "\n",
        "def present_result(base, rates):\n",
        "    rates_line = \", \".join([f\"{rates[symbol]:7.03} {symbol}\" for symbol in SYMBOLS])\n",
        "    print(f\"1 {base} = {rates_line}\")\n",
        "\n",
        "\n",
        "def worker(work_queue, results_queue):\n",
        "    while not work_queue.empty():\n",
        "        try:\n",
        "            item = work_queue.get_nowait()\n",
        "        except Empty:\n",
        "            break\n",
        "        else:\n",
        "            results_queue.put(fetch_rates(item))\n",
        "            work_queue.task_done()\n",
        "\n",
        "\n",
        "def main():\n",
        "    work_queue = Queue()\n",
        "    results_queue = Queue()\n",
        "\n",
        "    for base in BASES:\n",
        "        work_queue.put(base)\n",
        "\n",
        "    threads = [\n",
        "        Thread(target=worker, args=(work_queue, results_queue))\n",
        "        for _ in range(THREAD_POOL_SIZE)\n",
        "    ]\n",
        "\n",
        "    for thread in threads:\n",
        "        thread.start()\n",
        "\n",
        "    work_queue.join()\n",
        "\n",
        "    while threads:\n",
        "        threads.pop().join()\n",
        "\n",
        "    while not results_queue.empty():\n",
        "        present_result(*results_queue.get())\n",
        "\n",
        "\n",
        "if __name__ == \"__main__\":\n",
        "    started = time.time()\n",
        "    main()\n",
        "    elapsed = time.time() - started\n",
        "\n",
        "    print()\n",
        "    print(\"time elapsed: {:.2f}s\".format(elapsed))"
      ],
      "execution_count": null,
      "outputs": [
        {
          "output_type": "stream",
          "name": "stdout",
          "text": [
            "1 NOK =    0.12 USD,   0.103 EUR,   0.474 PLN,     1.0 NOK,    2.64 CZK\n",
            "1 EUR =    1.16 USD,     1.0 EUR,     4.6 PLN,    9.71 NOK,    25.7 CZK\n",
            "1 PLN =   0.253 USD,   0.218 EUR,     1.0 PLN,    2.11 NOK,    5.58 CZK\n",
            "1 USD =     1.0 USD,    0.86 EUR,    3.95 PLN,    8.35 NOK,    22.1 CZK\n",
            "1 CZK =  0.0453 USD,   0.039 EUR,   0.179 PLN,   0.378 NOK,     1.0 CZK\n",
            "\n",
            "time elapsed: 0.79s\n"
          ]
        }
      ]
    },
    {
      "cell_type": "markdown",
      "metadata": {
        "id": "IaKb3af8t1-V"
      },
      "source": [
        "La principale différence est l'introduction de l'instance results_queue de la classe Queue et de la fonctionp resents_results(). La fonction fetch_rates() n'imprime plus ses résultats sur la sortie standard. Au lieu de cela, il renvoie les résultats de l'API traités directement à la fonction worker(). Les threads de travail transmettent ces résultats sans modification via une nouvelle file d'attente de sortie results_queue.\n",
        "\n",
        "\n",
        "Désormais, seul le thread principal est responsable de l'impression des résultats sur la sortie standard. Une fois que tout le travail a été marqué comme terminé, la fonction main() consomme les résultats de results_queue et les transmet à la fonction present_results(). \n",
        "\n",
        "Cela élimine le risque d'entrées malformées que nous pourrions rencontrer si la fonction present_result() faisait plus d'impression (). Nous n'attendons aucune amélioration des performances de cette approche avec de petites entrées, mais en fait, nous avons également réduit le risque de sérialisation des threads en raison de la lenteur de l'exécution de print(). \n",
        "\n",
        "Dans tous les exemples précédents, nous avons supposé que l'API que nous utilisons répondez toujours avec une réponse significative et valide. Nous n'avons couvert aucun scénario de défaillance pour simplifier les choses, mais dans les applications réelles, cela pourrait être un problème. Dans la section suivante, nous verrons ce qui se passe lorsqu'une exception est levée dans un thread et comment cela affecte la communication sur les files d'attente"
      ]
    },
    {
      "cell_type": "markdown",
      "metadata": {
        "id": "u8U74mjnubUr"
      },
      "source": [
        "## Traiter les erreurs dans les threads\n",
        "\n",
        "La méthode raise_for_status() de l'objet request.Response lèvera une exception si la réponse HTTP a un code d'état indiquant la condition d'erreur. Nous avons utilisé cette méthode dans toutes les itérations précédentes de la fonction fetch_rates() mais nous n'avons pas encore géré d'exceptions potentielles.\n",
        "\n",
        "Si le service que nous appelons avec la méthode request.get() répond avec un code d'état indiquant une erreur, l'exception sera levée dans un thread séparé et ne fera pas planter le programme entier. Le thread de travail se terminera bien sûr immédiatement. Mais le thread principal attendra que toutes les tâches stockées sur work_queue se terminent (avec l'appel work_queue.join()). Sans amélioration supplémentaire, nous pouvons nous retrouver dans une situation où certains threads de travail se sont écrasés et le programme ne se terminera jamais. Pour éviter cela, nous devons nous assurer que nos threads de travail gèrent correctement les exceptions possibles et que tous les éléments de la file d'attente sont traités.\n",
        "\n",
        "Apportons quelques modifications mineures à notre code afin de nous préparer à tout problème pouvant survenir. S'il y a des exceptions dans le thread de travail, nous pouvons mettre une instance d'erreur dans la file d'attente results_queue afin que le thread principal puisse dire quelles tâches n'ont pas été traitées. Nous pouvons également marquer la tâche en cours comme terminée, de la même manière que nous le ferions s'il n'y avait pas d'erreur. De cette façon, nous nous assurons que le thread principal ne se verrouillera pas indéfiniment en attendant l'appel de la méthode work_queue.join().\n",
        "\n",
        "Le thread principal peut alors inspecter les résultats et relancer l'une des exceptions trouvées dans la file d'attente des résultats. Voici les versions améliorées des fonctions worker() et main() qui peuvent gérer les exceptions de manière plus sûre (les modifications sont mises en évidence)"
      ]
    },
    {
      "cell_type": "markdown",
      "metadata": {
        "id": "guHWFuj_xEGy"
      },
      "source": [
        "Pour voir comment fonctionne la gestion des erreurs en action, nous allons essayer de simuler un scénario d'erreur convaincant. Comme nous n'avons pas un contrôle total sur l'API que nous utilisons, nous injecterons au hasard des réponses d'erreur à la fonction fetch_rates(). Ce qui suit est la version modifiée de cette fonction.\n",
        "\n",
        "En modifiant response.status_code à 500, nous simulerons la situation de notre API renvoyant une réponse indiquant une erreur de serveur. Il s'agit d'un code d'état courant pour les problèmes survenant côté serveur. Dans de telles situations, les détails de l'erreur ne sont pas toujours divulgués. Ce code d'état est juste suffisant pour que la méthode response.raise_for_status() déclenche une exception.\n",
        "\n",
        "Les erreurs sont injectées de manière aléatoire, il peut donc être nécessaire d'exécuter plusieurs fois. Après quelques essais, vous devriez voir une sortie similaire à la suivante"
      ]
    },
    {
      "cell_type": "code",
      "metadata": {
        "colab": {
          "base_uri": "https://localhost:8080/",
          "height": 405
        },
        "id": "5xLBLiNMxpgR",
        "outputId": "5637a3df-8795-4ab1-c3b2-da7c8bf9d323"
      },
      "source": [
        "import random\n",
        "import time\n",
        "from queue import Queue, Empty\n",
        "from threading import Thread\n",
        "\n",
        "import requests\n",
        "\n",
        "\n",
        "SYMBOLS = (\"USD\", \"EUR\", \"PLN\", \"NOK\", \"CZK\")\n",
        "BASES = (\"USD\", \"EUR\", \"PLN\", \"NOK\", \"CZK\")\n",
        "\n",
        "THREAD_POOL_SIZE = 4\n",
        "\n",
        "\n",
        "def fetch_rates(base):\n",
        "    response = requests.get(f\"https://api.vatcomply.com/rates?base={base}\")\n",
        "\n",
        "    if random.randint(0, 5) < 1:\n",
        "        # simulate error by overriding status code\n",
        "        response.status_code = 500\n",
        "\n",
        "    response.raise_for_status()\n",
        "    rates = response.json()[\"rates\"]\n",
        "    # note: same currency exchanges to itself 1:1\n",
        "    rates[base] = 1.0\n",
        "    return base, rates\n",
        "\n",
        "\n",
        "def present_result(base, rates):\n",
        "    rates_line = \", \".join([f\"{rates[symbol]:7.03} {symbol}\" for symbol in SYMBOLS])\n",
        "    print(f\"1 {base} = {rates_line}\")\n",
        "\n",
        "\n",
        "def worker(work_queue, results_queue):\n",
        "    while not work_queue.empty():\n",
        "        try:\n",
        "            item = work_queue.get_nowait()\n",
        "        except Empty:\n",
        "            break\n",
        "        try:\n",
        "            result = fetch_rates(item)\n",
        "        except Exception as err:\n",
        "            results_queue.put(err)\n",
        "        else:\n",
        "            results_queue.put(result)\n",
        "        finally:\n",
        "            work_queue.task_done()\n",
        "\n",
        "\n",
        "def main():\n",
        "    work_queue = Queue()\n",
        "    results_queue = Queue()\n",
        "\n",
        "    for base in BASES:\n",
        "        work_queue.put(base)\n",
        "\n",
        "    threads = [\n",
        "        Thread(target=worker, args=(work_queue, results_queue))\n",
        "        for _ in range(THREAD_POOL_SIZE)\n",
        "    ]\n",
        "\n",
        "    for thread in threads:\n",
        "        thread.start()\n",
        "\n",
        "    work_queue.join()\n",
        "\n",
        "    while threads:\n",
        "        threads.pop().join()\n",
        "\n",
        "    while not results_queue.empty():\n",
        "        result = results_queue.get()\n",
        "        if isinstance(result, Exception):\n",
        "            raise result\n",
        "\n",
        "        present_result(*result)\n",
        "\n",
        "\n",
        "if __name__ == \"__main__\":\n",
        "    started = time.time()\n",
        "    main()\n",
        "    elapsed = time.time() - started\n",
        "\n",
        "    print()\n",
        "    print(\"time elapsed: {:.2f}s\".format(elapsed))"
      ],
      "execution_count": null,
      "outputs": [
        {
          "output_type": "stream",
          "name": "stdout",
          "text": [
            "1 USD =     1.0 USD,    0.86 EUR,    3.95 PLN,    8.35 NOK,    22.1 CZK\n"
          ]
        },
        {
          "output_type": "error",
          "ename": "HTTPError",
          "evalue": "ignored",
          "traceback": [
            "\u001b[0;31m---------------------------------------------------------------------------\u001b[0m",
            "\u001b[0;31mHTTPError\u001b[0m                                 Traceback (most recent call last)",
            "\u001b[0;32m<ipython-input-34-1b431da87234>\u001b[0m in \u001b[0;36m<module>\u001b[0;34m()\u001b[0m\n\u001b[1;32m     78\u001b[0m \u001b[0;32mif\u001b[0m \u001b[0m__name__\u001b[0m \u001b[0;34m==\u001b[0m \u001b[0;34m\"__main__\"\u001b[0m\u001b[0;34m:\u001b[0m\u001b[0;34m\u001b[0m\u001b[0;34m\u001b[0m\u001b[0m\n\u001b[1;32m     79\u001b[0m     \u001b[0mstarted\u001b[0m \u001b[0;34m=\u001b[0m \u001b[0mtime\u001b[0m\u001b[0;34m.\u001b[0m\u001b[0mtime\u001b[0m\u001b[0;34m(\u001b[0m\u001b[0;34m)\u001b[0m\u001b[0;34m\u001b[0m\u001b[0;34m\u001b[0m\u001b[0m\n\u001b[0;32m---> 80\u001b[0;31m     \u001b[0mmain\u001b[0m\u001b[0;34m(\u001b[0m\u001b[0;34m)\u001b[0m\u001b[0;34m\u001b[0m\u001b[0;34m\u001b[0m\u001b[0m\n\u001b[0m\u001b[1;32m     81\u001b[0m     \u001b[0melapsed\u001b[0m \u001b[0;34m=\u001b[0m \u001b[0mtime\u001b[0m\u001b[0;34m.\u001b[0m\u001b[0mtime\u001b[0m\u001b[0;34m(\u001b[0m\u001b[0;34m)\u001b[0m \u001b[0;34m-\u001b[0m \u001b[0mstarted\u001b[0m\u001b[0;34m\u001b[0m\u001b[0;34m\u001b[0m\u001b[0m\n\u001b[1;32m     82\u001b[0m \u001b[0;34m\u001b[0m\u001b[0m\n",
            "\u001b[0;32m<ipython-input-34-1b431da87234>\u001b[0m in \u001b[0;36mmain\u001b[0;34m()\u001b[0m\n\u001b[1;32m     71\u001b[0m         \u001b[0mresult\u001b[0m \u001b[0;34m=\u001b[0m \u001b[0mresults_queue\u001b[0m\u001b[0;34m.\u001b[0m\u001b[0mget\u001b[0m\u001b[0;34m(\u001b[0m\u001b[0;34m)\u001b[0m\u001b[0;34m\u001b[0m\u001b[0;34m\u001b[0m\u001b[0m\n\u001b[1;32m     72\u001b[0m         \u001b[0;32mif\u001b[0m \u001b[0misinstance\u001b[0m\u001b[0;34m(\u001b[0m\u001b[0mresult\u001b[0m\u001b[0;34m,\u001b[0m \u001b[0mException\u001b[0m\u001b[0;34m)\u001b[0m\u001b[0;34m:\u001b[0m\u001b[0;34m\u001b[0m\u001b[0;34m\u001b[0m\u001b[0m\n\u001b[0;32m---> 73\u001b[0;31m             \u001b[0;32mraise\u001b[0m \u001b[0mresult\u001b[0m\u001b[0;34m\u001b[0m\u001b[0;34m\u001b[0m\u001b[0m\n\u001b[0m\u001b[1;32m     74\u001b[0m \u001b[0;34m\u001b[0m\u001b[0m\n\u001b[1;32m     75\u001b[0m         \u001b[0mpresent_result\u001b[0m\u001b[0;34m(\u001b[0m\u001b[0;34m*\u001b[0m\u001b[0mresult\u001b[0m\u001b[0;34m)\u001b[0m\u001b[0;34m\u001b[0m\u001b[0;34m\u001b[0m\u001b[0m\n",
            "\u001b[0;32m<ipython-input-34-1b431da87234>\u001b[0m in \u001b[0;36mworker\u001b[0;34m(work_queue, results_queue)\u001b[0m\n\u001b[1;32m     39\u001b[0m             \u001b[0;32mbreak\u001b[0m\u001b[0;34m\u001b[0m\u001b[0;34m\u001b[0m\u001b[0m\n\u001b[1;32m     40\u001b[0m         \u001b[0;32mtry\u001b[0m\u001b[0;34m:\u001b[0m\u001b[0;34m\u001b[0m\u001b[0;34m\u001b[0m\u001b[0m\n\u001b[0;32m---> 41\u001b[0;31m             \u001b[0mresult\u001b[0m \u001b[0;34m=\u001b[0m \u001b[0mfetch_rates\u001b[0m\u001b[0;34m(\u001b[0m\u001b[0mitem\u001b[0m\u001b[0;34m)\u001b[0m\u001b[0;34m\u001b[0m\u001b[0;34m\u001b[0m\u001b[0m\n\u001b[0m\u001b[1;32m     42\u001b[0m         \u001b[0;32mexcept\u001b[0m \u001b[0mException\u001b[0m \u001b[0;32mas\u001b[0m \u001b[0merr\u001b[0m\u001b[0;34m:\u001b[0m\u001b[0;34m\u001b[0m\u001b[0;34m\u001b[0m\u001b[0m\n\u001b[1;32m     43\u001b[0m             \u001b[0mresults_queue\u001b[0m\u001b[0;34m.\u001b[0m\u001b[0mput\u001b[0m\u001b[0;34m(\u001b[0m\u001b[0merr\u001b[0m\u001b[0;34m)\u001b[0m\u001b[0;34m\u001b[0m\u001b[0;34m\u001b[0m\u001b[0m\n",
            "\u001b[0;32m<ipython-input-34-1b431da87234>\u001b[0m in \u001b[0;36mfetch_rates\u001b[0;34m(base)\u001b[0m\n\u001b[1;32m     20\u001b[0m         \u001b[0mresponse\u001b[0m\u001b[0;34m.\u001b[0m\u001b[0mstatus_code\u001b[0m \u001b[0;34m=\u001b[0m \u001b[0;36m500\u001b[0m\u001b[0;34m\u001b[0m\u001b[0;34m\u001b[0m\u001b[0m\n\u001b[1;32m     21\u001b[0m \u001b[0;34m\u001b[0m\u001b[0m\n\u001b[0;32m---> 22\u001b[0;31m     \u001b[0mresponse\u001b[0m\u001b[0;34m.\u001b[0m\u001b[0mraise_for_status\u001b[0m\u001b[0;34m(\u001b[0m\u001b[0;34m)\u001b[0m\u001b[0;34m\u001b[0m\u001b[0;34m\u001b[0m\u001b[0m\n\u001b[0m\u001b[1;32m     23\u001b[0m     \u001b[0mrates\u001b[0m \u001b[0;34m=\u001b[0m \u001b[0mresponse\u001b[0m\u001b[0;34m.\u001b[0m\u001b[0mjson\u001b[0m\u001b[0;34m(\u001b[0m\u001b[0;34m)\u001b[0m\u001b[0;34m[\u001b[0m\u001b[0;34m\"rates\"\u001b[0m\u001b[0;34m]\u001b[0m\u001b[0;34m\u001b[0m\u001b[0;34m\u001b[0m\u001b[0m\n\u001b[1;32m     24\u001b[0m     \u001b[0;31m# note: same currency exchanges to itself 1:1\u001b[0m\u001b[0;34m\u001b[0m\u001b[0;34m\u001b[0m\u001b[0;34m\u001b[0m\u001b[0m\n",
            "\u001b[0;32m/usr/local/lib/python3.7/dist-packages/requests/models.py\u001b[0m in \u001b[0;36mraise_for_status\u001b[0;34m(self)\u001b[0m\n\u001b[1;32m    939\u001b[0m \u001b[0;34m\u001b[0m\u001b[0m\n\u001b[1;32m    940\u001b[0m         \u001b[0;32mif\u001b[0m \u001b[0mhttp_error_msg\u001b[0m\u001b[0;34m:\u001b[0m\u001b[0;34m\u001b[0m\u001b[0;34m\u001b[0m\u001b[0m\n\u001b[0;32m--> 941\u001b[0;31m             \u001b[0;32mraise\u001b[0m \u001b[0mHTTPError\u001b[0m\u001b[0;34m(\u001b[0m\u001b[0mhttp_error_msg\u001b[0m\u001b[0;34m,\u001b[0m \u001b[0mresponse\u001b[0m\u001b[0;34m=\u001b[0m\u001b[0mself\u001b[0m\u001b[0;34m)\u001b[0m\u001b[0;34m\u001b[0m\u001b[0;34m\u001b[0m\u001b[0m\n\u001b[0m\u001b[1;32m    942\u001b[0m \u001b[0;34m\u001b[0m\u001b[0m\n\u001b[1;32m    943\u001b[0m     \u001b[0;32mdef\u001b[0m \u001b[0mclose\u001b[0m\u001b[0;34m(\u001b[0m\u001b[0mself\u001b[0m\u001b[0;34m)\u001b[0m\u001b[0;34m:\u001b[0m\u001b[0;34m\u001b[0m\u001b[0;34m\u001b[0m\u001b[0m\n",
            "\u001b[0;31mHTTPError\u001b[0m: 500 Server Error: OK for url: https://api.vatcomply.com/rates?base=PLN"
          ]
        }
      ]
    },
    {
      "cell_type": "markdown",
      "metadata": {
        "id": "GtL_Kw8xx29C"
      },
      "source": [
        "Notre code n'a pas réussi à obtenir tous les éléments, mais nous avons au moins obtenu des informations claires sur la cause de l'erreur, qui était dans ce cas un état de réponse 500 Server Error. \n",
        "\n",
        "Dans la section suivante, nous apporterons la dernière amélioration à notre programme multithread. Nous introduirons un mécanisme de limitation pour protéger notre programme des limitations de débit et éviter l'abus accidentel du service gratuit que nous utilisons."
      ]
    },
    {
      "cell_type": "markdown",
      "metadata": {
        "id": "m3axGGNdyREj"
      },
      "source": [
        "## Throttling\n",
        "\n",
        "Le dernier des problèmes mentionnés dans la section Utilisation d'un thread par élément que nous n'avons pas encore abordé concerne les limites de débit potentielles qui peuvent être imposées par des fournisseurs de services externes. Dans le cas de l'API des taux de change, le mainteneur du service ne nous a pas informés des limites de taux ou des mécanismes de limitation. Mais de nombreux services (même payants) imposent souvent des limites tarifaires.\n",
        "\n",
        "Habituellement, lorsqu'un service a mis en œuvre des limites de débit, il commencera à renvoyer des réponses indiquant des erreurs après qu'un certain nombre de demandes ont été effectuées, dépassant le quota alloué. Nous avons déjà préparé les réponses d'erreur dans la section précédente, mais cela ne suffit souvent pas pour gérer correctement les limites de débit. En effet, de nombreux services comptent souvent les demandes effectuées au-delà de la limite, et si vous dépassez régulièrement la limite, vous risquez de ne jamais revenir au quota alloué.\n",
        "\n",
        "Lors de l'utilisation de plusieurs threads, il est très facile d'épuiser n'importe quelle limite de débit ou simplement, si le service ne limite pas les demandes entrantes, de saturer le service à un niveau tel qu'il ne pourra répondre à personne. Si cela est fait exprès, il s'agit d'une attaque par déni de service Denial-of-Service (DoS).\n",
        "\n",
        "Afin de ne pas dépasser les limites de débit ou provoquer un DoS accidentel, nous devons limiter le rythme auquel nous faisons des demandes au service distant. Limiter le rythme de travail est souvent appelé étranglement. Il existe quelques packages dans PyPI qui vous permettent de limiter le taux de tout type de travail vraiment facile à utiliser. Mais nous n'utiliserons aucun code externe ici. La limitation est une bonne occasion d'introduire des primitives de verrouillage pour le threading, nous allons donc essayer de créer une solution de limitation à partir de zéro\n",
        "\n",
        "L'algorithme que nous utiliserons est parfois appelé un seau à jetons et est très simple. Il inclut les fonctionnalités suivantes :\n",
        "\n",
        "* Il existe un compartiment avec un nombre prédéfini de jetons\n",
        "* Chaque jeton correspond à une seule autorisation pour traiter un élément de travail\n",
        "\n",
        "* Chaque fois que le travailleur demande un ou plusieurs jetons (autorisations), nous le faisons ce qui suit : \n",
        "\n",
        "* 1. Nous vérifions combien de temps s'est écoulé depuis la dernière fois que nous avons rempli le bucket.\n",
        "\n",
        "* 2. Si le décalage horaire le permet, nous remplissons le bucket avec le nombre de jetons correspondant au décalage horaire\n",
        "\n",
        "* 3. Si le nombre de jetons stockés est supérieur ou égal au montant demandé, nous diminuons le nombre de jetons stockés et renvoyons cette valeur\n",
        "\n",
        "* 4. Si le nombre de tokens stockés est inférieur à celui demandé, nous retournons zéro.\n",
        "\n",
        "\n",
        "Les deux choses importantes sont de toujours initialiser le token bucket avec zéro tokens et de ne jamais le laisser déborder. Cela peut être contre-intuitif, mais si nous ne suivons pas ces précautions, nous pouvons libérer les jetons en rafales qui dépassent la limite de débit. Parce que, dans notre situation, la limite de débit est exprimée en requêtes par seconde, nous n'avons pas besoin de gérer une quantité de temps arbitraire. Nous supposons que la base de notre mesure est d'une seconde, nous ne stockerons donc jamais plus de jetons que le nombre de requêtes autorisé pour ce laps de temps. Voici un exemple d'implémentation de la classe qui permet la limitation avec l'algorithme du seau à jetons."
      ]
    },
    {
      "cell_type": "code",
      "metadata": {
        "id": "nsR2XXgf2tOK"
      },
      "source": [
        "import time\n",
        "from queue import Queue, Empty\n",
        "from threading import Thread, Lock\n",
        "\n",
        "import requests\n",
        "\n",
        "SYMBOLS = (\"USD\", \"EUR\", \"PLN\", \"NOK\", \"CZK\")\n",
        "BASES = (\"USD\", \"EUR\", \"PLN\", \"NOK\", \"CZK\")\n",
        "\n",
        "THREAD_POOL_SIZE = 4\n",
        "\n",
        "\n",
        "class Throttle:\n",
        "    def __init__(self, rate):\n",
        "        self._consume_lock = Lock()\n",
        "        self.rate = rate\n",
        "        self.tokens = 0\n",
        "        self.last = None\n",
        "\n",
        "    def consume(self, amount=1):\n",
        "        with self._consume_lock:\n",
        "            now = time.time()\n",
        "\n",
        "            # time measument is initialized on first\n",
        "            # token request to avoid initial bursts\n",
        "            if self.last == 0:\n",
        "                self.last = now\n",
        "\n",
        "            elapsed = now - self.last\n",
        "\n",
        "            # make sure that quant of passed time is big\n",
        "            # enough to add new tokens\n",
        "            if elapsed * self.rate > 1:\n",
        "                self.tokens += elapsed * self.rate\n",
        "                self.last = now\n",
        "\n",
        "            # never over-fill the bucket\n",
        "            self.tokens = min(self.rate, self.tokens)\n",
        "\n",
        "            # finally dispatch tokens if available\n",
        "            if self.tokens >= amount:\n",
        "                self.tokens -= amount\n",
        "                return amount\n",
        "\n",
        "            return 0\n",
        "\n",
        "\n",
        "def fetch_rates(base):\n",
        "    response = requests.get(f\"https://api.vatcomply.com/rates?base={base}\")\n",
        "\n",
        "    response.raise_for_status()\n",
        "    rates = response.json()[\"rates\"]\n",
        "    # note: same currency exchanges to itself 1:1\n",
        "    rates[base] = 1.0\n",
        "    return base, rates\n",
        "\n",
        "\n",
        "def present_result(base, rates):\n",
        "    rates_line = \", \".join([f\"{rates[symbol]:7.03} {symbol}\" for symbol in SYMBOLS])\n",
        "    print(f\"1 {base} = {rates_line}\")\n",
        "\n",
        "\n",
        "def worker(work_queue, results_queue, throttle):\n",
        "    while not work_queue.empty():\n",
        "        try:\n",
        "            item = work_queue.get_nowait()\n",
        "        except Empty:\n",
        "            break\n",
        "\n",
        "        while not throttle.consume():\n",
        "            time.sleep(0.1)\n",
        "\n",
        "        try:\n",
        "            result = fetch_rates(item)\n",
        "        except Exception as err:\n",
        "            results_queue.put(err)\n",
        "        else:\n",
        "            results_queue.put(result)\n",
        "        finally:\n",
        "            work_queue.task_done()\n",
        "\n",
        "\n",
        "def main():\n",
        "    work_queue = Queue()\n",
        "    results_queue = Queue()\n",
        "    throttle = Throttle(10)\n",
        "\n",
        "    for base in BASES:\n",
        "        work_queue.put(base)\n",
        "\n",
        "    threads = [\n",
        "        Thread(target=worker, args=(work_queue, results_queue, throttle))\n",
        "        for _ in range(THREAD_POOL_SIZE)\n",
        "    ]\n",
        "\n",
        "    for thread in threads:\n",
        "        thread.start()\n",
        "\n",
        "    work_queue.join()\n",
        "\n",
        "    while threads:\n",
        "        threads.pop().join()\n",
        "\n",
        "    while not results_queue.empty():\n",
        "        result = results_queue.get()\n",
        "        if isinstance(result, Exception):\n",
        "            raise result\n",
        "\n",
        "        present_result(*result)\n",
        "\n",
        "\n",
        "if __name__ == \"__main__\":\n",
        "    started = time.time()\n",
        "    main()\n",
        "    elapsed = time.time() - started\n",
        "\n",
        "    print()\n",
        "    print(\"time elapsed: {:.2f}s\".format(elapsed))"
      ],
      "execution_count": null,
      "outputs": []
    },
    {
      "cell_type": "markdown",
      "metadata": {
        "id": "jknNp42S3jS6"
      },
      "source": [
        "L'utilisation de cette classe est très simple. Nous devons créer une seule instance de Throttle (par exemple, Throttle(10)) dans le thread principal et la transmettre à chaque thread de travail en tant qu'argument de position.\n",
        "\n",
        "Cette instance d'accélérateur sera partagée entre les threads, mais son utilisation est sûre car nous avons protégé la manipulation de son état interne avec l'instance de la classe Lock du module de threading. Nous pouvons maintenant mettre à jour l'implémentation de la fonction worker() pour attendre avec chaque élément jusqu'à ce que l'objet d'accélérateur libère un nouveau jeton, comme suit.\n",
        "\n",
        "Le bloc while notthrottle.consume() nous empêche de traiter les éléments du fichier d'attente de travail si un objet d'accélérateur ne libère aucun jeton (zéro est évalué à False). Nous avons mis un peu de sommeil pour ajouter un peu de rythme aux threads en cas de seau vide. Il y a probablement une façon plus élégante de le faire, mais cette technique simple fait assez bien le travail.\n",
        "\n",
        "0Lorsque papillon.consume() renvoie une valeur non nulle, nous considérons le jeton consommé. Le thread peut quitter la boucle while et poursuivre le traitement de l'élément de file d'attente de travail. Une fois le traitement terminé, il lira un autre élément de la file d'attente de travail et essaiera à nouveau de consommer le jeton. Tout ce processus se poursuivra jusqu'à ce que la file d'attente de travail soit vide.\n",
        "\n",
        "C'était une très brève introduction aux fils de discussion. Nous n'avons pas couvert tous les aspects possibles des applications multithread, mais nous en savons déjà assez pour examiner d'autres modèles de concurrence et voir comment ils se comparent aux threads. Le prochain modèle de concurrence sera le multitraitement"
      ]
    },
    {
      "cell_type": "markdown",
      "metadata": {
        "id": "qqwMgiP26TpS"
      },
      "source": [
        "## Multiprocessing\n",
        "\n",
        "Soyons honnêtes, le multithreading est un défi. Traiter les threads de manière saine et sûre nécessitait une énorme quantité de code par rapport à l'approche synchrone. Nous avons dû configurer un pool de threads et des files d'attente de communication, gérer gracieusement les exceptions des threads et également nous soucier de la sécurité des threads lorsque nous essayions de fournir une capacité de limitation de débit. Des dizaines de lignes de code sont nécessaires juste pour exécuter une fonction d'une bibliothèque externe en parallèle ! Et nous comptons sur la promesse du créateur du package externe que sa bibliothèque est thread-safe. Cela semble être un prix élevé pour une solution qui n'est pratiquement applicable que pour effectuer des tâches liées aux E/S.\n",
        "\n",
        "Une approche alternative qui vous permet d'atteindre le parallélisme est le multitraitement. Des processus Python séparés qui ne se limitent pas les uns aux autres avec le GIL permettent une meilleure utilisation des ressources. Ceci est particulièrement important pour les applications s'exécutant sur des processeurs multicœurs qui effectuent des tâches très gourmandes en ressources CPU. À l'heure actuelle, il s'agit de la seule solution concurrente intégrée disponible pour les développeurs Python (utilisant l'interpréteur CPython) qui vous permet de tirer parti de plusieurs cœurs de processeur dans chaque situation.\n",
        "\n",
        "L'autre avantage de l'utilisation de plusieurs processus sur les threads est le fait qu'ils ne partagent pas de contexte mémoire. Ainsi, il est plus difficile de corrompre les données et d'introduire des blocages ou des conditions de concurrence dans votre application. Ne pas partager le contexte de la mémoire signifie que vous avez besoin d'un effort supplémentaire pour transmettre les données entre des processus distincts, mais heureusement, il existe de nombreuses bonnes façons de mettre en œuvre une communication inter-processus fiable. En fait, Python fournit des primitives qui rendent la communication entre les processus presque aussi facile qu'entre les threads.\n",
        "\n",
        "Le moyen le plus simple de démarrer de nouveaux processus dans n'importe quel langage de programmation est généralement de forker le programme à un moment donné. Sur les systèmes POSIX et similaires (comme UNIX, macOS et Linux), un fork est un appel système qui créera un nouveau processus enfant. En Python, il est exposé via la fonction os.fork(). Les deux processus continuent le programme de leur propre chef après le fork. Voici un exemple de script qui se forge exactement une fois.\n",
        "\n",
        "\n",
        "Le os.fork() génère un nouveau processus. Les deux processus auront le même état de mémoire jusqu'au moment de l'appel à fork(), mais après cet appel, leurs mémoires divergent, d'où le nom de fork. os.fork() renvoie une valeur entière. S'il vaut 0, nous savons que le processus courant est un processus fils. Le processus parent recevra le numéro d'ID de processus (PID) de son processus enfant."
      ]
    },
    {
      "cell_type": "code",
      "metadata": {
        "colab": {
          "base_uri": "https://localhost:8080/"
        },
        "id": "x4vucAxN78Z9",
        "outputId": "9d08a742-56de-41b6-e564-049d4b494557"
      },
      "source": [
        "import os\n",
        "\n",
        "pid_list = []\n",
        "\n",
        "\n",
        "def main():\n",
        "    pid_list.append(os.getpid())\n",
        "    child_pid = os.fork()\n",
        "\n",
        "    if child_pid == 0:\n",
        "        pid_list.append(os.getpid())\n",
        "        print()\n",
        "        print(\"CHLD: hey, I am the child process\")\n",
        "        print(\"CHLD: all the pids I know %s\" % pid_list)\n",
        "\n",
        "    else:\n",
        "        pid_list.append(os.getpid())\n",
        "        print()\n",
        "        print(\"PRNT: hey, I am the parent \")\n",
        "        print(\"PRNT: the child pid is %d\" % child_pid)\n",
        "        print(\"PRNT: all the pids I know %s\" % pid_list)\n",
        "\n",
        "\n",
        "if __name__ == \"__main__\":\n",
        "    main()"
      ],
      "execution_count": null,
      "outputs": [
        {
          "output_type": "stream",
          "name": "stdout",
          "text": [
            "\n",
            "PRNT: hey, I am the parent \n",
            "PRNT: the child pid is 1435\n",
            "PRNT: all the pids I know [64, 64]\n",
            "\n",
            "CHLD: hey, I am the child process\n",
            "CHLD: all the pids I know [64, 1435]\n"
          ]
        }
      ]
    },
    {
      "cell_type": "markdown",
      "metadata": {
        "id": "BSB7ujMj9uRg"
      },
      "source": [
        "Remarquez comment les deux processus ont exactement le même état initial de leurs données avant l'appel os.fork(). Ils ont tous les deux le même numéro PID (identificateur de processus) comme première valeur de la collection pid_list.\n",
        "\n",
        "Plus tard, les deux états divergent. Nous pouvons voir que le processus enfant a ajouté la valeur 9304 tandis que le parent a dupliqué son PID 9303. En effet, les contextes mémoire de ces deux processus ne sont pas partagés. Ils ont les mêmes conditions initiales mais ne peuvent pas s'affecter après l'appel os.fork()\n",
        "\n",
        "Après le fork, chaque processus obtient son propre espace d'adressage. Pour communiquer, les processus doivent fonctionner avec des ressources à l'échelle du système ou utiliser des outils de bas niveau tels que des signaux.\n",
        "\n",
        "Malheureusement, os.fork n'est pas disponible sous Windows, où un nouvel interpréteur doit être généré afin d'imiter la fonction de fourche. Par conséquent, la mise en œuvre du multitraitement dépend de la plate-forme. Le module os expose également des fonctions qui vous permettent de générer de nouveaux processus sous Windows. Python fournit l'excellent module de multitraitement, qui crée une interface de haut niveau pour le multitraitement.\n",
        "\n",
        "Le grand avantage du module de multitraitement est qu'il fournit certaines des abstractions que nous avons dû coder à partir de zéro lorsque nous avons discuté du multithreading. Il vous permet de limiter la quantité de code passe-partout, ce qui améliore la maintenabilité des applications et réduit la complexité. Étonnamment, malgré son nom, le module de multitraitement expose une interface similaire pour les threads, vous voudrez donc probablement utiliser la même interface pour les deux approches. Regardons de plus près le module de multitraitement intégré dans la section suivante"
      ]
    },
    {
      "cell_type": "markdown",
      "metadata": {
        "id": "6mYbbYym-9_x"
      },
      "source": [
        "## Le module de multitraitement intégré\n",
        "\n",
        "Le module de multitraitement fournit un moyen portable de travailler avec des processus comme s'il s'agissait de threads. Ce module contient une classe Process très similaire à la classe Thread et peut être utilisée sur n'importe quelle plate-forme, comme suit:\n"
      ]
    },
    {
      "cell_type": "code",
      "metadata": {
        "colab": {
          "base_uri": "https://localhost:8080/"
        },
        "id": "g5VELW0z_Jcn",
        "outputId": "c34911df-85f5-4fef-b8f7-ad74e23713db"
      },
      "source": [
        "from multiprocessing import Process\n",
        "import os\n",
        "\n",
        "\n",
        "def work(identifier):\n",
        "    print(f\"Hey, I am the process \" f\"{identifier}, pid: {os.getpid()}\")\n",
        "\n",
        "\n",
        "def main():\n",
        "    processes = [Process(target=work, args=(number,)) for number in range(5)]\n",
        "    for process in processes:\n",
        "        process.start()\n",
        "\n",
        "    while processes:\n",
        "        processes.pop().join()\n",
        "\n",
        "\n",
        "if __name__ == \"__main__\":\n",
        "    main()"
      ],
      "execution_count": null,
      "outputs": [
        {
          "output_type": "stream",
          "name": "stdout",
          "text": [
            "Hey, I am the process 0, pid: 1528\n",
            "Hey, I am the process 1, pid: 1529\n",
            "Hey, I am the process 2, pid: 1530\n",
            "Hey, I am the process 4, pid: 1536\n",
            "Hey, I am the process 3, pid: 1531\n"
          ]
        }
      ]
    },
    {
      "cell_type": "markdown",
      "metadata": {
        "id": "ScNjxoRO_aTd"
      },
      "source": [
        "Lorsque les processus sont créés, la mémoire est fork (sur les systèmes POSIX et de type POSIX). Outre l'état de la mémoire qui est copié, la classe Process fournit également un argument args supplémentaire dans son constructeur afin que les données puissent être transmises. La communication entre les processus nécessite un travail supplémentaire car leur mémoire locale n'est pas partagée par défaut. Pour faciliter cela, le module de multitraitement fournit les quelques moyens suivants de communiquer entre les processus :\n",
        "\n",
        "* Utilisation de la classe multiprocessing.Queue, qui est un équivalent fonctionnel de queue.Queue, qui était utilisé auparavant pour la communication entre les threads.\n",
        "\n",
        "* Utilisation de multiprocessing.Pipe, qui est un canal de communication bidirectionnel de type socket.\n",
        "\n",
        "* Utilisation du module multiprocessing.sharedctypes, qui vous permet de créer des types C arbitraires (à partir du module ctypes) dans un pool de mémoire dédié partagé entre les processus.\n",
        "\n",
        "\n",
        "Les classes multiprocessing.Queue et queue.Queue ont la même interface. La seule différence est que le premier est conçu pour être utilisé dans des environnements multiprocessus, plutôt qu'avec plusieurs threads, il utilise donc différents transports internes et primitives de verrouillage. Nous avons déjà vu comment utiliser Queue avec le multithreading dans la section Multithreading, nous ne ferons donc pas la même chose pour le multiprocessing. L'utilisation reste exactement la même, donc un tel exemple n'apporterait rien de nouveau.\n",
        "\n",
        "Un modèle de communication plus intéressant est fourni par la classe Pipe. Il s'agit d'un canal de communication duplex (bidirectionnel) dont le concept est très similaire aux tuyaux UNIX. L'interface de Pipe est très similaire à une simple prise du module de prise intégré. La différence entre les tuyaux système bruts et les sockets est qu'il applique automatiquement la sérialisation des objets via le module pickle. Du point de vue d'un développeur, cela ressemble à l'envoi d'objets Python ordinaires. Avec des tuyaux ou des sockets système simples, vous devez appliquer votre propre sérialisation manuellement afin de reconstruire les objets envoyés à partir de flux d'octets.\n",
        "\n",
        "Cela permet une communication beaucoup plus facile entre les processus car vous pouvez envoyer presque n'importe quel type Python de base. Considérez la classe worker() suivante, qui lira un objet à partir de l'objet Pipe et affichera sa représentation sur la sortie standard"
      ]
    },
    {
      "cell_type": "code",
      "metadata": {
        "colab": {
          "base_uri": "https://localhost:8080/"
        },
        "id": "dxzOcHNnAhjA",
        "outputId": "62fd2e46-b7c1-49fe-d555-014ffa893b1b"
      },
      "source": [
        "from multiprocessing import Process, Pipe\n",
        "\n",
        "\n",
        "class CustomClass:\n",
        "    pass\n",
        "\n",
        "\n",
        "def worker(connection):\n",
        "    while True:\n",
        "        instance = connection.recv()\n",
        "        if instance:\n",
        "            print(f\"CHLD: recv: {instance}\")\n",
        "        if instance is None:\n",
        "            break\n",
        "\n",
        "\n",
        "def main():\n",
        "    parent_conn, child_conn = Pipe()\n",
        "\n",
        "    child = Process(target=worker, args=(child_conn,))\n",
        "\n",
        "    for item in (\n",
        "        42,\n",
        "        \"some string\",\n",
        "        {\"one\": 1},\n",
        "        CustomClass(),\n",
        "        None,\n",
        "    ):\n",
        "        print(\"PRNT: send: {}\".format(item))\n",
        "        parent_conn.send(item)\n",
        "\n",
        "    child.start()\n",
        "    child.join()\n",
        "\n",
        "\n",
        "if __name__ == \"__main__\":\n",
        "    main()"
      ],
      "execution_count": null,
      "outputs": [
        {
          "output_type": "stream",
          "name": "stdout",
          "text": [
            "PRNT: send: 42\n",
            "PRNT: send: some string\n",
            "PRNT: send: {'one': 1}\n",
            "PRNT: send: <__main__.CustomClass object at 0x7f7972a9c750>\n",
            "PRNT: send: None\n",
            "CHLD: recv: 42\n",
            "CHLD: recv: some string\n",
            "CHLD: recv: {'one': 1}\n",
            "CHLD: recv: <__main__.CustomClass object at 0x7f7972abb490>\n"
          ]
        }
      ]
    },
    {
      "cell_type": "markdown",
      "metadata": {
        "id": "lHmrDr0nCTeQ"
      },
      "source": [
        "En examinant l'exemple de sortie du script précédent, vous verrez que vous pouvez facilement passer des instances de classe personnalisées et qu'elles ont des adresses différentes, selon le processus.\n",
        "\n",
        "L'autre façon de partager un état entre les processus consiste à utiliser des types bruts dans un pool de mémoire partagée avec des classes fournies dans multiprocessing.sharedctypes. Les plus basiques sont Value et Array. Voici un exemple de code issu de la documentation ofcielle du module multitraitement"
      ]
    },
    {
      "cell_type": "code",
      "metadata": {
        "colab": {
          "base_uri": "https://localhost:8080/"
        },
        "id": "5ejsiuVgC13S",
        "outputId": "03350253-ea6e-49a6-cebf-d06299213c3c"
      },
      "source": [
        "from multiprocessing import Process, Value, Array\n",
        "\n",
        "\n",
        "def f(n, a):\n",
        "    n.value = 3.1415927\n",
        "    for i in range(len(a)):\n",
        "        a[i] = -a[i]\n",
        "\n",
        "\n",
        "if __name__ == \"__main__\":\n",
        "    num = Value(\"d\", 0.0)\n",
        "    arr = Array(\"i\", range(10))\n",
        "\n",
        "    p = Process(target=f, args=(num, arr))\n",
        "    p.start()\n",
        "    p.join()\n",
        "\n",
        "    print(num.value)\n",
        "    print(arr[:])"
      ],
      "execution_count": null,
      "outputs": [
        {
          "output_type": "stream",
          "name": "stdout",
          "text": [
            "3.1415927\n",
            "[0, -1, -2, -3, -4, -5, -6, -7, -8, -9]\n"
          ]
        }
      ]
    },
    {
      "cell_type": "markdown",
      "metadata": {
        "id": "0VAFKB0mDMvF"
      },
      "source": [
        "Lorsque vous travaillez avec multiprocessing.sharedctypes, vous devez vous rappeler que vous avez affaire à de la mémoire partagée, donc pour éviter le risque de conditions de concurrence, vous devez toujours utiliser des primitives de verrouillage. le multitraitement fournit certaines des classes similaires à celles disponibles dans le module de thread, telles que Lock, RLock et Semaphore. L'inconvénient des classes de sharedctypes est qu'elles ne vous permettent de partager que les types C de base du module ctypes. Si vous devez transmettre des structures ou des instances de classe plus complexes, vous devez plutôt utiliser Queue, Pipe ou d'autres canaux de communication inter-processus. Dans la plupart des cas, il est raisonnable d'éviter les types de sharectypes car ils augmentent la complexité du code et apportent tous les dangers du multithreading. \n",
        "\n",
        "Nous avons déjà mentionné que le module multiprocessing permet de réduire la quantité de passe-partout grâce à quelques fonctionnalités supplémentaires. Une de ces fonctionnalités est les pools de processus intégrés. Nous verrons comment les utiliser dans la section suivante"
      ]
    },
    {
      "cell_type": "markdown",
      "metadata": {
        "id": "ph3niy-BDru_"
      },
      "source": [
        "## Utilisation de pools de processus\n",
        "\n",
        "L'utilisation de plusieurs processus au lieu de threads ajoute une certaine surcharge. La plupart du temps, cela augmente l'empreinte mémoire car chaque processus a son propre contexte mémoire indépendant. Cela signifie qu'autoriser un nombre illimité de processus enfants peut être plus problématique que d'autoriser un nombre illimité de threads dans des applications multithread.\n",
        "\n",
        "Le meilleur modèle pour contrôler l'utilisation des ressources dans les applications qui reposent sur le multitraitement est de créer un pool de processus d'une manière similaire à ce que nous avons décrit pour les threads dans la section Utilisation d'un pool de threads. Et la meilleure chose à propos du module de multitraitement est qu'il fournit un Une classe Pool prête à l'emploi qui gère toute la complexité de la gestion de plusieurs travailleurs de processus pour vous. Cette mise en œuvre de pool réduit considérablement la quantité de passe-partout requis et le nombre de problèmes liés à la communication bidirectionnelle. Vous n'avez pas non plus besoin d'utiliser la méthode join() manuellement, car Pool peut être utilisé comme gestionnaire de contexte (en utilisant l'instruction with). Voici l'un de nos précédents exemples de threads, réécrit pour utiliser la classe Pool du module de multitraitement"
      ]
    },
    {
      "cell_type": "code",
      "metadata": {
        "colab": {
          "base_uri": "https://localhost:8080/"
        },
        "id": "FJFEo_6OENhe",
        "outputId": "97b920f0-27d1-4b05-b46a-094728bf1716"
      },
      "source": [
        "import time\n",
        "from multiprocessing import Pool\n",
        "\n",
        "import requests\n",
        "\n",
        "\n",
        "SYMBOLS = (\"USD\", \"EUR\", \"PLN\", \"NOK\", \"CZK\")\n",
        "BASES = (\"USD\", \"EUR\", \"PLN\", \"NOK\", \"CZK\")\n",
        "\n",
        "POOL_SIZE = 4\n",
        "\n",
        "\n",
        "def fetch_rates(base):\n",
        "    response = requests.get(f\"https://api.vatcomply.com/rates?base={base}\")\n",
        "    response.raise_for_status()\n",
        "    rates = response.json()[\"rates\"]\n",
        "    # note: same currency exchanges to itself 1:1\n",
        "    rates[base] = 1.0\n",
        "    return base, rates\n",
        "\n",
        "\n",
        "def present_result(base, rates):\n",
        "    rates_line = \", \".join([f\"{rates[symbol]:7.03} {symbol}\" for symbol in SYMBOLS])\n",
        "    print(f\"1 {base} = {rates_line}\")\n",
        "\n",
        "\n",
        "def main():\n",
        "    with Pool(POOL_SIZE) as pool:\n",
        "        results = pool.map(fetch_rates, BASES)\n",
        "\n",
        "    for result in results:\n",
        "        present_result(*result)\n",
        "\n",
        "\n",
        "if __name__ == \"__main__\":\n",
        "    started = time.time()\n",
        "    main()\n",
        "    elapsed = time.time() - started\n",
        "\n",
        "    print()\n",
        "    print(\"time elapsed: {:.2f}s\".format(elapsed))"
      ],
      "execution_count": null,
      "outputs": [
        {
          "output_type": "stream",
          "name": "stdout",
          "text": [
            "1 USD =     1.0 USD,    0.86 EUR,    3.95 PLN,    8.35 NOK,    22.1 CZK\n",
            "1 EUR =    1.16 USD,     1.0 EUR,     4.6 PLN,    9.71 NOK,    25.7 CZK\n",
            "1 PLN =   0.253 USD,   0.218 EUR,     1.0 PLN,    2.11 NOK,    5.58 CZK\n",
            "1 NOK =    0.12 USD,   0.103 EUR,   0.474 PLN,     1.0 NOK,    2.64 CZK\n",
            "1 CZK =  0.0453 USD,   0.039 EUR,   0.179 PLN,   0.378 NOK,     1.0 CZK\n",
            "\n",
            "time elapsed: 0.96s\n"
          ]
        }
      ]
    },
    {
      "cell_type": "markdown",
      "metadata": {
        "id": "xN_MItioEvxr"
      },
      "source": [
        "Comme vous pouvez le voir, gérer le pool de travailleurs est désormais plus simple car nous n'avons pas à gérer nos propres files d'attente de travail et méthodes start()/join(). Le code serait désormais plus facile à maintenir et à déboguer en cas de problème. En fait, la seule partie du code qui traite explicitement du multitraitement est la fonction main().\n",
        "\n",
        "Nous n'avons plus à traiter de files d'attente explicites pour transmettre des résultats et nous n'avons pas à nous demander ce qui se passe lorsqu'un des sous-processus lève une exception. C'est une grande amélioration par rapport à la situation où nous devions créer le pool de travailleurs à partir de zéro. Désormais, nous n'avons même plus besoin de nous soucier des canaux de communication car ils sont créés implicitement dans l'implémentation de la classe Pool.\n",
        "\n",
        "Cela ne signifie pas que le multithreading doit toujours être gênant. Voyons comment utiliser multiprocessing.dummy comme interface multithread dans la section suivante"
      ]
    },
    {
      "cell_type": "markdown",
      "metadata": {
        "id": "sY_DgsZ-FSuY"
      },
      "source": [
        "## Utilisation de multiprocessing.dummy comme interface de multithreading\n",
        "\n",
        "Les abstractions de haut niveau du module de multiprocessing, telles que la classe Pool, offrent de grands avantages par rapport aux outils simples fournis dans le module de threading. Mais cela ne signifie pas que le multitraitement est toujours meilleur que le multithreading. Il existe de nombreux cas d'utilisation où les threads peuvent être une meilleure solution que les processus. Cela est particulièrement vrai pour les situations où une faible latence et/ou une efficacité élevée des ressources sont requises. \n",
        "\n",
        "Néanmoins, cela ne signifie pas que vous devez sacrifier toutes les abstractions utiles du module de multitraitement chaque fois que vous souhaitez utiliser des threads au lieu de processus. . Il existe le module multiprocessing.dummy, qui réplique l'API de multitraitement mais utilise plusieurs threads au lieu de créer de nouveaux processus. \n",
        "\n",
        "\n",
        "Cela vous permet de réduire la quantité de passe-partout dans votre code et d'avoir une structure de code plus enfichable. Par exemple, jetons un autre coup d'œil à notre fonction main() de la section précédente. Nous pourrions donner à l'utilisateur le contrôle sur le backend de traitement à utiliser (processus ou threads). Nous pourrions le faire simplement en remplaçant la classe du constructeur d'objets Pool, comme suit"
      ]
    },
    {
      "cell_type": "code",
      "metadata": {
        "colab": {
          "base_uri": "https://localhost:8080/"
        },
        "id": "VyknFufoF8Dn",
        "outputId": "18af8fb9-1f2b-441a-f470-bbbd8277cbb4"
      },
      "source": [
        "import time\n",
        "from multiprocessing.pool import Pool as ProcessPool, ThreadPool\n",
        "\n",
        "import requests\n",
        "\n",
        "\n",
        "SYMBOLS = (\"USD\", \"EUR\", \"PLN\", \"NOK\", \"CZK\")\n",
        "BASES = (\"USD\", \"EUR\", \"PLN\", \"NOK\", \"CZK\")\n",
        "\n",
        "POOL_SIZE = 4\n",
        "\n",
        "\n",
        "def fetch_rates(base):\n",
        "    response = requests.get(f\"https://api.vatcomply.com/rates?base={base}\")\n",
        "    response.raise_for_status()\n",
        "    rates = response.json()[\"rates\"]\n",
        "    # note: same currency exchanges to itself 1:1\n",
        "    rates[base] = 1.0\n",
        "    return base, rates\n",
        "\n",
        "\n",
        "def present_result(base, rates):\n",
        "    rates_line = \", \".join([f\"{rates[symbol]:7.03} {symbol}\" for symbol in SYMBOLS])\n",
        "    print(f\"1 {base} = {rates_line}\")\n",
        "\n",
        "\n",
        "def main(use_threads=False):\n",
        "    if use_threads:\n",
        "        pool_cls = ThreadPool\n",
        "    else:\n",
        "        pool_cls = ProcessPool\n",
        "\n",
        "    with pool_cls(POOL_SIZE) as pool:\n",
        "        results = pool.map(fetch_rates, BASES)\n",
        "\n",
        "    for result in results:\n",
        "        present_result(*result)\n",
        "\n",
        "\n",
        "if __name__ == \"__main__\":\n",
        "    started = time.time()\n",
        "    main()\n",
        "    elapsed = time.time() - started\n",
        "\n",
        "    print()\n",
        "    print(\"time elapsed: {:.2f}s\".format(elapsed))"
      ],
      "execution_count": null,
      "outputs": [
        {
          "output_type": "stream",
          "name": "stdout",
          "text": [
            "1 USD =     1.0 USD,    0.86 EUR,    3.95 PLN,    8.35 NOK,    22.1 CZK\n",
            "1 EUR =    1.16 USD,     1.0 EUR,     4.6 PLN,    9.71 NOK,    25.7 CZK\n",
            "1 PLN =   0.253 USD,   0.218 EUR,     1.0 PLN,    2.11 NOK,    5.58 CZK\n",
            "1 NOK =    0.12 USD,   0.103 EUR,   0.474 PLN,     1.0 NOK,    2.64 CZK\n",
            "1 CZK =  0.0453 USD,   0.039 EUR,   0.179 PLN,   0.378 NOK,     1.0 CZK\n",
            "\n",
            "time elapsed: 0.95s\n"
          ]
        }
      ]
    },
    {
      "cell_type": "markdown",
      "metadata": {
        "id": "Y0ZskfkFGRfn"
      },
      "source": [
        "Cet aspect du module de multitraitement montre que le multitraitement et le multithreading ont beaucoup en commun. Ils s'appuient tous les deux sur le système d'exploitation pour faciliter la concurrence. Ils peuvent également être exploités de manière similaire et utilisent souvent des abstractions similaires pour assurer la sécurité de la communication ou de la mémoire. Une approche complètement différente de la concurrence est la programmation asynchrone, qui ne repose sur aucune capacité du système d'exploitation pour assurer le traitement simultané des informations. Jetons un coup d'œil à ce modèle de concurrence dans la section suivante"
      ]
    },
    {
      "cell_type": "markdown",
      "metadata": {
        "id": "LLkKY_EOG2Q-"
      },
      "source": [
        "## Programmation asynchrone\n",
        "\n",
        "La programmation asynchrone a beaucoup gagné en popularité ces dernières années. Dans Python 3.5, nous avons finalement obtenu des fonctionnalités de syntaxe qui ont solidifié les concepts d'exécution asynchrone. Mais cela ne signifie pas que la programmation asynchrone n'était pas possible avant Python 3.5. \n",
        "\n",
        "De nombreuses bibliothèques et frameworks ont été fournis bien plus tôt, et la plupart d'entre eux ont pour origine les anciennes versions de Python 2. Il existe même une implémentation alternative complète de Python appelée Stackless Python qui se concentre sur cette approche de programmation unique. Le moyen le plus simple de penser à la programmation asynchrone en Python, c'est imaginer quelque chose de similaire aux threads, mais sans planification du système impliquée. Cela signifie qu'un programme asynchrone peut traiter simultanément des informations, mais le contexte d'exécution est commuté en interne et non par le planificateur système. Mais, bien sûr, nous n'utilisons pas de threads pour gérer simultanément le travail dans un programme asynchrone. \n",
        "\n",
        "\n",
        "De nombreuses solutions de programmation asynchrones utilisent différents types de concepts et, selon l'implémentation, ils sont nommés différemment. Voici quelques exemples de noms utilisés pour décrire de telles entités de programme concurrent : \n",
        "\n",
        "* Threads ou greenlets verts (projets greenlet, gevent ou eventlet) \n",
        "* Coroutines (programmation asynchrone native Python 3.5)\n",
        "* Tasklets (Python sans pile)\n",
        "\n",
        "Ce sont principalement les mêmes concepts mais souvent implémentés de manières légèrement différentes. Pour des raisons évidentes, dans cette section, nous nous concentrerons uniquement sur les coroutines nativement supportées par Python, à partir de la version 3.5"
      ]
    },
    {
      "cell_type": "markdown",
      "metadata": {
        "id": "iAVJASeLHsrX"
      },
      "source": [
        "## Multitâche coopératif et I/O asynchrone\n",
        "\n",
        "Le multitâche coopératif est au cœur de la programmation asynchrone. Dans ce style de multitâche informatique, il n'est pas de la responsabilité du système d'exploitation d'initier un changement de contexte (vers un autre processus ou thread). Au lieu de cela, chaque processus libère volontairement le contrôle lorsqu'il est inactif pour permettre l'exécution simultanée de plusieurs programmes. C'est pourquoi on l'appelle multitâche coopératif. \n",
        "\n",
        "Tous les processus doivent coopérer afin d'effectuer plusieurs tâches en douceur. Ce modèle de multitâche était parfois utilisé dans le système d'exploitation, mais il est désormais difficile à trouver en tant que solution au niveau du système. En effet, il existe un risque qu'un service mal conçu puisse facilement briser la stabilité de l'ensemble du système. \n",
        "\n",
        "\n",
        "La planification des threads et des processus avec des commutateurs de contexte gérés directement par le système d'exploitation est désormais l'approche dominante pour la concurrence au niveau du système d'exploitation. Mais le multitâche coopératif reste un excellent outil de concurrence au niveau de l'application. Lorsque nous effectuons le multitâche coopératif au niveau de l'application, nous ne traitons pas les threads ou les processus qui doivent libérer le contrôle car toute l'exécution est contenue dans un seul processus et thread. Au lieu de cela, nous avons plusieurs tâches (coroutines, tasklets ou threads verts) qui libèrent le contrôle de la fonction unique qui gère la coordination des tâches. Cette fonction est généralement une sorte de boucle d'événement.\n",
        "\n",
        "\n",
        "Le problème le plus important dans le multitâche coopératif est de savoir quand libérer le contrôle. Dans la plupart des applications asynchrones, le contrôle est transmis au planificateur ou à la boucle d'événements sur les opérations d'E/S. Peu importe si le programme lit les données du système de fichiers ou communique via un socket, car de telles opérations d'E/S entraînent toujours un certain temps d'attente lorsque le processus devient inactif. Le temps d'attente dépend de la ressource externe, c'est donc une bonne occasion de libérer le contrôle afin que d'autres coroutines puissent faire leur travail jusqu'à ce qu'elles aient également besoin d'attendre. \n",
        "\n",
        "\n",
        "Python. Nous savons que le GIL sérialise les threads Python, mais il est également publié à chaque opération d'E/S. La principale différence est que les threads en Python sont implémentés en tant que threads au niveau du système afin que le système d'exploitation puisse préempter le thread en cours d'exécution et donner le contrôle à l'autre à tout moment. \n",
        "\n",
        "Dans la programmation asynchrone, les tâches ne sont jamais préemptées par la boucle d'événements principale et doivent à la place retourner le contrôle explicitement. C'est pourquoi ce style de multitâche est également appelé multitâche non préemptif. Cela réduit le temps perdu lors du changement de contexte et fonctionne mieux avec l'implémentation GIL de CPython. Bien sûr, chaque application Python s'exécute sur un système d'exploitation où d'autres processus se disputent les ressources. \n",
        "\n",
        "Cela signifie que le système d'exploitation a toujours le droit de préempter l'ensemble du processus et de donner le contrôle à un autre processus. Mais lorsque notre application asynchrone est en cours d'exécution, elle continue à partir du même endroit où elle a été interrompue lorsque le planificateur système est intervenu. C'est pourquoi les coroutines sont toujours considérées comme non préemptives. \n",
        "\n",
        "Dans la section suivante, nous examinerons l'async et attendre les mots-clés, qui sont l'épine dorsale du multitâche coopératif en Python"
      ]
    },
    {
      "cell_type": "markdown",
      "metadata": {
        "id": "UAyQt8SJJi7b"
      },
      "source": [
        "## Mots-clés Python async et wait\n",
        "\n",
        "Les mots-clés async et wait sont les principaux blocs de construction de la programmation asynchrone Python. \n",
        "\n",
        "Le mot-clé async, lorsqu'il est utilisé avant l'instruction def, dénit une nouvelle coroutine. L'exécution de la fonction coroutine peut être suspendue et reprise dans des circonstances strictement définies. Sa syntaxe et son comportement sont très similaires aux générateurs. En fait, les générateurs doivent être utilisés dans les anciennes versions de Python chaque fois que vous souhaitez implémenter des coroutines. Voici un exemple de déclaration de fonction qui utilise le mot-clé async"
      ]
    },
    {
      "cell_type": "code",
      "metadata": {
        "id": "3Z_6QBtpJ0_1"
      },
      "source": [
        "async def async_hello():     \n",
        "  print(\"hello, world!\")"
      ],
      "execution_count": null,
      "outputs": []
    },
    {
      "cell_type": "markdown",
      "metadata": {
        "id": "lbo6p1tOJ6vf"
      },
      "source": [
        "\n",
        "Les fonctions définies avec le mot-clé async sont spéciales. Lorsqu'ils sont appelés, ils n'exécutent pas le code à l'intérieur, mais renvoient à la place un objet coroutine. Considérez l'exemple suivant d'une session Python interactive"
      ]
    },
    {
      "cell_type": "code",
      "metadata": {
        "colab": {
          "base_uri": "https://localhost:8080/"
        },
        "id": "29qtUUGVKCM9",
        "outputId": "5238e8b8-4cba-45c6-ad0e-8450c7a17688"
      },
      "source": [
        "async def async_hello():\n",
        "  print(\"hello, world!\")\n",
        "  \n",
        "async_hello()"
      ],
      "execution_count": null,
      "outputs": [
        {
          "output_type": "execute_result",
          "data": {
            "text/plain": [
              "<coroutine object async_hello at 0x7f7972867440>"
            ]
          },
          "metadata": {},
          "execution_count": 44
        }
      ]
    },
    {
      "cell_type": "markdown",
      "metadata": {
        "id": "PoE7H7AQKLFI"
      },
      "source": [
        "L'objet coroutine ne fait rien tant que son exécution n'est pas planifiée dans la boucle d'événement. Le module asyncio est disponible afin de fournir l'implémentation de base de la boucle d'événements, ainsi que de nombreux autres utilitaires asynchrones. L'exemple suivant présente une tentative de planification manuelle d'une exécution de coroutine dans une session Python interactive"
      ]
    },
    {
      "cell_type": "markdown",
      "metadata": {
        "id": "6EqKh282K-HI"
      },
      "source": [
        "Évidemment, puisque nous n'avons créé qu'une seule coroutine simple, il n'y a pas de simultanéité impliquée dans notre programme. Afin de voir quelque chose qui est réellement concurrent, nous devons créer plus de tâches qui seront exécutées par la boucle d'événements. De nouvelles tâches peuvent être ajoutées à la boucle en appelant la méthode loop.create_task() ou en fournissant un objet \"en attente\" à la fonction asyncio.wait(). Si vous avez plusieurs tâches ou coroutines à attendre, vous pouvez utiliser asyncio.gather() pour les agréger en un seul objet. Nous allons utiliser cette dernière approche et essayer d'imprimer de manière asynchrone une séquence de nombres qui a été générée avec la fonction range(), comme suit"
      ]
    },
    {
      "cell_type": "code",
      "metadata": {
        "id": "20XbmwbLL3Y5"
      },
      "source": [
        "import asyncio\n",
        "import random\n",
        "\n",
        "\n",
        "async def print_number(number):\n",
        "    await asyncio.sleep(0)\n",
        "    print(number)\n",
        "\n",
        "\n",
        "if __name__ == \"__main__\":\n",
        "    loop = asyncio.get_event_loop()\n",
        "\n",
        "    loop.run_until_complete(\n",
        "        asyncio.gather(*[\n",
        "            print_number(number)\n",
        "            for number in range(10)\n",
        "        ])\n",
        "    )\n",
        "    loop.close()"
      ],
      "execution_count": null,
      "outputs": []
    },
    {
      "cell_type": "markdown",
      "metadata": {
        "id": "vJKHljkyMoNG"
      },
      "source": [
        "La fonction asyncio.gather() accepte plusieurs objets coroutine et renvoie immédiatement. Il accepte un nombre variable d'arguments positionnels. C'est pourquoi nous avons utilisé la syntaxe de décompactage des arguments (l'opérateur *) pour décompresser la liste des coroutines en tant qu'arguments. Comme son nom l'indique, asyncio.gather() est utilisé pour rassembler plusieurs coroutines afin de les exécuter simultanément. Le résultat est un objet qui représente un résultat futur (un soi-disant futur) de l'exécution de toutes les coroutines fournies. La méthode loop.run_until_complete() exécute la boucle d'événement jusqu'à ce que le futur donné soit terminé.\n",
        "\n",
        "Nous avons utilisé asyncio.sleep(random.random()) pour souligner le fonctionnement asynchrone des coroutines. Grâce à cela, les coroutines peuvent s'entrelacer les unes avec les autres. Nous n'avons pas pu obtenir le même résultat (c'est-à-dire l'entrelacement des coroutines) avec une fonction time.sleep() ordinaire. Les coroutines peuvent commencer à s'entremêler lorsqu'elles libèrent le contrôle de l'exécution. Cela se fait par le mot-clé wait. Il suspend l'exécution de la coroutine qui attend les résultats d'une autre coroutine ou future.\n",
        "\n",
        "\n",
        "Chaque fois qu'une fonction attend, elle libère le contrôle de l'exécution de la boucle d'événements. Pour mieux comprendre comment cela fonctionne, nous devons examiner un exemple de code plus complexe. Disons que nous voulons créer deux coroutines qui effectueront toutes les deux la même tâche simple en boucle :\n",
        "\n",
        "* Attendez un nombre aléatoire de secondes\n",
        "* Imprimez du texte fourni comme argument et le temps passé dans sleep\n",
        "\n",
        "\n",
        "Commençons par l'implémentation simple suivante qui n'utilise pas le mot-clé wait"
      ]
    },
    {
      "cell_type": "code",
      "metadata": {
        "colab": {
          "base_uri": "https://localhost:8080/",
          "height": 370
        },
        "id": "zOkpL1QVNuXq",
        "outputId": "1afd7fda-db10-468e-d5d9-f1d17b4dc7da"
      },
      "source": [
        "import asyncio\n",
        "import random\n",
        "import time\n",
        "\n",
        "\n",
        "async def waiter(name):\n",
        "    for _ in range(4):\n",
        "        time_to_sleep = random.randint(1, 3) / 4\n",
        "        time.sleep(time_to_sleep)\n",
        "        print(f\"{name} waited {time_to_sleep} seconds\")\n",
        "\n",
        "\n",
        "if __name__ == \"__main__\":\n",
        "    loop = asyncio.get_event_loop()\n",
        "    loop.run_until_complete(asyncio.gather(waiter(\"first\"), waiter(\"second\")))\n",
        "    loop.close()"
      ],
      "execution_count": null,
      "outputs": [
        {
          "output_type": "error",
          "ename": "RuntimeError",
          "evalue": "ignored",
          "traceback": [
            "\u001b[0;31m---------------------------------------------------------------------------\u001b[0m",
            "\u001b[0;31mRuntimeError\u001b[0m                              Traceback (most recent call last)",
            "\u001b[0;32m<ipython-input-3-4e75ad995499>\u001b[0m in \u001b[0;36m<module>\u001b[0;34m()\u001b[0m\n\u001b[1;32m     13\u001b[0m \u001b[0;32mif\u001b[0m \u001b[0m__name__\u001b[0m \u001b[0;34m==\u001b[0m \u001b[0;34m\"__main__\"\u001b[0m\u001b[0;34m:\u001b[0m\u001b[0;34m\u001b[0m\u001b[0;34m\u001b[0m\u001b[0m\n\u001b[1;32m     14\u001b[0m     \u001b[0mloo\u001b[0m \u001b[0;34m=\u001b[0m \u001b[0masyncio\u001b[0m\u001b[0;34m.\u001b[0m\u001b[0mget_event_loop\u001b[0m\u001b[0;34m(\u001b[0m\u001b[0;34m)\u001b[0m\u001b[0;34m\u001b[0m\u001b[0;34m\u001b[0m\u001b[0m\n\u001b[0;32m---> 15\u001b[0;31m     \u001b[0mloo\u001b[0m\u001b[0;34m.\u001b[0m\u001b[0mrun_until_complete\u001b[0m\u001b[0;34m(\u001b[0m\u001b[0masyncio\u001b[0m\u001b[0;34m.\u001b[0m\u001b[0mgather\u001b[0m\u001b[0;34m(\u001b[0m\u001b[0mwaiter\u001b[0m\u001b[0;34m(\u001b[0m\u001b[0;34m\"first\"\u001b[0m\u001b[0;34m)\u001b[0m\u001b[0;34m,\u001b[0m \u001b[0mwaiter\u001b[0m\u001b[0;34m(\u001b[0m\u001b[0;34m\"second\"\u001b[0m\u001b[0;34m)\u001b[0m\u001b[0;34m)\u001b[0m\u001b[0;34m)\u001b[0m\u001b[0;34m\u001b[0m\u001b[0;34m\u001b[0m\u001b[0m\n\u001b[0m\u001b[1;32m     16\u001b[0m     \u001b[0mloo\u001b[0m\u001b[0;34m.\u001b[0m\u001b[0mclose\u001b[0m\u001b[0;34m(\u001b[0m\u001b[0;34m)\u001b[0m\u001b[0;34m\u001b[0m\u001b[0;34m\u001b[0m\u001b[0m\n",
            "\u001b[0;32m/usr/lib/python3.7/asyncio/base_events.py\u001b[0m in \u001b[0;36mrun_until_complete\u001b[0;34m(self, future)\u001b[0m\n\u001b[1;32m    561\u001b[0m         \"\"\"\n\u001b[1;32m    562\u001b[0m         \u001b[0mself\u001b[0m\u001b[0;34m.\u001b[0m\u001b[0m_check_closed\u001b[0m\u001b[0;34m(\u001b[0m\u001b[0;34m)\u001b[0m\u001b[0;34m\u001b[0m\u001b[0;34m\u001b[0m\u001b[0m\n\u001b[0;32m--> 563\u001b[0;31m         \u001b[0mself\u001b[0m\u001b[0;34m.\u001b[0m\u001b[0m_check_runnung\u001b[0m\u001b[0;34m(\u001b[0m\u001b[0;34m)\u001b[0m\u001b[0;34m\u001b[0m\u001b[0;34m\u001b[0m\u001b[0m\n\u001b[0m\u001b[1;32m    564\u001b[0m \u001b[0;34m\u001b[0m\u001b[0m\n\u001b[1;32m    565\u001b[0m         \u001b[0mnew_task\u001b[0m \u001b[0;34m=\u001b[0m \u001b[0;32mnot\u001b[0m \u001b[0mfutures\u001b[0m\u001b[0;34m.\u001b[0m\u001b[0misfuture\u001b[0m\u001b[0;34m(\u001b[0m\u001b[0mfuture\u001b[0m\u001b[0;34m)\u001b[0m\u001b[0;34m\u001b[0m\u001b[0;34m\u001b[0m\u001b[0m\n",
            "\u001b[0;32m/usr/lib/python3.7/asyncio/base_events.py\u001b[0m in \u001b[0;36m_check_runnung\u001b[0;34m(self)\u001b[0m\n\u001b[1;32m    521\u001b[0m     \u001b[0;32mdef\u001b[0m \u001b[0m_check_runnung\u001b[0m\u001b[0;34m(\u001b[0m\u001b[0mself\u001b[0m\u001b[0;34m)\u001b[0m\u001b[0;34m:\u001b[0m\u001b[0;34m\u001b[0m\u001b[0;34m\u001b[0m\u001b[0m\n\u001b[1;32m    522\u001b[0m         \u001b[0;32mif\u001b[0m \u001b[0mself\u001b[0m\u001b[0;34m.\u001b[0m\u001b[0mis_running\u001b[0m\u001b[0;34m(\u001b[0m\u001b[0;34m)\u001b[0m\u001b[0;34m:\u001b[0m\u001b[0;34m\u001b[0m\u001b[0;34m\u001b[0m\u001b[0m\n\u001b[0;32m--> 523\u001b[0;31m             \u001b[0;32mraise\u001b[0m \u001b[0mRuntimeError\u001b[0m\u001b[0;34m(\u001b[0m\u001b[0;34m'This event loop is already running'\u001b[0m\u001b[0;34m)\u001b[0m\u001b[0;34m\u001b[0m\u001b[0;34m\u001b[0m\u001b[0m\n\u001b[0m\u001b[1;32m    524\u001b[0m         \u001b[0;32mif\u001b[0m \u001b[0mevents\u001b[0m\u001b[0;34m.\u001b[0m\u001b[0m_get_running_loop\u001b[0m\u001b[0;34m(\u001b[0m\u001b[0;34m)\u001b[0m \u001b[0;32mis\u001b[0m \u001b[0;32mnot\u001b[0m \u001b[0;32mNone\u001b[0m\u001b[0;34m:\u001b[0m\u001b[0;34m\u001b[0m\u001b[0;34m\u001b[0m\u001b[0m\n\u001b[1;32m    525\u001b[0m             raise RuntimeError(\n",
            "\u001b[0;31mRuntimeError\u001b[0m: This event loop is already running"
          ]
        }
      ]
    },
    {
      "cell_type": "markdown",
      "metadata": {
        "id": "_q8rNx5LT4md"
      },
      "source": [
        "Comme on peut le voir, les deux coroutines ont terminé leur exécution, mais pas de manière asynchrone. La raison en est qu'ils utilisent tous les deux la fonction time.sleep(), qui bloque mais ne libère pas le contrôle de la boucle d'événements. \n",
        "\n",
        "Cela fonctionnerait mieux dans une configuration multithread, mais nous ne voulons pas utiliser de threads maintenant. Alors, comment pouvons-nous corriger cela ? La réponse est d'utiliser asyncio.sleep(), qui est la version asynchrone de time.sleep(), et d'attendre son résultat en utilisant le mot-clé wait. Voyons la version améliorée suivante de la coroutine waiter(), qui utilise l'instruction wait asyncio.sleep()"
      ]
    },
    {
      "cell_type": "code",
      "metadata": {
        "colab": {
          "base_uri": "https://localhost:8080/",
          "height": 370
        },
        "id": "ME2zNj22UT4-",
        "outputId": "3a10d79a-2c9f-40e0-b36a-01151baf6ab8"
      },
      "source": [
        "import asyncio\n",
        "import random\n",
        "\n",
        "\n",
        "async def waiter(name):\n",
        "    for _ in range(4):\n",
        "        time_to_sleep = random.randint(1, 3) / 4\n",
        "        await asyncio.sleep(time_to_sleep)\n",
        "        print(f\"{name} waited {time_to_sleep} seconds\")\n",
        "\n",
        "\n",
        "async def main():\n",
        "    await asyncio.gather(waiter(\"first\"), waiter(\"second\"))\n",
        "\n",
        "\n",
        "if __name__ == \"__main__\":\n",
        "    loop = asyncio.get_event_loop()\n",
        "    loop.run_until_complete(main())\n",
        "    loop.close()"
      ],
      "execution_count": null,
      "outputs": [
        {
          "output_type": "error",
          "ename": "RuntimeError",
          "evalue": "ignored",
          "traceback": [
            "\u001b[0;31m---------------------------------------------------------------------------\u001b[0m",
            "\u001b[0;31mRuntimeError\u001b[0m                              Traceback (most recent call last)",
            "\u001b[0;32m<ipython-input-3-09432c8abb14>\u001b[0m in \u001b[0;36m<module>\u001b[0;34m()\u001b[0m\n\u001b[1;32m     16\u001b[0m \u001b[0;32mif\u001b[0m \u001b[0m__name__\u001b[0m \u001b[0;34m==\u001b[0m \u001b[0;34m\"__main__\"\u001b[0m\u001b[0;34m:\u001b[0m\u001b[0;34m\u001b[0m\u001b[0;34m\u001b[0m\u001b[0m\n\u001b[1;32m     17\u001b[0m     \u001b[0mloop\u001b[0m \u001b[0;34m=\u001b[0m \u001b[0masyncio\u001b[0m\u001b[0;34m.\u001b[0m\u001b[0mget_event_loop\u001b[0m\u001b[0;34m(\u001b[0m\u001b[0;34m)\u001b[0m\u001b[0;34m\u001b[0m\u001b[0;34m\u001b[0m\u001b[0m\n\u001b[0;32m---> 18\u001b[0;31m     \u001b[0mloop\u001b[0m\u001b[0;34m.\u001b[0m\u001b[0mrun_until_complete\u001b[0m\u001b[0;34m(\u001b[0m\u001b[0mmain\u001b[0m\u001b[0;34m(\u001b[0m\u001b[0;34m)\u001b[0m\u001b[0;34m)\u001b[0m\u001b[0;34m\u001b[0m\u001b[0;34m\u001b[0m\u001b[0m\n\u001b[0m\u001b[1;32m     19\u001b[0m     \u001b[0mloop\u001b[0m\u001b[0;34m.\u001b[0m\u001b[0mclose\u001b[0m\u001b[0;34m(\u001b[0m\u001b[0;34m)\u001b[0m\u001b[0;34m\u001b[0m\u001b[0;34m\u001b[0m\u001b[0m\n",
            "\u001b[0;32m/usr/lib/python3.7/asyncio/base_events.py\u001b[0m in \u001b[0;36mrun_until_complete\u001b[0;34m(self, future)\u001b[0m\n\u001b[1;32m    561\u001b[0m         \"\"\"\n\u001b[1;32m    562\u001b[0m         \u001b[0mself\u001b[0m\u001b[0;34m.\u001b[0m\u001b[0m_check_closed\u001b[0m\u001b[0;34m(\u001b[0m\u001b[0;34m)\u001b[0m\u001b[0;34m\u001b[0m\u001b[0;34m\u001b[0m\u001b[0m\n\u001b[0;32m--> 563\u001b[0;31m         \u001b[0mself\u001b[0m\u001b[0;34m.\u001b[0m\u001b[0m_check_runnung\u001b[0m\u001b[0;34m(\u001b[0m\u001b[0;34m)\u001b[0m\u001b[0;34m\u001b[0m\u001b[0;34m\u001b[0m\u001b[0m\n\u001b[0m\u001b[1;32m    564\u001b[0m \u001b[0;34m\u001b[0m\u001b[0m\n\u001b[1;32m    565\u001b[0m         \u001b[0mnew_task\u001b[0m \u001b[0;34m=\u001b[0m \u001b[0;32mnot\u001b[0m \u001b[0mfutures\u001b[0m\u001b[0;34m.\u001b[0m\u001b[0misfuture\u001b[0m\u001b[0;34m(\u001b[0m\u001b[0mfuture\u001b[0m\u001b[0;34m)\u001b[0m\u001b[0;34m\u001b[0m\u001b[0;34m\u001b[0m\u001b[0m\n",
            "\u001b[0;32m/usr/lib/python3.7/asyncio/base_events.py\u001b[0m in \u001b[0;36m_check_runnung\u001b[0;34m(self)\u001b[0m\n\u001b[1;32m    521\u001b[0m     \u001b[0;32mdef\u001b[0m \u001b[0m_check_runnung\u001b[0m\u001b[0;34m(\u001b[0m\u001b[0mself\u001b[0m\u001b[0;34m)\u001b[0m\u001b[0;34m:\u001b[0m\u001b[0;34m\u001b[0m\u001b[0;34m\u001b[0m\u001b[0m\n\u001b[1;32m    522\u001b[0m         \u001b[0;32mif\u001b[0m \u001b[0mself\u001b[0m\u001b[0;34m.\u001b[0m\u001b[0mis_running\u001b[0m\u001b[0;34m(\u001b[0m\u001b[0;34m)\u001b[0m\u001b[0;34m:\u001b[0m\u001b[0;34m\u001b[0m\u001b[0;34m\u001b[0m\u001b[0m\n\u001b[0;32m--> 523\u001b[0;31m             \u001b[0;32mraise\u001b[0m \u001b[0mRuntimeError\u001b[0m\u001b[0;34m(\u001b[0m\u001b[0;34m'This event loop is already running'\u001b[0m\u001b[0;34m)\u001b[0m\u001b[0;34m\u001b[0m\u001b[0;34m\u001b[0m\u001b[0m\n\u001b[0m\u001b[1;32m    524\u001b[0m         \u001b[0;32mif\u001b[0m \u001b[0mevents\u001b[0m\u001b[0;34m.\u001b[0m\u001b[0m_get_running_loop\u001b[0m\u001b[0;34m(\u001b[0m\u001b[0;34m)\u001b[0m \u001b[0;32mis\u001b[0m \u001b[0;32mnot\u001b[0m \u001b[0;32mNone\u001b[0m\u001b[0;34m:\u001b[0m\u001b[0;34m\u001b[0m\u001b[0;34m\u001b[0m\u001b[0m\n\u001b[1;32m    525\u001b[0m             raise RuntimeError(\n",
            "\u001b[0;31mRuntimeError\u001b[0m: This event loop is already running"
          ]
        }
      ]
    },
    {
      "cell_type": "markdown",
      "metadata": {
        "id": "yKEOKCqeUY-Z"
      },
      "source": [
        "\n",
        "L'avantage supplémentaire de cette simple amélioration est que le code s'exécute plus rapidement. Le temps d'exécution global était inférieur à la somme de tous les temps de sommeil car les coroutines libéraient le contrôle en coopération. Jetons un coup d'œil à un exemple plus pratique de programmation asynchrone dans la section suivante"
      ]
    },
    {
      "cell_type": "markdown",
      "metadata": {
        "id": "P0K5hmUOVFrG"
      },
      "source": [
        "## Un exemple pratique de programmation asynchrone\n",
        "\n",
        "Comme nous l'avons déjà mentionné à plusieurs reprises dans ce guide, la programmation asynchrone est un excellent outil pour gérer les opérations liées aux E/S. Il est donc temps de construire quelque chose de plus pratique qu'une simple impression de séquences ou une attente asynchrone.\n",
        "\n",
        "\n",
        "Par souci de cohérence, nous allons essayer de traiter le même problème que nous avons résolu précédemment à l'aide du multithreading et du multiprocessing. Nous allons donc essayer de récupérer de manière asynchrone des informations sur les taux de change actuels à partir d'une ressource externe via une connexion réseau. Ce serait formidable si nous pouvions utiliser la même bibliothèque de requêtes que dans les sections précédentes. \n",
        "\n",
        "Malheureusement, nous ne pouvons pas le faire. Ou pour être plus précis, nous ne pouvons pas le faire efficacement. Malheureusement, la bibliothèque de requêtes ne prend pas en charge les E/S asynchrones avec les mots-clés async et wait. Il existe d'autres projets qui visent à fournir une certaine simultanéité au projet de requêtes, mais ils reposent soit sur Gevent (comme les grequests, disponibles à l'adresse https://github.com/kennethreitz/grequests) soit sur l'exécution du pool de threads/processus (comme les requêtes- futures, disponible sur https://github.com/ross/requests-futures). Ni l'un ni l'autre ne résout notre problème.\n",
        "\n",
        "Connaissant la limitation de la bibliothèque qui était si facile à utiliser dans nos exemples précédents, nous devons construire quelque chose qui comblera le vide. L'API des taux de change est vraiment simple à utiliser, il nous suffit donc d'utiliser une bibliothèque HTTP nativement asynchrone pour le travail. La bibliothèque standard de Python dans la version 3.9 manque toujours de bibliothèque qui rendrait les requêtes HTTP asynchrones aussi simples que d'appeler urllib.urlopen(). Nous ne voulons certainement pas construire l'ensemble du support du protocole à partir de zéro, nous utiliserons donc un peu d'aide du package aiohttp, qui est disponible sur PyPI. C'est une bibliothèque vraiment prometteuse qui ajoute à la fois des implémentations client et serveur pour HTTP asynchrone. Voici un petit module construit sur aiohttp qui crée une seule fonction d'assistance get_rates() qui envoie des requêtes au service API des taux de change :"
      ]
    },
    {
      "cell_type": "code",
      "metadata": {
        "colab": {
          "base_uri": "https://localhost:8080/",
          "height": 381
        },
        "id": "kCVOlFKBWeza",
        "outputId": "77cb0d60-6167-444f-8928-5d5dd3d581cc"
      },
      "source": [
        "import aiohttp\n",
        "\n",
        "\n",
        "async def get_rates(session: aiohttp.ClientSession, base: str):\n",
        "    async with session.get(\n",
        "        f\"https://api.vatcomply.com/rates?base={base}\"\n",
        "    ) as response:\n",
        "        rates = (await response.json())[\"rates\"]\n",
        "        rates[base] = 1.0\n",
        "\n",
        "        return base, rates"
      ],
      "execution_count": null,
      "outputs": [
        {
          "output_type": "error",
          "ename": "ModuleNotFoundError",
          "evalue": "ignored",
          "traceback": [
            "\u001b[0;31m---------------------------------------------------------------------------\u001b[0m",
            "\u001b[0;31mModuleNotFoundError\u001b[0m                       Traceback (most recent call last)",
            "\u001b[0;32m<ipython-input-4-ee598fb650de>\u001b[0m in \u001b[0;36m<module>\u001b[0;34m()\u001b[0m\n\u001b[0;32m----> 1\u001b[0;31m \u001b[0;32mimport\u001b[0m \u001b[0maiohttp\u001b[0m\u001b[0;34m\u001b[0m\u001b[0;34m\u001b[0m\u001b[0m\n\u001b[0m\u001b[1;32m      2\u001b[0m \u001b[0;34m\u001b[0m\u001b[0m\n\u001b[1;32m      3\u001b[0m \u001b[0;34m\u001b[0m\u001b[0m\n\u001b[1;32m      4\u001b[0m \u001b[0;32masync\u001b[0m \u001b[0;32mdef\u001b[0m \u001b[0mget_rates\u001b[0m\u001b[0;34m(\u001b[0m\u001b[0msession\u001b[0m\u001b[0;34m:\u001b[0m \u001b[0maiohttp\u001b[0m\u001b[0;34m.\u001b[0m\u001b[0mClientSession\u001b[0m\u001b[0;34m,\u001b[0m \u001b[0mbase\u001b[0m\u001b[0;34m:\u001b[0m \u001b[0mstr\u001b[0m\u001b[0;34m)\u001b[0m\u001b[0;34m:\u001b[0m\u001b[0;34m\u001b[0m\u001b[0;34m\u001b[0m\u001b[0m\n\u001b[1;32m      5\u001b[0m     async with session.get(\n",
            "\u001b[0;31mModuleNotFoundError\u001b[0m: No module named 'aiohttp'",
            "",
            "\u001b[0;31m---------------------------------------------------------------------------\u001b[0;32m\nNOTE: If your import is failing due to a missing package, you can\nmanually install dependencies using either !pip or !apt.\n\nTo view examples of installing some common dependencies, click the\n\"Open Examples\" button below.\n\u001b[0;31m---------------------------------------------------------------------------\u001b[0m\n"
          ],
          "errorDetails": {
            "actions": [
              {
                "action": "open_url",
                "actionText": "Open Examples",
                "url": "/notebooks/snippets/importing_libraries.ipynb"
              }
            ]
          }
        }
      ]
    },
    {
      "cell_type": "markdown",
      "metadata": {
        "id": "o_TLZG0uXJPU"
      },
      "source": [
        "Nous allons enregistrer ce module dans le fichier asyncrates.py afin que nous puissions plus tard l'importer en tant que module asyncrates. Nous sommes maintenant prêts à réécrire l'exemple utilisé lorsque nous avons discuté du multithreading et du multiprocessing. Auparavant, nous divisons l'ensemble de l'opération en deux étapes distinctes :\n",
        "\n",
        "* Effectuer toutes les requêtes vers un service externe en parallèle à l'aide de la fonction asyncrates.get_rates()\n",
        "* Afficher tous les résultats dans une boucle à l'aide de la fonction present_result()\n",
        "\n",
        "Le cœur de notre programme sera une simple fonction main() qui rassemble les résultats de plusieurs coroutines get_rates() et les transmet à la fonction present_result()"
      ]
    },
    {
      "cell_type": "code",
      "metadata": {
        "id": "iina3C9kXnAM"
      },
      "source": [
        "import asyncio\n",
        "import time\n",
        "\n",
        "import aiohttp\n",
        "\n",
        "from asyncrates import get_rates\n",
        "\n",
        "SYMBOLS = (\"USD\", \"EUR\", \"PLN\", \"NOK\", \"CZK\")\n",
        "BASES = (\"USD\", \"EUR\", \"PLN\", \"NOK\", \"CZK\")\n",
        "\n",
        "\n",
        "def present_result(base, rates):\n",
        "    rates_line = \", \".join([f\"{rates[symbol]:7.03} {symbol}\" for symbol in SYMBOLS])\n",
        "    print(f\"1 {base} = {rates_line}\")\n",
        "\n",
        "\n",
        "async def main():\n",
        "    async with aiohttp.ClientSession() as session:\n",
        "        for result in await asyncio.gather(\n",
        "            *[get_rates(session, base) for base in BASES]\n",
        "        ):\n",
        "            present_result(*result)\n",
        "\n",
        "\n",
        "if __name__ == \"__main__\":\n",
        "    started = time.time()\n",
        "    loop = asyncio.get_event_loop()\n",
        "    loop.run_until_complete(main())\n",
        "    elapsed = time.time() - started\n",
        "\n",
        "    print()\n",
        "    print(\"time elapsed: {:.2f}s\".format(elapsed))"
      ],
      "execution_count": null,
      "outputs": []
    },
    {
      "cell_type": "markdown",
      "metadata": {
        "id": "wRRoz0rEX1sT"
      },
      "source": [
        "L'avantage d'utiliser asyncio par rapport au multithreading et au multiprocessing est que nous n'avons pas eu à gérer les pools de processus et la sécurité de la mémoire pour obtenir une communication réseau simultanée. L'inconvénient est que nous ne pouvions pas utiliser une bibliothèque de communication synchrone populaire comme le package de requêtes. Nous avons utilisé aiohttp à la place, et c'est assez simple pour une API simple. Mais parfois, vous avez besoin d'une bibliothèque cliente spécialisée qui n'est pas asynchrone et ne peut pas être facilement portée. Nous couvrirons une telle situation dans la section suivante"
      ]
    },
    {
      "cell_type": "code",
      "metadata": {
        "id": "9xAcnz6XYR2q"
      },
      "source": [
        "\"\"\"\n",
        "\"Asynchronous programming\" section example showing\n",
        "how to employ `futures` and threading/multiprocessing\n",
        "to use non-async libraries in asyncio-based applications\n",
        "\"\"\"\n",
        "import asyncio\n",
        "import time\n",
        "\n",
        "import requests\n",
        "\n",
        "SYMBOLS = (\"USD\", \"EUR\", \"PLN\", \"NOK\", \"CZK\")\n",
        "BASES = (\"USD\", \"EUR\", \"PLN\", \"NOK\", \"CZK\")\n",
        "\n",
        "THREAD_POOL_SIZE = 4\n",
        "\n",
        "\n",
        "async def fetch_rates(base):\n",
        "    loop = asyncio.get_event_loop()\n",
        "    response = await loop.run_in_executor(\n",
        "        None, requests.get, f\"https://api.vatcomply.com/rates?base={base}\"\n",
        "    )\n",
        "    response.raise_for_status()\n",
        "    rates = response.json()[\"rates\"]\n",
        "    # note: same currency exchanges to itself 1:1\n",
        "    rates[base] = 1.0\n",
        "    return base, rates\n",
        "\n",
        "\n",
        "def present_result(base, rates):\n",
        "    rates_line = \", \".join([f\"{rates[symbol]:7.03} {symbol}\" for symbol in SYMBOLS])\n",
        "    print(f\"1 {base} = {rates_line}\")\n",
        "\n",
        "\n",
        "async def main():\n",
        "    for result in await asyncio.gather(*[fetch_rates(base) for base in BASES]):\n",
        "        present_result(*result)\n",
        "\n",
        "\n",
        "if __name__ == \"__main__\":\n",
        "    started = time.time()\n",
        "    loop = asyncio.get_event_loop()\n",
        "    loop.run_until_complete(main())\n",
        "    elapsed = time.time() - started\n",
        "\n",
        "    print()\n",
        "    print(\"time elapsed: {:.2f}s\".format(elapsed))"
      ],
      "execution_count": null,
      "outputs": []
    }
  ]
}