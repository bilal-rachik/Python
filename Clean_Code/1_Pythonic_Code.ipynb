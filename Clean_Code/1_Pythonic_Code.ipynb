{
  "nbformat": 4,
  "nbformat_minor": 0,
  "metadata": {
    "colab": {
      "name": "Pythonic_Code.ipynb",
      "provenance": [],
      "collapsed_sections": []
    },
    "kernelspec": {
      "name": "python3",
      "display_name": "Python 3"
    },
    "language_info": {
      "name": "python"
    }
  },
  "cells": [
    {
      "cell_type": "markdown",
      "metadata": {
        "id": "32UZ9h5NQRGW"
      },
      "source": [
        "# Pythonic Code\n",
        "\n",
        "dans ce guide, nous allons explorer la façon dont les idées sont exprimées en Python, avec ses propres particularités. Si vous connaissez les méthodes standard pour accomplir certaines tâches de programmation (telles que l'obtention du dernier élément d'une liste, l'itération et la recherche), ou si vous venez d'autres langages de programmation (tels que C, C++ et Java), alors vous constaterez qu'en général, Python fournit son propre mécanisme pour les tâches les plus courantes.\n",
        "\n",
        "En programmation, un idiome est une manière particulière d'écrire du code afin d'effectuer une tâche spécifique. C'est quelque chose de commun qui se répète et suit la même structure à chaque fois. Certains pourraient même argumenter et les appeler un modèle, mais soyez prudent car ce ne sont pas des modèles conçus (que nous explorerons plus tard). La principale différence est que les modèles de conception sont des idées de haut niveau, indépendantes du langage (en quelque sorte), mais ils ne se traduisent pas immédiatement en code. D'autre part, les idiomes sont en fait codés. C'est la façon dont les choses doivent être écrites lorsque nous voulons effectuer une tâche particulière.\n",
        "\n",
        "Comme les idiomes sont du code, ils dépendent de la langue. Chaque langage aura ses idiomes, ce qui signifie la façon dont les choses sont faites dans ce langage particulier (par exemple, comment vous ouvririez et écririez un fichier en C ou C++). Lorsque le code suit ces idiomes, il est connu comme étant idiomatique, ce qui en Python est souvent appelé Pythonic. d'une manière idiomatique fonctionne généralement mieux. Il est également plus compact et plus facile à comprendre. Ce sont des traits que nous voulons toujours dans notre code pour qu'il fonctionne efficacement.\n",
        "\n",
        "Deuxièmement, il est important que toute l'équipe de développement puisse s'habituer aux mêmes modèles et à la même structure du code, car cela les aidera à se concentrer sur la véritable essence du problème et les aidera à éviter de commettre des erreurs.\n",
        "\n",
        "\n",
        "Les objectifs de ce quide sont les suivants :\n",
        "\n",
        "*  Comprendre les indices et les tranches, et implémenter correctement les objets pouvant être indexés\n",
        "\n",
        "*  Implémenter des séquences et autres itérables\n",
        "*  En savoir plus sur les bons cas d'utilisation pour les gestionnaires de contexte et comment en écrire des efficaces.\n",
        "*  Pour implémenter un code plus idiomatique grâce à des méthodes magiques \n",
        "*  Pour éviter les erreurs courantes en Python qui entraînent des effets secondaires indésirables\n",
        "\n",
        "Nous commençons par explorer le premier élément de la liste (index et tranches) dans la section suivante\n",
        "\n",
        "\n",
        "\n"
      ]
    },
    {
      "cell_type": "markdown",
      "metadata": {
        "id": "q8uhuioZSJGO"
      },
      "source": [
        "## Indexes and slices\n",
        "\n",
        "En Python, comme dans d'autres langages, certaines structures ou types de données prennent en charge l'accès à ses éléments par index. Une autre chose qu'il a en commun avec la plupart des langages de programmation est que le premier élément est placé dans le numéro d'index 0. Cependant, contrairement à ces langages, lorsque nous voulons accéder aux éléments dans un ordre différent de celui d'habitude, Python fournit des fonctionnalités supplémentaires.\n",
        "\n",
        "Par exemple, comment accéderiez-vous au dernier élément d'un tableau en C ? C'est quelque chose que j'ai fait la première fois que j'ai essayé Python. En pensant de la même manière qu'en C, j'obtiendrais l'élément à la position de la longueur du tableau moins un. En Python, cela fonctionnerait aussi, mais nous pourrions également utiliser un numéro d'index négatif, qui commencera à compter à partir du dernier élément, comme indiqué dans les commandes suivantes :"
      ]
    },
    {
      "cell_type": "code",
      "metadata": {
        "id": "UuKKKPhWSsEt"
      },
      "source": [
        "my_numbers = (4, 5, 3, 9)\n",
        "my_numbers[-1]"
      ],
      "execution_count": null,
      "outputs": []
    },
    {
      "cell_type": "code",
      "metadata": {
        "id": "6RNyZmliS2nT"
      },
      "source": [
        "my_numbers[-3]"
      ],
      "execution_count": null,
      "outputs": []
    },
    {
      "cell_type": "markdown",
      "metadata": {
        "id": "a4c99tvNS80j"
      },
      "source": [
        "Ceci est un exemple de la manière préférée (Pythonic) de faire les choses. En plus d'obtenir un seul élément, nous pouvons en obtenir plusieurs en utilisant slice, comme indiqué dans les commandes suivantes :"
      ]
    },
    {
      "cell_type": "code",
      "metadata": {
        "id": "nnzE2mdiTDPG"
      },
      "source": [
        "my_numbers = (1, 1, 2, 3, 5, 8, 13, 21)\n",
        "my_numbers[2:5]"
      ],
      "execution_count": null,
      "outputs": []
    },
    {
      "cell_type": "markdown",
      "metadata": {
        "id": "0J70G8MXTLJq"
      },
      "source": [
        "Dans ce cas, la syntaxe sur les crochets signifie que nous obtenons tous les éléments du tuple, à partir de l'index du premier nombre (inclus), jusqu'à l'index du second (sans l'inclure). Les tranches fonctionnent de cette façon en Python en excluant la fin de l'intervalle sélectionné. Vous pouvez exclure l'un des intervalles, début ou fin, et dans ce cas, il agira à partir du début ou de la fin de la séquence, respectivement, comme indiqué dans les commandes suivantes :"
      ]
    },
    {
      "cell_type": "code",
      "metadata": {
        "id": "717WRX0cTKmr"
      },
      "source": [
        "my_numbers[:3]\n",
        "my_numbers[3:]\n",
        "my_numbers[::]  # also my_numbers[:], returns a copy\n",
        "my_numbers[1:7:2]"
      ],
      "execution_count": null,
      "outputs": []
    },
    {
      "cell_type": "markdown",
      "metadata": {
        "id": "G6QU6WssTvKp"
      },
      "source": [
        "Dans le premier exemple, il obtiendra tout jusqu'à l'index de la position numéro 3. Dans le deuxième exemple, il obtiendra tous les numéros de la position 3 (inclus), jusqu'à la fin. Dans l'avant-dernier exemple, où les deux extrémités sont exclues, il s'agit en fait de créer une copie du tuple d'origine.\n",
        "\n",
        "Le dernier exemple comprend un troisième paramètre, qui est le pas. Cela indique le nombre d'éléments à sauter lors de l'itération sur l'intervalle. Dans ce cas, cela signifierait obtenir les éléments entre les positions un et sept, sauter par deux.\n",
        "\n",
        "Dans tous ces cas, lorsque nous passons des intervalles à une séquence, ce qui se passe réellement, c'est que nous passons une tranche. Notez que slice est un objet intégré à Python que vous pouvez créer vous-même et passer directement"
      ]
    },
    {
      "cell_type": "code",
      "metadata": {
        "id": "wWNv4VGOUNCe"
      },
      "source": [
        "interval = slice(1, 7, 2)\n",
        "my_numbers[interval]"
      ],
      "execution_count": null,
      "outputs": []
    },
    {
      "cell_type": "code",
      "metadata": {
        "id": "WlsVhb65UTjD"
      },
      "source": [
        "interval = slice(None, 3)\n",
        "my_numbers[interval] == my_numbers[:3]"
      ],
      "execution_count": null,
      "outputs": []
    },
    {
      "cell_type": "markdown",
      "metadata": {
        "id": "w4SrnLgHUaXU"
      },
      "source": [
        "### Créer vos propres séquences\n",
        "\n",
        "La fonctionnalité dont nous venons de parler fonctionne grâce à une méthode magique (les méthodes magiques sont celles entourées de doubles traits de soulignement que Python utilise pour réserver un comportement spécial) appelée __getitem__. C'est la méthode qui est appelée lorsque quelque chose comme myobject[key] est appelé, en passant la clé (valeur à l'intérieur des crochets) en tant que paramètre. Une séquence, en particulier, est un objet qui implémente à la fois __getitem__ et __len__, et pour cette raison, elle peut être itérée. Les listes, les tuples et les chaînes sont des exemples d'objets séquence dans la bibliothèque standard.\n",
        "\n",
        "Dans cette section, nous nous soucions plus d'obtenir des éléments particuliers d'un objet par une clé que de construire des séquences ou des objets itérables, ce qui est un sujet exploré plus tard , Générateurs, itérateurs et programmation asynchrone.\n",
        "\n",
        "Si vous allez implémenter __getitem__ dans une classe personnalisée de votre domaine, vous devrez prendre en compte certaines considérations afin de suivre une approche Pythonic.\n",
        "\n",
        "Dans le cas où votre classe est un wrapper autour d'un objet de bibliothèque standard, vous pouvez tout aussi bien déléguer le comportement autant que possible à l'objet sous-jacent. Cela signifie que si votre classe est en fait un wrapper sur la liste, appelez toutes les mêmes méthodes sur cette liste pour vous assurer qu'elle reste compatible. Dans la liste suivante, nous pouvons voir un exemple de la façon dont un objet enveloppe une liste, et pour les méthodes qui nous intéressent, nous déléguons simplement à sa version correspondante sur l'objet liste"
      ]
    },
    {
      "cell_type": "code",
      "metadata": {
        "id": "gVvZtbAGVika"
      },
      "source": [
        "from collections.abc import Sequence\n",
        "\n",
        "class Items(Sequence):\n",
        "    def __init__(self, *values):\n",
        "        self._values = list(values)\n",
        "\n",
        "    def __len__(self):\n",
        "        return len(self._values)\n",
        "\n",
        "    def __getitem__(self, item):\n",
        "        return self._values.__getitem__(item)"
      ],
      "execution_count": null,
      "outputs": []
    },
    {
      "cell_type": "markdown",
      "metadata": {
        "id": "63eums9mVtYu"
      },
      "source": [
        "Pour déclarer que notre classe est une séquence, elle implémente l'interface Sequence du module collections.abc (https://docs.python.org/3/library/collections.abc.html). Pour les classes que vous écrivez et qui sont destinées à se comporter comme des types d'objets standard (conteneurs, mappages, etc.), c'est une bonne idée d'implémenter les interfaces de ce module, car cela révèle l'intention de ce que cette classe est censée être , et aussi parce que l'utilisation des interfaces vous obligera à implémenter les méthodes requises.\n",
        "\n",
        "Cet exemple utilise la composition (car il contient un collaborateur interne qui est une liste, plutôt qu'hériter de la classe list). Une autre façon de le faire est l'héritage de classe, auquel nous devrons étendre la classe de base collections.UserList, avec les considérations et les mises en garde mentionnées dans la dernière partie de ce quide.\n",
        "\n",
        "si, toutefois, vous implémentez votre propre séquence qui n'est pas un wrapper ou ne repose sur aucun objet intégré en dessous, gardez à l'esprit les points suivants : \n",
        "\n",
        "*  Lors de l'indexation par une plage, le résultat doit être une instance de la même type de la classe\n",
        "\n",
        "* Dans la plage fournie par slice, respectez la sémantique que Python utilise, en excluant l'élément à la fin"
      ]
    },
    {
      "cell_type": "markdown",
      "metadata": {
        "id": "PLPgj14RW7iR"
      },
      "source": [
        "Le premier point est une erreur subtile. Pensez-y : lorsque vous obtenez une tranche d'une liste, le résultat est une liste ; lorsque vous demandez une plage dans un tuple, le résultat est un tuple ; et lorsque vous demandez une sous-chaîne, le résultat est une chaîne. Il est logique dans chaque cas que le résultat soit du même type que l'objet d'origine. Si vous créez, disons, un objet qui représente un intervalle de dates et que vous demandez une plage sur cet intervalle, ce serait une erreur de renvoyer une liste ou un tuple, ou autre chose. Au lieu de cela, il doit renvoyer une nouvelle instance de la même classe avec le nouvel ensemble d'intervalles. Le meilleur exemple est dans la bibliothèque standard, avec la fonction range. Si vous appelez range avec un intervalle, il construira un objet itérable qui sait comment produire les valeurs dans la plage sélectionnée. Lorsque vous spécifiez un intervalle pour la plage, vous obtenez une nouvelle plage (ce qui est logique), pas une liste"
      ]
    },
    {
      "cell_type": "code",
      "metadata": {
        "id": "KkOQMxBzXSpQ"
      },
      "source": [
        "range(1, 100)[25:50]"
      ],
      "execution_count": null,
      "outputs": []
    },
    {
      "cell_type": "markdown",
      "metadata": {
        "id": "3RM9hxafXZEK"
      },
      "source": [
        "La deuxième règle concerne également la cohérence : les utilisateurs de votre code le trouveront plus familier et plus facile à utiliser s'il est cohérent avec Python lui-même. En tant que développeurs Python, nous sommes déjà habitués à l'idée du fonctionnement des tranches, du fonctionnement de la fonction de plage, etc. Faire une exception sur une classe personnalisée créera de la confusion, ce qui signifie qu'il sera plus difficile de s'en souvenir, et cela pourrait conduire à des bogues.\n",
        "\n",
        "Maintenant que nous connaissons les indices et les tranches, et comment créer les nôtres, dans la section suivante, nous adopterons la même approche mais pour les gestionnaires de contexte. Tout d'abord, nous verrons comment fonctionnent les gestionnaires de contexte de la bibliothèque standard, puis nous passerons au niveau suivant et créerons notre propre."
      ]
    },
    {
      "cell_type": "markdown",
      "metadata": {
        "id": "CuPA765XXzBY"
      },
      "source": [
        "## Context managers\n",
        "\n",
        "Les gestionnaires de contexte sont une fonctionnalité particulièrement utile fournie par Python. La raison pour laquelle ils sont si utiles est qu'ils répondent correctement à un modèle. Il existe des situations récurrentes dans lesquelles nous voulons exécuter du code qui a des préconditions et des postconditions, ce qui signifie que nous voulons exécuter des choses avant et après une certaine action principale, respectivement. Les gestionnaires de contexte sont d'excellents outils à utiliser dans ces situations.\n",
        "\n",
        "La plupart du temps, nous voyons des gestionnaires de contexte autour de la gestion des ressources. Par exemple, dans les situations où nous ouvrons des fichiers, nous voulons nous assurer qu'ils sont fermés après le traitement (donc nous ne divulguons pas de descripteurs de fichiers). Ou, si on ouvre une connexion à un service (ou même un socket), on veut aussi être sûr de la fermer en conséquence, ou lorsqu'il s'agit de fichier temporaires, etc.\n",
        "\n",
        "Dans tous ces cas, vous devez normalement vous rappeler de libérer toutes les ressources qui ont été allouées et cela ne fait que penser au meilleur des cas, mais qu'en est-il des exceptions et de la gestion des erreurs ? Étant donné que la gestion de toutes les combinaisons et chemins d'exécution possibles de notre programme rend le débogage plus difficile, la façon la plus courante de résoudre ce problème consiste à placer le code de nettoyage sur un bloc finally afin que nous soyons sûrs de ne pas le manquer. Par exemple, un cas très simple ressemblerait à ce qui suit:\n",
        "\n",
        "    fd = open(filename)\n",
        "    try:\n",
        "        process_file(fd)\n",
        "    finally:\n",
        "        fd.close()"
      ]
    },
    {
      "cell_type": "markdown",
      "metadata": {
        "id": "GQXQvCiZnkh_"
      },
      "source": [
        "Néanmoins, il existe une manière beaucoup plus élégante et pythonique d'atteindre la même chose\n",
        "\n",
        "    with open(filename) as fd:\n",
        "        process_file(fd\n",
        "\n",
        "L'instruction with (PEP-343) entre dans le gestionnaire de contexte. Dans ce cas, la fonction open implémente le protocole du gestionnaire de contexte, ce qui signifie que le fichier sera automatiquement fermé lorsque le bloc sera terminé, même si une exception s'est produite.\n",
        "\n",
        "Les gestionnaires de contexte se composent de deux méthodes magiques : __enter__ et __exit__. Sur la première ligne du gestionnaire de contexte, l'instruction with appellera la première méthode, __enter__, et tout ce que cette méthode renvoie sera affecté à la variable étiquetée après as. Ceci est facultatif - nous n'avons pas vraiment besoin de retourner quoi que ce soit de spécifique sur la méthode __enter__, et même si nous le faisons, il n'y a toujours aucune raison stricte de l'affecter à une variable si elle n'est pas requise.\n",
        "\n",
        "Une fois cette ligne exécutée, le code entre dans un nouveau contexte, où tout autre code Python peut être exécuté. Une fois la dernière instruction sur ce bloc terminée, le contexte sera quitté, ce qui signifie que Python appellera la méthode __exit__ de l'objet gestionnaire de contexte d'origine que nous avons appelé en premier.\n",
        "\n",
        "S'il y a une exception ou une erreur dans le bloc du gestionnaire de contexte, la méthode __exit__ sera toujours appelée, ce qui la rend pratique pour gérer en toute sécurité le nettoyage des conditions. En fait, cette méthode reçoit l'exception qui a été déclenchée sur le bloc au cas où nous voudrions le gérer de manière personnalisée.\n",
        "\n",
        "Malgré le fait que l'on trouve très souvent des gestionnaires de contexte lorsqu'il s'agit de ressources (comme l'exemple que nous avons mentionné avec les fichiers, les connexions, etc.), ce n'est pas la seule application dont ils disposent. Nous pouvons implémenter nos propres gestionnaires de contexte afin de gérer la logique particulière dont nous avons besoin.\n",
        "\n",
        "Les gestionnaires de contexte sont un bon moyen de séparer les préoccupations et d'isoler les parties du code qui doivent rester indépendantes, car si nous les mélangeons, la logique deviendra plus difficile à maintenir.\n",
        "\n",
        "À titre d'exemple, considérons une situation où nous voulons exécuter une sauvegarde de notre base de données avec un script. La mise en garde est que la sauvegarde est hors ligne, ce qui signifie que nous ne pouvons le faire que lorsque la base de données n'est pas en cours d'exécution, et pour cela, nous devons l'arrêter. Après avoir exécuté la sauvegarde, nous voulons nous assurer que nous redémarrons le processus, quel que soit le déroulement du processus de sauvegarde lui-même.\n",
        "\n",
        "\n",
        "Maintenant, la première approche serait de créer une énorme fonction monolithique qui essaie de tout faire au même endroit, d'arrêter le service, d'effectuer la tâche de sauvegarde, de gérer les exceptions et tous les cas limites possibles, puis d'essayer de redémarrer le service. Vous pouvez imaginer une telle fonction, et pour cette raison, je vais vous épargner les détails, et à la place proposer directement une manière possible d'aborder ce problème avec les gestionnaires de contexte"
      ]
    },
    {
      "cell_type": "code",
      "metadata": {
        "id": "fAjv7vP9pkEM"
      },
      "source": [
        "import contextlib\n",
        "\n",
        "\n",
        "run = print\n",
        "\n",
        "\n",
        "def stop_database():\n",
        "    run(\"systemctl stop postgresql.service\")\n",
        "\n",
        "\n",
        "def start_database():\n",
        "    run(\"systemctl start postgresql.service\")\n",
        "\n",
        "\n",
        "class DBHandler:\n",
        "    def __enter__(self):\n",
        "        stop_database()\n",
        "        return self\n",
        "\n",
        "    def __exit__(self, exc_type, ex_value, ex_traceback):\n",
        "        start_database()\n",
        "\n",
        "def db_backup():\n",
        "    run(\"pg_dump database\")\n",
        "\n",
        "\n",
        "def main():\n",
        "  with DBHandler():        \n",
        "    db_backup()"
      ],
      "execution_count": null,
      "outputs": []
    },
    {
      "cell_type": "markdown",
      "metadata": {
        "id": "n66nJE0MqA8O"
      },
      "source": [
        "Dans cet exemple, nous n'avons pas besoin du résultat du gestionnaire de contexte à l'intérieur du bloc, et c'est pourquoi nous pouvons considérer que, au moins pour ce cas particulier, la valeur de retour de __enter__ n'est pas pertinente. C'est quelque chose à prendre en considération lors de la conception des gestionnaires de contexte. De quoi avons-nous besoin une fois le bloc démarré ? En règle générale, ce devrait être une bonne pratique (bien que non obligatoire) de toujours renvoyer quelque chose sur __enter__.\n",
        "\n",
        "Dans ce bloc, nous n'exécutons que la tâche de sauvegarde, indépendamment des tâches de maintenance, comme nous l'avons vu précédemment. Nous avons également mentionné que même si la tâche de sauvegarde a une erreur, __exit__ sera toujours appelé.\n",
        "\n",
        "Notez la signature de la méthode __exit__. Il reçoit les valeurs de l'exception qui a été déclenchée sur le bloc. S'il n'y avait pas d'exception sur le bloc, ils sont tous aucun.\n",
        "\n",
        "La valeur de retour de __exit__ est quelque chose à considérer. Normalement, on voudrait laisser la méthode telle qu'elle est, sans rien retourner de particulier. Si cette méthode renvoie True, cela signifie que l'exception potentiellement levée ne se propagera pas à l'appelant et s'arrêtera là. Parfois, c'est l'effet recherché, peut-être même selon le type d'exception qui a été levée, mais en général, ce n'est pas une bonne idée d'avaler l'exception. N'oubliez pas : les erreurs ne doivent jamais passer en silence.\n",
        "\n"
      ]
    },
    {
      "cell_type": "markdown",
      "metadata": {
        "id": "DpN6BtTcsNkH"
      },
      "source": [
        "## Implémentation des context managers\n",
        "\n",
        "En général, nous pouvons implémenter des gestionnaires de contexte comme celui de l'exemple précédent. Tout ce dont nous avons besoin, c'est d'une classe qui implémente les méthodes magiques __enter__ et __exit__, puis cet objet pourra prendre en charge le protocole du gestionnaire de contexte. Bien qu'il s'agisse de la manière la plus courante pour les gestionnaires de contexte d'être mis en œuvre, ce n'est pas la seule.\n",
        "\n",
        "Dans cette section, nous verrons non seulement différentes manières (parfois plus compactes) d'implémenter des gestionnaires de contexte, mais aussi comment en tirer pleinement parti en utilisant la bibliothèque standard, notamment avec le module contextlib.\n",
        "\n",
        "Le module contextlib contient de nombreuses fonctions et objets d'assistance pour implémenter des gestionnaires de contexte ou utiliser ceux déjà fournis qui peuvent nous aider à écrire un code plus compact.\n",
        "\n",
        "\n",
        "Commençons par regarder le décorateur contextmanager.\n",
        "\n",
        "Lorsque le décorateur contextlib.contextmanager est appliqué à une fonction, il convertit le code de cette fonction en un gestionnaire de contexte. La fonction en question doit être un type particulier de fonction appelée fonction génératrice, qui séparera les instructions en ce qui va être sur les méthodes magiques __enter__ et __exit__, respectivement.\n",
        "\n",
        "Si, à ce stade, vous n'êtes pas familier avec les décorateurs et les générateurs, ce n'est pas un problème car les exemples que nous examinerons seront autonomes et la recette ou l'idiome peut être appliqué et compris malgré tout. Ces sujets sont traités en détail plus tard dans ce quide, Générateurs, itérateurs et programmation asynchrone.\n",
        "\n",
        "Le code équivalent de l'exemple précédent peut être réécrit avec le décorateur contextmanager comme ceci :"
      ]
    },
    {
      "cell_type": "code",
      "metadata": {
        "id": "kItro7-8vOVV"
      },
      "source": [
        "import contextlib\n",
        "\n",
        "@contextlib.contextmanager\n",
        "def db_handler():\n",
        "    try:\n",
        "        stop_database()\n",
        "        yield\n",
        "    finally:\n",
        "        start_database()\n",
        "\n",
        "with db_handler():\n",
        "  db_backup()"
      ],
      "execution_count": null,
      "outputs": []
    },
    {
      "cell_type": "markdown",
      "metadata": {
        "id": "0WPEBxejvi-q"
      },
      "source": [
        "Ici, nous définissons la fonction génératrice et lui appliquons le décorateur @contextlib.contextmanager. La fonction contient une instruction yield, ce qui en fait une fonction génératrice. Encore une fois, les détails sur les générateurs ne sont pas pertinents dans ce cas. Tout ce que nous devons savoir, c'est que lorsque ce décorateur est appliqué, tout ce qui précède l'instruction yield sera exécuté comme s'il faisait partie de la méthode __enter__. Ensuite, la valeur renvoyée sera le résultat de l'évaluation du gestionnaire de contexte (ce que __enter__ retournerait), et ce qui serait attribué à la variable si nous choisissions de l'attribuer comme x : - dans ce cas, rien n'est renvoyé ( ce qui signifie que la valeur renvoyée sera aucune, implicitement), mais si nous le voulions, nous pourrions produire une déclaration qui deviendra quelque chose que nous pourrions vouloir utiliser dans le bloc du gestionnaire de contexte.\n",
        "\n",
        "À ce stade, la fonction de générateur est suspendue et le gestionnaire de contexte est entré, où, à nouveau, nous exécutons le code de sauvegarde pour notre base de données. Une fois cette opération terminée, l'exécution reprend, nous pouvons donc considérer que chaque ligne qui vient après l'instruction yield fera partie de la logique __exit__\n",
        "\n",
        "Écrire des gestionnaires de contexte comme celui-ci a l'avantage qu'il est plus facile de refactoriser des fonctions existantes, de réutiliser du code, et en général, c'est une bonne idée lorsque nous avons besoin d'un gestionnaire de contexte qui n'appartient à aucun objet particulier (sinon, vous créeriez une \"fausse\" classe sans but réel, au sens orienté objet)\n",
        "\n",
        "L'ajout de méthodes magiques supplémentaires rendrait un autre objet de notre domaine plus couplé, avec plus de responsabilités et prenant en charge quelque chose qu'il ne devrait probablement pas. Lorsque nous avons juste besoin d'une fonction de gestionnaire de contexte, sans préserver de nombreux états, et complètement isolée et indépendante du reste de nos classes, c'est probablement une bonne voie à suivre.\n",
        "\n",
        "Il existe cependant d'autres moyens d'implémenter le gestionnaire de contexte, et encore une fois, la réponse se trouve dans le package contextlib de la bibliothèque standard. Une autre aide que nous pourrions utiliser est contextlib.ContextDecorator. Il s'agit d'une classe de base qui fournit la logique pour appliquer un décorateur à une fonction qui la fera s'exécuter dans le gestionnaire de contexte. \n",
        "\n",
        "La logique du gestionnaire de contexte lui-même doit être fournie en implémentant les méthodes magiques susmentionnées. \n",
        "\n",
        "Le résultat est une classe qui fonctionne comme un décorateur de fonctions, ou qui peut être mélangée à la hiérarchie de classes d'autres classes pour les faire se comporter comme des gestionnaires de contexte. Pour l'utiliser, nous devons étendre cette classe et implémenter la logique sur les méthodes requises"
      ]
    },
    {
      "cell_type": "code",
      "metadata": {
        "id": "bQGpwd3815kF"
      },
      "source": [
        "class dbhandler_decorator(contextlib.ContextDecorator):\n",
        "    def __enter__(self):\n",
        "        stop_database()\n",
        "        return self\n",
        "\n",
        "    def __exit__(self, ext_type, ex_value, ex_traceback):\n",
        "        start_database()\n",
        "\n",
        "\n",
        "@dbhandler_decorator()\n",
        "def offline_backup():\n",
        "    run(\"pg_dump database\")"
      ],
      "execution_count": null,
      "outputs": []
    },
    {
      "cell_type": "markdown",
      "metadata": {
        "id": "tRCiGgUL2EjB"
      },
      "source": [
        "Remarquez-vous quelque chose de différent des exemples précédents ? Il n'y a pas de déclaration avec. Il suffit d'appeler la fonction et offline_backup() s'exécutera automatiquement dans un gestionnaire de contexte. C'est la logique que la classe de base fournit pour l'utiliser comme décorateur qui encapsule la fonction d'origine afin qu'elle s'exécute dans un gestionnaire de contexte.\n",
        "\n",
        "Le seul inconvénient de cette approche est que de par la façon dont les objets fonctionnent, ils sont complètement indépendants (ce qui est un bon trait) - le décorateur ne sait rien de la fonction qui décore, et vice versa. Ceci, aussi bon soit-il, signifie que la fonction offline_backup ne peut pas accéder à l'objet décorateur, si cela est nécessaire. Cependant, rien ne nous empêche d'appeler toujours ce décorateur à l'intérieur de la fonction pour accéder à l'objet\n",
        "\n",
        "Cela peut être fait sous la forme suivante"
      ]
    },
    {
      "cell_type": "code",
      "metadata": {
        "id": "XpRKWOuZ3o66"
      },
      "source": [
        "def offline_backup():\n",
        "  with dbhandler_decorator() as handler: ..."
      ],
      "execution_count": null,
      "outputs": []
    },
    {
      "cell_type": "markdown",
      "metadata": {
        "id": "0gi4AT7a3w6G"
      },
      "source": [
        "En tant que décorateur, cela a également l'avantage que la logique n'est définie qu'une seule fois, et nous pouvons la réutiliser autant de fois que nous le souhaitons en appliquant simplement les décorateurs à d'autres fonctions qui nécessitent la même logique invariante.\n",
        "\n",
        "Explorons une dernière fonctionnalité de contextlib, pour voir ce que nous pouvons attendre des gestionnaires de contexte et avoir une idée du genre de chose pour laquelle nous pourrions les utiliser.\n",
        "\n",
        "Dans cette bibliothèque, nous pouvons trouver contextlib.suppress, qui est un utilitaire pour éviter certaines exceptions dans des situations où nous savons qu'il est sûr de les ignorer. C'est similaire à exécuter ce même code sur un bloc try/except et passer une exception ou simplement l'enregistrer, mais la différence est que l'appel de la méthode suppress rend plus explicite le fait que ces exceptions sont contrôlées dans le cadre de notre logique. \n",
        "\n",
        "Par exemple, considérez le code suivant"
      ]
    },
    {
      "cell_type": "code",
      "metadata": {
        "id": "YKeTWmOP4R_c"
      },
      "source": [
        "import contextlib\n",
        "\n",
        "with contextlib.suppress(DataConversionException):\n",
        "  parse_data(input_json_or_dict)"
      ],
      "execution_count": null,
      "outputs": []
    },
    {
      "cell_type": "markdown",
      "metadata": {
        "id": "muMlYItj5VJj"
      },
      "source": [
        "Ici, la présence de l'exception signifie que les données d'entrée sont déjà dans le format attendu, il n'y a donc pas besoin de conversion, ce qui permet de l'ignorer en toute sécurité. Les gestionnaires de contexte sont une caractéristique assez particulière qui différencie Python. Par conséquent, l'utilisation de gestionnaires de contexte peut être considérée comme idiomatique. Dans la section suivante, nous explorons un autre trait intéressant de Python qui nous aidera à écrire du code plus concis ; compréhensions et expressions d'affectation"
      ]
    },
    {
      "cell_type": "markdown",
      "metadata": {
        "id": "ysTPBAiOMWmr"
      },
      "source": [
        "## Compréhensions et expressions d'affectation\n",
        "\n",
        "Nous verrons des expressions de compréhension plusieurs fois tout au long ce quide. En effet, il s'agit généralement d'une manière plus concise d'écrire du code et, en général, le code écrit de cette manière a tendance à être plus facile à lire. Je dis en général, car parfois, si nous devons faire des transformations sur les données que nous collectons, utiliser une compréhension peut conduire à un code plus compliqué. Dans ces cas, l'écriture d'une boucle for simple doit être préférée à la place.\n",
        "\n",
        "Il existe cependant un dernier recours que nous pourrions appliquer pour tenter de sauver la situation : les expressions d'affectation. Dans cette section, nous discutons de ces alternatives. L'utilisation de compréhensions est recommandée pour créer des structures de données en une seule instruction, au lieu de plusieurs opérations. Par exemple, si nous voulions créer une liste avec des calculs sur certains nombres, au lieu de l'écrire comme ceci :\n",
        "\n",
        "    numbers = []  \n",
        "    for i in range(10):\n",
        "      numbers.append(run_calculation(i))\n",
        "\n",
        "\n",
        "\n",
        "Nous créerions la liste directement:\n",
        "\n",
        "    numbers = [run_calculation(i) for i in range(10)]"
      ]
    },
    {
      "cell_type": "markdown",
      "metadata": {
        "id": "kHqsmII2QdbX"
      },
      "source": [
        "Le code écrit sous cette forme fonctionne généralement mieux car il utilise une seule opération Python, au lieu d'appeler list.append à plusieurs reprises. Si vous êtes curieux de connaître les éléments internes ou les différences entre les différentes versions du code, vous pouvez consulter le module dis et l'appeler avec ces exemples.\n",
        "\n",
        "Voyons l'exemple d'une fonction qui prendra des chaînes qui représentent des ressources sur un environnement de cloud computing (par exemple des ARN) et retournera l'ensemble avec les ID de compte trouvés dessus. Quelque chose comme ça serait la façon la plus naïve d'écrire une telle fonction"
      ]
    },
    {
      "cell_type": "code",
      "metadata": {
        "id": "20Tx-GR7RDsH"
      },
      "source": [
        "import re\n",
        "from typing import Iterable, Set\n",
        "\n",
        "ARN_REGEX = re.compile(r\"arn:aws:[a-z0-9\\-]*:[a-z0-9\\-]*:(?P<account_id>\\d+):.*\")\n",
        "\n",
        "\n",
        "def collect_account_ids_from_arns(arns: Iterable[str]) -> Set[str]:\n",
        "    \"\"\"Given several ARNs in the form\n",
        "        arn:partition:service:region:account-id:resource-id\n",
        "    Collect the unique account IDs found on those strings, and return them.\n",
        "    \"\"\"\n",
        "    collected_account_ids = set()\n",
        "    for arn in arns:\n",
        "        matched = re.match(ARN_REGEX, arn)\n",
        "        if matched is not None:\n",
        "            account_id = matched.groupdict()[\"account_id\"]\n",
        "            collected_account_ids.add(account_id)\n",
        "    return collected_account_ids"
      ],
      "execution_count": null,
      "outputs": []
    },
    {
      "cell_type": "markdown",
      "metadata": {
        "id": "jXK9zpPCRUro"
      },
      "source": [
        "De toute évidence, le code comporte de nombreuses lignes et fait quelque chose de relativement simple. Un lecteur de ce code peut être confus par ces multiples déclarations et peut-être par inadvertance faire une erreur en travaillant avec ce code. Si on pouvait simplifier, ce serait mieux. Nous pouvons obtenir la même fonctionnalité en moins de lignes en utilisant quelques expressions de compréhension d'une manière qui ressemble à la programmation fonctionnelle"
      ]
    },
    {
      "cell_type": "code",
      "metadata": {
        "id": "gXg_yH0iRnzo"
      },
      "source": [
        "def collect_account_ids_from_arns2(arns: Iterable[str]) -> Set[str]:\n",
        "    matched_arns = filter(None, (re.match(ARN_REGEX, arn) for arn in arns))\n",
        "    return {m.groupdict()[\"account_id\"] for m in matched_arns}"
      ],
      "execution_count": null,
      "outputs": []
    },
    {
      "cell_type": "markdown",
      "metadata": {
        "id": "ch_Dz92MR0mv"
      },
      "source": [
        "La première ligne de la fonction semble similaire à l'application de map and filter : d'abord, nous appliquons le résultat d'essayer de faire correspondre l'expression régulière à toutes les chaînes fournies, puis nous filtrons celles qui ne sont pas None. Le résultat est un itérateur que nous utiliserons plus tard pour extraire l'ID de compte dans une expression de compréhension définie.\n",
        "\n",
        "La fonction précédente devrait être plus maintenable que notre premier exemple, mais nécessite toujours deux instructions. Avant Python 3.8, il n'était pas possible de réaliser une version plus compacte. Mais avec l'introduction des expressions d'affectation dans PEP-572 (https://www.python.org/dev/peps/pep-0572/), nous pouvons réécrire cela en une seule instruction :"
      ]
    },
    {
      "cell_type": "code",
      "metadata": {
        "id": "T1jdIF2rSNT4"
      },
      "source": [
        "def collect_account_ids_from_arns3(arns: Iterable[str]) -> Set[str]:\n",
        "    return {\n",
        "        matched.groupdict()[\"account_id\"]\n",
        "        for arn in arns\n",
        "        if (matched := re.match(ARN_REGEX, arn)) is not None\n",
        "    }"
      ],
      "execution_count": null,
      "outputs": []
    },
    {
      "cell_type": "markdown",
      "metadata": {
        "id": "ut6l5CI3SqR4"
      },
      "source": [
        "Notez la syntaxe sur la troisième ligne à l'intérieur de la compréhension. Cela définit un identifiant temporaire à l'intérieur de la portée, qui est le résultat de l'application de l'expression régulière à la chaîne, et il peut être réutilisé dans plusieurs parties dans la même portée.\n",
        "\n",
        "Dans cet exemple particulier, on peut soutenir que le troisième exemple est meilleur que le second (mais il ne devrait y avoir aucun doute que les deux sont meilleurs que le premier !). Je pense que ce dernier exemple est plus expressif car il a moins d'indirections dans le code, et tout ce que le lecteur doit savoir sur la façon dont les valeurs sont collectées appartient à la même portée.\n",
        "\n",
        "Gardez à l'esprit qu'un code plus compact ne signifie pas toujours un meilleur code. Si pour écrire un one-liner, nous devons créer une expression alambiquée, alors cela n'en vaut pas la peine, et nous serions mieux avec l'approche naïve. Ceci est lié au principe **keep it simple** que nous aborderons prochainnement.\n",
        "\n",
        "Une autre bonne raison d'utiliser des expressions d'affectation en général (pas seulement dans les compréhensions) est les considérations de performance. Si nous devons utiliser une fonction dans le cadre de notre logique de transformation, nous ne voulons pas l'appeler plus que nécessaire. Affecter le résultat de la fonction à un identifiant temporaire (comme cela se fait par des expressions d'affectation dans de nouvelles portées) serait une bonne technique d'optimisation qui, en même temps, rend le code plus lisible"
      ]
    },
    {
      "cell_type": "markdown",
      "metadata": {
        "id": "ad9C4I3kWYGT"
      },
      "source": [
        "## Propriétés, attributs et différents types de méthodes pour les objets\n",
        "\n",
        "Toutes les propriétés et fonctions d'un objet sont publiques en Python, ce qui est différent des autres langages où les propriétés peuvent être publiques, privées ou protégées. C'est-à-dire qu'il ne sert à rien d'empêcher les objets appelants d'invoquer les attributs d'un objet. C'est une autre différence par rapport aux autres langages de programmation dans lesquels vous pouvez marquer certains attributs comme privés ou protégés. Il n'y a pas d'application stricte, mais il existe certaines conventions. Un attribut qui commence par un Underscores est censé être privé pour cet objet, et nous nous attendons à ce qu'aucun agent externe ne l'appelle (mais encore une fois, rien ne l'empêche). Avant d'entrer dans les détails des propriétés, il convient de mentionner certains traits Underscores en Python, comprendre la convention et la portée des attributs\n",
        "\n",
        "## Underscores in Python\n",
        "\n",
        "Certaines conventions et détails d'implémentation utilisent des Underscores en Python, ce qui est un sujet intéressant qui mérite d'être analysé.\n",
        "\n",
        "Comme nous l'avons mentionné précédemment, par défaut, tous les attributs d'un objet sont publics. Prenons l'exemple suivant:"
      ]
    },
    {
      "cell_type": "code",
      "metadata": {
        "colab": {
          "base_uri": "https://localhost:8080/"
        },
        "id": "6AxJdlbtZKk0",
        "outputId": "5030961d-ed41-4e5d-9272-6f0f2df9d8bf"
      },
      "source": [
        "class Connector:\n",
        "  def __init__(self, source):\n",
        "    self.source = source\n",
        "    self._timeout = 60\n",
        "conn = Connector(\"postgresql://localhost\")\n",
        "conn.source\n",
        "conn._timeout"
      ],
      "execution_count": null,
      "outputs": [
        {
          "output_type": "execute_result",
          "data": {
            "text/plain": [
              "60"
            ]
          },
          "metadata": {},
          "execution_count": 16
        }
      ]
    },
    {
      "cell_type": "code",
      "metadata": {
        "colab": {
          "base_uri": "https://localhost:8080/"
        },
        "id": "BbFQ053wZkwD",
        "outputId": "ee4f44ce-8cdc-4d7f-b6d4-5668a4e4f266"
      },
      "source": [
        "conn.__dict__"
      ],
      "execution_count": null,
      "outputs": [
        {
          "output_type": "execute_result",
          "data": {
            "text/plain": [
              "{'_timeout': 60, 'source': 'postgresql://localhost'}"
            ]
          },
          "metadata": {},
          "execution_count": 13
        }
      ]
    },
    {
      "cell_type": "markdown",
      "metadata": {
        "id": "eHqixQ5cZ9pI"
      },
      "source": [
        "Ici, un objet Connector est créé avec source et commence avec deux attributs : la source et le délai d'expiration susmentionnés. Le premier est public et le second privé. Cependant, comme nous pouvons le voir dans les lignes suivantes lorsque nous créons un objet comme celui-ci, nous pouvons en fait accéder aux deux"
      ]
    },
    {
      "cell_type": "markdown",
      "metadata": {
        "id": "ErGu3eNqaHbB"
      },
      "source": [
        "L'interprétation de ce code est que _timeout doit être accessible uniquement dans le connecteur lui-même et jamais à partir d'un appelant. Cela signifie que vous devez organiser le code de manière à pouvoir refactoriser en toute sécurité le délai d'attente à tout moment, en vous fondant sur le fait qu'il n'est pas appelé de l'extérieur de l'objet (uniquement en interne), préservant ainsi la même interface comme avant. Le respect de ces règles rend le code plus facile à maintenir et plus robuste car nous n'avons pas à nous soucier des effets d'entraînement lors de la refactorisation du code si nous maintenons l'interface de l'objet. Le même principe s'applique également aux méthodes\n",
        "\n",
        "Les attributs qui commencent par un trait doivent être respectés comme privés et ne pas être appelés en externe. D'autre part, comme exception à cette règle, on pourrait dire que dans les tests unitaires, il pourrait être autorisé à accéder à des attributs internes si cela rend les choses plus faciles à tester (mais notez que l'adhésion à cette approche pragmatique souffre toujours du coût de maintenabilité lorsque vous décidez de refactoriser la classe principale). Cependant, gardez à l'esprit la recommandation suivante\n",
        "\n",
        "L'utilisation d'un seul trait comme préfixe est la manière Pythonique de délimiter clairement l'interface d'un objet. Il existe cependant une idée fausse commune selon laquelle certains attributs et méthodes peuvent être rendus privés. C'est, encore une fois, une idée fausse. Imaginons que maintenant l'attribut timeout soit défini avec un double trait  au début"
      ]
    },
    {
      "cell_type": "code",
      "metadata": {
        "colab": {
          "base_uri": "https://localhost:8080/",
          "height": 214
        },
        "id": "-w-kJkMSbY03",
        "outputId": "fe18de5c-0160-4327-cc6a-4253c66841b5"
      },
      "source": [
        "class Connector:\n",
        "  def __init__(self, source):\n",
        "    self.source = source\n",
        "    self.__timeout = 60\n",
        "  \n",
        "  def connect(self):\n",
        "    print(\"connecting with {0}s\".format(self.__timeout))\n",
        "    # ...\n",
        "\n",
        "conn = Connector(\"postgresql://localhost\")\n",
        "conn.connect()\n",
        "\n",
        "conn.__timeout"
      ],
      "execution_count": null,
      "outputs": [
        {
          "output_type": "stream",
          "name": "stdout",
          "text": [
            "connecting with 60s\n"
          ]
        },
        {
          "output_type": "error",
          "ename": "AttributeError",
          "evalue": "ignored",
          "traceback": [
            "\u001b[0;31m---------------------------------------------------------------------------\u001b[0m",
            "\u001b[0;31mAttributeError\u001b[0m                            Traceback (most recent call last)",
            "\u001b[0;32m<ipython-input-19-6e22cd0c9bad>\u001b[0m in \u001b[0;36m<module>\u001b[0;34m()\u001b[0m\n\u001b[1;32m     11\u001b[0m \u001b[0mconn\u001b[0m\u001b[0;34m.\u001b[0m\u001b[0mconnect\u001b[0m\u001b[0;34m(\u001b[0m\u001b[0;34m)\u001b[0m\u001b[0;34m\u001b[0m\u001b[0;34m\u001b[0m\u001b[0m\n\u001b[1;32m     12\u001b[0m \u001b[0;34m\u001b[0m\u001b[0m\n\u001b[0;32m---> 13\u001b[0;31m \u001b[0mconn\u001b[0m\u001b[0;34m.\u001b[0m\u001b[0m__timeout\u001b[0m\u001b[0;34m\u001b[0m\u001b[0;34m\u001b[0m\u001b[0m\n\u001b[0m",
            "\u001b[0;31mAttributeError\u001b[0m: 'Connector' object has no attribute '__timeout'"
          ]
        }
      ]
    },
    {
      "cell_type": "markdown",
      "metadata": {
        "id": "fKBV2zEPcMCk"
      },
      "source": [
        "Certains développeurs utilisent cette méthode pour masquer certains attributs, pensant, comme dans cet exemple, que le délai d'attente est désormais privé et qu'aucun autre objet ne peut le modifier. Maintenant, jetez un œil à l'exception qui est levée lorsque vous essayez d'accéder à __timeout. C'est AttributeError, disant qu'il n'existe pas. Il ne dit pas quelque chose comme \"ceci est privé\" ou \"ceci n'est pas accessible\", et ainsi de suite. Il dit qu'il n'existe pas. Cela devrait nous donner un indice qu'en fait, quelque chose de différent se produit et que ce comportement n'est plutôt qu'un effet secondaire, mais pas l'effet réel que nous voulons.\n",
        "\n",
        "Ce qui se passe en fait, c'est qu'avec les doubles traits, Python crée un nom différent pour l'attribut (c'est ce qu'on appelle la modification du nom). À la place, il crée l'attribut avec le nom suivant : \"_<nom-classe>__<nom-attribut>\". Dans ce cas, un attribut nommé '_Connector__timeout' sera créé, et cet attribut peut être accédé (et modié) comme suit"
      ]
    },
    {
      "cell_type": "code",
      "metadata": {
        "colab": {
          "base_uri": "https://localhost:8080/"
        },
        "id": "REP9WtvQdskE",
        "outputId": "80e0aaef-ab7f-46bc-d415-0ebb13756ab2"
      },
      "source": [
        "vars(conn)"
      ],
      "execution_count": null,
      "outputs": [
        {
          "output_type": "execute_result",
          "data": {
            "text/plain": [
              "{'_Connector__timeout': 60, 'source': 'postgresql://localhost'}"
            ]
          },
          "metadata": {},
          "execution_count": 20
        }
      ]
    },
    {
      "cell_type": "code",
      "metadata": {
        "colab": {
          "base_uri": "https://localhost:8080/"
        },
        "id": "42fzPkS8d1ku",
        "outputId": "503bfafc-2c28-4f95-ebb2-b369065dc96b"
      },
      "source": [
        "conn._Connector__timeout"
      ],
      "execution_count": null,
      "outputs": [
        {
          "output_type": "execute_result",
          "data": {
            "text/plain": [
              "60"
            ]
          },
          "metadata": {},
          "execution_count": 21
        }
      ]
    },
    {
      "cell_type": "markdown",
      "metadata": {
        "id": "MSi-YGe6eAuX"
      },
      "source": [
        "Notez l'effet secondaire que nous avons mentionné plus tôt - l'attribut existe toujours, seulement avec un nom différent, et pour cette raison, l'AttributeError a été levée lors de notre première tentative d'accès.\n",
        "\n",
        "L'idée du double trait en Python est complètement différente. Il a été créé comme un moyen de surcharger différentes méthodes d'une classe qui va être étendue plusieurs fois, sans risque d'avoir des collisions avec les noms de méthodes. Même cela est un cas d'utilisation trop tiré par les cheveux pour justifier l'utilisation de ce mécanisme.\n",
        "\n",
        "Les doubles traits sont une approche non pythonique. Si vous devez définir des attributs comme privés, utilisez un seul trait de soulignement et respectez la convention Pythonic selon laquelle il s'agit d'un attribut privé\n",
        "\n"
      ]
    },
    {
      "cell_type": "markdown",
      "metadata": {
        "id": "blfMR_YAetG9"
      },
      "source": [
        "## Propriétés\n",
        "\n",
        "Typiquement, dans la conception orientée objet, nous créons des objets pour représenter une abstraction sur une entité du problème de domaine. En ce sens, les objets peuvent encapsuler des comportements ou des données. Et le plus souvent, l'exactitude des données détermine si un objet peut être créé ou non. C'est-à-dire que certaines entités ne peuvent exister que pour certaines valeurs des données, alors que les valeurs incorrectes ne devraient pas être autorisées.\n",
        "\n",
        "C'est pourquoi nous créons des méthodes de validation, typiquement à utiliser dans les opérations de setter. Cependant, en Python, nous pouvons parfois encapsuler ces méthodes setter et getter de manière plus compacte en utilisant des propriétés.\n",
        "\n",
        "Prenons l'exemple d'un système géographique qui doit gérer des coordonnées. Il n'y a qu'une certaine plage de valeurs pour laquelle la latitude et la longitude ont un sens. En dehors de ces valeurs, une coordonnée ne peut pas exister. Nous pouvons créer un objet pour représenter une coordonnée, mais en faisant, nous devons nous assurer que les valeurs de latitude sont à tout moment dans les plages acceptables. Et pour cela, nous pouvons utiliser les propriétés"
      ]
    },
    {
      "cell_type": "code",
      "metadata": {
        "id": "MhZS3HhUfwyc"
      },
      "source": [
        "class Coordinate:\n",
        "    def __init__(self, lat: float, long: float) -> None:\n",
        "        self._latitude = self._longitude = None\n",
        "        self.latitude = lat\n",
        "        self.longitude = long\n",
        "\n",
        "    @property\n",
        "    def latitude(self) -> float:\n",
        "        return self._latitude\n",
        "\n",
        "    @latitude.setter\n",
        "    def latitude(self, lat_value: float) -> None:\n",
        "        if -90 <= lat_value <= 90:\n",
        "            self._latitude = lat_value\n",
        "        else:\n",
        "            raise ValueError(f\"{lat_value} is an invalid value for latitude\")\n",
        "\n",
        "    @property\n",
        "    def longitude(self) -> float:\n",
        "        return self._longitude\n",
        "\n",
        "    @longitude.setter\n",
        "    def longitude(self, long_value: float) -> None:\n",
        "        if -180 <= long_value <= 180:\n",
        "            self._longitude = long_value\n",
        "        else:\n",
        "            raise ValueError(f\"{long_value} is an invalid value for longitude\")"
      ],
      "execution_count": null,
      "outputs": []
    },
    {
      "cell_type": "code",
      "metadata": {
        "colab": {
          "base_uri": "https://localhost:8080/",
          "height": 272
        },
        "id": "ZPtFwHM7oZ_e",
        "outputId": "c35896cb-5236-407d-a8e7-1fd5275ec720"
      },
      "source": [
        "coordinate = Coordinate(40, 200)"
      ],
      "execution_count": null,
      "outputs": [
        {
          "output_type": "error",
          "ename": "ValueError",
          "evalue": "ignored",
          "traceback": [
            "\u001b[0;31m---------------------------------------------------------------------------\u001b[0m",
            "\u001b[0;31mValueError\u001b[0m                                Traceback (most recent call last)",
            "\u001b[0;32m<ipython-input-25-e2fd5bef8967>\u001b[0m in \u001b[0;36m<module>\u001b[0;34m()\u001b[0m\n\u001b[0;32m----> 1\u001b[0;31m \u001b[0mcoordinate\u001b[0m \u001b[0;34m=\u001b[0m \u001b[0mCoordinate\u001b[0m\u001b[0;34m(\u001b[0m\u001b[0;36m40\u001b[0m\u001b[0;34m,\u001b[0m \u001b[0;36m200\u001b[0m\u001b[0;34m)\u001b[0m\u001b[0;34m\u001b[0m\u001b[0;34m\u001b[0m\u001b[0m\n\u001b[0m",
            "\u001b[0;32m<ipython-input-24-950f75fafbc2>\u001b[0m in \u001b[0;36m__init__\u001b[0;34m(self, lat, long)\u001b[0m\n\u001b[1;32m      3\u001b[0m         \u001b[0mself\u001b[0m\u001b[0;34m.\u001b[0m\u001b[0m_latitude\u001b[0m \u001b[0;34m=\u001b[0m \u001b[0mself\u001b[0m\u001b[0;34m.\u001b[0m\u001b[0m_longitude\u001b[0m \u001b[0;34m=\u001b[0m \u001b[0;32mNone\u001b[0m\u001b[0;34m\u001b[0m\u001b[0;34m\u001b[0m\u001b[0m\n\u001b[1;32m      4\u001b[0m         \u001b[0mself\u001b[0m\u001b[0;34m.\u001b[0m\u001b[0mlatitude\u001b[0m \u001b[0;34m=\u001b[0m \u001b[0mlat\u001b[0m\u001b[0;34m\u001b[0m\u001b[0;34m\u001b[0m\u001b[0m\n\u001b[0;32m----> 5\u001b[0;31m         \u001b[0mself\u001b[0m\u001b[0;34m.\u001b[0m\u001b[0mlongitude\u001b[0m \u001b[0;34m=\u001b[0m \u001b[0mlong\u001b[0m\u001b[0;34m\u001b[0m\u001b[0;34m\u001b[0m\u001b[0m\n\u001b[0m\u001b[1;32m      6\u001b[0m \u001b[0;34m\u001b[0m\u001b[0m\n\u001b[1;32m      7\u001b[0m     \u001b[0;34m@\u001b[0m\u001b[0mproperty\u001b[0m\u001b[0;34m\u001b[0m\u001b[0;34m\u001b[0m\u001b[0m\n",
            "\u001b[0;32m<ipython-input-24-950f75fafbc2>\u001b[0m in \u001b[0;36mlongitude\u001b[0;34m(self, long_value)\u001b[0m\n\u001b[1;32m     25\u001b[0m             \u001b[0mself\u001b[0m\u001b[0;34m.\u001b[0m\u001b[0m_longitude\u001b[0m \u001b[0;34m=\u001b[0m \u001b[0mlong_value\u001b[0m\u001b[0;34m\u001b[0m\u001b[0;34m\u001b[0m\u001b[0m\n\u001b[1;32m     26\u001b[0m         \u001b[0;32melse\u001b[0m\u001b[0;34m:\u001b[0m\u001b[0;34m\u001b[0m\u001b[0;34m\u001b[0m\u001b[0m\n\u001b[0;32m---> 27\u001b[0;31m             \u001b[0;32mraise\u001b[0m \u001b[0mValueError\u001b[0m\u001b[0;34m(\u001b[0m\u001b[0;34mf\"{long_value} is an invalid value for longitude\"\u001b[0m\u001b[0;34m)\u001b[0m\u001b[0;34m\u001b[0m\u001b[0;34m\u001b[0m\u001b[0m\n\u001b[0m",
            "\u001b[0;31mValueError\u001b[0m: 200 is an invalid value for longitude"
          ]
        }
      ]
    },
    {
      "cell_type": "code",
      "metadata": {
        "colab": {
          "base_uri": "https://localhost:8080/",
          "height": 299
        },
        "id": "CSAtsqfeoiB9",
        "outputId": "2337a0b9-b2b1-42c7-c1cd-66427264d439"
      },
      "source": [
        "coordinate = Coordinate(45, 45)\n",
        "coordinate.latitude = 200\n"
      ],
      "execution_count": null,
      "outputs": [
        {
          "output_type": "error",
          "ename": "ValueError",
          "evalue": "ignored",
          "traceback": [
            "\u001b[0;31m---------------------------------------------------------------------------\u001b[0m",
            "\u001b[0;31mValueError\u001b[0m                                Traceback (most recent call last)",
            "\u001b[0;32m<ipython-input-26-a46c7bbbd15f>\u001b[0m in \u001b[0;36m<module>\u001b[0;34m()\u001b[0m\n\u001b[1;32m      1\u001b[0m \u001b[0mcoordinate\u001b[0m \u001b[0;34m=\u001b[0m \u001b[0mCoordinate\u001b[0m\u001b[0;34m(\u001b[0m\u001b[0;36m45\u001b[0m\u001b[0;34m,\u001b[0m \u001b[0;36m45\u001b[0m\u001b[0;34m)\u001b[0m\u001b[0;34m\u001b[0m\u001b[0;34m\u001b[0m\u001b[0m\n\u001b[0;32m----> 2\u001b[0;31m \u001b[0mcoordinate\u001b[0m\u001b[0;34m.\u001b[0m\u001b[0mlatitude\u001b[0m \u001b[0;34m=\u001b[0m \u001b[0;36m200\u001b[0m\u001b[0;34m\u001b[0m\u001b[0;34m\u001b[0m\u001b[0m\n\u001b[0m",
            "\u001b[0;32m<ipython-input-24-950f75fafbc2>\u001b[0m in \u001b[0;36mlatitude\u001b[0;34m(self, lat_value)\u001b[0m\n\u001b[1;32m     14\u001b[0m             \u001b[0mself\u001b[0m\u001b[0;34m.\u001b[0m\u001b[0m_latitude\u001b[0m \u001b[0;34m=\u001b[0m \u001b[0mlat_value\u001b[0m\u001b[0;34m\u001b[0m\u001b[0;34m\u001b[0m\u001b[0m\n\u001b[1;32m     15\u001b[0m         \u001b[0;32melse\u001b[0m\u001b[0;34m:\u001b[0m\u001b[0;34m\u001b[0m\u001b[0;34m\u001b[0m\u001b[0m\n\u001b[0;32m---> 16\u001b[0;31m             \u001b[0;32mraise\u001b[0m \u001b[0mValueError\u001b[0m\u001b[0;34m(\u001b[0m\u001b[0;34mf\"{lat_value} is an invalid value for latitude\"\u001b[0m\u001b[0;34m)\u001b[0m\u001b[0;34m\u001b[0m\u001b[0;34m\u001b[0m\u001b[0m\n\u001b[0m\u001b[1;32m     17\u001b[0m \u001b[0;34m\u001b[0m\u001b[0m\n\u001b[1;32m     18\u001b[0m     \u001b[0;34m@\u001b[0m\u001b[0mproperty\u001b[0m\u001b[0;34m\u001b[0m\u001b[0;34m\u001b[0m\u001b[0m\n",
            "\u001b[0;31mValueError\u001b[0m: 200 is an invalid value for latitude"
          ]
        }
      ]
    },
    {
      "cell_type": "markdown",
      "metadata": {
        "id": "SOC-6ZCMhAca"
      },
      "source": [
        "ci, nous utilisons une propriété pour définir la latitude et la longitude. en faisant, nous établissons que la récupération de l'un de ces attributs renverra la valeur interne contenue dans les variables privées. Plus important encore, lorsqu'un utilisateur souhaite modifier les valeurs de l'une de ces propriétés sous la forme suivante\n",
        "\n",
        "    coordinate.latitude = <new-latitude-value>  # similar for longitude\n",
        "\n",
        "La méthode de validation déclarée avec le décorateur @latitude.setter sera invoquée automatiquement (et de manière transparente) et passera la valeur à droite de l'instruction (<new-latitude-value>) en tant que paramètre ( nommé lat_value dans le code précédent)\n",
        "\n",
        "    N'écrivez pas de méthodes get_* et set_* personnalisées pour tous les attributs de vos objets.\n",
        "     La plupart du temps, les laisser comme attributs réguliers suffit juste. Si vous devez modifier\n",
        "      la logique lorsqu'un attribut est récupéré ou modifié, utilisez les propriétés\n",
        "\n",
        "\n",
        "Nous avons vu le cas où un objet doit contenir des valeurs et comment les propriétés nous aident à gérer leurs données internes de manière cohérente et transparente, mais parfois, nous pouvons également avoir besoin de faire des calculs basés sur l'état de l'objet et ses données internes. La plupart du temps, les propriétés sont un bon choix .\n",
        "\n",
        "\n",
        "Vous découvrirez peut-être que les propriétés sont un bon moyen de séparer les commandes et les requêtes (CC08). Le principe de séparation des commandes et des requêtes stipule qu'une méthode d'un objet doit soit répondre à quelque chose, soit faire quelque chose, mais pas les deux. Si une méthode fait quelque chose, et en même temps elle renvoie un statut répondant à une question sur le déroulement de cette opération, alors elle fait plus d'une chose, violant clairement le principe qui dit que les fonctions doivent faire une chose, et une seule chose\n",
        "\n",
        "Selon le nom de la méthode, cela peut créer encore plus de confusion, ce qui rend plus difficile pour les lecteurs de comprendre quelle est l'intention réelle du code. Par exemple, si une méthode s'appelle set_email et que nous l'utilisons comme si self.set_email(\"a@j.com\") : ..., que fait ce code ? Est-ce que l'e-mail est défini sur a@j.com ? Vérifie-t-il si l'e-mail est déjà défini sur cette valeur ? Les deux (réglage puis vérification si l'état est correct).\n",
        "\n",
        "Avec les propriétés, nous pouvons éviter ce genre de confusion. Le décorateur @property est la requête qui répondra à quelque chose, et @<property_name>.setter est la commande qui fera quelque chose.\n",
        "\n",
        "Un autre bon conseil dérivé de cet exemple est le suivant : ne faites pas plus d'une chose dans une méthode. Si vous souhaitez attribuer quelque chose, puis vérifier la valeur, décomposez-la en deux ou plusieurs instructions\n",
        "\n",
        "\n",
        "Pour illustrer ce que cela signifie, en utilisant l'exemple précédent, nous aurions une méthode setter ou getter, pour définir l'e-mail de l'utilisateur, puis une autre propriété pour simplement demander l'e-mail. En effet, en général, chaque fois que nous interrogeons un objet sur son état actuel, il devrait le renvoyer sans effets secondaires (sans changer sa représentation interne). Peut-être que la seule exception à laquelle je peux penser à cette règle serait dans le cas d'une propriété paresseuse : quelque chose que nous voulons précalculer une seule fois, puis utiliser la valeur calculée. Pour le reste des cas, essayez de rendre les propriétés idempotentes, puis les méthodes autorisées à modifier la représentation interne de l'objet, mais ne mélangez pas les deux\n",
        "\n",
        "    Les méthodes ne devraient faire qu'une seule chose.\n",
        "    Si vous devez exécuter une action puis vérifier le statut,\n",
        "    faites-le dans des méthodes distinctes appelées par différentes instructions"
      ]
    },
    {
      "cell_type": "markdown",
      "metadata": {
        "id": "wmzyBnwuxJoi"
      },
      "source": [
        "## Créer des classes avec une syntaxe plus compacte\n",
        "\n",
        "En poursuivant l'idée que parfois, nous avons besoin d'objets pour contenir des valeurs, il existe un passe-partout commun en Python en ce qui concerne l'initialisation des objets, qui consiste à déclarer dans la méthode __init__ tous les attributs que l'objet aura, puis à les définir sur variables internes, généralement sous la forme suivante :"
      ]
    },
    {
      "cell_type": "code",
      "metadata": {
        "id": "5FTw3DLdxrs-"
      },
      "source": [
        "def __init__(self, x, y):\n",
        "  self.x = x\n",
        "  self.y = y"
      ],
      "execution_count": null,
      "outputs": []
    },
    {
      "cell_type": "markdown",
      "metadata": {
        "id": "yU6CdSDIx_pA"
      },
      "source": [
        "Depuis Python 3.7, nous pouvons simplifier cela en utilisant le module dataclasses. Ceci a été introduit par PEP-557. Nous avons vu ce module dans le précédament, dans le contexte de l'utilisation d'annotations sur le code, et ici nous allons le revoir brièvement en termes, comment il nous aide à écrire du code plus compact.\n",
        "\n",
        "Ce module fournit un décorateur @dataclass qui, lorsqu'il est appliqué à une classe, prend tous les attributs de classe avec des annotations et les traite comme des attributs d'instance, comme s'ils étaient déclarés dans la méthode d'initialisation. Lors de l'utilisation de ce décorateur, il générera automatiquement la méthode __init__ sur la classe, nous n'avons donc pas à le faire.\n",
        "\n",
        "De plus, ce module fournit un objet field qui nous aidera à définir des traits particuliers pour certains des attributs. Par exemple, si l'un des attributs dont nous avons besoin doit être modifiable (comme une liste), nous verrons plus loin dans ce quide (dans la section pour éviter les mises en garde en Python) que nous ne pouvons pas passer cette liste vide par défaut dans le __init__ méthode, et qu'à la place nous devrions passer None et la définir sur une liste par défaut dans __init__, si None a été fourni.\n",
        "\n",
        "Lors de l'utilisation de l'objet field, ce que nous ferions à la place serait d'utiliser l'argument default_factory et de lui fournir la classe de liste. Cet argument est destiné à être utilisé avec un callable  qui ne prend aucun argument et sera appelé pour construire l'objet, lorsque rien n'est fourni pour la valeur de cet attribut.\n",
        "\n",
        "Comme il n'y a pas de méthode __init__ à implémenter, que se passe-t-il si nous devons exécuter des validations ? Ou si nous voulons que certains attributs soient calculés ou dérivés des précédents ? Pour répondre à cette dernière, on peut s'appuyer sur des propriétés, comme nous venons de l'explorer dans la section précédente. Comme pour la première, les classes de données nous permettent d'avoir une méthode __post_init__ qui sera appelée automatiquement par __init__, ce serait donc un bon endroit pour écrire notre logique pour la post-initialisation.\n",
        "\n",
        "\n",
        "Pour mettre tout cela en pratique, considérons l'exemple de la modélisation d'un nœud pour une structure de données R-Trie (où R signifie radix, ce qui signifie qu'il s'agit d'un arbre indexé sur une base R). Les détails de cette structure de données et les algorithmes qui lui sont associés dépassent le cadre de ce quide, mais pour les besoins de l'exemple, je mentionnerai qu'il s'agit d'une structure de données conçue pour répondre à des requêtes sur du texte ou des chaînes (telles que préxes et trouver des mots similaires ou apparentés). Sous une forme très basique, cette structure de données contient une valeur (qui contient un caractère, et cela peut être sa représentation entière, par exemple), puis un tableau ou une longueur R avec des références aux nœuds suivants (c'est une structure de données récursive, au même sens qu'une liste chaînée ou un arbre par exemple). L'idée est que chaque position du tableau dénit implicitement une référence au nœud suivant. Par exemple, imaginez que la valeur 0 est mappée sur le caractère 'a', alors si le nœud suivant contient une valeur différente de None dans sa position 0, alors cela signifie qu'il y a une référence pour 'a', et cela pointe vers un autre R- Nœud \n",
        "\n",
        "\n",
        "Et nous pourrions écrire un bloc de code comme le suivant pour le représenter. Dans le code suivant, l'attribut nommé next_ contient un trait  de fin, juste pour le différencier de la fonction next intégrée. Nous pouvons affirmer que dans ce cas, il n'y a pas de collision, mais si nous devions utiliser la fonction next() dans la classe RTrieNode, cela pourrait être problématique (et ce sont généralement des erreurs subtiles difficiles à détecter)"
      ]
    },
    {
      "cell_type": "code",
      "metadata": {
        "id": "jSHJVScSvF-P"
      },
      "source": [
        "from typing import List\n",
        "from dataclasses import dataclass, field\n",
        "\n",
        "\n",
        "R = 26\n",
        "\n",
        "\n",
        "@dataclass\n",
        "class RTrieNode:\n",
        "    size = R\n",
        "    value: int\n",
        "    next_: List[\"RTrieNode\"] = field(\n",
        "        default_factory=lambda: [None] * R\n",
        "    )\n",
        "\n",
        "    def __post_init__(self):\n",
        "        if len(self.next_) != self.size:\n",
        "            raise ValueError(f\"Invalid length provided for next list\")"
      ],
      "execution_count": 29,
      "outputs": []
    },
    {
      "cell_type": "markdown",
      "metadata": {
        "id": "gFBea0A2xbnR"
      },
      "source": [
        "L'exemple précédent contient plusieurs combinaisons différentes. Tout d'abord, nous définissons un R-Trie avec R=26 pour représenter les caractères de l'alphabet anglais (ceci n'est pas important pour comprendre le code lui-même, mais cela donne plus de contexte). L'idée est que si nous voulons stocker un mot, nous créons un nœud pour chaque lettre, en commençant par la première. Lorsqu'il y a un lien vers le caractère suivant, nous le stockons à la position du tableau next_ correspondant à ce caractère, un autre nœud pour celui-ci, et ainsi de suite"
      ]
    },
    {
      "cell_type": "markdown",
      "metadata": {
        "id": "c3qM0mfBx1-I"
      },
      "source": [
        "## Objets itérables\n",
        "\n",
        "En Python, nous avons des objets qui peuvent être itérés par défaut. Par exemple, les listes, tuples, ensembles et dictionnaires peuvent non seulement contenir des données dans la structure souhaitée, mais également être itérés sur une boucle for pour obtenir ces valeurs à plusieurs reprises.\n",
        "\n",
        "Cependant, les objets itérables intégrés ne sont pas le seul type que nous pouvons avoir dans une boucle for. Nous pourrions également créer notre propre itérable, avec la logique que nous définissons pour l'itération.\n",
        "\n",
        "Pour y parvenir, nous nous appuyons, une fois de plus, sur des méthodes magiques\n",
        "\n",
        "L'itération fonctionne en Python par son propre protocole (à savoir le protocole itérateur). Lorsque vous essayez d'itérer un objet sous la forme e dans myobject:..., ce que Python vérifie à un niveau très élevé sont les deux choses suivantes, dans l'ordre\n",
        "\n",
        " * Si l'objet contient l'une des méthodes d'itération— __next__ ou __iter__\n",
        " * Si l'objet est une séquence et a __len__ et __getitem__\n",
        "\n",
        "Par conséquent, en tant que mécanisme de secours, les séquences peuvent être itérées, et il existe donc deux manières de personnaliser nos objets pour pouvoir travailler sur des boucles for\n",
        "\n",
        "### Création d'objets itérables\n",
        "\n",
        "Lorsque nous essayons d'itérer un objet, Python appellera la fonction iter() dessus. L'une des premières choses que cette fonction vérifie est la présence de la méthode __iter__ sur cet objet, qui, si elle est présente, sera exécutée.\n",
        "\n",
        "Le code suivant crée un objet qui permet d'itérer sur une plage de dates, produisant un jour à la fois à chaque tour de la boucle :"
      ]
    },
    {
      "cell_type": "code",
      "metadata": {
        "id": "QozmjGI7zUyb"
      },
      "source": [
        "from datetime import timedelta\n",
        "\n",
        "\n",
        "class DateRangeIterable:\n",
        "    \"\"\"An iterable that contains its own iterator object.\"\"\"\n",
        "\n",
        "    def __init__(self, start_date, end_date):\n",
        "        self.start_date = start_date\n",
        "        self.end_date = end_date\n",
        "        self._present_day = start_date\n",
        "\n",
        "    def __iter__(self):\n",
        "        return self\n",
        "\n",
        "    def __next__(self):\n",
        "        if self._present_day >= self.end_date:\n",
        "            raise StopIteration()\n",
        "        today = self._present_day\n",
        "        self._present_day += timedelta(days=1)\n",
        "        return today"
      ],
      "execution_count": 30,
      "outputs": []
    },
    {
      "cell_type": "markdown",
      "metadata": {
        "id": "pyLIQvRHzkID"
      },
      "source": [
        "Cet objet est conçu pour être créé avec une paire de dates, et lorsqu'il est itéré, il produira chaque jour dans l'intervalle de dates spécifié, ce qui est indiqué dans le code suivant\n",
        "\n"
      ]
    },
    {
      "cell_type": "code",
      "metadata": {
        "colab": {
          "base_uri": "https://localhost:8080/"
        },
        "id": "hiHz5y_UzsL4",
        "outputId": "e3e6659b-c936-46a4-f2a1-09ef9955d305"
      },
      "source": [
        "from datetime import date\n",
        "for day in DateRangeIterable(date(2018, 1, 1), date(2018, 1, 5)):\n",
        "  print(day)"
      ],
      "execution_count": 32,
      "outputs": [
        {
          "output_type": "stream",
          "name": "stdout",
          "text": [
            "2018-01-01\n",
            "2018-01-02\n",
            "2018-01-03\n",
            "2018-01-04\n"
          ]
        }
      ]
    },
    {
      "cell_type": "markdown",
      "metadata": {
        "id": "BpYNgIrfz_mR"
      },
      "source": [
        "Ici, la boucle for démarre une nouvelle itération sur notre objet. À ce stade, Python appellera la fonction iter() dessus, qui, à son tour, appellera la méthode magique __iter__. Sur cette méthode, il est déni de retourner self, indiquant que l'objet est lui-même un itérable, donc à ce stade, chaque étape de la boucle appellera la fonction next() sur cet objet, qui délègue à la méthode __next__. Dans cette méthode, nous décidons comment produire les éléments et retournons un à la fois. Lorsqu'il n'y a rien d'autre à produire, nous devons le signaler à Python en levant l'exception StopIteration.\n",
        "\n",
        "Cela signifie que ce qui se passe réellement est similaire à Python appelant next() à chaque fois sur notre objet jusqu'à ce qu'il y ait une exception StopIteration, sur laquelle il sait qu'il doit arrêter la boucle for"
      ]
    },
    {
      "cell_type": "code",
      "metadata": {
        "id": "7te4c0-d0hi5"
      },
      "source": [
        "r = DateRangeIterable(date(2018, 1, 1), date(2018, 1, 3))"
      ],
      "execution_count": 33,
      "outputs": []
    },
    {
      "cell_type": "code",
      "metadata": {
        "colab": {
          "base_uri": "https://localhost:8080/"
        },
        "id": "0adpCygh0kTI",
        "outputId": "f9dd3e06-b4f2-4048-8b08-3ae87b1d0784"
      },
      "source": [
        "next(r)"
      ],
      "execution_count": 34,
      "outputs": [
        {
          "output_type": "execute_result",
          "data": {
            "text/plain": [
              "datetime.date(2018, 1, 1)"
            ]
          },
          "metadata": {},
          "execution_count": 34
        }
      ]
    },
    {
      "cell_type": "code",
      "metadata": {
        "colab": {
          "base_uri": "https://localhost:8080/"
        },
        "id": "UpTKYgWK0lJJ",
        "outputId": "00b246bc-2138-489f-c235-3cc8c141f078"
      },
      "source": [
        "next(r)"
      ],
      "execution_count": 35,
      "outputs": [
        {
          "output_type": "execute_result",
          "data": {
            "text/plain": [
              "datetime.date(2018, 1, 2)"
            ]
          },
          "metadata": {},
          "execution_count": 35
        }
      ]
    },
    {
      "cell_type": "code",
      "metadata": {
        "colab": {
          "base_uri": "https://localhost:8080/",
          "height": 282
        },
        "id": "6f9qeqZe0mHU",
        "outputId": "7c402515-e3b5-4770-e02b-f3e7f72dfcc5"
      },
      "source": [
        "next(r)"
      ],
      "execution_count": 36,
      "outputs": [
        {
          "output_type": "error",
          "ename": "StopIteration",
          "evalue": "ignored",
          "traceback": [
            "\u001b[0;31m---------------------------------------------------------------------------\u001b[0m",
            "\u001b[0;31mStopIteration\u001b[0m                             Traceback (most recent call last)",
            "\u001b[0;32m<ipython-input-36-8ebe59a56b1d>\u001b[0m in \u001b[0;36m<module>\u001b[0;34m()\u001b[0m\n\u001b[0;32m----> 1\u001b[0;31m \u001b[0mnext\u001b[0m\u001b[0;34m(\u001b[0m\u001b[0mr\u001b[0m\u001b[0;34m)\u001b[0m\u001b[0;34m\u001b[0m\u001b[0;34m\u001b[0m\u001b[0m\n\u001b[0m",
            "\u001b[0;32m<ipython-input-30-b9c93aaceb57>\u001b[0m in \u001b[0;36m__next__\u001b[0;34m(self)\u001b[0m\n\u001b[1;32m     15\u001b[0m     \u001b[0;32mdef\u001b[0m \u001b[0m__next__\u001b[0m\u001b[0;34m(\u001b[0m\u001b[0mself\u001b[0m\u001b[0;34m)\u001b[0m\u001b[0;34m:\u001b[0m\u001b[0;34m\u001b[0m\u001b[0;34m\u001b[0m\u001b[0m\n\u001b[1;32m     16\u001b[0m         \u001b[0;32mif\u001b[0m \u001b[0mself\u001b[0m\u001b[0;34m.\u001b[0m\u001b[0m_present_day\u001b[0m \u001b[0;34m>=\u001b[0m \u001b[0mself\u001b[0m\u001b[0;34m.\u001b[0m\u001b[0mend_date\u001b[0m\u001b[0;34m:\u001b[0m\u001b[0;34m\u001b[0m\u001b[0;34m\u001b[0m\u001b[0m\n\u001b[0;32m---> 17\u001b[0;31m             \u001b[0;32mraise\u001b[0m \u001b[0mStopIteration\u001b[0m\u001b[0;34m(\u001b[0m\u001b[0;34m)\u001b[0m\u001b[0;34m\u001b[0m\u001b[0;34m\u001b[0m\u001b[0m\n\u001b[0m\u001b[1;32m     18\u001b[0m         \u001b[0mtoday\u001b[0m \u001b[0;34m=\u001b[0m \u001b[0mself\u001b[0m\u001b[0;34m.\u001b[0m\u001b[0m_present_day\u001b[0m\u001b[0;34m\u001b[0m\u001b[0;34m\u001b[0m\u001b[0m\n\u001b[1;32m     19\u001b[0m         \u001b[0mself\u001b[0m\u001b[0;34m.\u001b[0m\u001b[0m_present_day\u001b[0m \u001b[0;34m+=\u001b[0m \u001b[0mtimedelta\u001b[0m\u001b[0;34m(\u001b[0m\u001b[0mdays\u001b[0m\u001b[0;34m=\u001b[0m\u001b[0;36m1\u001b[0m\u001b[0;34m)\u001b[0m\u001b[0;34m\u001b[0m\u001b[0;34m\u001b[0m\u001b[0m\n",
            "\u001b[0;31mStopIteration\u001b[0m: "
          ]
        }
      ]
    },
    {
      "cell_type": "markdown",
      "metadata": {
        "id": "LaDjvMtv0rSY"
      },
      "source": [
        "Cet exemple fonctionne, mais il a un petit problème : une fois épuisé, l'itérable continuera à être vide, ce qui lèvera StopIteration. Cela signifie que si nous l'utilisons sur deux ou plusieurs boucles for consécutives, seule la première fonctionnera, tandis que la seconde sera vide"
      ]
    },
    {
      "cell_type": "code",
      "metadata": {
        "colab": {
          "base_uri": "https://localhost:8080/",
          "height": 35
        },
        "id": "uwW_yl-s05ZC",
        "outputId": "f9580ecd-8765-4cae-ae8b-7478513b8e3c"
      },
      "source": [
        "r1 = DateRangeIterable(date(2018, 1, 1), date(2018, 1, 5))\n",
        "\", \".join(map(str, r1))"
      ],
      "execution_count": 37,
      "outputs": [
        {
          "output_type": "execute_result",
          "data": {
            "application/vnd.google.colaboratory.intrinsic+json": {
              "type": "string"
            },
            "text/plain": [
              "'2018-01-01, 2018-01-02, 2018-01-03, 2018-01-04'"
            ]
          },
          "metadata": {},
          "execution_count": 37
        }
      ]
    },
    {
      "cell_type": "code",
      "metadata": {
        "colab": {
          "base_uri": "https://localhost:8080/",
          "height": 163
        },
        "id": "zPqJCKM-0_Jr",
        "outputId": "5aaed73a-9bbe-4a03-e691-d9cd19ac3dd4"
      },
      "source": [
        "max(r1)"
      ],
      "execution_count": 38,
      "outputs": [
        {
          "output_type": "error",
          "ename": "ValueError",
          "evalue": "ignored",
          "traceback": [
            "\u001b[0;31m---------------------------------------------------------------------------\u001b[0m",
            "\u001b[0;31mValueError\u001b[0m                                Traceback (most recent call last)",
            "\u001b[0;32m<ipython-input-38-4544ff45dc14>\u001b[0m in \u001b[0;36m<module>\u001b[0;34m()\u001b[0m\n\u001b[0;32m----> 1\u001b[0;31m \u001b[0mmax\u001b[0m\u001b[0;34m(\u001b[0m\u001b[0mr1\u001b[0m\u001b[0;34m)\u001b[0m\u001b[0;34m\u001b[0m\u001b[0;34m\u001b[0m\u001b[0m\n\u001b[0m",
            "\u001b[0;31mValueError\u001b[0m: max() arg is an empty sequence"
          ]
        }
      ]
    },
    {
      "cell_type": "markdown",
      "metadata": {
        "id": "HRvvG2OG1HCK"
      },
      "source": [
        "Cela est dû à la façon dont le protocole d'itération fonctionne : un itérable construit un itérateur, et celui-ci est celui sur lequel on itère. Dans notre exemple, __iter__ vient de renvoyer self, mais nous pouvons lui faire créer un nouvel itérateur à chaque fois qu'il est appelé. Une façon de résoudre ce problème serait de créer de nouvelles instances de DateRangeIterable, ce qui n'est pas un problème terrible, mais nous pouvons faire en sorte que __iter__ utilise un générateur (qui sont des objets itérateurs), qui est créé à chaque fois :"
      ]
    },
    {
      "cell_type": "code",
      "metadata": {
        "id": "rUEh8_dk1bng"
      },
      "source": [
        "class DateRangeContainerIterable:\n",
        "    \"\"\"An range that builds its iteration through a generator.\"\"\"\n",
        "\n",
        "    def __init__(self, start_date, end_date):\n",
        "        self.start_date = start_date\n",
        "        self.end_date = end_date\n",
        "\n",
        "    def __iter__(self):\n",
        "        current_day = self.start_date\n",
        "        while current_day < self.end_date:\n",
        "            yield current_day\n",
        "            current_day += timedelta(days=1)"
      ],
      "execution_count": 39,
      "outputs": []
    },
    {
      "cell_type": "markdown",
      "metadata": {
        "id": "gJKFeTBU9iS2"
      },
      "source": [
        "Et cette fois ça marche :"
      ]
    },
    {
      "cell_type": "code",
      "metadata": {
        "colab": {
          "base_uri": "https://localhost:8080/",
          "height": 35
        },
        "id": "qj1_R8uG9lrk",
        "outputId": "e9da903c-0d86-482f-f4ab-c547157536bb"
      },
      "source": [
        "r1 = DateRangeContainerIterable(date(2018, 1, 1), date(2018, 1, 5))\n",
        "\", \".join(map(str, r1))"
      ],
      "execution_count": 41,
      "outputs": [
        {
          "output_type": "execute_result",
          "data": {
            "application/vnd.google.colaboratory.intrinsic+json": {
              "type": "string"
            },
            "text/plain": [
              "'2018-01-01, 2018-01-02, 2018-01-03, 2018-01-04'"
            ]
          },
          "metadata": {},
          "execution_count": 41
        }
      ]
    },
    {
      "cell_type": "code",
      "metadata": {
        "colab": {
          "base_uri": "https://localhost:8080/"
        },
        "id": "51Clr98i9pz6",
        "outputId": "f4eb2bd4-0d77-4ee9-f1d5-9576ccfb32f4"
      },
      "source": [
        " max(r1)"
      ],
      "execution_count": 44,
      "outputs": [
        {
          "output_type": "execute_result",
          "data": {
            "text/plain": [
              "datetime.date(2018, 1, 4)"
            ]
          },
          "metadata": {},
          "execution_count": 44
        }
      ]
    },
    {
      "cell_type": "markdown",
      "metadata": {
        "id": "DwYFqfsJ92CO"
      },
      "source": [
        "La différence est que chaque boucle for appelle à nouveau __iter__, et chacune d'entre elles crée à nouveau le générateur\n",
        "\n",
        "C'est ce qu'on appelle un conteneur itérable\n",
        "\n",
        "    En général, c'est une bonne idée de travailler avec des itérables de conteneur lorsqu'il s'agit de générateurs"
      ]
    },
    {
      "cell_type": "markdown",
      "metadata": {
        "id": "iwfXmZNL-L7k"
      },
      "source": [
        "### Création de séquences\n",
        "\n",
        "Peut-être que notre objet ne définit pas la méthode __iter__(), mais nous voulons quand même pouvoir l'itérer. Si __iter__ n'est pas défini sur l'objet, la fonction iter() recherchera la présence de __getitem__, et si cela n'est pas trouvé, elle lèvera TypeError.\n",
        "\n",
        "Une séquence est un objet qui implémente __len__ et __getitem__ et s'attend à pouvoir obtenir les éléments qu'elle contient, un à la fois, dans l'ordre, en commençant à zéro comme premier index. Cela signifie que vous devez être prudent dans la logique afin que vous implémentiez correctement __getitem__ pour vous attendre à ce type d'index, sinon l'itération ne fonctionnera pas.\n",
        "\n",
        "L'exemple de la section précédente avait l'avantage d'utiliser moins de mémoire. Cela signifie qu'il ne tient qu'une date à la fois et sait produire les jours un par un. Cependant, il présente l'inconvénient que si nous voulons obtenir le nième élément, nous n'avons aucun moyen de le faire, mais itérer n fois jusqu'à ce que nous l'atteignions. Il s'agit d'un compromis typique en informatique entre l'utilisation de la mémoire et du processeur.\n",
        "\n",
        "L'implémentation avec un itérable utilisera moins de mémoire, mais il faut jusqu'à O(n) pour obtenir un élément, alors que l'implémentation d'une séquence utilisera plus de mémoire (car nous devons tout contenir à la fois), mais prend en charge l'indexation en temps constant, O(1).\n",
        "\n",
        "La notation précédente (par exemple, O(n)) est appelée notation asymptotique (ou notation \"grand-O\") et elle décrit l'ordre de complexité de l'algorithme. A un niveau très élevé, cela signifie combien d'opérations l'algorithme doit effectuer en fonction de la taille de l'entrée (n). Pour plus d'informations à ce sujet, vous pouvez consulter (ALGO01) répertorié à la fin de ce quide, qui contient une étude détaillée de la notation asymptotique.\n",
        "\n",
        "Voici à quoi pourrait ressembler la nouvelle implémentation"
      ]
    },
    {
      "cell_type": "code",
      "metadata": {
        "id": "UXwJz8Ht_tw-"
      },
      "source": [
        "class DateRangeSequence:\n",
        "    \"\"\"An range created by wrapping a sequence.\"\"\"\n",
        "\n",
        "    def __init__(self, start_date, end_date):\n",
        "        self.start_date = start_date\n",
        "        self.end_date = end_date\n",
        "        self._range = self._create_range()\n",
        "\n",
        "    def _create_range(self):\n",
        "        days = []\n",
        "        current_day = self.start_date\n",
        "        while current_day < self.end_date:\n",
        "            days.append(current_day)\n",
        "            current_day += timedelta(days=1)\n",
        "        return days\n",
        "\n",
        "    def __getitem__(self, day_no):\n",
        "        return self._range[day_no]\n",
        "\n",
        "    def __len__(self):\n",
        "        return len(self._range)"
      ],
      "execution_count": 46,
      "outputs": []
    },
    {
      "cell_type": "code",
      "metadata": {
        "colab": {
          "base_uri": "https://localhost:8080/"
        },
        "id": "ZOHZisxG_8pB",
        "outputId": "fc5fd8f6-ced1-4d7c-d0ef-2e95e88cb120"
      },
      "source": [
        "s1 = DateRangeSequence(date(2018, 1, 1), date(2018, 1, 5))\n",
        "for day in s1:\n",
        "  print(day)"
      ],
      "execution_count": 47,
      "outputs": [
        {
          "output_type": "stream",
          "name": "stdout",
          "text": [
            "2018-01-01\n",
            "2018-01-02\n",
            "2018-01-03\n",
            "2018-01-04\n"
          ]
        }
      ]
    },
    {
      "cell_type": "code",
      "metadata": {
        "colab": {
          "base_uri": "https://localhost:8080/"
        },
        "id": "sHrm3YI8AGxX",
        "outputId": "13f81776-0df9-4a8a-d2c5-c3d25e2e1030"
      },
      "source": [
        "s1[0]"
      ],
      "execution_count": 48,
      "outputs": [
        {
          "output_type": "execute_result",
          "data": {
            "text/plain": [
              "datetime.date(2018, 1, 1)"
            ]
          },
          "metadata": {},
          "execution_count": 48
        }
      ]
    },
    {
      "cell_type": "code",
      "metadata": {
        "colab": {
          "base_uri": "https://localhost:8080/"
        },
        "id": "UQlrWWckZI_B",
        "outputId": "c6c61bfb-3c25-4b78-8ad3-8076b5ad211f"
      },
      "source": [
        "s1[-1]"
      ],
      "execution_count": 49,
      "outputs": [
        {
          "output_type": "execute_result",
          "data": {
            "text/plain": [
              "datetime.date(2018, 1, 4)"
            ]
          },
          "metadata": {},
          "execution_count": 49
        }
      ]
    },
    {
      "cell_type": "markdown",
      "metadata": {
        "id": "acjodjFEAM0X"
      },
      "source": [
        "Dans le code précédent, nous pouvons voir que les indices négatifs fonctionnent également. En effet, l'objet DateRangeSequence délègue toutes les opérations à son objet encapsulé (une liste), ce qui est le meilleur moyen de maintenir la compatibilité et un comportement cohérent"
      ]
    },
    {
      "cell_type": "markdown",
      "metadata": {
        "id": "d9wT-XG5AVmU"
      },
      "source": [
        "    Évaluez le compromis entre l'utilisation de la mémoire et du processeur\n",
        "    lorsque vous décidez laquelle des deux implémentations possibles utiliser.\n",
        "    En général, l'itération est préférable (et les générateurs encore plus),\n",
        "    mais gardez à l'esprit les exigences de chaque cas"
      ]
    },
    {
      "cell_type": "markdown",
      "metadata": {
        "id": "ATyNOJVlZPR4"
      },
      "source": [
        "## Container objects\n",
        "\n",
        "Les conteneurs sont des objets qui implémentent une méthode __contains__ (qui renvoie généralement une valeur booléenne). Cette méthode est appelée en présence du mot-clé in de Python. Quelque chose comme ce qui suit\n",
        "    element in container\n",
        "\n",
        "Lorsqu'il est utilisé en Python, devient ceci :\n",
        "\n",
        "    container.__contains__(element)\n",
        "\n",
        "Vous pouvez imaginer à quel point le code peut être plus lisible (et Pythonic !) lorsque cette méthode est correctement implémentée.\n",
        "\n",
        "Disons que nous devons marquer des points sur une carte d'un jeu qui a des coordonnées bidimensionnelles. On pourrait s'attendre à trouver une fonction comme la suivante\n"
      ]
    },
    {
      "cell_type": "code",
      "metadata": {
        "id": "3WTKJJXqaO84"
      },
      "source": [
        "def mark_coordinate(grid, coord):\n",
        "    if 0 <= coord.x < grid.width and 0 <= coord.y < grid.height:\n",
        "        grid[coord] = 1"
      ],
      "execution_count": 50,
      "outputs": []
    },
    {
      "cell_type": "markdown",
      "metadata": {
        "id": "Wv-D-SzBadco"
      },
      "source": [
        "Maintenant, la partie qui vérifie la condition de la première instruction if semble alambiquée ; il ne révèle pas l'intention du code, il n'est pas expressif, et le pire de tout, il appelle à la duplication de code (chaque partie du code où nous devons vérifier les limites avant de continuer devra répéter cette instruction if).\n",
        "\n",
        "Et si la carte elle-même (appelée grid sur le code) pouvait répondre à cette question ? Mieux encore, et si la carte pouvait déléguer cette action à un objet encore plus petit (et donc plus cohérent) ?\n",
        "\n",
        "Nous pourrions résoudre ce problème de manière plus élégante avec une conception orientée objet et à l'aide d'une méthode magique. Dans ce cas, nous pouvons créer une nouvelle abstraction pour représenter les limites de la grille, qui peut devenir un objet en soi.\n",
        "\n",
        "Entre parenthèses, je mentionnerai qu'il est vrai qu'en général, les noms de classe font référence à des noms, et ils sont généralement au singulier. Donc, cela peut sembler étrange d'avoir une classe nommée Boundaries, mais si nous y réfléchissons, peut-être pour ce cas particulier, il est logique de dire que nous avons un objet représentant toutes les limites d'une grille, en particulier à cause de la façon dont elle est utilisé (dans ce cas, nous l'utilisons pour valider si une coordonnée particulière se trouve dans ces limites)\n",
        "\n",
        "\n",
        "Avec cette conception, nous pouvons demander à la carte si elle contient une coordonnée, et la carte elle-même peut avoir des informations sur sa limite et transmettre la requête à son collaborateur interne"
      ]
    },
    {
      "cell_type": "code",
      "metadata": {
        "id": "AHFcNZBX_ZRa"
      },
      "source": [
        "class Boundaries:\n",
        "    def __init__(self, width, height):\n",
        "        self.width = width\n",
        "        self.height = heigh\n",
        "\n",
        "    def __contains__(self, coord):\n",
        "        x, y = coord\n",
        "        return 0 <= x < self.width and 0 <= y < self.height\n",
        "\n",
        "\n",
        "class Grid:\n",
        "    def __init__(self, width, height):\n",
        "        self.width = width\n",
        "        self.height = height\n",
        "        self.limits = Boundaries(width, height)\n",
        "\n",
        "    def __contains__(self, coord):\n",
        "        return coord in self.limits"
      ],
      "execution_count": null,
      "outputs": []
    },
    {
      "cell_type": "markdown",
      "metadata": {
        "id": "nm0B4vz8AnU-"
      },
      "source": [
        "Ce code à lui seul est une bien meilleure implémentation. Premièrement, il fait une composition simple et utilise la délégation pour résoudre le problème. Les deux objets sont vraiment cohérents, ayant la logique minimale possible ; les méthodes sont courtes et la logique parle d'elle-même - coord in self.limits est à peu près une déclaration du problème à résoudre, exprimant l'intention du code.\n",
        "\n",
        "De l'extérieur, on voit aussi les bienfaits. C'est presque comme si Python résolvait le problème pour nous"
      ]
    },
    {
      "cell_type": "markdown",
      "metadata": {
        "id": "jDhg21rurmAV"
      },
      "source": [
        "## Attributs dynamiques des objets\n",
        "\n",
        "Il est possible de contrôler la manière dont les attributs sont obtenus à partir des objets au moyen de la méthode magique __getattr__. Lorsque nous appelons quelque chose comme <myobject>.<myattribute>, Python recherchera <myattribute> dans le dictionnaire de l'objet, en appelant __getattribute__ dessus. Si cela n'est pas trouvé (à savoir, l'objet n'a pas l'attribut que nous recherchons), alors la méthode supplémentaire, __getattr__, est appelée, en passant le nom de l'attribut (myattribute) en paramètre.\n",
        "\n",
        "En recevant cette valeur, nous pouvons contrôler la façon dont les choses doivent être renvoyées à nos objets. Nous pouvons même créer de nouveaux attributs, et ainsi de suite.\n",
        "\n",
        "Dans la liste suivante, la méthode __getattr__ est démontrée\n",
        "\n"
      ]
    },
    {
      "cell_type": "code",
      "metadata": {
        "id": "XorE5R9CsmBR"
      },
      "source": [
        "class DynamicAttributes:\n",
        "    \"\"\"\n",
        "    >>> dyn = DynamicAttributes(\"value\")\n",
        "    >>> dyn.attribute\n",
        "    'value'\n",
        "    >>> dyn.fallback_test\n",
        "    '[fallback resolved] test'\n",
        "    >>> dyn.__dict__[\"fallback_new\"] = \"new value\"\n",
        "    >>> dyn.fallback_new\n",
        "    'new value'\n",
        "    >>> getattr(dyn, \"something\", \"default\")\n",
        "    'default'\n",
        "    \"\"\"\n",
        "\n",
        "    def __init__(self, attribute):\n",
        "        self.attribute = attribute\n",
        "\n",
        "    def __getattr__(self, attr):\n",
        "        if attr.startswith(\"fallback_\"):\n",
        "            name = attr.replace(\"fallback_\", \"\")\n",
        "            return f\"[fallback resolved] {name}\"\n",
        "        raise AttributeError(\n",
        "            f\"{self.__class__.__name__} has no attribute {attr}\"\n",
        "        )"
      ],
      "execution_count": 32,
      "outputs": []
    },
    {
      "cell_type": "code",
      "metadata": {
        "colab": {
          "base_uri": "https://localhost:8080/",
          "height": 35
        },
        "id": "vyHgc53us7jh",
        "outputId": "133d0a6c-931f-45ca-c50a-23cbf9120d60"
      },
      "source": [
        "dyn = DynamicAttributes(\"value\")\n",
        "dyn.attribute"
      ],
      "execution_count": 33,
      "outputs": [
        {
          "output_type": "execute_result",
          "data": {
            "application/vnd.google.colaboratory.intrinsic+json": {
              "type": "string"
            },
            "text/plain": [
              "'value'"
            ]
          },
          "metadata": {},
          "execution_count": 33
        }
      ]
    },
    {
      "cell_type": "code",
      "metadata": {
        "colab": {
          "base_uri": "https://localhost:8080/",
          "height": 35
        },
        "id": "SwhIKY0wtRe1",
        "outputId": "9033e891-7853-4923-9624-4a0f15406b52"
      },
      "source": [
        "dyn.fallback_test"
      ],
      "execution_count": 34,
      "outputs": [
        {
          "output_type": "execute_result",
          "data": {
            "application/vnd.google.colaboratory.intrinsic+json": {
              "type": "string"
            },
            "text/plain": [
              "'[fallback resolved] test'"
            ]
          },
          "metadata": {},
          "execution_count": 34
        }
      ]
    },
    {
      "cell_type": "code",
      "metadata": {
        "colab": {
          "base_uri": "https://localhost:8080/",
          "height": 35
        },
        "id": "JhghTf81uk7e",
        "outputId": "2e3d415a-a89d-4f48-f03e-5207f5ce3024"
      },
      "source": [
        "dyn.__dict__[\"fallback_new\"] = \"new value\"\n",
        "dyn.fallback_new"
      ],
      "execution_count": 35,
      "outputs": [
        {
          "output_type": "execute_result",
          "data": {
            "application/vnd.google.colaboratory.intrinsic+json": {
              "type": "string"
            },
            "text/plain": [
              "'new value'"
            ]
          },
          "metadata": {},
          "execution_count": 35
        }
      ]
    },
    {
      "cell_type": "code",
      "metadata": {
        "colab": {
          "base_uri": "https://localhost:8080/",
          "height": 35
        },
        "id": "g7cPDDybtqZZ",
        "outputId": "33e3917c-70c4-42fb-b971-77cf4dae84fb"
      },
      "source": [
        "getattr(dyn, \"something\", \"default\")"
      ],
      "execution_count": 36,
      "outputs": [
        {
          "output_type": "execute_result",
          "data": {
            "application/vnd.google.colaboratory.intrinsic+json": {
              "type": "string"
            },
            "text/plain": [
              "'default'"
            ]
          },
          "metadata": {},
          "execution_count": 36
        }
      ]
    },
    {
      "cell_type": "markdown",
      "metadata": {
        "id": "R36iiBh8t_aJ"
      },
      "source": [
        "Le premier appel est simple : nous demandons simplement un attribut de l'objet et obtenons sa valeur en conséquence. Le second est l'endroit où cette méthode agit car l'objet n'a rien appelé fallback_test, donc __getattr__ s'exécutera avec cette valeur. Dans cette méthode, nous avons placé le code qui renvoie une chaîne, et ce que nous obtenons est le résultat de cette transformation.\n",
        "\n",
        "Le troisième exemple est intéressant car un nouvel attribut nommé fallback_new est créé (en fait, cet appel serait le même que d'exécuter dyn.fallback_new = \"new value\"), donc lorsque nous demandons cet attribut, notez que la logique que nous mettons dans __getattr__ le fait ne s'applique pas, simplement parce que ce code n'est jamais appelé.\n",
        "\n",
        "Maintenant, le dernier exemple est le plus intéressant. Il y a un détail subtil ici qui fait une énorme différence. Examinez à nouveau le code de la méthode __getattr__. Notez l'exception qu'il lève lorsque la valeur n'est pas récupérable, AttributeError. Ce n'est pas seulement pour la cohérence (ainsi que le message dans l'exception), mais également requis par la fonction intégrée getattr(). Si cette exception avait été une autre, elle augmenterait et la valeur par défaut ne serait pas renvoyée\n",
        "\n",
        "    Soyez prudent lorsque vous implémentez une méthode aussi dynamique que\n",
        "    __getattr__, et utilisez-la avec prudence. Lors de l'implémentation de\n",
        "    __getattr__, augmentez AttributeError\n"
      ]
    },
    {
      "cell_type": "markdown",
      "metadata": {
        "id": "dNYnNga8wIKZ"
      },
      "source": [
        "La méthode magique __getattr__ est utile dans de nombreuses situations. Il peut être utilisé pour créer un proxy vers un autre objet. Par exemple, si vous créez un objet wrapper au-dessus d'un autre au moyen de la composition et que vous souhaitez déléguer la plupart des méthodes à l'objet wrappé, au lieu de copier et de définir toutes ces méthodes, vous pouvez implémenter __getattr__ qui appellera en interne la même méthode sur l'objet enveloppé.\n",
        "\n",
        "Un autre exemple est lorsque vous savez que vous avez besoin d'attributs calculés dynamiquement.\n",
        "\n",
        "Utilisez la méthode magique __getattr__ lorsque vous voyez une opportunité d'éviter beaucoup de code dupliqué et de passe-partout, mais n'abusez pas  cette méthode, car cela rendra le code plus difficile à comprendre et à raisonner. Gardez à l'esprit que le fait d'avoir des attributs qui ne sont pas explicitement déclarés et qui apparaissent simplement dynamiquement rendra le code plus difficile à comprendre. Lorsque vous utilisez cette méthode, vous pesez toujours la compacité du code par rapport à la maintenabilité"
      ]
    },
    {
      "cell_type": "markdown",
      "metadata": {
        "id": "EsdPglDpxrB7"
      },
      "source": [
        "## Callable objects\n",
        "\n",
        "Il est possible (et souvent pratique) de dénir des objets pouvant agir comme des fonctions. L'une des applications les plus courantes pour cela est de créer de meilleurs décorateurs, mais cela ne se limite pas à cela\n",
        "\n",
        "La méthode magique __call__ sera appelée lorsque nous essaierons d'exécuter notre objet comme s'il s'agissait d'une fonction normale. Chaque argument qui lui est transmis sera transmis à la méthode __call__. Le principal avantage de l'implémentation de fonctions de cette manière, via des objets, est que les objets ont des états, ce qui nous permet de sauvegarder et de conserver les informations entre les appels. Cela signifie que l'utilisation d'un objet callable peut être un moyen plus pratique d'implémenter des fonctions si nous devons maintenir un état interne entre différents appels. Des exemples de cela peuvent être des fonctions que nous aimerions implémenter avec la mémorisation, ou des caches internes\n",
        "\n",
        "Lorsque nous avons un objet, une déclaration comme celle-ci, object(*args, **kwargs), est traduite en Python en object.__call__(*args, **kwargs)\n",
        "\n",
        "Cette méthode est utile lorsque nous voulons créer des objets callable qui fonctionneront comme des fonctions paramétrées, ou dans certains cas, des fonctions avec mémoire. La liste suivante utilise cette méthode pour construire un objet qui, lorsqu'il est appelé avec un paramètre, renvoie le nombre de fois il a été appelé avec la même valeur :"
      ]
    },
    {
      "cell_type": "code",
      "metadata": {
        "id": "koglTrP40Dth"
      },
      "source": [
        "from collections import defaultdict\n",
        "\n",
        "\n",
        "class CallCount:\n",
        "    \"\"\"\n",
        "    >>> cc = CallCount()\n",
        "    >>> cc(1)\n",
        "    1\n",
        "    >>> cc(2)\n",
        "    1\n",
        "    >>> cc(1)\n",
        "    2\n",
        "    >>> cc(1)\n",
        "    3\n",
        "    >>> cc(\"something\")\n",
        "    1\n",
        "    >>> callable(cc)\n",
        "    True\n",
        "    \"\"\"\n",
        "\n",
        "    def __init__(self):\n",
        "        self._counts = defaultdict(int)\n",
        "\n",
        "    def __call__(self, argument):\n",
        "        self._counts[argument] += 1\n",
        "        return self._counts[argument]"
      ],
      "execution_count": 37,
      "outputs": []
    },
    {
      "cell_type": "code",
      "metadata": {
        "colab": {
          "base_uri": "https://localhost:8080/"
        },
        "id": "Ki0nfvOL0MVW",
        "outputId": "4282df72-0dae-4869-eca6-8fd1d37dac75"
      },
      "source": [
        "cc = CallCount()\n",
        "cc(1)"
      ],
      "execution_count": 38,
      "outputs": [
        {
          "output_type": "execute_result",
          "data": {
            "text/plain": [
              "1"
            ]
          },
          "metadata": {},
          "execution_count": 38
        }
      ]
    },
    {
      "cell_type": "code",
      "metadata": {
        "colab": {
          "base_uri": "https://localhost:8080/"
        },
        "id": "8izINbZ70OSv",
        "outputId": "29b80b4c-01b0-4329-c308-19af4785d095"
      },
      "source": [
        "cc(2)"
      ],
      "execution_count": 39,
      "outputs": [
        {
          "output_type": "execute_result",
          "data": {
            "text/plain": [
              "1"
            ]
          },
          "metadata": {},
          "execution_count": 39
        }
      ]
    },
    {
      "cell_type": "code",
      "metadata": {
        "colab": {
          "base_uri": "https://localhost:8080/"
        },
        "id": "vUCFupwE0P8-",
        "outputId": "85395a25-b6e0-4726-c1be-5105373be87f"
      },
      "source": [
        "cc(1)"
      ],
      "execution_count": 40,
      "outputs": [
        {
          "output_type": "execute_result",
          "data": {
            "text/plain": [
              "2"
            ]
          },
          "metadata": {},
          "execution_count": 40
        }
      ]
    },
    {
      "cell_type": "markdown",
      "metadata": {
        "id": "TSz2xlon0ffc"
      },
      "source": [
        "## Résumé des méthodes magiques\n",
        "\n",
        "Nous pouvons résumer les concepts que nous avons décrits dans les sections précédentes sous la forme d'un aide-mémoire comme celui présenté comme suit. Pour chaque action en Python, la méthode magique impliquée est présentée, ainsi que le concept qu'elle représente :\n",
        "\n",
        "\n",
        "| Déclaration  | Méthode magique   | Comportement  |\n",
        "|:-:|:-:|---|\n",
        "| **obj[key]** , **obj[i:j]**, **obj[i:j:k]**  | $__getitem__(key)$  | **Subscriptable objec**  |\n",
        "|**with obj: ...**   |  $__enter__$ / $__exit__$ | Context manager   |\n",
        "| for i in obj:  | $__iter__ / __next__$  | Iterable object  |\n",
        "| for i in obj:  |  $__len__$ / $__getitem__$  | Sequence  |\n",
        "| obj.<attribute>  |  $__getattr__$ | Dynamic attribute retrieval  |\n",
        "|obj(*args, **kwargs)| $__call__(*args, **kwargs)$|Callable object|"
      ]
    },
    {
      "cell_type": "markdown",
      "metadata": {
        "id": "och_SDbm0g9o"
      },
      "source": [
        "Le meilleur moyen d'implémenter correctement ces méthodes (et de connaître l'ensemble des méthodes qui doivent être implémentées ensemble) est de déclarer notre classe pour implémenter la classe correspondante en suivant les classes de base abstraites définies dans le module collections.abc (https://docs.python.org/3/library/collections.abc.html#collections-abstract-base-classes). Ces interfaces fournissent les méthodes qui doivent être implémentées, il vous sera donc plus facile de définir correctement la classe, et elle s'occupera également de créer le type correctement (quelque chose qui fonctionne bien lorsque la méthode isinstance() la fonction est appelée sur votre objet)\n",
        "\n",
        "Nous avons vu les principales caractéristiques de Python en ce qui concerne sa syntaxe particulière. Avec les fonctionnalités que nous avons apprises (gestionnaires de contexte, objets appelables, création de nos propres séquences, etc.), nous sommes maintenant capables d'écrire du code qui se fondra bien avec les mots réservés de Python (par exemple, nous pouvons utiliser les instructions with avec nos propres gestionnaires de contexte, ou l'opérateur in avec notre propre conteneur.)\n",
        "\n",
        "Avec la pratique et l'expérience, vous deviendrez plus à l'aise avec ces fonctionnalités de Python, jusqu'à ce que cela devienne une seconde nature pour vous d'envelopper la logique que vous écrivez derrière des abstractions avec des interfaces agréables et petites. Donnez-lui suffisamment de temps, et l'effet inverse se produira : Python commencera à vous programmer. C'est-à-dire que vous penserez naturellement à avoir de petites interfaces propres dans vos programmes, donc même lorsque vous créez des logiciels dans un langage différent, vous essayerez d'utiliser ces concepts. Par exemple, si vous vous retrouvez à programmer, disons, Java ou C (ou même Bash), vous pourriez identifier un scénario où un gestionnaire de contexte pourrait être utile. Maintenant, le langage lui-même peut ne pas prendre en charge cela par défaut, mais cela ne vous empêchera peut-être pas d'écrire votre propre abstraction qui offre des garanties similaires. Et c'est une bonne chose. Cela signifie que vous avez intériorisé de bons concepts au-delà d'un langage spécifique et que vous pouvez les appliquer dans différentes situations.\n",
        "\n",
        "Tous les langages de programmation ont leurs mises en garde, et Python ne fait pas exception, donc afin d'avoir une compréhension plus complète de Python, nous passerons en revue certains d'entre eux dans la section suivante\n"
      ]
    },
    {
      "cell_type": "markdown",
      "metadata": {
        "id": "u5i9Ge1-_T92"
      },
      "source": [
        "## Mises en garde en Python\n",
        "\n",
        "En plus de comprendre les principales caractéristiques de la langue, être capable d'écrire du code idiomatique, c'est aussi être conscient des problèmes potentiels de certains idiomes et comment les éviter. Dans cette section, nous allons explorer les problèmes courants qui peuvent entraîner de longues sessions de débogage s'ils vous prennent au dépourvu.\n",
        "\n",
        "La plupart des points discutés dans cette section sont des choses à éviter entièrement, et j'oserai dire qu'il n'y a presque aucun scénario possible qui justifie la présence de l'anti-modèle (ou de l'idiome, dans ce cas). Par conséquent, si vous trouvez cela sur la base de code sur laquelle vous travaillez, n'hésitez pas à le refactoriser de la manière suggérée. Si vous trouvez ces caractéristiques lors d'une revue de code, c'est une indication claire que quelque chose doit changer.\n",
        "\n"
      ]
    },
    {
      "cell_type": "markdown",
      "metadata": {
        "id": "JEX1Fmag_7t6"
      },
      "source": [
        "#### Arguments par défaut mutables\n",
        "\n",
        "En termes simples, n'utilisez pas d'objets mutables comme arguments par défaut pout les  fonctions. Si vous utilisez des objets mutables comme arguments par défaut, vous obtiendrez des résultats qui ne sont pas ceux attendus. Considérez la définition de fonction erronée suivante :"
      ]
    },
    {
      "cell_type": "code",
      "metadata": {
        "id": "g4O66wAoASBW"
      },
      "source": [
        "def wrong_user_display(user_metadata: dict = {\"name\": \"John\", \"age\": 30}):\n",
        "    name = user_metadata.pop(\"name\")\n",
        "    age = user_metadata.pop(\"age\")\n",
        "\n",
        "    return f\"{name} ({age})\""
      ],
      "execution_count": 45,
      "outputs": []
    },
    {
      "cell_type": "markdown",
      "metadata": {
        "id": "G8n5trYcAaP3"
      },
      "source": [
        "Cela a deux problèmes, en fait. Outre l'argument mutable par défaut, le corps de la fonction est en train de muter un objet mutable, et donc de créer un effet secondaire. Mais le problème principal est l'argument par défaut pour user_metadata\n",
        "\n",
        "Cela ne fonctionnera en fait que la première fois qu'il est appelé sans arguments. Pour la deuxième fois, nous l'appelons sans passer explicitement quelque chose à user_metadata. Il échouera avec une KeyError, comme si"
      ]
    },
    {
      "cell_type": "code",
      "metadata": {
        "colab": {
          "base_uri": "https://localhost:8080/",
          "height": 35
        },
        "id": "8JjY1rcYA1VH",
        "outputId": "bfcf1d7c-84cd-4caf-862a-47d0438431ad"
      },
      "source": [
        "wrong_user_display()"
      ],
      "execution_count": 46,
      "outputs": [
        {
          "output_type": "execute_result",
          "data": {
            "application/vnd.google.colaboratory.intrinsic+json": {
              "type": "string"
            },
            "text/plain": [
              "'John (30)'"
            ]
          },
          "metadata": {},
          "execution_count": 46
        }
      ]
    },
    {
      "cell_type": "code",
      "metadata": {
        "colab": {
          "base_uri": "https://localhost:8080/",
          "height": 35
        },
        "id": "3DNE3hoEBAe_",
        "outputId": "2e3611a3-9134-4e40-eb09-48eafa9f91c9"
      },
      "source": [
        "wrong_user_display({\"name\": \"Jane\", \"age\": 25})"
      ],
      "execution_count": 48,
      "outputs": [
        {
          "output_type": "execute_result",
          "data": {
            "application/vnd.google.colaboratory.intrinsic+json": {
              "type": "string"
            },
            "text/plain": [
              "'Jane (25)'"
            ]
          },
          "metadata": {},
          "execution_count": 48
        }
      ]
    },
    {
      "cell_type": "code",
      "metadata": {
        "colab": {
          "base_uri": "https://localhost:8080/",
          "height": 282
        },
        "id": "52hNDsI0BHcE",
        "outputId": "6cab03d7-d468-4cdb-9203-4845d919f4e2"
      },
      "source": [
        "wrong_user_display()"
      ],
      "execution_count": 49,
      "outputs": [
        {
          "output_type": "error",
          "ename": "KeyError",
          "evalue": "ignored",
          "traceback": [
            "\u001b[0;31m---------------------------------------------------------------------------\u001b[0m",
            "\u001b[0;31mKeyError\u001b[0m                                  Traceback (most recent call last)",
            "\u001b[0;32m<ipython-input-49-468f5f73dd28>\u001b[0m in \u001b[0;36m<module>\u001b[0;34m()\u001b[0m\n\u001b[0;32m----> 1\u001b[0;31m \u001b[0mwrong_user_display\u001b[0m\u001b[0;34m(\u001b[0m\u001b[0;34m)\u001b[0m\u001b[0;34m\u001b[0m\u001b[0;34m\u001b[0m\u001b[0m\n\u001b[0m",
            "\u001b[0;32m<ipython-input-45-a562b792d500>\u001b[0m in \u001b[0;36mwrong_user_display\u001b[0;34m(user_metadata)\u001b[0m\n\u001b[1;32m      1\u001b[0m \u001b[0;32mdef\u001b[0m \u001b[0mwrong_user_display\u001b[0m\u001b[0;34m(\u001b[0m\u001b[0muser_metadata\u001b[0m\u001b[0;34m:\u001b[0m \u001b[0mdict\u001b[0m \u001b[0;34m=\u001b[0m \u001b[0;34m{\u001b[0m\u001b[0;34m\"name\"\u001b[0m\u001b[0;34m:\u001b[0m \u001b[0;34m\"John\"\u001b[0m\u001b[0;34m,\u001b[0m \u001b[0;34m\"age\"\u001b[0m\u001b[0;34m:\u001b[0m \u001b[0;36m30\u001b[0m\u001b[0;34m}\u001b[0m\u001b[0;34m)\u001b[0m\u001b[0;34m:\u001b[0m\u001b[0;34m\u001b[0m\u001b[0;34m\u001b[0m\u001b[0m\n\u001b[0;32m----> 2\u001b[0;31m     \u001b[0mname\u001b[0m \u001b[0;34m=\u001b[0m \u001b[0muser_metadata\u001b[0m\u001b[0;34m.\u001b[0m\u001b[0mpop\u001b[0m\u001b[0;34m(\u001b[0m\u001b[0;34m\"name\"\u001b[0m\u001b[0;34m)\u001b[0m\u001b[0;34m\u001b[0m\u001b[0;34m\u001b[0m\u001b[0m\n\u001b[0m\u001b[1;32m      3\u001b[0m     \u001b[0mage\u001b[0m \u001b[0;34m=\u001b[0m \u001b[0muser_metadata\u001b[0m\u001b[0;34m.\u001b[0m\u001b[0mpop\u001b[0m\u001b[0;34m(\u001b[0m\u001b[0;34m\"age\"\u001b[0m\u001b[0;34m)\u001b[0m\u001b[0;34m\u001b[0m\u001b[0;34m\u001b[0m\u001b[0m\n\u001b[1;32m      4\u001b[0m \u001b[0;34m\u001b[0m\u001b[0m\n\u001b[1;32m      5\u001b[0m     \u001b[0;32mreturn\u001b[0m \u001b[0;34mf\"{name} ({age})\"\u001b[0m\u001b[0;34m\u001b[0m\u001b[0;34m\u001b[0m\u001b[0m\n",
            "\u001b[0;31mKeyError\u001b[0m: 'name'"
          ]
        }
      ]
    },
    {
      "cell_type": "markdown",
      "metadata": {
        "id": "mXXbmMfbBMx8"
      },
      "source": [
        "L'explication est simple : en affectant le dictionnaire avec les données par défaut à user_metadata sur la définition de la fonction, ce dictionnaire est en fait créé une fois et la variable user_metadata pointe dessus. Lorsque l'interpréteur Python analyse le fichier, il lit la fonction et trouve une instruction dans la signature qui crée le dictionnaire et l'affecte au paramètre. A partir de là, le dictionnaire n'est créé qu'une seule fois, et c'est le même pour toute la vie du programme.\n",
        "\n",
        "Ensuite, le corps de la fonction modifie cet objet, qui reste vivant en mémoire tant que le programme est en cours d'exécution. Lorsque nous lui passons une valeur, cela prendra la place de l'argument par défaut que nous venons de créer. Quand on ne veut pas de cet objet, il est rappelé, et il a été modifié depuis l'exécution précédente ; la prochaine fois que nous l'exécuterons, ne contiendra pas les clés puisqu'elles ont été supprimées lors de l'appel précédent.\n",
        "\n",
        "Le correctif est également simple : nous devons utiliser None comme valeur sentinelle par défaut et affecter la valeur par défaut sur le corps de la fonction. Étant donné que chaque fonction a sa propre portée et son propre cycle de vie, user_metadata sera affecté au dictionnaire chaque fois qu'aucun n'apparaît"
      ]
    },
    {
      "cell_type": "code",
      "metadata": {
        "id": "tfPVUd8FCLlu"
      },
      "source": [
        "def user_display(user_metadata: dict = None):\n",
        "    user_metadata = user_metadata or {\"name\": \"John\", \"age\": 30}\n",
        "\n",
        "    name = user_metadata.pop(\"name\")\n",
        "    age = user_metadata.pop(\"age\")\n",
        "\n",
        "    return f\"{name} ({age})\""
      ],
      "execution_count": 50,
      "outputs": []
    },
    {
      "cell_type": "markdown",
      "metadata": {
        "id": "CR8a2-mCCbKn"
      },
      "source": [
        "#### Extension des types intégrés\n",
        "\n",
        "La bonne façon d'étendre les types intégrés tels que les listes, les chaînes et les dictionnaires est d'utiliser le module collections.\n",
        "\n",
        "Si vous créez une classe qui étend directement dict, par exemple, vous obtiendrez des résultats qui ne sont probablement pas ceux que vous attendiez. La raison en est que dans CPython (une optimisation C), les méthodes de la classe ne s'appellent pas (comme elles le devraient), donc si vous surchargez l'une d'entre elles, cela ne sera pas reflété par le reste, entraînant des résultats inattendus. Par exemple, vous voudrez peut-être remplacer __getitem__, puis lorsque vous itérez l'objet avec une boucle for, vous remarquerez que la logique que vous avez mise sur cette méthode n'est pas appliquée.\n",
        "\n",
        "Tout cela est résolu en utilisant collections.UserDict, par exemple, qui fournit une interface transparente aux dictionnaires réels et est plus robuste.\n",
        "\n",
        "Disons que nous voulons une liste créée à l'origine à partir de nombres pour convertir les valeurs en chaînes, en ajoutant un préfixe. La première approche peut sembler résoudre le problème, mais elle est erronée:\n"
      ]
    },
    {
      "cell_type": "code",
      "metadata": {
        "id": "t8UcKco2DH0H"
      },
      "source": [
        "class BadList(list):\n",
        "    def __getitem__(self, index):\n",
        "        value = super().__getitem__(index)\n",
        "        if index % 2 == 0:\n",
        "            prefix = \"even\"\n",
        "        else:\n",
        "            prefix = \"odd\"\n",
        "        return f\"[{prefix}] {value}\""
      ],
      "execution_count": 51,
      "outputs": []
    },
    {
      "cell_type": "markdown",
      "metadata": {
        "id": "VywLyaKMDT2r"
      },
      "source": [
        "À première vue, il semble que l'objet se comporte comme nous le souhaitons. Mais alors, si on essaie de l'itérer (après tout, c'est une liste), on s'aperçoit qu'on n'obtient pas ce qu'on voulait"
      ]
    },
    {
      "cell_type": "code",
      "metadata": {
        "colab": {
          "base_uri": "https://localhost:8080/",
          "height": 35
        },
        "id": "_Zg1hSMVDcFd",
        "outputId": "803381bf-70cd-44bf-ee7a-8b949340f826"
      },
      "source": [
        "bl = BadList((0, 1, 2, 3, 4, 5))\n",
        "bl[0]"
      ],
      "execution_count": 52,
      "outputs": [
        {
          "output_type": "execute_result",
          "data": {
            "application/vnd.google.colaboratory.intrinsic+json": {
              "type": "string"
            },
            "text/plain": [
              "'[even] 0'"
            ]
          },
          "metadata": {},
          "execution_count": 52
        }
      ]
    },
    {
      "cell_type": "code",
      "metadata": {
        "colab": {
          "base_uri": "https://localhost:8080/",
          "height": 35
        },
        "id": "bb8I8A2-DjAB",
        "outputId": "ea35f976-3a43-4896-b44f-e06ffc13ee10"
      },
      "source": [
        " bl[1]"
      ],
      "execution_count": 53,
      "outputs": [
        {
          "output_type": "execute_result",
          "data": {
            "application/vnd.google.colaboratory.intrinsic+json": {
              "type": "string"
            },
            "text/plain": [
              "'[odd] 1'"
            ]
          },
          "metadata": {},
          "execution_count": 53
        }
      ]
    },
    {
      "cell_type": "code",
      "metadata": {
        "colab": {
          "base_uri": "https://localhost:8080/",
          "height": 163
        },
        "id": "STXEUR-ZDoOP",
        "outputId": "cffbf0a2-5c64-41ef-cfba-eb9a51dbe29d"
      },
      "source": [
        "\"\".join(bl)"
      ],
      "execution_count": 54,
      "outputs": [
        {
          "output_type": "error",
          "ename": "TypeError",
          "evalue": "ignored",
          "traceback": [
            "\u001b[0;31m---------------------------------------------------------------------------\u001b[0m",
            "\u001b[0;31mTypeError\u001b[0m                                 Traceback (most recent call last)",
            "\u001b[0;32m<ipython-input-54-4256097aa2ac>\u001b[0m in \u001b[0;36m<module>\u001b[0;34m()\u001b[0m\n\u001b[0;32m----> 1\u001b[0;31m \u001b[0;34m\"\"\u001b[0m\u001b[0;34m.\u001b[0m\u001b[0mjoin\u001b[0m\u001b[0;34m(\u001b[0m\u001b[0mbl\u001b[0m\u001b[0;34m)\u001b[0m\u001b[0;34m\u001b[0m\u001b[0;34m\u001b[0m\u001b[0m\n\u001b[0m",
            "\u001b[0;31mTypeError\u001b[0m: sequence item 0: expected str instance, int found"
          ]
        }
      ]
    },
    {
      "cell_type": "markdown",
      "metadata": {
        "id": "erwtIurTDu2O"
      },
      "source": [
        "La fonction de jointure essaiera d'itérer (exécuter une boucle for sur) la liste mais attend des valeurs de type chaîne. Nous nous attendrions à ce que cela fonctionne car nous avons modifié la méthode __getitem__ afin qu'elle renvoie toujours une chaîne. Cependant, sur la base du résultat, nous pouvons conclure que notre version modifiée de __getitem__ n'est pas appelée.\n",
        "\n",
        "Ce problème est en fait un détail d'implémentation de CPython, alors que dans d'autres plates-formes telles que PyPy, cela ne se produit pas (voir les différences entre PyPy et CPython dans les références à la fin de ce guide.\n",
        "\n",
        "Indépendamment de cela, nous devons écrire du code portable et compatible avec toutes les implémentations, nous allons donc le corriger en l'étendant non pas à partir de la liste, mais de UserList"
      ]
    },
    {
      "cell_type": "code",
      "metadata": {
        "id": "mLgxuF56ET3I"
      },
      "source": [
        "from collections import UserList\n",
        "\n",
        "class GoodList(UserList):\n",
        "    def __getitem__(self, index):\n",
        "        value = super().__getitem__(index)\n",
        "        if index % 2 == 0:\n",
        "            prefix = \"even\"\n",
        "        else:\n",
        "            prefix = \"odd\"\n",
        "        return f\"[{prefix}] {value}\""
      ],
      "execution_count": 55,
      "outputs": []
    },
    {
      "cell_type": "code",
      "metadata": {
        "colab": {
          "base_uri": "https://localhost:8080/",
          "height": 35
        },
        "id": "jWLqZZmDEaa8",
        "outputId": "7a5f16a7-d9b2-48bf-f1c2-15f38a9e25cd"
      },
      "source": [
        "gl = GoodList((0, 1, 2))\n",
        "gl[0]"
      ],
      "execution_count": 56,
      "outputs": [
        {
          "output_type": "execute_result",
          "data": {
            "application/vnd.google.colaboratory.intrinsic+json": {
              "type": "string"
            },
            "text/plain": [
              "'[even] 0'"
            ]
          },
          "metadata": {},
          "execution_count": 56
        }
      ]
    },
    {
      "cell_type": "code",
      "metadata": {
        "colab": {
          "base_uri": "https://localhost:8080/",
          "height": 35
        },
        "id": "BvFAh0nEEf0j",
        "outputId": "d2b90c7a-f370-422f-cf5a-30197e62822b"
      },
      "source": [
        "\"; \".join(gl)"
      ],
      "execution_count": 57,
      "outputs": [
        {
          "output_type": "execute_result",
          "data": {
            "application/vnd.google.colaboratory.intrinsic+json": {
              "type": "string"
            },
            "text/plain": [
              "'[even] 0; [odd] 1; [even] 2'"
            ]
          },
          "metadata": {},
          "execution_count": 57
        }
      ]
    },
    {
      "cell_type": "markdown",
      "metadata": {
        "id": "BgyXllkEEk-E"
      },
      "source": [
        "    Ne vous étendez pas directement à partir de dict ;\n",
        "    utilisez plutôt collections.UserDict.\n",
        "    Pour les listes, utilisez collections.UserList,\n",
        "    et pour les chaînes, utilisez collections.UserString\n",
        "  \n",
        "À ce stade, nous connaissons tous les principaux concepts de Python. Non seulement comment écrire du code idiomatique qui se marie bien avec Python lui-même, mais aussi pour éviter certains pièges. La section suivante est complémentaire.\n",
        "\n",
        "Avant de terminer ce partie de notre guide, je voulais donner une introduction rapide à la programmation asynchrone, car bien qu'elle ne soit pas strictement liée au code propre en soi, le code asynchrone est devenu de plus en plus populaire, en suivant l'idée que, pour fonctionner efficacement avec du code, il faut pouvoir le lire et le comprendre, car pouvoir lire du code asynchrone est important."
      ]
    },
    {
      "cell_type": "markdown",
      "metadata": {
        "id": "gYBo2QA-FLxz"
      },
      "source": [
        "## Une brève introduction au code asynchrone\n",
        "\n",
        "La programmation asynchrone n'est pas liée au code propre. Par conséquent, les fonctionnalités de Python décrites dans cette section ne faciliteront pas la maintenance de la base de code. Cette section présente la syntaxe en Python pour travailler avec les coroutines, car elle peut être utile pour le lecteur, et des exemples avec des coroutines peuvent apparaître plus tard dans ce guide.\n",
        "\n",
        "L'idée derrière la programmation asynchrone est d'avoir des parties dans notre code qui peuvent être suspendues afin que d'autres parties de notre code puissent s'exécuter. En règle générale, lorsque nous exécutons des opérations d'I/O, nous aimerions beaucoup garder ce code en cours d'exécution et utiliser le processeur sur autre chose pendant ce temps.\n",
        "\n",
        "Cela change le modèle de programmation. Au lieu de faire des appels de manière synchrone, nous écririons notre code d'une manière qui est appelée par une boucle d'événement, qui est chargée de planifier les coroutines pour les exécuter toutes dans le même processus et thread.\n",
        "\n",
        "L'idée est que nous créons une série de coroutines, et elles sont ajoutées à la boucle d'événement. Lorsque la boucle d'événements démarre, elle choisit parmi les coroutines dont elle dispose et les programme pour s'exécuter. À un moment donné, lorsqu'une de nos coroutines doit effectuer une opération d'E/S(I/O), nous pouvons la déclencher et signaler à la boucle d'événement de reprendre le contrôle, puis programmer une autre coroutine pendant que cette opération est en cours d'exécution. À un moment donné, la boucle d'événements reprendra notre coroutine à partir du dernier point où elle s'est arrêtée et continuera à partir de là. Gardez à l'esprit que l'avantage de la programmation asynchrone est de ne pas bloquer les opérations d'E/S. Cela signifie que le code peut passer à autre chose pendant qu'une opération d'E/S est en place, puis y revenir, mais cela ne signifie pas que plusieurs processus s'exécutent simultanément. Le modèle d'exécution est toujours monothread.\n",
        "\n",
        "Pour y parvenir en Python, il y avait (et il y a toujours) de nombreux frameworks disponibles. Mais dans les anciennes versions de Python, il n'y avait pas de syntaxe spécifique qui permettait cela, donc la façon dont les frameworks fonctionnaient était un peu compliquée, ou non évidente à première vue. À partir de Python 3.5, une syntaxe spécifique pour déclarer les coroutines a été ajoutée au langage, et cela a changé la façon dont nous écrivons du code asynchrone en Python. Un peu avant cela, un module de boucle d'événement par défaut, asyncio, a été introduit dans la bibliothèque standard. Avec ces deux jalons de Python, faire de la programmation asynchrone est bien mieux.\n",
        "\n",
        "Bien que cette section utilise asyncio comme module de traitement asynchrone, ce n'est pas le seul. Vous pouvez écrire du code asynchrone à l'aide de n'importe quelle bibliothèque (il y en a beaucoup disponibles en dehors de la bibliothèque standard, comme trio (https://github.com/python-trio/trio) et curio (https://github.com/dabeaz /curio) pour n'en citer que quelques-uns). La syntaxe fournie par Python pour écrire des coroutines peut être considérée comme une API. Tant que la bibliothèque que vous choisissez est conforme à cette API, vous devriez pouvoir l'utiliser, sans avoir à changer la façon dont vos coroutines ont été déclarées.\n",
        "\n",
        "Les différences syntaxiques par rapport à la programmation asynchrone sont que les coroutines sont comme des fonctions, mais elles sont définies avec async def avant leur nom. Lorsque nous sommes à l'intérieur d'une coroutine et que nous voulons en appeler une autre (qui peut être la nôtre ou définie dans une bibliothèque tierce), nous utiliserons généralement le mot-clé await avant son invocation. Lorsque wait est appelé, cela signale à la boucle d'événements de reprendre le contrôle. À ce stade, la boucle d'événement reprendra son exécution, et la coroutine y restera en attendant que son opération non bloquante se poursuive, et en attendant, une autre partie du code s'exécutera (une autre coroutine sera appelée par l'événement boucle). À un moment donné, la boucle d'événement appellera à nouveau notre coroutine d'origine, et celle-ci reprendra au point où elle s'était arrêtée (juste après la ligne avec l'instruction await).\n",
        "\n",
        "Une coroutine typique que nous pourrions définir dans notre code a la structure suivante :"
      ]
    },
    {
      "cell_type": "code",
      "metadata": {
        "id": "PcrG8JlLIS14"
      },
      "source": [
        "async def mycoro(*args, **kwargs):\n",
        "  # … logic    \n",
        "  await third_party.coroutine(…)\n",
        "  # … more of our logic"
      ],
      "execution_count": null,
      "outputs": []
    },
    {
      "cell_type": "markdown",
      "metadata": {
        "id": "rWBT_6rLIig0"
      },
      "source": [
        "Comme mentionné précédemment, il existe une nouvelle syntaxe pour définir les coroutines. Une différence introduite par cette syntaxe est que contrairement aux fonctions normales, lorsque nous appelons cette définition, elle n'exécutera pas le code qu'elle contient. Au lieu de cela, il créera un objet coroutine. Cet objet sera inclus dans la boucle d'événement, et à un moment donné, doit être attendu (sinon le code à l'intérieur de la définition ne s'exécutera jamais)"
      ]
    },
    {
      "cell_type": "code",
      "metadata": {
        "id": "zINodFcjIuSu"
      },
      "source": [
        "result = await mycoro(…)   #  doing result = mycoro() would be erroneous"
      ],
      "execution_count": null,
      "outputs": []
    },
    {
      "cell_type": "markdown",
      "metadata": {
        "id": "2wo8nyh-I0iN"
      },
      "source": [
        "    N'oubliez pas d'attendre vos coroutines, ou leur code ne sera jamais\n",
        "    exécuté. Faites attention aux avertissements donnés par asyncio\n",
        "\n",
        "Comme mentionné, il existe plusieurs bibliothèques pour la programmation asynchrone en Python, avec des boucles d'événements qui peuvent exécuter des coroutines comme la précédente définie. En particulier, pour asyncio, il existe une fonction intégrée pour exécuter une coroutine jusqu'à son achèvement\n",
        "\n",
        "    import asyncio\n",
        "    asyncio.run(mycoro(…))\n",
        "\n",
        "Les détails du fonctionnement des coroutines en Python dépassent le cadre de ce guide, mais cette introduction devrait familiariser le lecteur avec la syntaxe. Cela dit, les coroutines sont techniquement implémentées au-dessus des générateurs, que nous explorerons en détail plus tard dans ce guide"
      ]
    }
  ]
}