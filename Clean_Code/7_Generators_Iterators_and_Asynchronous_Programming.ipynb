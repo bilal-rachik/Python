{
  "nbformat": 4,
  "nbformat_minor": 0,
  "metadata": {
    "colab": {
      "name": "7 - Generators_Iterators_and_Asynchronous_Programming.ipynb",
      "provenance": []
    },
    "kernelspec": {
      "name": "python3",
      "display_name": "Python 3"
    },
    "language_info": {
      "name": "python"
    }
  },
  "cells": [
    {
      "cell_type": "markdown",
      "metadata": {
        "id": "i5PGHSRE-8tK"
      },
      "source": [
        "# Generators, Iterators, and Asynchronous Programming\n",
        "\n",
        "Les générateurs sont une autre de ces fonctionnalités qui font de Python un langage particulier par rapport aux langages plus traditionnels. Dans ce guide, nous explorerons leur raison d'être, pourquoi ils ont été introduits dans la langue et les problèmes qu'ils résolvent. Nous verrons également comment résoudre les problèmes de manière idiomatique en utilisant des générateurs et comment rendre nos générateurs (ou tout autre itérable, d'ailleurs) Pythonic.\n",
        "\n",
        "On comprendra pourquoi l'itération (sous la forme du pattern itérateur) est automatiquement supportée dans le langage. À partir de là, nous ferons un autre voyage et explorerons comment les générateurs sont devenus une fonctionnalité si fondamentale de Python afin de prendre en charge d'autres fonctionnalités, telles que les coroutines et la programmation asynchrone.\n",
        "\n",
        "Les objectifs de ce chapitre sont les suivants :\n",
        "\n",
        "* Créer des générateurs qui améliorent les performances de nos programmes\n",
        "*  Étudier comment les itérateurs (et le modèle d'itérateur, en particulier) sont profondément intégrés à Python\n",
        "\n",
        "*  Résoudre les problèmes impliquant une itération de manière idiomatique\n",
        "\n",
        "*  Comprendre comment les générateurs fonctionnent comme base pour les coroutines et la programmation asynchrone \n",
        "* Pour explorer la prise en charge syntaxique des coroutines :yield from, await,  et async def\n",
        "\n",
        "\n",
        "La maîtrise des générateurs vous mènera loin dans l'écriture de Python idiomatique, d'où leur importance pour ce guide. Dans ce guide, nous étudions non seulement comment utiliser les générateurs, mais nous explorons également leurs internes, afin de comprendre en profondeur leur fonctionnement."
      ]
    },
    {
      "cell_type": "markdown",
      "metadata": {
        "id": "zSfTVmQFAHpg"
      },
      "source": [
        "## Création de générateurs\n",
        "\n",
        "Les générateurs ont été introduits en Python il y a longtemps (PEP-255), avec l'idée d'introduire l'itération en Python tout en améliorant les performances du programme (en utilisant moins de mémoire) en même temps.\n",
        "\n",
        "L'idée d'un générateur est de créer un objet qui est itérable, et, pendant qu'il est itéré, produira les éléments qu'il contient, un à la fois. L'utilisation principale des générateurs est d'économiser de la mémoire - au lieu d'avoir une très grande liste d'éléments en mémoire, contenant tout à la fois, nous avons un objet qui sait comment produire chaque élément particulier, un à la fois, selon les besoins.\n",
        "\n",
        "Cette fonctionnalité permet des calculs paresseux d'objets lourds en mémoire, d'une manière similaire à ce que fournissent d'autres langages de programmation fonctionnels (Haskell, par exemple). Il serait même possible de travailler avec des séquences infinies car la nature paresseuse des générateurs permet une telle option.\n",
        "\n"
      ]
    },
    {
      "cell_type": "markdown",
      "metadata": {
        "id": "ZWNH_KbQA3Pc"
      },
      "source": [
        "## Un premier regard sur les générateurs\n",
        "Commençons par un exemple. Le problème actuel est que nous voulons traiter une grande liste d'enregistrements et obtenir des métriques et des indicateurs dessus. Étant donné un grand ensemble de données contenant des informations sur les achats, nous souhaitons le traiter afin d'obtenir la vente la plus basse, la vente la plus élevée et le prix moyen d'une vente.\n",
        "\n",
        "Pour la simplicité de cet exemple, nous supposerons un CSV avec seulement deux champs, au format suivant :\n",
        "\n",
        "    <purchase_date>, <price>\n",
        "\n",
        "\n",
        "Nous allons créer un objet qui reçoit tous les achats, et cela nous donnera les métriques nécessaires. Nous pourrions obtenir certaines de ces valeurs en utilisant simplement les fonctions intégrées min() et max(), mais cela nécessiterait d'itérer tous les achats plus d'une fois, donc à la place, nous utilisons notre objet personnalisé, qui obtiendra ces valeurs en une seule itération.\n",
        "\n",
        "\n",
        "Le code qui obtiendra les chiffres pour nous semble plutôt simple. C'est juste un objet avec une méthode qui traitera tous les prix en une seule fois, et, à chaque étape, mettra à jour la valeur de chaque métrique particulière qui nous intéresse. Tout d'abord, nous montrerons la première implémentation dans la liste suivante, et, plus loin dans ce guide (une fois que nous en saurons plus sur l'itération), nous revisiterons cette implémentation et en obtiendrons une version bien meilleure (et plus compacte). Pour l'instant, nous nous contentons de ce qui suit :\n"
      ]
    },
    {
      "cell_type": "code",
      "metadata": {
        "id": "od1vzMzdCbsw"
      },
      "source": [
        "\n",
        "class PurchasesStats:\n",
        "    def __init__(self, purchases):\n",
        "        self.purchases = iter(purchases)\n",
        "        self.min_price: float = None\n",
        "        self.max_price: float = None\n",
        "        self._total_purchases_price: float = 0.0\n",
        "        self._total_purchases = 0\n",
        "        self._initialize()\n",
        "\n",
        "    def _initialize(self):\n",
        "        try:\n",
        "            first_value = next(self.purchases)\n",
        "        except StopIteration:\n",
        "            raise ValueError(\"no values provided\")\n",
        "\n",
        "        self.min_price = self.max_price = first_value\n",
        "        self._update_avg(first_value)\n",
        "\n",
        "    def process(self):\n",
        "        for purchase_value in self.purchases:\n",
        "            self._update_min(purchase_value)\n",
        "            self._update_max(purchase_value)\n",
        "            self._update_avg(purchase_value)\n",
        "        return self\n",
        "\n",
        "    def _update_min(self, new_value: float):\n",
        "        if new_value < self.min_price:\n",
        "            self.min_price = new_value\n",
        "\n",
        "    def _update_max(self, new_value: float):\n",
        "        if new_value > self.max_price:\n",
        "            self.max_price = new_value\n",
        "\n",
        "    @property\n",
        "    def avg_price(self):\n",
        "        return self._total_purchases_price / self._total_purchases\n",
        "\n",
        "    def _update_avg(self, new_value: float):\n",
        "        self._total_purchases_price += new_value\n",
        "        self._total_purchases += 1\n",
        "\n",
        "    def __str__(self):\n",
        "        return (\n",
        "            f\"{self.__class__.__name__}({self.min_price}, \"\n",
        "            f\"{self.max_price}, {self.avg_price})\"\n",
        "        )\n"
      ],
      "execution_count": null,
      "outputs": []
    },
    {
      "cell_type": "markdown",
      "metadata": {
        "id": "SEONE-tfC-bO"
      },
      "source": [
        "Cet objet recevra tous les totaux des achats et traitera les valeurs requises. Maintenant, nous avons besoin d'une fonction qui charge ces nombres dans quelque chose que cet objet peut traiter. Voici la première version :"
      ]
    },
    {
      "cell_type": "code",
      "metadata": {
        "id": "UoLbAftMDIw9"
      },
      "source": [
        "def _load_purchases(filename):\n",
        "    purchases = []\n",
        "    with open(filename) as f:\n",
        "        for line in f:\n",
        "            *_, price_raw = line.partition(\",\")\n",
        "            purchases.append(float(price_raw))\n",
        "\n",
        "    return purchases"
      ],
      "execution_count": null,
      "outputs": []
    },
    {
      "cell_type": "markdown",
      "metadata": {
        "id": "NPVmnBbeDQJo"
      },
      "source": [
        "Ce code fonctionne ; il charge tous les numéros du fichier dans une liste qui, une fois transmise à notre objet personnalisé, produira les numéros que nous voulons. Il a cependant un problème de performances. Si vous l'exécutez avec un ensemble de données assez volumineux, cela prendra un certain temps, et il peut même échouer si l'ensemble de données est suffisamment volumineux pour ne pas tenir dans la mémoire principale.\n",
        "\n",
        "Si nous jetons un coup d'œil à notre code qui consomme ces données, il traite les achats, un à la fois, alors on peut se demander pourquoi notre producteur met tout en mémoire à la fois. Il crée une liste où il met tout le contenu du fichier, mais nous savons que nous pouvons faire mieux.\n",
        "\n",
        "La solution est de créer un générateur. Au lieu de charger tout le contenu du fichier dans une liste, nous produirons les résultats un par un. Le code ressemblera maintenant à ceci :"
      ]
    },
    {
      "cell_type": "code",
      "metadata": {
        "id": "19Qbd8T0DwXN"
      },
      "source": [
        "def load_purchases(filename):\n",
        "    with open(filename) as f:\n",
        "        for line in f:\n",
        "            *_, price_raw = line.partition(\",\")\n",
        "            yield float(price_raw)"
      ],
      "execution_count": null,
      "outputs": []
    },
    {
      "cell_type": "markdown",
      "metadata": {
        "id": "yGI_eNfYD3Ix"
      },
      "source": [
        "Si vous mesurez le processus cette fois, vous remarquerez que l'utilisation de la mémoire a considérablement diminué. Nous pouvons également voir à quel point le code semble plus simple : il n'est pas nécessaire de définir la liste (donc, il n'est pas nécessaire de l'ajouter), et l'instruction return a également disparu.\n",
        "\n",
        "Dans ce cas, la fonction load_purchases est une fonction génératrice, ou simplement un générateur. En Python, la simple présence du mot clé yield dans n'importe quelle fonction en fait un générateur, et, par conséquent, lors de son appel, rien d'autre que de créer un instance du générateur se produira\n",
        "\n",
        "\n",
        "      >>> load_purchases(\"file\")<\n",
        "      generator object load_purchases at 0x...>\n",
        "\n",
        "\n",
        "Un objet générateur est un itérable (nous reviendrons sur les itérables plus en détail plus loin), ce qui signifie qu'il peut fonctionner avec des boucles for. Notez que nous n'avons rien eu à changer sur le code consommateur - notre processeur de statistiques est resté le même, avec la boucle for non modifiée, après la nouvelle implémentation.\n",
        "\n",
        "Travailler avec des itérables nous permet de créer ce genre d'abstractions puissantes qui sont polymorphes par rapport aux boucles for. Tant que nous conservons l'interface itérable, nous pouvons itérer sur cet objet de manière transparente.\n",
        "\n",
        "Ce que nous explorons dans ce guide est un autre cas de code idiomatique qui se marie bien avec Python lui-même. Dans les guides précédents, nous avons vu comment nous pouvons implémenter nos propres gestionnaires de contexte pour connecter nos objets aux instructions with, ou comment pouvons-nous créer des objets conteneurs personnalisés pour tirer parti de l'opérateur in, ou des booléens pour l'instruction if, et ainsi de suite. C'est maintenant au tour de l'opérateur for, et pour cela, nous allons créer des itérateurs.\n",
        "\n",
        "Avant d'entrer dans les détails et les nuances des générateurs, nous pouvons jeter un coup d'œil rapide sur la façon dont les générateurs se rapportent à un concept que nous avons déjà vu : les compréhensions. Un générateur sous la forme d'une compréhension est appelé une expression génératrice, et nous en parlerons brièvement dans la section suivante."
      ]
    },
    {
      "cell_type": "markdown",
      "metadata": {
        "id": "Qomj8YgNFNfG"
      },
      "source": [
        "## Générateur d'expressions\n",
        "\n",
        "Les générateurs économisent beaucoup de mémoire et, comme ce sont des itérateurs, ils constituent une alternative pratique aux autres itérables ou conteneurs qui nécessitent plus d'espace en mémoire, tels que les listes, les tuples ou les ensembles.\n",
        "\n",
        "Tout comme ces structures de données, elles peuvent également être définies par compréhension, seulement qu'elles sont appelées une expression génératrice (il y a un débat en cours pour savoir si elles doivent être appelées compréhensions génératrices. Dans ce guide, nous nous référerons simplement à elles par leur nom canonique, mais n'hésitez pas à utiliser celui que vous préférez).\n",
        "\n",
        "De la même manière, nous définirions une compréhension de liste. Si nous remplaçons les crochets par des parenthèses, nous obtenons un générateur qui résulte de l'expression. Les expressions de générateur peuvent également être transmises directement aux fonctions qui fonctionnent avec des itérables, telles que sum() et max() :"
      ]
    },
    {
      "cell_type": "code",
      "metadata": {
        "colab": {
          "base_uri": "https://localhost:8080/"
        },
        "id": "X9LB7csdF_Px",
        "outputId": "50287442-710d-4416-9ea2-b65b9da479c6"
      },
      "source": [
        "[x**2 for x in range(10)]"
      ],
      "execution_count": null,
      "outputs": [
        {
          "output_type": "execute_result",
          "data": {
            "text/plain": [
              "[0, 1, 4, 9, 16, 25, 36, 49, 64, 81]"
            ]
          },
          "metadata": {},
          "execution_count": 4
        }
      ]
    },
    {
      "cell_type": "code",
      "metadata": {
        "colab": {
          "base_uri": "https://localhost:8080/"
        },
        "id": "_e4RVdfHGDlQ",
        "outputId": "f67c45cf-5758-4479-f6d7-987c7f072bbb"
      },
      "source": [
        "(x**2 for x in range(10))"
      ],
      "execution_count": null,
      "outputs": [
        {
          "output_type": "execute_result",
          "data": {
            "text/plain": [
              "<generator object <genexpr> at 0x7f1543dedad0>"
            ]
          },
          "metadata": {},
          "execution_count": 5
        }
      ]
    },
    {
      "cell_type": "code",
      "metadata": {
        "colab": {
          "base_uri": "https://localhost:8080/"
        },
        "id": "QG5sqYxaGKSm",
        "outputId": "ac85b2da-0df8-4d43-a155-00dceca97f56"
      },
      "source": [
        "sum(x**2 for x in range(10))"
      ],
      "execution_count": null,
      "outputs": [
        {
          "output_type": "execute_result",
          "data": {
            "text/plain": [
              "285"
            ]
          },
          "metadata": {},
          "execution_count": 6
        }
      ]
    },
    {
      "cell_type": "markdown",
      "metadata": {
        "id": "bI7N9KU4GWI1"
      },
      "source": [
        "    \n",
        "    Transmettez toujours une expression de générateur, au lieu d'une\n",
        "    compréhension de liste, aux fonctions qui attendent des itérables, telles\n",
        "    que min(), max() et sum(). C'est plus efficace et Pythonic\n",
        "\n",
        "\n",
        "Ce que signifie la recommandation précédente, c'est d'essayer d'éviter de passer des listes à des fonctions qui fonctionnent déjà avec des générateurs. L'exemple dans le code suivant est quelque chose que vous voudriez éviter et privilégier l'approche de la liste précédente :"
      ]
    },
    {
      "cell_type": "code",
      "metadata": {
        "colab": {
          "base_uri": "https://localhost:8080/"
        },
        "id": "0VNLt74_GuM0",
        "outputId": "5f9565a3-c5ec-471f-90de-22b239de0661"
      },
      "source": [
        "sum([x**2 for x in range(10)])  # here the list can be avoided"
      ],
      "execution_count": null,
      "outputs": [
        {
          "output_type": "execute_result",
          "data": {
            "text/plain": [
              "285"
            ]
          },
          "metadata": {},
          "execution_count": 7
        }
      ]
    },
    {
      "cell_type": "markdown",
      "metadata": {
        "id": "c4iDhx8fG2fM"
      },
      "source": [
        "Et, bien sûr, vous pouvez affecter une expression génératrice à une variable et l'utiliser ailleurs (comme pour les compréhensions). Gardez à l'esprit qu'il y a une distinction importante dans ce cas, car nous parlons ici de générateurs. Une liste peut être réutilisée et itérée plusieurs fois, mais un générateur sera épuisé après avoir été itéré. Pour cette raison, assurez-vous que le résultat de l'expression n'est consommé qu'une seule fois, sinon vous obtiendrez des résultats inattendus.\n",
        "\n",
        "Une approche courante consiste à créer de nouvelles expressions génératrices dans le code. De cette façon, le premier sera épuisé après avoir été itéré, mais un nouveau sera ensuite créé. Le chaînage des expressions du générateur de cette manière est utile et permet d'économiser de la mémoire et de rendre le code plus expressif, car il résout différentes itérations en différentes étapes. Un scénario où cela est utile est lorsque vous devez appliquer plusieurs filtres sur un itérable ; vous pouvez y parvenir en utilisant plusieurs expressions génératrices qui agissent comme des filtres chaînés. Maintenant que nous avons un nouvel outil dans notre boîte à outils (itérateurs), voyons comment nous pouvons l'utiliser pour écrire plus de code idiomatique"
      ]
    },
    {
      "cell_type": "markdown",
      "metadata": {
        "id": "EURx94UjJvln"
      },
      "source": [
        "## Itérer idiomatiquement\n",
        "\n",
        "Dans cette section, nous allons d'abord explorer quelques idiomes qui s'avèrent utiles lorsque nous devons gérer l'itération en Python. Ces recettes de code nous aideront à avoir une meilleure idée des types de choses que nous pouvons faire avec les générateurs (surtout après avoir déjà vu les expressions de générateur) et comment résoudre les problèmes typiques les concernant.\n",
        "\n",
        "Une fois que nous aurons vu quelques idiomes, nous passerons à l'exploration plus approfondie de l'itération en Python, en analysant les méthodes qui rendent l'itération possible et le fonctionnement des objets itérables."
      ]
    },
    {
      "cell_type": "markdown",
      "metadata": {
        "id": "FQ55DNgsLUfr"
      },
      "source": [
        "## Idiomes pour l'itération\n",
        "\n",
        "Nous connaissons déjà la fonction intégrée enumerate() qui, étant donné un itérable, en renverra un autre sur lequel l'élément est un tuple, dont le premier élément est l'indice du second (correspondant à l'élément dans l'original itérable) :"
      ]
    },
    {
      "cell_type": "code",
      "metadata": {
        "colab": {
          "base_uri": "https://localhost:8080/"
        },
        "id": "mZrajge3LnAa",
        "outputId": "cbdd41e5-2f03-4224-8a67-c5c1f444dff1"
      },
      "source": [
        "list(enumerate(\"abcdef\"))"
      ],
      "execution_count": null,
      "outputs": [
        {
          "output_type": "execute_result",
          "data": {
            "text/plain": [
              "[(0, 'a'), (1, 'b'), (2, 'c'), (3, 'd'), (4, 'e'), (5, 'f')]"
            ]
          },
          "metadata": {},
          "execution_count": 8
        }
      ]
    },
    {
      "cell_type": "markdown",
      "metadata": {
        "id": "pVapQvAkLuDV"
      },
      "source": [
        "Nous souhaitons créer un objet similaire, mais à un niveau plus bas ; celui qui peut simplement créer une séquence infinie. Nous voulons un objet qui puisse produire une séquence de nombres, à partir d'un nombre de départ, sans aucune limite.\n",
        "\n",
        "\n",
        "Un objet aussi simple que le suivant peut faire l'affaire. Chaque fois que nous appelons cet objet, nous obtenons le numéro suivant de la séquence à l'infini :"
      ]
    },
    {
      "cell_type": "code",
      "metadata": {
        "id": "dtUf9M9fM8Pm"
      },
      "source": [
        "class NumberSequence:\n",
        "    \"\"\"\n",
        "    >>> seq = NumberSequence()\n",
        "    >>> seq.next()\n",
        "    0\n",
        "    >>> seq.next()\n",
        "    1\n",
        "    >>> seq2 = NumberSequence(10)\n",
        "    >>> seq2.next()\n",
        "    10\n",
        "    >>> seq2.next()\n",
        "    11\n",
        "    \"\"\"\n",
        "\n",
        "    def __init__(self, start=0):\n",
        "        self.current = start\n",
        "\n",
        "    def next(self):\n",
        "        current = self.current\n",
        "        self.current += 1\n",
        "        return current"
      ],
      "execution_count": null,
      "outputs": []
    },
    {
      "cell_type": "markdown",
      "metadata": {
        "id": "Fcq3RHqqND3u"
      },
      "source": [
        "Sur la base de cette interface, nous devrions utiliser cet objet en appelant explicitement sa méthode next() :"
      ]
    },
    {
      "cell_type": "code",
      "metadata": {
        "colab": {
          "base_uri": "https://localhost:8080/"
        },
        "id": "Xqrrs_DmNJdP",
        "outputId": "6575a37c-0bd6-4b0b-ad31-ca0a0adab7f1"
      },
      "source": [
        "seq = NumberSequence()\n",
        "seq.next()"
      ],
      "execution_count": null,
      "outputs": [
        {
          "output_type": "execute_result",
          "data": {
            "text/plain": [
              "0"
            ]
          },
          "metadata": {},
          "execution_count": 10
        }
      ]
    },
    {
      "cell_type": "code",
      "metadata": {
        "colab": {
          "base_uri": "https://localhost:8080/"
        },
        "id": "Q4Lk1qplNLUH",
        "outputId": "56c5d446-d69d-4f00-fc38-a77a02821ee4"
      },
      "source": [
        "seq.next"
      ],
      "execution_count": null,
      "outputs": [
        {
          "output_type": "execute_result",
          "data": {
            "text/plain": [
              "1"
            ]
          },
          "metadata": {},
          "execution_count": 11
        }
      ]
    },
    {
      "cell_type": "code",
      "metadata": {
        "colab": {
          "base_uri": "https://localhost:8080/"
        },
        "id": "z4EFmlNFNSK3",
        "outputId": "1f04c571-bc8e-4d69-bdc4-b4c1aacc8643"
      },
      "source": [
        "seq2 = NumberSequence(10)\n",
        "seq2.next()"
      ],
      "execution_count": null,
      "outputs": [
        {
          "output_type": "execute_result",
          "data": {
            "text/plain": [
              "10"
            ]
          },
          "metadata": {},
          "execution_count": 13
        }
      ]
    },
    {
      "cell_type": "markdown",
      "metadata": {
        "id": "kksae0KDNbPX"
      },
      "source": [
        "Mais avec ce code, nous ne pouvons pas reconstruire la fonction enumerate() comme nous le souhaiterions, car son interface ne prend pas en charge l'itération sur une boucle Python for régulière, ce qui signifie également que nous ne pouvons pas la transmettre en tant que paramètre aux fonctions qui attendent quelque chose à répéter. Remarquez comment le code suivant échoue :"
      ]
    },
    {
      "cell_type": "code",
      "metadata": {
        "colab": {
          "base_uri": "https://localhost:8080/",
          "height": 167
        },
        "id": "fs9U7yVCNnEk",
        "outputId": "feed3f6d-8f75-4045-efcc-27fe4ee31cad"
      },
      "source": [
        "list(zip(NumberSequence(), \"abcdef\"))"
      ],
      "execution_count": null,
      "outputs": [
        {
          "output_type": "error",
          "ename": "TypeError",
          "evalue": "ignored",
          "traceback": [
            "\u001b[0;31m---------------------------------------------------------------------------\u001b[0m",
            "\u001b[0;31mTypeError\u001b[0m                                 Traceback (most recent call last)",
            "\u001b[0;32m<ipython-input-14-1b55bbe6cdf6>\u001b[0m in \u001b[0;36m<module>\u001b[0;34m()\u001b[0m\n\u001b[0;32m----> 1\u001b[0;31m \u001b[0mlist\u001b[0m\u001b[0;34m(\u001b[0m\u001b[0mzip\u001b[0m\u001b[0;34m(\u001b[0m\u001b[0mNumberSequence\u001b[0m\u001b[0;34m(\u001b[0m\u001b[0;34m)\u001b[0m\u001b[0;34m,\u001b[0m \u001b[0;34m\"abcdef\"\u001b[0m\u001b[0;34m)\u001b[0m\u001b[0;34m)\u001b[0m\u001b[0;34m\u001b[0m\u001b[0;34m\u001b[0m\u001b[0m\n\u001b[0m",
            "\u001b[0;31mTypeError\u001b[0m: zip argument #1 must support iteration"
          ]
        }
      ]
    },
    {
      "cell_type": "markdown",
      "metadata": {
        "id": "_vq3bumrNtSJ"
      },
      "source": [
        "Le problème réside dans le fait que NumberSequence ne prend pas en charge l'itération. Pour résoudre ce problème, nous devons faire de l'objet un itérable en implémentant la méthode magique __iter__(). Nous avons également modifié la méthode next() précédente, en utilisant la méthode magique __next__, qui fait de l'objet un itérateur :"
      ]
    },
    {
      "cell_type": "code",
      "metadata": {
        "id": "wOXvST9MOB1h"
      },
      "source": [
        "class SequenceOfNumbers:\n",
        "    \"\"\"\n",
        "    >>> list(zip(SequenceOfNumbers(), \"abcdef\"))\n",
        "    [(0, 'a'), (1, 'b'), (2, 'c'), (3, 'd'), (4, 'e'), (5, 'f')]\n",
        "    >>> seq = SequenceOfNumbers(100)\n",
        "    >>> next(seq)\n",
        "    100\n",
        "    >>> next(seq)\n",
        "    101\n",
        "    \"\"\"\n",
        "\n",
        "    def __init__(self, start=0):\n",
        "        self.current = start\n",
        "\n",
        "    def __next__(self):\n",
        "        current = self.current\n",
        "        self.current += 1\n",
        "        return current\n",
        "\n",
        "    def __iter__(self):\n",
        "        return self"
      ],
      "execution_count": null,
      "outputs": []
    },
    {
      "cell_type": "markdown",
      "metadata": {
        "id": "cKgmwmazOOw0"
      },
      "source": [
        "Cela présente un avantage : non seulement nous pouvons itérer sur l'élément, mais nous n'avons même plus besoin de la méthode .next() car avoir __next__() nous permet d'utiliser la fonction intégrée next() :"
      ]
    },
    {
      "cell_type": "code",
      "metadata": {
        "colab": {
          "base_uri": "https://localhost:8080/"
        },
        "id": "LeMDI1lBOV-4",
        "outputId": "8f597cb8-6000-440a-df7b-3edfb0c0e065"
      },
      "source": [
        "list(zip(SequenceOfNumbers(), \"abcdef\"))"
      ],
      "execution_count": null,
      "outputs": [
        {
          "output_type": "execute_result",
          "data": {
            "text/plain": [
              "[(0, 'a'), (1, 'b'), (2, 'c'), (3, 'd'), (4, 'e'), (5, 'f')]"
            ]
          },
          "metadata": {},
          "execution_count": 16
        }
      ]
    },
    {
      "cell_type": "code",
      "metadata": {
        "colab": {
          "base_uri": "https://localhost:8080/"
        },
        "id": "AJvw8796OXMd",
        "outputId": "2727a090-04c7-43b9-8861-ba2ba823b5b4"
      },
      "source": [
        "seq = SequenceOfNumbers(100)\n",
        "next(seq)"
      ],
      "execution_count": null,
      "outputs": [
        {
          "output_type": "execute_result",
          "data": {
            "text/plain": [
              "100"
            ]
          },
          "metadata": {},
          "execution_count": 17
        }
      ]
    },
    {
      "cell_type": "markdown",
      "metadata": {
        "id": "Lw-iugKeOsr2"
      },
      "source": [
        "Cela utilise le protocole d'itération. Semblable au protocole de gestionnaire de contexte que nous avons exploré dans les guide précédents, qui se compose des méthodes __enter__ et __exit__, ce protocole repose sur les méthodes __iter__ et __next__.\n",
        "\n",
        "Avoir ces protocoles en Python a un avantage : tous ceux qui connaissent Python connaissent déjà cette interface, il y a donc une sorte de \"contrat standard\". Cela signifie, au lieu d'avoir à définir vos propres méthodes et à vous mettre d'accord avec l'équipe (ou tout lecteur potentiel du code), qu'il s'agit de la norme ou du protocole attendu avec lequel votre code fonctionne (comme avec notre méthode next() personnalisée dans le premier exemple) ; Python fournit déjà une interface et possède déjà un protocole. Nous n'avons qu'à le mettre en œuvre correctement"
      ]
    },
    {
      "cell_type": "markdown",
      "metadata": {
        "id": "ZvfgWOhLPHlx"
      },
      "source": [
        "## La fonction next()\n",
        "\n",
        "La fonction intégrée next() fera avancer l'itérable à son élément suivant et le renverra :"
      ]
    },
    {
      "cell_type": "code",
      "metadata": {
        "colab": {
          "base_uri": "https://localhost:8080/",
          "height": 35
        },
        "id": "8fZYPRzFPQVZ",
        "outputId": "58565df5-1226-4165-87b6-c1160468ecb0"
      },
      "source": [
        "word = iter(\"hello\")\n",
        "next(word)"
      ],
      "execution_count": null,
      "outputs": [
        {
          "output_type": "execute_result",
          "data": {
            "application/vnd.google.colaboratory.intrinsic+json": {
              "type": "string"
            },
            "text/plain": [
              "'h'"
            ]
          },
          "metadata": {},
          "execution_count": 2
        }
      ]
    },
    {
      "cell_type": "code",
      "metadata": {
        "colab": {
          "base_uri": "https://localhost:8080/",
          "height": 35
        },
        "id": "0gTxjoPtKT-D",
        "outputId": "7db08a0c-89fb-4e21-a7e2-bfa089ba74a7"
      },
      "source": [
        "next(word)"
      ],
      "execution_count": null,
      "outputs": [
        {
          "output_type": "execute_result",
          "data": {
            "application/vnd.google.colaboratory.intrinsic+json": {
              "type": "string"
            },
            "text/plain": [
              "'e'"
            ]
          },
          "metadata": {},
          "execution_count": 3
        }
      ]
    },
    {
      "cell_type": "code",
      "metadata": {
        "colab": {
          "base_uri": "https://localhost:8080/",
          "height": 35
        },
        "id": "MEd-ArlBKbrq",
        "outputId": "58951261-47b2-4ae2-a651-183d9890a9fe"
      },
      "source": [
        "next(word)"
      ],
      "execution_count": null,
      "outputs": [
        {
          "output_type": "execute_result",
          "data": {
            "application/vnd.google.colaboratory.intrinsic+json": {
              "type": "string"
            },
            "text/plain": [
              "'l'"
            ]
          },
          "metadata": {},
          "execution_count": 4
        }
      ]
    },
    {
      "cell_type": "code",
      "metadata": {
        "colab": {
          "base_uri": "https://localhost:8080/",
          "height": 35
        },
        "id": "TW-DnqUEKcq_",
        "outputId": "4e5973bf-30c7-4440-aedf-2990f2fc61af"
      },
      "source": [
        "next(word)"
      ],
      "execution_count": null,
      "outputs": [
        {
          "output_type": "execute_result",
          "data": {
            "application/vnd.google.colaboratory.intrinsic+json": {
              "type": "string"
            },
            "text/plain": [
              "'l'"
            ]
          },
          "metadata": {},
          "execution_count": 5
        }
      ]
    },
    {
      "cell_type": "code",
      "metadata": {
        "colab": {
          "base_uri": "https://localhost:8080/",
          "height": 35
        },
        "id": "Sl2AiC3qKehH",
        "outputId": "19c8b12b-7e9e-4613-ff1a-67dd583fdc86"
      },
      "source": [
        "next(word)"
      ],
      "execution_count": null,
      "outputs": [
        {
          "output_type": "execute_result",
          "data": {
            "application/vnd.google.colaboratory.intrinsic+json": {
              "type": "string"
            },
            "text/plain": [
              "'o'"
            ]
          },
          "metadata": {},
          "execution_count": 6
        }
      ]
    },
    {
      "cell_type": "markdown",
      "metadata": {
        "id": "dTys5wvcKlsa"
      },
      "source": [
        "Si l'itérateur n'a plus d'éléments à produire, l'exception StopIteration est levée :"
      ]
    },
    {
      "cell_type": "code",
      "metadata": {
        "colab": {
          "base_uri": "https://localhost:8080/",
          "height": 163
        },
        "id": "bpKxPuf6KfRw",
        "outputId": "a0cb810c-3597-4343-8c44-28c3232cbb1e"
      },
      "source": [
        "next(word)"
      ],
      "execution_count": null,
      "outputs": [
        {
          "output_type": "error",
          "ename": "StopIteration",
          "evalue": "ignored",
          "traceback": [
            "\u001b[0;31m---------------------------------------------------------------------------\u001b[0m",
            "\u001b[0;31mStopIteration\u001b[0m                             Traceback (most recent call last)",
            "\u001b[0;32m<ipython-input-7-048549949631>\u001b[0m in \u001b[0;36m<module>\u001b[0;34m()\u001b[0m\n\u001b[0;32m----> 1\u001b[0;31m \u001b[0mnext\u001b[0m\u001b[0;34m(\u001b[0m\u001b[0mword\u001b[0m\u001b[0;34m)\u001b[0m\u001b[0;34m\u001b[0m\u001b[0;34m\u001b[0m\u001b[0m\n\u001b[0m",
            "\u001b[0;31mStopIteration\u001b[0m: "
          ]
        }
      ]
    },
    {
      "cell_type": "markdown",
      "metadata": {
        "id": "OfteEMgCK3VC"
      },
      "source": [
        "Cette exception signale que l'itération est terminée et qu'il n'y a plus d'éléments à consommer. Si nous souhaitons gérer ce cas, en plus d'attraper l'exception StopIteration, nous pourrions fournir à cette fonction une valeur par défaut dans son deuxième paramètre. Si cela est fourni, ce sera la valeur de retour au lieu de lancer StopIteration :"
      ]
    },
    {
      "cell_type": "code",
      "metadata": {
        "colab": {
          "base_uri": "https://localhost:8080/",
          "height": 35
        },
        "id": "W6QtKv1SLA2B",
        "outputId": "d8ea46d1-9c22-462c-fcf2-9e276c6d3fb0"
      },
      "source": [
        "next(word, \"default value\")"
      ],
      "execution_count": null,
      "outputs": [
        {
          "output_type": "execute_result",
          "data": {
            "application/vnd.google.colaboratory.intrinsic+json": {
              "type": "string"
            },
            "text/plain": [
              "'default value'"
            ]
          },
          "metadata": {},
          "execution_count": 9
        }
      ]
    },
    {
      "cell_type": "markdown",
      "metadata": {
        "id": "sCDw35liLIH_"
      },
      "source": [
        "Il est conseillé d'utiliser la valeur par défaut la plupart du temps, pour éviter d'avoir des exceptions à l'exécution dans nos programmes. Si nous sommes absolument sûrs que l'itérateur auquel nous avons affaire ne peut pas être vide, il est toujours préférable d'être implicite (et intentionnel) à ce sujet, et de ne pas compter sur les effets secondaires des fonctions intégrées (c'est-à-dire pour affirmer correctement le cas ).\n",
        "\n",
        "La fonction next() peut être très utile en combinaison avec des expressions génératrices, dans les situations où nous voulons rechercher les premiers éléments d'un itérable qui répond à certains critères. Nous verrons des exemples de cet idiome tout au long du guide, mais l'idée principale est d'utiliser cette fonction au lieu de créer une liste de compréhension puis de prendre son premier élément"
      ]
    },
    {
      "cell_type": "markdown",
      "metadata": {
        "id": "-t4-PjtYLimo"
      },
      "source": [
        "## Utilisation d'un générateur\n",
        "\n",
        "Le code précédent peut être simplifié de manière signicative en utilisant simplement un générateur. Les objets générateurs sont des itérateurs. De cette façon, au lieu de créer une classe, nous pouvons définir une fonction qui renvoie les valeurs nécessaires :"
      ]
    },
    {
      "cell_type": "code",
      "metadata": {
        "id": "x4vi0bPGL8Ix"
      },
      "source": [
        "def sequence(start=0):\n",
        "  while True:        \n",
        "    yield start        \n",
        "    start += 1"
      ],
      "execution_count": null,
      "outputs": []
    },
    {
      "cell_type": "markdown",
      "metadata": {
        "id": "R8pA1KYnMK8O"
      },
      "source": [
        "Rappelez-vous que d'après notre première dénition, le mot-clé yield dans le corps de la fonction en fait un générateur. Puisqu'il s'agit d'un générateur, il est parfaitement judicieux de créer une boucle infinie comme celle-ci, car, lorsque cette fonction génératrice est appelée, elle exécutera tout le code jusqu'à ce que la prochaine instruction yield soit atteinte. Il produira sa valeur et y suspendra :"
      ]
    },
    {
      "cell_type": "code",
      "metadata": {
        "colab": {
          "base_uri": "https://localhost:8080/"
        },
        "id": "uSZer2vzMV4Y",
        "outputId": "0d06c5de-1629-461d-9fe9-828f0ab96aad"
      },
      "source": [
        "seq = sequence(10)\n",
        "next(seq)"
      ],
      "execution_count": null,
      "outputs": [
        {
          "output_type": "execute_result",
          "data": {
            "text/plain": [
              "10"
            ]
          },
          "metadata": {},
          "execution_count": 11
        }
      ]
    },
    {
      "cell_type": "code",
      "metadata": {
        "colab": {
          "base_uri": "https://localhost:8080/"
        },
        "id": "yxHNCNrpMjTB",
        "outputId": "f09593b5-3536-4b53-b2cb-f8710b9713f7"
      },
      "source": [
        "list(zip(sequence(), \"abcdef\"))"
      ],
      "execution_count": null,
      "outputs": [
        {
          "output_type": "execute_result",
          "data": {
            "text/plain": [
              "[(0, 'a'), (1, 'b'), (2, 'c'), (3, 'd'), (4, 'e'), (5, 'f')]"
            ]
          },
          "metadata": {},
          "execution_count": 12
        }
      ]
    },
    {
      "cell_type": "markdown",
      "metadata": {
        "id": "3NnScyIoMq2q"
      },
      "source": [
        "Cette différence peut être considérée comme une analogie des différentes manières de créer un décorateur, comme nous l'avons exploré dans le guide précédent (avec un objet de fonctions). Ici aussi, on peut utiliser une fonction génératrice, ou un objet itérable, comme dans la section précédente. Dans la mesure du possible, la construction d'un générateur est recommandée, car elle est syntaxiquement plus simple, et donc plus facile à comprendre."
      ]
    },
    {
      "cell_type": "markdown",
      "metadata": {
        "id": "ulzjpmWOM5KR"
      },
      "source": [
        "## Itertools\n",
        "\n",
        "Travailler avec des objets itérables a l'avantage que le code se mélange mieux avec Python lui-même car l'itération est un composant clé du langage. En plus de cela, nous pouvons profiter pleinement du module itertools (ITER-01). En fait, le générateur sequence() que nous venons de créer est assez similaire à itertools.count(). Cependant, nous pouvons faire plus.\n",
        "\n",
        "L'un des aspects les plus intéressants des itérateurs, des générateurs et des itertools est qu'il s'agit d'objets composables qui peuvent être enchaînés.\n",
        "\n",
        "Par exemple, pour revenir à notre premier exemple qui traitait les achats afin d'obtenir des métriques, et si nous voulions faire la même chose, mais uniquement pour les valeurs dépassant un certain seuil ? L'approche naïve pour résoudre ce problème serait de placer la condition en itérant :"
      ]
    },
    {
      "cell_type": "code",
      "metadata": {
        "id": "_vUZYceGNZAK"
      },
      "source": [
        "def process(self):        \n",
        "  for purchase in self.purchases:\n",
        "    if purchase > 1000.0:                \n",
        "      ..."
      ],
      "execution_count": null,
      "outputs": []
    },
    {
      "cell_type": "markdown",
      "metadata": {
        "id": "cmUNB8L9Nj8q"
      },
      "source": [
        "Ce n'est pas seulement non Python, mais c'est aussi rigide (et la rigidité est un trait qui dénote un mauvais code). Il ne gère pas très bien les changements. Et si le nombre change maintenant ? Le passe-t-on par paramètre ? Et si nous en avons besoin de plus d'un ? Que faire si la condition est différente (inférieure à, par exemple) ? Passons-nous un lambda?\n",
        "\n",
        "Ces questions ne doivent pas être répondues par cet objet, dont la seule responsabilité est de calculer un ensemble de métriques bien définies sur un flux d'achats représentés sous forme de nombres. Et, bien sûr, la réponse est non. Ce serait une énorme erreur de faire un tel changement (encore une fois, le code propre est flexible, et nous ne voulons pas le rendre rigide en couplant cet objet à des facteurs externes). Ces exigences devront être traitées ailleurs.\n",
        "\n",
        "Il est préférable de garder cet objet indépendant de ses clients. Moins cette classe a de responsabilités, plus elle sera utile pour plus de clients, augmentant ainsi ses chances d'être réutilisée\n",
        "\n",
        "Au lieu de changer ce code, nous allons le garder tel quel et supposer que les nouvelles données sont filtrées en fonction des exigences de chaque client de la classe.\n",
        "\n",
        "Par exemple, si nous voulions traiter uniquement les 10 premiers achats qui s'élèvent à plus de 1000, nous procéderions comme suit :"
      ]
    },
    {
      "cell_type": "code",
      "metadata": {
        "id": "0hlIcYq7OX3A"
      },
      "source": [
        "from itertools import islice\n",
        "\n",
        "purchases = islice(filter(lambda p: p > 1000.0, purchases), 10)\n",
        "\n",
        "stats = PurchasesStats(purchases).process()  "
      ],
      "execution_count": null,
      "outputs": []
    },
    {
      "cell_type": "markdown",
      "metadata": {
        "id": "OjYKJ0SvRY-z"
      },
      "source": [
        "Il n'y a pas de pénalisation de la mémoire pour ce filtrage car comme ce sont tous des générateurs, l'évaluation est toujours paresseuse. Cela nous donne le pouvoir de penser comme si nous avions filtré l'ensemble d'un seul coup puis passé à l'objet, mais sans vraiment tout mettre en mémoire. entre la mémoire et l'utilisation du processeur. Bien que le code puisse utiliser moins de mémoire, cela pourrait prendre plus de temps CPU, mais la plupart du temps, cela est acceptable, lorsque nous devons traiter de nombreux objets en mémoire tout en gardant le code maintenable"
      ]
    },
    {
      "cell_type": "markdown",
      "metadata": {
        "id": "nzU0K0XWRnHL"
      },
      "source": [
        "## Simplifier le code grâce aux itérateurs\n",
        "\n",
        "Maintenant, nous allons brièvement discuter de certaines situations qui peuvent être améliorées à l'aide d'itérateurs, et occasionnellement du module itertools. Après avoir discuté de chaque cas, et de son optimisation proposée, nous clôturerons chaque point par un corollaire"
      ]
    },
    {
      "cell_type": "markdown",
      "metadata": {
        "id": "9pAklL_oR23b"
      },
      "source": [
        "## Itérations répétées\n",
        "\n",
        "Maintenant que nous en avons vu plus sur les itérateurs et introduit le module itertools, nous pouvons vous montrer comment l'un des premiers exemples de ce \n",
        "guide (celui pour le calcul de statistiques sur certains achats) peut être considérablement simplifié :"
      ]
    },
    {
      "cell_type": "code",
      "metadata": {
        "id": "svOBDlQFSdeD"
      },
      "source": [
        "from itertools import tee\n",
        "\n",
        "def process_purchases(purchases):\n",
        "    min_, max_, avg = tee(purchases, 3)\n",
        "    return min(min_), max(max_), median(avg)"
      ],
      "execution_count": null,
      "outputs": []
    },
    {
      "cell_type": "markdown",
      "metadata": {
        "id": "QGQQrER4Sk7M"
      },
      "source": [
        "Dans cet exemple, itertools.tee divisera l'itérable d'origine en trois nouveaux. Nous utiliserons chacun d'eux pour les différents types d'itérations dont nous avons besoin, sans avoir besoin de répéter trois boucles différentes sur les achats.\n",
        "\n",
        "Le lecteur peut simplement vérifier que si l'on passe un objet itérable en paramètre achats, celui-ci n'est parcouru qu'une seule fois (grâce à la fonction itertools.tee [TEE]), ce qui était notre principale exigence. Il est également possible de vérifier en quoi cette version est équivalente à notre implémentation d'origine. Dans ce cas, il n'est pas nécessaire de lever manuellement ValueError car le passage d'une séquence vide à la fonction min() le fera.\n",
        "\n",
        "\n",
        "Le module itertools contient de nombreuses fonctions utiles et de belles abstractions qui s'avèrent utiles lorsqu'il s'agit d'itérations en Python. Il contient également de bonnes recettes sur la façon de résoudre des problèmes d'itération typiques de manière idiomatique. En guise de conseil général, si vous réfléchissez à la façon de résoudre un problème particulier impliquant une itération, jetez un œil à ce module. Même si la réponse n'est pas littéralement là, ce sera une bonne inspiration."
      ]
    },
    {
      "cell_type": "markdown",
      "metadata": {
        "id": "6MM2hlbkTN5U"
      },
      "source": [
        "## Boucles imbriquées\n",
        "\n",
        "Dans certaines situations, nous devons itérer sur plus d'une dimension, à la recherche d'une valeur, et les boucles imbriquées sont la première idée. Lorsque la valeur est trouvée, nous devons arrêter l'itération, mais le mot-clé break ne fonctionne pas entièrement car nous devons nous échapper de deux (ou plus) boucles for, pas seulement une.\n",
        "\n",
        "Quelle serait la solution à cela ? Un drapeau signalant l'évasion ? Non. Lever une exception ? Non, ce serait la même chose que le drapeau, mais encore pire parce que nous savons que les exceptions ne doivent pas être utilisées pour la logique de flux de contrôle. Déplacer le code vers une fonction plus petite et la renvoyer ? Fermer, mais pas tout à fait.\n",
        "\n",
        "La réponse est, dans la mesure du possible, d'aplatir l'itération en une seule boucle for. C'est le genre de code que nous aimerions éviter :"
      ]
    },
    {
      "cell_type": "code",
      "metadata": {
        "id": "f8CCWlDJT6Dq"
      },
      "source": [
        "def search_nested_bad(array, desired_value):\n",
        "    \"\"\"Example of an iteration in a nested loop.\"\"\"\n",
        "    coords = None\n",
        "    for i, row in enumerate(array):\n",
        "        for j, cell in enumerate(row):\n",
        "            if cell == desired_value:\n",
        "                coords = (i, j)\n",
        "                break\n",
        "\n",
        "        if coords is not None:\n",
        "            break\n",
        "\n",
        "    if coords is None:\n",
        "        raise ValueError(f\"{desired_value} not found\")\n",
        "\n",
        "    print(\"value %r found at [%i, %i]\", desired_value, *coords)\n",
        "    return coords"
      ],
      "execution_count": null,
      "outputs": []
    },
    {
      "cell_type": "markdown",
      "metadata": {
        "id": "Iut4AIcRUGRr"
      },
      "source": [
        "Et voici une version simplifiée de celui-ci qui ne repose pas sur des drapeaux pour signaler la terminaison et qui a une structure d'itération plus simple et plus compacte :"
      ]
    },
    {
      "cell_type": "code",
      "metadata": {
        "id": "d7zPqm5fUQJc"
      },
      "source": [
        "def _iterate_array2d(array2d):\n",
        "    for i, row in enumerate(array2d):\n",
        "        for j, cell in enumerate(row):\n",
        "            yield (i, j), cell\n",
        "\n",
        "\n",
        "def search_nested(array, desired_value):\n",
        "    \"\"\"\"Searching in multiple dimensions with a single loop.\"\"\"\n",
        "    try:\n",
        "        coord = next(\n",
        "            coord\n",
        "            for (coord, cell) in _iterate_array2d(array)\n",
        "            if cell == desired_value\n",
        "        )\n",
        "    except StopIteration as e:\n",
        "        raise ValueError(f\"{desired_value} not found\") from e\n",
        "\n",
        "    print(\"value %r found at [%i, %i]\", desired_value, *coord)\n",
        "    return coord"
      ],
      "execution_count": null,
      "outputs": []
    },
    {
      "cell_type": "markdown",
      "metadata": {
        "id": "aSVuOxKBUwDH"
      },
      "source": [
        "Il convient de mentionner comment le générateur auxiliaire qui a été créé fonctionne comme une abstraction pour l'itération requise. Dans ce cas, nous avons juste besoin d'itérer sur deux dimensions, mais si nous en avions besoin de plus, un objet différent pourrait gérer cela sans que le client ait besoin de le savoir. C'est l'essence du modèle de conception de l'itérateur, qui, en Python, est transparent, car il prend en charge automatiquement les objets itérateurs, ce qui est le sujet traité dans la section suivante.\n",
        "\n",
        "    Essayez de simplifier l'itération autant que possible avec autant\n",
        "    d'abstractions que nécessaire, en aplatissant les boucles dans la mesure du\n",
        "     possible.\n",
        "\n",
        "Espérons que cet exemple vous inspirera pour vous faire une idée que nous pouvons utiliser des générateurs pour quelque chose de plus que simplement économiser de la mémoire. Nous pouvons tirer parti de l'itération comme une abstraction. C'est-à-dire que nous pouvons créer des abstractions non seulement en définissant des classes ou des fonctions, mais aussi en tirant parti de la syntaxe de Python. De la même manière que nous avons vu comment faire abstraction d'une certaine logique derrière un gestionnaire de contexte (donc nous ne connaissons pas les détails de ce qui se passe sous l'instruction with), nous pouvons faire de même avec les itérateurs (ainsi nous pouvons oublier le sous-jacent logique d'une boucle for)\n",
        "\n",
        "C'est pourquoi nous allons commencer à explorer le fonctionnement du modèle d'itérateur en Python, en commençant par la section suivante"
      ]
    },
    {
      "cell_type": "markdown",
      "metadata": {
        "id": "f6cr7VKjp2cj"
      },
      "source": [
        "## Le modèle d'itérateur en Python\n",
        "Ici, nous ferons un petit détour par les générateurs pour comprendre plus en profondeur l'itération en Python. Les générateurs sont un cas particulier d'objets itérables, mais l'itération en Python va au-delà des générateurs, et être capable de créer de bons objets itérables nous donnera la possibilité de créer un code plus efficace, compact et lisible.\n",
        "\n",
        "Dans les listes de code précédentes, nous avons vu des exemples d'objets itérables qui sont également des itérateurs, car ils implémentent à la fois les méthodes magiques __iter__() et __next__(). Bien que ce soit ne en général, il n'est pas strictement nécessaire qu'ils implémentent toujours les deux méthodes, et nous montrerons ici les différences subtiles entre un objet itérable (celui qui implémente __iter__) et un itérateur (qui implémente __next__)\n",
        "\n",
        "Nous explorons également d'autres sujets liés aux itérations, tels que les séquences et les objets conteneurs."
      ]
    },
    {
      "cell_type": "markdown",
      "metadata": {
        "id": "WUqZhMmFqcGn"
      },
      "source": [
        "## L'interface pour l'itération\n",
        "\n",
        "Un itérable est un objet qui prend en charge l'itération, ce qui, à un niveau très élevé, signifie que nous pouvons exécuter une boucle for .. in ... dessus, et cela fonctionnera sans aucun problème. Cependant, iterable ne signifie pas la même chose que iterator.\n",
        "\n",
        "De manière générale, un itérable est simplement quelque chose que nous pouvons itérer, et il utilise un itérateur pour le faire. Cela signifie que dans la méthode magique __iter__, nous aimerions retourner un itérateur, à savoir un objet avec une méthode __next__() implémentée\n",
        "\n",
        "Un itérateur est un objet qui ne sait que produire une série de valeurs, une à la fois, lorsqu'il est appelé par la fonction intégrée next() déjà explorée, alors que l'itérateur n'est pas appelé, il est simplement figé, inactif par jusqu'à ce qu'il soit à nouveau appelé pour la prochaine valeur à produire. En ce sens, les générateurs sont des itérateurs.\n",
        "\n",
        "|  Python concept | Magic method  |   Consideration |\n",
        "|:-:|---|---|\n",
        "|   Iterable|  __iter__ | ils travaillent avec un itérateur pour construire la logique d'itération. Ces objets peuvent être itérés dans un for ... in ... : boucle  |\n",
        "|  Iterator |__next__   |  Définissez la logique de production des valeurs une par une. L'exception StopIteration signale que l'itération est terminée. Les valeurs peuvent être obtenues une par une via la fonction intégrée next(). |\n",
        "\n",
        "\n",
        "\n",
        "Dans le code suivant, nous verrons un exemple d'objet itérateur qui n'est pas itérable - il ne prend en charge que l'appel de ses valeurs, une à la fois. Ici, la séquence de noms fait simplement référence à une série de nombres consécutifs, pas au concept de séquence en Python, que nous explorerons plus tard\n"
      ]
    },
    {
      "cell_type": "code",
      "metadata": {
        "id": "ulFCfzcUs7_o"
      },
      "source": [
        "class SequenceIterator:\n",
        "    \"\"\"\n",
        "    >>> si = SequenceIterator(1, 2)\n",
        "    >>> next(si)\n",
        "    1\n",
        "    >>> next(si)\n",
        "    3\n",
        "    >>> next(si)\n",
        "    5\n",
        "    \"\"\"\n",
        "\n",
        "    def __init__(self, start=0, step=1):\n",
        "        self.current = start\n",
        "        self.step = step\n",
        "\n",
        "    def __next__(self):\n",
        "        value = self.current\n",
        "        self.current += self.step\n",
        "        return value"
      ],
      "execution_count": null,
      "outputs": []
    },
    {
      "cell_type": "markdown",
      "metadata": {
        "id": "IIrUGoYotCDr"
      },
      "source": [
        "Notez que nous pouvons obtenir les valeurs de la séquence une par une, mais nous ne pouvons pas itérer sur cet objet (c'est une chance car cela entraînerait sinon une boucle sans fin):"
      ]
    },
    {
      "cell_type": "code",
      "metadata": {
        "colab": {
          "base_uri": "https://localhost:8080/"
        },
        "id": "Nrt7Q6xDtGyD",
        "outputId": "b11a3d2b-606f-4bc0-e069-a0b02c403607"
      },
      "source": [
        "si = SequenceIterator(1, 2)\n",
        "next(si)"
      ],
      "execution_count": null,
      "outputs": [
        {
          "output_type": "execute_result",
          "data": {
            "text/plain": [
              "1"
            ]
          },
          "metadata": {},
          "execution_count": 23
        }
      ]
    },
    {
      "cell_type": "code",
      "metadata": {
        "colab": {
          "base_uri": "https://localhost:8080/",
          "height": 163
        },
        "id": "dd_R5p6htK22",
        "outputId": "e6595950-f707-40fc-e1df-aaba47cb7f46"
      },
      "source": [
        "for _ in SequenceIterator(): pass"
      ],
      "execution_count": null,
      "outputs": [
        {
          "output_type": "error",
          "ename": "TypeError",
          "evalue": "ignored",
          "traceback": [
            "\u001b[0;31m---------------------------------------------------------------------------\u001b[0m",
            "\u001b[0;31mTypeError\u001b[0m                                 Traceback (most recent call last)",
            "\u001b[0;32m<ipython-input-24-e6518e14037f>\u001b[0m in \u001b[0;36m<module>\u001b[0;34m()\u001b[0m\n\u001b[0;32m----> 1\u001b[0;31m \u001b[0;32mfor\u001b[0m \u001b[0m_\u001b[0m \u001b[0;32min\u001b[0m \u001b[0mSequenceIterator\u001b[0m\u001b[0;34m(\u001b[0m\u001b[0;34m)\u001b[0m\u001b[0;34m:\u001b[0m \u001b[0;32mpass\u001b[0m\u001b[0;34m\u001b[0m\u001b[0;34m\u001b[0m\u001b[0m\n\u001b[0m",
            "\u001b[0;31mTypeError\u001b[0m: 'SequenceIterator' object is not iterable"
          ]
        }
      ]
    },
    {
      "cell_type": "markdown",
      "metadata": {
        "id": "3W4PiihwtUAo"
      },
      "source": [
        "Le message d'erreur est clair, car l'objet n'implémente pas __iter__().Juste à des fins explicatives, nous pouvons séparer l'itération dans un autre objet (encore une fois, il suffirait de faire en sorte que l'objet implémente à la fois __iter__ et __next__, mais en le faisant séparément aidera à clarifier le point distinctif que nous essayons de faire dans cette explication)"
      ]
    },
    {
      "cell_type": "markdown",
      "metadata": {
        "id": "ptiFr5l8telU"
      },
      "source": [
        "## Objets de séquence en tant qu'itérables\n",
        "\n",
        "Comme nous venons de le voir, si un objet implémente la méthode magique __iter__(), cela signifie qu'il peut être utilisé dans une boucle for. Bien qu'il s'agisse d'une fonctionnalité intéressante, ce n'est pas la seule forme d'itération possible que nous puissions réaliser. Lorsque nous écrivons une boucle for, Python essaiera de voir si l'objet que nous utilisons implémente __iter__, et si c'est le cas, il l'utilisera pour construire l'itération, mais si ce n'est pas le cas, il existe des options de secours.\n",
        "\n",
        "Si l'objet se trouve être une séquence (c'est-à-dire qu'il implémente les méthodes magiques __getitem__() et __len__()), il peut également être itéré. Si tel est le cas, l'interpréteur fournira alors des valeurs en séquence, jusqu'à ce que l'exception IndexError soit levée, ce qui, de manière analogue à la StopIteration susmentionnée, signale également l'arrêt de l'itération.\n",
        "\n",
        "Dans le seul but d'illustrer un tel comportement, nous allons exécuter l'expérience suivante qui montre un objet séquence qui implémente map() sur une plage de nombres :"
      ]
    },
    {
      "cell_type": "code",
      "metadata": {
        "id": "MWz8r3MwuOXn"
      },
      "source": [
        "import logging\n",
        "\n",
        "logger = logging.getLogger(__name__)\n",
        "\n",
        "class MappedRange:\n",
        "    \"\"\"Apply a transformation to a range of numbers.\"\"\"\n",
        "\n",
        "    def __init__(self, transformation, start, end):\n",
        "        self._transformation = transformation\n",
        "        self._wrapped = range(start, end)\n",
        "\n",
        "    def __getitem__(self, index):\n",
        "        value = self._wrapped.__getitem__(index)\n",
        "        result = self._transformation(value)\n",
        "        logger.info(\"Index %d: %s\", index, result)\n",
        "        return result\n",
        "\n",
        "    def __len__(self):\n",
        "        return len(self._wrapped)"
      ],
      "execution_count": null,
      "outputs": []
    },
    {
      "cell_type": "markdown",
      "metadata": {
        "id": "GnJ3VOyJuVTq"
      },
      "source": [
        "Gardez à l'esprit que cet exemple est uniquement conçu pour illustrer qu'un objet tel que celui-ci peut être itéré avec une boucle for régulière. Il y a une ligne de journalisation placée dans la méthode __getitem__ pour explorer quelles valeurs sont transmises pendant l'itération de l'objet, comme nous pouvons le voir dans le test suivant :"
      ]
    },
    {
      "cell_type": "code",
      "metadata": {
        "colab": {
          "base_uri": "https://localhost:8080/"
        },
        "id": "x1FI2Gy6uq4k",
        "outputId": "a1ad3fe5-5232-42fd-eecb-8391bd030b10"
      },
      "source": [
        "mr = MappedRange(abs, -10, 5)\n",
        "mr[0]"
      ],
      "execution_count": null,
      "outputs": [
        {
          "output_type": "execute_result",
          "data": {
            "text/plain": [
              "10"
            ]
          },
          "metadata": {},
          "execution_count": 29
        }
      ]
    },
    {
      "cell_type": "code",
      "metadata": {
        "colab": {
          "base_uri": "https://localhost:8080/"
        },
        "id": "HP0jWNOmu4QA",
        "outputId": "cc57dd08-3b5c-4a1f-8524-68f0fde22d3a"
      },
      "source": [
        "mr[-1]"
      ],
      "execution_count": null,
      "outputs": [
        {
          "output_type": "execute_result",
          "data": {
            "text/plain": [
              "4"
            ]
          },
          "metadata": {},
          "execution_count": 30
        }
      ]
    },
    {
      "cell_type": "code",
      "metadata": {
        "colab": {
          "base_uri": "https://localhost:8080/"
        },
        "id": "3wV8E2wDvA9Q",
        "outputId": "67f1eb17-3bb0-4159-ff0a-66631009427b"
      },
      "source": [
        "list(mr)"
      ],
      "execution_count": null,
      "outputs": [
        {
          "output_type": "execute_result",
          "data": {
            "text/plain": [
              "[10, 9, 8, 7, 6, 5, 4, 3, 2, 1, 0, 1, 2, 3, 4]"
            ]
          },
          "metadata": {},
          "execution_count": 31
        }
      ]
    },
    {
      "cell_type": "markdown",
      "metadata": {
        "id": "77wN6jJ-vGm3"
      },
      "source": [
        "En guise de mise en garde, il est important de souligner que s'il est utile de le savoir, c'est aussi un mécanisme de secours lorsque l'objet n'implémente pas __iter__, donc la plupart du temps nous voudrons recourir à ces méthodes en pensant sur la création de séquences appropriées, et pas seulement sur les objets que nous voulons parcourir\n",
        "\n",
        "\n",
        "    Lorsque vous envisagez de concevoir un objet pour l'itération, privilégiez\n",
        "    un objet itérable approprié (avec __iter__), plutôt qu'une séquence qui\n",
        "    peut aussi être itérée par coïncidence\n",
        "  \n",
        "\n",
        "Les itérables sont une partie importante de Python, non seulement en raison des capacités qu'ils nous offrent en tant qu'ingénieurs logiciels, mais aussi parce qu'ils jouent un rôle fondamental dans les composants internes de Python.\n",
        "\n",
        "Nous avons vu dans Une brève introduction au code asynchrone au guide 2, Pythonic Code, comment lire du code asynchrone. Maintenant que nous avons également exploré les itérateurs en Python, nous pouvons voir comment ces deux concepts sont liés. En particulier, la section suivante explore les coroutines, et nous verrons comment les itérateurs sont au cœur de celles-ci"
      ]
    },
    {
      "cell_type": "markdown",
      "metadata": {
        "id": "KkYyy8kZwBmM"
      },
      "source": [
        "## Coroutines\n",
        "\n",
        "L'idée d'une coroutine est d'avoir une fonction, dont l'exécution peut être suspendue à un moment donné, pour être reprise ultérieurement. En ayant ce genre de fonctionnalité, un programme pourrait être capable de suspendre une partie du code, afin d'envoyer quelque chose d'autre pour le traitement, puis de revenir à ce point d'origine pour reprendre.\n",
        "\n",
        "\n",
        "Comme nous le savons déjà, les objets générateurs sont itérables. Ils implémentent __iter__() et __next__(). Ceci est fourni automatiquement par Python afin que lorsque nous créons une fonction d'objet générateur, nous obtenions un objet qui peut être itéré ou avancé via la fonction next().\n",
        "\n",
        "Outre cette fonctionnalité de base, ils ont plus de méthodes pour pouvoir fonctionner comme des coroutines (PEP-342). Ici, nous explorerons comment les générateurs ont évolué en coroutines pour prendre en charge la base de la programmation asynchrone avant d'entrer plus en détail dans la section suivante, où nous explorerons les nouvelles fonctionnalités de Python et la syntaxe qui couvre la programmation asynchrone.\n",
        "\n",
        "Les méthodes de base ajoutées dans PEP-342 pour prendre en charge les coroutines sont les suivantes :\n",
        "\n",
        "\n",
        "* .close()\n",
        "*  .throw(ex_type[, ex_value[, ex_traceback]])\n",
        "*  .send(value)\n",
        "\n",
        "\n",
        "Python tire parti des générateurs pour créer des coroutines. Parce que les générateurs peuvent naturellement se suspendre, ils constituent un point de départ pratique. Mais les générateurs n'étaient pas suffisants comme on le pensait à l'origine, alors ces méthodes ont été ajoutées. En effet, il ne suffit généralement pas de pouvoir suspendre une partie du code ; vous voudriez également communiquer avec lui (transmettre des données et signaler des changements dans le contexte)\n",
        "\n",
        "En explorant chaque méthode plus en détail, nous pourrons en savoir plus sur les éléments internes des coroutines en Python. Après cela, je présenterai une autre récapitulation du fonctionnement de la programmation asynchrone, mais contrairement à celle présentée au guide 2, Pythonic Code, celle-ci se rapportera aux concepts internes que nous venons d'apprendre."
      ]
    },
    {
      "cell_type": "markdown",
      "metadata": {
        "id": "M5Zg2jWvxOe3"
      },
      "source": [
        "## Les méthodes de l'interface du générateur\n",
        "\n",
        "Dans cette section, nous allons explorer ce que fait chacune des méthodes susmentionnées, comment elles fonctionnent et comment elles devraient être utilisées. En comprenant comment utiliser ces méthodes, nous pourrons utiliser des coroutines simples. Plus tard, nous explorerons des utilisations plus avancées des coroutines, et comment déléguer à des sous-générateurs (coroutines) afin de refactoriser le code, et comment pour orchestrer différentes coroutines.\n",
        "\n"
      ]
    },
    {
      "cell_type": "markdown",
      "metadata": {
        "id": "q9vTQ0HMxd4h"
      },
      "source": [
        "## close()\n",
        "\n",
        "Lors de l'appel de cette méthode, le générateur recevra l'exception GeneratorExit. S'il n'est pas géré, alors le générateur se terminera sans produire plus de valeurs, et son itération s'arrêtera.\n",
        "\n",
        "Cette exception peut être utilisée pour gérer un état de fin. En général, si notre coroutine effectue une sorte de gestion des ressources, nous voulons intercepter cette exception et utiliser ce bloc de contrôle pour libérer toutes les ressources détenues par la coroutine. Cela revient à utiliser un gestionnaire de contexte ou à placer le code dans le bloc finally d'un contrôle d'exception, mais la gestion de cette exception la rend plus explicite.\n",
        "\n",
        "\n",
        "Dans l'exemple suivant, nous avons une coroutine qui utilise un objet gestionnaire de base de données qui détient une connexion à une base de données et exécute des requêtes dessus, diffusant des données par pages d'une longueur fixe (au lieu de lire tout ce qui est disponible à la fois ):"
      ]
    },
    {
      "cell_type": "code",
      "metadata": {
        "id": "4vL-TX3NzPES"
      },
      "source": [
        "import time\n",
        "\n",
        "\n",
        "class DBHandler:\n",
        "    \"\"\"Simulate reading from the database by pages.\"\"\"\n",
        "\n",
        "    def __init__(self, db):\n",
        "        self.db = db\n",
        "        self.is_closed = False\n",
        "\n",
        "    def read_n_records(self, limit):\n",
        "        return [(i, f\"row {i}\") for i in range(limit)]\n",
        "\n",
        "    def close(self):\n",
        "        logger.debug(\"closing connection to database %r\", self.db)\n",
        "        self.is_closed = True\n",
        "\n",
        "def stream_db_records(db_handler):\n",
        "    \"\"\"Example of .close()\n",
        "    >>> streamer = stream_db_records(DBHandler(\"testdb\"))  # doctest: +ELLIPSIS\n",
        "    >>> len(next(streamer))\n",
        "    10\n",
        "    >>> len(next(streamer))\n",
        "    10\n",
        "    \"\"\"\n",
        "    try:\n",
        "        while True:\n",
        "            yield db_handler.read_n_records(10)\n",
        "            time.sleep(0.1)\n",
        "    except GeneratorExit:\n",
        "        db_handler.close()\n"
      ],
      "execution_count": null,
      "outputs": []
    },
    {
      "cell_type": "markdown",
      "metadata": {
        "id": "YJuRTYv8zkm6"
      },
      "source": [
        "A chaque appel au générateur, il renverra 10 lignes obtenues à partir du gestionnaire de base de données, mais lorsque nous décidons de terminer explicitement l'itération et appelons close(), nous souhaitons également fermer la connexion à la base de données :"
      ]
    },
    {
      "cell_type": "code",
      "metadata": {
        "colab": {
          "base_uri": "https://localhost:8080/"
        },
        "id": "W_qguGh7zroz",
        "outputId": "c52c3e37-9815-4cc0-d88c-efdfa862d52f"
      },
      "source": [
        "streamer = stream_db_records(DBHandler(\"testdb\"))\n",
        "next(streamer)"
      ],
      "execution_count": null,
      "outputs": [
        {
          "output_type": "execute_result",
          "data": {
            "text/plain": [
              "[(0, 'row 0'),\n",
              " (1, 'row 1'),\n",
              " (2, 'row 2'),\n",
              " (3, 'row 3'),\n",
              " (4, 'row 4'),\n",
              " (5, 'row 5'),\n",
              " (6, 'row 6'),\n",
              " (7, 'row 7'),\n",
              " (8, 'row 8'),\n",
              " (9, 'row 9')]"
            ]
          },
          "metadata": {},
          "execution_count": 2
        }
      ]
    },
    {
      "cell_type": "code",
      "metadata": {
        "colab": {
          "base_uri": "https://localhost:8080/"
        },
        "id": "vuvaDvQnzzTu",
        "outputId": "dc9327f4-384a-4139-ddc2-554c64dd21ac"
      },
      "source": [
        "next(streamer)"
      ],
      "execution_count": null,
      "outputs": [
        {
          "output_type": "execute_result",
          "data": {
            "text/plain": [
              "[(0, 'row 0'),\n",
              " (1, 'row 1'),\n",
              " (2, 'row 2'),\n",
              " (3, 'row 3'),\n",
              " (4, 'row 4'),\n",
              " (5, 'row 5'),\n",
              " (6, 'row 6'),\n",
              " (7, 'row 7'),\n",
              " (8, 'row 8'),\n",
              " (9, 'row 9')]"
            ]
          },
          "metadata": {},
          "execution_count": 40
        }
      ]
    },
    {
      "cell_type": "code",
      "metadata": {
        "colab": {
          "base_uri": "https://localhost:8080/"
        },
        "id": "DHRxSsw50CXi",
        "outputId": "dcc98969-b04e-403a-fa96-2fed43f30719"
      },
      "source": [
        "streamer.close()"
      ],
      "execution_count": null,
      "outputs": [
        {
          "output_type": "stream",
          "name": "stdout",
          "text": [
            "closing connection to database %r testdb\n"
          ]
        }
      ]
    },
    {
      "cell_type": "markdown",
      "metadata": {
        "id": "sNBK9Wvp0ITR"
      },
      "source": [
        "Cette méthode est destinée à être utilisée pour le nettoyage des ressources, vous l'utiliserez donc généralement pour libérer manuellement des ressources lorsque vous ne pourriez pas le faire automatiquement (par exemple, si vous n'avez pas utilisé de gestionnaire de contexte). Ensuite, nous verrons comment passer des exceptions au générateur."
      ]
    },
    {
      "cell_type": "markdown",
      "metadata": {
        "id": "PUdm_Wzd0axq"
      },
      "source": [
        "## throw(ex_type[, ex_value[, ex_traceback]])\n",
        "\n",
        "Cette méthode lèvera l'exception à la ligne où le générateur est actuellement suspendu. Si le générateur gère l'exception qui a été envoyée, le code de cette clause except particulière sera appelé ; sinon, l'exception se propagera à l'appelant.\n",
        "\n",
        "Ici, nous modifions légèrement l'exemple précédent pour montrer la différence lorsque nous utilisons cette méthode pour une exception gérée par la coroutine, et quand elle ne l'est pas :\n"
      ]
    },
    {
      "cell_type": "code",
      "metadata": {
        "id": "DV8gvfjh-w2n"
      },
      "source": [
        "class CustomException(Exception):\n",
        "    \"\"\"An exception of the domain model.\"\"\"\n",
        "\n",
        "\n",
        "def stream_data(db_handler):\n",
        "    \"\"\"Test the ``.throw()`` method.\n",
        "    >>> streamer = stream_data(DBHandler(\"testdb\"))\n",
        "    >>> len(next(streamer))\n",
        "    10\n",
        "    \"\"\"\n",
        "    while True:\n",
        "        try:\n",
        "            yield db_handler.read_n_records(10)\n",
        "        except CustomException as e:\n",
        "            print(\"controlled error %r, continuing\", e)\n",
        "        except Exception as e:\n",
        "            print(\"unhandled error %r, stopping\", e)\n",
        "            db_handler.close()\n",
        "            break"
      ],
      "execution_count": null,
      "outputs": []
    },
    {
      "cell_type": "markdown",
      "metadata": {
        "id": "KpAMo-Wx_Om-"
      },
      "source": [
        "Maintenant, cela fait partie du flux de contrôle de recevoir une CustomException, et, dans un tel cas, le générateur enregistrera un message informatif (bien sûr, nous pouvons l'adapter en fonction de notre logique métier sur chaque cas), et déplacer à la prochaine déclaration de yield, qui est la ligne où la coroutine lit à partir de la base de données et renvoie ces données.\n",
        "\n",
        "Cet exemple particulier gère toutes les exceptions, mais si le dernier bloc (sauf Exception :) n'était pas là, le résultat serait que le générateur est levé à la ligne où le générateur est en pause (encore une fois, yield), et il se propagera à partir de là à l'appelant:"
      ]
    },
    {
      "cell_type": "code",
      "metadata": {
        "colab": {
          "base_uri": "https://localhost:8080/"
        },
        "id": "27I2z7Wt_jLa",
        "outputId": "0126e902-c706-4716-9b9f-1eabab82d1f0"
      },
      "source": [
        "streamer = stream_data(DBHandler(\"testdb\"))\n",
        "next(streamer)"
      ],
      "execution_count": null,
      "outputs": [
        {
          "output_type": "execute_result",
          "data": {
            "text/plain": [
              "[(0, 'row 0'),\n",
              " (1, 'row 1'),\n",
              " (2, 'row 2'),\n",
              " (3, 'row 3'),\n",
              " (4, 'row 4'),\n",
              " (5, 'row 5'),\n",
              " (6, 'row 6'),\n",
              " (7, 'row 7'),\n",
              " (8, 'row 8'),\n",
              " (9, 'row 9')]"
            ]
          },
          "metadata": {},
          "execution_count": 45
        }
      ]
    },
    {
      "cell_type": "code",
      "metadata": {
        "colab": {
          "base_uri": "https://localhost:8080/"
        },
        "id": "Jx3h1WkW_w2V",
        "outputId": "97fee454-89e8-4f65-bd1e-cb0359fbad1e"
      },
      "source": [
        "streamer.throw(CustomException)"
      ],
      "execution_count": null,
      "outputs": [
        {
          "output_type": "stream",
          "name": "stdout",
          "text": [
            "controlled error %r, continuing \n"
          ]
        },
        {
          "output_type": "execute_result",
          "data": {
            "text/plain": [
              "[(0, 'row 0'),\n",
              " (1, 'row 1'),\n",
              " (2, 'row 2'),\n",
              " (3, 'row 3'),\n",
              " (4, 'row 4'),\n",
              " (5, 'row 5'),\n",
              " (6, 'row 6'),\n",
              " (7, 'row 7'),\n",
              " (8, 'row 8'),\n",
              " (9, 'row 9')]"
            ]
          },
          "metadata": {},
          "execution_count": 46
        }
      ]
    },
    {
      "cell_type": "code",
      "metadata": {
        "colab": {
          "base_uri": "https://localhost:8080/",
          "height": 197
        },
        "id": "39p5hB3n_3le",
        "outputId": "f5a1d8e7-0ace-4781-a07b-2c9706bd4965"
      },
      "source": [
        "streamer.throw(RuntimeError)"
      ],
      "execution_count": null,
      "outputs": [
        {
          "output_type": "stream",
          "name": "stdout",
          "text": [
            "unhandled error %r, stopping \n",
            "closing connection to database %r testdb\n"
          ]
        },
        {
          "output_type": "error",
          "ename": "StopIteration",
          "evalue": "ignored",
          "traceback": [
            "\u001b[0;31m---------------------------------------------------------------------------\u001b[0m",
            "\u001b[0;31mStopIteration\u001b[0m                             Traceback (most recent call last)",
            "\u001b[0;32m<ipython-input-47-da65415f8461>\u001b[0m in \u001b[0;36m<module>\u001b[0;34m()\u001b[0m\n\u001b[0;32m----> 1\u001b[0;31m \u001b[0mstreamer\u001b[0m\u001b[0;34m.\u001b[0m\u001b[0mthrow\u001b[0m\u001b[0;34m(\u001b[0m\u001b[0mRuntimeError\u001b[0m\u001b[0;34m)\u001b[0m\u001b[0;34m\u001b[0m\u001b[0;34m\u001b[0m\u001b[0m\n\u001b[0m",
            "\u001b[0;31mStopIteration\u001b[0m: "
          ]
        }
      ]
    },
    {
      "cell_type": "markdown",
      "metadata": {
        "id": "IOfYC_hA__J4"
      },
      "source": [
        "Lorsque notre exception du domaine a été reçue, le générateur a continué. Cependant, lorsqu'il a reçu une autre exception qui n'était pas attendue, le bloc par défaut a détecté l'endroit où nous avons fermé la connexion à la base de données et terminé l'itération, ce qui a entraîné l'arrêt du générateur. Comme nous pouvons le voir dans le StopIteration qui a été déclenché, ce générateur ne peut pas être itéré davantage."
      ]
    },
    {
      "cell_type": "markdown",
      "metadata": {
        "id": "yewwuThjAtyQ"
      },
      "source": [
        "# send(value)\n",
        "\n",
        "Dans l'exemple précédent, nous avons créé un générateur simple qui lit les lignes d'une base de données, et lorsque nous avons souhaité terminer son itération, ce générateur a libéré les ressources liées à la base de données. C'est un bon exemple d'utilisation de l'une des méthodes fournies par les générateurs (close()), mais nous pouvons faire plus. Une observation du générateur est qu'il lisait un nombre fixe de lignes de la base de données.\n",
        "\n",
        "Une observation du générateur est qu'il lisait un nombre fixe de lignes de la base de données. Nous aimerions paramétrer ce nombre (10) afin de pouvoir le changer au cours des différents appels. Malheureusement, la fonction next() ne nous fournit pas d'options pour cela. Mais heureusement, nous avons send()"
      ]
    },
    {
      "cell_type": "code",
      "metadata": {
        "id": "LMUHyxiiBXvy"
      },
      "source": [
        "def _stream_db_records(db_handler):\n",
        "    retrieved_data = None\n",
        "    previous_page_size = 10\n",
        "    try:\n",
        "        while True:\n",
        "            page_size = yield retrieved_data\n",
        "            if page_size is None:\n",
        "                page_size = previous_page_size\n",
        "\n",
        "            previous_page_size = page_size\n",
        "\n",
        "            retrieved_data = db_handler.read_n_records(page_size)\n",
        "    except GeneratorExit:\n",
        "        db_handler.close()"
      ],
      "execution_count": null,
      "outputs": []
    },
    {
      "cell_type": "markdown",
      "metadata": {
        "id": "gr53IxycBuzI"
      },
      "source": [
        "L'idée est que nous avons maintenant rendu la coroutine capable de recevoir des valeurs de l'appelant au moyen de la méthode send(). Cette méthode est celle qui distingue réellement un générateur d'une coroutine car lorsqu'elle est utilisée, cela signifie que le mot-clé yield apparaîtra à droite de l'instruction et que sa valeur de retour sera affectée à autre chose.\n",
        "\n",
        "Dans les coroutines, on trouve généralement le mot-clé yield à utiliser sous la forme suivante :\n",
        "\n",
        "    receive = yield produced\n",
        "\n",
        "\n",
        "\n",
        "yield, dans ce cas, fera deux choses. Il renverra le produit à l'appelant, qui le récupérera au prochain tour d'itération (après avoir appelé next(), par exemple), et il y sera suspendu. Plus tard, l'appelant voudra renvoyer une valeur à la coroutine en utilisant la méthode send(). Cette valeur deviendra le résultat de l'instruction yield, affectée dans ce cas à la variable nommée receive.\n",
        "\n",
        "\n",
        "L'envoi de valeurs à la coroutine ne fonctionne que lorsque celle-ci est suspendue à une instruction yield, en attendant que quelque chose se produise. Pour que cela se produise, la coroutine devra être avancée à ce statut. La seule façon de le faire est d'appeler next() dessus. Cela signifie qu'avant d'envoyer quoi que ce soit à la coroutine, cela doit être avancé au moins une fois via la méthode next(). Ne pas le faire entraînera une exception :"
      ]
    },
    {
      "cell_type": "code",
      "metadata": {
        "colab": {
          "base_uri": "https://localhost:8080/",
          "height": 197
        },
        "id": "0tAesOwYC0lx",
        "outputId": "40a6c81a-d576-4972-b69c-e134a7c74ef3"
      },
      "source": [
        "def coro():\n",
        "  y = yield\n",
        "  \n",
        "c = coro()\n",
        "c.send(1)"
      ],
      "execution_count": null,
      "outputs": [
        {
          "output_type": "error",
          "ename": "TypeError",
          "evalue": "ignored",
          "traceback": [
            "\u001b[0;31m---------------------------------------------------------------------------\u001b[0m",
            "\u001b[0;31mTypeError\u001b[0m                                 Traceback (most recent call last)",
            "\u001b[0;32m<ipython-input-48-3492fb3aa621>\u001b[0m in \u001b[0;36m<module>\u001b[0;34m()\u001b[0m\n\u001b[1;32m      3\u001b[0m \u001b[0;34m\u001b[0m\u001b[0m\n\u001b[1;32m      4\u001b[0m \u001b[0mc\u001b[0m \u001b[0;34m=\u001b[0m \u001b[0mcoro\u001b[0m\u001b[0;34m(\u001b[0m\u001b[0;34m)\u001b[0m\u001b[0;34m\u001b[0m\u001b[0;34m\u001b[0m\u001b[0m\n\u001b[0;32m----> 5\u001b[0;31m \u001b[0mc\u001b[0m\u001b[0;34m.\u001b[0m\u001b[0msend\u001b[0m\u001b[0;34m(\u001b[0m\u001b[0;36m1\u001b[0m\u001b[0;34m)\u001b[0m\u001b[0;34m\u001b[0m\u001b[0;34m\u001b[0m\u001b[0m\n\u001b[0m",
            "\u001b[0;31mTypeError\u001b[0m: can't send non-None value to a just-started generator"
          ]
        }
      ]
    },
    {
      "cell_type": "markdown",
      "metadata": {
        "id": "1y46u0_8C-eA"
      },
      "source": [
        "    N'oubliez jamais de faire avancer une coroutine en appelant next() avant de lui envoyer des valeurs\n",
        "\n",
        "\n",
        "Revenons à notre exemple. Nous modifions la façon dont les éléments sont produits ou diffusés pour lui permettre de recevoir la longueur des enregistrements qu'il s'attend à lire à partir de la base de données.\n",
        "\n",
        "\n",
        "La première fois que nous appelons next(), le générateur avance jusqu'à la ligne contenant le yield ; il fournira une valeur à l'appelant (Aucun, comme défini dans la variable), et il y sera suspendu). A partir de là, nous avons deux options. Si nous choisissons de faire avancer le générateur en appelant next(), la valeur par défaut de 10 sera utilisée et il continuera comme d'habitude. En effet, appeler next() est techniquement identique à send(None), mais cela est couvert dans l'instruction if qui gérera la valeur que nous avons précédemment définie.\n",
        "\n",
        "Si par contre on décide de fournir une valeur explicite via send(<valeur>), celle-ci deviendra le résultat de l'instruction yield, qui sera affectée à la variable contenant la longueur de la page à utiliser, qui , à son tour, sera utilisé pour lire à partir de la base de données.\n",
        "\n",
        "Les appels successifs auront cette logique, mais le point important est que maintenant nous pouvons changer dynamiquement la longueur des données à lire au milieu de l'itération, à tout moment.\n",
        "\n",
        "Maintenant que nous comprenons comment fonctionne le code précédent, la plupart des Pythonistes s'attendraient à une version simplifiée de celui-ci (après tout, Python est aussi une question de brièveté et de code propre et compact) :"
      ]
    },
    {
      "cell_type": "code",
      "metadata": {
        "id": "V35jMVdpEKn8"
      },
      "source": [
        "def stream_db_records(db_handler):\n",
        "    retrieved_data = None\n",
        "    page_size = 10\n",
        "    try:\n",
        "        while True:\n",
        "            page_size = (yield retrieved_data) or page_size\n",
        "            retrieved_data = db_handler.read_n_records(page_size)\n",
        "    except GeneratorExit:\n",
        "        db_handler.close()"
      ],
      "execution_count": null,
      "outputs": []
    },
    {
      "cell_type": "markdown",
      "source": [
        "Cette version est non seulement plus compacte, mais elle illustre aussi mieux l'idée. Les parenthèses autour de yield indiquent plus clairement qu'il s'agit d'une instruction (pensez-y comme s'il s'agissait d'un appel de fonction) et que nous utilisons le résultat pour le comparer à la valeur précédente.\n",
        "\n",
        "Cela fonctionne comme prévu, mais nous devons toujours nous rappeler de faire avancer la coroutine avant de lui envoyer des données. Si nous oublions d'appeler le premier next(), nous obtiendrons une TypeError. Cet appel pourrait être ignoré pour nos besoins car il ne renvoie rien que nous utiliserons.\n",
        "\n",
        "Ce serait bien si nous pouvions utiliser la coroutine directement, juste après sa création, sans avoir à nous rappeler d'appeler next() la première fois, à chaque fois que nous allons l'utiliser. Certains auteurs (PYCOOK) ont imaginé un décorateur intéressant pour y parvenir. L'idée de ce décorateur est de faire avancer la coroutine, donc la définition suivante fonctionne automatiquement"
      ],
      "metadata": {
        "id": "lmzfSGUbQQRl"
      }
    },
    {
      "cell_type": "code",
      "source": [
        "def prepare_coroutine(coroutine):\n",
        "    def wrapped(*args, **kwargs):\n",
        "        advanced_coroutine = coroutine(*args, **kwargs)\n",
        "        next(advanced_coroutine)\n",
        "        return advanced_coroutine\n",
        "\n",
        "    return wrapped\n",
        "\n",
        "\n",
        "@prepare_coroutine\n",
        "def auto_stream_db_records(db_handler):\n",
        "    \"\"\"This coroutine is automatically advanced so it doesn't need the first\n",
        "    next() call.\n",
        "    \"\"\"\n",
        "    retrieved_data = None\n",
        "    page_size = 10\n",
        "    try:\n",
        "        while True:\n",
        "            page_size = (yield retrieved_data) or page_size\n",
        "            retrieved_data = db_handler.read_n_records(page_size)\n",
        "    except GeneratorExit:\n",
        "        db_handler.close()"
      ],
      "metadata": {
        "id": "crishae6Q8rx"
      },
      "execution_count": null,
      "outputs": []
    },
    {
      "cell_type": "code",
      "source": [
        "streamer = auto_stream_db_records(DBHandler(\"testdb\"))\n",
        "len(streamer.send(5))"
      ],
      "metadata": {
        "colab": {
          "base_uri": "https://localhost:8080/"
        },
        "id": "iAMApX_2RQSz",
        "outputId": "7d0359f6-b489-4185-ec37-83a18a8565ed"
      },
      "execution_count": null,
      "outputs": [
        {
          "output_type": "execute_result",
          "data": {
            "text/plain": [
              "5"
            ]
          },
          "metadata": {},
          "execution_count": 12
        },
        {
          "output_type": "stream",
          "name": "stdout",
          "text": [
            "closing connection to database %r testdb\n"
          ]
        }
      ]
    },
    {
      "cell_type": "markdown",
      "source": [
        "Gardez à l'esprit que ce sont les principes fondamentaux du fonctionnement des coroutines en Python. En suivant ces exemples, vous aurez une idée de ce qui se passe réellement en Python lorsque vous travaillez avec des coroutines. Cependant, dans Python moderne, vous n'écririez généralement pas ces types de coroutines par vous-même, car une nouvelle syntaxe est disponible (que nous avons mentionnée, mais nous y reviendrons pour voir comment elles se rapportent aux idées que nous venons de voir)\n",
        "\n",
        "Avant de sauter dans les nouvelles capacités syntaxiques, nous devons explorer le dernier saut que les coroutines ont fait en termes de fonctionnalités supplémentaires, afin de combler les lacunes manquantes. Après cela, nous pourrons comprendre la signification de chaque mot-clé et instruction utilisés dans la programmation asynchrone"
      ],
      "metadata": {
        "id": "NZxq7Gd_SXJ2"
      }
    },
    {
      "cell_type": "markdown",
      "source": [
        "## Coroutines plus avancées\n",
        "\n",
        "Jusqu'à présent, nous avons une meilleure compréhension des coroutines et nous pouvons en créer de simples pour gérer de petites tâches. Nous pouvons dire que ces coroutines sont, en fait, juste des générateurs plus avancés (et ce serait vrai, les coroutines ne sont que des générateurs fantaisistes), mais, si nous voulons réellement commencer à prendre en charge des scénarios plus complexes, nous devons généralement opter pour une conception qui gère de nombreuses coroutines simultanément, et qui nécessite plus de fonctionnalités.\n",
        "\n",
        "Lors de la manipulation de nombreuses coroutines, nous rencontrons de nouveaux problèmes. Au fur et à mesure que le flux de contrôle de notre application devient plus complexe, nous souhaitons transmettre des valeurs de haut en bas de la pile (ainsi que des exceptions), être en mesure de capturer des valeurs à partir de sous-coroutines que nous pourrions appeler à n'importe quel niveau, et enfin, programmer plusieurs coroutines pour courir vers un objectif commun.\n",
        "\n",
        "Pour simplifier les choses, les générateurs ont dû être étendus une fois de plus. C'est ce que PEP-380 a résolu en modifiant la sémantique des générateurs afin qu'ils puissent renvoyer des valeurs et en introduisant le nouveau rendement de la construction"
      ],
      "metadata": {
        "id": "TqjXpqzgSr0u"
      }
    },
    {
      "cell_type": "markdown",
      "source": [
        "## Renvoyer des valeurs dans des coroutines\n",
        "\n",
        "Comme présenté au début de ce chapitre, l'itération est un mécanisme qui appelle next() sur un objet itérable plusieurs fois jusqu'à ce qu'une exception StopIteration soit déclenchée.\n",
        "\n",
        "Jusqu'à présent, nous avons exploré la nature itérative des générateurs - nous produisons des valeurs une à la fois et, en général, nous ne nous soucions que de chaque valeur telle qu'elle est produite à chaque étape de la boucle for. C'est une façon très logique de penser aux générateurs, mais les coroutines ont une idée différente ; même s'ils sont techniquement générateurs, ils n'ont pas été conçus dans l'idée d'itération, mais dans le but de suspendre l'exécution du code jusqu'à ce qu'il reprenne plus tard.\n",
        "\n",
        "C'est un défi intéressant; lorsque nous concevons une coroutine, nous nous soucions généralement plus de suspendre l'état plutôt que d'itérer (et itérer une coroutine serait un cas étrange). Le défi réside dans le fait qu'il est facile de mélanger les deux. Ceci est dû à un détail technique de mise en œuvre ; le support des coroutines en Python a été construit sur des générateurs\n",
        "\n",
        "Si nous voulons utiliser des coroutines pour traiter certaines informations et suspendre leur exécution, il serait logique de les considérer comme des threads légers (ou des threads verts, comme on les appelle sur d'autres plates-formes). Dans un tel cas, il serait logique qu'ils puissent renvoyer des valeurs, un peu comme appeler n'importe quelle autre fonction régulière.\n",
        "\n",
        "Mais rappelons-nous que les générateurs ne sont pas des fonctions régulières, donc dans un générateur, la construction value = generator() ne fera rien d'autre que de créer un objet générateur. Quelle serait la sémantique pour qu'un générateur renvoie une valeur ? Il faudra que ce soit après l'itération\n",
        "\n",
        "Lorsqu'un générateur renvoie une valeur, son itération est immédiatement arrêtée (il ne peut plus être itéré). Pour préserver la sémantique, l'exception StopIteration est toujours déclenchée et la valeur à renvoyer est stockée dans l'objet exception. C'est la responsabilité de l'appelant de l'attraper.\n",
        "\n",
        "Dans l'exemple suivant, nous créons un générateur simple qui produit deux valeurs puis en renvoie une troisième. Remarquez comment nous devons attraper l'exception afin d'obtenir cette valeur, et comment elle est stockée précisément à l'intérieur de l'exception sous l'attribut nommé value :"
      ],
      "metadata": {
        "id": "MrVLz_UATdwF"
      }
    },
    {
      "cell_type": "code",
      "source": [
        "def generator():\n",
        "  yield 1\n",
        "  yield 2\n",
        "  \n",
        "  return 3\n",
        "  \n",
        "value = generator()\n",
        "next(value)"
      ],
      "metadata": {
        "colab": {
          "base_uri": "https://localhost:8080/"
        },
        "id": "0aNInj86cK9W",
        "outputId": "2ca8bd18-2191-447e-fb3b-fae286774e94"
      },
      "execution_count": null,
      "outputs": [
        {
          "output_type": "execute_result",
          "data": {
            "text/plain": [
              "1"
            ]
          },
          "metadata": {},
          "execution_count": 13
        }
      ]
    },
    {
      "cell_type": "code",
      "source": [
        "next(value)"
      ],
      "metadata": {
        "colab": {
          "base_uri": "https://localhost:8080/"
        },
        "id": "sAn6RMXucTpf",
        "outputId": "8f617bd9-6e5d-412b-fe44-bc17a95f8eb0"
      },
      "execution_count": null,
      "outputs": [
        {
          "output_type": "execute_result",
          "data": {
            "text/plain": [
              "2"
            ]
          },
          "metadata": {},
          "execution_count": 14
        }
      ]
    },
    {
      "cell_type": "code",
      "source": [
        "try:\n",
        "  next(value)\n",
        "except StopIteration as e:\n",
        "  print(f\">>>>>> returned value: {e.value}\")"
      ],
      "metadata": {
        "colab": {
          "base_uri": "https://localhost:8080/"
        },
        "id": "GVgYXoALcX6Q",
        "outputId": "e39ebebd-f654-4e6f-d27b-e648c4d4785e"
      },
      "execution_count": null,
      "outputs": [
        {
          "output_type": "stream",
          "name": "stdout",
          "text": [
            ">>>>>> returned value: 3\n"
          ]
        }
      ]
    },
    {
      "cell_type": "markdown",
      "source": [
        "Comme nous le verrons plus tard, ce mécanisme est utilisé pour que les coroutines renvoient des valeurs. Avant PEP-380, cela n'avait aucun sens, et toute tentative d'avoir une instruction return dans un générateur était considérée comme une erreur de syntaxe. Mais maintenant, l'idée est que, lorsque l'itération est terminée, on veut retourner une valeur finale, et le moyen de la fournir est de la stocker dans l'exception qui est levée à la fin de l'itération (StopIteration). Ce n'est peut-être pas l'approche la plus propre, mais c'est complètement rétrocompatible, car cela ne change pas l'interface du générateur"
      ],
      "metadata": {
        "id": "zN82ssGccljW"
      }
    },
    {
      "cell_type": "markdown",
      "source": [
        "## Déléguer à des coroutines plus petites - la syntaxe \"yield from\" \n",
        "\n",
        "La fonctionnalité précédente est intéressante dans le sens où elle ouvre de nombreuses nouvelles possibilités avec les coroutines (générateurs), maintenant qu'elles peuvent renvoyer des valeurs. Mais cette fonctionnalité, en elle-même, ne serait pas aussi utile sans une prise en charge appropriée de la syntaxe, car attraper la valeur renvoyée de cette façon est un peu fastidieux.\n",
        "\n",
        "C'est l'une des principales caractéristiques du rendement de la syntaxe yield from (que nous reviendrons en détail), il peut collecter la valeur renvoyée par un sous-générateur. N'oubliez pas que nous avons dit que renvoyer des données dans un générateur était bien, mais que, malheureusement, écrire des instructions sous la forme value = generator() ne fonctionnerait pas ? Eh bien, les écrire sous la forme value = yield from generator() serait"
      ],
      "metadata": {
        "id": "bRwRFpiYc1V1"
      }
    },
    {
      "cell_type": "markdown",
      "source": [
        "## l'utilisation la plus simple de yield from\n",
        "\n",
        "Dans sa forme la plus élémentaire, la nouvelle syntaxe yield from peut être utilisée pour enchaîner des générateurs de boucles for imbriquées en une seule, qui se terminera par une seule chaîne de toutes les valeurs dans un flux continu\n",
        "\n",
        "Un exemple canonique consiste à créer une fonction similaire à itertools.chain() à partir de la bibliothèque standard. C'est une fonction très intéressante car elle vous permet de passer n'importe quel nombre d'itérables et de les renvoyer tous ensemble dans un seul flux. L'implémentation naïve pourrait ressembler à ceci :"
      ],
      "metadata": {
        "id": "vtk5IuOLdeHB"
      }
    },
    {
      "cell_type": "code",
      "source": [
        "def chain(*iterables):    \n",
        "  for it in iterables:\n",
        "    for value in it:            \n",
        "      yield value"
      ],
      "metadata": {
        "id": "L8ccv7p5d0w6"
      },
      "execution_count": null,
      "outputs": []
    },
    {
      "cell_type": "markdown",
      "source": [
        "Il reçoit un nombre variable d'itérables, les traverse tous, et puisque chaque valeur est itérable, il prend en charge une construction for... in.., nous avons donc une autre boucle for pour obtenir chaque valeur à l'intérieur de chaque itérable particulier, qui est produit par la fonction appelante. \n",
        "\n",
        "Cela peut être utile dans plusieurs cas, comme enchaîner des générateurs ou essayer d'itérer des choses qu'il ne serait normalement pas possible de comparer en une seule fois (comme des listes avec des tuples, etc.). \n",
        "\n",
        "Cependant, le rendement de la syntaxe permet nous permet d'aller plus loin et d'éviter la boucle imbriquée car elle est capable de produire directement les valeurs d'un sous-générateur. Dans ce cas, nous pourrions simplifier le code comme ceci :"
      ],
      "metadata": {
        "id": "Xa2bf1yDeAFn"
      }
    },
    {
      "cell_type": "code",
      "source": [
        "def chain(*iterables):    \n",
        "  for it in iterables:        \n",
        "    yield from it"
      ],
      "metadata": {
        "id": "VEg1v9OjeSiQ"
      },
      "execution_count": null,
      "outputs": []
    },
    {
      "cell_type": "markdown",
      "source": [
        "Notez que pour les deux implémentations, le comportement du générateur est exactement le même\n",
        "\n",
        "\n",
        "Cela signifie que nous pouvons utiliser le rendement de n'importe quel autre itérable, et cela fonctionnera comme si le générateur de niveau supérieur (celui que le rendement utilise) générait lui-même ces valeurs. Cela fonctionne avec n'importe quel itérable, et même les expressions de générateur ne sont pas\n",
        "\n",
        " ce n'est pas l'exception. Maintenant que nous connaissons sa syntaxe, voyons comment nous pourrions écrire une fonction génératrice simple qui produira toutes les puissances d'un nombre (par exemple, si elle est fournie avec all_powers(2, 3), elle devra produire 2^ 0, 2^1,... 2^3) :"
      ],
      "metadata": {
        "id": "3hyVffIsebHm"
      }
    },
    {
      "cell_type": "code",
      "source": [
        "def all_powers(n, pow):    \n",
        "  yield from (n ** i for i in range(pow + 1))"
      ],
      "metadata": {
        "id": "J-hN6PDvewBs"
      },
      "execution_count": null,
      "outputs": []
    },
    {
      "cell_type": "code",
      "source": [
        "list(all_powers(2,3))"
      ],
      "metadata": {
        "colab": {
          "base_uri": "https://localhost:8080/"
        },
        "id": "CycH7HqQe-fz",
        "outputId": "098f17a4-db26-44f5-a802-a0d199239e0b"
      },
      "execution_count": null,
      "outputs": [
        {
          "output_type": "execute_result",
          "data": {
            "text/plain": [
              "[1, 2, 4, 8]"
            ]
          },
          "metadata": {},
          "execution_count": 41
        }
      ]
    },
    {
      "cell_type": "markdown",
      "source": [
        "Bien que cela simplifie un peu la syntaxe, enregistrer une ligne d'une instruction for n'est pas un gros avantage, et cela ne justifierait pas d'ajouter un tel changement au langage. En effet, ce n'est en fait qu'un effet secondaire et le vrai la raison d'être du rendement de la construction est ce que nous allons explorer dans les deux sections suivantes"
      ],
      "metadata": {
        "id": "03QeMHzOfzZ7"
      }
    },
    {
      "cell_type": "markdown",
      "source": [
        "## Capture de la valeur renvoyée par un sous-générateur \n",
        "\n",
        "Dans l'exemple suivant, nous avons un générateur qui appelle deux autres générateurs imbriqués, produisant des valeurs dans une séquence. Chacun de ces générateurs imbriqués renvoie une valeur, et nous verrons comment le générateur de niveau supérieur est capable de capturer efficacement la valeur de retour puisqu'il appelle les générateurs internes via yield from :"
      ],
      "metadata": {
        "id": "6-mwdFuxggF8"
      }
    },
    {
      "cell_type": "code",
      "source": [
        "def sequence(name, start, end):    \n",
        "  print(\"%s started at %i\", name, start)    \n",
        "  yield from range(start, end)    \n",
        "  print(\"%s finished at %i\", name, end)    \n",
        "  return end\n",
        "  \n",
        "def main():    \n",
        "  step1 = yield from sequence(\"first\", 0, 5)    \n",
        "  step2 = yield from sequence(\"second\", step1, 10)    \n",
        "  return step1 + step2"
      ],
      "metadata": {
        "id": "iFpaxdr2gq-9"
      },
      "execution_count": null,
      "outputs": []
    },
    {
      "cell_type": "code",
      "source": [
        "g = main()\n",
        "next(g)"
      ],
      "metadata": {
        "colab": {
          "base_uri": "https://localhost:8080/"
        },
        "id": "SKd_cMEDg2qT",
        "outputId": "65d27b9b-0ffe-4b2a-d1e7-acac8f78bebd"
      },
      "execution_count": null,
      "outputs": [
        {
          "output_type": "stream",
          "name": "stdout",
          "text": [
            "%s started at %i first 0\n"
          ]
        },
        {
          "output_type": "execute_result",
          "data": {
            "text/plain": [
              "0"
            ]
          },
          "metadata": {},
          "execution_count": 47
        }
      ]
    },
    {
      "cell_type": "code",
      "source": [
        "next(g)"
      ],
      "metadata": {
        "colab": {
          "base_uri": "https://localhost:8080/"
        },
        "id": "OV47FB-vhKad",
        "outputId": "8317c5f9-9fb6-486a-bae8-8ab8282b230d"
      },
      "execution_count": null,
      "outputs": [
        {
          "output_type": "execute_result",
          "data": {
            "text/plain": [
              "1"
            ]
          },
          "metadata": {},
          "execution_count": 48
        }
      ]
    },
    {
      "cell_type": "code",
      "source": [
        "next(g)"
      ],
      "metadata": {
        "colab": {
          "base_uri": "https://localhost:8080/"
        },
        "id": "mySH42aThLYv",
        "outputId": "90d86d86-c2f9-491a-f828-a418689d0a16"
      },
      "execution_count": null,
      "outputs": [
        {
          "output_type": "execute_result",
          "data": {
            "text/plain": [
              "2"
            ]
          },
          "metadata": {},
          "execution_count": 49
        }
      ]
    },
    {
      "cell_type": "code",
      "source": [
        "next(g)"
      ],
      "metadata": {
        "colab": {
          "base_uri": "https://localhost:8080/"
        },
        "id": "9y0Un9wYhL-6",
        "outputId": "752f2df2-9065-4817-82e9-be3dcd0c665c"
      },
      "execution_count": null,
      "outputs": [
        {
          "output_type": "execute_result",
          "data": {
            "text/plain": [
              "3"
            ]
          },
          "metadata": {},
          "execution_count": 50
        }
      ]
    },
    {
      "cell_type": "code",
      "source": [
        "next(g)"
      ],
      "metadata": {
        "colab": {
          "base_uri": "https://localhost:8080/"
        },
        "id": "TO9mklh1hMwj",
        "outputId": "6168757e-b210-4a2c-941e-645371d33ccf"
      },
      "execution_count": null,
      "outputs": [
        {
          "output_type": "execute_result",
          "data": {
            "text/plain": [
              "4"
            ]
          },
          "metadata": {},
          "execution_count": 51
        }
      ]
    },
    {
      "cell_type": "code",
      "source": [
        "next(g)"
      ],
      "metadata": {
        "colab": {
          "base_uri": "https://localhost:8080/"
        },
        "id": "yGLrdLc-hNno",
        "outputId": "572d0044-8a23-4170-e377-41e5387270bf"
      },
      "execution_count": null,
      "outputs": [
        {
          "output_type": "stream",
          "name": "stdout",
          "text": [
            "%s finished at %i first 5\n",
            "%s started at %i second 5\n"
          ]
        },
        {
          "output_type": "execute_result",
          "data": {
            "text/plain": [
              "5"
            ]
          },
          "metadata": {},
          "execution_count": 52
        }
      ]
    },
    {
      "cell_type": "code",
      "source": [
        "next(g)"
      ],
      "metadata": {
        "colab": {
          "base_uri": "https://localhost:8080/",
          "height": 190
        },
        "id": "LkSfNP0mhwET",
        "outputId": "1ba75180-58b1-4688-9c59-ee5155ac86e7"
      },
      "execution_count": null,
      "outputs": [
        {
          "output_type": "stream",
          "name": "stdout",
          "text": [
            "%s finished at %i second 10\n"
          ]
        },
        {
          "output_type": "error",
          "ename": "StopIteration",
          "evalue": "ignored",
          "traceback": [
            "\u001b[0;31m---------------------------------------------------------------------------\u001b[0m",
            "\u001b[0;31mStopIteration\u001b[0m                             Traceback (most recent call last)",
            "\u001b[0;32m<ipython-input-57-e734f8aca5ac>\u001b[0m in \u001b[0;36m<module>\u001b[0;34m()\u001b[0m\n\u001b[0;32m----> 1\u001b[0;31m \u001b[0mnext\u001b[0m\u001b[0;34m(\u001b[0m\u001b[0mg\u001b[0m\u001b[0;34m)\u001b[0m\u001b[0;34m\u001b[0m\u001b[0;34m\u001b[0m\u001b[0m\n\u001b[0m",
            "\u001b[0;31mStopIteration\u001b[0m: 15"
          ]
        }
      ]
    },
    {
      "cell_type": "markdown",
      "source": [
        "La première ligne de délégués principaux dans le générateur interne, et produit les valeurs, en les extrayant directement de celui-ci. Ce n'est pas nouveau, comme nous l'avons déjà vu. Remarquez, cependant, comment la fonction générateur sequence() renvoie la valeur finale, qui est assignée dans la première ligne à la variable nommée step1, et comment cette valeur est correctement utilisée au début de l'instance suivante de ce générateur.\n",
        "\n",
        "Au final, cet autre générateur renvoie également la deuxième valeur finale (10), et le générateur principal, à son tour, renvoie la somme de celles-ci (5+10=15), qui est la valeur que nous voyons une fois l'itération arrêtée\n",
        "\n",
        "    Nous pouvons utiliser yield from pour capturer la dernière valeur d'une\n",
        "    coroutine après qu'elle ait terminé son traitement.\n",
        "\n",
        "Avec cet exemple et ceux présentés dans la section précédente, vous pouvez avoir une idée de ce que fait le rendement de la construction en Python. Le rendement de la construction prendra le générateur et transmettra son itération en aval, mais une fois terminé, il interceptera son exception StopIteration, en obtiendra la valeur et renverra cette valeur à la fonction appelante. L'attribut value de l'exception StopIteration devient le résultat de l'instruction.\n",
        "\n",
        "C'est une construction puissante, car en conjonction avec le sujet de la section suivante (comment envoyer et recevoir des informations contextuelles d'un sous-générateur), cela signifie que les coroutines peuvent prendre la forme de quelque chose de similaire aux threads."
      ],
      "metadata": {
        "id": "O6juX-69iOql"
      }
    },
    {
      "cell_type": "markdown",
      "source": [
        "## Envoi et réception de données vers et depuis un sous-générateur \n",
        "\n",
        "Nous allons maintenant voir l'autre fonctionnalité intéressante la syntaxe yield from, qui est probablement ce qui lui donne toute sa puissance. Comme nous l'avons déjà présenté lorsque nous avons exploré les générateurs agissant comme des coroutines, nous savons que nous pouvons envoyer des valeurs et leur lancer des exceptions, et, dans de tels cas, la coroutine recevra soit la valeur pour son traitement interne, soit elle devra gérer le exception en conséquence.\n",
        "\n",
        "Si nous avons maintenant une coroutine qui délègue dans d'autres (comme dans l'exemple précédent), nous aimerions également conserver cette logique. Devoir le faire manuellement serait assez complexe (vous pouvez jeter un coup d'œil au code décrit dans PEP-380 si nous n'avions pas géré cela par yield from automatiquement)\n",
        "\n",
        "Pour illustrer cela, gardons le même générateur de niveau supérieur (main) tel quel par rapport à l'exemple précédent (appelant d'autres générateurs internes), mais modifions les générateurs internes pour les rendre capables de recevoir des valeurs et de gérer des exceptions. Le code n'est probablement pas idiomatique, uniquement dans le but de montrer comment fonctionne ce mécanisme :"
      ],
      "metadata": {
        "id": "8uDBFKfRjiW-"
      }
    },
    {
      "cell_type": "code",
      "source": [
        "class CustomException(Exception):\n",
        "    \"\"\"A type of exception that is under control.\"\"\"\n",
        "\n",
        "\n",
        "def sequence(name, start, end):\n",
        "    value = start\n",
        "    print(\"%s started at %i\", name, value)\n",
        "    while value < end:\n",
        "        try:\n",
        "            received = yield value\n",
        "            print(\"%s received %r\", name, received)\n",
        "            value += 1\n",
        "        except CustomException as e:\n",
        "            print(\"%s is handling %s\", name, e)\n",
        "            received = yield \"OK\"\n",
        "    return end\n",
        "\n",
        "\n",
        "def main():\n",
        "    step1 = yield from sequence(\"first\", 0, 5)\n",
        "    step2 = yield from sequence(\"second\", step1, 10)\n",
        "    return step1 + step2"
      ],
      "metadata": {
        "id": "EOZ9jA3skY60"
      },
      "execution_count": null,
      "outputs": []
    },
    {
      "cell_type": "markdown",
      "source": [
        "Maintenant, nous allons appeler la coroutine principale, non seulement en l'itérant, mais aussi en lui fournissant des valeurs et en lançant des exceptions afin de voir comment elles sont gérées à l'intérieur de la séquence :"
      ],
      "metadata": {
        "id": "3phn7UkYkrKl"
      }
    },
    {
      "cell_type": "code",
      "source": [
        "g = main()\n",
        "next(g)"
      ],
      "metadata": {
        "colab": {
          "base_uri": "https://localhost:8080/"
        },
        "id": "4hMbIwbsk2z3",
        "outputId": "60bbfa58-1e27-4ac8-ed32-bcebb269bfba"
      },
      "execution_count": null,
      "outputs": [
        {
          "output_type": "stream",
          "name": "stdout",
          "text": [
            "%s started at %i first 0\n"
          ]
        },
        {
          "output_type": "execute_result",
          "data": {
            "text/plain": [
              "0"
            ]
          },
          "metadata": {},
          "execution_count": 71
        }
      ]
    },
    {
      "cell_type": "code",
      "source": [
        "next(g)"
      ],
      "metadata": {
        "colab": {
          "base_uri": "https://localhost:8080/"
        },
        "id": "4d870BNulDPX",
        "outputId": "d564dc2a-cf81-4792-b78e-024e11d73e96"
      },
      "execution_count": null,
      "outputs": [
        {
          "output_type": "stream",
          "name": "stdout",
          "text": [
            "%s received %r first None\n"
          ]
        },
        {
          "output_type": "execute_result",
          "data": {
            "text/plain": [
              "1"
            ]
          },
          "metadata": {},
          "execution_count": 72
        }
      ]
    },
    {
      "cell_type": "code",
      "source": [
        "g.send(\"value for 1\")"
      ],
      "metadata": {
        "colab": {
          "base_uri": "https://localhost:8080/"
        },
        "id": "3KahWzR-l-Ju",
        "outputId": "51faa5ea-fc92-4671-cc02-0dc1eaf2b7e2"
      },
      "execution_count": null,
      "outputs": [
        {
          "output_type": "stream",
          "name": "stdout",
          "text": [
            "%s received %r first value for 1\n"
          ]
        },
        {
          "output_type": "execute_result",
          "data": {
            "text/plain": [
              "2"
            ]
          },
          "metadata": {},
          "execution_count": 73
        }
      ]
    },
    {
      "cell_type": "code",
      "source": [
        "g.throw(CustomException(\"controlled error\"))"
      ],
      "metadata": {
        "colab": {
          "base_uri": "https://localhost:8080/",
          "height": 54
        },
        "id": "-kiQoy1EmSWW",
        "outputId": "39fd6c28-a98e-46ab-c412-42e445451529"
      },
      "execution_count": null,
      "outputs": [
        {
          "output_type": "stream",
          "name": "stdout",
          "text": [
            "%s is handling %s first controlled error\n"
          ]
        },
        {
          "output_type": "execute_result",
          "data": {
            "text/plain": [
              "'OK'"
            ],
            "application/vnd.google.colaboratory.intrinsic+json": {
              "type": "string"
            }
          },
          "metadata": {},
          "execution_count": 74
        }
      ]
    },
    {
      "cell_type": "code",
      "source": [
        "g.throw(CustomException(\"exception at second generator\"))"
      ],
      "metadata": {
        "colab": {
          "base_uri": "https://localhost:8080/",
          "height": 323
        },
        "id": "kdjlX0LNmVnF",
        "outputId": "374ff4b1-b3eb-4488-f3d7-b9845f9001bc"
      },
      "execution_count": null,
      "outputs": [
        {
          "output_type": "error",
          "ename": "CustomException",
          "evalue": "ignored",
          "traceback": [
            "\u001b[0;31m---------------------------------------------------------------------------\u001b[0m",
            "\u001b[0;31mCustomException\u001b[0m                           Traceback (most recent call last)",
            "\u001b[0;32m<ipython-input-75-057e4221a6ca>\u001b[0m in \u001b[0;36m<module>\u001b[0;34m()\u001b[0m\n\u001b[0;32m----> 1\u001b[0;31m \u001b[0mg\u001b[0m\u001b[0;34m.\u001b[0m\u001b[0mthrow\u001b[0m\u001b[0;34m(\u001b[0m\u001b[0mCustomException\u001b[0m\u001b[0;34m(\u001b[0m\u001b[0;34m\"exception at second generator\"\u001b[0m\u001b[0;34m)\u001b[0m\u001b[0;34m)\u001b[0m\u001b[0;34m\u001b[0m\u001b[0;34m\u001b[0m\u001b[0m\n\u001b[0m",
            "\u001b[0;32m<ipython-input-70-3c11f1e9cd79>\u001b[0m in \u001b[0;36mmain\u001b[0;34m()\u001b[0m\n\u001b[1;32m     18\u001b[0m \u001b[0;34m\u001b[0m\u001b[0m\n\u001b[1;32m     19\u001b[0m \u001b[0;32mdef\u001b[0m \u001b[0mmain\u001b[0m\u001b[0;34m(\u001b[0m\u001b[0;34m)\u001b[0m\u001b[0;34m:\u001b[0m\u001b[0;34m\u001b[0m\u001b[0;34m\u001b[0m\u001b[0m\n\u001b[0;32m---> 20\u001b[0;31m     \u001b[0mstep1\u001b[0m \u001b[0;34m=\u001b[0m \u001b[0;32myield\u001b[0m \u001b[0;32mfrom\u001b[0m \u001b[0msequence\u001b[0m\u001b[0;34m(\u001b[0m\u001b[0;34m\"first\"\u001b[0m\u001b[0;34m,\u001b[0m \u001b[0;36m0\u001b[0m\u001b[0;34m,\u001b[0m \u001b[0;36m5\u001b[0m\u001b[0;34m)\u001b[0m\u001b[0;34m\u001b[0m\u001b[0;34m\u001b[0m\u001b[0m\n\u001b[0m\u001b[1;32m     21\u001b[0m     \u001b[0mstep2\u001b[0m \u001b[0;34m=\u001b[0m \u001b[0;32myield\u001b[0m \u001b[0;32mfrom\u001b[0m \u001b[0msequence\u001b[0m\u001b[0;34m(\u001b[0m\u001b[0;34m\"second\"\u001b[0m\u001b[0;34m,\u001b[0m \u001b[0mstep1\u001b[0m\u001b[0;34m,\u001b[0m \u001b[0;36m10\u001b[0m\u001b[0;34m)\u001b[0m\u001b[0;34m\u001b[0m\u001b[0;34m\u001b[0m\u001b[0m\n\u001b[1;32m     22\u001b[0m     \u001b[0;32mreturn\u001b[0m \u001b[0mstep1\u001b[0m \u001b[0;34m+\u001b[0m \u001b[0mstep2\u001b[0m\u001b[0;34m\u001b[0m\u001b[0;34m\u001b[0m\u001b[0m\n",
            "\u001b[0;32m<ipython-input-70-3c11f1e9cd79>\u001b[0m in \u001b[0;36msequence\u001b[0;34m(name, start, end)\u001b[0m\n\u001b[1;32m     13\u001b[0m         \u001b[0;32mexcept\u001b[0m \u001b[0mCustomException\u001b[0m \u001b[0;32mas\u001b[0m \u001b[0me\u001b[0m\u001b[0;34m:\u001b[0m\u001b[0;34m\u001b[0m\u001b[0;34m\u001b[0m\u001b[0m\n\u001b[1;32m     14\u001b[0m             \u001b[0mprint\u001b[0m\u001b[0;34m(\u001b[0m\u001b[0;34m\"%s is handling %s\"\u001b[0m\u001b[0;34m,\u001b[0m \u001b[0mname\u001b[0m\u001b[0;34m,\u001b[0m \u001b[0me\u001b[0m\u001b[0;34m)\u001b[0m\u001b[0;34m\u001b[0m\u001b[0;34m\u001b[0m\u001b[0m\n\u001b[0;32m---> 15\u001b[0;31m             \u001b[0mreceived\u001b[0m \u001b[0;34m=\u001b[0m \u001b[0;32myield\u001b[0m \u001b[0;34m\"OK\"\u001b[0m\u001b[0;34m\u001b[0m\u001b[0;34m\u001b[0m\u001b[0m\n\u001b[0m\u001b[1;32m     16\u001b[0m     \u001b[0;32mreturn\u001b[0m \u001b[0mend\u001b[0m\u001b[0;34m\u001b[0m\u001b[0;34m\u001b[0m\u001b[0m\n\u001b[1;32m     17\u001b[0m \u001b[0;34m\u001b[0m\u001b[0m\n",
            "\u001b[0;31mCustomException\u001b[0m: exception at second generator"
          ]
        }
      ]
    },
    {
      "cell_type": "markdown",
      "source": [
        "Cet exemple nous dit beaucoup de choses différentes. Remarquez comment nous n'envoyons jamais de valeurs à sequence, mais uniquement à main, et même ainsi, le code qui reçoit ces valeurs est les générateurs imbriqués. Même si nous n'envoyons jamais explicitement quoi que ce soit à la séquence, elle reçoit les données au fur et à mesure qu'elles sont transmises par yield from.\n",
        "\n",
        "La coroutine principale appelle deux autres coroutines en interne, produisant leurs valeurs, et elle sera suspendue à un moment donné dans l'une d'entre elles. Lorsqu'il est arrêté au premier, nous pouvons voir les logs nous indiquant que c'est cette instance de la coroutine qui a reçu la valeur que nous avons envoyée. La même chose se produit lorsque nous lui lançons une exception. Lorsque la première coroutine se termine, elle renvoie la valeur qui a été assignée dans la variable nommée step1, et passée en entrée pour la deuxième coroutine, qui fera de même (elle gérera les appels send() et throw(), en conséquence )\n",
        "\n",
        "Il en va de même pour les valeurs produites par chaque coroutine. Lorsque nous sommes à une étape donnée, le retour de l'appel de send() correspond à la valeur que la sous-coroutine (celle à laquelle main est actuellement suspendu) a produit. Lorsque nous lançons une exception en cours de traitement, la coroutine de séquence produit la valeur OK, qui est propagée à la coroutine appelée (main) et qui, à son tour, aboutira à l'appelant de main. Comme prévu, ces méthodes, ainsi que le rendement de , nous offre de nombreuses nouvelles fonctionnalités (quelque chose qui peut ressembler à des threads). Cela ouvre les portes à la programmation asynchrone, que nous explorerons ensuite"
      ],
      "metadata": {
        "id": "1XDnUzaZmcJF"
      }
    },
    {
      "cell_type": "markdown",
      "source": [
        "## Programmation asynchrone\n",
        "\n",
        "Avec les constructions que nous avons vues jusqu'ici, nous pouvons créer des programmes asynchrones en Python. Cela signifie que nous pouvons créer des programmes qui ont de nombreuses coroutines, les programmer pour qu'elles fonctionnent dans un ordre particulier et basculer entre elles lorsqu'elles sont suspendues après qu'un rendement de a été appelé sur chacune d'elles.\n",
        "\n",
        "Le principal avantage que nous pouvons en tirer est la possibilité de paralléliser les opérations d'E/S de manière non bloquante. Ce dont nous aurions besoin, c'est d'un générateur de bas niveau (généralement implémenté par une bibliothèque tierce) qui sache comment gérer les E/S réelles pendant que la coroutine est suspendue. L'idée est que la coroutine effectue une suspension afin que notre programme puisse gérer une autre tâche en attendant. \n",
        "\n",
        "L'application récupérerait le contrôle au moyen de l'instruction yield from, qui suspendra et produira une valeur pour l'appelant (comme dans les exemples que nous avons vus précédemment lorsque nous avons utilisé cette syntaxe pour modifier le flux de contrôle du programme )\n",
        "\n",
        "C'est à peu près la façon dont la programmation asynchrone fonctionnait en Python depuis quelques années, jusqu'à ce qu'il soit décidé qu'un meilleur support syntaxique était nécessaire\n",
        "\n",
        "Le fait que les coroutines et les générateurs soient techniquement les mêmes provoque une certaine confusion. Syntaxiquement (et techniquement), ils sont identiques, mais sémantiquement, ils sont différents. Nous créons des générateurs lorsque nous voulons réaliser une itération efficace. \n",
        "\n",
        "Nous créons généralement des coroutines dans le but d'exécuter des opérations d'E/S non bloquantes. Bien que cette différence soit claire, la nature dynamique de Python permettrait toujours aux développeurs de mélanger ces différents types d'objets, se retrouvant avec une erreur d'exécution très tardivement. étape du programme. \n",
        "\n",
        "Rappelez-vous que dans la forme la plus simple et la plus basique du rendement de la syntaxe, nous avons utilisé cette construction sur des objets itérables (nous avons créé une sorte de fonction de chaîne appliquée sur des chaînes, des listes, etc.). Aucun de ces objets n'était des coroutines, et cela fonctionnait toujours. Ensuite, nous avons vu que nous pouvions avoir plusieurs coroutines, utiliser yield from pour envoyer la valeur (ou les exceptions) et récupérer des résultats. Ce sont clairement deux cas d'utilisation très différents ; cependant, si nous écrivons quelque chose dans le sens de la déclaration suivante"
      ],
      "metadata": {
        "id": "cPBrHv6Mnpn3"
      }
    },
    {
      "cell_type": "code",
      "source": [
        "result = yield from iterable_or_awaitable()"
      ],
      "metadata": {
        "id": "vsRS8AsXondZ"
      },
      "execution_count": null,
      "outputs": []
    },
    {
      "cell_type": "markdown",
      "source": [
        "Ce que iterable_or_awaitable renvoie n'est pas clair. Il peut s'agir d'un simple itérable, tel qu'une chaîne, et sa syntaxe peut toujours être correcte. Ou, il pourrait s'agir d'une coroutine réelle. Le coût de cette erreur sera payé bien plus tard, au moment de l'exécution. Pour cette raison, le système de typage en Python a dû être étendu. Avant Python 3.5, les coroutines n'étaient que des générateurs avec un décorateur @coroutine appliqué, et elles devaient être appelées avec le yeld from de la syntaxe. Maintenant, il existe un type d'objet spécifique que l'interpréteur Python reconnaît comme tel, c'est-à-dire une coroutine\n",
        "\n",
        "Ce changement annonçait également des changements de syntaxe. La syntaxe await et async def  a été introduite. Le premier est destiné à être utilisé à la place de yield from, et il ne fonctionne qu'avec des objets en attente (ce que les coroutines sont commodément). Essayer d'appeler await avec quelque chose qui ne respecte pas l'interface d'un waitable lèvera une exception (c'est un bon exemple de la façon dont les interfaces peuvent aider à obtenir une conception plus solide, en évitant les erreurs d'exécution)\n",
        "\n",
        "async def est la nouvelle façon de définir les coroutines, remplaçant le décorateur susmentionné, et cela crée en fait un objet qui, lorsqu'il est appelé, renverra une instance d'une coroutine. De la même manière que lorsque vous invoquez une fonction génératrice, l'interpréteur vous renverra un objet générateur, lorsque vous invoquez un objet défini avec async def, il vous donnera un objet coroutine qui a une méthode __await__, et donc peut être utilisé dans les expressions d'attente.\n",
        "\n",
        "Sans entrer dans tous les détails et possibilités de la programmation asynchrone en Python, on peut dire que malgré la nouvelle syntaxe et les nouveaux types, cela ne fait rien de fondamentalement différent des concepts que nous avons abordés dans ce chapitre.\n",
        "\n",
        "L'idée derrière la programmation asynchrone en Python est qu'il existe une boucle d'événements (généralement asynchrone car c'est celle qui est incluse dans la bibliothèque standard, mais il y en a beaucoup d'autres qui fonctionneront de la même manière) qui gère une série de coroutines. Ces coroutines appartiennent à la boucle d'événements, qui va les appeler selon son mécanisme d'ordonnancement. Lorsque chacune de ces exécutions, il appellera notre code (selon la logique que nous avons définie à l'intérieur de la coroutine que nous avons programmée), et lorsque nous voulons reprendre le contrôle de la boucle d'événements, nous appelons await <coroutine>, qui traitera une tâche de manière asynchrone. La boucle d'événements reprendra et une autre coroutine aura lieu pendant que cette opération est en cours d'exécution. Ce mécanisme représente les bases du fonctionnement de la programmation asynchrone en Python. Vous pouvez penser que la nouvelle syntaxe ajoutée pour les coroutines (async def / await) n'est qu'une API vous permettant d'écrire du code d'une manière qui sera appelée par la boucle d'événement. Par défaut, cette boucle d'événement sera généralement asynchrone car c'est celle qui vient dans la bibliothèque standard, mais tout système de boucle d'événement qui correspond à l'API fonctionnera. Cela signifie que vous pouvez utiliser des bibliothèques comme uvloop (https://github.com/MagicStack/uvloop) et trio (https://github.com/python-trio/trio), et le code fonctionnera de la même manière. Vous pouvez même enregistrer votre propre boucle d'événements, et cela devrait également fonctionner de la même manière (à condition de respecter l'API, c'est-à-dire). En pratique, il existe davantage de particularités et de cas extrêmes qui dépassent le cadre de ce livre. Il convient cependant de mentionner que ces concepts sont liés aux idées introduites dans ce chapitre et que cette arène est un autre endroit où les générateurs démontrent qu'ils sont un concept central du langage, car il y a beaucoup de choses construites dessus."
      ],
      "metadata": {
        "id": "nHSfHiKYos_r"
      }
    }
  ]
}