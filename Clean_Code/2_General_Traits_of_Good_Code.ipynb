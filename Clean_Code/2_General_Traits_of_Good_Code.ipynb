{
  "nbformat": 4,
  "nbformat_minor": 0,
  "metadata": {
    "colab": {
      "name": "2_General_Traits_of_Good_Code.ipynb",
      "provenance": []
    },
    "kernelspec": {
      "name": "python3",
      "display_name": "Python 3"
    },
    "language_info": {
      "name": "python"
    }
  },
  "cells": [
    {
      "cell_type": "markdown",
      "metadata": {
        "id": "aBCxOAY0ApaX"
      },
      "source": [
        "# Caractéristiques générales du bon code\n",
        "\n",
        "Ceci est un guide sur la construction de logiciels avec Python. Un bon logiciel est construit à partir d'une bonne conception. En disant des choses telles que du code propre, vous pensez peut-être que nous allons explorer les bonnes pratiques qui ne concernent que les détails de mise en œuvre du logiciel, au lieu de sa conception. Cependant, cette hypothèse serait fausse puisque le code n'est pas quelque chose de différent de la conception - le code est la conception.\n",
        "\n",
        "\n",
        "Le code est probablement la représentation la plus détaillée de la conception. Dans les deux premiers notebbok, nous avons discuté de l'importance de structurer le code de manière cohérente, et nous avons vu des idiomes pour écrire un code plus compact et idiomatique. Il est maintenant temps de comprendre qu'un code propre , et bien plus encore - le but ultime est de rendre le code aussi robuste que possible, et de l'écrire d'une manière qui minimise les défauts ou les rend tout à fait évidents, s'ils se produisent.\n",
        "\n",
        "Ce guide, et le suivant, se concentre sur les principes de conception à un niveau d'abstraction supérieur. Je présenterai les principes généraux du génie logiciel appliqués en Python. En particulier, pour ce guide, nous passerons en revue différents principes qui permettent une bonne conception logicielle. Des logiciels de bonne qualité doivent être construits autour de ces idées, et ils serviront d'outils de conception. Cela ne veut pas dire que tous doivent toujours être appliqués; en fait, certains d'entre eux représentent des points de vue différents (comme c'est le cas avec l'approche Design by Contract (DbC), par opposition à la programmation défensive). Certains d'entre eux dépendent du contexte et ne sont pas toujours applicables.\n",
        "\n",
        "Un code de haute qualité est un concept qui a plusieurs dimensions. Nous pouvons penser à cela de la même manière que nous pensons aux attributs de qualité d'une architecture logicielle. Par exemple, nous voulons que notre logiciel soit sécurisé et ait de bonnes performances, fiabilité et maintenabilité, pour ne citer que quelques attributs.\n",
        "\n",
        "\n",
        "\n"
      ]
    },
    {
      "cell_type": "markdown",
      "metadata": {
        "id": "P0uV2k_mB_8K"
      },
      "source": [
        "## Conception par contrat\n",
        "\n",
        "Certaines parties du logiciel sur lesquelles nous travaillons ne sont pas destinées à être appelées directement par les utilisateurs, mais plutôt par d'autres parties du code. Tel est le cas lorsque nous divisons les responsabilités de l'application en différents composants ou couches, et nous devons réfléchir à l'interaction entre eux.\n",
        "\n",
        "Nous devons encapsuler certaines fonctionnalités derrière chaque composant et exposer une interface aux clients qui vont utiliser cette fonctionnalité, à savoir une interface de programmation d'application (API). Les fonctions, classes ou méthodes que nous écrivons pour ce composant ont une manière particulière de fonctionner sous certaines considérations qui, si elles ne sont pas respectées, feront planter notre code. Inversement, les clients appelant ce code attendent une réponse particulière, et tout échec de notre fonction à fournir cela représenterait un défaut.\n",
        "\n",
        "C'est-à-dire que si, par exemple, nous avons une fonction qui est censée fonctionner avec une série de paramètres de type entiers, et qu'une autre fonction invoque la nôtre en passant des chaînes, il est clair qu'elle ne devrait pas fonctionner comme prévu, mais en réalité, la fonction ne devrait pas du tout s'exécuter car elle a été appelée de manière incorrecte (le client s'est trompé). Cette erreur ne doit pas passer en silence.\n",
        "\n",
        "Bien entendu, lors de la conception d'une API, les entrées, sorties et effets secondaires attendus doivent être documentés. Mais la documentation ne peut pas imposer le comportement du logiciel au moment de l'exécution. Ces règles, ce que chaque partie du code attend pour fonctionner correctement et ce que l'appelant attend d'eux, doivent faire partie de la conception, et c'est ici que le concept de contrat entre en place.\n",
        "\n",
        "L'idée derrière l'approche DbC est qu'au lieu de placer implicitement dans le code ce que chaque partie attend, les deux parties conviennent d'un contrat qui, s'il est violé, soulèvera une exception, indiquant clairement pourquoi il ne peut pas continuer.\n",
        "\n",
        "Dans notre contexte, un contrat est une construction qui applique certaines règles qui doivent être respectées lors de la communication des composants logiciels. Un contrat implique principalement des préconditions et des postconditions, mais dans certains cas, des invariants et des effets secondaires sont également décrits.\n",
        "\n",
        "\n",
        "* Préconditions : On peut dire que ce sont toutes les vérifications que le code effectuera avant de s'exécuter. Il vérifiera toutes les conditions qui doivent être remplies avant que la fonction puisse continuer. En général, il est implémenté en validant l'ensemble de données fourni dans les paramètres passés, mais rien ne doit nous empêcher d'exécuter toutes sortes de validations (par exemple, valider un ensemble dans une base de données, un fichier, ou une autre méthode qui a été appelée auparavant) si nous considérons que leurs effets secondaires sont éclipsés par l'importance de telles validations. Notez que cela impose une contrainte à l'appelant.\n",
        "\n",
        "* Postconditions : A l'opposé des préconditions, ici, les validations se font après le retour de l'appel de fonction. Les validations postcondition sont exécutées pour valider ce que l'appelant attend de ce composant\n",
        "\n",
        "* Invariants : facultativement, ce serait une bonne idée de documenter, dans la docstring d'une fonction, les invariants, les choses qui sont maintenues constantes pendant que le code de la fonction est en cours d'exécution, comme une expression de la logique de la fonction pour être correcte\n",
        "\n",
        "*  Effets secondaires : en option, nous pouvons mentionner les effets secondaires de notre code dans la docstring.\n",
        "\n",
        "\n",
        "Bien que conceptuellement, tous ces éléments fassent partie du contrat pour un composant logiciel, et c'est ce qui devrait être inclus dans la documentation d'un tel élément, seuls les deux premiers (préconditions et postconditions) doivent être appliqués à un niveau bas ( code).\n",
        "\n",
        " La raison pour laquelle nous concevons par contrat est que si des erreurs se produisent, elles doivent être faciles à repérer (et en remarquant si c'est la précondition ou la postcondition qui a échoué, nous trouverons le coupable beaucoup plus facilement) afin que ils peuvent être corrigés rapidement. Plus important encore, nous voulons que les parties critiques du code évitent d'être exécutées sous de mauvaises hypothèses. Cela devrait aider à marquer clairement les limites des responsabilités et des erreurs si elles se produisent, par opposition à quelque chose qui dit que cette partie de l'application échoue. Mais le code de l'appelant a fourni les mauvais arguments.\n",
        "\n",
        "L'idée est que les préconditions lient le client (ils ont l'obligation de les respecter s'ils veulent exécuter une partie du code), tandis que les postconditions lient le composant par rapport à certaines garanties que le client peut vérifier et appliquer. De cette façon, nous peut rapidement identifier les responsabilités. Si la condition préalable échoue, nous savons que cela est dû à un défaut du client. D'un autre côté, si la vérification postcondition échoue, nous savons que le problème est dans la routine ou la classe (fournisseur) elle-même.\n",
        "\n",
        "\n",
        "En particulier, concernant les préconditions, il est important de souligner qu'elles peuvent être vérifiées au moment de l'exécution, et si elles se produisent, le code qui est appelé ne doit pas être exécuté du tout (cela n'a pas de sens car ses conditions ne ne tient pas, et cela pourrait finir par empirer les choses)"
      ]
    },
    {
      "cell_type": "markdown",
      "metadata": {
        "id": "kTdXnZwzGdwZ"
      },
      "source": [
        "## Conditions préalables\n",
        "\n",
        "Les conditions préalables sont toutes les garanties qu'une fonction ou une méthode s'attend à recevoir pour fonctionner correctement. En termes généraux de programmation, cela signifie généralement fournir des données correctement formées, par exemple des objets initialisés, des valeurs non nulles et bien d'autres. Pour Python, en particulier, étant typé dynamiquement, cela signifie également que nous devons parfois vérifier le type exact de données fournies. Ce n'est pas exactement la même chose que la vérification de type, le genre mypy le ferait, mais vérifierait plutôt les valeurs exactes nécessaires.\n",
        "\n",
        "Une partie de ces vérifications peut être détectée très tôt en utilisant des outils d'analyse statique, tels que mypy, que nous avons déjà présenté au guide 1, Introduction, Formatage du code et Outils, mais ces vérifications ne suffisent pas. Une fonction doit avoir une validation appropriée pour les informations qu'elle va gérer.\n",
        "\n",
        "Maintenant, cela pose la question de savoir où placer la logique de validation, selon que l'on laisse les clients valider toutes les données avant d'appeler la fonction, ou que celui-ci valide tout ce qu'il a reçu avant d'exécuter sa propre logique. La première équivaut à une approche tolérante (parce que la fonction elle-même autorise toujours toutes les données, des données potentiellement malformées également), tandis que la seconde équivaut à une approche exigeante.\n",
        "\n",
        "Pour les besoins de cette analyse, nous préférons une approche exigeante en ce qui concerne DbC car c'est généralement le choix le plus sûr en termes de robustesse, et généralement la pratique la plus courante dans l'industrie. Quelle que soit l'approche que nous décidons d'adopter, nous devrions gardez toujours à l'esprit le principe de non-licenciement, qui stipule que l'exécution de chaque condition préalable à une fonction doit être effectuée par une seule des deux parties du contrat, mais pas par les deux. Cela veut dire qu'on met la logique de validation sur le client, ou qu'on la laisse à la fonction elle-même, mais en aucun cas on ne doit la dupliquer (ce qui concerne aussi le principe DRY, dont nous parlerons plus loin dans ce guide)"
      ]
    },
    {
      "cell_type": "markdown",
      "metadata": {
        "id": "CQvLLd3zHtUS"
      },
      "source": [
        "## Postconditions\n",
        "\n",
        "Les postconditions sont la partie du contrat qui est responsable de l'application de l'état après le retour de la méthode ou de la fonction\n",
        "\n",
        "En supposant que la fonction ou la méthode a été appelée avec les propriétés correctes (c'est-à-dire avec ses conditions préalables remplies), les postconditions garantiront que certaines propriétés sont préservées.\n",
        "\n",
        "L'idée est d'utiliser des postconditions pour vérifier et valider tout ce dont un client pourrait avoir besoin. Si la méthode s'exécute correctement et que les validations postconditions réussissent, alors tout client appelant ce code devrait pouvoir travailler avec l'objet renvoyé sans problème, car le contrat a été rempli."
      ]
    },
    {
      "cell_type": "markdown",
      "metadata": {
        "id": "WhJSog4iINqu"
      },
      "source": [
        "## Contrats pythoniques\n",
        "\n",
        "un PEP-316, nommé Programming by Contract for Python, est différé. Cela ne signifie pas que nous ne pouvons pas l'implémenter en Python car, comme présenté au début du guide, il s'agit d'un principe de conception général.\n",
        "\n",
        "La meilleure façon d'appliquer cela est probablement d'ajouter des mécanismes de contrôle à nos méthodes, fonctions et classes, et s'ils échouent, lever une exception RuntimeError ou ValueError. Il est difficile de concevoir une règle générale pour le bon type d'exception, car cela dépendrait à peu près de l'application en particulier. Ces exceptions mentionnées précédemment sont les types d'exception les plus courants, mais si elles ne correspondent pas exactement au problème, la création d'une exception personnalisée serait le meilleur choix.\n",
        "\n",
        "Nous aimerions également garder le code aussi isolé que possible. C'est-à-dire que le code des préconditions dans une partie, celui des postconditions dans une autre, et le noyau de la fonction séparés. Nous pourrions réaliser cette séparation en créant des fonctions plus petites, mais dans certains cas implémenter un décorateur serait une alternative intéressante"
      ]
    },
    {
      "cell_type": "markdown",
      "metadata": {
        "id": "Std0x6Y8JNT6"
      },
      "source": [
        "## Programmation défensive\n",
        "\n",
        "La programmation défensive suit une approche quelque peu différente de DbC. Au lieu d'énoncer toutes les conditions qui doivent être contenues dans un contrat, qui, si elles ne sont pas remplies, déclencheront une exception et feront échouer le programme, il s'agit plutôt de rendre toutes les parties du code (objets, fonctions ou méthodes) capables de se protéger. contre les entrées invalides .\n",
        "\n",
        "La programmation défensive est une technique qui a plusieurs aspects, et elle est particulièrement utile si elle est combinée avec d'autres principes de conception (cela signifie que le fait qu'elle suive une philosophie différente de DbC ne signifie pas qu'il s'agit de l'un ou l'autre autre - cela pourrait signifier qu'ils pourraient se compléter).\n",
        "\n",
        "Les idées principales sur le sujet de la programmation défensive sont de savoir comment gérer les erreurs pour les scénarios auxquels on pourrait s'attendre et comment gérer les erreurs qui ne devraient jamais se produire (lorsque des conditions impossibles se produisent). Le premier tombera dans les procédures de gestion des erreurs, tandis que le second sera le cas pour les assertions. Les deux sujets sont explorés dans les sections suivantes"
      ]
    },
    {
      "cell_type": "markdown",
      "metadata": {
        "id": "5kVAXYccKH55"
      },
      "source": [
        "## La gestion des erreurs\n",
        "\n",
        "Dans nos programmes, nous recourons à des procédures de gestion des erreurs pour les situations que nous anticipons comme susceptibles de provoquer des erreurs. C'est généralement le cas pour la saisie des données.\n",
        "\n",
        "L'idée derrière la gestion des erreurs est de répondre gracieusement à ces erreurs attendues dans une tentative de poursuivre l'exécution de notre programme ou de décider d'échouer si l'erreur s'avère insurmontable.\n",
        "\n",
        "Il existe différentes approches par lesquelles nous pouvons gérer les erreurs sur nos programmes, mais toutes ne sont pas toujours applicables. Certaines de ces approches sont les suivantes :\n",
        "\n",
        "* Substitution de valeur \n",
        "* erreurs logging\n",
        "*  Gestion des exceptions\n",
        "\n",
        "Dans les deux sections suivantes, nous nous concentrerons sur la substitution de valeur et la gestion des exceptions, car ces formes de gestion des erreurs fournissent une analyse plus intéressante. erreurs logging est une pratique complémentaire (et bonne ; nous devrions toujours enregistrer les erreurs), mais la plupart du temps, nous n'enregistrons que lorsqu'il n'y a rien d'autre à faire, donc les autres méthodes offrent des alternatives plus intéressantes"
      ]
    },
    {
      "cell_type": "markdown",
      "metadata": {
        "id": "ZaKqDpwiLH80"
      },
      "source": [
        "## Substitution de valeur\n",
        "\n",
        "Dans certains scénarios, lorsqu'il y a une erreur et qu'il existe un risque que le logiciel produise une valeur incorrecte ou échoue complètement, nous pourrions être en mesure de remplacer le résultat par une autre valeur plus sûre. Nous appelons cette substitution de valeur, puisque nous remplaçons, en fait, le résultat erroné réel par une valeur qui doit être considérée comme non perturbatrice (ce pourrait être une valeur par défaut, une constante bien connue, une valeur sentinelle, ou simplement quelque chose qui n'affecte pas du tout le résultat, comme renvoyer zéro dans un cas où le résultat est destiné à être appliqué à une somme).\n",
        "\n",
        "Cependant, la substitution de valeur n'est pas toujours possible. Cette stratégie doit être soigneusement choisie pour les cas où la valeur de substitution est une option sûre. Prendre cette décision est un compromis entre robustesse et exactitude. Un logiciel est robuste lorsqu'il ne tombe pas en panne, même en présence d'un scénario erroné. Mais ce n'est pas correct non plus.\n",
        "\n",
        "Cela peut ne pas être acceptable pour certains types de logiciels. Si l'application est critique ou si les données traitées sont trop sensibles, ce n'est pas une option, car nous ne pouvons pas nous permettre de fournir aux utilisateurs (ou à d'autres parties de l'application) des résultats erronés. Dans ces cas, nous optons pour l'exactitude, plutôt que de laisser le programme exploser lorsqu'il donne de mauvais résultats.\n",
        "\n",
        "Une version légèrement différente et plus sûre de cette décision consiste à utiliser des valeurs par défaut pour les données qui ne sont pas fournies. Cela peut être le cas pour des parties du code qui peuvent fonctionner avec un comportement par défaut, par exemple, des valeurs par défaut pour des variables d'environnement qui ne sont pas définies, pour des entrées manquantes dans des fichiers de configuration, ou pour des paramètres de fonctions\n",
        "\n",
        "Nous pouvons trouver des exemples de Python prenant en charge cela à travers différentes méthodes de son API, par exemple, les dictionnaires ont une méthode get, dont le deuxième paramètre (facultatif) vous permet d'indiquer une valeur par défaut"
      ]
    },
    {
      "cell_type": "code",
      "metadata": {
        "colab": {
          "base_uri": "https://localhost:8080/",
          "height": 35
        },
        "id": "YpfteGRbMyrp",
        "outputId": "548fefe7-c5e9-4199-cf22-9d04b9b9aa04"
      },
      "source": [
        "configuration = {\"dbport\": 5432}\n",
        "configuration.get(\"dbhost\", \"localhost\")"
      ],
      "execution_count": 1,
      "outputs": [
        {
          "output_type": "execute_result",
          "data": {
            "application/vnd.google.colaboratory.intrinsic+json": {
              "type": "string"
            },
            "text/plain": [
              "'localhost'"
            ]
          },
          "metadata": {},
          "execution_count": 1
        }
      ]
    },
    {
      "cell_type": "code",
      "metadata": {
        "colab": {
          "base_uri": "https://localhost:8080/"
        },
        "id": "cCrgt-evM7x1",
        "outputId": "11e11d8d-0010-43d8-fd67-c69a1925179c"
      },
      "source": [
        "configuration.get(\"dbport\")"
      ],
      "execution_count": 2,
      "outputs": [
        {
          "output_type": "execute_result",
          "data": {
            "text/plain": [
              "5432"
            ]
          },
          "metadata": {},
          "execution_count": 2
        }
      ]
    },
    {
      "cell_type": "markdown",
      "metadata": {
        "id": "ZBcJysHwNC-c"
      },
      "source": [
        "Les variables d'environnement ont une API similaire"
      ]
    },
    {
      "cell_type": "code",
      "metadata": {
        "colab": {
          "base_uri": "https://localhost:8080/"
        },
        "id": "_3_Ql78pNGbX",
        "outputId": "e7f70a1b-118d-4085-c5c3-3b20a8a45b17"
      },
      "source": [
        "import os\n",
        "print(os.getenv(\"DBHOST\"))"
      ],
      "execution_count": 4,
      "outputs": [
        {
          "output_type": "stream",
          "name": "stdout",
          "text": [
            "None\n"
          ]
        }
      ]
    },
    {
      "cell_type": "code",
      "metadata": {
        "colab": {
          "base_uri": "https://localhost:8080/"
        },
        "id": "DngbuduzNRSM",
        "outputId": "50f6e179-42f7-4913-d3d2-2fcb469831f9"
      },
      "source": [
        "os.getenv(\"DPORT\", 5432)"
      ],
      "execution_count": 5,
      "outputs": [
        {
          "output_type": "execute_result",
          "data": {
            "text/plain": [
              "5432"
            ]
          },
          "metadata": {},
          "execution_count": 5
        }
      ]
    },
    {
      "cell_type": "markdown",
      "metadata": {
        "id": "lmwbIhY8NWq7"
      },
      "source": [
        "Dans les deux exemples précédents, si le deuxième paramètre n'est pas fourni, None sera renvoyé car c'est la valeur par défaut avec laquelle ces fonctions sont définies. Nous pouvons également définir des valeurs par défaut pour les paramètres de nos propres fonctions :"
      ]
    },
    {
      "cell_type": "code",
      "metadata": {
        "id": "FKWS0lBXNduc"
      },
      "source": [
        "def connect_database(host=\"localhost\", port=5432):   \n",
        "  logger.info(\"connecting to database server at %s:%i\", host, port)"
      ],
      "execution_count": 6,
      "outputs": []
    },
    {
      "cell_type": "markdown",
      "metadata": {
        "id": "hCrmmdrKNonJ"
      },
      "source": [
        "En général, le remplacement des paramètres manquants par des valeurs par défaut est acceptable, mais la substitution de données erronées par des valeurs proches légales est plus dangereuse et peut masquer certaines erreurs. Tenir compte de ce critère au moment de décider de cette approche"
      ]
    },
    {
      "cell_type": "markdown",
      "metadata": {
        "id": "u8-8WCylCtNv"
      },
      "source": [
        "## Gestion des exception\n",
        "\n",
        "En présence de données d'entrée incorrectes ou manquantes, il est parfois possible de corriger la situation avec quelques exemples, tels que ceux mentionnés dans la section précédente. Dans d'autres cas, cependant, il vaut mieux empêcher le programme de continuer à s'exécuter avec des données erronées que de le laisser calculer sous des hypothèses erronées. Dans ces cas, échouer et informer l'appelant que quelque chose ne va pas est une bonne approche, et c'est le cas pour une condition préalable qui a été violée, comme nous l'avons vu dans DbC.\n",
        "\n",
        "Néanmoins, des données d'entrée erronées ne sont pas le seul moyen possible par lequel une fonction peut mal tourner. Après tout, les fonctions ne se limitent pas à transmettre des données ; ils ont également des effets secondaires et se connectent à des composants externes.\n",
        "\n",
        "Il est possible qu'une erreur dans un appel de fonction soit due à un problème sur l'un de ces composants externes, et non dans notre fonction elle-même. Si tel est le cas, notre fonction devrait le communiquer correctement. Cela facilitera le débogage. La fonction doit clairement et sans ambiguïté informer le reste de l'application des erreurs qui ne peuvent être ignorées afin qu'elles puissent être corrigées en conséquence.\n",
        "\n",
        "Le mécanisme pour y parvenir est une exception. Il est important de souligner que c'est pour cela que les exceptions doivent être utilisées : annoncer clairement une situation exceptionnelle et ne pas modifier le flux du programme selon la logique métier.\n",
        "\n",
        "Si le code essaie d'utiliser des exceptions pour gérer les scénarios attendus ou la logique métier, le flux du programme deviendra plus difficile à lire. Cela conduira à une situation où les exceptions sont utilisées comme une sorte d'instruction go-to, qui (pour aggraver les choses) pourrait s'étendre sur plusieurs niveaux sur la pile d'appels (jusqu'aux fonctions d'appelant), violant l'encapsulation de la logique dans son niveau d'abstraction. Le cas pourrait empirer si ces blocs except mélangent la logique métier avec des cas vraiment exceptionnels contre lesquels le code essaie de se défendre ; dans ce cas, il sera plus difficile de faire la distinction entre la logique de base que nous devons maintenir et les erreurs à traiter.\n",
        "\n",
        "    N'utilisez pas d'exceptions comme mécanisme de référence pour la logique métier.\n",
        "    Lever des exceptions lorsqu'il y a quelque chose qui ne va pas avec le code dont les appelants doivent être conscients.\n",
        "\n",
        "\n",
        "Ce dernier concept est important ; les exceptions consistent généralement à informer l'appelant de quelque chose qui ne va pas. Cela signifie que les exceptions doivent être utilisées avec précaution car elles affaiblissent l'encapsulation. Plus une fonction a d'exceptions, plus la fonction appelante devra anticiper, donc connaître la fonction qu'elle appelle. Et si une fonction lève trop d'exceptions, cela signifie qu'elle n'est pas si contextuelle, car chaque fois que nous voulons l'invoquer, nous devrons garder à l'esprit tous ses effets secondaires possibles.\n",
        "\n",
        "Cela peut être utilisé comme une heuristique pour dire quand une fonction n'est pas sufsamment cohésive et a trop de responsabilités. S'il soulève trop d'exceptions, cela peut être le signe qu'il doit être décomposé en plusieurs plus petites.\n",
        "\n",
        "Voici quelques recommandations relatives aux exceptions en Python\n",
        "\n"
      ]
    },
    {
      "cell_type": "markdown",
      "metadata": {
        "id": "c-gDLcC1QwLm"
      },
      "source": [
        "## Gérer les exceptions au bon niveau d'abstraction\n",
        "\n",
        "Les exceptions font également partie des fonctions principales qui font une chose, et une seule chose. L'exception que la fonction gère (ou soulève) doit être cohérente avec la logique qui y est encapsulée.\n",
        "\n",
        "Dans l'exemple suivant, nous pouvons voir ce que nous entendons par mélanger différents niveaux d'abstractions. Imaginez un objet qui agit comme un transport pour certaines données dans notre application. Il se connecte à un composant externe où les données vont être envoyées lors du décodage. Dans la liste suivante, nous allons nous concentrer sur la méthode Deliver_event"
      ]
    },
    {
      "cell_type": "code",
      "metadata": {
        "id": "UVFDHKLjRXKq"
      },
      "source": [
        "import logging\n",
        "import time\n",
        "\n",
        "logger = logging.getLogger(__name__)\n",
        "\n",
        "\n",
        "class Connector:\n",
        "    \"\"\"Abstract the connection to a database.\"\"\"\n",
        "\n",
        "    def connect(self):\n",
        "        \"\"\"Connect to a data source.\"\"\"\n",
        "        return self\n",
        "\n",
        "    @staticmethod\n",
        "    def send(data):\n",
        "        return data\n",
        "\n",
        "\n",
        "class Event:\n",
        "    def __init__(self, payload):\n",
        "        self._payload = payload\n",
        "\n",
        "    def decode(self):\n",
        "        return f\"decoded {self._payload}\"\n",
        "\n",
        "\n",
        "class DataTransport:\n",
        "    \"\"\"An example of an object handling exceptions of different levels.\"\"\"\n",
        "\n",
        "    _RETRY_BACKOFF: int = 5\n",
        "    _RETRY_TIMES: int = 3\n",
        "\n",
        "    def __init__(self, connector: Connector) -> None:\n",
        "        self._connector = connector\n",
        "        self.connection = None\n",
        "\n",
        "    def deliver_event(self, event: Event):\n",
        "        try:\n",
        "            self.connect()\n",
        "            data = event.decode()\n",
        "            self.send(data)\n",
        "        except ConnectionError as e:\n",
        "            logger.info(\"connection error detected: %s\", e)\n",
        "            raise\n",
        "        except ValueError as e:\n",
        "            logger.error(\"%r contains incorrect data: %s\", event, e)\n",
        "            raise\n",
        "\n",
        "    def connect(self):\n",
        "        for _ in range(self._RETRY_TIMES):\n",
        "            try:\n",
        "                self.connection = self._connector.connect()\n",
        "            except ConnectionError as e:\n",
        "                logger.info(\n",
        "                    \"%s: attempting new connection in %is\",\n",
        "                    e,\n",
        "                    self._RETRY_BACKOFF,\n",
        "                )\n",
        "                time.sleep(self._RETRY_BACKOFF)\n",
        "            else:\n",
        "                return self.connection\n",
        "        raise ConnectionError(\n",
        "            f\"Couldn't connect after {self._RETRY_TIMES} times\"\n",
        "        )\n",
        "\n",
        "    def send(self, data: bytes):\n",
        "        return self.connection.send(data)"
      ],
      "execution_count": 1,
      "outputs": []
    },
    {
      "cell_type": "markdown",
      "metadata": {
        "id": "YLeLU8vXT69K"
      },
      "source": [
        "Pour notre analyse, zoomons et concentrons-nous sur la façon dont la méthode Deliver_event() gère les exceptions.\n",
        "\n",
        "Qu'est-ce que ValueError a à voir avec ConnectionError ? Pas beaucoup. En examinant ces deux types d'erreurs très différents, nous pouvons avoir une idée de la façon dont les responsabilités doivent être réparties.\n",
        "\n",
        "ConnectionError doit être géré dans la méthode connect. Cela permet une séparation claire des comportements. Par exemple, si cette méthode doit prendre en charge les nouvelles tentatives, la gestion de cette exception serait un moyen de le faire.\n",
        "\n",
        "Inversement, ValueError appartient à la méthode de décodage de l'événement. Avec cette nouvelle implémentation (illustrée dans l'exemple suivant), cette méthode n'a besoin d'attraper aucune exception - les exceptions dont nous nous préoccupions auparavant sont soit gérées par des méthodes internes, soit délibérément laissées à lever.\n",
        "\n",
        "Nous devrions séparer ces fragments en différentes méthodes ou fonctions. Pour la gestion des connexions, une petite fonction devrait suffire. Cette fonction sera chargée d'essayer d'établir la connexion, de détecter les exceptions (si elles se produisent) et de les enregistrer en conséquence"
      ]
    },
    {
      "cell_type": "code",
      "metadata": {
        "id": "RjPAEoY6WWG-"
      },
      "source": [
        "logger = logging.getLogger(__name__)\n",
        "\n",
        "\n",
        "def connect_with_retry(\n",
        "    connector: Connector, retry_n_times: int, retry_backoff: int = 5\n",
        "):\n",
        "    \"\"\"Tries to establish the connection of <connector> retrying\n",
        "    <retry_n_times>, and waiting <retry_backoff> seconds between attempts.\n",
        "    If it can connect, returns the connection object.\n",
        "    If it's not possible to connect after the retries have been exhausted, raises ``ConnectionError``.\n",
        "    :param connector:         An object with a ``.connect()`` method.\n",
        "    :param retry_n_times int: The number of times to try to call\n",
        "                                ``connector.connect()``.\n",
        "    :param retry_backoff int: The time lapse between retry calls.\n",
        "    \"\"\"\n",
        "    for _ in range(retry_n_times):\n",
        "        try:\n",
        "            return connector.connect()\n",
        "        except ConnectionError as e:\n",
        "            logger.info(\n",
        "                \"%s: attempting new connection in %is\", e, retry_backoff\n",
        "            )\n",
        "            time.sleep(retry_backoff)\n",
        "    exc = ConnectionError(f\"Couldn't connect after {retry_n_times} times\")\n",
        "    logger.exception(exc)"
      ],
      "execution_count": null,
      "outputs": []
    },
    {
      "cell_type": "markdown",
      "metadata": {
        "id": "KCRsENCqWnHL"
      },
      "source": [
        "Ensuite, nous appellerons cette fonction dans notre méthode. Quant à l'exception ValueError sur l'événement, nous pourrions la séparer avec un nouvel objet et faire la composition, mais pour ce cas limité, ce serait exagéré, donc il suffirait de déplacer la logique vers une méthode distincte. Avec ces deux considérations en place, la nouvelle version de la méthode semble beaucoup plus compacte et plus facile à lire"
      ]
    },
    {
      "cell_type": "code",
      "metadata": {
        "id": "aEJd5s7lWzDU"
      },
      "source": [
        "class DataTransport:\n",
        "    \"\"\"An example of an object that separates the exception handling by\n",
        "    abstraction levels.\n",
        "    \"\"\"\n",
        "\n",
        "    _RETRY_BACKOFF: int = 5\n",
        "    _RETRY_TIMES: int = 3\n",
        "\n",
        "    def __init__(self, connector: Connector) -> None:\n",
        "        self._connector = connector\n",
        "        self.connection = None\n",
        "\n",
        "    def deliver_event(self, event: Event):\n",
        "        self.connection = connect_with_retry(\n",
        "            self._connector, self._RETRY_TIMES, self._RETRY_BACKOFF\n",
        "        )\n",
        "        self.send(event)\n",
        "\n",
        "    def send(self, event: Event):\n",
        "        try:\n",
        "            return self.connection.send(event.decode())\n",
        "        except ValueError as e:\n",
        "            logger.error(\"%r contains incorrect data: %s\", event, e)\n",
        "            raise"
      ],
      "execution_count": null,
      "outputs": []
    },
    {
      "cell_type": "markdown",
      "metadata": {
        "id": "vs24hrtOXw2l"
      },
      "source": [
        "Voyez maintenant comment la séparation des classes d'exception délimite également une séparation des responsabilités. Dans le premier exemple montré, tout était mélangé, et il n'y avait pas de séparation claire des préoccupations. Ensuite, nous avons décidé que la connexion était une préoccupation pour elle-même, donc dans l'exemple suivant, la fonction connect_with_retry a été créée et ConnectionError était gérée dans le cadre de cette fonction, si nous devions modifier cette fonction (comme nous l'avions fait). D'un autre côté, la ValueError ne faisait pas partie de cette même logique, elle a donc été laissée dans la méthode d'envoi à laquelle elle appartient.\n",
        "\n",
        "Les exceptions ont un sens. Pour cette raison, il est important de gérer chaque type d'exception à son bon niveau d'abstraction (c'est-à-dire en fonction de la couche de notre application à laquelle ils appartiennent). Mais ils peuvent aussi parfois contenir des informations importantes. Et puisque ces informations peuvent être sensibles, nous ne voulons pas qu'elles tombent entre de mauvaises mains, donc dans la section suivante, nous discuterons des implications de sécurité des exceptions."
      ]
    },
    {
      "cell_type": "markdown",
      "metadata": {
        "id": "GvIwjvR_Zta_"
      },
      "source": [
        "## Ne pas exposer les retraçages aux utilisateurs finaux\n",
        "\n",
        "Il s'agit d'une considération de sécurité. Lorsqu'il s'agit d'exceptions, il peut être acceptable de les laisser se propager si l'erreur est trop importante, et peut-être même de laisser le programme échouer si c'est la décision pour ce scénario particulier et que l'exactitude a été privilégiée par rapport à la robustesse.\n",
        "\n",
        "Lorsqu'une exception signale un problème, il est important de se connecter avec autant de détails que possible (y compris les informations de traçabilité, le message et tout ce que nous pouvons rassembler) afin que le problème puisse être corrigé efficacement. Dans le même temps, nous voulons inclure autant de détails que possible pour nous-mêmes - nous ne voulons pas que tout cela devienne visible pour les utilisateurs.\n",
        "\n",
        "En Python, les traces d'exceptions contiennent des informations de débogage très riches et utiles. Malheureusement, ces informations sont également très utiles pour les attaquants ou les utilisateurs malveillants qui veulent tenter de nuire à l'application, sans compter que la fuite représenterait une divulgation d'informations importante, mettant en péril la propriété intellectuelle de votre organisation (car des parties du code seront exposé)\n",
        "\n",
        "Si vous choisissez de laisser les exceptions se propager, assurez-vous de ne divulguer aucune information sensible. De plus, si vous devez informer les utilisateurs d'un problème, choisissez des messages génériques (tels que Quelque chose s'est mal passé ou Page non trouvée). Il s'agit d'une technique courante utilisée dans les applications Web qui affichent des messages d'information génériques lorsqu'une erreur HTTP se produit.\n"
      ]
    },
    {
      "cell_type": "markdown",
      "metadata": {
        "id": "_UbzHJ7egCWa"
      },
      "source": [
        "## Eviter d'avoir un bloc except vide.\n",
        "\n",
        "Cela a même été appelé l'anti-modèle Python le plus diabolique (REAL 01). S'il est bon d'anticiper et de défendre nos programmes contre certaines erreurs, être trop défensif peut entraîner des problèmes encore pires. En particulier, le seul problème d'être trop défensif est qu'il y a un bloc except vide qui passe silencieusement sans rien faire.\n",
        "\n",
        "Python est si flexible qu'il nous permet d'écrire du code qui peut être défectueux et pourtant, ne générera pas d'erreur, comme ceci\n",
        "\n",
        "    try:\n",
        "        process_data()\n",
        "    except:\n",
        "        pass\n",
        "\n",
        "Le problème avec ceci est qu'il n'échouera jamais, même quand il le devrait. Il est également non Pythonic si vous vous souvenez du Zen de Python que les erreurs ne devraient jamais passer en silence.\n",
        "\n",
        "    Configurez votre environnement d'intégration continue (en utilisant des\n",
        "    outils tels que ceux explorés dans le guide 1, Introduction, Formatage du code et Outils) pour générer automatiquement des rapports sur les blocs d'exception vides\n",
        "\n",
        "\n",
        "En cas d'exception, ce bloc de code n'échouera pas, ce qui pourrait être ce que nous voulions en premier lieu. Mais que faire s'il y a un défaut? Il peut se produire un échec réel lors de l'exécution de la fonction process_data(), et nous aimerions savoir s'il y a une erreur dans notre logique afin de pouvoir la corriger. L'écriture de blocs comme celui-ci masquera les problèmes, rendant les choses plus difficiles à maintenir.\n",
        "\n",
        "\n",
        "Il y a deux alternatives :\n",
        "\n",
        "* Attraper une exception plus spécifique (pas trop large, comme une Exception). En fait, certains outils de linting et IDE vous avertiront dans certains cas lorsque le code gère une exception trop large. \n",
        "\n",
        "* Effectuez une gestion réelle des erreurs sur le bloc except\n",
        "\n",
        "La meilleure chose à faire serait d'appliquer les deux recommandations. La gestion d'une exception plus spécifique (par exemple, AttributeError ou KeyError) rendra le programme plus facile à gérer car le lecteur saura à quoi s'attendre et pourra se faire une idée du pourquoi. Cela laissera également d'autres exceptions libres d'être levées, et si cela se produit, cela signifie probablement un bogue, seulement cette fois, il peut être découvert.\n",
        "\n",
        "La gestion de l'exception elle-même peut signifier plusieurs choses. Dans sa forme la plus simple, il pourrait s'agir simplement de consigner l'exception (assurez-vous d'utiliser logger.exception ou logger.error pour fournir le contexte complet de ce qui s'est passé). D'autres alternatives pourraient être de renvoyer une valeur par défaut (substitution, uniquement dans ce cas après avoir détecté une erreur, pas avant de la provoquer), ou de lever une exception différente\n",
        "\n",
        "    Si vous choisissez de lever une exception différente,\n",
        "    incluez l'exception d'origine qui a causé le problème (voir la section suivante)\n",
        "\n",
        "Une autre raison d'éviter d'avoir un bloc except vide (en utilisant pass) est son caractère implicite : il ne dit pas aux lecteurs du code que nous nous attendons à ce que cette exception soit ignorée. Une façon plus explicite de le faire serait d'utiliser la fonction contextlib.suppress, qui peut accepter toutes les exceptions comme arguments à ignorer, et elle peut être utilisée comme gestionnaire de contexte.\n",
        "\n",
        "Dans notre exemple, cela pourrait ressembler à ceci\n",
        "\n",
        "    import contextlib\n",
        "    with contextlib.suppress(KeyError):\n",
        "        process_data()\n",
        "\n",
        "Encore une fois, comme dans le cas précédent, essayez d'éviter de passer l'exception générale à ce gestionnaire de contexte, car l'effet sera le même"
      ]
    },
    {
      "cell_type": "markdown",
      "metadata": {
        "id": "azVPzl4Ij2oK"
      },
      "source": [
        "## Inclure l'exception d'origine\n",
        "\n",
        "Dans le cadre de notre logique de gestion des erreurs, nous pourrions décider d'en créer un autre, et peut-être même changer son message. Si tel est le cas, il est recommandé d'inclure l'exception d'origine qui a conduit à cette exception.\n",
        "\n",
        "Nous pouvons utiliser la syntaxe de relance <e> de <original_exception> (PEP-3134). Lors de l'utilisation de cette construction, le retraçage d'origine sera intégré dans la nouvelle exception et l'exception d'origine sera définie dans l'attribut __cause__ de l'exception résultante.\n",
        "\n",
        "Par exemple, si nous souhaitons envelopper les exceptions par défaut avec des exceptions personnalisées en interne dans notre projet, nous pouvons toujours le faire tout en incluant des informations sur l'exception racine"
      ]
    },
    {
      "cell_type": "code",
      "metadata": {
        "id": "hKpYAgFDj17s"
      },
      "source": [
        "class InternalDataError(Exception):\n",
        "    \"\"\"An exception with the data of our domain problem.\"\"\"\n",
        "\n",
        "\n",
        "def process(data_dictionary, record_id):\n",
        "    try:\n",
        "        return data_dictionary[record_id]\n",
        "    except KeyError as e:\n",
        "        raise InternalDataError(\"Record not present\") from e"
      ],
      "execution_count": null,
      "outputs": []
    },
    {
      "cell_type": "markdown",
      "metadata": {
        "id": "UtHReOugkvKG"
      },
      "source": [
        "    Utilisez toujours la syntaxe raise <e> from <o> lorsque vous modifiez le type de l'exception\n",
        "\n",
        "L'utilisation de cette syntaxe fera en sorte que les traces contiennent plus d'informations sur l'exception ou l'erreur qui vient de se produire, ce qui aidera considérablement lors du débogage"
      ]
    },
    {
      "cell_type": "markdown",
      "metadata": {
        "id": "xHRdcw4Ck-Pb"
      },
      "source": [
        "## Utiliser des assertions en Python\n",
        "\n",
        "Les assertions doivent être utilisées pour des situations qui ne devraient jamais se produire, donc l'expression sur l'instruction assert doit signifier une condition impossible. Si cette condition se produit, cela signifie qu'il y a un défaut dans le logiciel.\n",
        "\n",
        "Contrairement à l'approche de gestion des erreurs, il existe des situations dans lesquelles nous ne voulons pas que notre programme poursuive son exécution si une erreur particulière s'est produite. C'est parce que, dans certains cas, l'erreur ne peut pas être surmontée, et notre programme ne peut pas corriger son cours d'exécution (ou d'auto-guérison), il est donc préférable d'échouer rapidement, et de laisser l'erreur être remarquée, afin qu'elle puisse être corrigée avec la prochaine mise à jour de la version.\n",
        "\n",
        "L'idée d'utiliser des assertions est d'empêcher le programme de causer d'autres dommages si un tel scénario invalide est présenté. Parfois, il est préférable d'arrêter et de laisser le programme planter plutôt que de le laisser continuer le traitement sous de mauvaises hypothèses.\n",
        "\n",
        "Par définition, une assertion est une condition booléenne dans le code qui doit être vraie pour que le programme soit correct. Si le programme échoue à cause d'une AssertionError, cela signifie qu'un défaut vient d'être découvert.\n",
        "\n",
        "Pour cette raison, les assertions ne doivent pas être mélangées avec la logique métier, ou utilisées comme mécanismes de contrôle de flux pour le logiciel. L'exemple suivant est une mauvaise idée"
      ]
    },
    {
      "cell_type": "code",
      "metadata": {
        "id": "3z9uPrqemBAz"
      },
      "source": [
        "try:    \n",
        "  assert condition.holds(), \"Condition is not satisfied\"\n",
        "  except AssertionError:\n",
        "        alternative_procedure()"
      ],
      "execution_count": null,
      "outputs": []
    },
    {
      "cell_type": "markdown",
      "metadata": {
        "id": "EbaqXvs6mTvS"
      },
      "source": [
        "    N'interceptez pas l'exception AssertionError car cela pourrait être\n",
        "    déroutant pour les lecteurs du code. Si vous vous attendez à ce qu'une partie de votre code lève une exception, essayez d'en utiliser une plus spécifique\n",
        "\n",
        "Le conseil précédent d'attraper l'AssertionError va dans le sens de ne pas laisser votre programme échouer en silence. Mais cela pourrait échouer gracieusement. Ainsi, au lieu de laisser l'application se bloquer, vous pouvez intercepter l'AssertionError et afficher un message d'erreur générique, tout en enregistrant tous les détails de l'erreur interne sur la plate-forme de journalisation de votre entreprise. Il ne s'agit pas exactement de savoir s'il faut ou non intercepter cette exception, mais que les erreurs d'assertion sont une source précieuse d'informations qui vous aideront à améliorer la qualité de votre logiciel.\n",
        "\n",
        "Assurez-vous que le programme se termine lorsqu'une assertion échoue. Cela signifie que des assertions sont généralement insérées dans le code pour identifier les parties erronées du programme. Il y a une tendance dans de nombreux langages de programmation à penser que les assertions peuvent être supprimées lorsque le programme est en cours d'exécution, mais cela va à l'encontre de son objectif, car leur but est de nous informer précisément des parties du programme qui doivent être corrigées.\n",
        "\n",
        "En Python, en particulier, l'exécution avec l'indicateur -O supprimera les instructions d'assertion, mais cela est déconseillé pour les raisons susmentionnées.\n",
        "\n",
        "    N'exécutez pas vos programmes de production avec python –O… \n",
        "    car vous aimeriez profiter des assertions du code pour corriger les défauts.\n",
        "\n",
        "Incluez un message d'erreur descriptif dans la déclaration d'assertion et enregistrez les erreurs pour vous assurer que vous pouvez correctement déboguer et corriger le problème plus tard.\n",
        "\n",
        "Une autre raison importante pour laquelle le code précédent est une mauvaise idée est qu'en plus d'attraper AssertionError, l'instruction dans l'assertion est un appel de fonction. Les appels de fonction peuvent avoir des effets secondaires, et ils ne sont pas toujours reproductibles (nous ne savons pas si un nouvel appel de condition.holds() produira le même résultat). De plus, si nous arrêtons le débogueur à cette ligne, nous pourrions ne pas être en mesure de voir facilement le résultat qui provoque l'erreur, et, encore une fois, même si nous appelons à nouveau cette fonction, nous ne savons pas si c'était la valeur incriminée.\n",
        "\n",
        "Une meilleure alternative nécessite quelques lignes de code supplémentaires, mais fournit des informations plus utiles:\n",
        "\n",
        "    result = condition.holds()\n",
        "    assert result > 0, f\"Error with {result}\"\n",
        ".\n",
        "    \n",
        "    Lorsque vous utilisez des assertions, essayez d'éviter d'utiliser des\n",
        "    appels de fonction directement et écrivez l'expression en termes de variables locales.\n",
        "\n",
        "Quelle est la relation entre les assertions et la gestion des exceptions ? Certains pourraient se demander si les assertions sont sans objet, à la lumière de la gestion des exceptions. Pourquoi voudriez-vous affirmer une condition si nous pouvons la vérifier avec une instruction if et lever une exception ? Il y a une différence subtile, cependant. En général, les exceptions servent à gérer des situations inattendues par rapport à la logique métier que notre programme voudra prendre en compte, tandis que les assertions sont comme des mécanismes d'auto-vérification mis dans le code, pour valider (affirmer) son exactitude.\n",
        "\n",
        "Pour cette raison, la levée d'exceptions sera beaucoup plus courante que les instructions assert. Les utilisations typiques de l'assertion sont des situations où un algorithme maintient une logique invariante qui doit être conservée à tout moment : dans ce cas, vous voudrez peut-être affirmer pour l'invariant. Si cela est cassé à un moment donné, cela signifie que l'algorithme est erroné ou mal implémenté.\n",
        "\n",
        "Nous avons exploré la programmation défensive en Python et certains sujets connexes concernant la gestion des exceptions. Maintenant, nous passons au prochain grand sujet, car la section suivante traite de la séparation des préoccupations."
      ]
    },
    {
      "cell_type": "markdown",
      "metadata": {
        "id": "wt5RBVPmqju2"
      },
      "source": [
        "## Séparation des préoccupations\n",
        "\n",
        "Il s'agit d'un principe de conception qui s'applique à plusieurs niveaux. Il ne s'agit pas seulement de la conception de bas niveau (code), mais c'est également pertinent à un niveau d'abstraction plus élevé, donc cela reviendra plus tard lorsque nous parlerons d'architecture.\n",
        "\n",
        "Différentes responsabilités doivent aller dans différents composants, couches ou modules de l'application. Chaque partie du programme ne devrait être responsable que d'une partie de la fonctionnalité (ce que nous appelons ses préoccupations) et ne devrait rien savoir du reste.\n",
        "\n",
        "L'objectif de séparer les problèmes dans le logiciel est d'améliorer la maintenabilité en minimisant les effets d'entraînement. Un effet d'entraînement signifie la propagation d'un changement dans le logiciel à partir d'un point de départ. Cela peut être le cas d'une erreur ou d'une exception déclenchant une chaîne d'autres exceptions, provoquant des pannes qui se traduiront par un défaut sur une partie distante de l'application. Il se peut également que nous ayons à modifier beaucoup de code dispersé dans plusieurs parties de la base de code, à la suite d'un simple changement dans la définition d'une fonction.\n",
        "\n",
        "De toute évidence, nous ne voulons pas que ces scénarios se produisent. Le logiciel doit être facile à changer. Si nous devons modifier ou refactoriser une partie du code, cela doit avoir un impact minimal sur le reste de l'application, et le moyen d'y parvenir est de procéder à une encapsulation appropriée.\n",
        "\n",
        "De la même manière, nous souhaitons que toutes les erreurs potentielles soient contenues afin qu'elles ne causent pas de dommages majeurs.\n",
        "\n",
        "Ce concept est lié au principe DbC dans le sens où chaque préoccupation peut être imposée par un contrat. Lorsqu'un contrat est violé et qu'une exception est levée à la suite d'une telle violation, nous savons quelle partie du programme a échoué et quelles responsabilités n'ont pas été respectées.\n",
        "\n",
        "Malgré cette similitude, la séparation des préoccupations va plus loin. Nous pensons normalement aux contrats entre fonctions, méthodes ou classes, et bien que cela s'applique également aux responsabilités qui doivent être séparées, l'idée de la séparation des préoccupations s'applique également aux modules Python, aux packages et à tout composant logiciel.\n",
        "\n",
        "## Cohésion et couplage\n",
        "\n",
        "Ce sont des concepts importants pour une bonne conception de logiciel\n",
        "\n",
        "D'une part, la cohésion signifie que les objets doivent avoir un but petit et bien défini, et qu'ils doivent en faire le moins possible. Il suit une philosophie similaire à celle des commandes Unix qui ne font qu'une seule chose et la font bien. Plus nos objets sont cohérents, plus ils deviennent utiles et réutilisables, améliorant ainsi notre conception.\n",
        "\n",
        "D'autre part, le couplage fait référence à l'idée selon laquelle deux objets ou plus dépendent les uns des autres. Cette dépendance pose une limite. Si deux parties du code (objets ou méthodes) sont trop dépendantes l'une de l'autre, elles entraînent des conséquences indésirables.\n",
        "\n",
        "*  Pas de réutilisation de code : Si une fonction dépend trop d'un objet particulier, ou prend trop de paramètres, elle est couplée à cet objet, ce qui signifie qu'il sera vraiment diffcile d'utiliser cette fonction dans un contexte différent (pour le faire , il va falloir trouver un paramètre adapté qui respecte une interface très contraignante).\n",
        "\n",
        "* Effets d'entraînement : Les changements dans l'une des deux parties auront certainement un impact sur l'autre, car ils sont trop proches.\n",
        "\n",
        "* Faible niveau d'abstraction : lorsque deux les fonctions sont si étroitement liées qu'il est difficile de les voir comme des préoccupations différentes résolvant des problèmes à différents niveaux d'abstraction.\n",
        "\n",
        "      Règle empirique : un logiciel bien défini permettra d'obtenir une cohésion élevée et un faible couplage"
      ]
    },
    {
      "cell_type": "markdown",
      "metadata": {
        "id": "YfMCVsH9tF5e"
      },
      "source": [
        "## Acronymes pour vivre\n",
        "\n",
        "Dans cette section, nous passerons en revue certains principes qui donnent de bonnes idées de conception. Il s'agit de se rapporter rapidement aux bonnes pratiques logicielles par des acronymes faciles à retenir, fonctionnant comme une sorte de règle mnémotechnique. Si vous gardez ces mots en tête, vous pourrez les associer plus facilement aux bonnes pratiques et trouver la bonne idée derrière une ligne de code particulière que vous regardez sera plus rapide.\n",
        "\n",
        "Il ne s'agit en aucun cas de définitions formelles ou académiques, mais plutôt d'idées empiriques issues d'années de travail dans l'industrie du logiciel. Certains d'entre eux apparaissent dans des livres, car ils ont été inventés par des auteurs importants (voir les références pour les étudier plus en détail), et d'autres ont probablement leurs racines dans des articles de blog, des articles ou des conférences.\n",
        "\n"
      ]
    },
    {
      "cell_type": "markdown",
      "metadata": {
        "id": "4M_Jf_oetrDF"
      },
      "source": [
        "### DRY/OAOO\n",
        "\n",
        "Les idées de Don't Repeat Yourself (DRY) et Once and Only Once (OAOO) sont étroitement liées, elles ont donc été incluses ensemble ici. Ils sont explicites et vous devez éviter à tout prix les doublons.\n",
        "\n",
        "Les choses du code, les connaissances, ne doivent être définies qu'une seule fois et en un seul endroit. Lorsque vous devez modifier le code, il ne devrait y avoir qu'un seul emplacement légitime à modifier. Ne pas le faire est le signe d'un système mal conçu.\n",
        "\n",
        "La duplication de code est un problème qui impacte directement la maintenabilité. Il est très indésirable d'avoir une duplication de code en raison de ses nombreuses conséquences négatives\n",
        "\n",
        "* C'est un sujet aux erreurs : lorsqu'une logique est répétée plusieurs fois dans le code et que cela doit changer, cela signifie que nous dépendons de la correction efficace de toutes les instances avec cette logique, sans en oublier aucune, car dans ce cas, il y aura un bug.\n",
        "\n",
        "*  C'est cher : Lié au point précédent, faire un changement à plusieurs endroits prend beaucoup plus de temps (effort de développement et de test) que s'il n'était défini qu'une seule fois. Cela ralentira l'équipe.\n",
        "\n",
        "* Ce n'est pas fiable : également lié au premier point, lorsque plusieurs endroits doivent être modifiés pour un seul changement de contexte, vous comptez sur la personne qui a écrit le code pour se souvenir de toutes les instances où la modification doit être effectuée. Il n'y a pas de source unique de vérité.\n",
        "\n",
        "La duplication est souvent causée par l'ignorance (ou l'oubli) que le code représente la connaissance. En donnant un sens à certaines parties du code, nous identifions et étiquetons ces connaissances.\n",
        "\n",
        "Voyons ce que cela signifie avec un exemple. Imaginons que, dans un centre d'études, les étudiants soient classés selon les critères suivants : 11 points par examen réussi, moins cinq points par examen échoué et moins deux par an dans l'établissement. Ce qui suit n'est pas du code réel, mais juste une représentation de la façon dont cela pourrait être dispersé dans une base de code réelle"
      ]
    },
    {
      "cell_type": "code",
      "metadata": {
        "id": "q-trvYyxvezZ"
      },
      "source": [
        "def process_students_list(students):\n",
        "      # do some processing...    \n",
        "      students_ranking = sorted(        \n",
        "          students, key=lambda s: s.passed * 11 - s.failed * 5 - s.years * 2    \n",
        "          )    \n",
        "      # more processing    \n",
        "      for student in students_ranking:        \n",
        "        print(            \n",
        "            \"Name: {0}, Score: {1}\".format(                \n",
        "                student.name,                \n",
        "                (student.passed * 11 - student.failed * 5 - student.years * 2),            \n",
        "                )        \n",
        "            )"
      ],
      "execution_count": null,
      "outputs": []
    },
    {
      "cell_type": "markdown",
      "metadata": {
        "id": "3AExICiWv8jG"
      },
      "source": [
        "Remarquez comment le lambda, qui est dans la clé de la fonction triée, représente une connaissance valide du problème de domaine, mais il ne le reflète pas (il n'a pas de nom, d'emplacement approprié et légitime, il y a aucune signification attribuée à ce code, rien). Ce manque de sens dans le code conduit à la duplication que l'on trouve lors de l'impression du score en listant le râtelage.\n",
        "\n",
        "Nous devrions refléter notre connaissance de notre problème de domaine dans notre code, et notre code sera alors moins susceptible de souffrir de duplication et sera plus facile à comprendre"
      ]
    },
    {
      "cell_type": "code",
      "metadata": {
        "id": "YjCGaKIYwSKl"
      },
      "source": [
        "def score_for_student(student):    \n",
        "  return student.passed * 11 - student.failed * 5 - student.years * 2\n",
        "\n",
        "\n",
        "def process_students_list(students):\n",
        "      # do some processing...    \n",
        "      students_ranking = sorted(students, key=score_for_student)    \n",
        "      # more processing    \n",
        "      for student in students_ranking:        \n",
        "        print(            \n",
        "            \"Name: {0}, Score: {1}\".format(                \n",
        "                student.name,  score_for_student(student)            \n",
        "                )        \n",
        "            )"
      ],
      "execution_count": null,
      "outputs": []
    },
    {
      "cell_type": "markdown",
      "metadata": {
        "id": "OyZiyNBsw1MV"
      },
      "source": [
        "Un avertissement juste : il s'agit simplement d'une analyse de l'un des traits de la duplication de code. En réalité, il existe plus de cas, de types et de taxonomies de duplication de code. Des chapitres entiers pourraient être consacrés à ce sujet, mais ici nous nous concentrons sur un aspect particulier pour clarifier l'idée derrière l'acronyme.\n",
        "\n",
        "Dans cet exemple, nous avons adopté ce qui est probablement l'approche la plus simple pour éliminer les doublons : créer une fonction. Selon les cas, la meilleure solution serait différente. Dans certains cas, il peut y avoir un tout nouvel objet qui doit être créé (peut-être qu'une abstraction entière manquait). Dans d'autres cas, nous pouvons éliminer les doublons avec un gestionnaire de contexte. Les itérateurs ou générateurs peuvent également aider à éviter les répétitions dans le code, et les décorateurs, aideront également.\n",
        "\n",
        "Malheureusement, il n'y a pas de règle générale ou de modèle pour vous dire quelles fonctionnalités de Python sont les plus appropriées pour traiter la duplication de code, mais j'espère qu'après avoir vu les exemples de ce guide et comment les éléments de Python sont utilisés, le lecteur pourra développer sa propre intuition."
      ]
    },
    {
      "cell_type": "markdown",
      "metadata": {
        "id": "jgyGneghx45k"
      },
      "source": [
        "### YAGNI\n",
        "\n",
        "YAGNI (abréviation de You Ain't Gonna Need It) est une idée que vous voudrez peut-être garder à l'esprit très souvent lors de la rédaction d'une solution si vous ne voulez pas la sur-concevoir\n",
        "\n",
        "Nous voulons pouvoir modifier facilement nos programmes, nous voulons donc les rendre à l'épreuve du temps. Dans cette optique, de nombreux développeurs pensent qu'ils doivent anticiper toutes les exigences futures et créer des solutions très complexes, et ainsi créer des abstractions difficiles à lire, à maintenir et à comprendre. Quelque temps plus tard, il s'avère que ces exigences anticipées n'apparaissent pas, ou elles le font mais d'une manière différente (surprise !), et le code original qui était censé gérer précisément cela ne fonctionne pas.\n",
        "\n",
        "Le problème est que maintenant il est encore plus difficile de refactoriser et d'étendre nos programmes. Ce qui s'est passé, c'est que la solution d'origine ne gérait pas correctement les exigences d'origine, pas plus que les exigences actuelles, simplement parce que c'est la mauvaise abstraction.\n",
        "\n",
        "Avoir un logiciel maintenable ne consiste pas à anticiper les besoins futurs (ne faites pas de futurologie !). Il s'agit d'écrire un logiciel qui ne répond qu'aux exigences actuelles de manière à ce qu'il soit possible (et facile) de le modifier ultérieurement. En d'autres termes, lors de la conception, assurez-vous que vos décisions ne vous arrêtent pas, et que vous pourrez continuer à construire, mais ne construisez pas plus que ce qui est nécessaire.\n",
        "\n",
        "Il est généralement tentant de ne pas suivre cette idée dans certains cas où nous connaissons des principes qui, selon nous, pourraient s'appliquer ou nous faire gagner du temps. Par exemple, plus loin dans le guide, nous passerons en revue les modèles de conception, qui sont des solutions courantes pour des situations typiques de conception orientée objet. S'il est important d'étudier les modèles de conception, nous devons refuser la tentation de les appliquer prématurément car cela pourrait tomber dans une violation du principe YAGNI\n",
        "\n",
        "\n",
        "Par exemple, imaginez que vous créez une classe pour encapsuler le comportement d'un composant. Vous savez que c'est nécessaire, mais vous pensez ensuite que d'autres exigences (et similaires) viendront à l'avenir, il pourrait donc être tentant de créer une classe de base (pour définir une interface avec les méthodes qui doivent être implémentées), et puis faites de la classe que vous venez de créer une sous-classe qui implémente cette interface. Ce serait faux pour plusieurs raisons. Tout d'abord, tout ce dont vous avez besoin maintenant est la classe qui a été créée en premier lieu (investir plus de temps dans la généralisation excessive d'une solution dont nous ne savons pas avoir besoin n'est pas une bonne façon de gérer nos ressources). Et puis, cette classe de base est biaisée par les exigences actuelles, donc ce ne sera probablement pas la bonne abstraction.\n",
        "\n",
        " La meilleure approche serait d'écrire uniquement ce qui est nécessaire maintenant d'une manière qui n'empêche pas d'autres améliorations. Si, plus tard, plus d'exigences arrivent, nous pouvons penser à créer une classe de base, faire abstraction de certaines méthodes, et peut-être découvrirons-nous un modèle de conception qui a émergé pour notre solution. C'est aussi la façon dont la conception orientée objet est censée fonctionner : de bas en haut. \n",
        " \n",
        " Enfin, je voulais souligner que YAGNI est une idée qui s'applique également à l'architecture logicielle (pas seulement au code détaillé)"
      ]
    },
    {
      "cell_type": "markdown",
      "metadata": {
        "id": "woxeJKoW0BsB"
      },
      "source": [
        "## KIS\n",
        "\n",
        "KIS (pour Keep It Simple) se rapporte beaucoup au point précédent. Lorsque vous concevez un composant logiciel, évitez de le sur-concevoir. Demandez-vous si votre solution est la solution minimale qui correspond au problème.\n",
        "\n",
        "Implémentez une fonctionnalité minimale qui résout correctement le problème et ne complique pas votre solution plus que nécessaire. N'oubliez pas que plus la conception est simple, plus elle sera facile à entretenir.\n",
        "\n",
        "Ce principe de conception est une idée que nous voudrons garder à l'esprit à tous les niveaux d'abstraction, qu'il s'agisse d'une conception de haut niveau ou d'une ligne de code particulière.\n",
        "\n",
        "À un niveau élevé, pensez aux composants que nous créons. Avons-nous vraiment besoin de tous ? Ce module nécessite-t-il réellement d'être totalement extensible en ce moment ? Insistez sur la dernière partie : nous voulons peut-être rendre ce composant extensible, mais ce n'est pas le bon moment, ou ce n'est pas approprié de le faire parce que nous n'avons toujours pas assez d'informations pour créer les abstractions appropriées, et essayer de trouver les interfaces génériques à ce stade ne feront qu'aggraver les problèmes.\n",
        "\n",
        "En termes de code, rester simple signifie généralement utiliser la plus petite structure de données qui correspond au problème. Vous le trouverez probablement dans la bibliothèque standard.\n",
        "\n",
        "Parfois, nous pouvons trop compliquer le code, créant plus de fonctions ou de méthodes que nécessaire. La classe suivante crée un espace de noms à partir d'un ensemble d'arguments de mots clés qui ont été fournis, mais elle a une interface de code plutôt compliquée."
      ]
    },
    {
      "cell_type": "code",
      "metadata": {
        "id": "2MLmLaNP1VN3"
      },
      "source": [
        "class ComplicatedNamespace:\n",
        "    \"\"\"An convoluted example of initializing an object with some properties.\n",
        "    >>> cn = ComplicatedNamespace.init_with_data(\n",
        "    ...    id_=42, user=\"root\", location=\"127.0.0.1\", extra=\"excluded\"\n",
        "    ... )\n",
        "    >>> cn.id_, cn.user, cn.location\n",
        "    (42, 'root', '127.0.0.1')\n",
        "    >>> hasattr(cn, \"extra\")\n",
        "    False\n",
        "    \"\"\"\n",
        "\n",
        "    ACCEPTED_VALUES = (\"id_\", \"user\", \"location\")\n",
        "\n",
        "    @classmethod\n",
        "    def init_with_data(cls, **data):\n",
        "        instance = cls()\n",
        "        for key, value in data.items():\n",
        "            if key in cls.ACCEPTED_VALUES:\n",
        "                setattr(instance, key, value)\n",
        "        return instance"
      ],
      "execution_count": 2,
      "outputs": []
    },
    {
      "cell_type": "markdown",
      "metadata": {
        "id": "uwi2krDW1ry8"
      },
      "source": [
        "Avoir une méthode de classe supplémentaire pour initialiser l'objet ne semble pas nécessaire. Ensuite, l'itération et l'appel à setattr à l'intérieur rendent les choses encore plus étranges, et l'interface qui est présentée à l'utilisateur n'est pas très claire"
      ]
    },
    {
      "cell_type": "code",
      "metadata": {
        "colab": {
          "base_uri": "https://localhost:8080/"
        },
        "id": "US3lJQpy11WN",
        "outputId": "be7d69e0-f277-4758-cc36-10423c7ce173"
      },
      "source": [
        "cn = ComplicatedNamespace.init_with_data(     \n",
        "    id_=42, user=\"root\", location=\"127.0.0.1\", extra=\"excluded\" \n",
        "    )\n",
        "cn.id_, cn.user, cn.location"
      ],
      "execution_count": 3,
      "outputs": [
        {
          "output_type": "execute_result",
          "data": {
            "text/plain": [
              "(42, 'root', '127.0.0.1')"
            ]
          },
          "metadata": {},
          "execution_count": 3
        }
      ]
    },
    {
      "cell_type": "code",
      "metadata": {
        "colab": {
          "base_uri": "https://localhost:8080/"
        },
        "id": "ABt5ajMg2CYe",
        "outputId": "cbc7854b-4ea7-4d60-cc70-a4c4549ba683"
      },
      "source": [
        "hasattr(cn, \"extra\")"
      ],
      "execution_count": 4,
      "outputs": [
        {
          "output_type": "execute_result",
          "data": {
            "text/plain": [
              "False"
            ]
          },
          "metadata": {},
          "execution_count": 4
        }
      ]
    },
    {
      "cell_type": "markdown",
      "metadata": {
        "id": "caQ1C_G82IQm"
      },
      "source": [
        "L'utilisateur doit connaître l'existence de cette autre méthode, ce qui n'est pas pratique. Il serait préférable de rester simple et d'initialiser simplement l'objet comme nous initialisons n'importe quel autre objet en Python (après tout, il existe une méthode pour cela) avec la méthode __init__"
      ]
    },
    {
      "cell_type": "code",
      "metadata": {
        "id": "brUjRoCw2TFf"
      },
      "source": [
        "class Namespace:\n",
        "    \"\"\"Create an object from keyword arguments.\n",
        "    >>> cn = Namespace(\n",
        "    ...    id_=42, user=\"root\", location=\"127.0.0.1\", extra=\"excluded\"\n",
        "    ... )\n",
        "    >>> cn.id_, cn.user, cn.location\n",
        "    (42, 'root', '127.0.0.1')\n",
        "    >>> hasattr(cn, \"extra\")\n",
        "    False\n",
        "    \"\"\"\n",
        "\n",
        "    ACCEPTED_VALUES = (\"id_\", \"user\", \"location\")\n",
        "\n",
        "    def __init__(self, **data):\n",
        "        for attr_name, attr_value in data.items():\n",
        "            if attr_name in self.ACCEPTED_VALUES:\n",
        "                setattr(self, attr_name, attr_value)"
      ],
      "execution_count": null,
      "outputs": []
    },
    {
      "cell_type": "markdown",
      "metadata": {
        "id": "O5HCumN-2i7i"
      },
      "source": [
        "Il existe de nombreux scénarios en Python dans lesquels nous aimerions garder notre code simple. L'un d'eux concerne quelque chose que nous avons déjà exploré : la duplication de code. Une façon courante d'abstraire du code en Python consiste à utiliser des décorateurs (que nous verrons plus tard, Utiliser des décorateurs pour améliorer notre code). Mais que se passe-t-il si nous essayons d'éviter la duplication d'une petite section, disons trois lignes de code ? Dans ce cas, écrire le décorateur prendrait probablement plus de lignes et poserait plus de problèmes pour les simples lignes dupliquées que nous essayons de résoudre. Dans ce cas, faites preuve de bon sens et soyez pragmatique. Acceptez qu'une petite quantité de duplication puisse être meilleure qu'une fonction compliquée (c'est-à-dire, bien sûr, à moins que vous ne trouviez un moyen encore plus simple de supprimer la duplication et de garder le code simple !)\n",
        "\n",
        "Dans le cadre de la simplicité du code, je recommanderais d'éviter les fonctionnalités avancées de Python, telles que les méta-classes (ou tout ce qui concerne la méta-programmation en général), car non seulement ces fonctionnalités sont à peine nécessaires (il existe des justifications très spéciales pour leur utilisation !), mais aussi, ils rendent le code beaucoup plus compliqué à lire, et plus difficile à maintenir"
      ]
    },
    {
      "cell_type": "markdown",
      "metadata": {
        "id": "DAW2PyR23DhF"
      },
      "source": [
        "### EAFP/LBYL\n",
        "EAFP (Easier to Ask Forgiveness than Permission) signifie plus facile de demander pardon que la permission, tandis que LBYL (Look Before You Leap) signifie regarder avant de sauter.\n",
        "\n",
        "L'idée de l'EAFP est que nous écrivons notre code pour qu'il effectue une action directement, puis nous nous occupons des conséquences plus tard au cas où cela ne fonctionnerait pas. En règle générale, cela signifie essayer d'exécuter du code, en s'attendant à ce qu'il fonctionne, mais en interceptant une exception si ce n'est pas le cas, puis en gérant le code correctif sur le bloc except.\n",
        "\n",
        "C'est le contraire de LBYL. Comme son nom l'indique, dans l'approche regarder avant de sauter, nous vérifions d'abord ce que nous sommes sur le point d'utiliser. Par exemple, nous pourrions vouloir vérifier si un fichier est disponible avant d'essayer de l'utiliser\n",
        "\n",
        "    if os.path.exists(filename):\n",
        "        with open(filename) as f:\n",
        "            ...\n",
        "\n",
        "La version EAFP du code précédent ressemblerait à ceci :\n",
        "\n",
        "    try:    \n",
        "      with open(filename) as f:\n",
        "          ...\n",
        "    except FileNotFoundError as e:\n",
        "        logger.error(e)\n",
        "\n",
        "Si vous venez d'autres langages, tels que C, qui n'ont pas d'exceptions, alors il est logique que l'approche LBYL soit plus utile. Et dans d'autres langages tels que C++, il y a un certain découragement envers l'utilisation d'exceptions en raison de considérations de performances, mais cela n'est généralement pas vrai en Python.\n",
        "\n",
        "\n",
        "Des cas particuliers peuvent bien sûr s'appliquer, mais la plupart du temps, vous trouverez la version EAFP plus révélatrice d'intention. Le code écrit de cette manière serait plus facile à lire, car il va directement à la tâche nécessaire au lieu de vérifier préventivement les conditions. En d'autres termes, dans le dernier exemple, vous verrez une partie du code qui essaie d'ouvrir un fichier puis de le traiter. Si le fichier n'existe pas, alors nous traitons ce cas. Dans le premier exemple, nous verrons une fonction vérifiant si un fichier existe, puis essayant de faire quelque chose. Vous pourriez soutenir que cela est également clair, mais nous n'en sommes pas sûrs. Peut-être que le fichier demandé est différent ou est une fonction qui appartient à une couche différente du programme, ou un reste, etc. La deuxième approche est moins sujette aux erreurs lorsque vous regardez le code au premier coup d'œil.\n",
        "\n",
        "Vous pouvez appliquer les deux idées car elles ont du sens dans votre code particulier, mais en général, un code écrit à la manière d'EAFP serait plus facile à choisir au premier coup d'œil, donc en cas de doute, je vous recommande de choisir cette variante\n",
        "\n"
      ]
    },
    {
      "cell_type": "markdown",
      "metadata": {
        "id": "9YqY_Gtm6Fh1"
      },
      "source": [
        "## Héritage en Python\n",
        "\n",
        "Dans la conception de logiciels orientés objet, il y a souvent des discussions sur la façon de résoudre certains problèmes en utilisant les idées principales du paradigme (polymorphisme, héritage et encapsulation)\n",
        "\n",
        "\n",
        "L'héritage est probablement l'idée la plus couramment utilisée. Les développeurs commencent souvent par créer une hiérarchie de classes avec les classes dont ils auront besoin et décident des méthodes que chacun doit implémenter.\n",
        "\n",
        "\n",
        "Bien que l'héritage soit un concept puissant, il comporte ses dangers. Le principal est que chaque fois que nous étendons une classe de base, nous en créons une nouvelle qui est étroitement couplée avec le parent. Comme nous l'avons déjà évoqué, le couplage est l'une des choses que nous voulons réduire au minimum lors de la conception d'un logiciel.\n",
        "\n",
        "\n",
        "L'un des principaux scénarios auxquels les développeurs associent l'héritage est la réutilisation du code. Bien que nous devrions toujours adopter la réutilisation du code, ce n'est pas une bonne idée de forcer notre conception à utiliser l'héritage pour réutiliser le code simplement parce que nous obtenons gratuitement les méthodes de la classe parent. La bonne façon de réutiliser le code est d'avoir des objets hautement cohérents qui peuvent être facilement composés et qui pourraient fonctionner dans plusieurs contextes"
      ]
    },
    {
      "cell_type": "markdown",
      "metadata": {
        "id": "VNQ2-Rcs60R6"
      },
      "source": [
        "### Quand l'héritage est une bonne décision\n",
        "\n",
        "Nous devons être prudents lors de la création d'une classe dérivée car il s'agit d'une arme à double tranchant. nous les transférons tous dans une nouvelle classe, ce qui signifie que nous pourrions placer trop de fonctionnalités dans une nouvelle définition.\n",
        "\n",
        "Lors de la création d'une nouvelle sous-classe, nous devons nous demander si elle va réellement utiliser toutes les méthodes dont elle vient d'hériter, comme une heuristique pour voir si la classe est correctement définie. Si à la place, nous découvrons que nous n'avons pas besoin de la plupart des méthodes, et devons les écraser ou les remplacer, il s'agit d'une erreur de conception qui peut être causée par un certain nombre de raisons : \n",
        "\n",
        "*  La superclasse est vaguement définie et contient trop de responsabilités, au lieu d'une interface bien définie\n",
        "\n",
        "*  La sous-classe n'est pas une spécialisation appropriée de la superclasse qu'elle essaie d'étendre\n",
        "\n",
        "Un bon cas d'utilisation de l'héritage est le type de situation où vous avez une classe qui définit certains composants avec son comportement qui sont définis par l'interface de cette classe (ses méthodes et attributs publics), et vous devez ensuite vous spécialiser cette classe afin de créer des objets qui font la même chose mais avec quelque chose d'autre ajouté, ou avec certaines parties particulières de son comportement modifiées.\n",
        "\n",
        "Vous pouvez trouver des exemples de bonnes utilisations de l'héritage dans la bibliothèque standard Python elle-même. Par exemple, dans le package http.server (https://docs.python.org/3/library/http.server.html#http.server.BaseHTTPRequestHandler), nous pouvons trouver une classe de base telle que BaseHTTPRequestHandler et des sous-classes comme SimpleHTTPRequestHandler, qui étend celui-ci en ajoutant ou en modifiant une partie de son interface de base\n",
        "\n",
        "\n",
        "En parlant de définition d'interface, c'est une autre bonne utilisation de l'héritage. Lorsque nous voulons imposer l'interface de certains objets, nous pouvons créer une classe de base abstraite qui n'implémente pas le comportement lui-même, mais définit simplement l'interface - chaque classe qui étend celle-ci devra les implémenter pour être un bon sous-type\n",
        "\n",
        "Enfin, un autre bon exemple d'héritage est celui des exceptions. Nous pouvons voir que l'exception standard en Python dérive de Exception. C'est ce qui vous permet d'avoir une clause générique telle que except Exception, qui interceptera toutes les erreurs possibles. Le point important est le point conceptuel ; ce sont des classes dérivées d'Exception car ce sont des exceptions plus spécifiques. Cela fonctionne également dans les bibliothèques bien connues telles que les requêtes, par exemple, dans lesquelles une HTTPError est une RequestException, qui, à son tour, est une IOError"
      ]
    },
    {
      "cell_type": "markdown",
      "metadata": {
        "id": "Vgfv0aj3_zqL"
      },
      "source": [
        "## Anti-patterns  pour l'héritage\n",
        "\n",
        "Si la section précédente devait être résumée en un seul mot, ce serait spécialisation. L'utilisation correcte de l'héritage consiste à spécialiser les objets et à créer des abstractions plus détaillées à partir de celles de base\n",
        "\n",
        "La classe parent (ou de base) fait partie de la définition publique de la nouvelle classe dérivée. En effet, les méthodes héritées feront partie de l'interface de cette nouvelle classe. Pour cette raison, lorsque nous lisons les méthodes publiques d'une classe, elles doivent être cohérentes avec ce que la classe parente définit.\n",
        "\n",
        "Par exemple, si nous voyons qu'une classe dérivée de BaseHTTPRequestHandler implémente une méthode nommée handle(), cela aurait du sens car elle écrase l'un des parents. S'il y avait une autre méthode dont le nom se rapporte à une action qui a à voir avec une requête HTTP, alors nous pourrions aussi penser qu'elle est correctement placée (mais nous ne penserions pas que si nous trouvions quelque chose appelé process_purchase() sur cette classe)\n",
        "\n",
        "\n",
        "L'illustration précédente peut sembler évidente, mais c'est quelque chose qui arrive très souvent, surtout lorsque les développeurs essaient d'utiliser l'héritage dans le seul but de réutiliser du code. Dans l'exemple suivant, nous verrons une situation typique qui représente un anti-modèle courant en Python — il y a un problème de domaine qui doit être représenté, et une structure de données appropriée est conçue pour ce problème, mais au lieu de créer un objet qui utilise une telle structure de données, l'objet devient la structure de données elle-même.\n",
        "\n",
        "Voyons plus concrètement ces problèmes à travers un exemple. Imaginons que nous ayons un système de gestion des assurances, avec un module chargé d'appliquer les polices aux différents clients. Nous devons garder en mémoire un ensemble de clients en cours de traitement afin d'appliquer ces modifications avant un traitement ultérieur ou une persistance. Les opérations de base dont nous avons besoin sont de stocker un nouveau client avec ses enregistrements sous forme de données satellite, d'appliquer une modification à une politique ou de modifier certaines des données, pour n'en citer que quelques-unes. Nous devons également prendre en charge une opération par lots. C'est-à-dire que lorsque quelque chose sur la politique elle-même change (celle que ce module traite actuellement), nous devons appliquer ces changements globalement aux clients sur la transaction en cours.\n",
        "\n",
        "En termes de structure de données dont nous avons besoin, nous réalisons que l'accès à l'enregistrement d'un client particulier en temps constant est un trait agréable. Par conséquent, quelque chose comme policy_transaction[customer_id] ressemble à une belle interface. À partir de là, nous pourrions penser qu'un objet indiciel est une bonne idée, et plus loin, nous pourrions nous laisser emporter en pensant que l'objet dont nous avons besoin est un dictionnaire"
      ]
    },
    {
      "cell_type": "code",
      "metadata": {
        "id": "iTd24k15CG-X"
      },
      "source": [
        "import collections\n",
        "from datetime import datetime\n",
        "\n",
        "class TransactionalPolicy(collections.UserDict):\n",
        "    \"\"\"Example of an incorrect use of inheritance.\"\"\"\n",
        "\n",
        "    def change_in_policy(self, customer_id, **new_policy_data):\n",
        "        self[customer_id].update(**new_policy_data)"
      ],
      "execution_count": 7,
      "outputs": []
    },
    {
      "cell_type": "markdown",
      "metadata": {
        "id": "lRneAjM9CUX1"
      },
      "source": [
        "Avec ce code, nous pouvons obtenir des informations sur une politique pour un client par son identifiant"
      ]
    },
    {
      "cell_type": "code",
      "metadata": {
        "colab": {
          "base_uri": "https://localhost:8080/"
        },
        "id": "hqmjndBtCaZV",
        "outputId": "7a74b26b-70ee-45c7-fa53-fdf56306151c"
      },
      "source": [
        "policy = TransactionalPolicy({     \n",
        "    \"client001\": {         \n",
        "        \"fee\": 1000.0,        \n",
        "         \"expiration_date\": datetime(2020, 1, 3),     \n",
        "         } \n",
        "         })\n",
        "\n",
        "\n",
        "policy[\"client001\"]"
      ],
      "execution_count": 8,
      "outputs": [
        {
          "output_type": "execute_result",
          "data": {
            "text/plain": [
              "{'expiration_date': datetime.datetime(2020, 1, 3, 0, 0), 'fee': 1000.0}"
            ]
          },
          "metadata": {},
          "execution_count": 8
        }
      ]
    },
    {
      "cell_type": "code",
      "metadata": {
        "colab": {
          "base_uri": "https://localhost:8080/"
        },
        "id": "mkrWhZgsC3Vv",
        "outputId": "e519dfb6-abd0-48a4-9905-beed71d979f2"
      },
      "source": [
        "policy.change_in_policy(\"client001\", expiration_date=datetime(2020, 1, 4))\n",
        "policy[\"client001\"]"
      ],
      "execution_count": 10,
      "outputs": [
        {
          "output_type": "execute_result",
          "data": {
            "text/plain": [
              "{'expiration_date': datetime.datetime(2020, 1, 4, 0, 0), 'fee': 1000.0}"
            ]
          },
          "metadata": {},
          "execution_count": 10
        }
      ]
    },
    {
      "cell_type": "markdown",
      "metadata": {
        "id": "fj5iWV8XDBQ9"
      },
      "source": [
        "Bien sûr, nous avons obtenu l'interface que nous voulions en premier lieu, mais à quel prix ? Maintenant, cette classe a beaucoup de comportement supplémentaire en exécutant des méthodes qui n'étaient pas nécessaires"
      ]
    },
    {
      "cell_type": "code",
      "metadata": {
        "id": "M2FpnDmIDH0y"
      },
      "source": [
        "#dir(policy)"
      ],
      "execution_count": 12,
      "outputs": []
    },
    {
      "cell_type": "markdown",
      "metadata": {
        "id": "Bs5SbRssDPIa"
      },
      "source": [
        "Il y a (au moins) deux problèmes majeurs avec cette conception. D'une part, la hiérarchie est erronée. Créer une nouvelle classe à partir d'une classe de base signifie conceptuellement qu'il s'agit d'une version plus spécifique de la classe qu'elle étend (d'où son nom). Comment se fait-il qu'une TransactionalPolicy soit un dictionnaire ? Est-ce que ça a du sens? N'oubliez pas que cela fait partie de l'interface publique de l'objet, donc les utilisateurs verront cette classe et sa hiérarchie et remarqueront une spécialisation si étrange ainsi que ses méthodes publiques.\n",
        "\n",
        "Cela nous amène au deuxième problème : le couplage. L'interface de la politique transactionnelle comprend désormais toutes les méthodes d'un dictionnaire. Une politique transactionnelle a-t-elle vraiment besoin de méthodes telles que pop() ou items() ? Cependant, ils sont là. Ils sont également publics, de sorte que tout utilisateur de cette interface est autorisé à les appeler, quel que soit l'effet secondaire indésirable qu'ils peuvent entraîner. Plus sur ce point, nous ne gagnons pas vraiment beaucoup à étendre un dictionnaire. La seule méthode qu'il doit réellement mettre à jour pour tous les clients affectés par un changement dans la politique actuelle (change_in_policy()) n'est pas sur la classe de base, nous devrons donc la définir nous-mêmes de toute façon.\n",
        "\n",
        "Il s'agit d'un problème de mélange d'objets d'implémentation avec des objets. Un dictionnaire est un objet d'implémentation, une structure de données, adapté à certains types d'opérations, et avec un compromis comme toutes les structures de données. Une politique transactionnelle doit représenter quelque chose dans le problème du domaine, une entité qui fait partie du problème que nous essayons de résoudre\n",
        "\n",
        "      Ne mélangez pas les structures de données d'implémentation avec les\n",
        "      classes de domaine métier dans la même hiérarchie\n",
        "\n",
        "\n",
        "Des hiérarchies comme celle-ci sont incorrectes, et ce n'est pas parce que nous obtenons quelques méthodes magiques d'une classe de base (pour rendre l'objet subscriptible en étendant un dictionnaire) de créer une telle extension. Les classes d'implémentation doivent être étendues uniquement lors de la création d'autres classes d'implémentation plus spécifiques. En d'autres termes, étendez un dictionnaire si vous souhaitez créer un autre dictionnaire (plus spécique ou légèrement modifié). La même règle s'applique aux classes du problème de domaine\n",
        "\n",
        "La bonne solution ici est d'utiliser la composition. TransactionalPolicy n'est pas un dictionnaire, il utilise un dictionnaire. Il doit stocker un dictionnaire dans un attribut privé et implémenter __getitem__() en faisant appel à ce dictionnaire, puis en implémentant uniquement le reste de la méthode publique dont il a besoin"
      ]
    },
    {
      "cell_type": "code",
      "metadata": {
        "id": "PEYLuFF1ErMZ"
      },
      "source": [
        "class TransactionalPolicy:\n",
        "    \"\"\"Example refactored to use composition.\"\"\"\n",
        "\n",
        "    def __init__(self, policy_data, **extra_data):\n",
        "        self._data = {**policy_data, **extra_data}\n",
        "\n",
        "    def change_in_policy(self, customer_id, **new_policy_data):\n",
        "        self._data[customer_id].update(**new_policy_data)\n",
        "\n",
        "    def __getitem__(self, customer_id):\n",
        "        return self._data[customer_id]\n",
        "\n",
        "    def __len__(self):\n",
        "        return len(self._data)"
      ],
      "execution_count": null,
      "outputs": []
    },
    {
      "cell_type": "markdown",
      "metadata": {
        "id": "vtecNmK8FHJR"
      },
      "source": [
        "Cette méthode est non seulement correcte sur le plan conceptuel, mais aussi plus extensible. Si la structure de données sous-jacente (qui, pour l'instant, est un dictionnaire) est modifiée à l'avenir, les appelants de cet objet ne seront pas affectés, tant que l'interface est maintenue. Cela réduit le couplage, minimise les effets d'entraînement, permet une meilleure refactorisation (les tests unitaires ne doivent pas être modifiés) et rend le code plus maintenable"
      ]
    },
    {
      "cell_type": "markdown",
      "metadata": {
        "id": "dUPseB-sFWM_"
      },
      "source": [
        "## Héritage multiple en Python\n",
        "\n",
        "Python prend en charge l'héritage multiple. Comme l'héritage, lorsqu'il est mal utilisé, entraîne des problèmes de conception, vous pouvez également vous attendre à ce que l'héritage multiple génère également des problèmes encore plus importants lorsqu'il n'est pas correctement implémenté.\n",
        "\n",
        "L'héritage multiple est donc une arme à double tranchant. Cela peut aussi être très bénéfique dans certains cas. Juste pour être clair, il n'y a rien de mal avec l'héritage multiple - le seul problème qu'il a est que lorsqu'il n'est pas implémenté correctement, il multipliera les problèmes\n",
        "\n",
        "L'héritage multiple est une solution parfaitement valable lorsqu'il est utilisé correctement, et cela ouvre de nouveaux modèles (tels que le modèle d'adaptateur)\n",
        "\n",
        "L'une des applications les plus puissantes de l'héritage multiple est peut-être celle qui permet la création de mixins. Avant d'explorer les mixins, nous devons comprendre comment fonctionne l'héritage multiple et comment les méthodes sont résolues dans une hiérarchie complexe"
      ]
    },
    {
      "cell_type": "markdown",
      "metadata": {
        "id": "_d0gslfxGWYe"
      },
      "source": [
        "## Method Resolution Order (MRO)\n",
        "\n",
        "Certaines personnes n'aiment pas l'héritage multiple en raison des contraintes qu'il a dans d'autres langages de programmation, par exemple, le problème du diamant. Lorsqu'une classe s'étend à partir de deux ou plusieurs classes, et que toutes ces classes s'étendent également à partir d'autres classes de base, les classes inférieures auront plusieurs façons de résoudre les méthodes provenant des classes de niveau supérieur. La question est : laquelle de ces implémentations est utilisée ?\n",
        "\n",
        "Considérez le diagramme suivant, qui a une structure à héritage multiple. La classe de niveau supérieur a un attribut class et implémente la méthode __str__. Pensez à l'une des classes concrètes, par exemple, ConcreteModuleA12 - elle s'étend de BaseModule1 et BaseModule2, et chacune d'entre elles prendra l'implémentation de __str__ à partir de BaseModule. Laquelle de ces deux méthodes sera celle de ConcreteModuleA12 ?\n",
        "\n",
        "![image.png](data:image/png;base64,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)"
      ]
    },
    {
      "cell_type": "markdown",
      "metadata": {
        "id": "kpX1HqEmHo7M"
      },
      "source": [
        "Avec la valeur de l'attribut class, cela deviendra évident :"
      ]
    },
    {
      "cell_type": "code",
      "metadata": {
        "id": "vKvhbiZBIW0-"
      },
      "source": [
        "class BaseModule:\n",
        "    module_name = \"top\"\n",
        "\n",
        "    def __init__(self, module_name):\n",
        "        self.name = module_name\n",
        "\n",
        "    def __str__(self):\n",
        "        return f\"{self.module_name}:{self.name}\"\n",
        "\n",
        "\n",
        "class BaseModule1(BaseModule):\n",
        "    module_name = \"module-1\"\n",
        "\n",
        "\n",
        "class BaseModule2(BaseModule):\n",
        "    module_name = \"module-2\"\n",
        "\n",
        "\n",
        "class BaseModule3(BaseModule):\n",
        "    module_name = \"module-3\"\n",
        "\n",
        "\n",
        "class ConcreteModuleA12(BaseModule1, BaseModule2):\n",
        "    \"\"\"Extend 1 & 2\n",
        "    >>> str(ConcreteModuleA12('name'))\n",
        "    'module-1:name'\n",
        "    \"\"\"\n",
        "\n",
        "\n",
        "class ConcreteModuleB23(BaseModule2, BaseModule3):\n",
        "    \"\"\"Extend 2 & 3\n",
        "    >>> str(ConcreteModuleB23(\"test\"))\n",
        "    'module-2:test'\n",
        "    \"\"\""
      ],
      "execution_count": 14,
      "outputs": []
    },
    {
      "cell_type": "markdown",
      "metadata": {
        "id": "Pw2QgeSWIp22"
      },
      "source": [
        "Maintenant, testons ceci pour voir quelle méthode est appelée"
      ]
    },
    {
      "cell_type": "code",
      "metadata": {
        "colab": {
          "base_uri": "https://localhost:8080/",
          "height": 35
        },
        "id": "YRdmVT5NItGv",
        "outputId": "a8fe2ab8-b84f-41ec-c29f-f49dacf7f38d"
      },
      "source": [
        "str(ConcreteModuleA12(\"test\"))"
      ],
      "execution_count": 15,
      "outputs": [
        {
          "output_type": "execute_result",
          "data": {
            "application/vnd.google.colaboratory.intrinsic+json": {
              "type": "string"
            },
            "text/plain": [
              "'module-1:test'"
            ]
          },
          "metadata": {},
          "execution_count": 15
        }
      ]
    },
    {
      "cell_type": "markdown",
      "metadata": {
        "id": "-xBjfJJzI2xD"
      },
      "source": [
        "Il n'y a pas de collision. Python résout ce problème en utilisant un algorithme appelé linéarisation C3 ou MRO, qui définit une manière déterministe d'appeler les méthodes.\n",
        "\n",
        "En fait, on peut précisément demander à la classe son ordre de résolution"
      ]
    },
    {
      "cell_type": "code",
      "metadata": {
        "colab": {
          "base_uri": "https://localhost:8080/"
        },
        "id": "u7dy4wUoMDAO",
        "outputId": "05d2bd90-9eb2-44c1-d6c6-11ceacc65dbd"
      },
      "source": [
        "[cls.__name__ for cls in ConcreteModuleA12.mro()]"
      ],
      "execution_count": 16,
      "outputs": [
        {
          "output_type": "execute_result",
          "data": {
            "text/plain": [
              "['ConcreteModuleA12', 'BaseModule1', 'BaseModule2', 'BaseModule', 'object']"
            ]
          },
          "metadata": {},
          "execution_count": 16
        }
      ]
    },
    {
      "cell_type": "markdown",
      "metadata": {
        "id": "WtjjP9oKMKfP"
      },
      "source": [
        "Savoir comment la méthode va être résolue dans une hiérarchie peut être utilisé à notre avantage lors de la conception de classes car nous pouvons utiliser des mixins"
      ]
    },
    {
      "cell_type": "markdown",
      "metadata": {
        "id": "Lv7geBCvMQpR"
      },
      "source": [
        "## Mixins\n",
        "\n",
        "\n",
        "Un mixin est une classe de base qui encapsule un comportement commun dans le but de réutiliser le code. Typiquement, une classe mixin n'est pas utile en soi, et étendre cette classe seule ne fonctionnera certainement pas, car la plupart du temps, cela dépend de méthodes et de propriétés définies dans d'autres classes. L'idée est d'utiliser des classes mixin avec d'autres, par héritage multiple, afin que les méthodes ou propriétés utilisées sur le mixin soient disponibles\n",
        "\n",
        "Imaginez que nous ayons un simple analyseur qui prend une chaîne et fournit une itération dessus par ses valeurs séparées par des tirets (-)"
      ]
    },
    {
      "cell_type": "code",
      "metadata": {
        "colab": {
          "base_uri": "https://localhost:8080/"
        },
        "id": "EQ-OW3XSMqES",
        "outputId": "9dce408a-ae27-4656-d1e4-7d6024532958"
      },
      "source": [
        "class BaseTokenizer:\n",
        "    \"\"\"\n",
        "    >>> tk = BaseTokenizer(\"28a2320b-fd3f-4627-9792-a2b38e3c46b0\")\n",
        "    >>> list(tk)\n",
        "    ['28a2320b', 'fd3f', '4627', '9792', 'a2b38e3c46b0']\n",
        "    \"\"\"\n",
        "\n",
        "    def __init__(self, str_token):\n",
        "        self.str_token = str_token\n",
        "\n",
        "    def __iter__(self):\n",
        "        yield from self.str_token.split(\"-\")\n",
        "\n",
        "tk = BaseTokenizer(\"28a2320b-fd3f-4627-9792-a2b38e3c46b0\")\n",
        "list(tk)"
      ],
      "execution_count": 17,
      "outputs": [
        {
          "output_type": "execute_result",
          "data": {
            "text/plain": [
              "['28a2320b', 'fd3f', '4627', '9792', 'a2b38e3c46b0']"
            ]
          },
          "metadata": {},
          "execution_count": 17
        }
      ]
    },
    {
      "cell_type": "markdown",
      "metadata": {
        "id": "2OCavXkGM5E-"
      },
      "source": [
        "Mais maintenant, nous voulons que les valeurs soient envoyées en majuscules, sans altérer la classe de base. Pour cet exemple simple, nous pourrions simplement créer une nouvelle classe, mais imaginez que de nombreuses classes s'étendent déjà à partir de BaseTokenizer et que nous ne voulons pas toutes les remplacer. Nous pouvons mélanger une nouvelle classe dans la hiérarchie qui gère cette transformation"
      ]
    },
    {
      "cell_type": "code",
      "metadata": {
        "id": "h95lTV0gNGAZ"
      },
      "source": [
        "class UpperIterableMixin:\n",
        "    def __iter__(self):\n",
        "        return map(str.upper, super().__iter__())\n",
        "\n",
        "\n",
        "class Tokenizer(UpperIterableMixin, BaseTokenizer):\n",
        "    \"\"\"\n",
        "    >>> tk = Tokenizer(\"28a2320b-fd3f-4627-9792-a2b38e3c46b0\")\n",
        "    >>> list(tk)\n",
        "    ['28A2320B', 'F\n",
        "    \"\"\""
      ],
      "execution_count": 19,
      "outputs": []
    },
    {
      "cell_type": "code",
      "metadata": {
        "colab": {
          "base_uri": "https://localhost:8080/"
        },
        "id": "QTOEOAVLNTEj",
        "outputId": "bdac36a7-bf52-4a21-ef91-2a0e4dc67c3e"
      },
      "source": [
        "tk = Tokenizer(\"28a2320b-fd3f-4627-9792-a2b38e3c46b0\")\n",
        "list(tk)"
      ],
      "execution_count": 20,
      "outputs": [
        {
          "output_type": "execute_result",
          "data": {
            "text/plain": [
              "['28A2320B', 'FD3F', '4627', '9792', 'A2B38E3C46B0']"
            ]
          },
          "metadata": {},
          "execution_count": 20
        }
      ]
    },
    {
      "cell_type": "markdown",
      "metadata": {
        "id": "nDLgH2E9Nt30"
      },
      "source": [
        "La nouvelle classe Tokenizer est vraiment simple. Il n'a besoin d'aucun code car il tire parti du mixin. Ce type de mixin agit comme une sorte de décorateur. Sur la base de ce que nous venons de voir, Tokenizer prendra __iter__ du mixin, et celui-ci, à son tour, délègue à la classe suivante sur la ligne (en appelant super()), qui est BaseTokenizer, mais il convertit ses valeurs en majuscules, créant ainsi l'effet désiré.\n",
        "\n",
        "Comme nous avons discuté de l'héritage en Python, nous avons vu des sujets tels que la cohésion et le couplage qui sont importants pour la conception de notre logiciel. Ces concepts apparaissent à plusieurs reprises dans la conception de logiciels, et ils peuvent également être analysés à partir du prisme des fonctions et de leurs arguments, que nous explorons dans la section suivante."
      ]
    },
    {
      "cell_type": "markdown",
      "metadata": {
        "id": "Oc6VjeKQOqoB"
      },
      "source": [
        "## Arguments dans les fonctions et les méthodes\n",
        "\n",
        "En Python, les fonctions peuvent être définies pour recevoir des arguments de plusieurs manières différentes, et ces arguments peuvent également être fournis par les appelants de plusieurs manières.\n",
        "\n",
        "Il existe également un ensemble de pratiques à l'échelle de l'industrie pour la définition des interfaces en génie logiciel qui sont étroitement liées à la définition des arguments dans les fonctions.\n",
        "\n",
        "Dans cette section, nous allons d'abord explorer la mécanique des arguments dans les fonctions Python, puis passer en revue les principes généraux du génie logiciel qui se rapportent aux bonnes pratiques concernant ce sujet pour enfin relier les deux concepts."
      ]
    },
    {
      "cell_type": "markdown",
      "metadata": {
        "id": "Az1FtbgyPGvZ"
      },
      "source": [
        "### Comment fonctionnent les arguments de fonction en Python\n",
        "\n",
        "Tout d'abord, examinons les particularités de la façon dont les arguments sont transmis aux fonctions en Python.\n",
        "\n",
        "En comprenant d'abord les possibilités qu'offre Python pour la gestion des paramètres, nous pourrons assimiler plus facilement les règles générales, et l'idée est qu'après avoir fait cela, nous pouvons facilement tirer des conclusions sur ce que sont les bons modèles ou idiomes lors de la gestion des arguments. Ensuite, nous pouvons identifier dans quels scénarios l'approche Pythonic est la bonne, et dans quels cas nous pourrions abuser des fonctionnalités du langage"
      ]
    },
    {
      "cell_type": "markdown",
      "metadata": {
        "id": "hDkZt_EFPdz1"
      },
      "source": [
        "### Comment les arguments sont copiés dans les fonctions\n",
        "\n",
        "La première règle en Python est que tous les arguments sont passés par une valeur. Toujours. Cela signifie que lors de la transmission de valeurs aux fonctions, elles sont affectées aux variables sur la définition de signature de la fonction pour être ensuite utilisées sur celle-ci.\n",
        "\n",
        "Vous remarquerez qu'une fonction peut ou non muter les paramètres qu'elle reçoit, selon leur type. Si nous passons des objets mutables et que le corps de la fonction modifie cela, alors bien sûr, nous avons l'effet secondaire qu'ils auront été modifiés au moment où la fonction reviendra.\n",
        "\n"
      ]
    },
    {
      "cell_type": "code",
      "metadata": {
        "colab": {
          "base_uri": "https://localhost:8080/"
        },
        "id": "rBwtL2AoQB8i",
        "outputId": "a14a0b38-5e90-450f-e15d-f8c5260cc8a2"
      },
      "source": [
        "def function(argument):\n",
        "  \n",
        "  argument += \" in function\"\n",
        "  print(argument)\n",
        "\n",
        "immutable = \"hello\"\n",
        "\n",
        "function(immutable)"
      ],
      "execution_count": 21,
      "outputs": [
        {
          "output_type": "stream",
          "name": "stdout",
          "text": [
            "hello in function\n"
          ]
        }
      ]
    },
    {
      "cell_type": "code",
      "metadata": {
        "colab": {
          "base_uri": "https://localhost:8080/"
        },
        "id": "E5Jkiw_MQO2Z",
        "outputId": "e403b2e8-54e6-45b0-e823-c73c7c409d62"
      },
      "source": [
        "mutable = list(\"hello\")\n",
        "function(mutable)"
      ],
      "execution_count": 24,
      "outputs": [
        {
          "output_type": "stream",
          "name": "stdout",
          "text": [
            "['h', 'e', 'l', 'l', 'o', ' ', 'i', 'n', ' ', 'f', 'u', 'n', 'c', 't', 'i', 'o', 'n']\n"
          ]
        }
      ]
    },
    {
      "cell_type": "code",
      "metadata": {
        "colab": {
          "base_uri": "https://localhost:8080/"
        },
        "id": "oOM0Tl7nQo4M",
        "outputId": "dcc1cd65-1d8b-456d-ab60-927d27301fa0"
      },
      "source": [
        "mutable"
      ],
      "execution_count": 25,
      "outputs": [
        {
          "output_type": "execute_result",
          "data": {
            "text/plain": [
              "['h',\n",
              " 'e',\n",
              " 'l',\n",
              " 'l',\n",
              " 'o',\n",
              " ' ',\n",
              " 'i',\n",
              " 'n',\n",
              " ' ',\n",
              " 'f',\n",
              " 'u',\n",
              " 'n',\n",
              " 'c',\n",
              " 't',\n",
              " 'i',\n",
              " 'o',\n",
              " 'n']"
            ]
          },
          "metadata": {},
          "execution_count": 25
        }
      ]
    },
    {
      "cell_type": "markdown",
      "metadata": {
        "id": "rVcD6VopQ39H"
      },
      "source": [
        "Cela peut ressembler à une incohérence, mais ce n'est pas le cas. Lorsque nous passons le premier argument, une chaîne, celui-ci est affecté à l'argument de la fonction. Étant donné que les objets chaîne sont immuables, une instruction telle que argument += <expression> créera en fait le nouvel objet, argument + <expression>, et le réaffectera à l'argument. À ce stade, un argument n'est qu'une variable locale à l'intérieur de la portée de la fonction et n'a rien à voir avec l'original dans l'appelant\n",
        "\n",
        "D'un autre côté, lorsque nous passons list, qui est un objet mutable, alors cette instruction a une signification différente (elle équivaut à appeler .extend() sur cette liste). Cet opérateur agit en modifiant la liste en place sur une variable qui contient une référence à l'objet liste d'origine, le modifiant ainsi. Ce qui s'est passé dans ce deuxième cas, c'est que la référence de la liste a été passée par une valeur à la fonction. Mais puisqu'il s'agit d'une référence, il mute l'objet de liste d'origine, nous voyons donc la mutation une fois la fonction terminée. C'est à peu près équivalent à ça"
      ]
    },
    {
      "cell_type": "code",
      "metadata": {
        "colab": {
          "base_uri": "https://localhost:8080/"
        },
        "id": "lxRvE3URR-lf",
        "outputId": "87bb1c9a-5596-452a-b788-3f108dc4d789"
      },
      "source": [
        "a = list(range(5))\n",
        "b = a  # the function call is doing something like this\n",
        "b.append(99)\n",
        "a"
      ],
      "execution_count": 26,
      "outputs": [
        {
          "output_type": "execute_result",
          "data": {
            "text/plain": [
              "[0, 1, 2, 3, 4, 99]"
            ]
          },
          "metadata": {},
          "execution_count": 26
        }
      ]
    },
    {
      "cell_type": "markdown",
      "metadata": {
        "id": "HMtuhsGnSKvX"
      },
      "source": [
        "Nous devons être prudents lorsque nous traitons des objets mutables, car cela peut entraîner des effets secondaires inattendus. À moins que vous ne soyez absolument sûr qu'il est correct de manipuler des arguments mutables de cette manière, je recommanderais de l'éviter et d'opter pour des alternatives sans ces problèmes.\n",
        "\n",
        "Les arguments en Python peuvent être passés par position, comme dans de nombreux autres langages de programmation, mais aussi par mot-clé. Cela signifie que nous pouvons dire explicitement à la fonction quelles valeurs nous voulons pour quels paramètres. La seule mise en garde est qu'après qu'un paramètre est passé par un mot-clé, le reste qui suit doit également être passé de cette façon, sinon, SyntaxError sera levée.\n"
      ]
    },
    {
      "cell_type": "markdown",
      "metadata": {
        "id": "4Q7tI7STUf6L"
      },
      "source": [
        "### Nombre variable d'arguments\n",
        "\n",
        "Python, ainsi que d'autres langages, a des fonctions et des constructions intégrées qui peuvent prendre un nombre variable d'arguments. Considérons, par exemple, les fonctions d'interpolation de chaîne (que ce soit en utilisant l'opérateur % ou la méthode de format pour les chaînes), qui suivent une structure similaire à la fonction printf en C, un premier paramètre de position avec le format de chaîne, suivi de n'importe quel nombre d'arguments qui seront placés sur les marqueurs de cette chaîne de formatage.\n",
        "\n",
        "En plus de tirer parti de ces fonctions disponibles en Python, nous pouvons également créer les nôtres, qui fonctionneront de la même manière. Dans cette section, nous couvrirons les principes de base des fonctions avec un nombre variable d'arguments, ainsi que quelques recommandations, afin que dans la section suivante, nous puissions explorer comment utiliser ces fonctionnalités à notre avantage pour traiter des problèmes courants, des problèmes, et les contraintes que les fonctions pourraient avoir si elles ont trop d'arguments.\n",
        "\n",
        "Pour un nombre variable d'arguments positionnels, le symbole étoile (*) est utilisé, précédant le nom de la variable qui contient ces arguments. Cela fonctionne grâce au mécanisme d'emballage de Python. Disons qu'il existe une fonction qui prend trois arguments de position. Dans une partie du code, nous avons commodément les arguments que nous voulons passer à la fonction à l'intérieur d'une liste, dans le même ordre que celui attendu par la fonction.\n",
        "\n",
        "Au lieu de les passer un par un par la position (c'est-à-dire list[0] au premier élément, list[1] au second, et ainsi de suite), ce qui ne serait vraiment pas Python, nous pouvons utiliser le packaging mécanisme et les passer tous ensemble dans une seule instruction"
      ]
    },
    {
      "cell_type": "code",
      "metadata": {
        "colab": {
          "base_uri": "https://localhost:8080/"
        },
        "id": "vUBMAz3LVdT0",
        "outputId": "5b92eba1-71a7-449b-93d4-e65065100b95"
      },
      "source": [
        "def f(first, second, third):\n",
        "  print(first)\n",
        "  print(second)\n",
        "  print(third)\n",
        "\n",
        "l = [1, 2, 3]\n",
        "f(*l)"
      ],
      "execution_count": 27,
      "outputs": [
        {
          "output_type": "stream",
          "name": "stdout",
          "text": [
            "1\n",
            "2\n",
            "3\n"
          ]
        }
      ]
    },
    {
      "cell_type": "markdown",
      "metadata": {
        "id": "tqawAzqnVonl"
      },
      "source": [
        "La bonne chose à propos du mécanisme d'emballage est qu'il fonctionne également dans l'autre sens. Si on veut extraire les valeurs d'une liste à des variables, par leur position respective, on peut les affecter comme ceci"
      ]
    },
    {
      "cell_type": "code",
      "metadata": {
        "colab": {
          "base_uri": "https://localhost:8080/"
        },
        "id": "FCSYYIMyVtjO",
        "outputId": "d1af0e22-a74d-4e60-cd7b-ccbdfd086404"
      },
      "source": [
        "a, b, c = [1, 2, 3]\n",
        "\n",
        "a"
      ],
      "execution_count": 28,
      "outputs": [
        {
          "output_type": "execute_result",
          "data": {
            "text/plain": [
              "1"
            ]
          },
          "metadata": {},
          "execution_count": 28
        }
      ]
    },
    {
      "cell_type": "markdown",
      "metadata": {
        "id": "JY_Bd351V06n"
      },
      "source": [
        "Un déballage partiel est également possible. Disons que nous sommes juste intéressés par les premières valeurs d'une séquence (cela peut être une liste, un tuple ou autre chose), et après un certain temps, nous voulons juste que le reste reste ensemble. Nous pouvons affecter les variables dont nous avons besoin et laisser le reste dans une liste empaquetée. L'ordre dans lequel nous déballons n'est pas limité. S'il n'y a rien à placer dans l'une des sous-sections décompressées, le résultat sera une liste vide. Essayez les exemples suivants sur un terminal Python et explorez également le fonctionnement du déballage avec les générateurs"
      ]
    },
    {
      "cell_type": "code",
      "metadata": {
        "colab": {
          "base_uri": "https://localhost:8080/"
        },
        "id": "RwYhlomQV9A3",
        "outputId": "283ac6e9-ceb8-4f82-bdf6-2347d768d901"
      },
      "source": [
        "def show(e, rest):\n",
        "  print(\"Element: {0} - Rest: {1}\".format(e, rest))\n",
        "\n",
        "first, *rest = [1, 2, 3, 4, 5]\n",
        "show(first, rest)"
      ],
      "execution_count": 30,
      "outputs": [
        {
          "output_type": "stream",
          "name": "stdout",
          "text": [
            "Element: 1 - Rest: [2, 3, 4, 5]\n"
          ]
        }
      ]
    },
    {
      "cell_type": "markdown",
      "metadata": {
        "id": "Y51dh_rDWOIM"
      },
      "source": [
        "L'une des meilleures utilisations pour décompresser les variables peut être trouvée dans l'itération. Lorsque nous devons itérer sur une séquence d'éléments et que chaque élément est, à son tour, une séquence, c'est une bonne idée de décompresser en même temps que chaque élément est itéré. Pour voir un exemple de cela en action, nous allons prétendre que nous avons une fonction qui reçoit une liste de lignes de base de données et qu'elle est chargée de créer des utilisateurs à partir de ces données. La première implémentation prend les valeurs pour construire l'utilisateur à partir de la position de chaque colonne dans la ligne, ce qui n'est pas du tout idiomatique. La deuxième implémentation utilise le déballage lors de l'itération"
      ]
    },
    {
      "cell_type": "code",
      "metadata": {
        "id": "kI6m-whLWndD"
      },
      "source": [
        "from dataclasses import dataclass\n",
        "\n",
        "\n",
        "USERS = [(i, f\"first_name_{i}\", f\"last_name_{i}\") for i in range(1_000)]\n",
        "\n",
        "\n",
        "@dataclass\n",
        "class User:\n",
        "    user_id: int\n",
        "    first_name: str\n",
        "    last_name: str\n",
        "\n",
        "\n",
        "def bad_users_from_rows(dbrows) -> list:\n",
        "    \"\"\"A bad case (non-pythonic) of creating ``User``s from DB rows.\"\"\"\n",
        "    return [User(row[0], row[1], row[2]) for row in dbrows]\n",
        "\n",
        "\n",
        "def users_from_rows(dbrows) -> list:\n",
        "    \"\"\"Create ``User``s from DB rows.\"\"\"\n",
        "    return [\n",
        "        User(user_id, first_name, last_name)\n",
        "        for (user_id, first_name, last_name) in dbrows\n",
        "    ]"
      ],
      "execution_count": 31,
      "outputs": []
    },
    {
      "cell_type": "markdown",
      "metadata": {
        "id": "nVEu37w7W54V"
      },
      "source": [
        "Notez que la deuxième version est beaucoup plus facile à lire. Dans la première version de la fonction (bad_users_from_rows), nous avons des données exprimées sous la forme row[0], row[1] et row[2], ce qui ne nous dit rien sur ce qu'elles sont. D'autre part, les variables telles que user_id, first_name et last_name parlent d'elles-mêmes.\n",
        "\n",
        "Nous pourrions également utiliser l'opérateur étoile pour passer tous les paramètres de position du tuple lors de la construction de l'objet User\n",
        "    \n",
        "    [User(*row) for row in dbrows]\n",
        "\n",
        "Nous pouvons tirer parti de ce type de fonctionnalité à notre avantage lors de la conception de nos propres fonctions. Un exemple que nous pouvons trouver dans la bibliothèque standard réside dans la fonction max, qui est définie comme suit\n",
        "\n",
        "    max(...)    \n",
        "      max(iterable, *[, default=obj, key=func]) -> value    \n",
        "      max(arg1, arg2, *args, *[, key=func]) -> value        \n",
        "      \n",
        "      With a single iterable argument, return its biggest item. The\n",
        "      default keyword-only argument specifies an object to return if    \n",
        "      the provided iterable is empty.    \n",
        "      With two or more arguments, return the largest argument.\n",
        "  \n",
        "\n",
        "Il existe une notation similaire, avec deux étoiles (**) pour les arguments de mot-clé. Si nous avons un dictionnaire et que nous le passons avec une double étoile à une fonction, il choisira les clés comme nom du paramètre et passera la valeur de cette clé comme valeur de ce paramètre dans cette fonction\n",
        "\n",
        "    function(**{\"key\": \"value\"})\n",
        "\n",
        "Inversement, si nous définissons une fonction avec un paramètre commençant par deux symboles étoiles, l'inverse se produira : les paramètres fournis par les mots-clés seront regroupés dans un dictionnaire.\n",
        "\n",
        "    "
      ]
    },
    {
      "cell_type": "code",
      "metadata": {
        "colab": {
          "base_uri": "https://localhost:8080/"
        },
        "id": "NuU2_vBTYnwI",
        "outputId": "db303d21-0725-469f-e2dc-9e786154a060"
      },
      "source": [
        "def function(**kwargs):     \n",
        "      print(kwargs)\n",
        "\n",
        "function(key=\"value\")"
      ],
      "execution_count": 32,
      "outputs": [
        {
          "output_type": "stream",
          "name": "stdout",
          "text": [
            "{'key': 'value'}\n"
          ]
        }
      ]
    },
    {
      "cell_type": "markdown",
      "metadata": {
        "id": "4qwcZ0vnYyVW"
      },
      "source": [
        "Cette fonctionnalité de Python est vraiment puissante car elle nous permet de choisir dynamiquement les valeurs que nous voulons transmettre à une fonction. Cependant, abuser de cette fonctionnalité et en faire un usage excessif rendra le code plus difficile à comprendre.\n",
        "\n",
        "Lorsque nous définissons une fonction comme dans l'exemple précédent, sur laquelle l'un de ses paramètres a une double étoile, ce qui signifie que des arguments de mots-clés arbitraires sont autorisés, Python les placera dans un dictionnaire auquel nous pouvons accéder à notre discrétion. De la fonction défnie précédemment, l'argument kwargs est un dictionnaire. Une bonne recommandation est de ne pas utiliser ce dictionnaire pour en extraire des valeurs particulières\n",
        "\n",
        "A savoir, ne cherchez pas des clés particulières du dictionnaire. Au lieu de cela, extrayez ces arguments directement sur la définition de la fonction\n",
        "\n",
        "par exemple, au lieu de faire quelque chose comme ceci :"
      ]
    },
    {
      "cell_type": "code",
      "metadata": {
        "id": "DYUf95M8XydQ"
      },
      "source": [
        "def function(**kwargs):  # wrong    \n",
        "  timeout = kwargs.get(\"timeout\", DEFAULT_TIMEOUT)"
      ],
      "execution_count": null,
      "outputs": []
    },
    {
      "cell_type": "markdown",
      "metadata": {
        "id": "gLIkDUYtZdbM"
      },
      "source": [
        "Laissez Python effectuer le déballage et définissez l'argument par défaut à la signature :"
      ]
    },
    {
      "cell_type": "code",
      "metadata": {
        "id": "MthH5d4FZmW3"
      },
      "source": [
        "def function(timeout=DEFAULT_TIMEOUT, **kwargs):\n",
        "  # better    ..."
      ],
      "execution_count": null,
      "outputs": []
    },
    {
      "cell_type": "markdown",
      "metadata": {
        "id": "xVHDsdeFZuH5"
      },
      "source": [
        "Dans cet exemple, le délai d'expiration n'est pas strictement limité aux mots-clés. Nous verrons comment créer des arguments uniquement par mot-clé dans quelques sections, mais l'idée qui devrait prévaloir est de ne pas manipuler le dictionnaire kwargs, et à la place d'exécuter un déballage approprié au niveau de la signature. Avant de plonger dans les arguments uniquement par mot-clé, commençons avec ceux qui sont d'abord positionnels"
      ]
    },
    {
      "cell_type": "markdown",
      "metadata": {
        "id": "RxxQ4-CaZ81x"
      },
      "source": [
        "## Paramètres de position uniquement\n",
        "\n",
        "Comme nous l'avons déjà vu, les arguments positionnels (variables ou non) sont ceux qui sont d'abord fournis aux fonctions en Python. Les valeurs de ces arguments sont interprétées en fonction de la position où elles sont fournies à la fonction, ce qui signifie qu'elles sont attribuées respectivement aux paramètres dans la définition de la fonction.\n",
        "\n",
        "Si nous n'utilisons aucune syntaxe spéciale lors de la définition des arguments de la fonction, par défaut, ils peuvent être passés par position ou par mot-clé. Par exemple, dans la fonction suivante, tous les appels à la fonction sont équivalents"
      ]
    },
    {
      "cell_type": "code",
      "metadata": {
        "id": "6CcHdwEWaaCE"
      },
      "source": [
        "def my_function(x, y):\n",
        "  print(\"x={0}, y={1}\".format(x,y))\n"
      ],
      "execution_count": 58,
      "outputs": []
    },
    {
      "cell_type": "code",
      "metadata": {
        "colab": {
          "base_uri": "https://localhost:8080/"
        },
        "id": "tarpRR2Ybkxu",
        "outputId": "d4289e06-256e-4284-cacc-66e9b8783730"
      },
      "source": [
        "my_function(1, 2)"
      ],
      "execution_count": 55,
      "outputs": [
        {
          "output_type": "stream",
          "name": "stdout",
          "text": [
            "x=1, y=2\n"
          ]
        }
      ]
    },
    {
      "cell_type": "code",
      "metadata": {
        "colab": {
          "base_uri": "https://localhost:8080/"
        },
        "id": "UQPAxgLXbqLV",
        "outputId": "830f8964-b3cf-48f0-f0e4-579c15bbe9b7"
      },
      "source": [
        "my_function(x=1, y=2)"
      ],
      "execution_count": 56,
      "outputs": [
        {
          "output_type": "stream",
          "name": "stdout",
          "text": [
            "x=1, y=2\n"
          ]
        }
      ]
    },
    {
      "cell_type": "code",
      "metadata": {
        "colab": {
          "base_uri": "https://localhost:8080/"
        },
        "id": "bkqG7XIhbutw",
        "outputId": "1b041a58-c4e3-45a9-f919-c4c06ccb4710"
      },
      "source": [
        "my_function(1, y=2)"
      ],
      "execution_count": 61,
      "outputs": [
        {
          "output_type": "stream",
          "name": "stdout",
          "text": [
            "x=1, y=2\n"
          ]
        }
      ]
    },
    {
      "cell_type": "markdown",
      "metadata": {
        "id": "Gy_e-QzdcAju"
      },
      "source": [
        "Cela signifie que, dans le premier cas, nous passons les valeurs 1 et 2, et par leur position, elles sont affectées aux paramètres x et y, respectivement. Avec cette syntaxe, rien ne nous empêche de passer les mêmes arguments avec leur mot-clé (même dans l'ordre inverse), s'il le fallait (par exemple, pour être plus explicite). La seule contrainte ici est que si nous passons un argument en tant que mot-clé, tous les suivants doivent également être fournis en tant que mot-clé (le dernier exemple ne fonctionnerait pas avec les paramètres inversés).\n",
        "\n",
        "Cependant, à partir de Python 3.8 (PEP-570), une nouvelle syntaxe a été introduite qui permet de définir des paramètres strictement positionnels (ce qui signifie que nous ne pouvons pas fournir leur nom lors de la transmission de valeurs). Pour l'utiliser, un / doit être ajouté à la fin du dernier argument positionnel uniquement). Par exemple\n",
        "\n",
        "\n",
        "    def my_function(x, y, /):\n",
        "        print(\"x={0}, y={1}\".format(x,y))\n",
        "\n",
        "Notez comment la première invocation de la fonction a fonctionné (comme auparavant), mais à partir de maintenant, toute tentative de passer un argument de mot-clé échouera. L'exception levée nous indiquera dans son message les paramètres de position uniquement qui ont tenté d'être transmis en tant que mot-clé uniquement. En général, l'utilisation d'arguments par mot-clé rend le code plus lisible car vous saurez à tout moment quelles valeurs sont fournies pour quels arguments, mais il peut y avoir des situations dans lesquelles cette syntaxe est utile, par exemple, dans les cas où les noms des arguments ne sont pas significatifs (parce qu'ils ne peuvent pas l'être, pas parce que nous avons fait un mauvais travail en les nommant !), et essayer d'utiliser leur nom serait contre-productif.\n",
        "\n",
        "Pour donner un exemple très simple, imaginez une fonction pour vérifier si deux mots sont des anagrammes. Cette fonction prend deux chaînes et effectue un certain traitement. Peu importe comment nous nommons ces deux chaînes (et franchement leur ordre n'a pas d'importance, ce serait juste un premier mot et un deuxième mot). Essayer de trouver de bons noms pour ces arguments n'aurait pas beaucoup de sens, pas plus que l'attribution de leurs valeurs de mot-clé lors de l'appel de la fonction.\n",
        "\n",
        "    Ne forcez pas les arguments significatifs à être uniquement positionnels\n",
        "\n",
        "Dans des cas très particuliers, les paramètres de position uniquement peuvent être une bonne idée, mais la plupart du temps, cela ne devrait pas être nécessaire. Mais en général, ce n'est pas une fonctionnalité que vous voudriez utiliser plusieurs fois car nous pouvons tirer parti de la transmission d'arguments en tant que mots-clés, car cela facilitera la compréhension des valeurs transmises à quels paramètres. Pour cette raison, le cas inverse est quelque chose que vous voudriez faire plus souvent, en faisant des arguments uniquement des mots-clés, comme nous le verrons dans la section suivante"
      ]
    },
    {
      "cell_type": "markdown",
      "metadata": {
        "id": "d-qQgJhVc5PV"
      },
      "source": [
        "## Arguments de mot-clé uniquement\n",
        "\n",
        "\n",
        "Analogue à la fonctionnalité précédente, il est possible de créer certains arguments uniquement par mot-clé. Cela a probablement plus de sens, car nous pouvons trouver un sens lors de l'affectation de l'argument mot-clé sur un appel de fonction, et maintenant nous pouvons appliquer cette clarté.\n",
        "\n",
        "Dans ce cas (et contrairement au précédent), nous utilisons le symbole * pour signaler le début des arguments à mot-clé uniquement. Dans la signature de la fonction, tout ce qui vient après le nombre variable d'arguments positionnels (*args) sera un mot-clé uniquement.\n",
        "\n",
        "Par exemple, la définition suivante prend deux arguments positionnels, puis un nombre quelconque de paramètres positionnels, puis deux arguments finaux, qui doivent être passés en tant que mot-clé uniquement. Le dernier a une valeur par défaut (bien que ce ne soit pas obligatoire, comme dans le troisième cas)"
      ]
    },
    {
      "cell_type": "code",
      "metadata": {
        "colab": {
          "base_uri": "https://localhost:8080/"
        },
        "id": "uwVYvSL-e5FZ",
        "outputId": "32dab0fe-a666-41f9-e9c2-adf332d0d5e0"
      },
      "source": [
        "def my_function(x, y, *args, kw1, kw2=0):\n",
        "  print(\"x={}, y={}, kw1={}, kw2={}\".format(x, y, kw1, kw2))\n",
        "\n",
        "my_function(1, 2, kw1=3, kw2=4)"
      ],
      "execution_count": 72,
      "outputs": [
        {
          "output_type": "stream",
          "name": "stdout",
          "text": [
            "x=1, y=2, kw1=3, kw2=4\n"
          ]
        }
      ]
    },
    {
      "cell_type": "code",
      "metadata": {
        "colab": {
          "base_uri": "https://localhost:8080/"
        },
        "id": "tXfkIkGJgpox",
        "outputId": "9ce59c97-db1d-4e9c-c655-6f0930232dd2"
      },
      "source": [
        "my_function(1, 2, kw1=3)"
      ],
      "execution_count": 74,
      "outputs": [
        {
          "output_type": "stream",
          "name": "stdout",
          "text": [
            "x=1, y=2, kw1=3, kw2=0\n"
          ]
        }
      ]
    },
    {
      "cell_type": "markdown",
      "metadata": {
        "id": "tpoO_EO9fn7D"
      },
      "source": [
        "Les appels de fonction indiquent clairement comment cela se comporte. Si nous ne voulons pas d'arguments positionnels après les deux premiers, nous pouvons simplement mettre * au lieu de *args.\n",
        "\n",
        "Cette fonctionnalité est utile pour étendre des fonctions ou des classes déjà définies (et utilisées) de manière rétrocompatible. Si, par exemple, vous avez une fonction qui prend deux arguments et qu'elle est appelée plusieurs fois dans le code (parfois avec les paramètres par position, parfois par mot-clé), et que vous voudriez ajouter un troisième paramètre, vous devez définir une valeur par défaut pour cela, si vous voulez que les appels en cours continuent de fonctionner. Mais encore mieux serait de faire de ce dernier paramètre un mot-clé uniquement, donc les nouveaux appels doivent indiquer clairement qu'ils ont l'intention d'utiliser la nouvelle définition.\n",
        "\n",
        "Dans le même ordre d'idées, cette fonctionnalité est également utile lors de la refactorisation et du maintien de la compatibilité. Imaginez que vous ayez une fonction que vous remplacez par une nouvelle implémentation, mais que vous conserviez la fonction d'origine en tant que wrapper, afin de préserver la compatibilité. Analysons la différence entre un appel de fonction tel que le suivant:\n",
        "\n",
        "\n",
        "    result = my_function(1, 2, True)\n",
        "\n",
        "Et un autre appel comme suit :\n",
        "\n",
        "    result = my_function(1, 2, use_new_implementation=True)\n",
        "\n",
        "Il est clair que le deuxième exemple est beaucoup plus explicite, et vous obtenez une idée claire de ce qui se passe dès que vous jetez un coup d'œil à l'appel de fonction. Pour cette raison, il est logique de faire du nouveau paramètre (qui détermine quelle implémentation utiliser) un mot-clé uniquement.\n",
        "\n",
        "Dans des cas comme celui-ci, où il y a un argument qui a vraiment besoin d'un contexte pour être compris, faire de ce paramètre un mot-clé uniquement est une bonne idée.\n",
        "\n",
        "Ce sont les bases du fonctionnement des arguments et des paramètres dans les fonctions Python. Nous pouvons maintenant utiliser ces connaissances pour en discuter en termes de bonnes idées de conception"
      ]
    },
    {
      "cell_type": "markdown",
      "metadata": {
        "id": "ywOMbC7KhkNg"
      },
      "source": [
        "## Le nombre d'arguments dans les fonctions\n",
        "\n",
        "Dans cette section, nous sommes d'accord sur l'idée qu'avoir des fonctions ou des méthodes qui prennent trop d'arguments est un signe de mauvaise conception (une odeur de code). Ensuite, nous proposons des moyens de traiter ce problème.\n",
        "\n",
        "La première alternative est un principe plus général de la conception logicielle : la reification (créer un nouvel objet pour tous ces arguments que nous passons, ce qui est probablement l'abstraction qui nous manque). Compacter plusieurs arguments dans un nouvel objet n'est pas une solution spécifique à Python, mais plutôt quelque chose que nous pouvons appliquer dans n'importe quel langage de programmation.\n",
        "\n",
        "Une autre option serait d'utiliser les fonctionnalités spécifiques à Python que nous avons vues dans la section précédente, en utilisant des arguments de position et de mot-clé variables pour créer des fonctions qui ont une signature dynamique. Bien que cela puisse être une façon de procéder pythonique, nous devons faire attention à ne pas abuser de la fonctionnalité, car nous pourrions créer quelque chose de si dynamique qu'il est difficile à maintenir. Dans ce cas, nous devrions jeter un œil au corps de la fonction. Indépendamment de la signature, et si les paramètres semblent être corrects, si la fonction fait trop de choses différentes répondant aux valeurs des paramètres, alors c'est un signe qu'elle doit être décomposée en plusieurs fonctions plus petites (rappelez-vous, les fonctions doivent faire une chose, et une seule chose !).\n",
        "\n"
      ]
    },
    {
      "cell_type": "markdown",
      "metadata": {
        "id": "eQEJ3QeirQZ4"
      },
      "source": [
        "## Arguments de fonction et couplage\n",
        "\n",
        "Plus une signature de fonction a d'arguments, plus celle-ci est susceptible d'être étroitement couplée à la fonction appelante.\n",
        "\n",
        "Disons que nous avons deux fonctions, f1 et f2, et cette dernière prend cinq paramètres. Plus f2 prend de paramètres, plus il serait difficile pour quiconque essaie d'appeler cette fonction de rassembler toutes ces informations et de les transmettre afin qu'elles puissent fonctionner correctement.\n",
        "\n",
        "Maintenant, f1 semble avoir toutes ces informations car il peut l'appeler correctement. De là, nous pouvons tirer deux conclusions. Premièrement, f2 est probablement une abstraction qui fuit, ce qui signifie que puisque f1 sait tout ce dont f2 a besoin, il peut à peu près deviner ce qu'il fait en interne et sera capable de le faire par lui-même.\n",
        "\n",
        "Donc, dans l'ensemble, f2 n'abstrait pas tant que ça. Deuxièmement, il semble que f2 ne soit utile qu'à f1, et il est difficile d'imaginer utiliser cette fonction dans un contexte différent, ce qui la rend plus difficile à réutiliser.\n",
        "\n",
        "Lorsque les fonctions ont une interface plus générale et sont capables de fonctionner avec des abstractions de plus haut niveau, elles deviennent plus réutilisables.\n",
        "\n",
        "Cela s'applique à toutes sortes de fonctions et de méthodes objet, y compris la méthode __init__ pour les classes. La présence d'une méthode comme celle-ci pourrait généralement (mais pas toujours) signifier qu'une nouvelle abstraction de niveau supérieur doit être passée à la place, ou qu'il y a un objet manquant.\n",
        "\n",
        "    Si une fonction a besoin de trop de paramètres pour fonctionner\n",
        "    correctement, considérez-la comme une odeur de code\n",
        "\n",
        "\n",
        "En fait, il s'agit d'un problème de conception tel que les outils d'analyse statique tels que pylint (discutés dans le guide Introduction, Formatage du code et Outils) par défaut un avertissement lorsqu'ils rencontrent un tel cas. Lorsque cela se produit, ne supprimez pas l'avertissement, refactorisez-le à la place"
      ]
    },
    {
      "cell_type": "markdown",
      "metadata": {
        "id": "DTsmzKcWtzyC"
      },
      "source": [
        "## Signatures de fonctions compactes qui prennent trop d'arguments\n",
        "\n",
        "Supposons que nous trouvions une fonction qui nécessite trop de paramètres. Nous savons que nous ne pouvons pas quitter la base de code comme ça, et un processus de refactorisation est impératif. Mais quelles sont les options ?\n",
        "\n",
        "Selon le cas, certaines des règles suivantes peuvent s'appliquer. Ce n'est en aucun cas exhaustif, mais cela donne une idée de la façon de résoudre certains scénarios qui se produisent assez souvent.\n",
        "\n",
        "Parfois, il existe un moyen simple de modifier les paramètres si nous pouvons voir que la plupart d'entre eux appartiennent à un objet commun. Par exemple, considérons un appel de fonction comme celui-ci\n",
        "\n",
        "    track_request(request.headers, request.ip_addr, request.request_id)\n",
        "\n",
        "Maintenant, la fonction peut ou non prendre des arguments supplémentaires, mais quelque chose est vraiment évident ici : tous les paramètres dépendent de la requête, alors pourquoi ne pas passer l'objet de la requête à la place ? Il s'agit d'un simple changement, mais il améliore considérablement le code. L'appel de fonction correct devrait être track_request(request)—sans compter que, sémantiquement, cela a aussi beaucoup plus de sens.\n",
        "\n",
        "Bien que le passage de paramètres comme celui-ci soit encouragé, dans tous les cas où nous passons des objets mutables aux fonctions, nous devons faire très attention aux effets secondaires. La fonction que nous appelons ne doit apporter aucune modification à l'objet que nous transmettons car cela entraînera une mutation de l'objet, créant un effet secondaire indésirable. A moins qu'il ne s'agisse réellement de l'effet recherché (auquel cas, il doit être rendu explicite), ce genre de comportement est déconseillé. Même lorsque nous voulons réellement changer quelque chose sur l'objet que nous traitons, une meilleure alternative serait de le copier et d'en renvoyer une (nouvelle) version modifiée.\n",
        "\n",
        "Cela nous amène à un sujet similaire : les paramètres de regroupement. Dans l'exemple précédent, les paramètres étaient déjà regroupés, mais le groupe (dans ce cas, l'objet de requête) n'était pas utilisé. Mais d'autres cas ne sont pas aussi évidents que celui-là, et nous pourrions vouloir regrouper toutes les données des paramètres dans un seul objet qui agit comme un conteneur. Inutile de dire que ce regroupement doit avoir un sens. L'idée ici est de réifier : Créer l'abstraction qui manquait à notre conception.\n",
        "\n",
        "Si les stratégies précédentes ne fonctionnent pas, en dernier recours, nous pouvons modifier la signature de la fonction pour accepter un nombre variable d'arguments. Si le nombre d'arguments est trop grand, utiliser *args ou **kwargs rendra les choses plus difficiles à suivre, nous devons donc nous assurer que l'interface est correctement documentée et correctement utilisée, mais dans certains cas, cela vaut la peine de le faire.\n",
        "\n",
        "Il est vrai qu'une fonction définie avec *args et **kwargs est vraiment exible et adaptable, mais l'inconvénient est qu'elle perd sa signature, et avec cela, une partie de son sens, et presque toute sa lisibilité. Nous avons vu des exemples de la façon dont les noms de variables (y compris les arguments de fonction) rendent le code beaucoup plus facile à lire. Si une fonction prend un certain nombre d'arguments (positionnels ou mot-clé), nous pourrions découvrir que lorsque nous voudrons jeter un œil à cette fonction à l'avenir, nous ne saurons probablement pas exactement ce qu'elle était censée faire avec son paramètres, à moins qu'il n'ait une très bonne docstring\n",
        "\n",
        "    Essayez de ne définir les fonctions avec les arguments les plus génériques\n",
        "    (* args, ** kwargs) lorsque vous voulez un wrapper parfait sur une autre\n",
        "    fonction (par exemple, une méthode qui appellera super (), ou un décorateur).\n",
        "\n"
      ]
    },
    {
      "cell_type": "markdown",
      "metadata": {
        "id": "0uF4fmuQxIT0"
      },
      "source": [
        "## Remarques finales sur les bonnes pratiques pour la conception de logiciels\n",
        "\n",
        "Une bonne conception logicielle implique une combinaison de suivre les bonnes pratiques de l'ingénierie logicielle et de tirer parti de la plupart des fonctionnalités du langage. Il y a une grande valeur à utiliser tout ce que Python a à offrir, mais il y a aussi un grand risque d'en abuser et d'essayer d'intégrer des fonctionnalités complexes dans des conceptions simples.\n",
        "\n",
        "En plus de ce principe général, il serait bon d'ajouter quelques recommandations finales"
      ]
    },
    {
      "cell_type": "markdown",
      "metadata": {
        "id": "W3EOQUzzxa6M"
      },
      "source": [
        "## Orthogonalité dans le logiciel\n",
        "\n",
        "Ce mot est très général et peut avoir plusieurs sens ou interprétations. En mathématiques, orthogonal signifie que deux éléments sont indépendants. Si deux vecteurs sont orthogonaux, leur produit scalaire est nul. Cela signifie également qu'ils ne sont pas du tout liés. Un changement dans l'un d'eux n'affecte pas du tout l'autre. C'est ainsi que nous devrions penser à notre logiciel.\n",
        "\n",
        "La modification d'un module, d'une classe ou d'une fonction ne devrait avoir aucun impact sur le monde extérieur pour ce composant en cours de modification. Ceci est, bien sûr, hautement souhaitable, mais pas toujours possible. Mais même pour les cas où ce n'est pas possible, une bonne conception essaiera de minimiser l'impact autant que possible. Nous avons vu des idées telles que la séparation des préoccupations, la cohésion et l'isolement des composants.\n",
        "\n",
        "En termes de structure d'exécution du logiciel, l'orthogonalité peut être interprétée comme le processus de modification (ou d'effets secondaires) local. Cela signifie, par exemple, que l'appel d'une méthode sur un objet ne doit pas modifier l'état interne d'autres objets (non liés). Nous avons déjà (et continuerons de le faire) souligné dans ce guide l'importance de minimiser les effets secondaires dans notre code.\n",
        "\n",
        "Dans l'exemple avec la classe mixin, nous avons créé un objet tokenizer qui a renvoyé un itérable. Le fait que la méthode __iter__ ait renvoyé un nouveau générateur augmente les chances que les trois classes (la base, le mélange et la classe béton) soient orthogonales. Si cela avait renvoyé quelque chose de concret (une liste, disons), cela aurait créé une dépendance sur le reste des classes, car lorsque nous avons changé la liste en quelque chose d'autre, nous aurions peut-être dû mettre à jour d'autres parties du code, révélant que les classes n'étaient pas aussi indépendantes qu'elles devraient l'être.\n",
        "\n",
        "Montrons un exemple rapide. Python permet de passer des fonctions par paramètre car ce ne sont que des objets normaux. Nous pouvons utiliser cette fonctionnalité pour obtenir une certaine orthogonalité. Nous avons une fonction qui calcule un prix, y compris les taxes et les remises, mais après nous voulons formater le prix final obtenu"
      ]
    },
    {
      "cell_type": "code",
      "metadata": {
        "id": "0bSu-cTPyp_4"
      },
      "source": [
        "def calculate_price(base_price: float, tax: float, discount: float) -> float:\n",
        "    \"\"\"\n",
        "    >>> calculate_price(10, 0.2, 0.5)\n",
        "    6.0\n",
        "    >>> calculate_price(10, 0.2, 0)\n",
        "    12.0\n",
        "    \"\"\"\n",
        "    return (base_price * (1 + tax)) * (1 - discount)\n",
        "\n",
        "\n",
        "def show_price(price: float) -> str:\n",
        "    \"\"\"\n",
        "    >>> show_price(1000)\n",
        "    '$ 1,000.00'\n",
        "    >>> show_price(1_250.75)\n",
        "    '$ 1,250.75'\n",
        "    \"\"\"\n",
        "    return \"$ {0:,.2f}\".format(price)\n",
        "\n",
        "\n",
        "def str_final_price(\n",
        "    base_price: float, tax: float, discount: float, fmt_function=str\n",
        ") -> str:\n",
        "    \"\"\"\n",
        "    >>> str_final_price(10, 0.2, 0.5)\n",
        "    '6.0'\n",
        "    >>> str_final_price(1000, 0.2, 0)\n",
        "    '1200.0'\n",
        "    >>> str_final_price(1000, 0.2, 0.1, fmt_function=show_price)\n",
        "    '$ 1,080.00'\n",
        "    \"\"\"\n",
        "    return fmt_function(calculate_price(base_price, tax, discount))"
      ],
      "execution_count": 75,
      "outputs": []
    },
    {
      "cell_type": "markdown",
      "metadata": {
        "id": "fpAy1FW5yuP6"
      },
      "source": [
        "Notez que la fonction de niveau supérieur compose deux fonctions orthogonales. Une chose à noter est la façon dont nous calculons le prix, c'est ainsi que l'autre va être représenté. Changer l'un ne change pas l'autre. Si nous ne passons rien en particulier, il utilisera la conversion de chaîne comme fonction de représentation par défaut, et si nous choisissons de passer une fonction personnalisée, la chaîne résultante changera. Cependant, les modifications apportées à show_price n'affectent pas calculate_price. Nous pouvons apporter des modifications à l'une ou l'autre fonction, sachant que l'autre restera telle qu'elle était"
      ]
    },
    {
      "cell_type": "code",
      "metadata": {
        "colab": {
          "base_uri": "https://localhost:8080/",
          "height": 35
        },
        "id": "NQvFF9QzzGhY",
        "outputId": "5a40bc67-980d-4bfd-a311-caad93d3659e"
      },
      "source": [
        "str_final_price(10, 0.2, 0.5)"
      ],
      "execution_count": 76,
      "outputs": [
        {
          "output_type": "execute_result",
          "data": {
            "application/vnd.google.colaboratory.intrinsic+json": {
              "type": "string"
            },
            "text/plain": [
              "'6.0'"
            ]
          },
          "metadata": {},
          "execution_count": 76
        }
      ]
    },
    {
      "cell_type": "code",
      "metadata": {
        "colab": {
          "base_uri": "https://localhost:8080/",
          "height": 35
        },
        "id": "VTTeCENEzJFi",
        "outputId": "56b4afb3-4e16-4dab-a33e-c52245ae44b2"
      },
      "source": [
        "str_final_price(1000, 0.2, 0)"
      ],
      "execution_count": 77,
      "outputs": [
        {
          "output_type": "execute_result",
          "data": {
            "application/vnd.google.colaboratory.intrinsic+json": {
              "type": "string"
            },
            "text/plain": [
              "'1200.0'"
            ]
          },
          "metadata": {},
          "execution_count": 77
        }
      ]
    },
    {
      "cell_type": "code",
      "metadata": {
        "colab": {
          "base_uri": "https://localhost:8080/",
          "height": 35
        },
        "id": "FamFRo4yzMtN",
        "outputId": "5b4f0018-cb97-495b-b28a-91d1a552e28c"
      },
      "source": [
        "str_final_price(1000, 0.2, 0.1, fmt_function=show_price)"
      ],
      "execution_count": 78,
      "outputs": [
        {
          "output_type": "execute_result",
          "data": {
            "application/vnd.google.colaboratory.intrinsic+json": {
              "type": "string"
            },
            "text/plain": [
              "'$ 1,080.00'"
            ]
          },
          "metadata": {},
          "execution_count": 78
        }
      ]
    },
    {
      "cell_type": "markdown",
      "metadata": {
        "id": "o18gwka7zn8f"
      },
      "source": [
        "Il y a un aspect de qualité intéressant qui concerne l'orthogonalité. Si deux parties du code sont orthogonales, cela signifie que l'une peut changer sans affecter l'autre. Cela implique que la partie qui a changé a des tests unitaires qui sont également orthogonaux aux tests unitaires du reste de l'application. Sous cette hypothèse, si ces tests réussissent, nous pouvons supposer (jusqu'à un certain degré) que l'application est correcte sans avoir besoin de tests de régression complets.\n",
        "\n",
        "Plus largement, l'orthogonalité peut être pensée en termes de caractéristiques. Deux fonctionnalités de l'application peuvent être totalement indépendantes afin qu'elles puissent être testées et publiées sans avoir à craindre que l'une ne casse l'autre (ou le reste du code, d'ailleurs). Imaginez que le projet nécessite un nouveau mécanisme d'authentification (oauth2, disons, mais juste pour l'exemple), et qu'en même temps une autre équipe travaille également sur un nouveau rapport.\n",
        "\n",
        "À moins qu'il n'y ait quelque chose de fondamentalement faux dans ce système, aucune de ces caractéristiques ne devrait avoir d'impact sur l'autre. Quel que soit celui qui est fusionné en premier, l'autre ne devrait pas du tout être affecté"
      ]
    },
    {
      "cell_type": "markdown",
      "metadata": {
        "id": "urXQneAt0uDO"
      },
      "source": [
        "## Structurer le code\n",
        "\n",
        "La façon dont le code est organisé a également un impact sur les performances de l'équipe et sa maintenabilité.\n",
        "\n",
        "En particulier, avoir de gros cfichier avec beaucoup de définitions (classes, fonctions, constantes, etc.) est une mauvaise pratique et doit être déconseillée. Cela ne signifie pas aller à l'extrême en plaçant une définition par fichier, mais une bonne base de code structurera et organisera les composants par similarité. \n",
        "\n",
        "\n",
        "Heureusement, la plupart du temps, changer un gros fichier en plus petits n'est pas un tâche difficile en Python. Même si plusieurs autres parties du code dépendent des définitions faites sur ce fichier, celui-ci peut être décomposé en un paquet et conservera une compatibilité totale. L'idée serait de créer un nouveau répertoire avec un fichier __init__.py dessus (cela en fera un package Python). A côté de ce fichier, nous aurons plusieurs fichier avec toutes les définitions particulières que chacun requiert (moins de fonctions et de classes regroupées selon un certain critère). Ensuite, le fichier __init__.py importera de tous les autres fichiers les définitions qu'il avait précédemment (ce qui garantit sa compatibilité). De plus, ces définitions peuvent être mentionnées dans la variable __all__ du module pour les rendre exportables. Il y a de nombreux avantages à cela. Outre le fait que chaque fichier sera plus facile à parcourir et que les choses seront plus faciles à trouver, nous pourrions affirmer qu'il sera plus efficace pour les raisons suivantes :\n",
        "\n",
        " * Il contient moins d'objets à analyser et à charger en mémoire lorsque le module est importé.\n",
        " \n",
        "* Le module lui-même importera probablement moins de modules car il a besoin de moins de dépendances, comme avant.\n",
        "\n",
        "\n",
        " Il est également utile d'avoir une convention pour le projet. Par exemple, au lieu de placer des constantes dans tous les chiers, nous pouvons créer un chier spécifique aux valeurs constantes à utiliser dans le projet, et l'importer à partir de là : \n",
        "\n",
        " \n",
        "     from myproject.constants import CONNECTION_TIMEOUT\n",
        "   \n",
        "Centraliser les informations de cette manière facilite la réutilisation du code et permet d'éviter les doublons par inadvertance."
      ]
    }
  ]
}