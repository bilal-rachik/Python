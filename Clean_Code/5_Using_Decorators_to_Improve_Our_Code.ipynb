{
  "nbformat": 4,
  "nbformat_minor": 0,
  "metadata": {
    "colab": {
      "name": "5_Using_Decorators_to_Improve_Our_Code.ipynb",
      "provenance": [],
      "collapsed_sections": [
        "HNzqFmYB5MTB",
        "sJ7dtztl0MkR",
        "Pkflo7yb4T1E",
        "63k-4DNi6JKM",
        "vCLeTu_S_3Yh",
        "6o2rxAoaDI6I",
        "I53rjArgDgoY",
        "dys7stagEC7_",
        "RWB3AAZcIrSP",
        "92H3ZCaLJN0E",
        "YibA7TIiNJJ5"
      ]
    },
    "kernelspec": {
      "name": "python3",
      "display_name": "Python 3"
    },
    "language_info": {
      "name": "python"
    }
  },
  "cells": [
    {
      "cell_type": "markdown",
      "metadata": {
        "id": "yUKWEs6v4Tfy"
      },
      "source": [
        "# Utiliser des décorateurs pour améliorer notre code\n",
        "\n",
        "Dans ce guide, nous allons explorer les décorateurs et voir comment ils sont utiles dans de nombreuses situations où nous souhaitons améliorer notre conception. Nous commencerons par explorer ce que sont les décorateurs, comment ils fonctionnent et comment ils sont mis en œuvr.\n",
        "\n",
        "Forts de ces connaissances, nous revisiterons ensuite les concepts que nous avons appris dans les guide précédents concernant les bonnes pratiques générales pour la conception de logiciels et verrons comment les décorateurs peuvent nous aider à respecter chaque principe.\n",
        "\n",
        "Les objectifs de ce guide sont les suivants :\n",
        "\n",
        "* Comprendre comment fonctionnent les décorateurs en Python\n",
        "\n",
        "*  Apprendre à implémenter des décorateurs qui s'appliquent aux fonctions et aux classes\n",
        "\n",
        "* Implémenter efficacement les décorateurs, en évitant les erreurs d'implémentation courantes\n",
        "\n",
        "* Analyser comment éviter la duplication de code (le Principe DRY) avec les décorateurs \n",
        "\n",
        "* Pour étudier comment les décorateurs contribuent à la séparation des préoccupations\n",
        "\n",
        "* Pour analyser des exemples de bons décorateurs\n",
        "\n",
        "* Pour revoir les situations, idiomes ou modèles courants pour savoir quand les décorateurs sont le bon choix"
      ]
    },
    {
      "cell_type": "markdown",
      "metadata": {
        "id": "PW9SFOQK5tyK"
      },
      "source": [
        "## Que sont les décorateurs en Python ?\n",
        "\n",
        "Les décorateurs ont été introduits en Python il y a longtemps, dans PEP-318, en tant que mécanisme pour simplifier la façon dont les fonctions et les méthodes sont définies lorsqu'elles doivent être modifiées après leur dénition d'origine.\n",
        "\n",
        "Nous devons d'abord comprendre qu'en Python, les fonctions sont des objets normaux comme à peu près n'importe quoi d'autre. Cela signifie que vous pouvez les affecter à des variables, les passer par des paramètres ou même leur appliquer d'autres fonctions. Il était typique de vouloir écrire une petite fonction, puis de lui appliquer quelques transformations, générant une nouvelle version modifiée de cette fonction (similaire au fonctionnement de la composition de fonctions en mathématiques).\n",
        "\n",
        "L'une des motivations originales pour l'introduction des décorateurs était que parce que des fonctions telles que classmethod et staticmethod étaient utilisées pour transformer la définition originale de la méthode, elles nécessitaient une ligne supplémentaire, modifiant la définition originale de la fonction dans une instruction séparée.\n",
        "\n",
        "De manière plus générale, chaque fois que nous devions appliquer une transformation à une fonction, nous devions l'appeler avec la fonction modifier, puis la réaffecter au même nom avec lequel la fonction avait été définie à l'origine.\n",
        "\n",
        "Par exemple, si nous avons une fonction appelée original, puis nous avons une fonction qui modifie le comportement de l'original par-dessus, appelée modificateur, nous devons écrire quelque chose comme ce qui suit:\n",
        "\n",
        "    def original(...):    \n",
        "    ...\n",
        "    \n",
        "    original = modifier(original)\n",
        "\n",
        "\n",
        "Remarquez comment nous modifions la fonction et la réattribuons au même nom. C'est déroutant, sujet aux erreurs (imaginez que quelqu'un oublie de réaffecter la fonction, ou la réaffecte mais pas dans la ligne immédiatement après la définition de la fonction mais beaucoup plus loin) et encombrant. Pour cette raison, une prise en charge de la syntaxe a été ajoutée au langage.\n",
        "\n",
        "L'exemple précédent pourrait être réécrit ainsi\n",
        "\n",
        "    @modifierdef \n",
        "    original(...):   \n",
        "    ...\n",
        "\n",
        "Cela signifie que les décorateurs ne sont que du sucre syntaxique pour appeler tout ce qui est après le décorateur en tant que premier paramètre du décorateur lui-même, et le résultat serait ce que le décorateur renvoie.\n",
        "\n",
        "\n",
        "La syntaxe pour les décorateurs améliore considérablement la lisibilité, car maintenant le lecteur de ce code peut trouver toute la dénition de la fonction en un seul endroit. Gardez à l'esprit que la modification manuelle des fonctions comme avant est toujours autorisée.\n",
        "\n",
        "    En général, essayez d'éviter de réaffecter des valeurs à une fonction déjà\n",
        "    conçue sans utiliser la syntaxe du décorateur. En particulier, si la\n",
        "    fonction est réaffectée à autre chose et que cela se produit dans une\n",
        "    partie éloignée du code (loin de l'endroit où la fonction a été dénie à\n",
        "    l'origine), cela rendra votre code plus difficile à lire\n",
        "\n",
        "Conformément à la terminologie Python et à notre exemple, le modificateur est ce que nous appelons le décorateur, et l'original est la fonction décorée, souvent également appelée objet enveloppé.\n",
        "\n",
        "Alors que la fonctionnalité a été pensée à l'origine pour les méthodes et les fonctions, la syntaxe actuelle permet à tout type d'objet d'être décoré, nous allons donc explorer les décorateurs appliqués aux fonctions, méthodes, générateurs et classes.\n",
        "\n",
        "Une note finale est que bien que le décorateur de nom soit correct (après tout, le décorateur apporte des modifications, étend ou travaille au-dessus de la fonction enveloppée), il ne doit pas être confondu avec le modèle de conception du décorateur"
      ]
    },
    {
      "cell_type": "markdown",
      "metadata": {
        "id": "uS1e943X8swC"
      },
      "source": [
        "## Décorateurs de fonction\n",
        "\n",
        "Les fonctions sont probablement la représentation la plus simple d'un objet Python pouvant être décoré. Nous pouvons utiliser des décorateurs sur les fonctions pour leur appliquer toutes sortes de logiques : nous pouvons valider des paramètres, vérifier des conditions préalables, changer complètement le comportement, modifier sa signature, mettre en cache les résultats (créer une version mémorisée de la fonction d'origine), etc.\n",
        "\n",
        "À titre d'exemple, nous allons créer un décorateur de base qui implémente un mécanisme de nouvelle tentative, contrôlant une exception particulière au niveau du domaine et réessayant un certain nombre de fois :"
      ]
    },
    {
      "cell_type": "code",
      "metadata": {
        "id": "bssnHtek9VVy"
      },
      "source": [
        "from functools import wraps\n",
        "from typing import Type\n",
        "\n",
        "import logging\n",
        "logger = logging.getLogger(__name__)\n",
        "\n",
        "\n",
        "class ControlledException(Exception):\n",
        "    \"\"\"A generic exception on the program's domain.\"\"\"\n",
        "\n",
        "\n",
        "def retry(operation):\n",
        "    @wraps(operation)\n",
        "    def wrapped(*args, **kwargs):\n",
        "        last_raised = None\n",
        "        RETRIES_LIMIT = 3\n",
        "        for _ in range(RETRIES_LIMIT):\n",
        "            try:\n",
        "                return operation(*args, **kwargs)\n",
        "            except ControlledException as e:\n",
        "                logger.info(\"retrying %s\", operation.__qualname__)\n",
        "                last_raised = e\n",
        "        raise last_raised\n",
        "\n",
        "    return wrapped"
      ],
      "execution_count": null,
      "outputs": []
    },
    {
      "cell_type": "markdown",
      "metadata": {
        "id": "jBsWVVOF99ra"
      },
      "source": [
        "L'utilisation de @wraps peut être ignorée pour le moment, car elle sera couverte dans la section Décorateurs efficaces - éviter les erreurs courantes\n",
        "\n",
        "\n",
        "    L'utilisation de _ dans la boucle for signifie que le numéro est attribué à\n",
        "    une variable qui ne nous intéresse pas pour le moment, car il n'est pas\n",
        "    utilisé dans la boucle for (c'est un idiome courant en Python de nommer _\n",
        "    les valeurs qui sont ignorées)\n",
        "\n",
        "Le décorateur de nouvelle tentative ne prend aucun paramètre, il peut donc être facilement appliqué à n'importe quelle fonction, comme suit "
      ]
    },
    {
      "cell_type": "code",
      "metadata": {
        "id": "bYXn6Nbv-lGD"
      },
      "source": [
        "@retry\n",
        "def run_operation(task):\n",
        "    \"\"\"Run a particular task, simulating some failures on its execution.\"\"\"\n",
        "    return task.run()"
      ],
      "execution_count": null,
      "outputs": []
    },
    {
      "cell_type": "markdown",
      "metadata": {
        "id": "epklNgBV-qcB"
      },
      "source": [
        "La définition de @retry au-dessus de run_operation est juste du sucre syntaxique que Python fournit pour exécuter run_operation = retry(run_operation)\n",
        "\n",
        "\n",
        "Dans cet exemple limité, nous pouvons voir comment les décorateurs peuvent être utilisés pour créer une opération de nouvelle tentative générique qui, sous certaines conditions (dans ce cas, représentées comme des exceptions pouvant être liées à des délais d'attente), permettra d'appeler plusieurs fois le code décoré"
      ]
    },
    {
      "cell_type": "markdown",
      "metadata": {
        "id": "BaClhFki_KAq"
      },
      "source": [
        "## Décorateurs de cours\n",
        "\n",
        "Les classes sont aussi des objets en Python (à vrai dire, à peu près tout est un objet en Python, et il est difficile de trouver un contre-exemple ; cependant, il y a quelques nuances techniques). Cela signifie que les mêmes considérations s'appliquent; ils peuvent aussi être passés par des paramètres, affectés à des variables, demandé certaines méthodes, ou être transformés (décorés).\n",
        "\n",
        "Les décorateurs de classe ont été introduits dans PEP-3129, et ils ont des considérations très similaires aux décorateurs de fonction que nous venons d'explorer. La seule différence est que lors de l'écriture du code pour ce type de décorateur, nous devons tenir compte du fait que nous recevons une classe en tant que paramètre de la méthode enveloppée, pas une autre fonction.\n",
        "\n",
        "Nous avons vu comment utiliser un décorateur de classe lorsque nous avons vu le décorateur dataclasses.dataclass,au guide Pythonic Code. Dans ce guide, nous allons apprendre à écrire nos propres décorateurs de classe\n",
        "\n",
        "\n",
        "Certains praticiens pourraient argumenter que la décoration d'une classe est quelque chose d'assez compliqué et qu'un tel scénario pourrait compromettre la lisibilité car nous déclarerions certains attributs et méthodes dans la classe, mais dans les coulisses, le décorateur pourrait appliquer des changements qui rendraient un complètement différent classer.\n",
        "\n",
        "\n",
        "Cette évaluation est vraie, mais seulement si cette technique est fortement abusée. Objectivement, ce n'est pas différent des fonctions de décoration ; après tout, les classes ne sont qu'un autre type d'objet dans l'écosystème Python, tout comme les fonctions. Nous passerons en revue les avantages et les inconvénients de ce problème avec les décorateurs dans la section intitulée Décorateurs et séparation des préoccupations, mais pour l'instant, nous explorerons les avantages des décorateurs qui s'appliquent particulièrement aux classes :\n",
        "\n",
        "\n",
        "* Tous les avantages de la réutilisation du code et du principe DRY. Un cas valide d'un décorateur de classe serait d'imposer que plusieurs classes se conforment à une certaine interface ou à certains critères (en écrivant ces vérifications une seule fois dans un décorateur qui va être appliqué à plusieurs classes).\n",
        "\n",
        "* Nous pourrions créer des classes plus petites ou plus simples qui sera amélioré plus tard par les décorateurs. \n",
        "\n",
        "*  La logique de transformation que nous devons appliquer à une certaine classe sera beaucoup plus facile à maintenir si nous utilisons un décorateur, par opposition à des approches plus compliquées (et souvent à juste titre déconseillées) telles que les méta-classes .\n",
        "\n",
        "Parmi toutes les applications possibles des décorateurs, nous allons explorer un exemple simple pour montrer le genre de choses pour lesquelles ils peuvent être utiles. Gardez à l'esprit que ce n'est pas le seul type d'application pour les décorateurs de classe, et aussi que le code que je vous montre peut également avoir de nombreuses autres solutions, toutes avec leurs avantages et leurs inconvénients, mais j'ai choisi des décorateurs dans le but d'illustrer leur utilité.\n",
        "\n",
        "En rappelant nos systèmes d'événements pour la plate-forme de surveillance, nous devons maintenant transformer les données pour chaque événement et les envoyer à un système externe. Cependant, chaque type d'événement peut avoir ses propres particularités lors du choix du mode d'envoi de ses données.\n",
        "\n",
        "En particulier, l'événement d'une connexion peut contenir des informations sensibles telles que des informations d'identification que nous souhaitons masquer. D'autres champs tels que l'horodatage peuvent également nécessiter des transformations car nous souhaitons les afficher dans un format particulier. Une première tentative pour se conformer à ces exigences serait aussi simple que d'avoir une classe qui correspond à chaque événement particulier et sait comment le sérialiser\n",
        "\n"
      ]
    },
    {
      "cell_type": "code",
      "metadata": {
        "id": "g411M8gKpdea"
      },
      "source": [
        "from datetime import datetime\n",
        "from dataclasses import dataclass\n",
        "\n",
        "\n",
        "class LoginEventSerializer:\n",
        "    def __init__(self, event):\n",
        "        self.event = event\n",
        "\n",
        "    def serialize(self) -> dict:\n",
        "        return {\n",
        "            \"username\": self.event.username,\n",
        "            \"password\": \"**redacted**\",\n",
        "            \"ip\": self.event.ip,\n",
        "            \"timestamp\": self.event.timestamp.strftime(\"%Y-%m-%d %H:%M\"),\n",
        "        }\n",
        "\n",
        "\n",
        "@dataclass\n",
        "class LoginEvent:\n",
        "    SERIALIZER = LoginEventSerializer\n",
        "\n",
        "    username: str\n",
        "    password: str\n",
        "    ip: str\n",
        "    timestamp: datetime\n",
        "\n",
        "    def serialize(self) -> dict:\n",
        "        return self.SERIALIZER(self).serialize()"
      ],
      "execution_count": null,
      "outputs": []
    },
    {
      "cell_type": "markdown",
      "metadata": {
        "id": "yJDy3GLapo6P"
      },
      "source": [
        "Ici, nous déclarons une classe qui va être mappée directement avec l'événement de connexion, contenant la logique pour cela - masquer le champ de mot de passe et formater l'horodatage comme requis.\n",
        "\n",
        "Bien que cela fonctionne et puisse sembler être une bonne option pour commencer, au fur et à mesure que le temps passe et que nous souhaitons étendre notre système, nous trouverons quelques problèmes :\n",
        "\n",
        "* Trop de classes : à mesure que le nombre d'événements augmente, le nombre de classes de sérialisation augmentera dans le même ordre de grandeur, car elles sont mappées une à une.\n",
        "\n",
        "* La solution n'est pas assez flexible : si nous devons réutiliser des parties des composants (par exemple, nous devons masquer le mot de passe dans un autre type d'événement qui le possède également), nous devrons l'extraire dans une fonction, mais aussi appelez-le à plusieurs reprises à partir de plusieurs classes, ce qui signifie que nous ne réutilisons pas autant de code après tout.\n",
        "\n",
        "* Boilerplate : La méthode serialize() devra être présente dans toutes les classes d'événements, appelant le même code. Bien que nous puissions extraire cela dans une autre classe (créer un mixin), cela ne semble pas être une bonne utilisation de l'héritage.\n",
        "\n",
        "\n",
        "Une solution alternative consiste à construire dynamiquement un objet qui, étant donné un ensemble de filtres (fonctions de transformation) et une instance d'événement, peut le sérialiser en appliquant les filtres à ses champs. Il suffit ensuite de définir les fonctions pour transformer chaque type de champ, et le sérialiseur est créé en composant plusieurs de ces fonctions.\n",
        "\n",
        "Une fois que nous avons cet objet, nous pouvons décorer la classe afin d'ajouter la méthode serialize(), qui appellera simplement ces objets Serialization avec elle-même :"
      ]
    },
    {
      "cell_type": "code",
      "metadata": {
        "id": "7-tAziH8q-Hp"
      },
      "source": [
        "from dataclasses import dataclass\n",
        "from datetime import datetime\n",
        "\n",
        "\n",
        "def hide_field(field) -> str:\n",
        "    return \"**redacted**\"\n",
        "\n",
        "\n",
        "def format_time(field_timestamp: datetime) -> str:\n",
        "    return field_timestamp.strftime(\"%Y-%m-%d %H:%M\")\n",
        "\n",
        "\n",
        "def show_original(event_field):\n",
        "    return event_field\n",
        "\n",
        "\n",
        "class EventSerializer:\n",
        "    \"\"\"Apply the transformations to an Event object based on its properties and\n",
        "    the definition of the function to apply to each field.\n",
        "    \"\"\"\n",
        "\n",
        "    def __init__(self, serialization_fields: dict) -> None:\n",
        "        \"\"\"Created with a mapping of fields to functions.\n",
        "        Example::\n",
        "        >>> serialization_fields = {\n",
        "        ...    \"username\": str.upper,\n",
        "        ...    \"name\": str.title,\n",
        "        ... }\n",
        "        Means that then this object is called with::\n",
        "        >>> from types import SimpleNamespace\n",
        "        >>> event = SimpleNamespace(username=\"usr\", name=\"name\")\n",
        "        >>> result = EventSerializer(serialization_fields).serialize(event)\n",
        "        Will return a dictionary where::\n",
        "        >>> result == {\n",
        "        ...     \"username\": event.username.upper(),\n",
        "        ...     \"name\": event.name.title(),\n",
        "        ... }\n",
        "        True\n",
        "        \"\"\"\n",
        "        self.serialization_fields = serialization_fields\n",
        "\n",
        "    def serialize(self, event) -> dict:\n",
        "        \"\"\"Get all the attributes from ``event``, apply the transformations to\n",
        "        each attribute, and place it in a dictionary to be returned.\n",
        "        \"\"\"\n",
        "        return {\n",
        "            field: transformation(getattr(event, field))\n",
        "            for field, transformation in self.serialization_fields.items()\n",
        "        }\n",
        "\n",
        "\n",
        "class Serialization:\n",
        "    \"\"\"A class decorator created with transformation functions to be applied\n",
        "    over the fields of the class instance.\n",
        "    \"\"\"\n",
        "\n",
        "    def __init__(self, **transformations):\n",
        "        \"\"\"The ``transformations`` dictionary contains the definition of how to\n",
        "        map the attributes of the instance of the class, at serialization time.\n",
        "        \"\"\"\n",
        "        self.serializer = EventSerializer(transformations)\n",
        "\n",
        "    def __call__(self, event_class):\n",
        "        \"\"\"Called when being applied to ``event_class``, will replace the\n",
        "        ``serialize`` method of this one by a new version that uses the\n",
        "        serializer instance.\n",
        "        \"\"\"\n",
        "\n",
        "        def serialize_method(event_instance):\n",
        "            return self.serializer.serialize(event_instance)\n",
        "\n",
        "        event_class.serialize = serialize_method\n",
        "        return event_class\n",
        "\n",
        "\n",
        "@Serialization(\n",
        "    username=str.lower,\n",
        "    password=hide_field,\n",
        "    ip=show_original,\n",
        "    timestamp=format_time,\n",
        ")\n",
        "@dataclass\n",
        "class LoginEvent:\n",
        "    username: str\n",
        "    password: str\n",
        "    ip: str\n",
        "    timestamp: datetime"
      ],
      "execution_count": null,
      "outputs": []
    },
    {
      "cell_type": "markdown",
      "metadata": {
        "id": "C8c0wC9RsYfx"
      },
      "source": [
        "Remarquez comment le décorateur permet à l'utilisateur de savoir plus facilement comment chaque champ va être traité sans avoir à regarder dans le code d'une autre classe. Juste en lisant les arguments passés au décorateur de classe, nous savons que le nom d'utilisateur et l'adresse IP ne seront pas modifiés, le mot de passe sera masqué et l'horodatage sera formaté\n",
        "\n",
        "\n",
        "Désormais, le code de la classe n'a pas besoin de la méthode serialize() définie, ni de s'étendre à partir d'un mixin qui l'implémente, puisque le décorateur l'ajoutera. C'est probablement la seule partie qui justifie la création du décorateur de classe car sinon, l'objet Serialization aurait pu être un attribut de classe de LoginEvent, mais le fait qu'il modifie la classe en y ajoutant une nouvelle méthode rend impossible ."
      ]
    },
    {
      "cell_type": "markdown",
      "metadata": {
        "id": "Qf97wBeMs-nK"
      },
      "source": [
        "## Autres types de décorateur\n",
        "\n",
        "Maintenant que nous savons ce que signifie la syntaxe @ pour les décorateurs, nous pouvons conclure que ce ne sont pas seulement les fonctions, les méthodes ou les classes qui peuvent être décorées ; en fait, tout ce qui peut être défini, comme les générateurs, les coroutines et même les objets qui ont déjà été décorés, peut être décoré, ce qui signifie que les décorateurs peuvent être empilés.\n",
        "\n",
        "L'exemple précédent a montré comment les décorateurs peuvent être enchaînés. Nous avons d'abord défini la classe, puis lui avons appliqué @dataclass, qui l'a convertie en une classe de données, agissant comme un conteneur pour ces attributs. Après cela, @Serialization appliquera la logique à cette classe, résultant en une nouvelle classe avec la nouvelle méthode serialize() ajoutée.\n",
        "\n",
        "Maintenant que nous connaissons les bases des décorateurs, et comment les écrire, nous pouvons passer à des exemples plus complexes. Dans les sections suivantes, nous verrons comment avoir des décorateurs plus flexibles avec des paramètres, et différentes manières de les implémenter"
      ]
    },
    {
      "cell_type": "markdown",
      "metadata": {
        "id": "8bTFlWJZtkQJ"
      },
      "source": [
        "## Décorateurs plus avancés\n",
        "\n",
        "Avec l'introduction que nous venons d'avoir, nous connaissons maintenant les bases des décorateurs : ce qu'ils sont, et leur syntaxe et sémantique.\n",
        "\n",
        "Nous nous intéressons maintenant aux utilisations plus avancées des décorateurs qui nous aideront à structurer notre code plus proprement.\n",
        "\n",
        "Nous verrons que nous pouvons utiliser des décorateurs pour séparer les préoccupations en fonctions plus petites et réutiliser le code, mais pour le faire efficacement, nous aimerions paramétrer les décorateurs (sinon, nous finirions par répéter le code). Pour cela, nous explorerons différentes options sur la façon de transmettre des arguments aux décorateurs.\n",
        "\n",
        "Après cela, nous pouvons voir quelques exemples de bonnes utilisations des décorateurs."
      ]
    },
    {
      "cell_type": "markdown",
      "metadata": {
        "id": "66MdoH2wuAjK"
      },
      "source": [
        "## Faire passer des arguments aux décorateurs\n",
        "\n",
        "À ce stade, nous considérons déjà les décorateurs comme un outil puissant en Python. Cependant, ils pourraient être encore plus puissants si nous pouvions simplement leur passer des paramètres afin que leur logique soit encore plus abstraite.\n",
        "\n",
        "Il existe plusieurs façons d'implémenter des décorateurs qui peuvent prendre des arguments, mais nous allons passer en revue les plus courantes. La première consiste à créer des décorateurs sous forme de fonctions imbriquées avec un nouveau niveau d'indirection, ce qui fait que tout dans le décorateur tombe d'un niveau plus profond. La deuxième approche consiste à utiliser une classe pour le décorateur (c'est-à-dire pour implémenter un objet appelable qui agit toujours comme décorateur).\n",
        "\n",
        "En général, la seconde approche favorise davantage la lisibilité, car il est plus facile de penser en termes d'objet que trois fonctions imbriquées ou plus travaillant avec des fermetures. Cependant, pour être complet, nous allons explorer les deux, et vous pouvez décider ce qui convient le mieux au problème à résoudre."
      ]
    },
    {
      "cell_type": "markdown",
      "metadata": {
        "id": "TyOVpNlXumHR"
      },
      "source": [
        "## Décorateurs avec fonctions imbriquées\n",
        "\n",
        "En gros, l'idée générale d'un décorateur est de créer une fonction qui renvoie une autre fonction (en programmation fonctionnelle, les fonctions qui prennent d'autres fonctions comme paramètres sont appelées fonctions d'ordre supérieur, et cela fait référence au même concept dont nous parlons ici ). La fonction interne définie dans le corps du décorateur va être celle qu'on appelle.\n",
        "\n",
        "Maintenant, si nous souhaitons lui passer des paramètres, nous avons alors besoin d'un autre niveau d'indirection. La première fonction prendra les paramètres, et à l'intérieur de cette fonction, nous en définirons un nouveau, qui sera le décorateur, qui à son tour définira encore une autre nouvelle fonction, à savoir celle qui sera renvoyée en résultat du processus de décoration. Cela signifie que nous aurons au moins trois niveaux de fonctions imbriquées.\n",
        "\n",
        "Ne vous inquiétez pas si cela ne semble pas clair jusqu'à présent. Après avoir passé en revue les exemples qui sont sur le point de venir, tout deviendra clair\n",
        "\n",
        "L'un des premiers exemples que nous avons vus de décorateurs implémentait la fonctionnalité de nouvelle tentative sur certaines fonctions. C'est une bonne idée, sauf qu'il y a un problème ; notre implémentation ne nous a pas permis de spécifier le nombre de tentatives, et à la place, c'était un nombre fixe à l'intérieur du décorateur\n",
        "\n",
        "Maintenant, nous voulons pouvoir indiquer combien de tentatives chaque instance va avoir, et peut-être pourrions-nous même ajouter une valeur par défaut à ce paramètre. Pour ce faire, nous avons besoin d'un autre niveau de fonctions imbriquées — d'abord pour les paramètres, puis pour le décorateur lui-même\n",
        "\n",
        "C'est parce que nous allons maintenant avoir quelque chose sous la forme suivante\n",
        "\n",
        "    @retry(arg1, arg2,... )\n",
        "\n",
        "Et cela doit renvoyer un décorateur car la syntaxe @ appliquera le résultat de ce calcul à l'objet à décorer. Sémantiquement, cela se traduirait par quelque chose comme ceci :\n",
        "\n",
        "    <original_function> = retry(arg1, arg2, ....)(<original_function>)\n",
        "\n",
        "Outre le nombre de tentatives souhaitées, nous pouvons également indiquer les types d'exceptions que nous souhaitons contrôler. La nouvelle version du code prenant en charge les nouvelles exigences pourrait ressembler à ceci.\n",
        "\n"
      ]
    },
    {
      "cell_type": "code",
      "metadata": {
        "id": "5lk3ndN-0IaB"
      },
      "source": [
        "from functools import wraps\n",
        "from typing import Sequence, Optional\n",
        "\n",
        "import logging\n",
        "logger = logging.getLogger(__name__)\n",
        "\n",
        "\n",
        "class ControlledException(Exception):\n",
        "    \"\"\"A generic exception on the program's domain.\"\"\"\n",
        "\n",
        "\n",
        "_DEFAULT_RETRIES_LIMIT = 3\n",
        "\n",
        "\n",
        "def with_retry(\n",
        "    retries_limit: int = _DEFAULT_RETRIES_LIMIT,\n",
        "    allowed_exceptions: Optional[Sequence[Exception]] = None,\n",
        "):\n",
        "    allowed_exceptions = allowed_exceptions or (ControlledException,)  # type: ignore\n",
        "\n",
        "    def retry(operation):\n",
        "        @wraps(operation)\n",
        "        def wrapped(*args, **kwargs):\n",
        "            last_raised = None\n",
        "            for _ in range(retries_limit):\n",
        "                try:\n",
        "                    return operation(*args, **kwargs)\n",
        "                except allowed_exceptions as e:\n",
        "                    logger.warning(\n",
        "                        \"retrying %s due to %s\", operation.__qualname__, e\n",
        "                    )\n",
        "                    last_raised = e\n",
        "            raise last_raised\n",
        "\n",
        "        return wrapped\n",
        "\n",
        "    return retry"
      ],
      "execution_count": null,
      "outputs": []
    },
    {
      "cell_type": "markdown",
      "metadata": {
        "id": "3TG5q2yZ04Ki"
      },
      "source": [
        "Voici quelques exemples de la façon dont ce décorateur peut être appliqué aux fonctions, montrant les différentes options qu'il accepte :"
      ]
    },
    {
      "cell_type": "code",
      "metadata": {
        "id": "L0ezGWjx07tz"
      },
      "source": [
        "@with_retry()\n",
        "def run_operation(task):    \n",
        "  return task.run()\n",
        "  \n",
        "@with_retry(retries_limit=5)\n",
        "def run_with_custom_retries_limit(task):    \n",
        "  return task.run()\n",
        "\n",
        "\n",
        "@with_retry(allowed_exceptions=(AttributeError,))\n",
        "def run_with_custom_exceptions(task):    \n",
        "  return task.run()\n",
        "  \n",
        "@with_retry(    \n",
        "    retries_limit=4, allowed_exceptions=(ZeroDivisionError,\n",
        "                                         AttributeError))\n",
        "def run_with_custom_parameters(task):    \n",
        "  return task.run()"
      ],
      "execution_count": null,
      "outputs": []
    },
    {
      "cell_type": "markdown",
      "metadata": {
        "id": "8Wkmv-_G2uL0"
      },
      "source": [
        "Utiliser des fonctions imbriquées pour implémenter des décorateurs est probablement la première chose à laquelle nous penserions. Cela fonctionne bien dans la plupart des cas, mais comme vous l'avez peut-être remarqué, l'indentation continue de s'additionner, pour chaque nouvelle fonction que nous créons, donc cela pourrait rapidement conduire à trop de fonctions imbriquées. De plus, les fonctions étant sans état, les décorateurs écrits de cette manière ne contiendront pas nécessairement des données internes, contrairement aux objets.\n",
        "\n",
        "Il existe une manière différente d'implémenter les décorateurs, qui, au lieu d'utiliser des fonctions imbriquées, utilise des objets, comme nous l'explorons dans la section suivante."
      ]
    },
    {
      "cell_type": "markdown",
      "metadata": {
        "id": "BZ9tR6Zl3VtR"
      },
      "source": [
        "## Objets de décoration\n",
        "\n",
        "L'exemple précédent requiert trois niveaux de fonctions imbriquées. La première va être une fonction qui reçoit les paramètres du décorateur que nous voulons utiliser. A l'intérieur de cette fonction, le reste des fonctions sont des fermetures qui utilisent ces paramètres, ainsi que la logique du décorateur.\n",
        "\n",
        "\n",
        "Une implémentation plus propre de ceci serait d'utiliser une classe pour définir le décorateur. Dans ce cas, nous pouvons passer les paramètres dans la méthode __init__, puis implémenter la logique du décorateur sur la méthode magique nommée __call__.\n",
        "\n",
        "Le code du décorateur ressemblera à celui de l'exemple suivant :"
      ]
    },
    {
      "cell_type": "code",
      "metadata": {
        "id": "1NyIpMbs3wD6"
      },
      "source": [
        "from functools import wraps\n",
        "from typing import Optional, Sequence\n",
        "\n",
        "import logging\n",
        "logger = logging.getLogger(__name__)\n",
        "\n",
        "\n",
        "class ControlledException(Exception):\n",
        "    \"\"\"A generic exception on the program's domain.\"\"\"\n",
        "\n",
        "_DEFAULT_RETRIES_LIMIT = 3\n",
        "\n",
        "\n",
        "class WithRetry:\n",
        "    def __init__(\n",
        "        self,\n",
        "        retries_limit: int = _DEFAULT_RETRIES_LIMIT,\n",
        "        allowed_exceptions: Optional[Sequence[Exception]] = None,\n",
        "    ) -> None:\n",
        "        self.retries_limit = retries_limit\n",
        "        self.allowed_exceptions = allowed_exceptions or (ControlledException,)\n",
        "\n",
        "    def __call__(self, operation):\n",
        "        @wraps(operation)\n",
        "        def wrapped(*args, **kwargs):\n",
        "            last_raised = None\n",
        "            for _ in range(self.retries_limit):\n",
        "                try:\n",
        "                    return operation(*args, **kwargs)\n",
        "                except self.allowed_exceptions as e:\n",
        "                    logger.warning(\n",
        "                        \"retrying %s due to %s\", operation.__qualname__, e\n",
        "                    )\n",
        "                    last_raised = e\n",
        "            raise last_raised\n",
        "\n",
        "        return wrapped"
      ],
      "execution_count": null,
      "outputs": []
    },
    {
      "cell_type": "markdown",
      "metadata": {
        "id": "paHSyJDb4lzp"
      },
      "source": [
        "Et ce décorateur peut être appliqué à peu près comme le précédent, comme ceci :"
      ]
    },
    {
      "cell_type": "code",
      "metadata": {
        "id": "yaeH7Oc-4m0h"
      },
      "source": [
        "@WithRetry(retries_limit=5)\n",
        "def run_with_custom_retries_limit(task):    \n",
        "  return task.run()"
      ],
      "execution_count": null,
      "outputs": []
    },
    {
      "cell_type": "markdown",
      "metadata": {
        "id": "7p1HY2p04w_q"
      },
      "source": [
        "Il est important de noter comment la syntaxe Python prend effet ici. Tout d'abord, nous créons l'objet, donc avant que l'opération @ ne soit appliquée, l'objet est créé avec ses paramètres qui lui sont transmis. Cela créera un nouvel objet et l'initialisera avec ces paramètres, comme défini dans la méthode init. Après cela, l'opération @ est invoquée, donc cet objet enveloppera la fonction nommée run_with_custom_reries_limit, ce qui signifie qu'il sera passé à la méthode call magic\n",
        "\n",
        "À l'intérieur de cette méthode d'appel magique, nous avons défini la logique du décorateur comme nous le faisons normalement : nous enveloppons la fonction d'origine, en renvoyant une nouvelle avec la logique que nous voulons à la place"
      ]
    },
    {
      "cell_type": "markdown",
      "metadata": {
        "id": "HNzqFmYB5MTB"
      },
      "source": [
        "## Décorateurs avec des valeurs par défaut\n",
        "\n",
        "Dans l'exemple précédent, nous avons vu un décorateur qui prend des paramètres, mais ces arguments ont des valeurs par défaut. La façon dont les décorateurs précédents ont été écrits garantira qu'ils fonctionnent tant que les utilisateurs n'oublient pas les parenthèses pour effectuer l'appel de fonction lors de l'utilisation du décorateur.\n",
        "\n",
        "Par exemple, si nous voulions uniquement les valeurs par défaut, cela fonctionnerait :\n",
        "\n",
        "    @retry()\n",
        "    def my function(): ...\n",
        "\n",
        "Mais ce ne serait pas\n",
        "\n",
        "\n",
        "    @retrydef \n",
        "    my function(): ..."
      ]
    },
    {
      "cell_type": "markdown",
      "metadata": {
        "id": "uDkIH-PC50mi"
      },
      "source": [
        "Vous pourriez vous demander si cela est nécessaire et accepter (peut-être avec une documentation appropriée) que le premier exemple est la façon dont le décorateur est censé être utilisé, et le second est incorrect. Et ce serait bien, mais cela nécessite une attention particulière, sinon des erreurs d'exécution se produiront.\n",
        "\n",
        "Bien sûr, si le décorateur prend des paramètres qui n'ont pas de valeurs par défaut, alors la deuxième syntaxe n'a pas de sens, et il n'y a qu'une seule possibilité, qui pourrait rendre les choses plus simples.\n",
        "\n",
        "Alternativement, vous pouvez faire fonctionner le décorateur avec les deux syntaxes. Comme vous l'avez peut-être deviné, cela demande des efforts supplémentaires et, comme toujours, vous devez déterminer si cela en vaut la peine.\n",
        "\n",
        "Illustrons cela avec un exemple simple qui utilise un décorateur avec des paramètres pour injecter des arguments dans une fonction. Nous définissons une fonction qui prend deux paramètres, et un décorateur qui fait la même chose, et l'idée est d'appeler la fonction sans arguments et de la laisser fonctionner avec les paramètres passés par le décorateur :\n",
        "\n",
        "    @decorator(x=3, y=4)\n",
        "    def my_function(x, y):            \n",
        "        return x + y        \n",
        "      \n",
        "    my_function()\n",
        "\n",
        "\n",
        "Mais bien sûr, nous définissons des valeurs par défaut pour les arguments du décorateur, nous pouvons donc l'appeler sans valeurs. Et nous aimerions aussi l'appeler sans les parenthèses"
      ]
    },
    {
      "cell_type": "code",
      "metadata": {
        "id": "-zg-BU3o6dX7"
      },
      "source": [
        "from functools import wraps, partial\n",
        "\n",
        "DEFAULT_X = 1\n",
        "DEFAULT_Y = 2\n",
        "\n",
        "\n",
        "def decorator(function=None, *, x=DEFAULT_X, y=DEFAULT_Y):\n",
        "    if function is None:\n",
        "        return partial(\n",
        "            decorator, x=x, y=y\n",
        "        )  # also lambda f: decorator(f, x=x, y=y)\n",
        "\n",
        "    @wraps(function)\n",
        "    def wrapped():\n",
        "        return function(x, y)\n",
        "\n",
        "    return wrapped"
      ],
      "execution_count": null,
      "outputs": []
    },
    {
      "cell_type": "markdown",
      "metadata": {
        "id": "ZPq92oT87W6h"
      },
      "source": [
        "Notez quelque chose d'important à propos de la signature du décorateur : les paramètres sont des mots-clés uniquement. Cela simplifie beaucoup la dénition du décorateur car nous pouvons supposer que la fonction est None lorsqu'elle est appelée sans arguments (sinon, si nous devions passer les valeurs par position, le premier des paramètres que nous passerions serait confondu avec la fonction). Si nous voulions être plus prudents, au lieu d'utiliser None (ou n'importe quelle valeur sentinelle), nous pourrions inspecter le type de paramètre, affirmer un objet fonction du type attendu, puis déplacer les paramètres en conséquence, mais cela rendrait le décorateur beaucoup plus plus compliqué.\n",
        "\n",
        "Une autre alternative serait d'abstraire une partie du décorateur enveloppé, puis d'appliquer une application partielle de la fonction (en utilisant functools.partial). Pour mieux expliquer cela, prenons un état intermédiaire et utilisons une fonction lambda qui montre comment les paramètres du décorateur sont appliqués et comment les arguments du décorateur sont \"décalés\":"
      ]
    },
    {
      "cell_type": "code",
      "metadata": {
        "id": "mOKF9HvN71-a"
      },
      "source": [
        "def decorator(function=None, *, x=DEFAULT_X, y=DEFAULT_Y):    \n",
        "  if function is None:        \n",
        "    return lambda f: decorator(f, x=x, y=y)     \n",
        "  \n",
        "  @wraps(function)    \n",
        "    def wrapped():        \n",
        "      return function(x, y)     \n",
        "  \n",
        "  return wrapped"
      ],
      "execution_count": null,
      "outputs": []
    },
    {
      "cell_type": "markdown",
      "metadata": {
        "id": "tK2W4Vjk8Im-"
      },
      "source": [
        "Ceci est analogue à l'exemple précédent, dans le sens où nous avons la définition de la fonction encapsulée (comment elle est décorée). Ensuite, si aucune fonction n'est fournie, nous renvoyons une nouvelle fonction qui prend une fonction comme paramètre (f) et renvoie le décorateur avec cette fonction appliquée et le reste des paramètres liés. Ensuite, dans le deuxième appel récursif, la fonction existera et la fonction de décorateur régulière (encapsulée) sera renvoyée à la place\n",
        "\n",
        "vous pouvez obtenir le même résultat en changeant la définition lambda pour une application partielle de la fonction :\n",
        "\n",
        "    return partial(decorator, x=x, y=y)\n",
        "\n",
        "\n",
        "Si cela est trop complexe pour nos cas d'utilisation, nous pouvons toujours décider de faire en sorte que les paramètres de nos décorateurs prennent des valeurs obligatoires.\n",
        "\n",
        "Dans tous les cas, c'est probablement une bonne idée de dénir les paramètres des décorateurs comme étant uniquement des mots-clés (qu'ils aient des valeurs par défaut ou non). En effet, en général, lors de l'application d'un décorateur, il n'y a pas beaucoup de contexte sur ce que fait chaque valeur, et l'utilisation de valeurs positionnelles peut ne pas donner une expression très significative, il est donc préférable d'être plus expressif et de passer le nom de le paramètre avec la valeur.\n",
        "\n",
        "De même, si notre décorateur n'a pas l'intention de prendre des paramètres, et que nous voulons être explicites à ce sujet, nous pouvons utiliser la syntaxe que nous avons apprise au guide , Pythonic Code, pour définir la fonction que notre décorateur reçoit comme un simple seul paramètre. Pour notre premier exemple, la syntaxe serait.\n",
        "\n",
        "    def retry(operation, /): ...\n",
        "\n",
        "Mais gardez à l'esprit que ce n'est pas strictement recommandé, c'est juste un moyen de vous expliquer comment le décorateur est censé être invoqué."
      ]
    },
    {
      "cell_type": "markdown",
      "metadata": {
        "id": "sJ7dtztl0MkR"
      },
      "source": [
        "## Décorateurs de coroutines\n",
        "\n",
        "Comme expliqué dans l'introduction, puisque pratiquement tout en Python est un objet, alors à peu près tout peut être décoré, et cela inclut également les coroutines.\n",
        "\n",
        "Cependant, il y a une mise en garde ici, et c'est, comme expliqué dans les guides précédents, la programmation asynchrone en Python introduit quelques différences de syntaxe. Par conséquent, ces différences de syntaxe seront également transmises au décorateur.\n",
        "\n",
        "En termes simples, si nous devions écrire un décorateur pour une coroutine, nous pourrions simplement nous adapter à la nouvelle syntaxe (n'oubliez pas d'attendre la coroutine encapsulée et de définir l'objet encapsulé comme une coroutine elle-même, ce qui signifie que la fonction interne devra probablement utiliser 'async def' au lieu de simplement 'def').\n",
        "\n",
        "Le problème est si nous voulons avoir un décorateur largement applicable aux fonctions et aux coroutines. Dans la plupart des cas, créer deux décorateurs serait l'approche la plus simple (et peut-être la meilleure), mais si nous voulions exposer une interface plus simple pour nos utilisateurs (en ayant moins d'objets à retenir), nous pourrions créer un wrapper mince, agissant comme un répartiteur à deux décorateurs internes (non exposés). Ce serait comme créer une façade mais avec un décorateur.\n",
        "\n",
        "Il n'y a pas de règle générale sur la difficulté de créer un décorateur pour les fonctions et les coroutines, car cela dépend de la logique que nous voulons mettre dans le décorateur lui-même. Par exemple, dans le code ci-dessous, il y a un décorateur qui modifie les paramètres des fonctions qu'il reçoit, et cela fonctionnera aussi bien pour une fonction régulière que pour une coroutine :"
      ]
    },
    {
      "cell_type": "code",
      "metadata": {
        "id": "b5gqV9GO1js_"
      },
      "source": [
        "import inspect\n",
        "import asyncio\n",
        "from functools import wraps\n",
        "import time\n",
        "\n",
        "X, Y = 1, 2\n",
        "\n",
        "\n",
        "def decorator(callable):\n",
        "    \"\"\"Call <callable> with fixed values\"\"\"\n",
        "\n",
        "    @wraps(callable)\n",
        "    def wrapped():\n",
        "        return callable(X, Y)\n",
        "\n",
        "    return wrapped\n",
        "\n",
        "\n",
        "@decorator\n",
        "def func(x, y):\n",
        "    return x + y\n",
        "\n",
        "\n",
        "@decorator\n",
        "async def coro(x, y):\n",
        "    return x + y\n",
        "\n"
      ],
      "execution_count": null,
      "outputs": []
    },
    {
      "cell_type": "markdown",
      "metadata": {
        "id": "3vKUrAPv17ly"
      },
      "source": [
        "Il est cependant important de faire une distinction à propos de la coroutine. Le décorateur recevra la coroutine comme argument appelable, puis l'invoquera avec les paramètres. Cela crée l'objet coroutine (la tâche qui ira à la boucle d'événement), mais il ne l'attend pas, ce qui signifie que celui qui appelle wait coro() finira par attendre la coroutine résultant de ce que le décorateur a enveloppé. Cela signifie que, dans des cas simples comme celui-ci, nous n'avons pas besoin de remplacer la coroutine par une autre coroutine (bien que cela soit généralement recommandé).\n",
        "\n",
        "Mais encore une fois, cela dépend de ce que nous devons faire. Si nous avons besoin d'une fonction de synchronisation, nous devons attendre que la fonction ou la coroutine se termine pour mesurer le temps, et pour cela nous devrons appeler wait sur elle, ce qui signifie que l'objet wrapper devra à son tour être un coroutine (mais pas le décorateur principal, cependant)\n",
        "\n",
        "Le code ci-dessous illustre cet exemple à l'aide d'un décorateur qui décide de manière sélective comment envelopper la fonction d'appelant :"
      ]
    },
    {
      "cell_type": "code",
      "metadata": {
        "id": "Z9j6uTvC2j7n"
      },
      "source": [
        "def timing(callable):\n",
        "    @wraps(callable)\n",
        "    def wrapped(*args, **kwargs):\n",
        "        start = time.time()\n",
        "        result = callable(*args, **kwargs)\n",
        "        latency = time.time() - start\n",
        "        return {\"latency\": latency, \"result\": result}\n",
        "\n",
        "    @wraps(callable)\n",
        "    async def wrapped_coro(*args, **kwargs):\n",
        "        start = time.time()\n",
        "        result = await callable(*args, **kwargs)\n",
        "        latency = time.time() - start\n",
        "        return {\"latency\": latency, \"result\": result}\n",
        "\n",
        "    if inspect.iscoroutinefunction(callable):\n",
        "        return wrapped_coro\n",
        "\n",
        "    return wrapped\n",
        "\n",
        "\n",
        "@timing\n",
        "def func2():\n",
        "    time.sleep(0.1)\n",
        "    return 42\n",
        "\n",
        "\n",
        "@timing\n",
        "async def coro2():\n",
        "    await asyncio.sleep(0.1)\n",
        "    return 42"
      ],
      "execution_count": null,
      "outputs": []
    },
    {
      "cell_type": "markdown",
      "metadata": {
        "id": "55sxz-cT3Fqr"
      },
      "source": [
        "Le deuxième wrapper est requis pour les coroutines. Si nous ne l'avions pas, alors le code aurait deux problèmes. Premièrement, l'appel à callable (sans wait) n'attendrait pas la fin de l'opération, ce qui signifie que les résultats seraient incorrects. Et pire encore, la valeur de la clé de résultat sur le dictionnaire ne serait pas le résultat lui-même, mais la coroutine créée. En conséquence, la réponse serait un dictionnaire, et quiconque essaiera d'appeler cela essaiera d'attendre un dictionnaire, ce qui provoquera une erreur\n",
        "\n",
        "    En règle générale, il faut remplacer un objet décoré par un autre du même\n",
        "    genre, c'est-à-dire une fonction par une fonction, et une coroutine par une\n",
        "    autre coroutine.\n",
        "\n",
        "Nous devons encore étudier une dernière amélioration qui a été récemment ajoutée à Python, et elle lève certaines des restrictions que sa syntaxe avait"
      ]
    },
    {
      "cell_type": "markdown",
      "metadata": {
        "id": "Pkflo7yb4T1E"
      },
      "source": [
        "## Syntaxe étendue pour les décorateurs\n",
        "\n",
        "Python 3.9 a introduit une nouveauté pour les décorateurs, avec PEP-614 (https://www.python.org/dev/peps/pep-0614/), car une grammaire plus générale est autorisée. Avant cette amélioration, la syntaxe pour invoquer les décorateurs (après le @) était limitée à des expressions très limitées, et toutes les expressions Python n'étaient pas autorisées.\n",
        "\n",
        "Avec ces restrictions levées, nous pouvons maintenant écrire des expressions plus complexes et les utiliser dans nos décorateurs, si nous pensons que cela peut nous faire économiser quelques lignes de code (mais comme toujours, attention à ne pas trop compliquer et à obtenir un format plus compact mais beaucoup plus difficile -ligne à lire).\n",
        "\n",
        "À titre d'exemple, nous pouvons simplifier certaines des fonctions imbriquées que nous avons généralement pour un simple décorateur qui enregistre un appel de fonction avec ses paramètres. Ici (et à des fins d'illustration uniquement), j'ai remplacé les définitions de fonctions imbriquées, typiques des décorateurs, par deux expressions lambda :\n"
      ]
    },
    {
      "cell_type": "code",
      "metadata": {
        "id": "6pDOgNu-5MIy"
      },
      "source": [
        "def _log(f, *args, **kwargs):\n",
        "    print(f\"calling {f.__qualname__!r} with {args=} and {kwargs=}\")\n",
        "    return f(*args, **kwargs)\n",
        "\n",
        "\n",
        "@(lambda f: lambda *args, **kwargs: _log(f, *args, **kwargs))\n",
        "def func(x):\n",
        "    return x + 1"
      ],
      "execution_count": null,
      "outputs": []
    },
    {
      "cell_type": "markdown",
      "metadata": {
        "id": "v5HQ7wrU5cDY"
      },
      "source": [
        "Le document PEP cite quelques exemples pour lesquels cette fonctionnalité peut être utile (comme simplifier les fonctions no-op pour évaluer d'autres expressions, ou éviter l'utilisation de la fonction eval).\n",
        "\n",
        "La recommandation de ce guide pour cette fonctionnalité est cohérente avec tous les cas dans lesquels une instruction plus compacte peut être obtenue : écrivez la version la plus compacte du code tant que cela ne nuit pas à la lisibilité. Si l'expression du décorateur devient difficile à lire, préférez l'alternative plus verbeuse mais plus simple consistant à écrire deux ou plusieurs fonctions"
      ]
    },
    {
      "cell_type": "markdown",
      "metadata": {
        "id": "63k-4DNi6JKM"
      },
      "source": [
        "## Bons usages pour les décorateurs\n",
        "\n",
        "Dans cette section, nous examinerons quelques modèles courants qui font bon usage des décorateurs. Ce sont des situations courantes pour lesquelles les décorateurs sont un bon choix. Parmi toutes les innombrables applications pour lesquelles les décorateurs peuvent être utilisés, nous en énumérerons quelques-unes, les plus courantes ou les plus pertinentes : \n",
        "\n",
        "*  Paramètres de transformation : modifier la signature d'une fonction pour exposer une plus belle API, tout en encapsulant des détails sur la façon dont les paramètres sont traités et transformés en dessous. Il faut être prudent avec cette utilisation des décorateurs, car ce n'est un bon trait que lorsqu'il est intentionnel. Cela signifie que si nous utilisons explicitement des décorateurs pour fournir une bonne signature pour des fonctions qui en avaient une plutôt alambiquée, alors c'est un excellent moyen d'obtenir un code plus propre au moyen de décorateurs. Si, d'un autre côté, la signature d'une fonction a changé par inadvertance à cause d'un décorateur, alors c'est quelque chose que nous voudrions éviter (et nous verrons comment vers la fin du chapitre).\n",
        "\n",
        "* Traçage du code : enregistrement de l'exécution de une fonction avec ses paramètres. Vous connaissez peut-être plusieurs bibliothèques qui offrent des capacités de traçage et exposent souvent des fonctionnalités telles que des décorateurs à ajouter à nos fonctions. C'est une belle abstraction et une bonne interface à fournir, comme moyen d'intégrer le code avec des parties externes sans trop de perturbations. De plus, c'est une excellente source d'inspiration, nous pouvons donc écrire notre propre fonctionnalité de journalisation ou de traçage en tant que décorateurs. \n",
        "\n",
        "* Paramètres de validation : les décorateurs peuvent être utilisés pour valider les types de paramètres (par rapport aux valeurs attendues ou à leurs annotations, par exemple) de manière transparente . Avec l'utilisation de décorateurs, nous pourrions appliquer des conditions préalables pour nos abstractions, en suivant les idées de la conception par contrat.\n",
        "\n",
        "* Implémentation des opérations de nouvelle tentative : d'une manière similaire à l'exemple que nous avons exploré dans la section précédente.\n",
        "\n",
        "* Simplifier les classes en déplaçant certaines ( répétitive) en décorateurs : Ceci est lié au principe DRY, que nous reviendrons vers la fin du guide.\n",
        "\n",
        "Dans les sections suivantes, j'aborderai certains de ces sujets plus en détail"
      ]
    },
    {
      "cell_type": "markdown",
      "metadata": {
        "id": "vCLeTu_S_3Yh"
      },
      "source": [
        "## Adaptation des signatures de fonction\n",
        "\n",
        "Dans la conception orientée objet, il arrive parfois que des objets avec différentes interfaces doivent interagir. Une solution à ce problème est le modèle de conception d'adaptateur, dont nous discuterons au guide 7, Générateurs, itérateurs et programmation asynchrone, lorsque nous passerons en revue certains des principaux modèles de conception.\n",
        "\n",
        "Le sujet de cette section est cependant similaire, dans le sens où nous devons parfois adapter non pas des objets, mais des signatures de fonctions.\n",
        "\n",
        "\n",
        "Imaginez un scénario dans lequel vous travaillez avec du code hérité, et il y a un module qui contient beaucoup de fonctions définies avec une signature complexe (beaucoup de paramètres, passe-partout, etc.). Ce serait bien d'avoir une interface plus propre pour interagir avec ces définitions mais changer beaucoup de fonctions implique un refactor majeur.\n",
        "\n",
        "Nous pouvons utiliser des décorateurs pour minimiser les différences dans les changements.\n",
        "\n",
        "\n",
        "Parfois, nous pouvons utiliser des décorateurs comme adaptateur entre notre code et un framework que nous utilisons, si, par exemple, ce framework a les considérations susmentionnées.\n",
        "\n",
        "imaginez le cas d'un framework qui s'attend à appeler des fonctions définies par nous, en maintenant une certaine interface :\n",
        "\n",
        "    def resolver_function(root, args, context, info): ...\n",
        "\n",
        "\n",
        "Maintenant, nous avons cette signature partout et décidons qu'il est préférable pour nous de créer une abstraction à partir de tous ces paramètres qui les encapsule et expose le comportement dont nous avons besoin dans notre application.\n",
        "\n",
        "Alors maintenant, nous avons beaucoup de fonctions dont la première ligne répète le passe-partout consistant à créer le même objet encore et encore, puis le reste de la fonction n'interagit qu'avec notre objet de domaine:\n",
        "\n",
        "    def resolver_function(root, args, context, info):    \n",
        "      helper = DomainObject(root, args, context, info)    \n",
        "      ...    \n",
        "      helper.process()\n",
        "\n",
        "\n",
        "Dans cet exemple, nous pourrions avoir un décorateur changeant la signature de la fonction, afin que nous puissions écrire nos fonctions en supposant que l'objet assistant est passé directement. Dans ce cas, la tâche du décorateur serait d'intercepter les paramètres d'origine, de créer l'objet domaine, puis de passer l'objet assistant à notre fonction. Nous définissons ensuite nos fonctions en supposant que nous ne recevons que l'objet dont nous avons besoin, déjà initialisé.\n",
        "\n",
        "A savoir, nous aimerions écrire notre code sous cette forme :\n",
        "\n",
        "    @DomainArgsdef \n",
        "    resolver_function(helper):    \n",
        "      helper.process()   \n",
        "        ...\n",
        "\n",
        "\n",
        "Cela fonctionne également dans l'autre sens, par exemple, si le code hérité que nous avons est celui qui prend trop de paramètres et que nous déconstruisons toujours un objet déjà créé, car refactoriser le code hérité serait risqué, alors nous pouvons le faire celle avec un décorateur comme couche intermédiaire.\n",
        "\n",
        "\n",
        "L'idée est que cette utilisation de décorateurs peut vous aider à écrire des fonctions avec des signatures plus simples et plus compactes."
      ]
    },
    {
      "cell_type": "markdown",
      "metadata": {
        "id": "6o2rxAoaDI6I"
      },
      "source": [
        "## Validation des paramètres\n",
        "\n",
        "Nous avons déjà mentionné que les décorateurs peuvent être utilisés pour valider des paramètres (et même appliquer certaines conditions préalables ou post-conditions sous l'idée de Design by Contract (DbC)), donc à partir de là, vous avez probablement l'idée qu'il est assez courant d'utiliser des décorateurs lors du traitement ou de la manipulation de paramètres.\n",
        "\n",
        "\n",
        "En particulier, il existe des cas où nous nous retrouvons à créer à plusieurs reprises des objets similaires ou à appliquer des transformations similaires que nous souhaiterions faire abstraction. La plupart du temps, nous pouvons y parvenir en utilisant simplement un décorateur."
      ]
    },
    {
      "cell_type": "markdown",
      "metadata": {
        "id": "I53rjArgDgoY"
      },
      "source": [
        "## Code de traçage\n",
        "\n",
        "Lorsque nous parlerons de traçage dans cette section, nous ferons référence à quelque chose de plus général qui concerne l'exécution d'une fonction que nous souhaitons surveiller. Cela peut faire référence à des scénarios dans lesquels nous souhaitons :\n",
        "\n",
        "*  Tracer l'exécution d'une fonction (par exemple, en enregistrant les lignes qu'elle exécute)\n",
        "\n",
        "*  Surveiller certaines métriques sur une fonction (telles que l'utilisation du processeur ou l'empreinte mémoire)\n",
        "\n",
        "* Mesurer le temps d'exécution d'une fonction\n",
        "\n",
        "* Journal lorsqu'une fonction a été appelée et les paramètres qui lui ont été transmis.\n",
        "\n",
        "Dans la section suivante, nous explorerons un exemple simple d'un décorateur qui enregistre l'exécution d'une fonction, y compris son nom et le temps qu'il a fallu pour s'exécuter."
      ]
    },
    {
      "cell_type": "markdown",
      "metadata": {
        "id": "dys7stagEC7_"
      },
      "source": [
        "## Décorateurs efficaces – éviter les erreurs courantes\n",
        "\n",
        "Bien que les décorateurs soient une fonctionnalité intéressante de Python, ils ne sont pas exempts de problèmes s'ils sont mal utilisés. Dans cette section, nous verrons quelques problèmes courants à éviter afin de créer des décorateurs efficaces."
      ]
    },
    {
      "cell_type": "markdown",
      "metadata": {
        "id": "koNnyFIgERcz"
      },
      "source": [
        "## Préservation des données sur l'objet enveloppé d'origine\n",
        "\n",
        "L'un des problèmes les plus courants lors de l'application d'un décorateur à une fonction est que certaines des propriétés ou attributs de la fonction d'origine ne sont pas conservés, ce qui entraîne des effets secondaires indésirables et difficiles à suivre.\n",
        "\n",
        "Pour illustrer cela, nous montrons un décorateur qui est en charge de la journalisation lorsque la fonction est sur le point de s'exécuter :"
      ]
    },
    {
      "cell_type": "code",
      "metadata": {
        "colab": {
          "base_uri": "https://localhost:8080/"
        },
        "id": "3vj57SbrE5ew",
        "outputId": "2d57a604-26cd-46d0-891f-162b1f9a1cd2"
      },
      "source": [
        "!pip install log"
      ],
      "execution_count": 2,
      "outputs": [
        {
          "output_type": "stream",
          "name": "stdout",
          "text": [
            "\u001b[31mERROR: Could not find a version that satisfies the requirement log (from versions: none)\u001b[0m\n",
            "\u001b[31mERROR: No matching distribution found for log\u001b[0m\n"
          ]
        }
      ]
    },
    {
      "cell_type": "code",
      "metadata": {
        "id": "pFxoJbNCExWi"
      },
      "source": [
        "import logging\n",
        "logger = logging.getLogger(__name__)\n",
        "\n",
        "\n",
        "def trace_decorator(function):\n",
        "    def wrapped(*args, **kwargs):\n",
        "        logger.info(\"running %s\", function.__qualname__)\n",
        "        return function(*args, **kwargs)\n",
        "\n",
        "    return wrapped"
      ],
      "execution_count": 3,
      "outputs": []
    },
    {
      "cell_type": "markdown",
      "metadata": {
        "id": "MOno3EVTFsgh"
      },
      "source": [
        "Maintenant, imaginons que nous ayons une fonction avec ce décorateur qui lui est appliqué. On pourrait d'abord penser que rien de cette fonction n'est modifié par rapport à sa dénition d'origine :\n",
        "\n",
        "    @trace_decoratordef \n",
        "    process_account(account_id: str):    \n",
        "        \"\"\"Process an account by Id.\"\"\"    \n",
        "        logger.info(\"processing account %s\", account_id)    \n",
        "        ...\n",
        "\n",
        "\n",
        "Mais peut-être qu'il y a des changements.\n",
        "\n",
        "\n",
        "Le décorateur n'est pas censé modifier quoi que ce soit par rapport à la fonction d'origine, mais il s'avère que, puisqu'il contient une faille, il modifie en fait son nom et sa docstring, entre autres propriétés.\n",
        "\n",
        "\n",
        "Essayons d'obtenir de l'aide pour cette fonction :"
      ]
    },
    {
      "cell_type": "code",
      "metadata": {
        "id": "RBIxDpdcGYJn"
      },
      "source": [
        "@trace_decorator\n",
        "def process_account(account_id: str):\n",
        "    \"\"\"Process an account by Id.\"\"\"\n",
        "    logger.info(\"processing account %s\", account_id)\n",
        "    ..."
      ],
      "execution_count": 4,
      "outputs": []
    },
    {
      "cell_type": "code",
      "metadata": {
        "colab": {
          "base_uri": "https://localhost:8080/"
        },
        "id": "W_EdUb_ZGUAS",
        "outputId": "080001d6-db60-4274-f261-a6ab03a07436"
      },
      "source": [
        "help(process_account)"
      ],
      "execution_count": 5,
      "outputs": [
        {
          "output_type": "stream",
          "name": "stdout",
          "text": [
            "Help on function wrapped in module __main__:\n",
            "\n",
            "wrapped(*args, **kwargs)\n",
            "\n"
          ]
        }
      ]
    },
    {
      "cell_type": "markdown",
      "metadata": {
        "id": "KpR1jKtVGoGA"
      },
      "source": [
        "Et regardons comment ça s'appelle :"
      ]
    },
    {
      "cell_type": "code",
      "metadata": {
        "colab": {
          "base_uri": "https://localhost:8080/",
          "height": 35
        },
        "id": "b9EGCqYbGrs_",
        "outputId": "cf734745-0946-4c32-d40f-c047e550ae6c"
      },
      "source": [
        "process_account.__qualname__"
      ],
      "execution_count": 6,
      "outputs": [
        {
          "output_type": "execute_result",
          "data": {
            "application/vnd.google.colaboratory.intrinsic+json": {
              "type": "string"
            },
            "text/plain": [
              "'trace_decorator.<locals>.wrapped'"
            ]
          },
          "metadata": {},
          "execution_count": 6
        }
      ]
    },
    {
      "cell_type": "markdown",
      "metadata": {
        "id": "SiTP60VDGyO6"
      },
      "source": [
        "Et aussi, les annotations pour la fonction d'origine ont été perdues :"
      ]
    },
    {
      "cell_type": "code",
      "metadata": {
        "colab": {
          "base_uri": "https://localhost:8080/"
        },
        "id": "MI4bJSNZGyzt",
        "outputId": "7f2d8091-f0f6-47ed-b031-8335d3ba3a0a"
      },
      "source": [
        "process_account.__annotations__"
      ],
      "execution_count": 7,
      "outputs": [
        {
          "output_type": "execute_result",
          "data": {
            "text/plain": [
              "{}"
            ]
          },
          "metadata": {},
          "execution_count": 7
        }
      ]
    },
    {
      "cell_type": "markdown",
      "metadata": {
        "id": "HzS0dwSBHEgj"
      },
      "source": [
        "Nous pouvons voir que, puisque le décorateur change en fait la fonction d'origine pour une nouvelle (appelée encapsulée), ce que nous voyons en fait, ce sont les propriétés de cette fonction au lieu de celles de la fonction d'origine.\n",
        "\n",
        "If we apply a decorator like this one to multiple functions, all with different names, they will all end up being called wrapped, which is a major concern (for example, if we want to log or trace the function, this will make debugging even harder).\n",
        "\n",
        "Si nous appliquons un décorateur comme celui-ci à plusieurs fonctions, toutes avec des noms différents, elles finiront toutes par être appelées encapsulées, ce qui est une préoccupation majeure (par exemple, si nous voulons journaliser ou tracer la fonction, cela rendra le débogage même Plus fort).\n",
        "\n",
        "\n",
        "\n",
        "Un autre problème est que si nous placions des docstrings avec des tests sur ces fonctions, elles seraient remplacées par celles du décorateur. En conséquence, les docstrings avec le test que nous voulons ne s'exécuteront pas lorsque nous appelons notre code avec le module doctest (comme nous l'avons vu au guide 1, Introduction, Formatage du code et Outils).\n",
        "\n",
        "La solution est simple, cependant. Il suffit d'appliquer le décorateur wraps dans la fonction interne (wrapped), en lui disant qu'il s'agit en fait d'une fonction wrapping :"
      ]
    },
    {
      "cell_type": "code",
      "metadata": {
        "id": "iBgv1kS-H3if"
      },
      "source": [
        "from functools import wraps\n",
        "\n",
        "def trace_decorator(function):\n",
        "    \"\"\"Log when a function is being called.\"\"\"\n",
        "\n",
        "    @wraps(function)\n",
        "    def wrapped(*args, **kwargs):\n",
        "        logger.info(\"running %s\", function.__qualname__)\n",
        "        return function(*args, **kwargs)\n",
        "\n",
        "    return wrapped\n",
        "\n",
        "\n",
        "@trace_decorator\n",
        "def process_account(account_id: str):\n",
        "    \"\"\"Process an account by Id.\"\"\"\n",
        "    logger.info(\"processing account %s\", account_id)\n",
        "    ...\n"
      ],
      "execution_count": 8,
      "outputs": []
    },
    {
      "cell_type": "markdown",
      "metadata": {
        "id": "MFohSPcpIBdB"
      },
      "source": [
        "Maintenant, si nous vérifions les propriétés, nous obtiendrons ce que nous attendions en premier lieu. Consultez l'aide pour la fonction, comme ceci"
      ]
    },
    {
      "cell_type": "code",
      "metadata": {
        "colab": {
          "base_uri": "https://localhost:8080/"
        },
        "id": "xmyodXbpIDcX",
        "outputId": "7940b428-3b0c-49f5-e2f9-94085a9dbd0f"
      },
      "source": [
        "help(process_account)"
      ],
      "execution_count": 9,
      "outputs": [
        {
          "output_type": "stream",
          "name": "stdout",
          "text": [
            "Help on function process_account in module __main__:\n",
            "\n",
            "process_account(account_id: str)\n",
            "    Process an account by Id.\n",
            "\n"
          ]
        }
      ]
    },
    {
      "cell_type": "code",
      "metadata": {
        "colab": {
          "base_uri": "https://localhost:8080/",
          "height": 35
        },
        "id": "UmILo6TyIKv0",
        "outputId": "5dc0a94a-01a3-4167-f53c-d043d2ed4e23"
      },
      "source": [
        "process_account.__qualname__"
      ],
      "execution_count": 10,
      "outputs": [
        {
          "output_type": "execute_result",
          "data": {
            "application/vnd.google.colaboratory.intrinsic+json": {
              "type": "string"
            },
            "text/plain": [
              "'process_account'"
            ]
          },
          "metadata": {},
          "execution_count": 10
        }
      ]
    },
    {
      "cell_type": "markdown",
      "metadata": {
        "id": "3k7k6eq8IQ_g"
      },
      "source": [
        "Surtout, nous avons récupéré les tests unitaires que nous aurions pu avoir sur les docstrings ! En utilisant le décorateur wraps, nous pouvons également accéder à la fonction originale non modifiée sous l'attribut __wrapped__. Bien qu'il ne doive pas être utilisé en production, il peut être utile dans certains tests unitaires lorsque nous voulons vérifier la version non modifiée de la fonction.\n",
        "\n",
        "En général, pour les décorateurs simples, la façon dont nous utiliserions functools.wraps suivrait généralement la formule ou la structure générale suivante :"
      ]
    },
    {
      "cell_type": "code",
      "metadata": {
        "id": "-6M9uAf0IgBd"
      },
      "source": [
        "def decorator(original_function):\n",
        "    @wraps(original_function)\n",
        "    def decorated_function(*args, **kwargs):\n",
        "        # modifications done by the decorator ...\n",
        "        return original_function(*args, **kwargs)\n",
        "\n",
        "    return decorated_function"
      ],
      "execution_count": 11,
      "outputs": []
    },
    {
      "cell_type": "markdown",
      "metadata": {
        "id": "RWB3AAZcIrSP"
      },
      "source": [
        "## Gérer les effets secondaires chez les décorateurs\n",
        "\n",
        "Dans cette section, nous apprendrons qu'il est conseillé d'éviter les effets secondaires dans le corps du décorateur. Il y a des cas où cela pourrait être acceptable, mais l'essentiel est qu'en cas de doute, décidez de ne pas le faire, pour les raisons qui sont expliquées plus loin. Tout ce que le décorateur doit faire en dehors de la fonction qu'il décore doit être placé dans la définition de fonction la plus interne, sinon il y aura des problèmes lors de l'importation. Néanmoins, ces effets secondaires sont parfois nécessaires (ou même souhaités) pour s'exécuter au moment de l'importation, et l'avers s'applique.\n",
        "\n",
        "\n",
        "Nous verrons des exemples des deux, et où chacun s'applique. En cas de doute, faites preuve de prudence et retardez tous les effets secondaires jusqu'au tout dernier moment, juste après l'appel de la fonction encapsulée.\n",
        "\n",
        "Ensuite, nous verrons quand ce n'est pas une bonne idée de placer une logique supplémentaire en dehors de la fonction encapsulée."
      ]
    },
    {
      "cell_type": "markdown",
      "metadata": {
        "id": "92H3ZCaLJN0E"
      },
      "source": [
        "## Mauvaise gestion des effets secondaires dans un décorateur\n",
        "\n",
        "Imaginons le cas d'un décorateur qui a été créé dans le but de se connecter lorsqu'une fonction a commencé à s'exécuter, puis de consigner son temps d'exécution :"
      ]
    },
    {
      "cell_type": "code",
      "metadata": {
        "id": "L2vn3fWAJopZ"
      },
      "source": [
        "def traced_function_wrong(function):\n",
        "    \"\"\"An example of a badly defined decorator.\"\"\"\n",
        "    logger.info(\"started execution of %s\", function)\n",
        "    start_time = time.time()\n",
        "\n",
        "    @wraps(function)\n",
        "    def wrapped(*args, **kwargs):\n",
        "        result = function(*args, **kwargs)\n",
        "        logger.info(\n",
        "            \"function %s took %.2fs\", function, time.time() - start_time\n",
        "        )\n",
        "        return result\n",
        "\n",
        "    return wrapped\n"
      ],
      "execution_count": null,
      "outputs": []
    },
    {
      "cell_type": "markdown",
      "metadata": {
        "id": "iMikJu4wJ0CQ"
      },
      "source": [
        "Maintenant, nous allons appliquer le décorateur à une fonction régulière, en pensant que cela fonctionnera juste :"
      ]
    },
    {
      "cell_type": "code",
      "metadata": {
        "id": "yMPov9M2J7eo"
      },
      "source": [
        "import time\n",
        "\n",
        "@traced_function_wrong\n",
        "def process_with_delay(callback, delay=0):\n",
        "    logger.info(\"sleep(%d)\", delay)\n",
        "    return callback"
      ],
      "execution_count": null,
      "outputs": []
    },
    {
      "cell_type": "markdown",
      "metadata": {
        "id": "_JO0VjLxKelE"
      },
      "source": [
        "Ce décorateur contient un bogue subtil mais critique. Tout d'abord, importons la fonction, appelons-la plusieurs fois et voyons ce qui se passe :\n",
        "\n",
        "\n",
        "    >>> from decorator_side_effects_1 import process_with_delay\n",
        "    INFO:started execution of <function process_with_delay at 0x...>\n",
        "\n",
        "Juste en important la fonction, nous remarquerons que quelque chose ne va pas. La ligne de journalisation ne devrait pas être là, car la fonction n'a pas été invoquée.\n",
        "\n",
        "Maintenant, que se passe-t-il si nous exécutons la fonction et voyons combien de temps cela prend pour s'exécuter ? En fait, nous nous attendrions à ce que le fait d'appeler plusieurs fois la même fonction donne des résultats similaires :\n",
        "\n",
        "\n",
        "    >>> main()\n",
        "    ...\n",
        "    INFO:function <function process_with_delay at 0x> took 8.67s\n",
        "\n",
        "    >>> main()\n",
        "    ...\n",
        "    INFO:function <function process_with_delay at 0x> took 13.39s\n",
        "    \n",
        "    >>> main()\n",
        "    ...\n",
        "    INFO:function <function process_with_delay at 0x> took 17.01s\n",
        "\n",
        "\n",
        "Chaque fois que nous exécutons la même fonction, cela prend de plus en plus de temps ! À ce stade, vous avez probablement déjà remarqué l'erreur (maintenant évidente)\n",
        "\n",
        "Rappelez-vous la syntaxe pour les décorateurs. @traced_function_wrong signifie en fait ce qui suit :\n",
        "\n",
        "    process_with_delay = traced_function_wrong(process_with_delay)\n",
        "\n",
        "Et cela fonctionnera lorsque le module sera importé. Par conséquent, l'heure qui est définie dans la fonction sera l'heure à laquelle le module a été importé. Les appels successifs calculeront la différence de temps entre l'heure d'exécution et l'heure de début d'origine. Il se connectera également au mauvais moment, et non au moment où la fonction est réellement appelée.\n",
        "\n",
        "\n",
        "Heureusement, le correctif est également très simple : il suffit de déplacer le code à l'intérieur de la fonction encapsulée afin de retarder son exécution :"
      ]
    },
    {
      "cell_type": "code",
      "metadata": {
        "id": "0WXzwCywMWw-"
      },
      "source": [
        "def traced_function(function):\n",
        "    @wraps(function)\n",
        "    def wrapped(*args, **kwargs):\n",
        "        logger.info(\"started execution of %s\", function)\n",
        "        start_time = time.time()\n",
        "        result = function(*args, **kwargs)\n",
        "        logger.info(\n",
        "            \"function %s took %.2fs\", function, time.time() - start_time\n",
        "        )\n",
        "        return result\n",
        "\n",
        "    return wrapped\n",
        "\n",
        "\n",
        "@traced_function\n",
        "def call_with_delay(callback, delay=0):\n",
        "    logger.info(\"sleep(%d)\", delay)\n",
        "    return callback"
      ],
      "execution_count": null,
      "outputs": []
    },
    {
      "cell_type": "markdown",
      "metadata": {
        "id": "VGnLq9I3Mb7B"
      },
      "source": [
        "Avec cette nouvelle version, les problèmes précédents sont résolus.\n",
        "\n",
        "\n",
        "Si les actions du décorateur avaient été différentes, les résultats auraient pu être bien plus désastreux. Par exemple, si cela nécessite que vous enregistriez les événements et que vous les envoyiez à un service externe, cela échouera certainement à moins que la configuration n'ait été exécutée juste avant son importation, ce que nous ne pouvons garantir. Même si nous le pouvions, ce serait une mauvaise pratique. La même chose s'applique si le décorateur a tout autre type d'effet secondaire, comme la lecture d'un fichier, l'analyse d'une configuration, et bien d'autres."
      ]
    },
    {
      "cell_type": "markdown",
      "metadata": {
        "id": "YibA7TIiNJJ5"
      },
      "source": [
        "## Exiger des décorateurs avec des effets secondaires\n",
        "\n",
        "Parfois, des effets secondaires sur les décorateurs sont nécessaires, et nous ne devrions pas retarder leur exécution jusqu'à la dernière minute possible, car cela fait partie du mécanisme qui leur est nécessaire pour fonctionner.\n",
        "\n",
        "Un scénario courant lorsque nous ne voulons pas retarder l'effet secondaire des décorateurs est lorsque nous devons enregistrer des objets dans un registre public qui sera disponible dans le module.\n",
        "\n",
        "Par exemple, en revenant à notre exemple de système d'événements précédent, nous voulons maintenant rendre uniquement certains événements disponibles dans le module, mais pas tous. Dans la hiérarchie des événements, nous pourrions vouloir avoir des classes intermédiaires qui ne sont pas des événements réels que nous voulons traiter sur le système, mais à la place certaines de leurs classes dérivées.\n",
        "\n",
        "\n",
        "Au lieu de marquer chaque classe selon qu'elle sera traitée ou non, nous pourrions explicitement enregistrer chaque classe via un décorateur. Dans ce cas, nous avons une classe pour tous les événements liés aux activités d'un utilisateur. Cependant, il ne s'agit que d'une table intermédiaire pour les types d'événements que nous voulons réellement, à savoir UserLoginEvent et UserLogoutEvent :"
      ]
    },
    {
      "cell_type": "code",
      "metadata": {
        "id": "0EDDaFCUOFCz"
      },
      "source": [
        "EVENTS_REGISTRY = {}\n",
        "\n",
        "\n",
        "def register_event(event_cls):\n",
        "    \"\"\"Place the class for the event into the registry to make it accessible in\n",
        "    the module.\n",
        "    \"\"\"\n",
        "    EVENTS_REGISTRY[event_cls.__name__] = event_cls\n",
        "    return event_cls\n",
        "\n",
        "\n",
        "class Event:\n",
        "    \"\"\"A base event object\"\"\"\n",
        "\n",
        "\n",
        "class UserEvent:\n",
        "    TYPE = \"user\"\n",
        "\n",
        "\n",
        "@register_event\n",
        "class UserLoginEvent(UserEvent):\n",
        "    \"\"\"Represents the event of a user when it has just accessed the system.\"\"\"\n",
        "\n",
        "\n",
        "@register_event\n",
        "class UserLogoutEvent(UserEvent):\n",
        "    \"\"\"Event triggered right after a user abandoned the system.\"\"\""
      ],
      "execution_count": null,
      "outputs": []
    },
    {
      "cell_type": "markdown",
      "metadata": {
        "id": "VpB0sW5zOSfO"
      },
      "source": [
        "Lorsque nous regardons le code précédent, il semble que EVENTS_REGISTRY soit vide, mais après avoir importé quelque chose de ce module, il sera rempli avec toutes les classes qui se trouvent sous le décorateur register_event :\n",
        "\n",
        "    >>> from decorator_side_effects_2 import EVENTS_REGISTRY\n",
        "    \n",
        "    >>> EVENTS_REGISTRY\n",
        "    \n",
        "    {'UserLoginEvent': decorator_side_effects_2.UserLoginEvent, 'UserLogoutEvent': decorator_side_effects_2.UserLogoutEvent}\n",
        "\n",
        "\n",
        "Cela peut sembler difficile à lire, voire trompeur, car EVENTS_REGISTRY aura sa valeur finale au moment de l'exécution, juste après l'importation du module, et nous ne pouvons pas facilement prédire sa valeur en regardant simplement le code.\n",
        "\n",
        "\n",
        "Bien que cela soit vrai, dans certains cas, ce modèle est justifié. En fait, de nombreux frameworks Web ou bibliothèques bien connues l'utilisent pour travailler et exposer des objets ou les rendre disponibles. Cela dit, soyez conscient de ce risque, si vous mettez en œuvre quelque chose de similaire dans vos propres projets : la plupart du temps, une solution alternative serait préférable. \n",
        "\n",
        "Il est également vrai que dans ce cas, le décorateur ne change pas l'objet emballé. ou modifier la façon dont il fonctionne de quelque façon que ce soit. Cependant, la note importante ici est que si nous devions faire quelques modifications et définir une fonction interne qui modifie l'objet encapsulé, nous voudrions probablement toujours le code qui enregistre l'objet résultant en dehors de celui-ci. Remarquez l'utilisation du mot dehors. Cela ne veut pas nécessairement dire avant, cela ne fait tout simplement pas partie de la même fermeture; mais c'est dans la portée extérieure, donc ce n'est pas retardé jusqu'à l'exécution"
      ]
    },
    {
      "cell_type": "markdown",
      "metadata": {
        "id": "efBng_nePM59"
      },
      "source": [
        "## Créer des décorateurs qui fonctionneront toujours\n",
        "\n",
        "Il existe plusieurs scénarios différents auxquels les décorateurs peuvent s'appliquer. Il peut également arriver que nous ayons besoin d'utiliser le même décorateur pour des objets qui entrent dans ces différents scénarios multiples, par exemple, si nous voulons réutiliser notre décorateur et l'appliquer à une fonction, une classe, une méthode ou un static méthode.\n",
        "\n",
        "Si nous créons le décorateur, en pensant simplement à ne prendre en charge que le premier type d'objet que nous voulons décorer, nous pourrions remarquer que le même décorateur ne fonctionne pas aussi bien sur un type d'objet différent. Un exemple typique est celui où nous créons un décorateur à utiliser sur une fonction, puis nous voulons l'appliquer à une méthode d'une classe, seulement pour réaliser que cela ne fonctionne pas. Un scénario similaire peut se produire si nous concevons notre décorateur pour une méthode, et que nous souhaitons ensuite qu'il s'applique également aux méthodes statiques ou aux méthodes de classe.\n",
        "\n",
        "\n",
        "Lors de la conception des décorateurs, nous pensons généralement à la réutilisation du code, nous voudrons donc également utiliser ce décorateur pour les fonctions et les méthodes.Définir nos décorateurs avec la signature *args et **kwargs les fera fonctionner dans tous les cas car c'est le type de signature le plus générique que nous puissions avoir. Cependant, nous pouvons parfois vouloir ne pas l'utiliser et définir à la place la fonction d'emballage du décorateur en fonction de la signature de la fonction d'origine, principalement pour deux raisons : \n",
        "\n",
        "*  Elle sera plus lisible car elle ressemble à la fonction d'origine.\n",
        "\n",
        "*  Il doit en fait faire quelque chose avec les arguments, donc recevoir *args et **kwargs ne serait pas pratique.\n",
        "\n",
        "Considérons le cas dans lequel nous avons de nombreuses fonctions dans notre base de code qui nécessitent la création d'un objet particulier à partir d'un paramètre. Par exemple, nous passons une chaîne et initialisons un objet pilote avec elle, à plusieurs reprises. Ensuite on pense pouvoir supprimer la duplication en utilisant un décorateur qui se chargera de convertir ce paramètre en conséquence.\n",
        "\n",
        "Dans l'exemple suivant, nous prétendons que DBDriver est un objet qui sait comment se connecter et exécuter des opérations sur une base de données, mais il a besoin d'une chaîne de connexion. Les méthodes que nous avons dans notre code sont conçues pour recevoir une chaîne avec les informations de la base de données et nous obligent à toujours créer une instance de DBDriver. L'idée du décorateur est qu'il va prendre la place de cette conversion automatiquement - la fonction continuera à recevoir une chaîne, mais le décorateur créera un DBDriver et le transmettra à la fonction, donc en interne nous pouvons supposer que nous recevons le objet dont nous avons besoin directement.\n",
        "\n",
        "Un exemple d'utilisation de ceci dans une fonction est montré dans la liste suivante :"
      ]
    },
    {
      "cell_type": "code",
      "metadata": {
        "id": "DvsV-r-kYjfJ"
      },
      "source": [
        "from functools import wraps\n",
        "\n",
        "import logging\n",
        "logger = logging.getLogger(__name__)\n",
        "\n",
        "\n",
        "class DBDriver:\n",
        "    def __init__(self, dbstring: str) -> None:\n",
        "        self.dbstring = dbstring\n",
        "\n",
        "    def execute(self, query: str) -> str:\n",
        "        return f\"query {query} at {self.dbstring}\"\n",
        "\n",
        "\n",
        "def inject_db_driver(function):\n",
        "    \"\"\"This decorator converts the parameter by creating a ``DBDriver``\n",
        "    instance from the database dsn string.\n",
        "    \"\"\"\n",
        "\n",
        "    @wraps(function)\n",
        "    def wrapped(dbstring):\n",
        "        return function(DBDriver(dbstring))\n",
        "\n",
        "    return wrapped\n",
        "\n",
        "\n",
        "@inject_db_driver\n",
        "def run_query(driver):\n",
        "    return driver.execute(\"test_function\")\n"
      ],
      "execution_count": 12,
      "outputs": []
    },
    {
      "cell_type": "markdown",
      "metadata": {
        "id": "EmYIKkRd5TYa"
      },
      "source": [
        "Il est facile de vérifier que si nous passons une chaîne à la fonction, nous obtenons le résultat par une instance de DBDriver, donc le décorateur fonctionne comme prévu :"
      ]
    },
    {
      "cell_type": "code",
      "metadata": {
        "colab": {
          "base_uri": "https://localhost:8080/",
          "height": 35
        },
        "id": "X2hfBkJS5YRC",
        "outputId": "ad3d2c2b-beca-420d-f8b2-23f6153f4fdc"
      },
      "source": [
        "run_query(\"test_OK\")"
      ],
      "execution_count": 13,
      "outputs": [
        {
          "output_type": "execute_result",
          "data": {
            "application/vnd.google.colaboratory.intrinsic+json": {
              "type": "string"
            },
            "text/plain": [
              "'query test_function at test_OK'"
            ]
          },
          "metadata": {},
          "execution_count": 13
        }
      ]
    },
    {
      "cell_type": "markdown",
      "metadata": {
        "id": "E9izbbzq6xgG"
      },
      "source": [
        "Mais maintenant, nous voulons réutiliser ce même décorateur dans une méthode de classe, où nous retrouvons le même problème :"
      ]
    },
    {
      "cell_type": "code",
      "metadata": {
        "id": "T3Zdw2nQ63HW"
      },
      "source": [
        "class DataHandler:\n",
        "    \"\"\"The decorator will not work for methods as it is defined.\"\"\"\n",
        "\n",
        "    @inject_db_driver\n",
        "    def run_query(self, driver):\n",
        "        return driver.execute(self.__class__.__name__)\n",
        "\n"
      ],
      "execution_count": 16,
      "outputs": []
    },
    {
      "cell_type": "markdown",
      "metadata": {
        "id": "7yktKZ8r7L4E"
      },
      "source": [
        "\n",
        "Nous essayons d'utiliser ce décorateur, seulement pour nous rendre compte qu'il ne fonctionne pas :"
      ]
    },
    {
      "cell_type": "code",
      "metadata": {
        "colab": {
          "base_uri": "https://localhost:8080/",
          "height": 163
        },
        "id": "Ags_9gw-7OSB",
        "outputId": "241dab49-e3a6-4324-b5ea-10edc4a94273"
      },
      "source": [
        "DataHandler().run_query(\"test_fails\")"
      ],
      "execution_count": 17,
      "outputs": [
        {
          "output_type": "error",
          "ename": "TypeError",
          "evalue": "ignored",
          "traceback": [
            "\u001b[0;31m---------------------------------------------------------------------------\u001b[0m",
            "\u001b[0;31mTypeError\u001b[0m                                 Traceback (most recent call last)",
            "\u001b[0;32m<ipython-input-17-33911e5917dd>\u001b[0m in \u001b[0;36m<module>\u001b[0;34m()\u001b[0m\n\u001b[0;32m----> 1\u001b[0;31m \u001b[0mDataHandler\u001b[0m\u001b[0;34m(\u001b[0m\u001b[0;34m)\u001b[0m\u001b[0;34m.\u001b[0m\u001b[0mrun_query\u001b[0m\u001b[0;34m(\u001b[0m\u001b[0;34m\"test_fails\"\u001b[0m\u001b[0;34m)\u001b[0m\u001b[0;34m\u001b[0m\u001b[0;34m\u001b[0m\u001b[0m\n\u001b[0m",
            "\u001b[0;31mTypeError\u001b[0m: wrapped() takes 1 positional argument but 2 were given"
          ]
        }
      ]
    },
    {
      "cell_type": "markdown",
      "metadata": {
        "id": "Nje4MH8b7V5L"
      },
      "source": [
        "Quel est le problème ? \n",
        "\n",
        "La méthode de la classe est définie avec un argument supplémentaire : self\n",
        "\n",
        "Les méthodes ne sont qu'un type particulier de fonction qui reçoit self (l'objet sur lequel elles sont définies) comme premier paramètre.\n",
        "\n",
        "Par conséquent, dans ce cas, le décorateur (conçu pour fonctionner avec un seul paramètre, nommé dbstring) interprétera que self, et appellera la méthode en passant la chaîne à la place de self, et rien à la place du deuxième paramètre , à savoir la chaîne que nous passons.\n",
        "\n",
        "Pour résoudre ce problème, nous devons créer un décorateur qui fonctionnera également pour les méthodes et les fonctions, et nous le faisons en le définissant comme un objet décorateur qui implémente également le descripteur de protocole.\n",
        "\n",
        "Les descripteurs sont expliqués en détail au guide 7, Générateurs, itérateurs et programmation asynchrone, donc pour l'instant, nous pouvons simplement considérer cela comme une recette qui fera fonctionner le décorateur.\n",
        "\n",
        "\n",
        "La solution est d'implémenter le décorateur comme un objet de classe et de faire de cet objet une description, en implémentant la méthode __get__ :"
      ]
    },
    {
      "cell_type": "code",
      "metadata": {
        "id": "wNdqg3Oj8oQ8"
      },
      "source": [
        "\n",
        "from functools import wraps\n",
        "from types import MethodType\n",
        "\n",
        "\n",
        "class DBDriver:\n",
        "    def __init__(self, dbstring: str) -> None:\n",
        "        self.dbstring = dbstring\n",
        "\n",
        "    def execute(self, query: str) -> str:\n",
        "        return f\"query {query} at {self.dbstring}\"\n",
        "\n",
        "\n",
        "class inject_db_driver:\n",
        "    \"\"\"Convert a string to a DBDriver instance and pass this to the wrapped\n",
        "    function.\n",
        "    \"\"\"\n",
        "\n",
        "    def __init__(self, function) -> None:\n",
        "        self.function = function\n",
        "        wraps(self.function)(self)\n",
        "\n",
        "    def __call__(self, dbstring):\n",
        "        return self.function(DBDriver(dbstring))\n",
        "\n",
        "    def __get__(self, instance, owner):\n",
        "        if instance is None:\n",
        "            return self\n",
        "        return self.__class__(MethodType(self.function, instance))\n",
        "\n",
        "\n",
        "@inject_db_driver\n",
        "def run_query(driver):\n",
        "    return driver.execute(\"test_function_2\")\n",
        "\n",
        "\n",
        "class DataHandler:\n",
        "    @inject_db_driver\n",
        "    def run_query(self, driver):\n",
        "        return driver.execute(\"test_method_2\")"
      ],
      "execution_count": null,
      "outputs": []
    },
    {
      "cell_type": "markdown",
      "metadata": {
        "id": "wWJ2HOCL87xF"
      },
      "source": [
        "Les détails sur les descripteurs seront expliqués au guide 6, Tirer le meilleur parti de nos objets avec des descripteurs, mais pour les besoins de cet exemple, nous pouvons maintenant dire que ce qu'il fait est en fait de relier l'appelable qu'il décore à une méthode, ce qui signifie qu'il lier la fonction à l'objet, puis recréer le décorateur avec ce nouvel appelable.\n",
        "\n",
        "Pour les fonctions, cela fonctionne toujours, car il n'appellera pas du tout la méthode __get__."
      ]
    },
    {
      "cell_type": "markdown",
      "metadata": {
        "id": "QwdJ_mDa9kwl"
      },
      "source": [
        "## Décorateurs et code propre\n",
        "\n",
        "Maintenant que nous en savons plus sur les décorateurs, comment les écrire et éviter les problèmes courants, il est temps de les faire passer au niveau supérieur et de voir comment nous pouvons tirer parti de ce que nous avons appris pour obtenir un meilleur logiciel.\n",
        "\n",
        "Nous avons brièvement abordé ce sujet dans les sections précédentes, mais il s'agissait d'exemples plus proches du code, car les suggestions faisaient référence à la façon de rendre des lignes (ou sections) spécifiques du code plus lisibles.\n",
        "\n",
        "Les sujets abordés à partir de maintenant portent sur des principes de conception plus généraux. Nous avons déjà visité certaines de ces idées dans les guides précédents, mais la perspective ici est de comprendre comment nous utilisons les décorateurs à de telles fins."
      ]
    },
    {
      "cell_type": "markdown",
      "metadata": {
        "id": "ZWbps_Fo-OmQ"
      },
      "source": [
        "## Composition sur héritage\n",
        "\n",
        "Nous avons déjà discuté brièvement du fait qu'en général, il est préférable d'avoir la composition plutôt que l'héritage car ce dernier pose certains problèmes de couplage des composants du code. Dans le livre Design Patterns: Elements of Reusable Object-Oriented Software (DESIG01) , la plupart des idées autour du modèle de conception sont basées sur l'idée suivante : \n",
        "\n",
        "  \n",
        "* privilégier la composition à l'héritage de classe.\n",
        "\n",
        "Dans le guide 2 , Pythonic Code, j'ai introduit l'idée d'utiliser la méthode magique __getattr__ pour résoudre dynamiquement les attributs sur les objets. J'ai également donné l'exemple selon lequel cela pourrait être utilisé pour résoudre automatiquement les attributs en fonction d'une convention de nommage si cela était requis par un framework externe, par exemple. Explorons deux versions différentes de la résolution de ce problème.\n",
        "\n",
        "\n",
        "Pour cet exemple, supposons que nous interagissions avec un framework qui a la convention de nommage d'appeler des attributs avec le préfixe \"resolve_\" pour résoudre un attribut, mais nos objets de domaine n'ont que ces attributs sans le préfixe \"resolve_\" . \n",
        "\n",
        "Clairement, nous ne voulons pas écrire beaucoup de méthodes répétitives nommées \"resolve_x\" pour chaque attribut que nous avons, donc la première idée est de tirer parti de la méthode magique __getattr__ susmentionnée et de la placer dans une classe de base :"
      ]
    },
    {
      "cell_type": "code",
      "metadata": {
        "id": "aQeCZh_l_Lar"
      },
      "source": [
        "from dataclasses import dataclass\n",
        "\n",
        "\n",
        "class BaseResolverMixin:\n",
        "    def __getattr__(self, attr: str):\n",
        "        if attr.startswith(\"resolve_\"):\n",
        "            *_, actual_attr = attr.partition(\"resolve_\")\n",
        "        else:\n",
        "            actual_attr = attr\n",
        "        try:\n",
        "            return self.__dict__[actual_attr]\n",
        "        except KeyError as e:\n",
        "            raise AttributeError from e\n",
        "  \n",
        "@dataclass\n",
        "class Customer(BaseResolverMixin):\n",
        "    customer_id: str\n",
        "    name: str\n",
        "    address: str"
      ],
      "execution_count": 18,
      "outputs": []
    },
    {
      "cell_type": "markdown",
      "metadata": {
        "id": "q5a43G33_rk3"
      },
      "source": [
        "Cela fera l'affaire, mais pouvons-nous faire mieux ? Nous pourrions concevoir un décorateur de classe pour définir cette méthode directement :"
      ]
    },
    {
      "cell_type": "code",
      "metadata": {
        "id": "6EKbrSv7BFot"
      },
      "source": [
        "from dataclasses import dataclass\n",
        "\n",
        "\n",
        "def _resolver_method(self, attr):\n",
        "    \"\"\"The resolution method of attributes that will replace __getattr__.\"\"\"\n",
        "    if attr.startswith(\"resolve_\"):\n",
        "        *_, actual_attr = attr.partition(\"resolve_\")\n",
        "    else:\n",
        "        actual_attr = attr\n",
        "    try:\n",
        "        return self.__dict__[actual_attr]\n",
        "    except KeyError as e:\n",
        "        raise AttributeError from e\n",
        "\n",
        "\n",
        "def with_resolver(cls):\n",
        "    \"\"\"Set the custom resolver method to a class.\"\"\"\n",
        "    cls.__getattr__ = _resolver_method\n",
        "    return cls\n",
        "\n",
        "\n",
        "@dataclass\n",
        "@with_resolver\n",
        "class Customer:\n",
        "    customer_id: str\n",
        "    name: str\n",
        "    address: str"
      ],
      "execution_count": 29,
      "outputs": []
    },
    {
      "cell_type": "markdown",
      "metadata": {
        "id": "LIxdKmlTBb59"
      },
      "source": [
        "Les deux versions respecteraient le comportement suivant :"
      ]
    },
    {
      "cell_type": "code",
      "metadata": {
        "colab": {
          "base_uri": "https://localhost:8080/"
        },
        "id": "5s-452djBiK5",
        "outputId": "7a1176fa-d32f-4f71-fb3c-29459ab5cda0"
      },
      "source": [
        "customer = Customer(\"1\", \"name\", \"address\")\n",
        "print(customer.resolve_customer_id)\n",
        "print(customer.resolve_name)"
      ],
      "execution_count": 30,
      "outputs": [
        {
          "output_type": "stream",
          "name": "stdout",
          "text": [
            "1\n",
            "name\n"
          ]
        }
      ]
    },
    {
      "cell_type": "markdown",
      "metadata": {
        "id": "2Cum-MbMBv3k"
      },
      "source": [
        "Premièrement, nous avons la méthode de résolution en tant que fonction autonome qui respecte la signature de l'apparence du __getattr__ d'origine (c'est pourquoi j'ai même conservé self comme nom du premier paramètre, pour que cette fonction devienne intentionnellement une méthode).\n",
        "\n",
        "Le reste du code semble assez simple. Notre décorateur ne définit la méthode que sur la classe qu'il reçoit par paramètre, puis nous appliquons le décorateur à notre classe sans avoir à utiliser l'héritage.\n",
        "\n",
        "En quoi est-ce un peu mieux que l'exemple précédent ? Pour commencer, nous pouvons affirmer que l'utilisation du décorateur implique que nous utilisons la composition (prendre une classe, la modifier et en renvoyer une nouvelle) par rapport à l'héritage, de sorte que notre code est moins couplé à la classe de base que nous avions au début.\n",
        "\n",
        "De plus, on peut dire que l'utilisation de l'héritage (via une classe mixin) dans le premier exemple était plutôt ctitieuse. Nous n'utilisions pas l'héritage pour créer une version plus spécialisée de la classe, mais uniquement pour tirer parti de la méthode __getattr__. Ce serait mauvais pour deux raisons (complémentaires) : d'abord, l'héritage n'est pas le meilleur moyen de réutiliser du code. Un bon code est réutilisé en ayant de petites abstractions cohérentes, sans créer de hiérarchies.\n",
        "\n",
        "Deuxièmement, rappelez-vous des guides précédents que la création d'une sous-classe devrait suivre l'idée de spécialisation, le type de relation « est un ». Réfléchissez si, d'un point de vue conceptuel, un client est bien un BaseResolverMivin (et qu'est-ce que c'est, d'ailleurs ?). Pour éclaircir ce deuxième point, imaginez que vous ayez une hiérarchie comme celle-ci :\n",
        "\n",
        "\n",
        "    class Connection: pass\n",
        "    class EncryptedConnection(Connection): pass\n",
        "\n",
        "Dans ce cas, l'utilisation de l'héritage est sans doute correcte, après tout, une connexion cryptée est un type de connexion plus spécifique. Mais quel serait un type plus spécifique de BaseResolverMixin ? Il s'agit d'une classe mixin, il est donc prévu qu'elle soit mélangée dans la hiérarchie avec d'autres classes (en utilisant l'héritage multiple). L'utilisation de cette classe de mix-in est purement pragmatique et à des fins d'implémentation. Ne vous méprenez pas, il s'agit d'un livre pragmatique, vous devrez donc faire face à des classes de mix-in dans votre expérience professionnelle, et il est parfaitement normal de les utiliser, mais si nous pouvons éviter cette abstraction purement implémentationnelle, et remplacez-le par quelque chose qui ne compromet pas nos objets de domaine (dans ce cas la classe Customer), c'est encore mieux.\n",
        "\n",
        "Il y a une autre capacité passionnante du nouveau design, qui est l'extensibilité. Nous avons vu comment les décorateurs peuvent être paramétrés. Imaginez la exibilité que nous pourrions atteindre dans notre conception si nous permettions au décorateur de définir n'importe quelle fonction de résolveur, pas seulement celle que nous avons définie."
      ]
    },
    {
      "cell_type": "markdown",
      "metadata": {
        "id": "ZsNG6o4HEA1U"
      },
      "source": [
        "## Décorateurs et séparation des préoccupations\n",
        "\n",
        "Le dernier point de la liste précédente est si important qu'il mérite une section à part. Nous avons déjà exploré l'idée de réutiliser le code et remarqué qu'un élément clé de la réutilisation du code est d'avoir des composants cohérents. Cela signifie qu'ils devraient avoir le niveau minimum de responsabilité : faire une chose, une seule chose, et la faire bien. Plus nos composants sont petits, plus ils sont réutilisables et plus ils peuvent être appliqués dans un contexte différent sans entraîner de comportement supplémentaire qui provoquera des couplages et des dépendances, ce qui rendra le logiciel rigide.\n",
        "\n",
        "\n",
        "Pour vous montrer ce que cela signifie, reprenons l'un des décorateurs que nous avons utilisés dans un exemple précédent. Nous avons créé un décorateur qui a tracé l'exécution de certaines fonctions avec un code similaire au suivant :\n",
        "\n"
      ]
    },
    {
      "cell_type": "code",
      "metadata": {
        "id": "SwDUjBqGEi7v"
      },
      "source": [
        "import functools\n",
        "import time\n",
        "\n",
        "import logging\n",
        "logger = logging.getLogger(__name__)\n",
        "\n",
        "\n",
        "def traced_function(function):\n",
        "    @functools.wraps(function)\n",
        "    def wrapped(*args, **kwargs):\n",
        "        logger.info(\"started execution of %s\", function.__qualname__)\n",
        "        start_time = time.time()\n",
        "        result = function(*args, **kwargs)\n",
        "        logger.info(\n",
        "            \"function %s took %.2fs\",\n",
        "            function.__qualname__,\n",
        "            time.time() - start_time,\n",
        "        )\n",
        "        return result\n",
        "\n",
        "    return "
      ],
      "execution_count": 31,
      "outputs": []
    },
    {
      "cell_type": "markdown",
      "metadata": {
        "id": "yRqAiDdpEx6c"
      },
      "source": [
        "Or, ce décorateur, pendant qu'il travaille, a un problème : il fait plus d'une chose. Il enregistre qu'une fonction particulière vient d'être invoquée, et enregistre également le temps qu'il a fallu pour s'exécuter. Chaque fois que nous utilisons ce décorateur, nous assumons ces deux responsabilités, même si nous n'en voulions qu'une. Celle-ci doit être décomposée en décorateurs plus petits, chacun avec une responsabilité plus spécifique et limitée :"
      ]
    },
    {
      "cell_type": "code",
      "metadata": {
        "id": "0ORQHFEQFB4z"
      },
      "source": [
        "import time\n",
        "from functools import wraps\n",
        "\n",
        "import logging\n",
        "logger = logging.getLogger(__name__)\n",
        "\n",
        "\n",
        "def log_execution(function):\n",
        "    @wraps(function)\n",
        "    def wrapped(*args, **kwargs):\n",
        "        logger.info(\"started execution of %s\", function.__qualname__)\n",
        "        return function(*kwargs, **kwargs)\n",
        "\n",
        "    return wrapped\n",
        "\n",
        "\n",
        "def measure_time(function):\n",
        "    @wraps(function)\n",
        "    def wrapped(*args, **kwargs):\n",
        "        start_time = time.time()\n",
        "        result = function(*args, **kwargs)\n",
        "\n",
        "        logger.info(\n",
        "            \"function %s took %.2f\",\n",
        "            function.__qualname__,\n",
        "            time.time() - start_time,\n",
        "        )\n",
        "        return result\n",
        "\n",
        "    return wrapped\n",
        "\n",
        "\n",
        "@measure_time\n",
        "@log_execution\n",
        "def operation():\n",
        "    time.sleep(3)\n",
        "    logger.info(\"running operation...\")\n",
        "    return 33"
      ],
      "execution_count": null,
      "outputs": []
    },
    {
      "cell_type": "markdown",
      "metadata": {
        "id": "J7rLkeRvFPmd"
      },
      "source": [
        "Remarquez comment l'ordre dans lequel les décorateurs sont appliqués est également important.\n",
        "\n",
        "."
      ]
    }
  ]
}